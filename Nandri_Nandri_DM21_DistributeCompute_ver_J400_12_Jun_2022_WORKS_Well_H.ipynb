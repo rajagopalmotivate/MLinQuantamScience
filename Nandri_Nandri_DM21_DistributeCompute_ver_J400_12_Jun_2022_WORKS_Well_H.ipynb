{
  "cells": [
    {
      "cell_type": "markdown",
      "metadata": {
        "id": "view-in-github",
        "colab_type": "text"
      },
      "source": [
        "<a href=\"https://colab.research.google.com/github/rajagopalmotivate/MLinQuantamScience/blob/main/Nandri_Nandri_DM21_DistributeCompute_ver_J400_12_Jun_2022_WORKS_Well_H.ipynb\" target=\"_parent\"><img src=\"https://colab.research.google.com/assets/colab-badge.svg\" alt=\"Open In Colab\"/></a>"
      ]
    },
    {
      "cell_type": "markdown",
      "metadata": {
        "id": "cjz0UJCXln1O"
      },
      "source": [
        "#Simple comparision of DFT vs NN \n",
        "## Hypothesis: NN performs as good as DFT \n",
        "## Experiment: Compare "
      ]
    },
    {
      "cell_type": "code",
      "execution_count": 1,
      "metadata": {
        "id": "I3Zqx3aO52s-"
      },
      "outputs": [],
      "source": [
        "EXPNO ='EXP_2101_H'"
      ]
    },
    {
      "cell_type": "code",
      "execution_count": 2,
      "metadata": {
        "id": "zVPfjAeVrzR_"
      },
      "outputs": [],
      "source": [
        "firstTimeorRestart = True"
      ]
    },
    {
      "cell_type": "code",
      "execution_count": 3,
      "metadata": {
        "id": "Zk4fl4t1waWn"
      },
      "outputs": [],
      "source": [
        "listBasisSet = ['6-21g' , 'cc-pvqz' , 'def2-qzvp'  ]\n",
        "\n",
        "listBasisSet = ['def2-QZVP' , 'cc-pCVTZ' ,  'aug-pc-3' , 'aug-cc-pV(Q+d)Z', 'aug-cc-pCV5Z', 'aug-ccpwCV5Z', '6-21g']\n",
        "\n",
        "listBasisSet = ['cc-pCVDZ' , 'def2-QZVP' , 'cc-pCVTZ' ,  'aug-pc-3' , 'aug-cc-pV(Q+d)Z', 'aug-cc-pCV5Z', 'aug-ccpwCV5Z', '6-31g', 'STO-3G' , 'def2-QZVPPD' ]\n",
        "\n",
        "listBasisSet = ['def2-QZVP' , 'cc-pCVTZ', 'cc-pVQZ' , 'cc-pVXZ', 'aug-cc-pV(Q+d)Z' , '6-31g' ]\n",
        "\n",
        "listBasisSet = [   'cc-pVQZ' , 'def2-QZVP' , 'cc-pCVTZ',  'cc-pVXZ' , '6-31g' ]\n",
        "\n",
        "listBasisSet = [   'cc-pVQZ' , 'def2-QZVP' , 'cc-pCVQZ'  ]\n",
        "\n",
        "listBasisSet = [   'cc-pVQZ' , 'cc-pVTZ', 'cc-pVDZ',  'cc-pCVQZ', 'cc-pCV5Z',  'def2-QZVP', 'def2-TCVPPD', '6-31g' ,'STO-3G'   ]\n",
        "\n",
        "listBasisSet = [   'cc-pVQZ', 'def2-QZVP']\n",
        "\n",
        "listBasisSet = [  'cc-pV7Z', 'cc-pV6Z',  'cc-pVQZ' , 'cc-pVDZ' , 'cc-pCVQZ',    'def2-QZVP', 'def2-7CVPPD', '6-31g' ,'STO-3G'   ]\n",
        "\n",
        "\n",
        "listBasisSet = [ 'cc-pV6Z', 'cc-pVQZ' , 'cc-pVDZ' , \"aug'-def2-QZVP\", '6-31g' ,  'aug-pcJ-4', 'cc-pCV(Q+d)Z']\n",
        "\n",
        "listBasisSet = [ 'cc-pV6Z', 'cc-pVQZ' , 'cc-pVDZ'   '6-31g' ]\n",
        "\n",
        "#listBasisSet = [ 'cc-pVQZ' , \"aug'-def2-QZVP\"]\n",
        " "
      ]
    },
    {
      "cell_type": "code",
      "execution_count": 4,
      "metadata": {
        "colab": {
          "base_uri": "https://localhost:8080/"
        },
        "id": "XG1_wImSudEF",
        "outputId": "33d538d6-ef9c-4f17-f820-718a0d1fdb9f"
      },
      "outputs": [
        {
          "output_type": "stream",
          "name": "stdout",
          "text": [
            "Weight  \t Element     \t  SPIN\n"
          ]
        }
      ],
      "source": [
        "dictPeriodicTable = {'H': 1, 'He': 2, 'Li': 3, 'Be': 4, 'B': 5, 'C': 6, 'N': 7, 'O': 8, 'F': 9, 'Ne': 10 }\n",
        "\n",
        "dictPeriodicTable = {'H': 1, 'He': 2, 'Li': 3, 'Be': 4, 'B': 5, 'C': 6, 'N': 7, 'O': 8, 'F': 9, 'Ne': 10 , 'Na':11, 'Mg':12 , 'Al':13, 'Si':14, 'P':15, 'S':16 , 'Cl':17, 'Ar':18}\n",
        "\n",
        "\n",
        "dictPeriodicTable = {'H': 1}\n",
        "  \n",
        "dictPeriodicTableSpinValues = {'H': 1,  'He': 0, 'Li': 1, 'Be': 0, 'B': 1, 'C': 0, 'N': 1, 'O': 0, 'F': 1, 'Ne': 0 }\n",
        "\n",
        "\n",
        "\n",
        "print(str( 'Weight'  + ' ' +   ' \\t Element     \\t  SPIN'    ))\n",
        " \n",
        " \n",
        "  \n"
      ]
    },
    {
      "cell_type": "code",
      "execution_count": 5,
      "metadata": {
        "colab": {
          "base_uri": "https://localhost:8080/"
        },
        "id": "FWO3uFau6Gs-",
        "outputId": "cd650f02-164c-4dd4-fdc2-d0feffdcd7b3"
      },
      "outputs": [
        {
          "output_type": "stream",
          "name": "stdout",
          "text": [
            "Mounted at /content/drive\n"
          ]
        }
      ],
      "source": [
        "from google.colab import drive\n",
        "drive.mount('/content/drive')"
      ]
    },
    {
      "cell_type": "markdown",
      "metadata": {
        "id": "f2n-glKykc7G"
      },
      "source": [
        "## Step 1: Install"
      ]
    },
    {
      "cell_type": "code",
      "execution_count": 6,
      "metadata": {
        "id": "iUe5ykKxr0Xu"
      },
      "outputs": [],
      "source": [
        "#!pip install git+git://github.com/deepmind/deepmind-research.git#subdirectory=density_functional_approximation_dm21"
      ]
    },
    {
      "cell_type": "code",
      "execution_count": 7,
      "metadata": {
        "colab": {
          "base_uri": "https://localhost:8080/"
        },
        "id": "s_s-VRZZaUO4",
        "outputId": "6de644d8-684a-4a05-853c-1776acba0ce7"
      },
      "outputs": [
        {
          "output_type": "stream",
          "name": "stdout",
          "text": [
            "Cloning into 'deepmind-research'...\n",
            "remote: Enumerating objects: 2581, done.\u001b[K\n",
            "remote: Counting objects: 100% (209/209), done.\u001b[K\n",
            "remote: Compressing objects: 100% (155/155), done.\u001b[K\n",
            "remote: Total 2581 (delta 55), reused 201 (delta 54), pack-reused 2372\u001b[K\n",
            "Receiving objects: 100% (2581/2581), 92.05 MiB | 31.68 MiB/s, done.\n",
            "Resolving deltas: 100% (1204/1204), done.\n"
          ]
        }
      ],
      "source": [
        "!git clone https://github.com/deepmind/deepmind-research.git\n"
      ]
    },
    {
      "cell_type": "code",
      "execution_count": 8,
      "metadata": {
        "colab": {
          "base_uri": "https://localhost:8080/"
        },
        "id": "RciiP-MOaV-L",
        "outputId": "dde41014-8c5e-4621-e2be-8881dc53ae42"
      },
      "outputs": [
        {
          "output_type": "stream",
          "name": "stdout",
          "text": [
            "/content/deepmind-research/density_functional_approximation_dm21\n"
          ]
        }
      ],
      "source": [
        "cd deepmind-research/density_functional_approximation_dm21\n"
      ]
    },
    {
      "cell_type": "code",
      "execution_count": 9,
      "metadata": {
        "colab": {
          "base_uri": "https://localhost:8080/",
          "height": 36
        },
        "id": "qgN8ePgcaXzx",
        "outputId": "0d1c0c33-27f2-44cf-8a70-bfc00ce151ff"
      },
      "outputs": [
        {
          "output_type": "execute_result",
          "data": {
            "text/plain": [
              "'/content/deepmind-research/density_functional_approximation_dm21'"
            ],
            "application/vnd.google.colaboratory.intrinsic+json": {
              "type": "string"
            }
          },
          "metadata": {},
          "execution_count": 9
        }
      ],
      "source": [
        "pwd"
      ]
    },
    {
      "cell_type": "code",
      "execution_count": 10,
      "metadata": {
        "colab": {
          "base_uri": "https://localhost:8080/"
        },
        "id": "pfmCosvDaYcx",
        "outputId": "d542ccf7-14af-467e-de64-68d3135538f9"
      },
      "outputs": [
        {
          "output_type": "stream",
          "name": "stdout",
          "text": [
            "Looking in indexes: https://pypi.org/simple, https://us-python.pkg.dev/colab-wheels/public/simple/\n",
            "Processing /content/deepmind-research/density_functional_approximation_dm21\n",
            "\u001b[33m  DEPRECATION: A future pip version will change local packages to be built in-place without first copying to a temporary directory. We recommend you use --use-feature=in-tree-build to test your packages with this new behavior before it becomes the default.\n",
            "   pip 21.3 will remove support for this functionality. You can find discussion regarding this at https://github.com/pypa/pip/issues/7555.\u001b[0m\n",
            "Requirement already satisfied: absl-py in /usr/local/lib/python3.7/dist-packages (from density-functional-approximation-dm21==0.1) (1.1.0)\n",
            "Requirement already satisfied: attrs in /usr/local/lib/python3.7/dist-packages (from density-functional-approximation-dm21==0.1) (21.4.0)\n",
            "Requirement already satisfied: h5py<3.3.0 in /usr/local/lib/python3.7/dist-packages (from density-functional-approximation-dm21==0.1) (3.1.0)\n",
            "Requirement already satisfied: numpy in /usr/local/lib/python3.7/dist-packages (from density-functional-approximation-dm21==0.1) (1.21.6)\n",
            "Collecting pyscf\n",
            "  Downloading pyscf-2.0.1-cp37-cp37m-manylinux1_x86_64.whl (37.5 MB)\n",
            "\u001b[K     |████████████████████████████████| 37.5 MB 339 kB/s \n",
            "\u001b[?25hRequirement already satisfied: tensorflow in /usr/local/lib/python3.7/dist-packages (from density-functional-approximation-dm21==0.1) (2.8.2+zzzcolab20220527125636)\n",
            "Requirement already satisfied: tensorflow_hub in /usr/local/lib/python3.7/dist-packages (from density-functional-approximation-dm21==0.1) (0.12.0)\n",
            "Requirement already satisfied: cached-property in /usr/local/lib/python3.7/dist-packages (from h5py<3.3.0->density-functional-approximation-dm21==0.1) (1.5.2)\n",
            "Requirement already satisfied: scipy!=1.5.0,!=1.5.1 in /usr/local/lib/python3.7/dist-packages (from pyscf->density-functional-approximation-dm21==0.1) (1.4.1)\n",
            "Requirement already satisfied: keras<2.9,>=2.8.0rc0 in /usr/local/lib/python3.7/dist-packages (from tensorflow->density-functional-approximation-dm21==0.1) (2.8.0)\n",
            "Requirement already satisfied: google-pasta>=0.1.1 in /usr/local/lib/python3.7/dist-packages (from tensorflow->density-functional-approximation-dm21==0.1) (0.2.0)\n",
            "Requirement already satisfied: tensorflow-estimator<2.9,>=2.8 in /usr/local/lib/python3.7/dist-packages (from tensorflow->density-functional-approximation-dm21==0.1) (2.8.0)\n",
            "Requirement already satisfied: astunparse>=1.6.0 in /usr/local/lib/python3.7/dist-packages (from tensorflow->density-functional-approximation-dm21==0.1) (1.6.3)\n",
            "Requirement already satisfied: tensorflow-io-gcs-filesystem>=0.23.1 in /usr/local/lib/python3.7/dist-packages (from tensorflow->density-functional-approximation-dm21==0.1) (0.26.0)\n",
            "Requirement already satisfied: wrapt>=1.11.0 in /usr/local/lib/python3.7/dist-packages (from tensorflow->density-functional-approximation-dm21==0.1) (1.14.1)\n",
            "Requirement already satisfied: tensorboard<2.9,>=2.8 in /usr/local/lib/python3.7/dist-packages (from tensorflow->density-functional-approximation-dm21==0.1) (2.8.0)\n",
            "Requirement already satisfied: grpcio<2.0,>=1.24.3 in /usr/local/lib/python3.7/dist-packages (from tensorflow->density-functional-approximation-dm21==0.1) (1.46.3)\n",
            "Requirement already satisfied: six>=1.12.0 in /usr/local/lib/python3.7/dist-packages (from tensorflow->density-functional-approximation-dm21==0.1) (1.15.0)\n",
            "Requirement already satisfied: keras-preprocessing>=1.1.1 in /usr/local/lib/python3.7/dist-packages (from tensorflow->density-functional-approximation-dm21==0.1) (1.1.2)\n",
            "Requirement already satisfied: flatbuffers>=1.12 in /usr/local/lib/python3.7/dist-packages (from tensorflow->density-functional-approximation-dm21==0.1) (2.0)\n",
            "Requirement already satisfied: gast>=0.2.1 in /usr/local/lib/python3.7/dist-packages (from tensorflow->density-functional-approximation-dm21==0.1) (0.5.3)\n",
            "Requirement already satisfied: termcolor>=1.1.0 in /usr/local/lib/python3.7/dist-packages (from tensorflow->density-functional-approximation-dm21==0.1) (1.1.0)\n",
            "Requirement already satisfied: protobuf<3.20,>=3.9.2 in /usr/local/lib/python3.7/dist-packages (from tensorflow->density-functional-approximation-dm21==0.1) (3.17.3)\n",
            "Requirement already satisfied: libclang>=9.0.1 in /usr/local/lib/python3.7/dist-packages (from tensorflow->density-functional-approximation-dm21==0.1) (14.0.1)\n",
            "Requirement already satisfied: setuptools in /usr/local/lib/python3.7/dist-packages (from tensorflow->density-functional-approximation-dm21==0.1) (57.4.0)\n",
            "Requirement already satisfied: typing-extensions>=3.6.6 in /usr/local/lib/python3.7/dist-packages (from tensorflow->density-functional-approximation-dm21==0.1) (4.2.0)\n",
            "Requirement already satisfied: opt-einsum>=2.3.2 in /usr/local/lib/python3.7/dist-packages (from tensorflow->density-functional-approximation-dm21==0.1) (3.3.0)\n",
            "Requirement already satisfied: wheel<1.0,>=0.23.0 in /usr/local/lib/python3.7/dist-packages (from astunparse>=1.6.0->tensorflow->density-functional-approximation-dm21==0.1) (0.37.1)\n",
            "Requirement already satisfied: markdown>=2.6.8 in /usr/local/lib/python3.7/dist-packages (from tensorboard<2.9,>=2.8->tensorflow->density-functional-approximation-dm21==0.1) (3.3.7)\n",
            "Requirement already satisfied: requests<3,>=2.21.0 in /usr/local/lib/python3.7/dist-packages (from tensorboard<2.9,>=2.8->tensorflow->density-functional-approximation-dm21==0.1) (2.23.0)\n",
            "Requirement already satisfied: tensorboard-plugin-wit>=1.6.0 in /usr/local/lib/python3.7/dist-packages (from tensorboard<2.9,>=2.8->tensorflow->density-functional-approximation-dm21==0.1) (1.8.1)\n",
            "Requirement already satisfied: werkzeug>=0.11.15 in /usr/local/lib/python3.7/dist-packages (from tensorboard<2.9,>=2.8->tensorflow->density-functional-approximation-dm21==0.1) (1.0.1)\n",
            "Requirement already satisfied: tensorboard-data-server<0.7.0,>=0.6.0 in /usr/local/lib/python3.7/dist-packages (from tensorboard<2.9,>=2.8->tensorflow->density-functional-approximation-dm21==0.1) (0.6.1)\n",
            "Requirement already satisfied: google-auth<3,>=1.6.3 in /usr/local/lib/python3.7/dist-packages (from tensorboard<2.9,>=2.8->tensorflow->density-functional-approximation-dm21==0.1) (1.35.0)\n",
            "Requirement already satisfied: google-auth-oauthlib<0.5,>=0.4.1 in /usr/local/lib/python3.7/dist-packages (from tensorboard<2.9,>=2.8->tensorflow->density-functional-approximation-dm21==0.1) (0.4.6)\n",
            "Requirement already satisfied: pyasn1-modules>=0.2.1 in /usr/local/lib/python3.7/dist-packages (from google-auth<3,>=1.6.3->tensorboard<2.9,>=2.8->tensorflow->density-functional-approximation-dm21==0.1) (0.2.8)\n",
            "Requirement already satisfied: cachetools<5.0,>=2.0.0 in /usr/local/lib/python3.7/dist-packages (from google-auth<3,>=1.6.3->tensorboard<2.9,>=2.8->tensorflow->density-functional-approximation-dm21==0.1) (4.2.4)\n",
            "Requirement already satisfied: rsa<5,>=3.1.4 in /usr/local/lib/python3.7/dist-packages (from google-auth<3,>=1.6.3->tensorboard<2.9,>=2.8->tensorflow->density-functional-approximation-dm21==0.1) (4.8)\n",
            "Requirement already satisfied: requests-oauthlib>=0.7.0 in /usr/local/lib/python3.7/dist-packages (from google-auth-oauthlib<0.5,>=0.4.1->tensorboard<2.9,>=2.8->tensorflow->density-functional-approximation-dm21==0.1) (1.3.1)\n",
            "Requirement already satisfied: importlib-metadata>=4.4 in /usr/local/lib/python3.7/dist-packages (from markdown>=2.6.8->tensorboard<2.9,>=2.8->tensorflow->density-functional-approximation-dm21==0.1) (4.11.4)\n",
            "Requirement already satisfied: zipp>=0.5 in /usr/local/lib/python3.7/dist-packages (from importlib-metadata>=4.4->markdown>=2.6.8->tensorboard<2.9,>=2.8->tensorflow->density-functional-approximation-dm21==0.1) (3.8.0)\n",
            "Requirement already satisfied: pyasn1<0.5.0,>=0.4.6 in /usr/local/lib/python3.7/dist-packages (from pyasn1-modules>=0.2.1->google-auth<3,>=1.6.3->tensorboard<2.9,>=2.8->tensorflow->density-functional-approximation-dm21==0.1) (0.4.8)\n",
            "Requirement already satisfied: urllib3!=1.25.0,!=1.25.1,<1.26,>=1.21.1 in /usr/local/lib/python3.7/dist-packages (from requests<3,>=2.21.0->tensorboard<2.9,>=2.8->tensorflow->density-functional-approximation-dm21==0.1) (1.24.3)\n",
            "Requirement already satisfied: idna<3,>=2.5 in /usr/local/lib/python3.7/dist-packages (from requests<3,>=2.21.0->tensorboard<2.9,>=2.8->tensorflow->density-functional-approximation-dm21==0.1) (2.10)\n",
            "Requirement already satisfied: certifi>=2017.4.17 in /usr/local/lib/python3.7/dist-packages (from requests<3,>=2.21.0->tensorboard<2.9,>=2.8->tensorflow->density-functional-approximation-dm21==0.1) (2022.5.18.1)\n",
            "Requirement already satisfied: chardet<4,>=3.0.2 in /usr/local/lib/python3.7/dist-packages (from requests<3,>=2.21.0->tensorboard<2.9,>=2.8->tensorflow->density-functional-approximation-dm21==0.1) (3.0.4)\n",
            "Requirement already satisfied: oauthlib>=3.0.0 in /usr/local/lib/python3.7/dist-packages (from requests-oauthlib>=0.7.0->google-auth-oauthlib<0.5,>=0.4.1->tensorboard<2.9,>=2.8->tensorflow->density-functional-approximation-dm21==0.1) (3.2.0)\n",
            "Building wheels for collected packages: density-functional-approximation-dm21\n",
            "  Building wheel for density-functional-approximation-dm21 (setup.py) ... \u001b[?25l\u001b[?25hdone\n",
            "  Created wheel for density-functional-approximation-dm21: filename=density_functional_approximation_dm21-0.1-py3-none-any.whl size=6085418 sha256=d28af56a7e6e47f2a3ccf8fdac4ff8c57fd64032f1ce271f77e3b7a73b42781e\n",
            "  Stored in directory: /tmp/pip-ephem-wheel-cache-f38ra6af/wheels/3b/c5/70/0200d858561857222265157381fd4ad73ce078117b4821cd36\n",
            "Successfully built density-functional-approximation-dm21\n",
            "Installing collected packages: pyscf, density-functional-approximation-dm21\n",
            "Successfully installed density-functional-approximation-dm21-0.1 pyscf-2.0.1\n"
          ]
        }
      ],
      "source": [
        "!pip install .\n"
      ]
    },
    {
      "cell_type": "code",
      "execution_count": 10,
      "metadata": {
        "id": "5277iYdkaajo"
      },
      "outputs": [],
      "source": [
        ""
      ]
    },
    {
      "cell_type": "markdown",
      "metadata": {
        "id": "Eq-LQv17kkhc"
      },
      "source": [
        "## Step 2: Configure RAM optionally"
      ]
    },
    {
      "cell_type": "code",
      "execution_count": 11,
      "metadata": {
        "colab": {
          "base_uri": "https://localhost:8080/"
        },
        "id": "Y_W-hLjur8Pr",
        "outputId": "1bda6e42-ae57-4294-ba6e-387e8ccfac70"
      },
      "outputs": [
        {
          "output_type": "execute_result",
          "data": {
            "text/plain": [
              "4000"
            ]
          },
          "metadata": {},
          "execution_count": 11
        }
      ],
      "source": [
        "from pyscf import gto\n",
        "from pyscf import dft\n",
        "\n",
        "from pyscf import __config__\n",
        "MAX_MEMORY = getattr(__config__, 'MAX_MEMORY')\n",
        "MAX_MEMORY"
      ]
    },
    {
      "cell_type": "code",
      "execution_count": 12,
      "metadata": {
        "colab": {
          "base_uri": "https://localhost:8080/"
        },
        "id": "HYnC_d1zGtkp",
        "outputId": "b3df2fcc-399a-4e7e-925d-3c526a8e2432"
      },
      "outputs": [
        {
          "output_type": "stream",
          "name": "stdout",
          "text": [
            "Configured to use max RAM resources of  1111359\n"
          ]
        }
      ],
      "source": [
        "import psutil\n",
        "systemresources = psutil.virtual_memory()\n",
        "\n",
        "MAX_MEMORY = round( systemresources.available  * 0.00009)\n",
        "PYSCF_MAX_MEMORY  = MAX_MEMORY\n",
        "\n",
        "print('Configured to use max RAM resources of  ' + str(MAX_MEMORY))"
      ]
    },
    {
      "cell_type": "code",
      "execution_count": 13,
      "metadata": {
        "id": "XGAMq215KZ2t"
      },
      "outputs": [],
      "source": [
        "setattr(__config__, 'MAX_MEMORY', PYSCF_MAX_MEMORY)\n",
        "\n",
        "setattr(__config__, 'PYSCF_MAX_MEMORY', PYSCF_MAX_MEMORY)\n",
        "\n"
      ]
    },
    {
      "cell_type": "code",
      "execution_count": 14,
      "metadata": {
        "colab": {
          "base_uri": "https://localhost:8080/"
        },
        "id": "h_mNg2CxI4Ql",
        "outputId": "b8c754fc-420c-4c00-c280-442ad65dc2f8"
      },
      "outputs": [
        {
          "output_type": "execute_result",
          "data": {
            "text/plain": [
              "1111359"
            ]
          },
          "metadata": {},
          "execution_count": 14
        }
      ],
      "source": [
        "MAX_MEMORY = getattr(__config__, 'MAX_MEMORY')\n",
        "MAX_MEMORY"
      ]
    },
    {
      "cell_type": "markdown",
      "metadata": {
        "id": "BF8o9PZnoXzL"
      },
      "source": [
        "## Step 3: \n",
        "\n",
        "### 3.1 Define the periodic table (Define atomic weight and periodic weight for each element)\n",
        "\n",
        "### 3.2 Define the spin value for each element \n",
        "\n",
        "### 3.3 You can load any new basis function.  Just visit the Basics Exchange and get a new Basis Function URL .  \n",
        "#### here we download a basis set full defintion file from an URL and then use it to construct a molecule  \n",
        "\n",
        "#### To get a web URL, just visit https://www.basissetexchange.org/"
      ]
    },
    {
      "cell_type": "markdown",
      "metadata": {
        "id": "oLOgjrRQhdQk"
      },
      "source": [
        "\n",
        "http://vergil.chemistry.gatech.edu/courses/chem6485/pdf/basis-sets.pdf \n",
        "\n",
        "https://youtu.be/irQ_c_fW5f8?t=971\n",
        "\n",
        "\n",
        "1.   cc-pCVXZ or aug-cc-pCVXZ basis sets;  you should use basis sets like this if you do not freeze core\n",
        "2.   cc-pVQZ is great for CCSD(T)\n",
        "\n"
      ]
    },
    {
      "cell_type": "code",
      "execution_count": 15,
      "metadata": {
        "id": "a289v8vDEE_E"
      },
      "outputs": [],
      "source": [
        "def trydownloadingBasisSet(ElementsinMolecule, BasisSet, versionno):  \n",
        "    target_url = 'https://www.basissetexchange.org/api/basis/' + str(BasisSet) +  '/format/nwchem/?version='+ str( versionno)+'&elements=' + str(ElementsinMolecule) \n",
        "    #print(target_url)\n",
        "    try:\n",
        "      textfile = urllib.request.urlopen(target_url)    \n",
        "      mydownloadedfile = \"\"\n",
        "      for line in textfile:\n",
        "          #print(line.decode('utf-8')) #utf-8 or iso8859-1 or whatever the page encoding scheme is\n",
        "          mydownloadedfile += line.decode('utf-8') \n",
        "      return True    \n",
        "    except:\n",
        "      return False"
      ]
    },
    {
      "cell_type": "code",
      "execution_count": 16,
      "metadata": {
        "id": "dkRcJrVtfmFO"
      },
      "outputs": [],
      "source": [
        "import urllib   # the lib that handles the url stuff\n",
        "import urllib.request  # the lib that handles the url stuff\n",
        "\n",
        "\n",
        "def getValidBasisSet(MoleculeList):\n",
        "  ValidatedBasisSet = []\n",
        "  ValBSSetVersionNumberDict = {}\n",
        "  errorproneBasisSet = []\n",
        "  for BasisSet in listBasisSet:\n",
        "    didnotworkatallforanyversion = True\n",
        "    for versionno in range(0,4):\n",
        "      isworking = trydownloadingBasisSet(MoleculeList, BasisSet, versionno)\n",
        "      if isworking == True:\n",
        "        didnotworkatallforanyversion = False\n",
        "        ValBSSetVersionNumberDict[BasisSet] = versionno\n",
        "        ValidatedBasisSet.append(BasisSet)\n",
        "        break\n",
        "    if didnotworkatallforanyversion == True:\n",
        "      errorproneBasisSet.append(BasisSet)\n",
        "  return ValidatedBasisSet "
      ]
    },
    {
      "cell_type": "code",
      "execution_count": 17,
      "metadata": {
        "id": "BwAkua2vp_t5"
      },
      "outputs": [],
      "source": [
        "def downloadBasisSetAutoVersion(ElementsinMolecule, BasisSet):  \n",
        "    for versionumber in range (0,4):\n",
        "      target_url = 'https://www.basissetexchange.org/api/basis/' + str(BasisSet) +  '/format/nwchem/?version='+ str( versionumber)+'&elements=' + str(ElementsinMolecule) \n",
        "      try:\n",
        "        textfile = urllib.request.urlopen(target_url)    \n",
        "        mydownloadedfile = \"\"\n",
        "        for line in textfile:\n",
        "            #print(line.decode('utf-8')) #utf-8 or iso8859-1 or whatever the page encoding scheme is\n",
        "            mydownloadedfile += line.decode('utf-8') \n",
        "        return mydownloadedfile    \n",
        "      except:\n",
        "        return None"
      ]
    },
    {
      "cell_type": "code",
      "execution_count": 18,
      "metadata": {
        "colab": {
          "base_uri": "https://localhost:8080/"
        },
        "id": "_BV2z_OX5rH1",
        "outputId": "6fb0d652-ffad-440b-a510-14d09d80a977"
      },
      "outputs": [
        {
          "output_type": "execute_result",
          "data": {
            "text/plain": [
              "['cc-pV6Z', 'cc-pVQZ']"
            ]
          },
          "metadata": {},
          "execution_count": 18
        }
      ],
      "source": [
        "elementname ='H' \n",
        "\n",
        "PerdiocTableNumber = dictPeriodicTable [elementname]\n",
        "ValidatedBasisSet = getValidBasisSet(PerdiocTableNumber)\n",
        "len(ValidatedBasisSet)\n",
        "ValidatedBasisSet"
      ]
    },
    {
      "cell_type": "code",
      "execution_count": 19,
      "metadata": {
        "id": "40fAp-c8DYDn"
      },
      "outputs": [],
      "source": [
        "basisSethandpicked =[  ]"
      ]
    },
    {
      "cell_type": "code",
      "execution_count": 20,
      "metadata": {
        "id": "iGlC_ofGtzHL"
      },
      "outputs": [],
      "source": [
        "#listBasisSet = basisSet652"
      ]
    },
    {
      "cell_type": "code",
      "execution_count": 21,
      "metadata": {
        "colab": {
          "base_uri": "https://localhost:8080/"
        },
        "id": "3oCykicz1IYu",
        "outputId": "f5a3d443-e55e-4a7f-8f84-9c9d7533a99e"
      },
      "outputs": [
        {
          "output_type": "stream",
          "name": "stdout",
          "text": [
            "Hello\n",
            "Nothing went wrong\n"
          ]
        }
      ],
      "source": [
        "try:\n",
        "  print(\"Hello\")\n",
        "except:\n",
        "  print(\"Something went wrong\")\n",
        "else:\n",
        "  print(\"Nothing went wrong\")"
      ]
    },
    {
      "cell_type": "code",
      "execution_count": 21,
      "metadata": {
        "id": "Nh0tMh-zzHmP"
      },
      "outputs": [],
      "source": [
        ""
      ]
    },
    {
      "cell_type": "code",
      "execution_count": 22,
      "metadata": {
        "id": "LrJBO50Sgt4v"
      },
      "outputs": [],
      "source": [
        "#downloadBasisSetAutoVersion(1,'3-21G')"
      ]
    },
    {
      "cell_type": "markdown",
      "metadata": {
        "id": "3RoPT7c8350_"
      },
      "source": [
        "geomtery optimization"
      ]
    },
    {
      "cell_type": "code",
      "execution_count": 23,
      "metadata": {
        "colab": {
          "base_uri": "https://localhost:8080/"
        },
        "id": "IZFEtXrH6RwP",
        "outputId": "f7cf6a10-bd47-4a29-ecaa-a18ed2cfbfc9"
      },
      "outputs": [
        {
          "output_type": "stream",
          "name": "stdout",
          "text": [
            "Looking in indexes: https://pypi.org/simple, https://us-python.pkg.dev/colab-wheels/public/simple/\n",
            "Collecting pyberny\n",
            "  Downloading pyberny-0.6.3-py3-none-any.whl (27 kB)\n",
            "Requirement already satisfied: numpy<2.0,>=1.15 in /usr/local/lib/python3.7/dist-packages (from pyberny) (1.21.6)\n",
            "Installing collected packages: pyberny\n",
            "Successfully installed pyberny-0.6.3\n"
          ]
        }
      ],
      "source": [
        "!\tpip install -U pyberny\n"
      ]
    },
    {
      "cell_type": "code",
      "execution_count": 24,
      "metadata": {
        "id": "hdNEpI8D38FG"
      },
      "outputs": [],
      "source": [
        "from pyscf import gto\n",
        "from pyscf import scf\n",
        "from pyscf import cc\n",
        "from pyscf.cc import ccsd_t_lambda_slow as ccsd_t_lambda\n",
        "from pyscf.grad import ccsd_t as ccsd_t_grad\n",
        "from pyscf.geomopt import berny_solver\n",
        "\n",
        "def f_usefforberny_solver(mol):\n",
        "    # Compute CCSD(T) energy\n",
        "    mf = scf.RHF(mol).run()\n",
        "    mycc = cc.CCSD(mf).run()\n",
        "    et_correction = mycc.ccsd_t()\n",
        "    e_tot = mycc.e_tot + et_correction\n",
        "\n",
        "    # Compute CCSD(T) gradients\n",
        "    g = ccsd_t_grad.Gradients(mycc).kernel()\n",
        "    print('CCSD(T) nuclear gradients:')\n",
        "    print(g)\n",
        "    return e_tot, g\n"
      ]
    },
    {
      "cell_type": "code",
      "execution_count": 25,
      "metadata": {
        "id": "sKAn5K4QVc2Y"
      },
      "outputs": [],
      "source": [
        " hashLookUpMolecules = dict()\n",
        " "
      ]
    },
    {
      "cell_type": "code",
      "execution_count": 26,
      "metadata": {
        "id": "SlipAJZo3-Tw"
      },
      "outputs": [],
      "source": [
        "def GetoptimizedMolecule(randomMol):\n",
        "  global hashLookUpMolecules\n",
        "  print('****************************************************************GEOMENTRY OPTIMIZATION Starts***********************************************')  \n",
        "  print('MOLECULE KEY is')\n",
        "  print([randomMol.basis])\n",
        "  if randomMol in hashLookUpMolecules:\n",
        "    saved_mol = hashLookUpMolecules[randomMol]\n",
        "    print('****************************************************************GEOMENTRY looked up from Hashtable***********************************************')  \n",
        "    return saved_mol\n",
        "  fake_method = berny_solver.as_pyscf_method(randomMol, f_usefforberny_solver)\n",
        "  new_mol = berny_solver.optimize(fake_method , maxsteps=400)\n",
        "  print('Old geometry (Bohr)')\n",
        "  print(randomMol.atom_coords())  \n",
        "  print('New geometry (Bohr)')\n",
        "  print(new_mol.atom_coords())  \n",
        "  hashLookUpMolecules[randomMol] = new_mol\n",
        "  print('****************************************************************GEOMENTRY OPTIMIZATION Ends***********************************************')  \n",
        "  return new_mol\n"
      ]
    },
    {
      "cell_type": "markdown",
      "metadata": {
        "id": "WnVMCEhX5ZzV"
      },
      "source": [
        "DM21"
      ]
    },
    {
      "cell_type": "code",
      "execution_count": 27,
      "metadata": {
        "id": "SZOfTZ7269qj",
        "colab": {
          "base_uri": "https://localhost:8080/"
        },
        "outputId": "c51eb218-7f1e-432e-fca0-007c5228f625"
      },
      "outputs": [
        {
          "output_type": "stream",
          "name": "stdout",
          "text": [
            "WARNING:tensorflow:From /usr/local/lib/python3.7/dist-packages/tensorflow/python/compat/v2_compat.py:107: disable_resource_variables (from tensorflow.python.ops.variable_scope) is deprecated and will be removed in a future version.\n",
            "Instructions for updating:\n",
            "non-resource variables are not supported in the long term\n"
          ]
        }
      ],
      "source": [
        "import density_functional_approximation_dm21 as dm21\n",
        "from pyscf import gto\n",
        "from pyscf import dft"
      ]
    },
    {
      "cell_type": "code",
      "execution_count": 28,
      "metadata": {
        "id": "duaw3FC-E2G3"
      },
      "outputs": [],
      "source": [
        "import pandas as pd\n",
        "import numpy as np"
      ]
    },
    {
      "cell_type": "code",
      "execution_count": 29,
      "metadata": {
        "id": "6RxxMmahCe77"
      },
      "outputs": [],
      "source": [
        "def buildaMoleculeSpinNIST(elementname, elementname2, mydownloadedfile, mydownloadedfile2, trythisspin ):\n",
        "      mol = gto.Mole()\n",
        "      mol.atom = '''\n",
        "      H\t0.0000000\t0.0000000\t0.3709280\n",
        "      H\t0.0000000\t0.0000000\t-0.3709280\n",
        "      '''\n",
        "      #mol.unit = 'B'\n",
        "      mol.unit = 'Angstrom'\n",
        "\n",
        "      #mol.atom = [[elementname, ( 0, 0, 0)], [elementname2, (0, 0, 1)] ]\n",
        "      mol.spin =  trythisspin\n",
        "      mol.symmetry = True\n",
        "      mol.basis = { elementname: gto.parse(mydownloadedfile)  ,     elementname2: gto.parse(mydownloadedfile2)        }\n",
        "      #mol.max_memory = PYSCF_MAX_MEMORY\n",
        "      mol.build()\n",
        "      return mol"
      ]
    },
    {
      "cell_type": "code",
      "execution_count": 30,
      "metadata": {
        "id": "uq5Le1TbJGrq"
      },
      "outputs": [],
      "source": [
        "def buildaMoleculeSpin(elementname, elementname2, mydownloadedfile, mydownloadedfile2, trythisspin ):\n",
        "      mol = gto.Mole()\n",
        "      mol.atom = '''\n",
        "      H\t0.0000000\t0.0000000 0.70252931147690\n",
        "      H\t0.0000000\t0.0000000\t-0.70252931147690\n",
        "      '''\n",
        "      mol.unit = 'B'\n",
        "      #mol.unit = 'Angstrom'\n",
        "\n",
        "      #mol.atom = [[elementname, ( 0, 0, 0)], [elementname2, (0, 0, 1)] ]\n",
        "      mol.spin =  trythisspin\n",
        "      mol.symmetry = True\n",
        "      mol.basis = { elementname: gto.parse(mydownloadedfile)  ,     elementname2: gto.parse(mydownloadedfile2)        }\n",
        "      #mol.max_memory = PYSCF_MAX_MEMORY\n",
        "      mol.build()\n",
        "      return mol"
      ]
    },
    {
      "cell_type": "code",
      "execution_count": 30,
      "metadata": {
        "id": "FvxnWOE5G51N"
      },
      "outputs": [],
      "source": [
        ""
      ]
    },
    {
      "cell_type": "markdown",
      "metadata": {
        "id": "078cG3f-G6qq"
      },
      "source": [
        "\n",
        "\n",
        "as per NIST\n",
        "\n",
        "```\n",
        "# H\t0.0000000\t0.0000000\t0.3709280 Å\n",
        "H\t0.0000000\t0.0000000\t-0.3709280 Å\n",
        "```\n",
        "\n"
      ]
    },
    {
      "cell_type": "markdown",
      "metadata": {
        "id": "aZpw-FlVBGOR"
      },
      "source": [
        ""
      ]
    },
    {
      "cell_type": "markdown",
      "metadata": {
        "id": "MxednMvHAoaT"
      },
      "source": [
        "Geometry for H2 (Hydrogen diatomic) 1Σg D*H\n",
        "1910171554\n",
        " HF/cc-pCVQZ\n",
        "\n",
        "  \n",
        "\n",
        "```\n",
        "#  Bohr\n",
        "    0.00000000000000      0.00000000000000     -0.70252931147690      h\n",
        "    0.00000000000000      0.00000000000000      0.70252931147690      h\n",
        "```\n",
        "\n",
        "\n",
        "```\n",
        "# Amstrong\n",
        "\n",
        "  H     0.0000000    0.0000000   -0.3717625 \n",
        "  H     0.0000000    0.0000000    0.3717625 \n",
        "```\n",
        "\n",
        "\n",
        "\n",
        "  \n"
      ]
    },
    {
      "cell_type": "code",
      "execution_count": 31,
      "metadata": {
        "id": "BYolIH7Lsxqa"
      },
      "outputs": [],
      "source": [
        "def buildaMoleculeTryMOLECULEELEMENTCOUNT2(elementname, elementname2, mydownloadedfile , mydownloadedfile2 ):\n",
        "  molecule = None \n",
        "  for spinvaluecheckthis in range(5):\n",
        "    try:\n",
        "      molecule = buildaMoleculeSpin(elementname,elementname2, mydownloadedfile, mydownloadedfile2, spinvaluecheckthis )      \n",
        "      return molecule, spinvaluecheckthis\n",
        "      break\n",
        "    except:\n",
        "      tempexcept = True\n",
        "      #print('SPIN is not correct. Auto matically trying another spin value...')\n",
        "    else:\n",
        "      tempelse = True\n",
        "      #print('TRYING SPIN')\n",
        "  return molecule, spinvaluecheckthis\n",
        " \n"
      ]
    },
    {
      "cell_type": "code",
      "execution_count": 32,
      "metadata": {
        "id": "AQmy_MGADZfD"
      },
      "outputs": [],
      "source": [
        "def buildaMoleculeSpinMOLECULEELEMENTCOUNT1(elementname, mydownloadedfile,  trythisspin ):\n",
        "      mol = gto.Mole()\n",
        "      #mol.atom = '''H 0 0 0'''\n",
        "      mol.atom = [[elementname, (0, 0, 0)] ]\n",
        "      mol.spin =  trythisspin\n",
        "      mol.basis = { elementname: gto.parse(mydownloadedfile)       }\n",
        "      mol.build()\n",
        "      return mol"
      ]
    },
    {
      "cell_type": "code",
      "execution_count": 33,
      "metadata": {
        "id": "FoNOCHQiChEG"
      },
      "outputs": [],
      "source": [
        "def buildaMoleculeTryMOLECULEELEMENTCOUNT1(elementname,  mydownloadedfile ):\n",
        "  molecule = None \n",
        "  for spinvaluecheckthis in range(5):\n",
        "    try:\n",
        "      molecule = buildaMoleculeSpinMOLECULEELEMENTCOUNT1(elementname, mydownloadedfile, spinvaluecheckthis )      \n",
        "      return molecule, spinvaluecheckthis\n",
        "      break\n",
        "    except:\n",
        "      tempexcept = True\n",
        "      #print('SPIN is not correct. Auto matically trying another spin value...')\n",
        "    else:\n",
        "      tempelse = True\n",
        "      #print('TRYING SPIN')\n",
        "  return molecule, spinvaluecheckthis\n",
        " \n"
      ]
    },
    {
      "cell_type": "markdown",
      "metadata": {
        "id": "cxAQxLdTYX-J"
      },
      "source": [
        "## Step 4: Expected format of output table "
      ]
    },
    {
      "cell_type": "markdown",
      "metadata": {
        "id": "yxkHxcxOYf9G"
      },
      "source": [
        "## Step 5. Input values to be considered in this computation  "
      ]
    },
    {
      "cell_type": "code",
      "execution_count": 34,
      "metadata": {
        "colab": {
          "base_uri": "https://localhost:8080/"
        },
        "id": "WibChtR29hCy",
        "outputId": "44525acb-d57b-4a3c-a109-cd56b4d530cc"
      },
      "outputs": [
        {
          "output_type": "stream",
          "name": "stdout",
          "text": [
            "No        Element    \t  \t \t Basis Set\n"
          ]
        }
      ],
      "source": [
        "import urllib   # the lib that handles the url stuff\n",
        "import urllib.request  # the lib that handles the url stuff\n",
        "import numpy\n",
        "\n",
        "print( 'No'  + '        ' + 'Element' + '    \\t  \\t \\t ' +  'Basis Set')\n",
        "\n",
        "for elementname in dictPeriodicTable.keys():\n",
        "  break\n",
        "  PerdiocTableNumber = dictPeriodicTable [elementname]\n",
        "  ValidatedBasisSet = getValidBasisSet(PerdiocTableNumber)\n",
        "  print('***********************************************************'+ 'No of Valid basis set = ' + str(len(ValidatedBasisSet)))\n",
        "\n",
        "  for BasisSet in ValidatedBasisSet:    \n",
        "    print('***********************************************************')\n",
        "    print('***********************************************************')\n",
        "    print('***********************************************************')\n",
        "                       #downloadBasisSetAutoVersion(1,'3-21G')\n",
        "    mydownloadedfile = downloadBasisSetAutoVersion(PerdiocTableNumber,BasisSet)\n",
        "    \n",
        "    molUnoptimized, myspin = buildaMoleculeTryMOLECULEELEMENTCOUNT2(elementname, elementname, mydownloadedfile , mydownloadedfile)\n",
        "\n",
        "\n",
        "    if molUnoptimized == None:\n",
        "      continue\n",
        "\n",
        "    mol = GetoptimizedMolecule(molUnoptimized)\n",
        "\n",
        "    continue\n",
        "\n",
        "    if mol == None:\n",
        "      continue\n",
        "\n",
        "    print(mol.atom)\n",
        "    print(mol.atom_coords(unit='Bohr'))\n",
        "    print(mol.basis)\n",
        "    print(str( PerdiocTableNumber)  + '        ' + str(elementname) + '    \\t  \\t \\t ' + str(BasisSet))\n",
        "\n",
        "    aResultDict = {}\n",
        "    aResultDict['Weight'] = PerdiocTableNumber\n",
        "    aResultDict['Element'] = [elementname]\n",
        "    aResultDict['Molecule'] = [mol.atom]\n",
        "    aResultDict['BasisSet'] = [BasisSet]\n",
        "    aResultDict['MolOBJECT'] = mol\n",
        "    aResultDict['BuiltMolecule'] = [  mol.basis   ]\n",
        "\n",
        "    dfforOneElement = pd.DataFrame(aResultDict )\n",
        "    df = df.append(dfforOneElement, ignore_index = True)\n",
        "\n",
        " \n"
      ]
    },
    {
      "cell_type": "markdown",
      "metadata": {
        "id": "8GKgQOHrYp3t"
      },
      "source": [
        "## Step 6. Compute Results\n",
        "## Run the computation for the above input values "
      ]
    },
    {
      "cell_type": "code",
      "execution_count": 35,
      "metadata": {
        "id": "v3fQHBV8l3hk"
      },
      "outputs": [],
      "source": [
        "functionalsList = ['b3lyp','M06-2X' , 'SCAN'    ,'wB97X-V',  'PW6B95' , 'pbe']\n",
        "\n",
        "functionalsList = ['b3lyp','M06-2X' , 'SCAN'    ,'wB97X-V',  'PW6B95' ,  'pbe' ,  'pbe0']\n",
        "\n",
        "\n",
        "#functionalsList = ['b3lyp']"
      ]
    },
    {
      "cell_type": "code",
      "execution_count": 36,
      "metadata": {
        "id": "m9dDlyeSik9_"
      },
      "outputs": [],
      "source": [
        "from pyscf import dft\n",
        "\n",
        "# DFT computation of SCF energy  \n",
        "def SCFenergyFunctionalsbasedonDFTGOLD(mol , functionals ):\n",
        "  if mol.spin == 0:\n",
        "    mf = dft.RKS(mol)\n",
        "  else:\n",
        "    mf = dft.UKS(mol)\n",
        "  # functional.\n",
        "  #mf.xc = 'B3LYP'\n",
        "  mf.max_memory = PYSCF_MAX_MEMORY\n",
        "  mf.xc = functionals\n",
        "  # Run the DFT calculation.\n",
        "  answerDFT = mf.kernel()\n",
        "  return answerDFT\n",
        "\n"
      ]
    },
    {
      "cell_type": "code",
      "execution_count": 37,
      "metadata": {
        "id": "V_S4At-sh8D1"
      },
      "outputs": [],
      "source": [
        "\n",
        "# DFT computation of SCF energy  \n",
        "def SCFenergyFunctionalsbasedonDFT(mol , functionals ):\n",
        "    mf = mol.KS()\n",
        "   # mf.xc = 'b3lyp'\n",
        "   # mf.xc = 'pbe0'\n",
        "   # mf.xc = 'M06-2X'\n",
        "   # mf.xc = 'SCAN'    \n",
        "   # mf.xc = 'wB97X-V'\n",
        "   # mf.xc = 'PW6B95'\n",
        "    mf.xc = functionals\n",
        "    # Run the DFT calculation.\n",
        "    answerDFT = mf.kernel()\n",
        "    return answerDFT"
      ]
    },
    {
      "cell_type": "code",
      "execution_count": 38,
      "metadata": {
        "id": "zhrEkD-vTqOJ"
      },
      "outputs": [],
      "source": [
        "def SCFenergyFunctionalsbasedonNNGOLD(mol,  NNfunctionals ):\n",
        "    if mol.spin == 0:\n",
        "      mf = dft.RKS(mol)\n",
        "    else:\n",
        "      mf = dft.UKS(mol)\n",
        "    #mf._numint = dm21.NeuralNumInt(dm21.Functional.DM21m )\n",
        "    mf._numint = dm21.NeuralNumInt(NNfunctionals)\n",
        "    mf.max_memory = PYSCF_MAX_MEMORY\n",
        "    mf.conv_tol = 1E-10\n",
        "    mf.conv_tol_grad = 1E-7    \n",
        "    # Run the DFT calculation.\n",
        "    answerNN = mf.kernel()\n",
        "    return answerNN"
      ]
    },
    {
      "cell_type": "code",
      "execution_count": 39,
      "metadata": {
        "id": "q252BnqMmfWD"
      },
      "outputs": [],
      "source": [
        "def SCFenergyFunctionalsbasedonNN(mol,  NNfunctionals, functionals='b3lyp'):\n",
        "    mf = mol.KS()\n",
        "    mf.xc = functionals\n",
        "    #mf._numint = dm21.NeuralNumInt(dm21.Functional.DM21m )\n",
        "    mf._numint = dm21.NeuralNumInt(NNfunctionals)\n",
        "    # Run the DFT calculation.\n",
        "    answerNN = mf.kernel()\n",
        "    return answerNN"
      ]
    },
    {
      "cell_type": "code",
      "execution_count": 39,
      "metadata": {
        "id": "jPXfm5TaqFXY"
      },
      "outputs": [],
      "source": [
        " "
      ]
    },
    {
      "cell_type": "code",
      "execution_count": 39,
      "metadata": {
        "id": "cMOO55jPka49"
      },
      "outputs": [],
      "source": [
        " "
      ]
    },
    {
      "cell_type": "code",
      "execution_count": 40,
      "metadata": {
        "id": "W9GjaEhKAaCt"
      },
      "outputs": [],
      "source": [
        "# DFT computation of SCF energy  \n",
        "def SCFenergybasedonDFT(mol):\n",
        "    mf = dft.RKS(mol)\n",
        "    # Run the DFT calculation.\n",
        "    answerDFT = mf.kernel()\n",
        "    return answerDFT"
      ]
    },
    {
      "cell_type": "code",
      "execution_count": 41,
      "metadata": {
        "id": "LzfM6gMZBABO"
      },
      "outputs": [],
      "source": [
        "# Neural network based prediction of SCF energy   \n",
        "def SCFenergybasedonNN(mol):\n",
        "    mf = dft.RKS(mol)\n",
        "    mf._numint = dm21.NeuralNumInt(dm21.Functional.DM21)\n",
        "    # Run the DFT calculation.\n",
        "    answerNN = mf.kernel()\n",
        "    return answerNN"
      ]
    },
    {
      "cell_type": "code",
      "execution_count": 42,
      "metadata": {
        "id": "jN6A1KpWBvD_"
      },
      "outputs": [],
      "source": [
        "# CCSD computation \n",
        "def SCFenergybasedonCCSD(mol):\n",
        "  ccsdanswer = mol.apply('CCSD').run().e_tot\n",
        "  return ccsdanswer"
      ]
    },
    {
      "cell_type": "code",
      "execution_count": 43,
      "metadata": {
        "id": "t6DBX0xPJQUB"
      },
      "outputs": [],
      "source": [
        "from pyscf import  scf, cc\n",
        "\n",
        "# CCSD-T computation \n",
        "def SCFenergybasedonCCSDTGOLD(mol):\n",
        "  try:\n",
        "    mf = scf.HF(mol).run()\n",
        "    mf.max_memory = PYSCF_MAX_MEMORY\n",
        "    mycc = cc.CCSD(mf).run()\n",
        "    #print('CCSD  energy', mycc.e_tot)\n",
        "    et = mycc.ccsd_t()\n",
        "    CCSDTotal = mycc.e_tot + et\n",
        "  except ZeroDivisionError:\n",
        "    print('000000000000000000000000000000000000000-------CCSDT Error------------00000000000000000000000. Using CCSD')\n",
        "    return SCFenergybasedonCCSD(mol)\n",
        "  #print('CCSD(T) total energy', mycc.e_tot + et)\n",
        "  return CCSDTotal\n",
        "\n",
        "  "
      ]
    },
    {
      "cell_type": "code",
      "execution_count": 43,
      "metadata": {
        "id": "7HNMoUa60U9w"
      },
      "outputs": [],
      "source": [
        ""
      ]
    },
    {
      "cell_type": "code",
      "execution_count": 43,
      "metadata": {
        "id": "Rz8tJdhwR0C1"
      },
      "outputs": [],
      "source": [
        " "
      ]
    },
    {
      "cell_type": "code",
      "execution_count": 44,
      "metadata": {
        "colab": {
          "base_uri": "https://localhost:8080/"
        },
        "id": "ZapSFREjSiAI",
        "outputId": "f1a3eca5-df80-4992-a6e0-75f72e658eee"
      },
      "outputs": [
        {
          "output_type": "stream",
          "name": "stdout",
          "text": [
            "No        Element    \t  \t \t Basis Set\n"
          ]
        }
      ],
      "source": [
        "import urllib   # the lib that handles the url stuff\n",
        "import urllib.request  # the lib that handles the url stuff\n",
        "import numpy\n",
        "from google.colab import files\n",
        "\n",
        "\n",
        "print( 'No'  + '        ' + 'Element' + '    \\t  \\t \\t ' +  'Basis Set')\n",
        "\n"
      ]
    },
    {
      "cell_type": "code",
      "execution_count": 45,
      "metadata": {
        "id": "RTtSH0rhUlLD"
      },
      "outputs": [],
      "source": [
        "ValidatedBasisSetSOURCE = getValidBasisSet(PerdiocTableNumber)\n"
      ]
    },
    {
      "cell_type": "code",
      "execution_count": 46,
      "metadata": {
        "id": "nsFu58KgJbdq"
      },
      "outputs": [],
      "source": [
        "\n",
        "\n",
        "def compute1Mol1BasisSet(elementname, ValidatedBasisSetStart , df):\n",
        "  if True:\n",
        "    PerdiocTableNumber = dictPeriodicTable [elementname]\n",
        "    ValidatedBasisSet = ValidatedBasisSetSOURCE[ValidatedBasisSetStart:ValidatedBasisSetStart+1]\n",
        "    for BasisSet in ValidatedBasisSet:    \n",
        "      print('***********************************************************')\n",
        "      print('***********************************************************')\n",
        "      print('***********************************************************')\n",
        "\n",
        "      mydownloadedfile = downloadBasisSetAutoVersion(PerdiocTableNumber,BasisSet)      \n",
        "      molUnoptimized, myspin = buildaMoleculeTryMOLECULEELEMENTCOUNT2(elementname, elementname, mydownloadedfile , mydownloadedfile )\n",
        "      if molUnoptimized == None:\n",
        "        return df\n",
        "\n",
        "      print('.............................................Molecule details......................................................')\n",
        "      print(molUnoptimized)\n",
        "      print('In Bohr')\n",
        "      print(molUnoptimized.atom_coords(unit='Bohr'))\n",
        "      print('In angstrom')\n",
        "      print(molUnoptimized.atom_coords(unit='ANG'))\n",
        "\n",
        "\n",
        "     # mol = GetoptimizedMolecule(molUnoptimized)\n",
        "      mol = molUnoptimized\n",
        "        \n",
        "      print(mol.atom)\n",
        "      print(mol.atom_coords(unit='Bohr'))\n",
        "      print(mol.basis)\n",
        "      print(str( PerdiocTableNumber)  + '        ' + str(elementname) + '    \\t  \\t \\t ' + str(BasisSet))     \n",
        "      print('.............................................COMPUTING SCF energy......................................................')\n",
        "\n",
        "      aResultDict = computePart(mol )\n",
        "\n",
        "\n",
        "      aResultDict['BasisSet'] = [BasisSet]\n",
        "\n",
        "      dfforOneElement = pd.DataFrame(aResultDict )\n",
        "      df = df.append(dfforOneElement, ignore_index = True)\n",
        "      df.to_csv('ComputedEnergy'+str(ValidatedBasisSetStart)+'.csv')\n",
        "      df.to_csv('/content/drive/My Drive/DeepMind' + EXPNO+ 'CE'+str(ValidatedBasisSetStart)+'.csv' )\n",
        "      print(EXPNO+ 'CE'+str(ValidatedBasisSetStart)+'.csv')\n",
        "      return df\n",
        "\n",
        "\n",
        "    #  files.download('ComputedEnergy'+str(ValidatedBasisSetStart)+'.csv')\n",
        "\n",
        "\n",
        "      \n"
      ]
    },
    {
      "cell_type": "code",
      "execution_count": 46,
      "metadata": {
        "id": "-IhokgA25r_9"
      },
      "outputs": [],
      "source": [
        ""
      ]
    },
    {
      "cell_type": "code",
      "execution_count": 47,
      "metadata": {
        "id": "OTCbozQTSkL1"
      },
      "outputs": [],
      "source": [
        "\n",
        "\n",
        "\n",
        "def computePart(mol):\n",
        "  if True:\n",
        "      aResultDict = {}\n",
        "      aResultDict['Weight'] = PerdiocTableNumber\n",
        "      aResultDict['Element'] = [elementname]\n",
        "      aResultDict['Molecule'] = [mol.atom]\n",
        "      aResultDict['Spin'] = [mol.spin]\n",
        "      aResultDict['BuiltMolecule'] = [  mol.basis   ]\n",
        "\n",
        "      print('++++++++++++++++++++++++++++++++++++++++++++++++++  CCSD ++++++++++++++++++++++++++++++++++')\n",
        "      # Run the CCSD calculation.\n",
        "      CCSDenergy = SCFenergybasedonCCSD(mol)\n",
        "      print('ENERGY Computing using CCSD appoach is = ' + str(CCSDenergy ))\n",
        "      print('++++++++++++++++++++++++++++++++++++++++++++++++++  CCSD(T) ++++++++++++++++++++++++++++++++++')\n",
        "      CCSDTenergy = SCFenergybasedonCCSDTGOLD(mol)\n",
        "      print('ENERGY Computing using CCSD T appoach is = ' + str(CCSDTenergy ))\n",
        "\n",
        "\n",
        "      #aResultDict['DFTApproach'] = answerDFT\n",
        "      #aResultDict['NNApproach'] = answerNN\n",
        "      aResultDict['CCSD'] = CCSDenergy\n",
        "      aResultDict['CCSDT'] = CCSDTenergy\n",
        "\n",
        "      print('++++++++++++++++++++++++++++++++++++++++++++++++++  DFT Functionals ++++++++++++++++++++++++++++++++++')\n",
        "      for afunctionals in functionalsList:\n",
        "        ans = SCFenergyFunctionalsbasedonDFTGOLD(mol, afunctionals)\n",
        "        aResultDict['DFT-'+str(afunctionals)] = ans    \n",
        "\n",
        "      print('++++++++++++++++++++++++++++++++++++++++++++++++++  DM21 Functionals ++++++++++++++++++++++++++++++++++')\n",
        "      for aDMFunctionalvalue in dm21.Functional:\n",
        "        ans = SCFenergyFunctionalsbasedonNNGOLD(mol, aDMFunctionalvalue)\n",
        "        aResultDict['NN-'+str(aDMFunctionalvalue)] = ans    \n",
        "\n",
        "      return aResultDict\n",
        "\n",
        "\n",
        "\n",
        "\n",
        "  \n"
      ]
    },
    {
      "cell_type": "code",
      "execution_count": 48,
      "metadata": {
        "id": "rpSyWt2ibZtb"
      },
      "outputs": [],
      "source": [
        "if firstTimeorRestart == True:\n",
        "  df = pd.DataFrame(columns = ['Weight', 'Element', 'Molecule', 'BasisSet','Spin', 'BuiltMolecule' ])\n"
      ]
    },
    {
      "cell_type": "code",
      "execution_count": 49,
      "metadata": {
        "colab": {
          "base_uri": "https://localhost:8080/"
        },
        "id": "_uYNebVpoeD0",
        "outputId": "5d4fc892-3fed-4a7a-bad3-9499ed6eec01"
      },
      "outputs": [
        {
          "output_type": "stream",
          "name": "stdout",
          "text": [
            "***********************************************************\n",
            "***********************************************************\n",
            "***********************************************************\n",
            ".............................................Molecule details......................................................\n",
            "<pyscf.gto.mole.Mole object at 0x7f618cd54f10>\n",
            "In Bohr\n",
            "[[ 0.          0.          0.70252931]\n",
            " [ 0.          0.         -0.70252931]]\n",
            "In angstrom\n",
            "[[ 0.         0.         0.3717625]\n",
            " [ 0.         0.        -0.3717625]]\n",
            "\n",
            "      H\t0.0000000\t0.0000000 0.70252931147690\n",
            "      H\t0.0000000\t0.0000000\t-0.70252931147690\n",
            "      \n",
            "[[ 0.          0.          0.70252931]\n",
            " [ 0.          0.         -0.70252931]]\n",
            "{'H': [[0, [1776.77556, 0.0, 0.0, 0.0, 4.4e-05, 0.0, 0.0], [254.017712, 0.0, 0.0, 0.0, 0.000372, 0.0, 0.0], [54.698039, 0.0, 0.0, 0.0, 0.002094, 0.0, 0.0], [15.018344, 0.0, 0.0, 0.0, 0.008863, 0.0, 0.0], [4.915078, 0.0, 0.0, 0.0, 0.03054, 0.0, 0.0], [1.794924, 1.0, 0.0, 0.0, 0.090342, 0.0, 0.0], [0.710716, 0.0, 1.0, 0.0, 0.213239, 0.0, 0.0], [0.304802, 0.0, 0.0, 1.0, 0.35235, 0.0, 0.0], [0.138046, 0.0, 0.0, 0.0, 0.339657, 1.0, 0.0], [0.062157, 0.0, 0.0, 0.0, 0.10733, 0.0, 1.0]], [1, [8.649, 1.0, 0.0, 0.0, 0.0, 0.0], [3.43, 0.0, 1.0, 0.0, 0.0, 0.0], [1.36, 0.0, 0.0, 1.0, 0.0, 0.0], [0.539, 0.0, 0.0, 0.0, 1.0, 0.0], [0.214, 0.0, 0.0, 0.0, 0.0, 1.0]], [2, [4.453, 1.0, 0.0, 0.0, 0.0], [1.958, 0.0, 1.0, 0.0, 0.0], [0.861, 0.0, 0.0, 1.0, 0.0], [0.378, 0.0, 0.0, 0.0, 1.0]], [3, [4.1, 1.0, 0.0, 0.0], [1.78, 0.0, 1.0, 0.0], [0.773, 0.0, 0.0, 1.0]], [4, [3.199, 1.0, 0.0], [1.326, 0.0, 1.0]], [5, [2.653, 1.0]]]}\n",
            "1        H    \t  \t \t cc-pV6Z\n",
            ".............................................COMPUTING SCF energy......................................................\n",
            "++++++++++++++++++++++++++++++++++++++++++++++++++  CCSD ++++++++++++++++++++++++++++++++++\n",
            "converged SCF energy = -1.1335933625239\n",
            "E(CCSD) = -1.174342893079515  E_corr = -0.0407495305556093\n",
            "ENERGY Computing using CCSD appoach is = -1.1743428930795148\n",
            "++++++++++++++++++++++++++++++++++++++++++++++++++  CCSD(T) ++++++++++++++++++++++++++++++++++\n",
            "converged SCF energy = -1.1335933625239\n",
            "E(CCSD) = -1.174342893079516  E_corr = -0.04074953055561232\n",
            "CCSD(T) correction = 5.69862355402703e-20\n",
            "ENERGY Computing using CCSD T appoach is = -1.1743428930795157\n",
            "++++++++++++++++++++++++++++++++++++++++++++++++++  DFT Functionals ++++++++++++++++++++++++++++++++++\n",
            "converged SCF energy = -1.17394617616409\n",
            "converged SCF energy = -1.17024532881571\n",
            "converged SCF energy = -1.171907250345\n",
            "converged SCF energy = -1.18213427609128\n",
            "converged SCF energy = -1.17585920283158\n",
            "converged SCF energy = -1.16671591850117\n",
            "converged SCF energy = -1.16906487513709\n",
            "++++++++++++++++++++++++++++++++++++++++++++++++++  DM21 Functionals ++++++++++++++++++++++++++++++++++\n",
            "INFO:tensorflow:Saver not created because there are no variables in the graph to restore\n",
            "WARNING:tensorflow:From /usr/local/lib/python3.7/dist-packages/tensorflow_hub/saved_model_lib.py:111: build_tensor_info (from tensorflow.python.saved_model.utils_impl) is deprecated and will be removed in a future version.\n",
            "Instructions for updating:\n",
            "This function will only be available through the v1 compatibility library as tf.compat.v1.saved_model.utils.build_tensor_info or tf.compat.v1.saved_model.build_tensor_info.\n",
            "SCF not converged.\n",
            "SCF energy = -1.1769949620161\n",
            "INFO:tensorflow:Saver not created because there are no variables in the graph to restore\n",
            "SCF not converged.\n",
            "SCF energy = -1.17382020260591\n",
            "INFO:tensorflow:Saver not created because there are no variables in the graph to restore\n",
            "SCF not converged.\n",
            "SCF energy = -1.17762530280092\n",
            "INFO:tensorflow:Saver not created because there are no variables in the graph to restore\n",
            "SCF not converged.\n",
            "SCF energy = -1.17538667513007\n",
            "EXP_2101_HCE0.csv\n",
            "***********************************************************\n",
            "***********************************************************\n",
            "***********************************************************\n",
            ".............................................Molecule details......................................................\n",
            "<pyscf.gto.mole.Mole object at 0x7f618cd52810>\n",
            "In Bohr\n",
            "[[ 0.          0.          0.70252931]\n",
            " [ 0.          0.         -0.70252931]]\n",
            "In angstrom\n",
            "[[ 0.         0.         0.3717625]\n",
            " [ 0.         0.        -0.3717625]]\n",
            "\n",
            "      H\t0.0000000\t0.0000000 0.70252931147690\n",
            "      H\t0.0000000\t0.0000000\t-0.70252931147690\n",
            "      \n",
            "[[ 0.          0.          0.70252931]\n",
            " [ 0.          0.         -0.70252931]]\n",
            "{'H': [[0, [82.64, 0.0, 0.0, 0.002006, 0.0], [12.41, 0.0, 0.0, 0.015343, 0.0], [2.824, 0.0, 0.0, 0.075579, 0.0], [0.7977, 1.0, 0.0, 0.256875, 0.0], [0.2581, 0.0, 1.0, 0.497368, 0.0], [0.08989, 0.0, 0.0, 0.296133, 1.0]], [1, [2.292, 1.0, 0.0, 0.0], [0.838, 0.0, 1.0, 0.0], [0.292, 0.0, 0.0, 1.0]], [2, [2.062, 1.0, 0.0], [0.662, 0.0, 1.0]], [3, [1.397, 1.0]]]}\n",
            "1        H    \t  \t \t cc-pVQZ\n",
            ".............................................COMPUTING SCF energy......................................................\n",
            "++++++++++++++++++++++++++++++++++++++++++++++++++  CCSD ++++++++++++++++++++++++++++++++++\n",
            "converged SCF energy = -1.13342756747428\n",
            "E(CCSD) = -1.173794649327283  E_corr = -0.04036708185300768\n",
            "ENERGY Computing using CCSD appoach is = -1.1737946493272833\n",
            "++++++++++++++++++++++++++++++++++++++++++++++++++  CCSD(T) ++++++++++++++++++++++++++++++++++\n",
            "converged SCF energy = -1.13342756747428\n",
            "E(CCSD) = -1.173794649327284  E_corr = -0.04036708185300652\n",
            "CCSD(T) correction = -1.31943940313196e-19\n",
            "ENERGY Computing using CCSD T appoach is = -1.1737946493272837\n",
            "++++++++++++++++++++++++++++++++++++++++++++++++++  DFT Functionals ++++++++++++++++++++++++++++++++++\n",
            "converged SCF energy = -1.17377729476281\n",
            "converged SCF energy = -1.16950039386725\n",
            "converged SCF energy = -1.1717518978352\n",
            "converged SCF energy = -1.18198133530376\n",
            "converged SCF energy = -1.17568536082669\n",
            "converged SCF energy = -1.16656271000858\n",
            "converged SCF energy = -1.16891468800668\n",
            "++++++++++++++++++++++++++++++++++++++++++++++++++  DM21 Functionals ++++++++++++++++++++++++++++++++++\n",
            "INFO:tensorflow:Saver not created because there are no variables in the graph to restore\n",
            "converged SCF energy = -1.17668328675715\n",
            "INFO:tensorflow:Saver not created because there are no variables in the graph to restore\n",
            "converged SCF energy = -1.17356194645764\n",
            "INFO:tensorflow:Saver not created because there are no variables in the graph to restore\n",
            "converged SCF energy = -1.17734950361284\n",
            "INFO:tensorflow:Saver not created because there are no variables in the graph to restore\n",
            "converged SCF energy = -1.17516134623873\n",
            "EXP_2101_HCE1.csv\n"
          ]
        }
      ],
      "source": [
        "\n",
        "for i in range(0, len(ValidatedBasisSetSOURCE)):\n",
        "  try:\n",
        "    for elementname in dictPeriodicTable.keys():\n",
        "      df = compute1Mol1BasisSet(elementname, ValidatedBasisSetStart=i , df=df)\n",
        "  except:\n",
        "    print('Exception.. continuing')"
      ]
    },
    {
      "cell_type": "markdown",
      "metadata": {
        "id": "wzYWskSqLSg3"
      },
      "source": [
        " energy for H2 (Hydrogen diatomic) CCSD(T)=FULL /\tcc-pVQZ\t -1.1737930\t"
      ]
    },
    {
      "cell_type": "code",
      "execution_count": 49,
      "metadata": {
        "id": "l1lbFpghL18x"
      },
      "outputs": [],
      "source": [
        " "
      ]
    },
    {
      "cell_type": "markdown",
      "metadata": {
        "id": "UKMo-4eaZIEw"
      },
      "source": [
        "## Step 7: The results are below "
      ]
    },
    {
      "cell_type": "markdown",
      "metadata": {
        "id": "nonUL4tbCLGd"
      },
      "source": [
        "#### Explanation of Output table \n",
        "\n",
        "#### Input to software  \n",
        "* Weight' - atomic weight \n",
        "* 'Element' - element in periodic table \n",
        "*  'Spin'        - This is hardcoded in this project.  No need to give spin in the next project \n",
        "* 'BasisSet' - the name of basis set \n",
        "\n",
        "\n",
        "#### Generared values based on input \n",
        "\n",
        "*   'Molecule' - the pyscf molecule defined \n",
        "*   'BasisSetURL'  - The url used to downloaded the basis set \n",
        "*    'MolOBJECT' - The pyscf python object instance - internal to code \n",
        "*    'Coord'           \n",
        "*    'BuiltMolecule'  - The molecule coordinates \n",
        "\n",
        "\n",
        "#### Generared values based on input \n",
        "\n",
        "1.   'DFTApproach' - SCF energy from DFT computation \n",
        "2.   'NNApproach'  - SCF energy from Neural network prediction\n",
        "3.    'CCSDApproach'- SCF energy from CCSD \n",
        "\n",
        "\n"
      ]
    },
    {
      "cell_type": "code",
      "execution_count": 50,
      "metadata": {
        "id": "xjoMqMfB-rcW",
        "colab": {
          "base_uri": "https://localhost:8080/"
        },
        "outputId": "8c1d6691-4819-4257-ff98-27ecd9c53e44"
      },
      "outputs": [
        {
          "output_type": "stream",
          "name": "stdout",
          "text": [
            "cc-pV6Z\n",
            "\n",
            "      H\t0.0000000\t0.0000000 0.70252931147690\n",
            "      H\t0.0000000\t0.0000000\t-0.70252931147690\n",
            "      \n",
            "cc-pVQZ\n",
            "\n",
            "      H\t0.0000000\t0.0000000 0.70252931147690\n",
            "      H\t0.0000000\t0.0000000\t-0.70252931147690\n",
            "      \n"
          ]
        }
      ],
      "source": [
        "for i in range (len(df['Molecule'] )):\n",
        "  print( df['BasisSet'] [i]    )\n",
        "  print(  df['Molecule'] [i] )"
      ]
    },
    {
      "cell_type": "code",
      "execution_count": 51,
      "metadata": {
        "id": "-bbPJEN5agq_"
      },
      "outputs": [],
      "source": [
        "del df['BuiltMolecule']"
      ]
    },
    {
      "cell_type": "code",
      "execution_count": 52,
      "metadata": {
        "id": "MBjyAOLS_h-b",
        "colab": {
          "base_uri": "https://localhost:8080/",
          "height": 263
        },
        "outputId": "ccd793d1-fe1c-4cd2-b804-4cabc3808bc6"
      },
      "outputs": [
        {
          "output_type": "execute_result",
          "data": {
            "text/plain": [
              "  Weight Element                                           Molecule BasisSet  \\\n",
              "0      1       H  \\n      H\\t0.0000000\\t0.0000000 0.702529311476...  cc-pV6Z   \n",
              "1      1       H  \\n      H\\t0.0000000\\t0.0000000 0.702529311476...  cc-pVQZ   \n",
              "\n",
              "  Spin      CCSD     CCSDT  DFT-b3lyp  DFT-M06-2X  DFT-SCAN  DFT-wB97X-V  \\\n",
              "0    0 -1.174343 -1.174343  -1.173946   -1.170245 -1.171907    -1.182134   \n",
              "1    0 -1.173795 -1.173795  -1.173777   -1.169500 -1.171752    -1.181981   \n",
              "\n",
              "   DFT-PW6B95   DFT-pbe  DFT-pbe0  NN-Functional.DM21  NN-Functional.DM21m  \\\n",
              "0   -1.175859 -1.166716 -1.169065           -1.176995            -1.173820   \n",
              "1   -1.175685 -1.166563 -1.168915           -1.176683            -1.173562   \n",
              "\n",
              "   NN-Functional.DM21mc  NN-Functional.DM21mu  \n",
              "0             -1.177625             -1.175387  \n",
              "1             -1.177350             -1.175161  "
            ],
            "text/html": [
              "\n",
              "  <div id=\"df-98426349-3484-494f-bb06-c1b02767531e\">\n",
              "    <div class=\"colab-df-container\">\n",
              "      <div>\n",
              "<style scoped>\n",
              "    .dataframe tbody tr th:only-of-type {\n",
              "        vertical-align: middle;\n",
              "    }\n",
              "\n",
              "    .dataframe tbody tr th {\n",
              "        vertical-align: top;\n",
              "    }\n",
              "\n",
              "    .dataframe thead th {\n",
              "        text-align: right;\n",
              "    }\n",
              "</style>\n",
              "<table border=\"1\" class=\"dataframe\">\n",
              "  <thead>\n",
              "    <tr style=\"text-align: right;\">\n",
              "      <th></th>\n",
              "      <th>Weight</th>\n",
              "      <th>Element</th>\n",
              "      <th>Molecule</th>\n",
              "      <th>BasisSet</th>\n",
              "      <th>Spin</th>\n",
              "      <th>CCSD</th>\n",
              "      <th>CCSDT</th>\n",
              "      <th>DFT-b3lyp</th>\n",
              "      <th>DFT-M06-2X</th>\n",
              "      <th>DFT-SCAN</th>\n",
              "      <th>DFT-wB97X-V</th>\n",
              "      <th>DFT-PW6B95</th>\n",
              "      <th>DFT-pbe</th>\n",
              "      <th>DFT-pbe0</th>\n",
              "      <th>NN-Functional.DM21</th>\n",
              "      <th>NN-Functional.DM21m</th>\n",
              "      <th>NN-Functional.DM21mc</th>\n",
              "      <th>NN-Functional.DM21mu</th>\n",
              "    </tr>\n",
              "  </thead>\n",
              "  <tbody>\n",
              "    <tr>\n",
              "      <th>0</th>\n",
              "      <td>1</td>\n",
              "      <td>H</td>\n",
              "      <td>\\n      H\\t0.0000000\\t0.0000000 0.702529311476...</td>\n",
              "      <td>cc-pV6Z</td>\n",
              "      <td>0</td>\n",
              "      <td>-1.174343</td>\n",
              "      <td>-1.174343</td>\n",
              "      <td>-1.173946</td>\n",
              "      <td>-1.170245</td>\n",
              "      <td>-1.171907</td>\n",
              "      <td>-1.182134</td>\n",
              "      <td>-1.175859</td>\n",
              "      <td>-1.166716</td>\n",
              "      <td>-1.169065</td>\n",
              "      <td>-1.176995</td>\n",
              "      <td>-1.173820</td>\n",
              "      <td>-1.177625</td>\n",
              "      <td>-1.175387</td>\n",
              "    </tr>\n",
              "    <tr>\n",
              "      <th>1</th>\n",
              "      <td>1</td>\n",
              "      <td>H</td>\n",
              "      <td>\\n      H\\t0.0000000\\t0.0000000 0.702529311476...</td>\n",
              "      <td>cc-pVQZ</td>\n",
              "      <td>0</td>\n",
              "      <td>-1.173795</td>\n",
              "      <td>-1.173795</td>\n",
              "      <td>-1.173777</td>\n",
              "      <td>-1.169500</td>\n",
              "      <td>-1.171752</td>\n",
              "      <td>-1.181981</td>\n",
              "      <td>-1.175685</td>\n",
              "      <td>-1.166563</td>\n",
              "      <td>-1.168915</td>\n",
              "      <td>-1.176683</td>\n",
              "      <td>-1.173562</td>\n",
              "      <td>-1.177350</td>\n",
              "      <td>-1.175161</td>\n",
              "    </tr>\n",
              "  </tbody>\n",
              "</table>\n",
              "</div>\n",
              "      <button class=\"colab-df-convert\" onclick=\"convertToInteractive('df-98426349-3484-494f-bb06-c1b02767531e')\"\n",
              "              title=\"Convert this dataframe to an interactive table.\"\n",
              "              style=\"display:none;\">\n",
              "        \n",
              "  <svg xmlns=\"http://www.w3.org/2000/svg\" height=\"24px\"viewBox=\"0 0 24 24\"\n",
              "       width=\"24px\">\n",
              "    <path d=\"M0 0h24v24H0V0z\" fill=\"none\"/>\n",
              "    <path d=\"M18.56 5.44l.94 2.06.94-2.06 2.06-.94-2.06-.94-.94-2.06-.94 2.06-2.06.94zm-11 1L8.5 8.5l.94-2.06 2.06-.94-2.06-.94L8.5 2.5l-.94 2.06-2.06.94zm10 10l.94 2.06.94-2.06 2.06-.94-2.06-.94-.94-2.06-.94 2.06-2.06.94z\"/><path d=\"M17.41 7.96l-1.37-1.37c-.4-.4-.92-.59-1.43-.59-.52 0-1.04.2-1.43.59L10.3 9.45l-7.72 7.72c-.78.78-.78 2.05 0 2.83L4 21.41c.39.39.9.59 1.41.59.51 0 1.02-.2 1.41-.59l7.78-7.78 2.81-2.81c.8-.78.8-2.07 0-2.86zM5.41 20L4 18.59l7.72-7.72 1.47 1.35L5.41 20z\"/>\n",
              "  </svg>\n",
              "      </button>\n",
              "      \n",
              "  <style>\n",
              "    .colab-df-container {\n",
              "      display:flex;\n",
              "      flex-wrap:wrap;\n",
              "      gap: 12px;\n",
              "    }\n",
              "\n",
              "    .colab-df-convert {\n",
              "      background-color: #E8F0FE;\n",
              "      border: none;\n",
              "      border-radius: 50%;\n",
              "      cursor: pointer;\n",
              "      display: none;\n",
              "      fill: #1967D2;\n",
              "      height: 32px;\n",
              "      padding: 0 0 0 0;\n",
              "      width: 32px;\n",
              "    }\n",
              "\n",
              "    .colab-df-convert:hover {\n",
              "      background-color: #E2EBFA;\n",
              "      box-shadow: 0px 1px 2px rgba(60, 64, 67, 0.3), 0px 1px 3px 1px rgba(60, 64, 67, 0.15);\n",
              "      fill: #174EA6;\n",
              "    }\n",
              "\n",
              "    [theme=dark] .colab-df-convert {\n",
              "      background-color: #3B4455;\n",
              "      fill: #D2E3FC;\n",
              "    }\n",
              "\n",
              "    [theme=dark] .colab-df-convert:hover {\n",
              "      background-color: #434B5C;\n",
              "      box-shadow: 0px 1px 3px 1px rgba(0, 0, 0, 0.15);\n",
              "      filter: drop-shadow(0px 1px 2px rgba(0, 0, 0, 0.3));\n",
              "      fill: #FFFFFF;\n",
              "    }\n",
              "  </style>\n",
              "\n",
              "      <script>\n",
              "        const buttonEl =\n",
              "          document.querySelector('#df-98426349-3484-494f-bb06-c1b02767531e button.colab-df-convert');\n",
              "        buttonEl.style.display =\n",
              "          google.colab.kernel.accessAllowed ? 'block' : 'none';\n",
              "\n",
              "        async function convertToInteractive(key) {\n",
              "          const element = document.querySelector('#df-98426349-3484-494f-bb06-c1b02767531e');\n",
              "          const dataTable =\n",
              "            await google.colab.kernel.invokeFunction('convertToInteractive',\n",
              "                                                     [key], {});\n",
              "          if (!dataTable) return;\n",
              "\n",
              "          const docLinkHtml = 'Like what you see? Visit the ' +\n",
              "            '<a target=\"_blank\" href=https://colab.research.google.com/notebooks/data_table.ipynb>data table notebook</a>'\n",
              "            + ' to learn more about interactive tables.';\n",
              "          element.innerHTML = '';\n",
              "          dataTable['output_type'] = 'display_data';\n",
              "          await google.colab.output.renderOutput(dataTable, element);\n",
              "          const docLink = document.createElement('div');\n",
              "          docLink.innerHTML = docLinkHtml;\n",
              "          element.appendChild(docLink);\n",
              "        }\n",
              "      </script>\n",
              "    </div>\n",
              "  </div>\n",
              "  "
            ]
          },
          "metadata": {},
          "execution_count": 52
        }
      ],
      "source": [
        "df"
      ]
    },
    {
      "cell_type": "markdown",
      "metadata": {
        "id": "GBadUdue8_Eu"
      },
      "source": [
        "#validate the energy against NIST bechmarks ..\n",
        "manually just the ball park number some be matcoed \n",
        "\n",
        "https://cccbdb.nist.gov/bseenergy2x.asp shows CCST(T)/cc-pVQZ is -1.1737930\t, CCSD = -1.1737965\t\n",
        "or  http://www.begdb.org/index.php\n"
      ]
    },
    {
      "cell_type": "code",
      "execution_count": 53,
      "metadata": {
        "id": "uMkm7hSsczvX",
        "colab": {
          "base_uri": "https://localhost:8080/",
          "height": 263
        },
        "outputId": "aff2dfce-c296-4445-afc7-731a3e1c944f"
      },
      "outputs": [
        {
          "output_type": "execute_result",
          "data": {
            "text/plain": [
              "  Weight Element                                           Molecule BasisSet  \\\n",
              "0      1       H  \\n      H\\t0.0000000\\t0.0000000 0.702529311476...  cc-pV6Z   \n",
              "1      1       H  \\n      H\\t0.0000000\\t0.0000000 0.702529311476...  cc-pVQZ   \n",
              "\n",
              "  Spin      CCSD     CCSDT  DFT-b3lyp  DFT-M06-2X  DFT-SCAN  DFT-wB97X-V  \\\n",
              "0    0 -1.174343 -1.174343  -1.173946   -1.170245 -1.171907    -1.182134   \n",
              "1    0 -1.173795 -1.173795  -1.173777   -1.169500 -1.171752    -1.181981   \n",
              "\n",
              "   DFT-PW6B95   DFT-pbe  DFT-pbe0  NN-Functional.DM21  NN-Functional.DM21m  \\\n",
              "0   -1.175859 -1.166716 -1.169065           -1.176995            -1.173820   \n",
              "1   -1.175685 -1.166563 -1.168915           -1.176683            -1.173562   \n",
              "\n",
              "   NN-Functional.DM21mc  NN-Functional.DM21mu  \n",
              "0             -1.177625             -1.175387  \n",
              "1             -1.177350             -1.175161  "
            ],
            "text/html": [
              "\n",
              "  <div id=\"df-71ad9430-4343-4562-8bf1-8c88d0b664ab\">\n",
              "    <div class=\"colab-df-container\">\n",
              "      <div>\n",
              "<style scoped>\n",
              "    .dataframe tbody tr th:only-of-type {\n",
              "        vertical-align: middle;\n",
              "    }\n",
              "\n",
              "    .dataframe tbody tr th {\n",
              "        vertical-align: top;\n",
              "    }\n",
              "\n",
              "    .dataframe thead th {\n",
              "        text-align: right;\n",
              "    }\n",
              "</style>\n",
              "<table border=\"1\" class=\"dataframe\">\n",
              "  <thead>\n",
              "    <tr style=\"text-align: right;\">\n",
              "      <th></th>\n",
              "      <th>Weight</th>\n",
              "      <th>Element</th>\n",
              "      <th>Molecule</th>\n",
              "      <th>BasisSet</th>\n",
              "      <th>Spin</th>\n",
              "      <th>CCSD</th>\n",
              "      <th>CCSDT</th>\n",
              "      <th>DFT-b3lyp</th>\n",
              "      <th>DFT-M06-2X</th>\n",
              "      <th>DFT-SCAN</th>\n",
              "      <th>DFT-wB97X-V</th>\n",
              "      <th>DFT-PW6B95</th>\n",
              "      <th>DFT-pbe</th>\n",
              "      <th>DFT-pbe0</th>\n",
              "      <th>NN-Functional.DM21</th>\n",
              "      <th>NN-Functional.DM21m</th>\n",
              "      <th>NN-Functional.DM21mc</th>\n",
              "      <th>NN-Functional.DM21mu</th>\n",
              "    </tr>\n",
              "  </thead>\n",
              "  <tbody>\n",
              "    <tr>\n",
              "      <th>0</th>\n",
              "      <td>1</td>\n",
              "      <td>H</td>\n",
              "      <td>\\n      H\\t0.0000000\\t0.0000000 0.702529311476...</td>\n",
              "      <td>cc-pV6Z</td>\n",
              "      <td>0</td>\n",
              "      <td>-1.174343</td>\n",
              "      <td>-1.174343</td>\n",
              "      <td>-1.173946</td>\n",
              "      <td>-1.170245</td>\n",
              "      <td>-1.171907</td>\n",
              "      <td>-1.182134</td>\n",
              "      <td>-1.175859</td>\n",
              "      <td>-1.166716</td>\n",
              "      <td>-1.169065</td>\n",
              "      <td>-1.176995</td>\n",
              "      <td>-1.173820</td>\n",
              "      <td>-1.177625</td>\n",
              "      <td>-1.175387</td>\n",
              "    </tr>\n",
              "    <tr>\n",
              "      <th>1</th>\n",
              "      <td>1</td>\n",
              "      <td>H</td>\n",
              "      <td>\\n      H\\t0.0000000\\t0.0000000 0.702529311476...</td>\n",
              "      <td>cc-pVQZ</td>\n",
              "      <td>0</td>\n",
              "      <td>-1.173795</td>\n",
              "      <td>-1.173795</td>\n",
              "      <td>-1.173777</td>\n",
              "      <td>-1.169500</td>\n",
              "      <td>-1.171752</td>\n",
              "      <td>-1.181981</td>\n",
              "      <td>-1.175685</td>\n",
              "      <td>-1.166563</td>\n",
              "      <td>-1.168915</td>\n",
              "      <td>-1.176683</td>\n",
              "      <td>-1.173562</td>\n",
              "      <td>-1.177350</td>\n",
              "      <td>-1.175161</td>\n",
              "    </tr>\n",
              "  </tbody>\n",
              "</table>\n",
              "</div>\n",
              "      <button class=\"colab-df-convert\" onclick=\"convertToInteractive('df-71ad9430-4343-4562-8bf1-8c88d0b664ab')\"\n",
              "              title=\"Convert this dataframe to an interactive table.\"\n",
              "              style=\"display:none;\">\n",
              "        \n",
              "  <svg xmlns=\"http://www.w3.org/2000/svg\" height=\"24px\"viewBox=\"0 0 24 24\"\n",
              "       width=\"24px\">\n",
              "    <path d=\"M0 0h24v24H0V0z\" fill=\"none\"/>\n",
              "    <path d=\"M18.56 5.44l.94 2.06.94-2.06 2.06-.94-2.06-.94-.94-2.06-.94 2.06-2.06.94zm-11 1L8.5 8.5l.94-2.06 2.06-.94-2.06-.94L8.5 2.5l-.94 2.06-2.06.94zm10 10l.94 2.06.94-2.06 2.06-.94-2.06-.94-.94-2.06-.94 2.06-2.06.94z\"/><path d=\"M17.41 7.96l-1.37-1.37c-.4-.4-.92-.59-1.43-.59-.52 0-1.04.2-1.43.59L10.3 9.45l-7.72 7.72c-.78.78-.78 2.05 0 2.83L4 21.41c.39.39.9.59 1.41.59.51 0 1.02-.2 1.41-.59l7.78-7.78 2.81-2.81c.8-.78.8-2.07 0-2.86zM5.41 20L4 18.59l7.72-7.72 1.47 1.35L5.41 20z\"/>\n",
              "  </svg>\n",
              "      </button>\n",
              "      \n",
              "  <style>\n",
              "    .colab-df-container {\n",
              "      display:flex;\n",
              "      flex-wrap:wrap;\n",
              "      gap: 12px;\n",
              "    }\n",
              "\n",
              "    .colab-df-convert {\n",
              "      background-color: #E8F0FE;\n",
              "      border: none;\n",
              "      border-radius: 50%;\n",
              "      cursor: pointer;\n",
              "      display: none;\n",
              "      fill: #1967D2;\n",
              "      height: 32px;\n",
              "      padding: 0 0 0 0;\n",
              "      width: 32px;\n",
              "    }\n",
              "\n",
              "    .colab-df-convert:hover {\n",
              "      background-color: #E2EBFA;\n",
              "      box-shadow: 0px 1px 2px rgba(60, 64, 67, 0.3), 0px 1px 3px 1px rgba(60, 64, 67, 0.15);\n",
              "      fill: #174EA6;\n",
              "    }\n",
              "\n",
              "    [theme=dark] .colab-df-convert {\n",
              "      background-color: #3B4455;\n",
              "      fill: #D2E3FC;\n",
              "    }\n",
              "\n",
              "    [theme=dark] .colab-df-convert:hover {\n",
              "      background-color: #434B5C;\n",
              "      box-shadow: 0px 1px 3px 1px rgba(0, 0, 0, 0.15);\n",
              "      filter: drop-shadow(0px 1px 2px rgba(0, 0, 0, 0.3));\n",
              "      fill: #FFFFFF;\n",
              "    }\n",
              "  </style>\n",
              "\n",
              "      <script>\n",
              "        const buttonEl =\n",
              "          document.querySelector('#df-71ad9430-4343-4562-8bf1-8c88d0b664ab button.colab-df-convert');\n",
              "        buttonEl.style.display =\n",
              "          google.colab.kernel.accessAllowed ? 'block' : 'none';\n",
              "\n",
              "        async function convertToInteractive(key) {\n",
              "          const element = document.querySelector('#df-71ad9430-4343-4562-8bf1-8c88d0b664ab');\n",
              "          const dataTable =\n",
              "            await google.colab.kernel.invokeFunction('convertToInteractive',\n",
              "                                                     [key], {});\n",
              "          if (!dataTable) return;\n",
              "\n",
              "          const docLinkHtml = 'Like what you see? Visit the ' +\n",
              "            '<a target=\"_blank\" href=https://colab.research.google.com/notebooks/data_table.ipynb>data table notebook</a>'\n",
              "            + ' to learn more about interactive tables.';\n",
              "          element.innerHTML = '';\n",
              "          dataTable['output_type'] = 'display_data';\n",
              "          await google.colab.output.renderOutput(dataTable, element);\n",
              "          const docLink = document.createElement('div');\n",
              "          docLink.innerHTML = docLinkHtml;\n",
              "          element.appendChild(docLink);\n",
              "        }\n",
              "      </script>\n",
              "    </div>\n",
              "  </div>\n",
              "  "
            ]
          },
          "metadata": {},
          "execution_count": 53
        }
      ],
      "source": [
        "df"
      ]
    },
    {
      "cell_type": "code",
      "execution_count": 54,
      "metadata": {
        "id": "JvzYKTfBL4i8",
        "colab": {
          "base_uri": "https://localhost:8080/",
          "height": 263
        },
        "outputId": "afaa9eaf-4ae2-4dc2-c200-8d91282cd846"
      },
      "outputs": [
        {
          "output_type": "execute_result",
          "data": {
            "text/plain": [
              "  Weight Element                                           Molecule BasisSet  \\\n",
              "0      1       H  \\n      H\\t0.0000000\\t0.0000000 0.702529311476...  cc-pV6Z   \n",
              "1      1       H  \\n      H\\t0.0000000\\t0.0000000 0.702529311476...  cc-pVQZ   \n",
              "\n",
              "  Spin      CCSD     CCSDT  DFT-b3lyp  DFT-M06-2X  DFT-SCAN  DFT-wB97X-V  \\\n",
              "0    0 -1.174343 -1.174343  -1.173946   -1.170245 -1.171907    -1.182134   \n",
              "1    0 -1.173795 -1.173795  -1.173777   -1.169500 -1.171752    -1.181981   \n",
              "\n",
              "   DFT-PW6B95   DFT-pbe  DFT-pbe0  NN-Functional.DM21  NN-Functional.DM21m  \\\n",
              "0   -1.175859 -1.166716 -1.169065           -1.176995            -1.173820   \n",
              "1   -1.175685 -1.166563 -1.168915           -1.176683            -1.173562   \n",
              "\n",
              "   NN-Functional.DM21mc  NN-Functional.DM21mu  \n",
              "0             -1.177625             -1.175387  \n",
              "1             -1.177350             -1.175161  "
            ],
            "text/html": [
              "\n",
              "  <div id=\"df-cf04132c-fa12-4b6f-be4e-2a075f6a8682\">\n",
              "    <div class=\"colab-df-container\">\n",
              "      <div>\n",
              "<style scoped>\n",
              "    .dataframe tbody tr th:only-of-type {\n",
              "        vertical-align: middle;\n",
              "    }\n",
              "\n",
              "    .dataframe tbody tr th {\n",
              "        vertical-align: top;\n",
              "    }\n",
              "\n",
              "    .dataframe thead th {\n",
              "        text-align: right;\n",
              "    }\n",
              "</style>\n",
              "<table border=\"1\" class=\"dataframe\">\n",
              "  <thead>\n",
              "    <tr style=\"text-align: right;\">\n",
              "      <th></th>\n",
              "      <th>Weight</th>\n",
              "      <th>Element</th>\n",
              "      <th>Molecule</th>\n",
              "      <th>BasisSet</th>\n",
              "      <th>Spin</th>\n",
              "      <th>CCSD</th>\n",
              "      <th>CCSDT</th>\n",
              "      <th>DFT-b3lyp</th>\n",
              "      <th>DFT-M06-2X</th>\n",
              "      <th>DFT-SCAN</th>\n",
              "      <th>DFT-wB97X-V</th>\n",
              "      <th>DFT-PW6B95</th>\n",
              "      <th>DFT-pbe</th>\n",
              "      <th>DFT-pbe0</th>\n",
              "      <th>NN-Functional.DM21</th>\n",
              "      <th>NN-Functional.DM21m</th>\n",
              "      <th>NN-Functional.DM21mc</th>\n",
              "      <th>NN-Functional.DM21mu</th>\n",
              "    </tr>\n",
              "  </thead>\n",
              "  <tbody>\n",
              "    <tr>\n",
              "      <th>0</th>\n",
              "      <td>1</td>\n",
              "      <td>H</td>\n",
              "      <td>\\n      H\\t0.0000000\\t0.0000000 0.702529311476...</td>\n",
              "      <td>cc-pV6Z</td>\n",
              "      <td>0</td>\n",
              "      <td>-1.174343</td>\n",
              "      <td>-1.174343</td>\n",
              "      <td>-1.173946</td>\n",
              "      <td>-1.170245</td>\n",
              "      <td>-1.171907</td>\n",
              "      <td>-1.182134</td>\n",
              "      <td>-1.175859</td>\n",
              "      <td>-1.166716</td>\n",
              "      <td>-1.169065</td>\n",
              "      <td>-1.176995</td>\n",
              "      <td>-1.173820</td>\n",
              "      <td>-1.177625</td>\n",
              "      <td>-1.175387</td>\n",
              "    </tr>\n",
              "    <tr>\n",
              "      <th>1</th>\n",
              "      <td>1</td>\n",
              "      <td>H</td>\n",
              "      <td>\\n      H\\t0.0000000\\t0.0000000 0.702529311476...</td>\n",
              "      <td>cc-pVQZ</td>\n",
              "      <td>0</td>\n",
              "      <td>-1.173795</td>\n",
              "      <td>-1.173795</td>\n",
              "      <td>-1.173777</td>\n",
              "      <td>-1.169500</td>\n",
              "      <td>-1.171752</td>\n",
              "      <td>-1.181981</td>\n",
              "      <td>-1.175685</td>\n",
              "      <td>-1.166563</td>\n",
              "      <td>-1.168915</td>\n",
              "      <td>-1.176683</td>\n",
              "      <td>-1.173562</td>\n",
              "      <td>-1.177350</td>\n",
              "      <td>-1.175161</td>\n",
              "    </tr>\n",
              "  </tbody>\n",
              "</table>\n",
              "</div>\n",
              "      <button class=\"colab-df-convert\" onclick=\"convertToInteractive('df-cf04132c-fa12-4b6f-be4e-2a075f6a8682')\"\n",
              "              title=\"Convert this dataframe to an interactive table.\"\n",
              "              style=\"display:none;\">\n",
              "        \n",
              "  <svg xmlns=\"http://www.w3.org/2000/svg\" height=\"24px\"viewBox=\"0 0 24 24\"\n",
              "       width=\"24px\">\n",
              "    <path d=\"M0 0h24v24H0V0z\" fill=\"none\"/>\n",
              "    <path d=\"M18.56 5.44l.94 2.06.94-2.06 2.06-.94-2.06-.94-.94-2.06-.94 2.06-2.06.94zm-11 1L8.5 8.5l.94-2.06 2.06-.94-2.06-.94L8.5 2.5l-.94 2.06-2.06.94zm10 10l.94 2.06.94-2.06 2.06-.94-2.06-.94-.94-2.06-.94 2.06-2.06.94z\"/><path d=\"M17.41 7.96l-1.37-1.37c-.4-.4-.92-.59-1.43-.59-.52 0-1.04.2-1.43.59L10.3 9.45l-7.72 7.72c-.78.78-.78 2.05 0 2.83L4 21.41c.39.39.9.59 1.41.59.51 0 1.02-.2 1.41-.59l7.78-7.78 2.81-2.81c.8-.78.8-2.07 0-2.86zM5.41 20L4 18.59l7.72-7.72 1.47 1.35L5.41 20z\"/>\n",
              "  </svg>\n",
              "      </button>\n",
              "      \n",
              "  <style>\n",
              "    .colab-df-container {\n",
              "      display:flex;\n",
              "      flex-wrap:wrap;\n",
              "      gap: 12px;\n",
              "    }\n",
              "\n",
              "    .colab-df-convert {\n",
              "      background-color: #E8F0FE;\n",
              "      border: none;\n",
              "      border-radius: 50%;\n",
              "      cursor: pointer;\n",
              "      display: none;\n",
              "      fill: #1967D2;\n",
              "      height: 32px;\n",
              "      padding: 0 0 0 0;\n",
              "      width: 32px;\n",
              "    }\n",
              "\n",
              "    .colab-df-convert:hover {\n",
              "      background-color: #E2EBFA;\n",
              "      box-shadow: 0px 1px 2px rgba(60, 64, 67, 0.3), 0px 1px 3px 1px rgba(60, 64, 67, 0.15);\n",
              "      fill: #174EA6;\n",
              "    }\n",
              "\n",
              "    [theme=dark] .colab-df-convert {\n",
              "      background-color: #3B4455;\n",
              "      fill: #D2E3FC;\n",
              "    }\n",
              "\n",
              "    [theme=dark] .colab-df-convert:hover {\n",
              "      background-color: #434B5C;\n",
              "      box-shadow: 0px 1px 3px 1px rgba(0, 0, 0, 0.15);\n",
              "      filter: drop-shadow(0px 1px 2px rgba(0, 0, 0, 0.3));\n",
              "      fill: #FFFFFF;\n",
              "    }\n",
              "  </style>\n",
              "\n",
              "      <script>\n",
              "        const buttonEl =\n",
              "          document.querySelector('#df-cf04132c-fa12-4b6f-be4e-2a075f6a8682 button.colab-df-convert');\n",
              "        buttonEl.style.display =\n",
              "          google.colab.kernel.accessAllowed ? 'block' : 'none';\n",
              "\n",
              "        async function convertToInteractive(key) {\n",
              "          const element = document.querySelector('#df-cf04132c-fa12-4b6f-be4e-2a075f6a8682');\n",
              "          const dataTable =\n",
              "            await google.colab.kernel.invokeFunction('convertToInteractive',\n",
              "                                                     [key], {});\n",
              "          if (!dataTable) return;\n",
              "\n",
              "          const docLinkHtml = 'Like what you see? Visit the ' +\n",
              "            '<a target=\"_blank\" href=https://colab.research.google.com/notebooks/data_table.ipynb>data table notebook</a>'\n",
              "            + ' to learn more about interactive tables.';\n",
              "          element.innerHTML = '';\n",
              "          dataTable['output_type'] = 'display_data';\n",
              "          await google.colab.output.renderOutput(dataTable, element);\n",
              "          const docLink = document.createElement('div');\n",
              "          docLink.innerHTML = docLinkHtml;\n",
              "          element.appendChild(docLink);\n",
              "        }\n",
              "      </script>\n",
              "    </div>\n",
              "  </div>\n",
              "  "
            ]
          },
          "metadata": {},
          "execution_count": 54
        }
      ],
      "source": [
        "df"
      ]
    },
    {
      "cell_type": "code",
      "execution_count": 55,
      "metadata": {
        "id": "bNVksggI2bfR"
      },
      "outputs": [],
      "source": [
        "GOLDBasisSET= 'cc-pV6Z'\n",
        "GOLDBasisSET= 'cc-pVQZ'"
      ]
    },
    {
      "cell_type": "code",
      "execution_count": 56,
      "metadata": {
        "id": "MvOnUvepzrfa"
      },
      "outputs": [],
      "source": [
        "import copy \n",
        "dfcopy = df.copy()"
      ]
    },
    {
      "cell_type": "markdown",
      "metadata": {
        "id": "0cStWpN522nB"
      },
      "source": [
        "# Gold CCSD(T) Reference value  "
      ]
    },
    {
      "cell_type": "code",
      "execution_count": 57,
      "metadata": {
        "id": "pggxzhX_z915",
        "colab": {
          "base_uri": "https://localhost:8080/",
          "height": 197
        },
        "outputId": "57a8a59f-f375-4e8a-e91d-d705c3a9aa0a"
      },
      "outputs": [
        {
          "output_type": "execute_result",
          "data": {
            "text/plain": [
              "  Weight Element                                           Molecule BasisSet  \\\n",
              "1      1       H  \\n      H\\t0.0000000\\t0.0000000 0.702529311476...  cc-pVQZ   \n",
              "\n",
              "  Spin      CCSD     CCSDT  DFT-b3lyp  DFT-M06-2X  DFT-SCAN  DFT-wB97X-V  \\\n",
              "1    0 -1.173795 -1.173795  -1.173777     -1.1695 -1.171752    -1.181981   \n",
              "\n",
              "   DFT-PW6B95   DFT-pbe  DFT-pbe0  NN-Functional.DM21  NN-Functional.DM21m  \\\n",
              "1   -1.175685 -1.166563 -1.168915           -1.176683            -1.173562   \n",
              "\n",
              "   NN-Functional.DM21mc  NN-Functional.DM21mu  \n",
              "1              -1.17735             -1.175161  "
            ],
            "text/html": [
              "\n",
              "  <div id=\"df-0c2fa18e-a34a-4b51-9c01-c252a8f8bfbd\">\n",
              "    <div class=\"colab-df-container\">\n",
              "      <div>\n",
              "<style scoped>\n",
              "    .dataframe tbody tr th:only-of-type {\n",
              "        vertical-align: middle;\n",
              "    }\n",
              "\n",
              "    .dataframe tbody tr th {\n",
              "        vertical-align: top;\n",
              "    }\n",
              "\n",
              "    .dataframe thead th {\n",
              "        text-align: right;\n",
              "    }\n",
              "</style>\n",
              "<table border=\"1\" class=\"dataframe\">\n",
              "  <thead>\n",
              "    <tr style=\"text-align: right;\">\n",
              "      <th></th>\n",
              "      <th>Weight</th>\n",
              "      <th>Element</th>\n",
              "      <th>Molecule</th>\n",
              "      <th>BasisSet</th>\n",
              "      <th>Spin</th>\n",
              "      <th>CCSD</th>\n",
              "      <th>CCSDT</th>\n",
              "      <th>DFT-b3lyp</th>\n",
              "      <th>DFT-M06-2X</th>\n",
              "      <th>DFT-SCAN</th>\n",
              "      <th>DFT-wB97X-V</th>\n",
              "      <th>DFT-PW6B95</th>\n",
              "      <th>DFT-pbe</th>\n",
              "      <th>DFT-pbe0</th>\n",
              "      <th>NN-Functional.DM21</th>\n",
              "      <th>NN-Functional.DM21m</th>\n",
              "      <th>NN-Functional.DM21mc</th>\n",
              "      <th>NN-Functional.DM21mu</th>\n",
              "    </tr>\n",
              "  </thead>\n",
              "  <tbody>\n",
              "    <tr>\n",
              "      <th>1</th>\n",
              "      <td>1</td>\n",
              "      <td>H</td>\n",
              "      <td>\\n      H\\t0.0000000\\t0.0000000 0.702529311476...</td>\n",
              "      <td>cc-pVQZ</td>\n",
              "      <td>0</td>\n",
              "      <td>-1.173795</td>\n",
              "      <td>-1.173795</td>\n",
              "      <td>-1.173777</td>\n",
              "      <td>-1.1695</td>\n",
              "      <td>-1.171752</td>\n",
              "      <td>-1.181981</td>\n",
              "      <td>-1.175685</td>\n",
              "      <td>-1.166563</td>\n",
              "      <td>-1.168915</td>\n",
              "      <td>-1.176683</td>\n",
              "      <td>-1.173562</td>\n",
              "      <td>-1.17735</td>\n",
              "      <td>-1.175161</td>\n",
              "    </tr>\n",
              "  </tbody>\n",
              "</table>\n",
              "</div>\n",
              "      <button class=\"colab-df-convert\" onclick=\"convertToInteractive('df-0c2fa18e-a34a-4b51-9c01-c252a8f8bfbd')\"\n",
              "              title=\"Convert this dataframe to an interactive table.\"\n",
              "              style=\"display:none;\">\n",
              "        \n",
              "  <svg xmlns=\"http://www.w3.org/2000/svg\" height=\"24px\"viewBox=\"0 0 24 24\"\n",
              "       width=\"24px\">\n",
              "    <path d=\"M0 0h24v24H0V0z\" fill=\"none\"/>\n",
              "    <path d=\"M18.56 5.44l.94 2.06.94-2.06 2.06-.94-2.06-.94-.94-2.06-.94 2.06-2.06.94zm-11 1L8.5 8.5l.94-2.06 2.06-.94-2.06-.94L8.5 2.5l-.94 2.06-2.06.94zm10 10l.94 2.06.94-2.06 2.06-.94-2.06-.94-.94-2.06-.94 2.06-2.06.94z\"/><path d=\"M17.41 7.96l-1.37-1.37c-.4-.4-.92-.59-1.43-.59-.52 0-1.04.2-1.43.59L10.3 9.45l-7.72 7.72c-.78.78-.78 2.05 0 2.83L4 21.41c.39.39.9.59 1.41.59.51 0 1.02-.2 1.41-.59l7.78-7.78 2.81-2.81c.8-.78.8-2.07 0-2.86zM5.41 20L4 18.59l7.72-7.72 1.47 1.35L5.41 20z\"/>\n",
              "  </svg>\n",
              "      </button>\n",
              "      \n",
              "  <style>\n",
              "    .colab-df-container {\n",
              "      display:flex;\n",
              "      flex-wrap:wrap;\n",
              "      gap: 12px;\n",
              "    }\n",
              "\n",
              "    .colab-df-convert {\n",
              "      background-color: #E8F0FE;\n",
              "      border: none;\n",
              "      border-radius: 50%;\n",
              "      cursor: pointer;\n",
              "      display: none;\n",
              "      fill: #1967D2;\n",
              "      height: 32px;\n",
              "      padding: 0 0 0 0;\n",
              "      width: 32px;\n",
              "    }\n",
              "\n",
              "    .colab-df-convert:hover {\n",
              "      background-color: #E2EBFA;\n",
              "      box-shadow: 0px 1px 2px rgba(60, 64, 67, 0.3), 0px 1px 3px 1px rgba(60, 64, 67, 0.15);\n",
              "      fill: #174EA6;\n",
              "    }\n",
              "\n",
              "    [theme=dark] .colab-df-convert {\n",
              "      background-color: #3B4455;\n",
              "      fill: #D2E3FC;\n",
              "    }\n",
              "\n",
              "    [theme=dark] .colab-df-convert:hover {\n",
              "      background-color: #434B5C;\n",
              "      box-shadow: 0px 1px 3px 1px rgba(0, 0, 0, 0.15);\n",
              "      filter: drop-shadow(0px 1px 2px rgba(0, 0, 0, 0.3));\n",
              "      fill: #FFFFFF;\n",
              "    }\n",
              "  </style>\n",
              "\n",
              "      <script>\n",
              "        const buttonEl =\n",
              "          document.querySelector('#df-0c2fa18e-a34a-4b51-9c01-c252a8f8bfbd button.colab-df-convert');\n",
              "        buttonEl.style.display =\n",
              "          google.colab.kernel.accessAllowed ? 'block' : 'none';\n",
              "\n",
              "        async function convertToInteractive(key) {\n",
              "          const element = document.querySelector('#df-0c2fa18e-a34a-4b51-9c01-c252a8f8bfbd');\n",
              "          const dataTable =\n",
              "            await google.colab.kernel.invokeFunction('convertToInteractive',\n",
              "                                                     [key], {});\n",
              "          if (!dataTable) return;\n",
              "\n",
              "          const docLinkHtml = 'Like what you see? Visit the ' +\n",
              "            '<a target=\"_blank\" href=https://colab.research.google.com/notebooks/data_table.ipynb>data table notebook</a>'\n",
              "            + ' to learn more about interactive tables.';\n",
              "          element.innerHTML = '';\n",
              "          dataTable['output_type'] = 'display_data';\n",
              "          await google.colab.output.renderOutput(dataTable, element);\n",
              "          const docLink = document.createElement('div');\n",
              "          docLink.innerHTML = docLinkHtml;\n",
              "          element.appendChild(docLink);\n",
              "        }\n",
              "      </script>\n",
              "    </div>\n",
              "  </div>\n",
              "  "
            ]
          },
          "metadata": {},
          "execution_count": 57
        }
      ],
      "source": [
        "dfspecficrow = dfcopy[dfcopy['BasisSet'] == GOLDBasisSET]\n",
        "\n",
        "\n",
        "\n",
        "dfspecficrow\n"
      ]
    },
    {
      "cell_type": "code",
      "execution_count": 58,
      "metadata": {
        "id": "rk7zJTdo1N-q"
      },
      "outputs": [],
      "source": [
        "ccsdtgoldseries = dfspecficrow['CCSDT']\n"
      ]
    },
    {
      "cell_type": "code",
      "execution_count": 59,
      "metadata": {
        "id": "83bOBztqZGm3",
        "colab": {
          "base_uri": "https://localhost:8080/"
        },
        "outputId": "8dcc2045-4c93-45c7-f28f-c3baf4420951"
      },
      "outputs": [
        {
          "output_type": "execute_result",
          "data": {
            "text/plain": [
              "1   -1.173795\n",
              "Name: CCSDT, dtype: float64"
            ]
          },
          "metadata": {},
          "execution_count": 59
        }
      ],
      "source": [
        "ccsdtgoldseries"
      ]
    },
    {
      "cell_type": "code",
      "execution_count": 60,
      "metadata": {
        "id": "Ud0Zs-ynZD-S",
        "colab": {
          "base_uri": "https://localhost:8080/"
        },
        "outputId": "08524519-ddad-4584-8833-9d4420b2bcdf"
      },
      "outputs": [
        {
          "output_type": "execute_result",
          "data": {
            "text/plain": [
              "-1.1737946493272837"
            ]
          },
          "metadata": {},
          "execution_count": 60
        }
      ],
      "source": [
        "ccsdtgold = ccsdtgoldseries[1]\n",
        "ccsdtgold"
      ]
    },
    {
      "cell_type": "code",
      "execution_count": 61,
      "metadata": {
        "id": "gCc_KWkNz2OG"
      },
      "outputs": [],
      "source": [
        "dfcopy['CCSDT_G'] = ccsdtgold"
      ]
    },
    {
      "cell_type": "code",
      "execution_count": 62,
      "metadata": {
        "id": "1ER4sary1wnP",
        "colab": {
          "base_uri": "https://localhost:8080/",
          "height": 263
        },
        "outputId": "5ae14e5e-fe4c-440b-9d08-e649a41d4f71"
      },
      "outputs": [
        {
          "output_type": "execute_result",
          "data": {
            "text/plain": [
              "  Weight Element                                           Molecule BasisSet  \\\n",
              "0      1       H  \\n      H\\t0.0000000\\t0.0000000 0.702529311476...  cc-pV6Z   \n",
              "1      1       H  \\n      H\\t0.0000000\\t0.0000000 0.702529311476...  cc-pVQZ   \n",
              "\n",
              "  Spin      CCSD     CCSDT  DFT-b3lyp  DFT-M06-2X  DFT-SCAN  DFT-wB97X-V  \\\n",
              "0    0 -1.174343 -1.174343  -1.173946   -1.170245 -1.171907    -1.182134   \n",
              "1    0 -1.173795 -1.173795  -1.173777   -1.169500 -1.171752    -1.181981   \n",
              "\n",
              "   DFT-PW6B95   DFT-pbe  DFT-pbe0  NN-Functional.DM21  NN-Functional.DM21m  \\\n",
              "0   -1.175859 -1.166716 -1.169065           -1.176995            -1.173820   \n",
              "1   -1.175685 -1.166563 -1.168915           -1.176683            -1.173562   \n",
              "\n",
              "   NN-Functional.DM21mc  NN-Functional.DM21mu   CCSDT_G  \n",
              "0             -1.177625             -1.175387 -1.173795  \n",
              "1             -1.177350             -1.175161 -1.173795  "
            ],
            "text/html": [
              "\n",
              "  <div id=\"df-d1a3dc58-023c-4a2d-9879-5c9da6032fc5\">\n",
              "    <div class=\"colab-df-container\">\n",
              "      <div>\n",
              "<style scoped>\n",
              "    .dataframe tbody tr th:only-of-type {\n",
              "        vertical-align: middle;\n",
              "    }\n",
              "\n",
              "    .dataframe tbody tr th {\n",
              "        vertical-align: top;\n",
              "    }\n",
              "\n",
              "    .dataframe thead th {\n",
              "        text-align: right;\n",
              "    }\n",
              "</style>\n",
              "<table border=\"1\" class=\"dataframe\">\n",
              "  <thead>\n",
              "    <tr style=\"text-align: right;\">\n",
              "      <th></th>\n",
              "      <th>Weight</th>\n",
              "      <th>Element</th>\n",
              "      <th>Molecule</th>\n",
              "      <th>BasisSet</th>\n",
              "      <th>Spin</th>\n",
              "      <th>CCSD</th>\n",
              "      <th>CCSDT</th>\n",
              "      <th>DFT-b3lyp</th>\n",
              "      <th>DFT-M06-2X</th>\n",
              "      <th>DFT-SCAN</th>\n",
              "      <th>DFT-wB97X-V</th>\n",
              "      <th>DFT-PW6B95</th>\n",
              "      <th>DFT-pbe</th>\n",
              "      <th>DFT-pbe0</th>\n",
              "      <th>NN-Functional.DM21</th>\n",
              "      <th>NN-Functional.DM21m</th>\n",
              "      <th>NN-Functional.DM21mc</th>\n",
              "      <th>NN-Functional.DM21mu</th>\n",
              "      <th>CCSDT_G</th>\n",
              "    </tr>\n",
              "  </thead>\n",
              "  <tbody>\n",
              "    <tr>\n",
              "      <th>0</th>\n",
              "      <td>1</td>\n",
              "      <td>H</td>\n",
              "      <td>\\n      H\\t0.0000000\\t0.0000000 0.702529311476...</td>\n",
              "      <td>cc-pV6Z</td>\n",
              "      <td>0</td>\n",
              "      <td>-1.174343</td>\n",
              "      <td>-1.174343</td>\n",
              "      <td>-1.173946</td>\n",
              "      <td>-1.170245</td>\n",
              "      <td>-1.171907</td>\n",
              "      <td>-1.182134</td>\n",
              "      <td>-1.175859</td>\n",
              "      <td>-1.166716</td>\n",
              "      <td>-1.169065</td>\n",
              "      <td>-1.176995</td>\n",
              "      <td>-1.173820</td>\n",
              "      <td>-1.177625</td>\n",
              "      <td>-1.175387</td>\n",
              "      <td>-1.173795</td>\n",
              "    </tr>\n",
              "    <tr>\n",
              "      <th>1</th>\n",
              "      <td>1</td>\n",
              "      <td>H</td>\n",
              "      <td>\\n      H\\t0.0000000\\t0.0000000 0.702529311476...</td>\n",
              "      <td>cc-pVQZ</td>\n",
              "      <td>0</td>\n",
              "      <td>-1.173795</td>\n",
              "      <td>-1.173795</td>\n",
              "      <td>-1.173777</td>\n",
              "      <td>-1.169500</td>\n",
              "      <td>-1.171752</td>\n",
              "      <td>-1.181981</td>\n",
              "      <td>-1.175685</td>\n",
              "      <td>-1.166563</td>\n",
              "      <td>-1.168915</td>\n",
              "      <td>-1.176683</td>\n",
              "      <td>-1.173562</td>\n",
              "      <td>-1.177350</td>\n",
              "      <td>-1.175161</td>\n",
              "      <td>-1.173795</td>\n",
              "    </tr>\n",
              "  </tbody>\n",
              "</table>\n",
              "</div>\n",
              "      <button class=\"colab-df-convert\" onclick=\"convertToInteractive('df-d1a3dc58-023c-4a2d-9879-5c9da6032fc5')\"\n",
              "              title=\"Convert this dataframe to an interactive table.\"\n",
              "              style=\"display:none;\">\n",
              "        \n",
              "  <svg xmlns=\"http://www.w3.org/2000/svg\" height=\"24px\"viewBox=\"0 0 24 24\"\n",
              "       width=\"24px\">\n",
              "    <path d=\"M0 0h24v24H0V0z\" fill=\"none\"/>\n",
              "    <path d=\"M18.56 5.44l.94 2.06.94-2.06 2.06-.94-2.06-.94-.94-2.06-.94 2.06-2.06.94zm-11 1L8.5 8.5l.94-2.06 2.06-.94-2.06-.94L8.5 2.5l-.94 2.06-2.06.94zm10 10l.94 2.06.94-2.06 2.06-.94-2.06-.94-.94-2.06-.94 2.06-2.06.94z\"/><path d=\"M17.41 7.96l-1.37-1.37c-.4-.4-.92-.59-1.43-.59-.52 0-1.04.2-1.43.59L10.3 9.45l-7.72 7.72c-.78.78-.78 2.05 0 2.83L4 21.41c.39.39.9.59 1.41.59.51 0 1.02-.2 1.41-.59l7.78-7.78 2.81-2.81c.8-.78.8-2.07 0-2.86zM5.41 20L4 18.59l7.72-7.72 1.47 1.35L5.41 20z\"/>\n",
              "  </svg>\n",
              "      </button>\n",
              "      \n",
              "  <style>\n",
              "    .colab-df-container {\n",
              "      display:flex;\n",
              "      flex-wrap:wrap;\n",
              "      gap: 12px;\n",
              "    }\n",
              "\n",
              "    .colab-df-convert {\n",
              "      background-color: #E8F0FE;\n",
              "      border: none;\n",
              "      border-radius: 50%;\n",
              "      cursor: pointer;\n",
              "      display: none;\n",
              "      fill: #1967D2;\n",
              "      height: 32px;\n",
              "      padding: 0 0 0 0;\n",
              "      width: 32px;\n",
              "    }\n",
              "\n",
              "    .colab-df-convert:hover {\n",
              "      background-color: #E2EBFA;\n",
              "      box-shadow: 0px 1px 2px rgba(60, 64, 67, 0.3), 0px 1px 3px 1px rgba(60, 64, 67, 0.15);\n",
              "      fill: #174EA6;\n",
              "    }\n",
              "\n",
              "    [theme=dark] .colab-df-convert {\n",
              "      background-color: #3B4455;\n",
              "      fill: #D2E3FC;\n",
              "    }\n",
              "\n",
              "    [theme=dark] .colab-df-convert:hover {\n",
              "      background-color: #434B5C;\n",
              "      box-shadow: 0px 1px 3px 1px rgba(0, 0, 0, 0.15);\n",
              "      filter: drop-shadow(0px 1px 2px rgba(0, 0, 0, 0.3));\n",
              "      fill: #FFFFFF;\n",
              "    }\n",
              "  </style>\n",
              "\n",
              "      <script>\n",
              "        const buttonEl =\n",
              "          document.querySelector('#df-d1a3dc58-023c-4a2d-9879-5c9da6032fc5 button.colab-df-convert');\n",
              "        buttonEl.style.display =\n",
              "          google.colab.kernel.accessAllowed ? 'block' : 'none';\n",
              "\n",
              "        async function convertToInteractive(key) {\n",
              "          const element = document.querySelector('#df-d1a3dc58-023c-4a2d-9879-5c9da6032fc5');\n",
              "          const dataTable =\n",
              "            await google.colab.kernel.invokeFunction('convertToInteractive',\n",
              "                                                     [key], {});\n",
              "          if (!dataTable) return;\n",
              "\n",
              "          const docLinkHtml = 'Like what you see? Visit the ' +\n",
              "            '<a target=\"_blank\" href=https://colab.research.google.com/notebooks/data_table.ipynb>data table notebook</a>'\n",
              "            + ' to learn more about interactive tables.';\n",
              "          element.innerHTML = '';\n",
              "          dataTable['output_type'] = 'display_data';\n",
              "          await google.colab.output.renderOutput(dataTable, element);\n",
              "          const docLink = document.createElement('div');\n",
              "          docLink.innerHTML = docLinkHtml;\n",
              "          element.appendChild(docLink);\n",
              "        }\n",
              "      </script>\n",
              "    </div>\n",
              "  </div>\n",
              "  "
            ]
          },
          "metadata": {},
          "execution_count": 62
        }
      ],
      "source": [
        "dfcopy"
      ]
    },
    {
      "cell_type": "code",
      "execution_count": 62,
      "metadata": {
        "id": "xW8c0W9iMbJc"
      },
      "outputs": [],
      "source": [
        ""
      ]
    },
    {
      "cell_type": "code",
      "execution_count": 63,
      "metadata": {
        "id": "c7vnBbtYMbTh",
        "colab": {
          "base_uri": "https://localhost:8080/"
        },
        "outputId": "b757ecd5-a8a0-446c-9a7f-67ffce4b53a3"
      },
      "outputs": [
        {
          "output_type": "stream",
          "name": "stdout",
          "text": [
            "b3lyp\n",
            "M06-2X\n",
            "SCAN\n",
            "wB97X-V\n",
            "PW6B95\n",
            "pbe\n",
            "pbe0\n"
          ]
        }
      ],
      "source": [
        "for afunctionals in functionalsList:\n",
        "  print(str(afunctionals))\n",
        "  df['E-'+'DFT-'+str(afunctionals)] =  abs(  (df['DFT-'+str(afunctionals) ] - df['CCSDT']  ) * 100  /  df['CCSDT'] )"
      ]
    },
    {
      "cell_type": "code",
      "execution_count": 64,
      "metadata": {
        "id": "wzRY6ESzNjBS",
        "colab": {
          "base_uri": "https://localhost:8080/"
        },
        "outputId": "1badf56b-bd19-4131-cfde-8aad4368ad5f"
      },
      "outputs": [
        {
          "output_type": "stream",
          "name": "stdout",
          "text": [
            "Functional.DM21\n",
            "Functional.DM21m\n",
            "Functional.DM21mc\n",
            "Functional.DM21mu\n"
          ]
        }
      ],
      "source": [
        "for aDMFunctionalvalue in list(dm21.Functional):\n",
        "  print(str(aDMFunctionalvalue))\n",
        "  df['E-'+'NN-'+str(aDMFunctionalvalue)] = abs( (df['NN-'+str(aDMFunctionalvalue) ] - df['CCSDT']  ) * 100  /  df['CCSDT'] )"
      ]
    },
    {
      "cell_type": "code",
      "execution_count": 65,
      "metadata": {
        "id": "PCpqf5-WhIl3",
        "colab": {
          "base_uri": "https://localhost:8080/"
        },
        "outputId": "cde8c319-d360-4e5a-a4bc-e66f9a4d4dc6"
      },
      "outputs": [
        {
          "output_type": "stream",
          "name": "stdout",
          "text": [
            "b3lyp\n",
            "M06-2X\n",
            "SCAN\n",
            "wB97X-V\n",
            "PW6B95\n",
            "pbe\n",
            "pbe0\n"
          ]
        }
      ],
      "source": [
        "for afunctionals in functionalsList:\n",
        "  print(str(afunctionals))\n",
        "  df['M-'+'DFT-'+str(afunctionals)] =   abs  (df['DFT-'+str(afunctionals) ] - df['CCSDT']  ) \n"
      ]
    },
    {
      "cell_type": "code",
      "execution_count": 66,
      "metadata": {
        "id": "NqSR2AMChbe6",
        "colab": {
          "base_uri": "https://localhost:8080/"
        },
        "outputId": "c094cb72-faea-4468-9b42-da11511a4eeb"
      },
      "outputs": [
        {
          "output_type": "stream",
          "name": "stdout",
          "text": [
            "Functional.DM21\n",
            "Functional.DM21m\n",
            "Functional.DM21mc\n",
            "Functional.DM21mu\n"
          ]
        }
      ],
      "source": [
        "for aDMFunctionalvalue in list(dm21.Functional):\n",
        "  print(str(aDMFunctionalvalue))\n",
        "  df['M-'+'NN-'+str(aDMFunctionalvalue)] = abs  (df['NN-'+str(aDMFunctionalvalue) ] - df['CCSDT']  ) \n"
      ]
    },
    {
      "cell_type": "code",
      "execution_count": 67,
      "metadata": {
        "id": "iioWkDZWkMhz",
        "colab": {
          "base_uri": "https://localhost:8080/",
          "height": 292
        },
        "outputId": "59a8280e-013f-44ee-80f8-7e5655e34b52"
      },
      "outputs": [
        {
          "output_type": "execute_result",
          "data": {
            "text/plain": [
              "  Weight Element                                           Molecule BasisSet  \\\n",
              "0      1       H  \\n      H\\t0.0000000\\t0.0000000 0.702529311476...  cc-pV6Z   \n",
              "1      1       H  \\n      H\\t0.0000000\\t0.0000000 0.702529311476...  cc-pVQZ   \n",
              "\n",
              "  Spin      CCSD     CCSDT  DFT-b3lyp  DFT-M06-2X  DFT-SCAN  ...  \\\n",
              "0    0 -1.174343 -1.174343  -1.173946   -1.170245 -1.171907  ...   \n",
              "1    0 -1.173795 -1.173795  -1.173777   -1.169500 -1.171752  ...   \n",
              "\n",
              "   M-DFT-M06-2X  M-DFT-SCAN  M-DFT-wB97X-V  M-DFT-PW6B95  M-DFT-pbe  \\\n",
              "0      0.004098    0.002436       0.007791      0.001516   0.007627   \n",
              "1      0.004294    0.002043       0.008187      0.001891   0.007232   \n",
              "\n",
              "   M-DFT-pbe0  M-NN-Functional.DM21  M-NN-Functional.DM21m  \\\n",
              "0    0.005278              0.002652               0.000523   \n",
              "1    0.004880              0.002889               0.000233   \n",
              "\n",
              "   M-NN-Functional.DM21mc  M-NN-Functional.DM21mu  \n",
              "0                0.003282                0.001044  \n",
              "1                0.003555                0.001367  \n",
              "\n",
              "[2 rows x 40 columns]"
            ],
            "text/html": [
              "\n",
              "  <div id=\"df-11cb6da2-aaf1-4037-8d2f-f98e8d0db80d\">\n",
              "    <div class=\"colab-df-container\">\n",
              "      <div>\n",
              "<style scoped>\n",
              "    .dataframe tbody tr th:only-of-type {\n",
              "        vertical-align: middle;\n",
              "    }\n",
              "\n",
              "    .dataframe tbody tr th {\n",
              "        vertical-align: top;\n",
              "    }\n",
              "\n",
              "    .dataframe thead th {\n",
              "        text-align: right;\n",
              "    }\n",
              "</style>\n",
              "<table border=\"1\" class=\"dataframe\">\n",
              "  <thead>\n",
              "    <tr style=\"text-align: right;\">\n",
              "      <th></th>\n",
              "      <th>Weight</th>\n",
              "      <th>Element</th>\n",
              "      <th>Molecule</th>\n",
              "      <th>BasisSet</th>\n",
              "      <th>Spin</th>\n",
              "      <th>CCSD</th>\n",
              "      <th>CCSDT</th>\n",
              "      <th>DFT-b3lyp</th>\n",
              "      <th>DFT-M06-2X</th>\n",
              "      <th>DFT-SCAN</th>\n",
              "      <th>...</th>\n",
              "      <th>M-DFT-M06-2X</th>\n",
              "      <th>M-DFT-SCAN</th>\n",
              "      <th>M-DFT-wB97X-V</th>\n",
              "      <th>M-DFT-PW6B95</th>\n",
              "      <th>M-DFT-pbe</th>\n",
              "      <th>M-DFT-pbe0</th>\n",
              "      <th>M-NN-Functional.DM21</th>\n",
              "      <th>M-NN-Functional.DM21m</th>\n",
              "      <th>M-NN-Functional.DM21mc</th>\n",
              "      <th>M-NN-Functional.DM21mu</th>\n",
              "    </tr>\n",
              "  </thead>\n",
              "  <tbody>\n",
              "    <tr>\n",
              "      <th>0</th>\n",
              "      <td>1</td>\n",
              "      <td>H</td>\n",
              "      <td>\\n      H\\t0.0000000\\t0.0000000 0.702529311476...</td>\n",
              "      <td>cc-pV6Z</td>\n",
              "      <td>0</td>\n",
              "      <td>-1.174343</td>\n",
              "      <td>-1.174343</td>\n",
              "      <td>-1.173946</td>\n",
              "      <td>-1.170245</td>\n",
              "      <td>-1.171907</td>\n",
              "      <td>...</td>\n",
              "      <td>0.004098</td>\n",
              "      <td>0.002436</td>\n",
              "      <td>0.007791</td>\n",
              "      <td>0.001516</td>\n",
              "      <td>0.007627</td>\n",
              "      <td>0.005278</td>\n",
              "      <td>0.002652</td>\n",
              "      <td>0.000523</td>\n",
              "      <td>0.003282</td>\n",
              "      <td>0.001044</td>\n",
              "    </tr>\n",
              "    <tr>\n",
              "      <th>1</th>\n",
              "      <td>1</td>\n",
              "      <td>H</td>\n",
              "      <td>\\n      H\\t0.0000000\\t0.0000000 0.702529311476...</td>\n",
              "      <td>cc-pVQZ</td>\n",
              "      <td>0</td>\n",
              "      <td>-1.173795</td>\n",
              "      <td>-1.173795</td>\n",
              "      <td>-1.173777</td>\n",
              "      <td>-1.169500</td>\n",
              "      <td>-1.171752</td>\n",
              "      <td>...</td>\n",
              "      <td>0.004294</td>\n",
              "      <td>0.002043</td>\n",
              "      <td>0.008187</td>\n",
              "      <td>0.001891</td>\n",
              "      <td>0.007232</td>\n",
              "      <td>0.004880</td>\n",
              "      <td>0.002889</td>\n",
              "      <td>0.000233</td>\n",
              "      <td>0.003555</td>\n",
              "      <td>0.001367</td>\n",
              "    </tr>\n",
              "  </tbody>\n",
              "</table>\n",
              "<p>2 rows × 40 columns</p>\n",
              "</div>\n",
              "      <button class=\"colab-df-convert\" onclick=\"convertToInteractive('df-11cb6da2-aaf1-4037-8d2f-f98e8d0db80d')\"\n",
              "              title=\"Convert this dataframe to an interactive table.\"\n",
              "              style=\"display:none;\">\n",
              "        \n",
              "  <svg xmlns=\"http://www.w3.org/2000/svg\" height=\"24px\"viewBox=\"0 0 24 24\"\n",
              "       width=\"24px\">\n",
              "    <path d=\"M0 0h24v24H0V0z\" fill=\"none\"/>\n",
              "    <path d=\"M18.56 5.44l.94 2.06.94-2.06 2.06-.94-2.06-.94-.94-2.06-.94 2.06-2.06.94zm-11 1L8.5 8.5l.94-2.06 2.06-.94-2.06-.94L8.5 2.5l-.94 2.06-2.06.94zm10 10l.94 2.06.94-2.06 2.06-.94-2.06-.94-.94-2.06-.94 2.06-2.06.94z\"/><path d=\"M17.41 7.96l-1.37-1.37c-.4-.4-.92-.59-1.43-.59-.52 0-1.04.2-1.43.59L10.3 9.45l-7.72 7.72c-.78.78-.78 2.05 0 2.83L4 21.41c.39.39.9.59 1.41.59.51 0 1.02-.2 1.41-.59l7.78-7.78 2.81-2.81c.8-.78.8-2.07 0-2.86zM5.41 20L4 18.59l7.72-7.72 1.47 1.35L5.41 20z\"/>\n",
              "  </svg>\n",
              "      </button>\n",
              "      \n",
              "  <style>\n",
              "    .colab-df-container {\n",
              "      display:flex;\n",
              "      flex-wrap:wrap;\n",
              "      gap: 12px;\n",
              "    }\n",
              "\n",
              "    .colab-df-convert {\n",
              "      background-color: #E8F0FE;\n",
              "      border: none;\n",
              "      border-radius: 50%;\n",
              "      cursor: pointer;\n",
              "      display: none;\n",
              "      fill: #1967D2;\n",
              "      height: 32px;\n",
              "      padding: 0 0 0 0;\n",
              "      width: 32px;\n",
              "    }\n",
              "\n",
              "    .colab-df-convert:hover {\n",
              "      background-color: #E2EBFA;\n",
              "      box-shadow: 0px 1px 2px rgba(60, 64, 67, 0.3), 0px 1px 3px 1px rgba(60, 64, 67, 0.15);\n",
              "      fill: #174EA6;\n",
              "    }\n",
              "\n",
              "    [theme=dark] .colab-df-convert {\n",
              "      background-color: #3B4455;\n",
              "      fill: #D2E3FC;\n",
              "    }\n",
              "\n",
              "    [theme=dark] .colab-df-convert:hover {\n",
              "      background-color: #434B5C;\n",
              "      box-shadow: 0px 1px 3px 1px rgba(0, 0, 0, 0.15);\n",
              "      filter: drop-shadow(0px 1px 2px rgba(0, 0, 0, 0.3));\n",
              "      fill: #FFFFFF;\n",
              "    }\n",
              "  </style>\n",
              "\n",
              "      <script>\n",
              "        const buttonEl =\n",
              "          document.querySelector('#df-11cb6da2-aaf1-4037-8d2f-f98e8d0db80d button.colab-df-convert');\n",
              "        buttonEl.style.display =\n",
              "          google.colab.kernel.accessAllowed ? 'block' : 'none';\n",
              "\n",
              "        async function convertToInteractive(key) {\n",
              "          const element = document.querySelector('#df-11cb6da2-aaf1-4037-8d2f-f98e8d0db80d');\n",
              "          const dataTable =\n",
              "            await google.colab.kernel.invokeFunction('convertToInteractive',\n",
              "                                                     [key], {});\n",
              "          if (!dataTable) return;\n",
              "\n",
              "          const docLinkHtml = 'Like what you see? Visit the ' +\n",
              "            '<a target=\"_blank\" href=https://colab.research.google.com/notebooks/data_table.ipynb>data table notebook</a>'\n",
              "            + ' to learn more about interactive tables.';\n",
              "          element.innerHTML = '';\n",
              "          dataTable['output_type'] = 'display_data';\n",
              "          await google.colab.output.renderOutput(dataTable, element);\n",
              "          const docLink = document.createElement('div');\n",
              "          docLink.innerHTML = docLinkHtml;\n",
              "          element.appendChild(docLink);\n",
              "        }\n",
              "      </script>\n",
              "    </div>\n",
              "  </div>\n",
              "  "
            ]
          },
          "metadata": {},
          "execution_count": 67
        }
      ],
      "source": [
        "df"
      ]
    },
    {
      "cell_type": "code",
      "execution_count": 68,
      "metadata": {
        "id": "wbLP9OLHksHO"
      },
      "outputs": [],
      "source": [
        "df.to_csv('/content/drive/My Drive/DeepMind' + EXPNO+ 'CE-Final-.csv' )\n"
      ]
    },
    {
      "cell_type": "code",
      "execution_count": 69,
      "metadata": {
        "id": "LaFj1DcW160O",
        "colab": {
          "base_uri": "https://localhost:8080/"
        },
        "outputId": "e8dd69f9-0379-452f-f6a3-4729b5309e27"
      },
      "outputs": [
        {
          "output_type": "stream",
          "name": "stdout",
          "text": [
            "b3lyp\n",
            "M06-2X\n",
            "SCAN\n",
            "wB97X-V\n",
            "PW6B95\n",
            "pbe\n",
            "pbe0\n"
          ]
        }
      ],
      "source": [
        "dfcopy\n",
        "\n",
        "\n",
        "for afunctionals in functionalsList:\n",
        "  print(str(afunctionals))\n",
        "  dfcopy['M-'+'DFT-'+str(afunctionals)] =   abs  (dfcopy['DFT-'+str(afunctionals) ] - dfcopy['CCSDT_G']  ) \n",
        "  "
      ]
    },
    {
      "cell_type": "code",
      "execution_count": 70,
      "metadata": {
        "id": "STIRU5OL2HMp",
        "colab": {
          "base_uri": "https://localhost:8080/"
        },
        "outputId": "a926adbe-aa0b-4af3-ddb6-bc2e23ef31f9"
      },
      "outputs": [
        {
          "output_type": "stream",
          "name": "stdout",
          "text": [
            "Functional.DM21\n",
            "Functional.DM21m\n",
            "Functional.DM21mc\n",
            "Functional.DM21mu\n"
          ]
        }
      ],
      "source": [
        "for aDMFunctionalvalue in list(dm21.Functional):\n",
        "  print(str(aDMFunctionalvalue))\n",
        "  dfcopy['M-'+'NN-'+str(aDMFunctionalvalue)] = abs  (dfcopy['NN-'+str(aDMFunctionalvalue) ] - dfcopy['CCSDT_G']  ) \n"
      ]
    },
    {
      "cell_type": "code",
      "execution_count": 71,
      "metadata": {
        "id": "b6icB_GN3_8M",
        "colab": {
          "base_uri": "https://localhost:8080/",
          "height": 292
        },
        "outputId": "0153cfda-ab84-451d-d9f5-8d9ab5fdfaee"
      },
      "outputs": [
        {
          "output_type": "execute_result",
          "data": {
            "text/plain": [
              "  Weight Element                                           Molecule BasisSet  \\\n",
              "0      1       H  \\n      H\\t0.0000000\\t0.0000000 0.702529311476...  cc-pV6Z   \n",
              "1      1       H  \\n      H\\t0.0000000\\t0.0000000 0.702529311476...  cc-pVQZ   \n",
              "\n",
              "  Spin      CCSD     CCSDT  DFT-b3lyp  DFT-M06-2X  DFT-SCAN  ...  \\\n",
              "0    0 -1.174343 -1.174343  -1.173946   -1.170245 -1.171907  ...   \n",
              "1    0 -1.173795 -1.173795  -1.173777   -1.169500 -1.171752  ...   \n",
              "\n",
              "   M-DFT-M06-2X  M-DFT-SCAN  M-DFT-wB97X-V  M-DFT-PW6B95  M-DFT-pbe  \\\n",
              "0      0.003549    0.001887       0.008340      0.002065   0.007079   \n",
              "1      0.004294    0.002043       0.008187      0.001891   0.007232   \n",
              "\n",
              "   M-DFT-pbe0  M-NN-Functional.DM21  M-NN-Functional.DM21m  \\\n",
              "0     0.00473              0.003200               0.000026   \n",
              "1     0.00488              0.002889               0.000233   \n",
              "\n",
              "   M-NN-Functional.DM21mc  M-NN-Functional.DM21mu  \n",
              "0                0.003831                0.001592  \n",
              "1                0.003555                0.001367  \n",
              "\n",
              "[2 rows x 30 columns]"
            ],
            "text/html": [
              "\n",
              "  <div id=\"df-a95f6ce8-cd32-4bef-bb8a-06d90b42c051\">\n",
              "    <div class=\"colab-df-container\">\n",
              "      <div>\n",
              "<style scoped>\n",
              "    .dataframe tbody tr th:only-of-type {\n",
              "        vertical-align: middle;\n",
              "    }\n",
              "\n",
              "    .dataframe tbody tr th {\n",
              "        vertical-align: top;\n",
              "    }\n",
              "\n",
              "    .dataframe thead th {\n",
              "        text-align: right;\n",
              "    }\n",
              "</style>\n",
              "<table border=\"1\" class=\"dataframe\">\n",
              "  <thead>\n",
              "    <tr style=\"text-align: right;\">\n",
              "      <th></th>\n",
              "      <th>Weight</th>\n",
              "      <th>Element</th>\n",
              "      <th>Molecule</th>\n",
              "      <th>BasisSet</th>\n",
              "      <th>Spin</th>\n",
              "      <th>CCSD</th>\n",
              "      <th>CCSDT</th>\n",
              "      <th>DFT-b3lyp</th>\n",
              "      <th>DFT-M06-2X</th>\n",
              "      <th>DFT-SCAN</th>\n",
              "      <th>...</th>\n",
              "      <th>M-DFT-M06-2X</th>\n",
              "      <th>M-DFT-SCAN</th>\n",
              "      <th>M-DFT-wB97X-V</th>\n",
              "      <th>M-DFT-PW6B95</th>\n",
              "      <th>M-DFT-pbe</th>\n",
              "      <th>M-DFT-pbe0</th>\n",
              "      <th>M-NN-Functional.DM21</th>\n",
              "      <th>M-NN-Functional.DM21m</th>\n",
              "      <th>M-NN-Functional.DM21mc</th>\n",
              "      <th>M-NN-Functional.DM21mu</th>\n",
              "    </tr>\n",
              "  </thead>\n",
              "  <tbody>\n",
              "    <tr>\n",
              "      <th>0</th>\n",
              "      <td>1</td>\n",
              "      <td>H</td>\n",
              "      <td>\\n      H\\t0.0000000\\t0.0000000 0.702529311476...</td>\n",
              "      <td>cc-pV6Z</td>\n",
              "      <td>0</td>\n",
              "      <td>-1.174343</td>\n",
              "      <td>-1.174343</td>\n",
              "      <td>-1.173946</td>\n",
              "      <td>-1.170245</td>\n",
              "      <td>-1.171907</td>\n",
              "      <td>...</td>\n",
              "      <td>0.003549</td>\n",
              "      <td>0.001887</td>\n",
              "      <td>0.008340</td>\n",
              "      <td>0.002065</td>\n",
              "      <td>0.007079</td>\n",
              "      <td>0.00473</td>\n",
              "      <td>0.003200</td>\n",
              "      <td>0.000026</td>\n",
              "      <td>0.003831</td>\n",
              "      <td>0.001592</td>\n",
              "    </tr>\n",
              "    <tr>\n",
              "      <th>1</th>\n",
              "      <td>1</td>\n",
              "      <td>H</td>\n",
              "      <td>\\n      H\\t0.0000000\\t0.0000000 0.702529311476...</td>\n",
              "      <td>cc-pVQZ</td>\n",
              "      <td>0</td>\n",
              "      <td>-1.173795</td>\n",
              "      <td>-1.173795</td>\n",
              "      <td>-1.173777</td>\n",
              "      <td>-1.169500</td>\n",
              "      <td>-1.171752</td>\n",
              "      <td>...</td>\n",
              "      <td>0.004294</td>\n",
              "      <td>0.002043</td>\n",
              "      <td>0.008187</td>\n",
              "      <td>0.001891</td>\n",
              "      <td>0.007232</td>\n",
              "      <td>0.00488</td>\n",
              "      <td>0.002889</td>\n",
              "      <td>0.000233</td>\n",
              "      <td>0.003555</td>\n",
              "      <td>0.001367</td>\n",
              "    </tr>\n",
              "  </tbody>\n",
              "</table>\n",
              "<p>2 rows × 30 columns</p>\n",
              "</div>\n",
              "      <button class=\"colab-df-convert\" onclick=\"convertToInteractive('df-a95f6ce8-cd32-4bef-bb8a-06d90b42c051')\"\n",
              "              title=\"Convert this dataframe to an interactive table.\"\n",
              "              style=\"display:none;\">\n",
              "        \n",
              "  <svg xmlns=\"http://www.w3.org/2000/svg\" height=\"24px\"viewBox=\"0 0 24 24\"\n",
              "       width=\"24px\">\n",
              "    <path d=\"M0 0h24v24H0V0z\" fill=\"none\"/>\n",
              "    <path d=\"M18.56 5.44l.94 2.06.94-2.06 2.06-.94-2.06-.94-.94-2.06-.94 2.06-2.06.94zm-11 1L8.5 8.5l.94-2.06 2.06-.94-2.06-.94L8.5 2.5l-.94 2.06-2.06.94zm10 10l.94 2.06.94-2.06 2.06-.94-2.06-.94-.94-2.06-.94 2.06-2.06.94z\"/><path d=\"M17.41 7.96l-1.37-1.37c-.4-.4-.92-.59-1.43-.59-.52 0-1.04.2-1.43.59L10.3 9.45l-7.72 7.72c-.78.78-.78 2.05 0 2.83L4 21.41c.39.39.9.59 1.41.59.51 0 1.02-.2 1.41-.59l7.78-7.78 2.81-2.81c.8-.78.8-2.07 0-2.86zM5.41 20L4 18.59l7.72-7.72 1.47 1.35L5.41 20z\"/>\n",
              "  </svg>\n",
              "      </button>\n",
              "      \n",
              "  <style>\n",
              "    .colab-df-container {\n",
              "      display:flex;\n",
              "      flex-wrap:wrap;\n",
              "      gap: 12px;\n",
              "    }\n",
              "\n",
              "    .colab-df-convert {\n",
              "      background-color: #E8F0FE;\n",
              "      border: none;\n",
              "      border-radius: 50%;\n",
              "      cursor: pointer;\n",
              "      display: none;\n",
              "      fill: #1967D2;\n",
              "      height: 32px;\n",
              "      padding: 0 0 0 0;\n",
              "      width: 32px;\n",
              "    }\n",
              "\n",
              "    .colab-df-convert:hover {\n",
              "      background-color: #E2EBFA;\n",
              "      box-shadow: 0px 1px 2px rgba(60, 64, 67, 0.3), 0px 1px 3px 1px rgba(60, 64, 67, 0.15);\n",
              "      fill: #174EA6;\n",
              "    }\n",
              "\n",
              "    [theme=dark] .colab-df-convert {\n",
              "      background-color: #3B4455;\n",
              "      fill: #D2E3FC;\n",
              "    }\n",
              "\n",
              "    [theme=dark] .colab-df-convert:hover {\n",
              "      background-color: #434B5C;\n",
              "      box-shadow: 0px 1px 3px 1px rgba(0, 0, 0, 0.15);\n",
              "      filter: drop-shadow(0px 1px 2px rgba(0, 0, 0, 0.3));\n",
              "      fill: #FFFFFF;\n",
              "    }\n",
              "  </style>\n",
              "\n",
              "      <script>\n",
              "        const buttonEl =\n",
              "          document.querySelector('#df-a95f6ce8-cd32-4bef-bb8a-06d90b42c051 button.colab-df-convert');\n",
              "        buttonEl.style.display =\n",
              "          google.colab.kernel.accessAllowed ? 'block' : 'none';\n",
              "\n",
              "        async function convertToInteractive(key) {\n",
              "          const element = document.querySelector('#df-a95f6ce8-cd32-4bef-bb8a-06d90b42c051');\n",
              "          const dataTable =\n",
              "            await google.colab.kernel.invokeFunction('convertToInteractive',\n",
              "                                                     [key], {});\n",
              "          if (!dataTable) return;\n",
              "\n",
              "          const docLinkHtml = 'Like what you see? Visit the ' +\n",
              "            '<a target=\"_blank\" href=https://colab.research.google.com/notebooks/data_table.ipynb>data table notebook</a>'\n",
              "            + ' to learn more about interactive tables.';\n",
              "          element.innerHTML = '';\n",
              "          dataTable['output_type'] = 'display_data';\n",
              "          await google.colab.output.renderOutput(dataTable, element);\n",
              "          const docLink = document.createElement('div');\n",
              "          docLink.innerHTML = docLinkHtml;\n",
              "          element.appendChild(docLink);\n",
              "        }\n",
              "      </script>\n",
              "    </div>\n",
              "  </div>\n",
              "  "
            ]
          },
          "metadata": {},
          "execution_count": 71
        }
      ],
      "source": [
        "dfcopy"
      ]
    },
    {
      "cell_type": "code",
      "execution_count": 72,
      "metadata": {
        "id": "h5iwEdT72Rvv"
      },
      "outputs": [],
      "source": [
        "dfcopy.to_csv('/content/drive/My Drive/DeepMind_' + EXPNO+ '_Gold_Final-.csv' )\n"
      ]
    },
    {
      "cell_type": "code",
      "execution_count": 72,
      "metadata": {
        "id": "Kxt-D0Drdsl5"
      },
      "outputs": [],
      "source": [
        ""
      ]
    },
    {
      "cell_type": "markdown",
      "metadata": {
        "id": "7Xl7kKbOduHJ"
      },
      "source": [
        "\n",
        "\n",
        "\n",
        "Bechnmark dataset , Use this to generate multiple papers (already the water dataset is published with DM21, but there is scope for other datasets .. THen you can take new molecules)\n",
        "http://www.begdb.org/index.php\n",
        "\n",
        "https://cccbdb.nist.gov/coreenergy3x.asp?casno=1333740&charge=0&method=63&basis=25\n",
        "\n",
        "pyscf tutorial \n",
        "https://github.com/nmardirossian/PySCF_Tutorial/blob/master/dev_guide.ipynb\n",
        "\n",
        "visuvalize cube geen\n",
        "\n",
        "https://programtalk.com/vs2/?source=python/12572/pyscf/tools/cubegen.py\n",
        "https://www.youtube.com/watch?v=QGyfGCZT110\n",
        "https://github.com/topics/molecule-viewer\n",
        "\n",
        "\n",
        "geomtery optimization\n",
        "https://colab.research.google.com/drive/1apQANgcMv9_waE4av47NJkxxlglklZy3?usp=sharing \n",
        "\n",
        "https://www.nature.com/articles/s41598-017-12600-3\n",
        "https://aip.scitation.org/doi/full/10.1063/5.0004863\n",
        "https://www.researchgate.net/figure/Outline-of-the-FLO-SIC-method-in-the-so-called-self-consistent-mode-The-SIC-is_fig5_340950498\n",
        "\n",
        "\n",
        "Quantam ML\n",
        "https://pennylane.ai/qml/demos_qml.html"
      ]
    },
    {
      "cell_type": "code",
      "execution_count": 72,
      "metadata": {
        "id": "51lFNJYxeic2"
      },
      "outputs": [],
      "source": [
        ""
      ]
    },
    {
      "cell_type": "code",
      "execution_count": 72,
      "metadata": {
        "id": "DL6yJhRxeiZQ"
      },
      "outputs": [],
      "source": [
        " "
      ]
    },
    {
      "cell_type": "markdown",
      "metadata": {
        "id": "gvdwtTzYEh7n"
      },
      "source": [
        "#### The table will be automatically downloaded into your laptop as CSV file (excel sheet)"
      ]
    },
    {
      "cell_type": "code",
      "execution_count": 73,
      "metadata": {
        "id": "tnnjwLprRonP"
      },
      "outputs": [],
      "source": [
        "import seaborn as sns\n",
        " \n",
        " "
      ]
    },
    {
      "cell_type": "code",
      "execution_count": 74,
      "metadata": {
        "id": "DBhtS_0_SZTS",
        "colab": {
          "base_uri": "https://localhost:8080/"
        },
        "outputId": "c7efe959-57f1-47ac-9b42-e2b77dcb291c"
      },
      "outputs": [
        {
          "output_type": "execute_result",
          "data": {
            "text/plain": [
              "['BasisSet',\n",
              " 'M-NN-Functional.DM21',\n",
              " 'M-NN-Functional.DM21m',\n",
              " 'M-NN-Functional.DM21mc',\n",
              " 'M-NN-Functional.DM21mu',\n",
              " 'M-DFT-b3lyp',\n",
              " 'M-DFT-M06-2X',\n",
              " 'M-DFT-SCAN',\n",
              " 'M-DFT-wB97X-V',\n",
              " 'M-DFT-PW6B95',\n",
              " 'M-DFT-pbe',\n",
              " 'M-DFT-pbe0']"
            ]
          },
          "metadata": {},
          "execution_count": 74
        }
      ],
      "source": [
        "listofcolumstoplot = ['BasisSet']\n",
        "for aDMFunctionalvalue in list(dm21.Functional):\n",
        "  colname = 'M-'+'NN-'+ str(aDMFunctionalvalue)\n",
        "  listofcolumstoplot.append(colname)\n",
        "\n",
        "\n",
        "for afunctionals in functionalsList:\n",
        "  colname = 'M-'+'DFT-'+str(afunctionals)\n",
        "  listofcolumstoplot.append(colname)\n",
        "\n",
        "\n",
        "listofcolumstoplot"
      ]
    },
    {
      "cell_type": "code",
      "execution_count": 75,
      "metadata": {
        "id": "pjSC36dnRxxB",
        "colab": {
          "base_uri": "https://localhost:8080/",
          "height": 112
        },
        "outputId": "67c63866-506d-4943-9e6d-0cafc8c2f6c3"
      },
      "outputs": [
        {
          "output_type": "execute_result",
          "data": {
            "text/plain": [
              "  BasisSet  M-NN-Functional.DM21  M-NN-Functional.DM21m  \\\n",
              "0  cc-pV6Z              0.003200               0.000026   \n",
              "1  cc-pVQZ              0.002889               0.000233   \n",
              "\n",
              "   M-NN-Functional.DM21mc  M-NN-Functional.DM21mu  M-DFT-b3lyp  M-DFT-M06-2X  \\\n",
              "0                0.003831                0.001592     0.000152      0.003549   \n",
              "1                0.003555                0.001367     0.000017      0.004294   \n",
              "\n",
              "   M-DFT-SCAN  M-DFT-wB97X-V  M-DFT-PW6B95  M-DFT-pbe  M-DFT-pbe0  \n",
              "0    0.001887       0.008340      0.002065   0.007079     0.00473  \n",
              "1    0.002043       0.008187      0.001891   0.007232     0.00488  "
            ],
            "text/html": [
              "\n",
              "  <div id=\"df-a1b2f931-e267-40ec-aca7-d03b6741592b\">\n",
              "    <div class=\"colab-df-container\">\n",
              "      <div>\n",
              "<style scoped>\n",
              "    .dataframe tbody tr th:only-of-type {\n",
              "        vertical-align: middle;\n",
              "    }\n",
              "\n",
              "    .dataframe tbody tr th {\n",
              "        vertical-align: top;\n",
              "    }\n",
              "\n",
              "    .dataframe thead th {\n",
              "        text-align: right;\n",
              "    }\n",
              "</style>\n",
              "<table border=\"1\" class=\"dataframe\">\n",
              "  <thead>\n",
              "    <tr style=\"text-align: right;\">\n",
              "      <th></th>\n",
              "      <th>BasisSet</th>\n",
              "      <th>M-NN-Functional.DM21</th>\n",
              "      <th>M-NN-Functional.DM21m</th>\n",
              "      <th>M-NN-Functional.DM21mc</th>\n",
              "      <th>M-NN-Functional.DM21mu</th>\n",
              "      <th>M-DFT-b3lyp</th>\n",
              "      <th>M-DFT-M06-2X</th>\n",
              "      <th>M-DFT-SCAN</th>\n",
              "      <th>M-DFT-wB97X-V</th>\n",
              "      <th>M-DFT-PW6B95</th>\n",
              "      <th>M-DFT-pbe</th>\n",
              "      <th>M-DFT-pbe0</th>\n",
              "    </tr>\n",
              "  </thead>\n",
              "  <tbody>\n",
              "    <tr>\n",
              "      <th>0</th>\n",
              "      <td>cc-pV6Z</td>\n",
              "      <td>0.003200</td>\n",
              "      <td>0.000026</td>\n",
              "      <td>0.003831</td>\n",
              "      <td>0.001592</td>\n",
              "      <td>0.000152</td>\n",
              "      <td>0.003549</td>\n",
              "      <td>0.001887</td>\n",
              "      <td>0.008340</td>\n",
              "      <td>0.002065</td>\n",
              "      <td>0.007079</td>\n",
              "      <td>0.00473</td>\n",
              "    </tr>\n",
              "    <tr>\n",
              "      <th>1</th>\n",
              "      <td>cc-pVQZ</td>\n",
              "      <td>0.002889</td>\n",
              "      <td>0.000233</td>\n",
              "      <td>0.003555</td>\n",
              "      <td>0.001367</td>\n",
              "      <td>0.000017</td>\n",
              "      <td>0.004294</td>\n",
              "      <td>0.002043</td>\n",
              "      <td>0.008187</td>\n",
              "      <td>0.001891</td>\n",
              "      <td>0.007232</td>\n",
              "      <td>0.00488</td>\n",
              "    </tr>\n",
              "  </tbody>\n",
              "</table>\n",
              "</div>\n",
              "      <button class=\"colab-df-convert\" onclick=\"convertToInteractive('df-a1b2f931-e267-40ec-aca7-d03b6741592b')\"\n",
              "              title=\"Convert this dataframe to an interactive table.\"\n",
              "              style=\"display:none;\">\n",
              "        \n",
              "  <svg xmlns=\"http://www.w3.org/2000/svg\" height=\"24px\"viewBox=\"0 0 24 24\"\n",
              "       width=\"24px\">\n",
              "    <path d=\"M0 0h24v24H0V0z\" fill=\"none\"/>\n",
              "    <path d=\"M18.56 5.44l.94 2.06.94-2.06 2.06-.94-2.06-.94-.94-2.06-.94 2.06-2.06.94zm-11 1L8.5 8.5l.94-2.06 2.06-.94-2.06-.94L8.5 2.5l-.94 2.06-2.06.94zm10 10l.94 2.06.94-2.06 2.06-.94-2.06-.94-.94-2.06-.94 2.06-2.06.94z\"/><path d=\"M17.41 7.96l-1.37-1.37c-.4-.4-.92-.59-1.43-.59-.52 0-1.04.2-1.43.59L10.3 9.45l-7.72 7.72c-.78.78-.78 2.05 0 2.83L4 21.41c.39.39.9.59 1.41.59.51 0 1.02-.2 1.41-.59l7.78-7.78 2.81-2.81c.8-.78.8-2.07 0-2.86zM5.41 20L4 18.59l7.72-7.72 1.47 1.35L5.41 20z\"/>\n",
              "  </svg>\n",
              "      </button>\n",
              "      \n",
              "  <style>\n",
              "    .colab-df-container {\n",
              "      display:flex;\n",
              "      flex-wrap:wrap;\n",
              "      gap: 12px;\n",
              "    }\n",
              "\n",
              "    .colab-df-convert {\n",
              "      background-color: #E8F0FE;\n",
              "      border: none;\n",
              "      border-radius: 50%;\n",
              "      cursor: pointer;\n",
              "      display: none;\n",
              "      fill: #1967D2;\n",
              "      height: 32px;\n",
              "      padding: 0 0 0 0;\n",
              "      width: 32px;\n",
              "    }\n",
              "\n",
              "    .colab-df-convert:hover {\n",
              "      background-color: #E2EBFA;\n",
              "      box-shadow: 0px 1px 2px rgba(60, 64, 67, 0.3), 0px 1px 3px 1px rgba(60, 64, 67, 0.15);\n",
              "      fill: #174EA6;\n",
              "    }\n",
              "\n",
              "    [theme=dark] .colab-df-convert {\n",
              "      background-color: #3B4455;\n",
              "      fill: #D2E3FC;\n",
              "    }\n",
              "\n",
              "    [theme=dark] .colab-df-convert:hover {\n",
              "      background-color: #434B5C;\n",
              "      box-shadow: 0px 1px 3px 1px rgba(0, 0, 0, 0.15);\n",
              "      filter: drop-shadow(0px 1px 2px rgba(0, 0, 0, 0.3));\n",
              "      fill: #FFFFFF;\n",
              "    }\n",
              "  </style>\n",
              "\n",
              "      <script>\n",
              "        const buttonEl =\n",
              "          document.querySelector('#df-a1b2f931-e267-40ec-aca7-d03b6741592b button.colab-df-convert');\n",
              "        buttonEl.style.display =\n",
              "          google.colab.kernel.accessAllowed ? 'block' : 'none';\n",
              "\n",
              "        async function convertToInteractive(key) {\n",
              "          const element = document.querySelector('#df-a1b2f931-e267-40ec-aca7-d03b6741592b');\n",
              "          const dataTable =\n",
              "            await google.colab.kernel.invokeFunction('convertToInteractive',\n",
              "                                                     [key], {});\n",
              "          if (!dataTable) return;\n",
              "\n",
              "          const docLinkHtml = 'Like what you see? Visit the ' +\n",
              "            '<a target=\"_blank\" href=https://colab.research.google.com/notebooks/data_table.ipynb>data table notebook</a>'\n",
              "            + ' to learn more about interactive tables.';\n",
              "          element.innerHTML = '';\n",
              "          dataTable['output_type'] = 'display_data';\n",
              "          await google.colab.output.renderOutput(dataTable, element);\n",
              "          const docLink = document.createElement('div');\n",
              "          docLink.innerHTML = docLinkHtml;\n",
              "          element.appendChild(docLink);\n",
              "        }\n",
              "      </script>\n",
              "    </div>\n",
              "  </div>\n",
              "  "
            ]
          },
          "metadata": {},
          "execution_count": 75
        }
      ],
      "source": [
        "dfplot = dfcopy[listofcolumstoplot]\n",
        "\n",
        "dfplot"
      ]
    },
    {
      "cell_type": "code",
      "execution_count": 76,
      "metadata": {
        "id": "swktginEowpg",
        "colab": {
          "base_uri": "https://localhost:8080/"
        },
        "outputId": "e5c0d71d-6164-408f-daed-8328c8a4902f"
      },
      "outputs": [
        {
          "output_type": "execute_result",
          "data": {
            "text/plain": [
              "2"
            ]
          },
          "metadata": {},
          "execution_count": 76
        }
      ],
      "source": [
        "len(dfplot)"
      ]
    },
    {
      "cell_type": "code",
      "execution_count": 77,
      "metadata": {
        "id": "KWvCA_bRV5vf"
      },
      "outputs": [],
      "source": [
        "from matplotlib import pyplot\n",
        "import seaborn\n",
        "\n",
        "def aplot(dfplot):\n",
        "  sns.set_style(\"white\")\n",
        "  sns.set_style(\"whitegrid\")\n",
        "\n",
        "\n",
        "\n",
        "  #sns.color_palette(\"hls\", 4)\n",
        "  sns.color_palette(\"Paired\")\n",
        "\n",
        "\n",
        "  chartsize = (18.7, 8.27)\n",
        "\n",
        "  fig, ax = pyplot.subplots(figsize=chartsize)\n",
        "  sns.color_palette(\"Paired\")\n",
        "\n",
        "  sns.set(font_scale=2)\n",
        "  sns.axes_style()\n",
        "\n",
        "  sns.set_style(\"darkgrid\", {\"axes.facecolor\": \".3\"})\n",
        "\n",
        "  sns.barplot( orient='h' ,    data=dfplot)\n",
        "\n",
        "\n"
      ]
    },
    {
      "cell_type": "code",
      "execution_count": 78,
      "metadata": {
        "id": "bn1kymgctSlR",
        "colab": {
          "base_uri": "https://localhost:8080/",
          "height": 501
        },
        "outputId": "6f8d1d49-6501-4996-da67-b79b9abbd30e"
      },
      "outputs": [
        {
          "output_type": "display_data",
          "data": {
            "text/plain": [
              "<Figure size 1346.4x595.44 with 1 Axes>"
            ],
            "image/png": "[encoded data removed]"
          },
          "metadata": {}
        }
      ],
      "source": [
        "from matplotlib import pyplot\n",
        "import seaborn\n",
        "\n",
        "sns.set_style(\"white\")\n",
        "sns.set_style(\"whitegrid\")\n",
        "\n",
        "\n",
        "\n",
        "#sns.color_palette(\"hls\", 4)\n",
        "sns.color_palette(\"viridis\", as_cmap=True)\n",
        "sns.color_palette(\"Paired\")\n",
        "\n",
        "\n",
        "chartsize = (18.7, 8.27)\n",
        "\n",
        "fig, ax = pyplot.subplots(figsize=chartsize)\n",
        "sns.set(font_scale=2)\n",
        "sns.axes_style()\n",
        "\n",
        "sns.set_style(\"darkgrid\", {\"axes.facecolor\": \".3\"})\n",
        "\n",
        "#sns.barplot( orient='h' ,    data=dfplot)\n"
      ]
    },
    {
      "cell_type": "code",
      "execution_count": 79,
      "metadata": {
        "id": "YbVM7m2XqEMM",
        "colab": {
          "base_uri": "https://localhost:8080/",
          "height": 510
        },
        "outputId": "f2df4652-5925-4e71-9b2b-6a0ed0d32348"
      },
      "outputs": [
        {
          "output_type": "display_data",
          "data": {
            "text/plain": [
              "<Figure size 1346.4x595.44 with 1 Axes>"
            ],
            "image/png": "[encoded data removed]"
          },
          "metadata": {}
        }
      ],
      "source": [
        "aplot(dfplot[0:1])"
      ]
    },
    {
      "cell_type": "code",
      "execution_count": 80,
      "metadata": {
        "id": "vO4GShFCqGe8",
        "colab": {
          "base_uri": "https://localhost:8080/",
          "height": 510
        },
        "outputId": "cd78de45-c335-4ed8-c16f-09c7e6f316bf"
      },
      "outputs": [
        {
          "output_type": "display_data",
          "data": {
            "text/plain": [
              "<Figure size 1346.4x595.44 with 1 Axes>"
            ],
            "image/png": "[encoded data removed]"
          },
          "metadata": {}
        }
      ],
      "source": [
        "aplot(dfplot[1:2])"
      ]
    },
    {
      "cell_type": "code",
      "execution_count": 81,
      "metadata": {
        "id": "LshCgZ1FaTik",
        "colab": {
          "base_uri": "https://localhost:8080/"
        },
        "outputId": "174159c2-16b2-4167-8bd0-8750656add6a"
      },
      "outputs": [
        {
          "output_type": "execute_result",
          "data": {
            "text/plain": [
              "['BasisSet',\n",
              " 'CCSD',\n",
              " 'CCSDT',\n",
              " 'CCSDT_G',\n",
              " 'NN-Functional.DM21',\n",
              " 'NN-Functional.DM21m',\n",
              " 'NN-Functional.DM21mc',\n",
              " 'NN-Functional.DM21mu',\n",
              " 'DFT-b3lyp',\n",
              " 'DFT-M06-2X',\n",
              " 'DFT-SCAN',\n",
              " 'DFT-wB97X-V',\n",
              " 'DFT-PW6B95',\n",
              " 'DFT-pbe',\n",
              " 'DFT-pbe0']"
            ]
          },
          "metadata": {},
          "execution_count": 81
        }
      ],
      "source": [
        "listofcolumstoplot2 = ['BasisSet' , 'CCSD',\t'CCSDT'\t, 'CCSDT_G']\n",
        "for aDMFunctionalvalue in list(dm21.Functional):\n",
        "  colname = 'NN-'+ str(aDMFunctionalvalue)\n",
        "  listofcolumstoplot2.append(colname)\n",
        "\n",
        "\n",
        "for afunctionals in functionalsList:\n",
        "  colname = 'DFT-'+str(afunctionals)\n",
        "  listofcolumstoplot2.append(colname)\n",
        "\n",
        "\n",
        "listofcolumstoplot2"
      ]
    },
    {
      "cell_type": "code",
      "execution_count": 82,
      "metadata": {
        "id": "HfRHWIz_acMf",
        "colab": {
          "base_uri": "https://localhost:8080/",
          "height": 112
        },
        "outputId": "ae85e759-9359-4fad-b5fa-b1f28832ef6e"
      },
      "outputs": [
        {
          "output_type": "execute_result",
          "data": {
            "text/plain": [
              "  BasisSet      CCSD     CCSDT   CCSDT_G  NN-Functional.DM21  \\\n",
              "0  cc-pV6Z -1.174343 -1.174343 -1.173795           -1.176995   \n",
              "1  cc-pVQZ -1.173795 -1.173795 -1.173795           -1.176683   \n",
              "\n",
              "   NN-Functional.DM21m  NN-Functional.DM21mc  NN-Functional.DM21mu  DFT-b3lyp  \\\n",
              "0            -1.173820             -1.177625             -1.175387  -1.173946   \n",
              "1            -1.173562             -1.177350             -1.175161  -1.173777   \n",
              "\n",
              "   DFT-M06-2X  DFT-SCAN  DFT-wB97X-V  DFT-PW6B95   DFT-pbe  DFT-pbe0  \n",
              "0   -1.170245 -1.171907    -1.182134   -1.175859 -1.166716 -1.169065  \n",
              "1   -1.169500 -1.171752    -1.181981   -1.175685 -1.166563 -1.168915  "
            ],
            "text/html": [
              "\n",
              "  <div id=\"df-8c2c64b4-f0aa-4ce4-b8c8-a5e21f66d223\">\n",
              "    <div class=\"colab-df-container\">\n",
              "      <div>\n",
              "<style scoped>\n",
              "    .dataframe tbody tr th:only-of-type {\n",
              "        vertical-align: middle;\n",
              "    }\n",
              "\n",
              "    .dataframe tbody tr th {\n",
              "        vertical-align: top;\n",
              "    }\n",
              "\n",
              "    .dataframe thead th {\n",
              "        text-align: right;\n",
              "    }\n",
              "</style>\n",
              "<table border=\"1\" class=\"dataframe\">\n",
              "  <thead>\n",
              "    <tr style=\"text-align: right;\">\n",
              "      <th></th>\n",
              "      <th>BasisSet</th>\n",
              "      <th>CCSD</th>\n",
              "      <th>CCSDT</th>\n",
              "      <th>CCSDT_G</th>\n",
              "      <th>NN-Functional.DM21</th>\n",
              "      <th>NN-Functional.DM21m</th>\n",
              "      <th>NN-Functional.DM21mc</th>\n",
              "      <th>NN-Functional.DM21mu</th>\n",
              "      <th>DFT-b3lyp</th>\n",
              "      <th>DFT-M06-2X</th>\n",
              "      <th>DFT-SCAN</th>\n",
              "      <th>DFT-wB97X-V</th>\n",
              "      <th>DFT-PW6B95</th>\n",
              "      <th>DFT-pbe</th>\n",
              "      <th>DFT-pbe0</th>\n",
              "    </tr>\n",
              "  </thead>\n",
              "  <tbody>\n",
              "    <tr>\n",
              "      <th>0</th>\n",
              "      <td>cc-pV6Z</td>\n",
              "      <td>-1.174343</td>\n",
              "      <td>-1.174343</td>\n",
              "      <td>-1.173795</td>\n",
              "      <td>-1.176995</td>\n",
              "      <td>-1.173820</td>\n",
              "      <td>-1.177625</td>\n",
              "      <td>-1.175387</td>\n",
              "      <td>-1.173946</td>\n",
              "      <td>-1.170245</td>\n",
              "      <td>-1.171907</td>\n",
              "      <td>-1.182134</td>\n",
              "      <td>-1.175859</td>\n",
              "      <td>-1.166716</td>\n",
              "      <td>-1.169065</td>\n",
              "    </tr>\n",
              "    <tr>\n",
              "      <th>1</th>\n",
              "      <td>cc-pVQZ</td>\n",
              "      <td>-1.173795</td>\n",
              "      <td>-1.173795</td>\n",
              "      <td>-1.173795</td>\n",
              "      <td>-1.176683</td>\n",
              "      <td>-1.173562</td>\n",
              "      <td>-1.177350</td>\n",
              "      <td>-1.175161</td>\n",
              "      <td>-1.173777</td>\n",
              "      <td>-1.169500</td>\n",
              "      <td>-1.171752</td>\n",
              "      <td>-1.181981</td>\n",
              "      <td>-1.175685</td>\n",
              "      <td>-1.166563</td>\n",
              "      <td>-1.168915</td>\n",
              "    </tr>\n",
              "  </tbody>\n",
              "</table>\n",
              "</div>\n",
              "      <button class=\"colab-df-convert\" onclick=\"convertToInteractive('df-8c2c64b4-f0aa-4ce4-b8c8-a5e21f66d223')\"\n",
              "              title=\"Convert this dataframe to an interactive table.\"\n",
              "              style=\"display:none;\">\n",
              "        \n",
              "  <svg xmlns=\"http://www.w3.org/2000/svg\" height=\"24px\"viewBox=\"0 0 24 24\"\n",
              "       width=\"24px\">\n",
              "    <path d=\"M0 0h24v24H0V0z\" fill=\"none\"/>\n",
              "    <path d=\"M18.56 5.44l.94 2.06.94-2.06 2.06-.94-2.06-.94-.94-2.06-.94 2.06-2.06.94zm-11 1L8.5 8.5l.94-2.06 2.06-.94-2.06-.94L8.5 2.5l-.94 2.06-2.06.94zm10 10l.94 2.06.94-2.06 2.06-.94-2.06-.94-.94-2.06-.94 2.06-2.06.94z\"/><path d=\"M17.41 7.96l-1.37-1.37c-.4-.4-.92-.59-1.43-.59-.52 0-1.04.2-1.43.59L10.3 9.45l-7.72 7.72c-.78.78-.78 2.05 0 2.83L4 21.41c.39.39.9.59 1.41.59.51 0 1.02-.2 1.41-.59l7.78-7.78 2.81-2.81c.8-.78.8-2.07 0-2.86zM5.41 20L4 18.59l7.72-7.72 1.47 1.35L5.41 20z\"/>\n",
              "  </svg>\n",
              "      </button>\n",
              "      \n",
              "  <style>\n",
              "    .colab-df-container {\n",
              "      display:flex;\n",
              "      flex-wrap:wrap;\n",
              "      gap: 12px;\n",
              "    }\n",
              "\n",
              "    .colab-df-convert {\n",
              "      background-color: #E8F0FE;\n",
              "      border: none;\n",
              "      border-radius: 50%;\n",
              "      cursor: pointer;\n",
              "      display: none;\n",
              "      fill: #1967D2;\n",
              "      height: 32px;\n",
              "      padding: 0 0 0 0;\n",
              "      width: 32px;\n",
              "    }\n",
              "\n",
              "    .colab-df-convert:hover {\n",
              "      background-color: #E2EBFA;\n",
              "      box-shadow: 0px 1px 2px rgba(60, 64, 67, 0.3), 0px 1px 3px 1px rgba(60, 64, 67, 0.15);\n",
              "      fill: #174EA6;\n",
              "    }\n",
              "\n",
              "    [theme=dark] .colab-df-convert {\n",
              "      background-color: #3B4455;\n",
              "      fill: #D2E3FC;\n",
              "    }\n",
              "\n",
              "    [theme=dark] .colab-df-convert:hover {\n",
              "      background-color: #434B5C;\n",
              "      box-shadow: 0px 1px 3px 1px rgba(0, 0, 0, 0.15);\n",
              "      filter: drop-shadow(0px 1px 2px rgba(0, 0, 0, 0.3));\n",
              "      fill: #FFFFFF;\n",
              "    }\n",
              "  </style>\n",
              "\n",
              "      <script>\n",
              "        const buttonEl =\n",
              "          document.querySelector('#df-8c2c64b4-f0aa-4ce4-b8c8-a5e21f66d223 button.colab-df-convert');\n",
              "        buttonEl.style.display =\n",
              "          google.colab.kernel.accessAllowed ? 'block' : 'none';\n",
              "\n",
              "        async function convertToInteractive(key) {\n",
              "          const element = document.querySelector('#df-8c2c64b4-f0aa-4ce4-b8c8-a5e21f66d223');\n",
              "          const dataTable =\n",
              "            await google.colab.kernel.invokeFunction('convertToInteractive',\n",
              "                                                     [key], {});\n",
              "          if (!dataTable) return;\n",
              "\n",
              "          const docLinkHtml = 'Like what you see? Visit the ' +\n",
              "            '<a target=\"_blank\" href=https://colab.research.google.com/notebooks/data_table.ipynb>data table notebook</a>'\n",
              "            + ' to learn more about interactive tables.';\n",
              "          element.innerHTML = '';\n",
              "          dataTable['output_type'] = 'display_data';\n",
              "          await google.colab.output.renderOutput(dataTable, element);\n",
              "          const docLink = document.createElement('div');\n",
              "          docLink.innerHTML = docLinkHtml;\n",
              "          element.appendChild(docLink);\n",
              "        }\n",
              "      </script>\n",
              "    </div>\n",
              "  </div>\n",
              "  "
            ]
          },
          "metadata": {},
          "execution_count": 82
        }
      ],
      "source": [
        "dfplot2 = dfcopy[listofcolumstoplot2]\n",
        "dfplot2"
      ]
    },
    {
      "cell_type": "code",
      "execution_count": 83,
      "metadata": {
        "id": "R4rN8VVjepT4",
        "colab": {
          "base_uri": "https://localhost:8080/"
        },
        "outputId": "14104237-1da1-4534-8481-bcb5e844aa99"
      },
      "outputs": [
        {
          "output_type": "execute_result",
          "data": {
            "text/plain": [
              "-1.1821342760912759"
            ]
          },
          "metadata": {},
          "execution_count": 83
        }
      ],
      "source": [
        "dfplot2.min(axis =1, numeric_only=True).min()"
      ]
    },
    {
      "cell_type": "code",
      "execution_count": 84,
      "metadata": {
        "id": "vQnzioiglZq-",
        "colab": {
          "base_uri": "https://localhost:8080/"
        },
        "outputId": "d2e6c872-aeb8-4fb5-e8d9-9aaf37eccd26"
      },
      "outputs": [
        {
          "output_type": "execute_result",
          "data": {
            "text/plain": [
              "-1.1665627100085827"
            ]
          },
          "metadata": {},
          "execution_count": 84
        }
      ],
      "source": [
        "dfplot2.max(axis =1, numeric_only=True).max()"
      ]
    },
    {
      "cell_type": "code",
      "execution_count": 85,
      "metadata": {
        "id": "GfJr-vARt8Fw",
        "colab": {
          "base_uri": "https://localhost:8080/",
          "height": 370
        },
        "outputId": "0c0fc25e-fd9f-4d12-e9bd-01e642d5ad21"
      },
      "outputs": [
        {
          "output_type": "execute_result",
          "data": {
            "text/plain": [
              "<seaborn.axisgrid.FacetGrid at 0x7f60f0349610>"
            ]
          },
          "metadata": {},
          "execution_count": 85
        },
        {
          "output_type": "display_data",
          "data": {
            "text/plain": [
              "<Figure size 720x360 with 2 Axes>"
            ],
            "image/png": "[encoded data removed]"
          },
          "metadata": {}
        }
      ],
      "source": [
        " from matplotlib import pyplot\n",
        "import seaborn\n",
        "\n",
        " \n",
        "\n",
        "chartsize = (18.7, 16.27)\n",
        "\n",
        "sns.set_style(\"whitegrid\")\n",
        "sns.set(font_scale=1.5)\n",
        "\n",
        "#fig, ax = pyplot.subplots(figsize=chartsize)\n",
        "#ax.set_xlim(dfplot2.min(axis =1, numeric_only=True).min(), dfplot2.max(axis =1, numeric_only=True).max() )\n",
        "sns.catplot( orient='h' ,    data=dfplot ,  col=\"BasisSet\")\n"
      ]
    },
    {
      "cell_type": "code",
      "execution_count": 86,
      "metadata": {
        "id": "jAH-QpfNvJPU",
        "colab": {
          "base_uri": "https://localhost:8080/",
          "height": 370
        },
        "outputId": "62534dc1-b86c-48b0-e8e3-79b3e05dff51"
      },
      "outputs": [
        {
          "output_type": "execute_result",
          "data": {
            "text/plain": [
              "<seaborn.axisgrid.FacetGrid at 0x7f61062293d0>"
            ]
          },
          "metadata": {},
          "execution_count": 86
        },
        {
          "output_type": "display_data",
          "data": {
            "text/plain": [
              "<Figure size 360x360 with 1 Axes>"
            ],
            "image/png": "[encoded data removed]"
          },
          "metadata": {}
        }
      ],
      "source": [
        "chartsize = (18.7, 16.27)\n",
        "\n",
        "sns.set_style(\"whitegrid\")\n",
        "sns.set(font_scale=1.5)\n",
        "\n",
        "#ax.set_xlim(dfplot2.min(axis =1, numeric_only=True).min(), dfplot2.max(axis =1, numeric_only=True).max() )\n",
        "sns.catplot( orient='h' ,    data=dfplot  )"
      ]
    },
    {
      "cell_type": "code",
      "execution_count": 87,
      "metadata": {
        "id": "k_PzVqrrajoc",
        "colab": {
          "base_uri": "https://localhost:8080/",
          "height": 370
        },
        "outputId": "90b578c4-88bd-4dce-d07a-2d19b660193c"
      },
      "outputs": [
        {
          "output_type": "execute_result",
          "data": {
            "text/plain": [
              "<seaborn.axisgrid.FacetGrid at 0x7f61700be2d0>"
            ]
          },
          "metadata": {},
          "execution_count": 87
        },
        {
          "output_type": "display_data",
          "data": {
            "text/plain": [
              "<Figure size 720x360 with 2 Axes>"
            ],
            "image/png": "[encoded data removed]"
          },
          "metadata": {}
        }
      ],
      "source": [
        "from matplotlib import pyplot\n",
        "import seaborn\n",
        "\n",
        " \n",
        "\n",
        "chartsize = (18.7, 16.27)\n",
        "\n",
        "sns.set_style(\"whitegrid\")\n",
        "sns.set(font_scale=1.5)\n",
        "\n",
        "#fig, ax = pyplot.subplots(figsize=chartsize)\n",
        "#ax.set_xlim(dfplot2.min(axis =1, numeric_only=True).min(), dfplot2.max(axis =1, numeric_only=True).max() )\n",
        "sns.catplot( orient='h' ,    data=dfplot2 ,  col=\"BasisSet\")\n"
      ]
    },
    {
      "cell_type": "code",
      "execution_count": 88,
      "metadata": {
        "id": "9SB5DjnLteQC",
        "colab": {
          "base_uri": "https://localhost:8080/",
          "height": 515
        },
        "outputId": "2450978a-4afb-4855-ac86-5d8f1d1c9ae0"
      },
      "outputs": [
        {
          "output_type": "display_data",
          "data": {
            "text/plain": [
              "<Figure size 1346.4x595.44 with 1 Axes>"
            ],
            "image/png": "[encoded data removed]"
          },
          "metadata": {}
        }
      ],
      "source": [
        "from matplotlib import pyplot\n",
        "import seaborn\n",
        "\n",
        "sns.set_style(\"white\")\n",
        "sns.set_style(\"whitegrid\")\n",
        "\n",
        "\n",
        "\n",
        "#sns.color_palette(\"hls\", 4)\n",
        "sns.color_palette(\"viridis\", as_cmap=True)\n",
        "sns.color_palette(\"Paired\")\n",
        "\n",
        "\n",
        "chartsize = (18.7, 8.27)\n",
        "\n",
        "fig, ax = pyplot.subplots(figsize=chartsize)\n",
        "sns.set(font_scale=2)\n",
        "sns.axes_style()\n",
        "\n",
        "sns.set_style(\"darkgrid\", {\"axes.facecolor\": \".3\"})\n",
        "\n",
        "#sns.barplot( orient='h' ,    data=dfplot2)\n"
      ]
    }
  ],
  "metadata": {
    "accelerator": "GPU",
    "colab": {
      "collapsed_sections": [],
      "name": "Nandri Nandri DM21   DistributeCompute ver J400 12 Jun 2022 WORKS Well   H",
      "provenance": [],
      "include_colab_link": true
    },
    "kernelspec": {
      "display_name": "Python 3",
      "name": "python3"
    },
    "language_info": {
      "name": "python"
    },
    "gpuClass": "standard"
  },
  "nbformat": 4,
  "nbformat_minor": 0
}