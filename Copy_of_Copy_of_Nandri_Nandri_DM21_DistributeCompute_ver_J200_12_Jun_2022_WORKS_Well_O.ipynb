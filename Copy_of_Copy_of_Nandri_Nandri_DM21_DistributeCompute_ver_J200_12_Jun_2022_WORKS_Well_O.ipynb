{
  "nbformat": 4,
  "nbformat_minor": 0,
  "metadata": {
    "colab": {
      "name": "Copy of Copy of Nandri Nandri DM21   DistributeCompute ver J200 12 Jun 2022 WORKS Well   O",
      "provenance": [],
      "collapsed_sections": [],
      "include_colab_link": true
    },
    "kernelspec": {
      "name": "python3",
      "display_name": "Python 3"
    },
    "language_info": {
      "name": "python"
    },
    "accelerator": "GPU"
  },
  "cells": [
    {
      "cell_type": "markdown",
      "metadata": {
        "id": "view-in-github",
        "colab_type": "text"
      },
      "source": [
        "<a href=\"https://colab.research.google.com/github/rajagopalmotivate/MLinQuantamScience/blob/main/Copy_of_Copy_of_Nandri_Nandri_DM21_DistributeCompute_ver_J200_12_Jun_2022_WORKS_Well_O.ipynb\" target=\"_parent\"><img src=\"https://colab.research.google.com/assets/colab-badge.svg\" alt=\"Open In Colab\"/></a>"
      ]
    },
    {
      "cell_type": "markdown",
      "source": [
        "#Simple comparision of DFT vs NN \n",
        "## Hypothesis: NN performs as good as DFT \n",
        "## Experiment: Compare "
      ],
      "metadata": {
        "id": "cjz0UJCXln1O"
      }
    },
    {
      "cell_type": "code",
      "source": [
        "EXPNO ='EXP_2000_O'\n",
        "\n",
        "dictPeriodicTable = {'O': 8}\n",
        " \n",
        "elementname ='O' \n"
      ],
      "metadata": {
        "id": "I3Zqx3aO52s-"
      },
      "execution_count": 1,
      "outputs": []
    },
    {
      "cell_type": "code",
      "source": [
        "firstTimeorRestart = True"
      ],
      "metadata": {
        "id": "zVPfjAeVrzR_"
      },
      "execution_count": 2,
      "outputs": []
    },
    {
      "cell_type": "markdown",
      "source": [
        "#  basis set and as per DM21 authors\n",
        "For all benchmarking, we use the large aug'-def2-QZVP basis set  \n",
        "\n",
        "During training, \n",
        "For all the atoms and diatomic molecules in the regression set we generate the features for\n",
        "the SCF loss at PySCF grid level 2 and use the largest basis set in the aug-pc-X family such\n",
        "that the number of basis functions is less than 128. \n",
        "For larger neutral molecules we use grid\n",
        "level 1 and the largest basis set with less than 128 basis functions from cc-pCV(Q+d)Z, ccpCV(T+d)Z, cc-pV(T+d)Z or cc-pV(D+d)Z"
      ],
      "metadata": {
        "id": "9BLJOgbYNVRu"
      }
    },
    {
      "cell_type": "code",
      "source": [
        "listBasisSet = ['6-21g' , 'cc-pvqz' , 'def2-qzvp'  ]\n",
        "\n",
        "listBasisSet = ['def2-QZVP' , 'cc-pCVTZ' ,  'aug-pc-3' , 'aug-cc-pV(Q+d)Z', 'aug-cc-pCV5Z', 'aug-ccpwCV5Z', '6-21g']\n",
        "\n",
        "listBasisSet = ['cc-pCVDZ' , 'def2-QZVP' , 'cc-pCVTZ' ,  'aug-pc-3' , 'aug-cc-pV(Q+d)Z', 'aug-cc-pCV5Z', 'aug-ccpwCV5Z', '6-31g', 'STO-3G' , 'def2-QZVPPD' ]\n",
        "\n",
        "listBasisSet = ['def2-QZVP' , 'cc-pCVTZ', 'cc-pVQZ' , 'cc-pVXZ', 'aug-cc-pV(Q+d)Z' , '6-31g' ]\n",
        "\n",
        "listBasisSet = [   'cc-pVQZ' , 'def2-QZVP' , 'cc-pCVTZ',  'cc-pVXZ' , '6-31g' ]\n",
        "\n",
        "listBasisSet = [   'cc-pVQZ' , 'def2-QZVP' , 'cc-pCVQZ'  ]\n",
        "\n",
        "listBasisSet = [   'cc-pVQZ' , 'cc-pVTZ', 'cc-pVDZ',  'cc-pCVQZ', 'cc-pCV5Z',  'def2-QZVP', 'def2-TCVPPD', '6-31g' ,'STO-3G'   ]\n",
        "\n",
        "listBasisSet = [   'cc-pVQZ', 'def2-QZVP']\n",
        "\n",
        "listBasisSet = [  'cc-pV7Z', 'cc-pV6Z',  'cc-pVQZ' , 'cc-pVDZ' , 'cc-pCVQZ',    'def2-QZVP', 'def2-7CVPPD', '6-31g' ,'STO-3G'   ]\n",
        "\n",
        "\n",
        "listBasisSet = [ 'cc-pVQZ' , 'cc-pVDZ' , \"aug'-def2-QZVP\", '6-31g' , 'aug-pcJ-4', 'cc-pCV(Q+d)Z']\n",
        "\n",
        "listBasisSet = [ 'cc-pVQZ' , 'cc-pVDZ' , 'def2-QZVP', '6-31g' ]\n",
        "\n",
        "#listBasisSet = [ 'cc-pVQZ' , \"aug'-def2-QZVP\"]\n",
        " "
      ],
      "metadata": {
        "id": "Zk4fl4t1waWn"
      },
      "execution_count": 3,
      "outputs": []
    },
    {
      "cell_type": "code",
      "source": [
        "#dictPeriodicTable = {'H': 1, 'He': 2, 'Li': 3, 'Be': 4, 'B': 5, 'C': 6, 'N': 7, 'O': 8, 'F': 9, 'Ne': 10 }\n",
        "\n",
        "#dictPeriodicTable = {'H': 1, 'He': 2, 'Li': 3, 'Be': 4, 'B': 5, 'C': 6, 'N': 7, 'O': 8, 'F': 9, 'Ne': 10 , 'Na':11, 'Mg':12 , 'Al':13, 'Si':14, 'P':15, 'S':16 , 'Cl':17, 'Ar':18}\n",
        "\n",
        " \n",
        "dictPeriodicTableSpinValues = {'H': 1,  'He': 0, 'Li': 1, 'Be': 0, 'B': 1, 'C': 0, 'N': 1, 'O': 0, 'F': 1, 'Ne': 0 }\n",
        "\n",
        "\n",
        "\n",
        "print(str( 'Weight'  + ' ' +   ' \\t Element     \\t  SPIN'    ))\n",
        " \n",
        " \n",
        "  \n"
      ],
      "metadata": {
        "id": "XG1_wImSudEF",
        "colab": {
          "base_uri": "https://localhost:8080/"
        },
        "outputId": "eb9d34d6-1f74-4ed5-9cd2-7e86d4c502cb"
      },
      "execution_count": 4,
      "outputs": [
        {
          "output_type": "stream",
          "name": "stdout",
          "text": [
            "Weight  \t Element     \t  SPIN\n"
          ]
        }
      ]
    },
    {
      "cell_type": "code",
      "source": [
        "from google.colab import drive\n",
        "drive.mount('/content/drive')"
      ],
      "metadata": {
        "colab": {
          "base_uri": "https://localhost:8080/"
        },
        "id": "FWO3uFau6Gs-",
        "outputId": "c2112c3b-e37b-434e-d424-db14bcae5c4e"
      },
      "execution_count": 5,
      "outputs": [
        {
          "output_type": "stream",
          "name": "stdout",
          "text": [
            "Drive already mounted at /content/drive; to attempt to forcibly remount, call drive.mount(\"/content/drive\", force_remount=True).\n"
          ]
        }
      ]
    },
    {
      "cell_type": "markdown",
      "source": [
        "## Step 1: Install"
      ],
      "metadata": {
        "id": "f2n-glKykc7G"
      }
    },
    {
      "cell_type": "code",
      "source": [
        "#!pip install git+git://github.com/deepmind/deepmind-research.git#subdirectory=density_functional_approximation_dm21"
      ],
      "metadata": {
        "id": "iUe5ykKxr0Xu"
      },
      "execution_count": 6,
      "outputs": []
    },
    {
      "cell_type": "code",
      "source": [
        "!git clone https://github.com/deepmind/deepmind-research.git\n"
      ],
      "metadata": {
        "colab": {
          "base_uri": "https://localhost:8080/"
        },
        "id": "s_s-VRZZaUO4",
        "outputId": "adff3a97-f58a-4218-84b4-f5967e7ec61b"
      },
      "execution_count": 7,
      "outputs": [
        {
          "output_type": "stream",
          "name": "stdout",
          "text": [
            "fatal: destination path 'deepmind-research' already exists and is not an empty directory.\n"
          ]
        }
      ]
    },
    {
      "cell_type": "code",
      "source": [
        "cd deepmind-research/density_functional_approximation_dm21\n"
      ],
      "metadata": {
        "colab": {
          "base_uri": "https://localhost:8080/"
        },
        "id": "RciiP-MOaV-L",
        "outputId": "2962bd38-32e0-443c-9cfa-74d549d5e80a"
      },
      "execution_count": 8,
      "outputs": [
        {
          "output_type": "stream",
          "name": "stdout",
          "text": [
            "/content/deepmind-research/density_functional_approximation_dm21\n"
          ]
        }
      ]
    },
    {
      "cell_type": "code",
      "source": [
        "pwd"
      ],
      "metadata": {
        "colab": {
          "base_uri": "https://localhost:8080/",
          "height": 36
        },
        "id": "qgN8ePgcaXzx",
        "outputId": "3f99ef9e-900a-4c8c-e6d7-5d46ea264372"
      },
      "execution_count": 9,
      "outputs": [
        {
          "output_type": "execute_result",
          "data": {
            "text/plain": [
              "'/content/deepmind-research/density_functional_approximation_dm21'"
            ],
            "application/vnd.google.colaboratory.intrinsic+json": {
              "type": "string"
            }
          },
          "metadata": {},
          "execution_count": 9
        }
      ]
    },
    {
      "cell_type": "code",
      "source": [
        "!pip install .\n"
      ],
      "metadata": {
        "colab": {
          "base_uri": "https://localhost:8080/"
        },
        "id": "pfmCosvDaYcx",
        "outputId": "e6833f0b-62f3-425c-81df-cf3db338a7cd"
      },
      "execution_count": 10,
      "outputs": [
        {
          "output_type": "stream",
          "name": "stdout",
          "text": [
            "Looking in indexes: https://pypi.org/simple, https://us-python.pkg.dev/colab-wheels/public/simple/\n",
            "Processing /content/deepmind-research/density_functional_approximation_dm21\n",
            "\u001b[33m  DEPRECATION: A future pip version will change local packages to be built in-place without first copying to a temporary directory. We recommend you use --use-feature=in-tree-build to test your packages with this new behavior before it becomes the default.\n",
            "   pip 21.3 will remove support for this functionality. You can find discussion regarding this at https://github.com/pypa/pip/issues/7555.\u001b[0m\n",
            "Requirement already satisfied: absl-py in /usr/local/lib/python3.7/dist-packages (from density-functional-approximation-dm21==0.1) (1.0.0)\n",
            "Requirement already satisfied: attrs in /usr/local/lib/python3.7/dist-packages (from density-functional-approximation-dm21==0.1) (21.4.0)\n",
            "Requirement already satisfied: h5py<3.3.0 in /usr/local/lib/python3.7/dist-packages (from density-functional-approximation-dm21==0.1) (3.1.0)\n",
            "Requirement already satisfied: numpy in /usr/local/lib/python3.7/dist-packages (from density-functional-approximation-dm21==0.1) (1.21.6)\n",
            "Requirement already satisfied: pyscf in /usr/local/lib/python3.7/dist-packages (from density-functional-approximation-dm21==0.1) (2.0.1)\n",
            "Requirement already satisfied: tensorflow in /usr/local/lib/python3.7/dist-packages (from density-functional-approximation-dm21==0.1) (2.8.2+zzzcolab20220527125636)\n",
            "Requirement already satisfied: tensorflow_hub in /usr/local/lib/python3.7/dist-packages (from density-functional-approximation-dm21==0.1) (0.12.0)\n",
            "Requirement already satisfied: cached-property in /usr/local/lib/python3.7/dist-packages (from h5py<3.3.0->density-functional-approximation-dm21==0.1) (1.5.2)\n",
            "Requirement already satisfied: six in /usr/local/lib/python3.7/dist-packages (from absl-py->density-functional-approximation-dm21==0.1) (1.15.0)\n",
            "Requirement already satisfied: scipy!=1.5.0,!=1.5.1 in /usr/local/lib/python3.7/dist-packages (from pyscf->density-functional-approximation-dm21==0.1) (1.4.1)\n",
            "Requirement already satisfied: typing-extensions>=3.6.6 in /usr/local/lib/python3.7/dist-packages (from tensorflow->density-functional-approximation-dm21==0.1) (4.2.0)\n",
            "Requirement already satisfied: termcolor>=1.1.0 in /usr/local/lib/python3.7/dist-packages (from tensorflow->density-functional-approximation-dm21==0.1) (1.1.0)\n",
            "Requirement already satisfied: tensorflow-estimator<2.9,>=2.8 in /usr/local/lib/python3.7/dist-packages (from tensorflow->density-functional-approximation-dm21==0.1) (2.8.0)\n",
            "Requirement already satisfied: gast>=0.2.1 in /usr/local/lib/python3.7/dist-packages (from tensorflow->density-functional-approximation-dm21==0.1) (0.5.3)\n",
            "Requirement already satisfied: libclang>=9.0.1 in /usr/local/lib/python3.7/dist-packages (from tensorflow->density-functional-approximation-dm21==0.1) (14.0.1)\n",
            "Requirement already satisfied: protobuf<3.20,>=3.9.2 in /usr/local/lib/python3.7/dist-packages (from tensorflow->density-functional-approximation-dm21==0.1) (3.17.3)\n",
            "Requirement already satisfied: keras-preprocessing>=1.1.1 in /usr/local/lib/python3.7/dist-packages (from tensorflow->density-functional-approximation-dm21==0.1) (1.1.2)\n",
            "Requirement already satisfied: setuptools in /usr/local/lib/python3.7/dist-packages (from tensorflow->density-functional-approximation-dm21==0.1) (57.4.0)\n",
            "Requirement already satisfied: wrapt>=1.11.0 in /usr/local/lib/python3.7/dist-packages (from tensorflow->density-functional-approximation-dm21==0.1) (1.14.1)\n",
            "Requirement already satisfied: opt-einsum>=2.3.2 in /usr/local/lib/python3.7/dist-packages (from tensorflow->density-functional-approximation-dm21==0.1) (3.3.0)\n",
            "Requirement already satisfied: grpcio<2.0,>=1.24.3 in /usr/local/lib/python3.7/dist-packages (from tensorflow->density-functional-approximation-dm21==0.1) (1.46.3)\n",
            "Requirement already satisfied: tensorboard<2.9,>=2.8 in /usr/local/lib/python3.7/dist-packages (from tensorflow->density-functional-approximation-dm21==0.1) (2.8.0)\n",
            "Requirement already satisfied: keras<2.9,>=2.8.0rc0 in /usr/local/lib/python3.7/dist-packages (from tensorflow->density-functional-approximation-dm21==0.1) (2.8.0)\n",
            "Requirement already satisfied: google-pasta>=0.1.1 in /usr/local/lib/python3.7/dist-packages (from tensorflow->density-functional-approximation-dm21==0.1) (0.2.0)\n",
            "Requirement already satisfied: tensorflow-io-gcs-filesystem>=0.23.1 in /usr/local/lib/python3.7/dist-packages (from tensorflow->density-functional-approximation-dm21==0.1) (0.26.0)\n",
            "Requirement already satisfied: astunparse>=1.6.0 in /usr/local/lib/python3.7/dist-packages (from tensorflow->density-functional-approximation-dm21==0.1) (1.6.3)\n",
            "Requirement already satisfied: flatbuffers>=1.12 in /usr/local/lib/python3.7/dist-packages (from tensorflow->density-functional-approximation-dm21==0.1) (2.0)\n",
            "Requirement already satisfied: wheel<1.0,>=0.23.0 in /usr/local/lib/python3.7/dist-packages (from astunparse>=1.6.0->tensorflow->density-functional-approximation-dm21==0.1) (0.37.1)\n",
            "Requirement already satisfied: google-auth<3,>=1.6.3 in /usr/local/lib/python3.7/dist-packages (from tensorboard<2.9,>=2.8->tensorflow->density-functional-approximation-dm21==0.1) (1.35.0)\n",
            "Requirement already satisfied: tensorboard-plugin-wit>=1.6.0 in /usr/local/lib/python3.7/dist-packages (from tensorboard<2.9,>=2.8->tensorflow->density-functional-approximation-dm21==0.1) (1.8.1)\n",
            "Requirement already satisfied: google-auth-oauthlib<0.5,>=0.4.1 in /usr/local/lib/python3.7/dist-packages (from tensorboard<2.9,>=2.8->tensorflow->density-functional-approximation-dm21==0.1) (0.4.6)\n",
            "Requirement already satisfied: requests<3,>=2.21.0 in /usr/local/lib/python3.7/dist-packages (from tensorboard<2.9,>=2.8->tensorflow->density-functional-approximation-dm21==0.1) (2.23.0)\n",
            "Requirement already satisfied: werkzeug>=0.11.15 in /usr/local/lib/python3.7/dist-packages (from tensorboard<2.9,>=2.8->tensorflow->density-functional-approximation-dm21==0.1) (1.0.1)\n",
            "Requirement already satisfied: tensorboard-data-server<0.7.0,>=0.6.0 in /usr/local/lib/python3.7/dist-packages (from tensorboard<2.9,>=2.8->tensorflow->density-functional-approximation-dm21==0.1) (0.6.1)\n",
            "Requirement already satisfied: markdown>=2.6.8 in /usr/local/lib/python3.7/dist-packages (from tensorboard<2.9,>=2.8->tensorflow->density-functional-approximation-dm21==0.1) (3.3.7)\n",
            "Requirement already satisfied: pyasn1-modules>=0.2.1 in /usr/local/lib/python3.7/dist-packages (from google-auth<3,>=1.6.3->tensorboard<2.9,>=2.8->tensorflow->density-functional-approximation-dm21==0.1) (0.2.8)\n",
            "Requirement already satisfied: cachetools<5.0,>=2.0.0 in /usr/local/lib/python3.7/dist-packages (from google-auth<3,>=1.6.3->tensorboard<2.9,>=2.8->tensorflow->density-functional-approximation-dm21==0.1) (4.2.4)\n",
            "Requirement already satisfied: rsa<5,>=3.1.4 in /usr/local/lib/python3.7/dist-packages (from google-auth<3,>=1.6.3->tensorboard<2.9,>=2.8->tensorflow->density-functional-approximation-dm21==0.1) (4.8)\n",
            "Requirement already satisfied: requests-oauthlib>=0.7.0 in /usr/local/lib/python3.7/dist-packages (from google-auth-oauthlib<0.5,>=0.4.1->tensorboard<2.9,>=2.8->tensorflow->density-functional-approximation-dm21==0.1) (1.3.1)\n",
            "Requirement already satisfied: importlib-metadata>=4.4 in /usr/local/lib/python3.7/dist-packages (from markdown>=2.6.8->tensorboard<2.9,>=2.8->tensorflow->density-functional-approximation-dm21==0.1) (4.11.4)\n",
            "Requirement already satisfied: zipp>=0.5 in /usr/local/lib/python3.7/dist-packages (from importlib-metadata>=4.4->markdown>=2.6.8->tensorboard<2.9,>=2.8->tensorflow->density-functional-approximation-dm21==0.1) (3.8.0)\n",
            "Requirement already satisfied: pyasn1<0.5.0,>=0.4.6 in /usr/local/lib/python3.7/dist-packages (from pyasn1-modules>=0.2.1->google-auth<3,>=1.6.3->tensorboard<2.9,>=2.8->tensorflow->density-functional-approximation-dm21==0.1) (0.4.8)\n",
            "Requirement already satisfied: idna<3,>=2.5 in /usr/local/lib/python3.7/dist-packages (from requests<3,>=2.21.0->tensorboard<2.9,>=2.8->tensorflow->density-functional-approximation-dm21==0.1) (2.10)\n",
            "Requirement already satisfied: certifi>=2017.4.17 in /usr/local/lib/python3.7/dist-packages (from requests<3,>=2.21.0->tensorboard<2.9,>=2.8->tensorflow->density-functional-approximation-dm21==0.1) (2022.5.18.1)\n",
            "Requirement already satisfied: urllib3!=1.25.0,!=1.25.1,<1.26,>=1.21.1 in /usr/local/lib/python3.7/dist-packages (from requests<3,>=2.21.0->tensorboard<2.9,>=2.8->tensorflow->density-functional-approximation-dm21==0.1) (1.24.3)\n",
            "Requirement already satisfied: chardet<4,>=3.0.2 in /usr/local/lib/python3.7/dist-packages (from requests<3,>=2.21.0->tensorboard<2.9,>=2.8->tensorflow->density-functional-approximation-dm21==0.1) (3.0.4)\n",
            "Requirement already satisfied: oauthlib>=3.0.0 in /usr/local/lib/python3.7/dist-packages (from requests-oauthlib>=0.7.0->google-auth-oauthlib<0.5,>=0.4.1->tensorboard<2.9,>=2.8->tensorflow->density-functional-approximation-dm21==0.1) (3.2.0)\n",
            "Building wheels for collected packages: density-functional-approximation-dm21\n",
            "  Building wheel for density-functional-approximation-dm21 (setup.py) ... \u001b[?25l\u001b[?25hdone\n",
            "  Created wheel for density-functional-approximation-dm21: filename=density_functional_approximation_dm21-0.1-py3-none-any.whl size=6085418 sha256=f1b810adbb7b23ef4a8acce9599b5317ae6ff175f815d69e81885505b83aee4d\n",
            "  Stored in directory: /tmp/pip-ephem-wheel-cache-s8nwsuz3/wheels/3b/c5/70/0200d858561857222265157381fd4ad73ce078117b4821cd36\n",
            "Successfully built density-functional-approximation-dm21\n",
            "Installing collected packages: density-functional-approximation-dm21\n",
            "  Attempting uninstall: density-functional-approximation-dm21\n",
            "    Found existing installation: density-functional-approximation-dm21 0.1\n",
            "    Uninstalling density-functional-approximation-dm21-0.1:\n",
            "      Successfully uninstalled density-functional-approximation-dm21-0.1\n",
            "Successfully installed density-functional-approximation-dm21-0.1\n"
          ]
        }
      ]
    },
    {
      "cell_type": "code",
      "source": [
        ""
      ],
      "metadata": {
        "id": "5277iYdkaajo"
      },
      "execution_count": 10,
      "outputs": []
    },
    {
      "cell_type": "markdown",
      "source": [
        "## Step 2: Configure RAM optionally"
      ],
      "metadata": {
        "id": "Eq-LQv17kkhc"
      }
    },
    {
      "cell_type": "code",
      "source": [
        "from pyscf import gto\n",
        "from pyscf import dft\n",
        "\n",
        "from pyscf import __config__\n",
        "MAX_MEMORY = getattr(__config__, 'MAX_MEMORY')\n",
        "MAX_MEMORY"
      ],
      "metadata": {
        "id": "Y_W-hLjur8Pr",
        "colab": {
          "base_uri": "https://localhost:8080/"
        },
        "outputId": "89d6fea6-4cb5-4822-9697-b771772c6864"
      },
      "execution_count": 11,
      "outputs": [
        {
          "output_type": "execute_result",
          "data": {
            "text/plain": [
              "4000"
            ]
          },
          "metadata": {},
          "execution_count": 11
        }
      ]
    },
    {
      "cell_type": "code",
      "source": [
        "import psutil\n",
        "systemresources = psutil.virtual_memory()\n",
        "\n",
        "MAX_MEMORY = round( systemresources.available  * 0.00009)\n",
        "PYSCF_MAX_MEMORY  = MAX_MEMORY\n",
        "\n",
        "print('Configured to use max RAM resources of  ' + str(MAX_MEMORY))"
      ],
      "metadata": {
        "colab": {
          "base_uri": "https://localhost:8080/"
        },
        "id": "HYnC_d1zGtkp",
        "outputId": "3a1b8693-8751-4243-da22-0fffadc29e80"
      },
      "execution_count": 12,
      "outputs": [
        {
          "output_type": "stream",
          "name": "stdout",
          "text": [
            "Configured to use max RAM resources of  1106237\n"
          ]
        }
      ]
    },
    {
      "cell_type": "code",
      "source": [
        "setattr(__config__, 'MAX_MEMORY', PYSCF_MAX_MEMORY)\n",
        "\n",
        "setattr(__config__, 'PYSCF_MAX_MEMORY', PYSCF_MAX_MEMORY)\n",
        "\n"
      ],
      "metadata": {
        "id": "XGAMq215KZ2t"
      },
      "execution_count": 13,
      "outputs": []
    },
    {
      "cell_type": "code",
      "source": [
        "MAX_MEMORY = getattr(__config__, 'MAX_MEMORY')\n",
        "MAX_MEMORY"
      ],
      "metadata": {
        "colab": {
          "base_uri": "https://localhost:8080/"
        },
        "id": "h_mNg2CxI4Ql",
        "outputId": "33690592-ed57-4d4f-f138-9fb4fe863917"
      },
      "execution_count": 14,
      "outputs": [
        {
          "output_type": "execute_result",
          "data": {
            "text/plain": [
              "1106237"
            ]
          },
          "metadata": {},
          "execution_count": 14
        }
      ]
    },
    {
      "cell_type": "markdown",
      "source": [
        "## Step 3: \n",
        "\n",
        "### 3.1 Define the periodic table (Define atomic weight and periodic weight for each element)\n",
        "\n",
        "### 3.2 Define the spin value for each element \n",
        "\n",
        "### 3.3 You can load any new basis function.  Just visit the Basics Exchange and get a new Basis Function URL .  \n",
        "#### here we download a basis set full defintion file from an URL and then use it to construct a molecule  \n",
        "\n",
        "#### To get a web URL, just visit https://www.basissetexchange.org/"
      ],
      "metadata": {
        "id": "BF8o9PZnoXzL"
      }
    },
    {
      "cell_type": "markdown",
      "source": [
        "\n",
        "http://vergil.chemistry.gatech.edu/courses/chem6485/pdf/basis-sets.pdf \n",
        "\n",
        "https://youtu.be/irQ_c_fW5f8?t=971\n",
        "\n",
        "\n",
        "1.   cc-pCVXZ or aug-cc-pCVXZ basis sets;  you should use basis sets like this if you do not freeze core\n",
        "2.   cc-pVQZ is great for CCSD(T)\n",
        "\n"
      ],
      "metadata": {
        "id": "oLOgjrRQhdQk"
      }
    },
    {
      "cell_type": "code",
      "source": [
        "def trydownloadingBasisSet(ElementsinMolecule, BasisSet, versionno):  \n",
        "    target_url = 'https://www.basissetexchange.org/api/basis/' + str(BasisSet) +  '/format/nwchem/?version='+ str( versionno)+'&elements=' + str(ElementsinMolecule) \n",
        "    #print(target_url)\n",
        "    try:\n",
        "      textfile = urllib.request.urlopen(target_url)    \n",
        "      mydownloadedfile = \"\"\n",
        "      for line in textfile:\n",
        "          #print(line.decode('utf-8')) #utf-8 or iso8859-1 or whatever the page encoding scheme is\n",
        "          mydownloadedfile += line.decode('utf-8') \n",
        "      return True    \n",
        "    except:\n",
        "      return False"
      ],
      "metadata": {
        "id": "a289v8vDEE_E"
      },
      "execution_count": 15,
      "outputs": []
    },
    {
      "cell_type": "code",
      "source": [
        "import urllib   # the lib that handles the url stuff\n",
        "import urllib.request  # the lib that handles the url stuff\n",
        "\n",
        "\n",
        "def getValidBasisSet(MoleculeList):\n",
        "  ValidatedBasisSet = []\n",
        "  ValBSSetVersionNumberDict = {}\n",
        "  errorproneBasisSet = []\n",
        "  for BasisSet in listBasisSet:\n",
        "    didnotworkatallforanyversion = True\n",
        "    for versionno in range(0,4):\n",
        "      isworking = trydownloadingBasisSet(MoleculeList, BasisSet, versionno)\n",
        "      if isworking == True:\n",
        "        didnotworkatallforanyversion = False\n",
        "        ValBSSetVersionNumberDict[BasisSet] = versionno\n",
        "        ValidatedBasisSet.append(BasisSet)\n",
        "        break\n",
        "    if didnotworkatallforanyversion == True:\n",
        "      errorproneBasisSet.append(BasisSet)\n",
        "  return ValidatedBasisSet "
      ],
      "metadata": {
        "id": "dkRcJrVtfmFO"
      },
      "execution_count": 16,
      "outputs": []
    },
    {
      "cell_type": "code",
      "source": [
        "def downloadBasisSetAutoVersion(ElementsinMolecule, BasisSet):  \n",
        "    for versionumber in range (0,4):\n",
        "      target_url = 'https://www.basissetexchange.org/api/basis/' + str(BasisSet) +  '/format/nwchem/?version='+ str( versionumber)+'&elements=' + str(ElementsinMolecule) \n",
        "      try:\n",
        "        textfile = urllib.request.urlopen(target_url)    \n",
        "        mydownloadedfile = \"\"\n",
        "        for line in textfile:\n",
        "            #print(line.decode('utf-8')) #utf-8 or iso8859-1 or whatever the page encoding scheme is\n",
        "            mydownloadedfile += line.decode('utf-8') \n",
        "        return mydownloadedfile    \n",
        "      except:\n",
        "        return None"
      ],
      "metadata": {
        "id": "BwAkua2vp_t5"
      },
      "execution_count": 17,
      "outputs": []
    },
    {
      "cell_type": "code",
      "source": [
        "\n",
        "PerdiocTableNumber = dictPeriodicTable [elementname]\n",
        "ValidatedBasisSet = getValidBasisSet(PerdiocTableNumber)\n",
        "len(ValidatedBasisSet)\n",
        "ValidatedBasisSet"
      ],
      "metadata": {
        "colab": {
          "base_uri": "https://localhost:8080/"
        },
        "id": "_BV2z_OX5rH1",
        "outputId": "165ecffa-cb1e-4717-e68d-8de460043424"
      },
      "execution_count": 18,
      "outputs": [
        {
          "output_type": "execute_result",
          "data": {
            "text/plain": [
              "['cc-pVQZ', 'cc-pVDZ', 'def2-QZVP', '6-31g']"
            ]
          },
          "metadata": {},
          "execution_count": 18
        }
      ]
    },
    {
      "cell_type": "code",
      "source": [
        "basisSethandpicked =[  ]"
      ],
      "metadata": {
        "id": "40fAp-c8DYDn"
      },
      "execution_count": 19,
      "outputs": []
    },
    {
      "cell_type": "code",
      "source": [
        "#listBasisSet = basisSet652"
      ],
      "metadata": {
        "id": "iGlC_ofGtzHL"
      },
      "execution_count": 20,
      "outputs": []
    },
    {
      "cell_type": "code",
      "source": [
        "try:\n",
        "  print(\"Hello\")\n",
        "except:\n",
        "  print(\"Something went wrong\")\n",
        "else:\n",
        "  print(\"Nothing went wrong\")"
      ],
      "metadata": {
        "colab": {
          "base_uri": "https://localhost:8080/"
        },
        "id": "3oCykicz1IYu",
        "outputId": "c32c5ffc-d0b7-4745-b5a3-2d2667957db4"
      },
      "execution_count": 21,
      "outputs": [
        {
          "output_type": "stream",
          "name": "stdout",
          "text": [
            "Hello\n",
            "Nothing went wrong\n"
          ]
        }
      ]
    },
    {
      "cell_type": "code",
      "source": [
        ""
      ],
      "metadata": {
        "id": "Nh0tMh-zzHmP"
      },
      "execution_count": 21,
      "outputs": []
    },
    {
      "cell_type": "code",
      "source": [
        "#downloadBasisSetAutoVersion(1,'3-21G')"
      ],
      "metadata": {
        "id": "LrJBO50Sgt4v"
      },
      "execution_count": 22,
      "outputs": []
    },
    {
      "cell_type": "markdown",
      "source": [
        "geomtery optimization"
      ],
      "metadata": {
        "id": "3RoPT7c8350_"
      }
    },
    {
      "cell_type": "code",
      "source": [
        "!\tpip install -U pyberny\n"
      ],
      "metadata": {
        "colab": {
          "base_uri": "https://localhost:8080/"
        },
        "id": "IZFEtXrH6RwP",
        "outputId": "a2fd769b-ee71-44df-ffec-93e30d878e67"
      },
      "execution_count": 23,
      "outputs": [
        {
          "output_type": "stream",
          "name": "stdout",
          "text": [
            "Looking in indexes: https://pypi.org/simple, https://us-python.pkg.dev/colab-wheels/public/simple/\n",
            "Requirement already satisfied: pyberny in /usr/local/lib/python3.7/dist-packages (0.6.3)\n",
            "Requirement already satisfied: numpy<2.0,>=1.15 in /usr/local/lib/python3.7/dist-packages (from pyberny) (1.21.6)\n"
          ]
        }
      ]
    },
    {
      "cell_type": "code",
      "source": [
        "from pyscf import gto\n",
        "from pyscf import scf\n",
        "from pyscf import cc\n",
        "from pyscf.cc import ccsd_t_lambda_slow as ccsd_t_lambda\n",
        "from pyscf.grad import ccsd_t as ccsd_t_grad\n",
        "from pyscf.geomopt import berny_solver\n",
        "\n",
        "def f_usefforberny_solver(mol):\n",
        "    # Compute CCSD(T) energy\n",
        "    mf = scf.RHF(mol).run()\n",
        "    mycc = cc.CCSD(mf).run()\n",
        "    et_correction = mycc.ccsd_t()\n",
        "    e_tot = mycc.e_tot + et_correction\n",
        "\n",
        "    # Compute CCSD(T) gradients\n",
        "    g = ccsd_t_grad.Gradients(mycc).kernel()\n",
        "    print('CCSD(T) nuclear gradients:')\n",
        "    print(g)\n",
        "    return e_tot, g\n"
      ],
      "metadata": {
        "id": "hdNEpI8D38FG"
      },
      "execution_count": 24,
      "outputs": []
    },
    {
      "cell_type": "code",
      "source": [
        " hashLookUpMolecules = dict()\n",
        " "
      ],
      "metadata": {
        "id": "sKAn5K4QVc2Y"
      },
      "execution_count": 25,
      "outputs": []
    },
    {
      "cell_type": "code",
      "source": [
        "def GetoptimizedMolecule(randomMol):\n",
        "  global hashLookUpMolecules\n",
        "  print('****************************************************************GEOMENTRY OPTIMIZATION Starts***********************************************')  \n",
        "  print('MOLECULE KEY is')\n",
        "  print([randomMol.basis])\n",
        "  if randomMol in hashLookUpMolecules:\n",
        "    saved_mol = hashLookUpMolecules[randomMol]\n",
        "    print('****************************************************************GEOMENTRY looked up from Hashtable***********************************************')  \n",
        "    return saved_mol\n",
        "  fake_method = berny_solver.as_pyscf_method(randomMol, f_usefforberny_solver)\n",
        "  new_mol = berny_solver.optimize(fake_method , maxsteps=400)\n",
        "  print('Old geometry (Bohr)')\n",
        "  print(randomMol.atom_coords())  \n",
        "  print('New geometry (Bohr)')\n",
        "  print(new_mol.atom_coords())  \n",
        "  hashLookUpMolecules[randomMol] = new_mol\n",
        "  print('****************************************************************GEOMENTRY OPTIMIZATION Ends***********************************************')  \n",
        "  return new_mol\n"
      ],
      "metadata": {
        "id": "SlipAJZo3-Tw"
      },
      "execution_count": 26,
      "outputs": []
    },
    {
      "cell_type": "markdown",
      "source": [
        "DM21"
      ],
      "metadata": {
        "id": "WnVMCEhX5ZzV"
      }
    },
    {
      "cell_type": "code",
      "source": [
        "import density_functional_approximation_dm21 as dm21\n",
        "from pyscf import gto\n",
        "from pyscf import dft"
      ],
      "metadata": {
        "id": "SZOfTZ7269qj",
        "colab": {
          "base_uri": "https://localhost:8080/"
        },
        "outputId": "ef7121b3-728b-4fd7-8dbf-46e6d333c447"
      },
      "execution_count": 27,
      "outputs": [
        {
          "output_type": "stream",
          "name": "stdout",
          "text": [
            "WARNING:tensorflow:From /usr/local/lib/python3.7/dist-packages/tensorflow/python/compat/v2_compat.py:107: disable_resource_variables (from tensorflow.python.ops.variable_scope) is deprecated and will be removed in a future version.\n",
            "Instructions for updating:\n",
            "non-resource variables are not supported in the long term\n"
          ]
        }
      ]
    },
    {
      "cell_type": "code",
      "source": [
        "import pandas as pd\n",
        "import numpy as np"
      ],
      "metadata": {
        "id": "duaw3FC-E2G3"
      },
      "execution_count": 28,
      "outputs": []
    },
    {
      "cell_type": "code",
      "source": [
        "def buildaMoleculeSpin(elementname, elementname2, mydownloadedfile, mydownloadedfile2, trythisspin ):\n",
        "      mol = gto.Mole()\n",
        "      mol.atom = '''\n",
        "      O\t0.0000000\t0.0000000\t0.6078060\n",
        "      O\t0.0000000\t0.0000000\t-0.6078060\n",
        "      '''\n",
        "      mol.unit = 'Angstrom'\n",
        "   #   mol.atom = [[elementname, ( 0, 0, 0)], [elementname2, (0, 0, 1)] ]\n",
        "      mol.spin =  trythisspin\n",
        "      mol.symmetry = True\n",
        "      mol.basis = { elementname: gto.parse(mydownloadedfile)  ,     elementname2: gto.parse(mydownloadedfile2)        }\n",
        "      #mol.max_memory = PYSCF_MAX_MEMORY\n",
        "      mol.build()\n",
        "      return mol"
      ],
      "metadata": {
        "id": "esCilbs1MsMw"
      },
      "execution_count": 29,
      "outputs": []
    },
    {
      "cell_type": "code",
      "source": [
        ""
      ],
      "metadata": {
        "id": "FvxnWOE5G51N"
      },
      "execution_count": 29,
      "outputs": []
    },
    {
      "cell_type": "markdown",
      "source": [
        "\n",
        "Geometry for O2 (Oxygen diatomic) 3Σg D*H\n",
        "\n",
        "https://cccbdb.nist.gov/geom3x.asp?method=63&basis=25 \n",
        "```\n",
        "CCSD(T)=FULL/cc-pVQZ\n",
        "\n",
        "Atom\tX\tY\tZ\n",
        "O\t0.0000000\t0.0000000\t0.6078060\n",
        "O\t0.0000000\t0.0000000\t-0.6078060\n",
        "\n",
        "\n",
        "CCSD(T)=FULL/cc-pVDZ\n",
        "\n",
        "Point group is D∞h\n",
        "Atom\tInternal\n",
        "x (Å)\ty (Å)\tz (Å)\n",
        "O1\t0.0000\t0.0000\t0.6078\n",
        "O2\t0.0000\t0.0000\t-0.6078\n",
        "\n",
        "\n"
      ],
      "metadata": {
        "id": "fFeR3rFpM45Y"
      }
    },
    {
      "cell_type": "code",
      "source": [
        "def buildaMoleculeTryMOLECULEELEMENTCOUNT2(elementname, elementname2, mydownloadedfile , mydownloadedfile2 ):\n",
        "  molecule = None \n",
        "  for spinvaluecheckthis in range(5):\n",
        "    try:\n",
        "      molecule = buildaMoleculeSpin(elementname,elementname2, mydownloadedfile, mydownloadedfile2, spinvaluecheckthis )      \n",
        "      return molecule, spinvaluecheckthis\n",
        "      break\n",
        "    except:\n",
        "      tempexcept = True\n",
        "      #print('SPIN is not correct. Auto matically trying another spin value...')\n",
        "    else:\n",
        "      tempelse = True\n",
        "      #print('TRYING SPIN')\n",
        "  return molecule, spinvaluecheckthis\n",
        " \n"
      ],
      "metadata": {
        "id": "BYolIH7Lsxqa"
      },
      "execution_count": 30,
      "outputs": []
    },
    {
      "cell_type": "code",
      "source": [
        "def buildaMoleculeSpinMOLECULEELEMENTCOUNT1(elementname, mydownloadedfile,  trythisspin ):\n",
        "      mol = gto.Mole()\n",
        "      #mol.atom = '''H 0 0 0'''\n",
        "      mol.atom = [[elementname, (0, 0, 0)] ]\n",
        "      mol.spin =  trythisspin\n",
        "      mol.basis = { elementname: gto.parse(mydownloadedfile)       }\n",
        "      mol.build()\n",
        "      return mol"
      ],
      "metadata": {
        "id": "AQmy_MGADZfD"
      },
      "execution_count": 31,
      "outputs": []
    },
    {
      "cell_type": "code",
      "source": [
        "def buildaMoleculeTryMOLECULEELEMENTCOUNT1(elementname,  mydownloadedfile ):\n",
        "  molecule = None \n",
        "  for spinvaluecheckthis in range(5):\n",
        "    try:\n",
        "      molecule = buildaMoleculeSpinMOLECULEELEMENTCOUNT1(elementname, mydownloadedfile, spinvaluecheckthis )      \n",
        "      return molecule, spinvaluecheckthis\n",
        "      break\n",
        "    except:\n",
        "      tempexcept = True\n",
        "      #print('SPIN is not correct. Auto matically trying another spin value...')\n",
        "    else:\n",
        "      tempelse = True\n",
        "      #print('TRYING SPIN')\n",
        "  return molecule, spinvaluecheckthis\n",
        " \n"
      ],
      "metadata": {
        "id": "FoNOCHQiChEG"
      },
      "execution_count": 32,
      "outputs": []
    },
    {
      "cell_type": "markdown",
      "source": [
        "## Step 4: Expected format of output table "
      ],
      "metadata": {
        "id": "cxAQxLdTYX-J"
      }
    },
    {
      "cell_type": "markdown",
      "source": [
        "## Step 5. Input values to be considered in this computation  "
      ],
      "metadata": {
        "id": "yxkHxcxOYf9G"
      }
    },
    {
      "cell_type": "code",
      "source": [
        "import urllib   # the lib that handles the url stuff\n",
        "import urllib.request  # the lib that handles the url stuff\n",
        "import numpy\n",
        "\n",
        "print( 'No'  + '        ' + 'Element' + '    \\t  \\t \\t ' +  'Basis Set')\n",
        "\n",
        "for elementname in dictPeriodicTable.keys():\n",
        "  break\n",
        "  PerdiocTableNumber = dictPeriodicTable [elementname]\n",
        "  ValidatedBasisSet = getValidBasisSet(PerdiocTableNumber)\n",
        "  print('***********************************************************'+ 'No of Valid basis set = ' + str(len(ValidatedBasisSet)))\n",
        "\n",
        "  for BasisSet in ValidatedBasisSet:    \n",
        "    print('***********************************************************')\n",
        "    print('***********************************************************')\n",
        "    print('***********************************************************')\n",
        "                       #downloadBasisSetAutoVersion(1,'3-21G')\n",
        "    mydownloadedfile = downloadBasisSetAutoVersion(PerdiocTableNumber,BasisSet)\n",
        "    \n",
        "    molUnoptimized, myspin = buildaMoleculeTryMOLECULEELEMENTCOUNT2(elementname, elementname, mydownloadedfile , mydownloadedfile)\n",
        "\n",
        "\n",
        "    if molUnoptimized == None:\n",
        "      continue\n",
        "\n",
        "    mol = GetoptimizedMolecule(molUnoptimized)\n",
        "\n",
        "    continue\n",
        "\n",
        "    if mol == None:\n",
        "      continue\n",
        "\n",
        "    print(mol.atom)\n",
        "    print(mol.atom_coords(unit='Bohr'))\n",
        "    print(mol.basis)\n",
        "    print(str( PerdiocTableNumber)  + '        ' + str(elementname) + '    \\t  \\t \\t ' + str(BasisSet))\n",
        "\n",
        "    aResultDict = {}\n",
        "    aResultDict['Weight'] = PerdiocTableNumber\n",
        "    aResultDict['Element'] = [elementname]\n",
        "    aResultDict['Molecule'] = [mol.atom]\n",
        "    aResultDict['BasisSet'] = [BasisSet]\n",
        "    aResultDict['MolOBJECT'] = mol\n",
        "    aResultDict['BuiltMolecule'] = [  mol.basis   ]\n",
        "\n",
        "    dfforOneElement = pd.DataFrame(aResultDict )\n",
        "    df = df.append(dfforOneElement, ignore_index = True)\n",
        "\n",
        " \n"
      ],
      "metadata": {
        "id": "WibChtR29hCy",
        "colab": {
          "base_uri": "https://localhost:8080/"
        },
        "outputId": "5db25b19-1a2c-44d3-fb6b-656596b4cab8"
      },
      "execution_count": 33,
      "outputs": [
        {
          "output_type": "stream",
          "name": "stdout",
          "text": [
            "No        Element    \t  \t \t Basis Set\n"
          ]
        }
      ]
    },
    {
      "cell_type": "markdown",
      "source": [
        "## Step 6. Compute Results\n",
        "## Run the computation for the above input values "
      ],
      "metadata": {
        "id": "8GKgQOHrYp3t"
      }
    },
    {
      "cell_type": "code",
      "source": [
        "functionalsList = ['b3lyp','M06-2X' , 'SCAN'    ,'wB97X-V',  'PW6B95' , 'pbe']\n",
        "\n",
        "functionalsList = ['b3lyp','M06-2X' , 'SCAN'    ,'wB97X-V',  'PW6B95' ,  'pbe' ,  'pbe0']\n",
        "\n",
        "\n",
        "#functionalsList = ['b3lyp']"
      ],
      "metadata": {
        "id": "v3fQHBV8l3hk"
      },
      "execution_count": 34,
      "outputs": []
    },
    {
      "cell_type": "code",
      "source": [
        "from pyscf import dft\n",
        "\n",
        "# DFT computation of SCF energy  \n",
        "def SCFenergyFunctionalsbasedonDFTGOLD(mol , functionals ):\n",
        "  if mol.spin == 0:\n",
        "    mf = dft.RKS(mol)\n",
        "  else:\n",
        "    mf = dft.UKS(mol)\n",
        "  # functional.\n",
        "  #mf.xc = 'B3LYP'\n",
        "  mf.max_memory = PYSCF_MAX_MEMORY\n",
        "  mf.xc = functionals\n",
        "  # Run the DFT calculation.\n",
        "  answerDFT = mf.kernel()\n",
        "  return answerDFT\n",
        "\n"
      ],
      "metadata": {
        "id": "m9dDlyeSik9_"
      },
      "execution_count": 35,
      "outputs": []
    },
    {
      "cell_type": "code",
      "source": [
        "\n",
        "# DFT computation of SCF energy  \n",
        "def SCFenergyFunctionalsbasedonDFT(mol , functionals ):\n",
        "    mf = mol.KS()\n",
        "   # mf.xc = 'b3lyp'\n",
        "   # mf.xc = 'pbe0'\n",
        "   # mf.xc = 'M06-2X'\n",
        "   # mf.xc = 'SCAN'    \n",
        "   # mf.xc = 'wB97X-V'\n",
        "   # mf.xc = 'PW6B95'\n",
        "    mf.xc = functionals\n",
        "    # Run the DFT calculation.\n",
        "    answerDFT = mf.kernel()\n",
        "    return answerDFT"
      ],
      "metadata": {
        "id": "V_S4At-sh8D1"
      },
      "execution_count": 36,
      "outputs": []
    },
    {
      "cell_type": "code",
      "source": [
        "def SCFenergyFunctionalsbasedonNNGOLD(mol,  NNfunctionals ):\n",
        "    if mol.spin == 0:\n",
        "      mf = dft.RKS(mol)\n",
        "    else:\n",
        "      mf = dft.UKS(mol)\n",
        "    #mf._numint = dm21.NeuralNumInt(dm21.Functional.DM21m )\n",
        "    mf._numint = dm21.NeuralNumInt(NNfunctionals)\n",
        "    mf.max_memory = PYSCF_MAX_MEMORY\n",
        "    mf.conv_tol = 1E-10\n",
        "    mf.conv_tol_grad = 1E-7    \n",
        "    # Run the DFT calculation.\n",
        "    answerNN = mf.kernel()\n",
        "    return answerNN"
      ],
      "metadata": {
        "id": "zhrEkD-vTqOJ"
      },
      "execution_count": 37,
      "outputs": []
    },
    {
      "cell_type": "code",
      "source": [
        "def SCFenergyFunctionalsbasedonNN(mol,  NNfunctionals, functionals='b3lyp'):\n",
        "    mf = mol.KS()\n",
        "    mf.xc = functionals\n",
        "    #mf._numint = dm21.NeuralNumInt(dm21.Functional.DM21m )\n",
        "    mf._numint = dm21.NeuralNumInt(NNfunctionals)\n",
        "    # Run the DFT calculation.\n",
        "    answerNN = mf.kernel()\n",
        "    return answerNN"
      ],
      "metadata": {
        "id": "q252BnqMmfWD"
      },
      "execution_count": 38,
      "outputs": []
    },
    {
      "cell_type": "code",
      "source": [
        " "
      ],
      "metadata": {
        "id": "jPXfm5TaqFXY"
      },
      "execution_count": 38,
      "outputs": []
    },
    {
      "cell_type": "code",
      "source": [
        " "
      ],
      "metadata": {
        "id": "cMOO55jPka49"
      },
      "execution_count": 38,
      "outputs": []
    },
    {
      "cell_type": "code",
      "source": [
        "# DFT computation of SCF energy  \n",
        "def SCFenergybasedonDFT(mol):\n",
        "    mf = dft.RKS(mol)\n",
        "    # Run the DFT calculation.\n",
        "    answerDFT = mf.kernel()\n",
        "    return answerDFT"
      ],
      "metadata": {
        "id": "W9GjaEhKAaCt"
      },
      "execution_count": 39,
      "outputs": []
    },
    {
      "cell_type": "code",
      "source": [
        "# Neural network based prediction of SCF energy   \n",
        "def SCFenergybasedonNN(mol):\n",
        "    mf = dft.RKS(mol)\n",
        "    mf._numint = dm21.NeuralNumInt(dm21.Functional.DM21)\n",
        "    # Run the DFT calculation.\n",
        "    answerNN = mf.kernel()\n",
        "    return answerNN"
      ],
      "metadata": {
        "id": "LzfM6gMZBABO"
      },
      "execution_count": 40,
      "outputs": []
    },
    {
      "cell_type": "code",
      "source": [
        "# CCSD computation \n",
        "def SCFenergybasedonCCSD(mol):\n",
        "  ccsdanswer = mol.apply('CCSD').run().e_tot\n",
        "  return ccsdanswer"
      ],
      "metadata": {
        "id": "jN6A1KpWBvD_"
      },
      "execution_count": 41,
      "outputs": []
    },
    {
      "cell_type": "code",
      "source": [
        "from pyscf import  scf, cc\n",
        "\n",
        "# CCSD-T computation \n",
        "def SCFenergybasedonCCSDTGOLD(mol):\n",
        "  try:\n",
        "    mf = scf.HF(mol).run()\n",
        "    mf.max_memory = PYSCF_MAX_MEMORY\n",
        "    mycc = cc.CCSD(mf).run()\n",
        "    #print('CCSD  energy', mycc.e_tot)\n",
        "    et = mycc.ccsd_t()\n",
        "    CCSDTotal = mycc.e_tot + et\n",
        "  except ZeroDivisionError:\n",
        "    print('000000000000000000000000000000000000000-------CCSDT Error------------00000000000000000000000. Using CCSD')\n",
        "    return SCFenergybasedonCCSD(mol)\n",
        "  #print('CCSD(T) total energy', mycc.e_tot + et)\n",
        "  return CCSDTotal\n",
        "\n",
        "  "
      ],
      "metadata": {
        "id": "t6DBX0xPJQUB"
      },
      "execution_count": 42,
      "outputs": []
    },
    {
      "cell_type": "code",
      "source": [
        ""
      ],
      "metadata": {
        "id": "7HNMoUa60U9w"
      },
      "execution_count": 42,
      "outputs": []
    },
    {
      "cell_type": "code",
      "source": [
        " "
      ],
      "metadata": {
        "id": "Rz8tJdhwR0C1"
      },
      "execution_count": 42,
      "outputs": []
    },
    {
      "cell_type": "code",
      "source": [
        "import urllib   # the lib that handles the url stuff\n",
        "import urllib.request  # the lib that handles the url stuff\n",
        "import numpy\n",
        "from google.colab import files\n",
        "\n",
        "\n",
        "print( 'No'  + '        ' + 'Element' + '    \\t  \\t \\t ' +  'Basis Set')\n",
        "\n"
      ],
      "metadata": {
        "id": "ZapSFREjSiAI",
        "colab": {
          "base_uri": "https://localhost:8080/"
        },
        "outputId": "9b94def0-e92d-4c57-8f64-5398cedce89a"
      },
      "execution_count": 43,
      "outputs": [
        {
          "output_type": "stream",
          "name": "stdout",
          "text": [
            "No        Element    \t  \t \t Basis Set\n"
          ]
        }
      ]
    },
    {
      "cell_type": "code",
      "source": [
        "ValidatedBasisSetSOURCE = getValidBasisSet(PerdiocTableNumber)\n"
      ],
      "metadata": {
        "id": "RTtSH0rhUlLD"
      },
      "execution_count": 44,
      "outputs": []
    },
    {
      "cell_type": "code",
      "source": [
        "\n",
        "\n",
        "def compute1Mol1BasisSet(elementname, ValidatedBasisSetStart , df):\n",
        "  if True:\n",
        "    PerdiocTableNumber = dictPeriodicTable [elementname]\n",
        "    ValidatedBasisSet = ValidatedBasisSetSOURCE[ValidatedBasisSetStart:ValidatedBasisSetStart+1]\n",
        "    for BasisSet in ValidatedBasisSet:    \n",
        "      print('***********************************************************')\n",
        "      print('***********************************************************')\n",
        "      print('***********************************************************')\n",
        "\n",
        "      mydownloadedfile = downloadBasisSetAutoVersion(PerdiocTableNumber,BasisSet)      \n",
        "      molUnoptimized, myspin = buildaMoleculeTryMOLECULEELEMENTCOUNT2(elementname, elementname, mydownloadedfile , mydownloadedfile )\n",
        "      if molUnoptimized == None:\n",
        "        return df\n",
        "\n",
        "      print('.............................................Molecule details......................................................')\n",
        "      print(molUnoptimized)\n",
        "      print('In Bohr')\n",
        "      print(molUnoptimized.atom_coords(unit='Bohr'))\n",
        "      print('In angstrom')\n",
        "      print(molUnoptimized.atom_coords(unit='ANG'))\n",
        "\n",
        "\n",
        "     # mol = GetoptimizedMolecule(molUnoptimized)\n",
        "      mol = molUnoptimized\n",
        "        \n",
        "      print(mol.atom)\n",
        "      print(mol.atom_coords(unit='Bohr'))\n",
        "      print(mol.basis)\n",
        "      print(str( PerdiocTableNumber)  + '        ' + str(elementname) + '    \\t  \\t \\t ' + str(BasisSet))     \n",
        "      print('.............................................COMPUTING SCF energy......................................................')\n",
        "\n",
        "      aResultDict = computePart(mol )\n",
        "\n",
        "\n",
        "      aResultDict['BasisSet'] = [BasisSet]\n",
        "\n",
        "      dfforOneElement = pd.DataFrame(aResultDict )\n",
        "      df = df.append(dfforOneElement, ignore_index = True)\n",
        "      df.to_csv('ComputedEnergy'+str(ValidatedBasisSetStart)+'.csv')\n",
        "      df.to_csv('/content/drive/My Drive/DeepMind' + EXPNO+ 'CE'+str(ValidatedBasisSetStart)+'.csv' )\n",
        "      print(EXPNO+ 'CE'+str(ValidatedBasisSetStart)+'.csv')\n",
        "      return df\n",
        "\n",
        "\n",
        "    #  files.download('ComputedEnergy'+str(ValidatedBasisSetStart)+'.csv')\n",
        "\n",
        "\n",
        "      \n"
      ],
      "metadata": {
        "id": "nsFu58KgJbdq"
      },
      "execution_count": 45,
      "outputs": []
    },
    {
      "cell_type": "code",
      "source": [
        ""
      ],
      "metadata": {
        "id": "-IhokgA25r_9"
      },
      "execution_count": 45,
      "outputs": []
    },
    {
      "cell_type": "code",
      "source": [
        "\n",
        "\n",
        "\n",
        "def computePart(mol):\n",
        "  if True:\n",
        "      aResultDict = {}\n",
        "      aResultDict['Weight'] = PerdiocTableNumber\n",
        "      aResultDict['Element'] = [elementname]\n",
        "      aResultDict['Molecule'] = [mol.atom]\n",
        "      aResultDict['Spin'] = [mol.spin]\n",
        "      aResultDict['BuiltMolecule'] = [  mol.basis   ]\n",
        "\n",
        "      print('++++++++++++++++++++++++++++++++++++++++++++++++++  CCSD ++++++++++++++++++++++++++++++++++')\n",
        "      # Run the CCSD calculation.\n",
        "      CCSDenergy = SCFenergybasedonCCSD(mol)\n",
        "      print('ENERGY Computing using CCSD appoach is = ' + str(CCSDenergy ))\n",
        "      print('++++++++++++++++++++++++++++++++++++++++++++++++++  CCSD(T) ++++++++++++++++++++++++++++++++++')\n",
        "      CCSDTenergy = SCFenergybasedonCCSDTGOLD(mol)\n",
        "      print('ENERGY Computing using CCSD T appoach is = ' + str(CCSDTenergy ))\n",
        "\n",
        "\n",
        "      #aResultDict['DFTApproach'] = answerDFT\n",
        "      #aResultDict['NNApproach'] = answerNN\n",
        "      aResultDict['CCSD'] = CCSDenergy\n",
        "      aResultDict['CCSDT'] = CCSDTenergy\n",
        "\n",
        "      print('++++++++++++++++++++++++++++++++++++++++++++++++++  DFT Functionals ++++++++++++++++++++++++++++++++++')\n",
        "      for afunctionals in functionalsList:\n",
        "        ans = SCFenergyFunctionalsbasedonDFTGOLD(mol, afunctionals)\n",
        "        aResultDict['DFT-'+str(afunctionals)] = ans    \n",
        "\n",
        "      print('++++++++++++++++++++++++++++++++++++++++++++++++++  DM21 Functionals ++++++++++++++++++++++++++++++++++')\n",
        "      for aDMFunctionalvalue in dm21.Functional:\n",
        "        ans = SCFenergyFunctionalsbasedonNNGOLD(mol, aDMFunctionalvalue)\n",
        "        aResultDict['NN-'+str(aDMFunctionalvalue)] = ans    \n",
        "\n",
        "      return aResultDict\n",
        "\n",
        "\n",
        "\n",
        "\n",
        "  \n"
      ],
      "metadata": {
        "id": "OTCbozQTSkL1"
      },
      "execution_count": 46,
      "outputs": []
    },
    {
      "cell_type": "code",
      "source": [
        "if firstTimeorRestart == True:\n",
        "  df = pd.DataFrame(columns = ['Weight', 'Element', 'Molecule', 'BasisSet','Spin', 'BuiltMolecule' ])\n"
      ],
      "metadata": {
        "id": "rpSyWt2ibZtb"
      },
      "execution_count": 47,
      "outputs": []
    },
    {
      "cell_type": "code",
      "source": [
        "\n",
        "for i in range(0, len(ValidatedBasisSetSOURCE)):\n",
        "  try:\n",
        "    for elementname in dictPeriodicTable.keys():\n",
        "      df = compute1Mol1BasisSet(elementname, ValidatedBasisSetStart=i , df=df)\n",
        "  except:\n",
        "    print('Exception.. continuing')"
      ],
      "metadata": {
        "colab": {
          "base_uri": "https://localhost:8080/"
        },
        "id": "_uYNebVpoeD0",
        "outputId": "19d48f0e-3ddf-4129-c98a-a2d2e08dbfad"
      },
      "execution_count": 48,
      "outputs": [
        {
          "output_type": "stream",
          "name": "stdout",
          "text": [
            "***********************************************************\n",
            "***********************************************************\n",
            "***********************************************************\n",
            ".............................................Molecule details......................................................\n",
            "<pyscf.gto.mole.Mole object at 0x7fbd7f1e8c50>\n",
            "In Bohr\n",
            "[[ 0.          0.          1.14858688]\n",
            " [ 0.          0.         -1.14858688]]\n",
            "In angstrom\n",
            "[[ 0.        0.        0.607806]\n",
            " [ 0.        0.       -0.607806]]\n",
            "\n",
            "      O\t0.0000000\t0.0000000\t0.6078060\n",
            "      O\t0.0000000\t0.0000000\t-0.6078060\n",
            "      \n",
            "[[ 0.          0.          1.14858688]\n",
            " [ 0.          0.         -1.14858688]]\n",
            "{'O': [[0, [61420.0, 9e-05, 0.0, 0.0, -2e-05, 0.0], [9199.0, 0.000698, 0.0, 0.0, -0.000159, 0.0], [2091.0, 0.003664, 0.0, 0.0, -0.000829, 0.0], [590.9, 0.015218, 0.0, 0.0, -0.003508, 0.0], [192.3, 0.052423, 0.0, 0.0, -0.012156, 0.0], [69.32, 0.145921, 0.0, 0.0, -0.036261, 0.0], [26.97, 0.305258, 0.0, 0.0, -0.082992, 0.0], [11.1, 0.398508, 0.0, 0.0, -0.15209, 0.0], [4.682, 0.21698, 0.0, 0.0, -0.115331, 0.0], [1.428, 0.017594, 1.0, 0.0, 0.288979, 0.0], [0.5547, -0.002502, 0.0, 1.0, 0.586128, 0.0], [0.2067, 0.000954, 0.0, 0.0, 0.277624, 1.0]], [1, [63.42, 0.0, 0.006044, 0.0, 0.0], [14.66, 0.0, 0.041799, 0.0, 0.0], [4.459, 0.0, 0.161143, 0.0, 0.0], [1.531, 1.0, 0.356731, 0.0, 0.0], [0.5302, 0.0, 0.448309, 1.0, 0.0], [0.175, 0.0, 0.24494, 0.0, 1.0]], [2, [3.775, 1.0, 0.0, 0.0], [1.3, 0.0, 1.0, 0.0], [0.444, 0.0, 0.0, 1.0]], [3, [2.666, 1.0, 0.0], [0.859, 0.0, 1.0]], [4, [1.846, 1.0]]]}\n",
            "8        O    \t  \t \t cc-pVQZ\n",
            ".............................................COMPUTING SCF energy......................................................\n",
            "++++++++++++++++++++++++++++++++++++++++++++++++++  CCSD ++++++++++++++++++++++++++++++++++\n",
            "SCF not converged.\n",
            "SCF energy = -149.598425147532\n",
            "E(CCSD) = -150.1614256015048  E_corr = -0.5630004539723471\n",
            "ENERGY Computing using CCSD appoach is = -150.1614256015048\n",
            "++++++++++++++++++++++++++++++++++++++++++++++++++  CCSD(T) ++++++++++++++++++++++++++++++++++\n",
            "SCF not converged.\n",
            "SCF energy = -149.598425101164\n",
            "E(CCSD) = -150.1614254704359  E_corr = -0.5630003692715493\n",
            "CCSD(T) correction = -0.0257271624859394\n",
            "ENERGY Computing using CCSD T appoach is = -150.18715263292188\n",
            "++++++++++++++++++++++++++++++++++++++++++++++++++  DFT Functionals ++++++++++++++++++++++++++++++++++\n",
            "SCF not converged.\n",
            "SCF energy = -150.270956501456\n",
            "SCF not converged.\n",
            "SCF energy = -150.269393681304\n",
            "SCF not converged.\n",
            "SCF energy = -150.271566859501\n",
            "SCF not converged.\n",
            "SCF energy = -150.348677519106\n",
            "SCF not converged.\n",
            "SCF energy = -150.49198797213\n",
            "SCF not converged.\n",
            "SCF energy = -150.190955695167\n",
            "SCF not converged.\n",
            "SCF energy = -150.172368860656\n",
            "++++++++++++++++++++++++++++++++++++++++++++++++++  DM21 Functionals ++++++++++++++++++++++++++++++++++\n",
            "INFO:tensorflow:Saver not created because there are no variables in the graph to restore\n",
            "WARNING:tensorflow:From /usr/local/lib/python3.7/dist-packages/tensorflow_hub/saved_model_lib.py:111: build_tensor_info (from tensorflow.python.saved_model.utils_impl) is deprecated and will be removed in a future version.\n",
            "Instructions for updating:\n",
            "This function will only be available through the v1 compatibility library as tf.compat.v1.saved_model.utils.build_tensor_info or tf.compat.v1.saved_model.build_tensor_info.\n",
            "SCF not converged.\n",
            "SCF energy = -150.268148783813\n",
            "INFO:tensorflow:Saver not created because there are no variables in the graph to restore\n",
            "SCF not converged.\n",
            "SCF energy = -150.270034122959\n",
            "INFO:tensorflow:Saver not created because there are no variables in the graph to restore\n",
            "SCF not converged.\n",
            "SCF energy = -150.277447572674\n",
            "INFO:tensorflow:Saver not created because there are no variables in the graph to restore\n",
            "SCF not converged.\n",
            "SCF energy = -150.274174883629\n",
            "EXP_2000_OCE0.csv\n",
            "***********************************************************\n",
            "***********************************************************\n",
            "***********************************************************\n",
            ".............................................Molecule details......................................................\n",
            "<pyscf.gto.mole.Mole object at 0x7fbdeffb3550>\n",
            "In Bohr\n",
            "[[ 0.          0.          1.14858688]\n",
            " [ 0.          0.         -1.14858688]]\n",
            "In angstrom\n",
            "[[ 0.        0.        0.607806]\n",
            " [ 0.        0.       -0.607806]]\n",
            "\n",
            "      O\t0.0000000\t0.0000000\t0.6078060\n",
            "      O\t0.0000000\t0.0000000\t-0.6078060\n",
            "      \n",
            "[[ 0.          0.          1.14858688]\n",
            " [ 0.          0.         -1.14858688]]\n",
            "{'O': [[0, [11720.0, 0.00071, -0.00016, 0.0], [1759.0, 0.00547, -0.001263, 0.0], [400.8, 0.027837, -0.006267, 0.0], [113.7, 0.1048, -0.025716, 0.0], [37.03, 0.283062, -0.070924, 0.0], [13.27, 0.448719, -0.165411, 0.0], [5.025, 0.270952, -0.116955, 0.0], [1.013, 0.015458, 0.557368, 0.0], [0.3023, -0.002585, 0.572759, 1.0]], [1, [17.7, 0.043018, 0.0], [3.854, 0.228913, 0.0], [1.046, 0.508728, 0.0], [0.2753, 0.460531, 1.0]], [2, [1.185, 1.0]]]}\n",
            "8        O    \t  \t \t cc-pVDZ\n",
            ".............................................COMPUTING SCF energy......................................................\n",
            "++++++++++++++++++++++++++++++++++++++++++++++++++  CCSD ++++++++++++++++++++++++++++++++++\n",
            "SCF not converged.\n",
            "SCF energy = -149.541248626328\n",
            "E(CCSD) = -149.9263295932769  E_corr = -0.3850809669493471\n",
            "ENERGY Computing using CCSD appoach is = -149.9263295932769\n",
            "++++++++++++++++++++++++++++++++++++++++++++++++++  CCSD(T) ++++++++++++++++++++++++++++++++++\n",
            "SCF not converged.\n",
            "SCF energy = -149.541248626715\n",
            "E(CCSD) = -149.9263296036413  E_corr = -0.385080976926861\n",
            "CCSD(T) correction = -0.0141608033771993\n",
            "ENERGY Computing using CCSD T appoach is = -149.9404904070185\n",
            "++++++++++++++++++++++++++++++++++++++++++++++++++  DFT Functionals ++++++++++++++++++++++++++++++++++\n",
            "SCF not converged.\n",
            "SCF energy = -150.210599284699\n",
            "SCF not converged.\n",
            "SCF energy = -150.215779971493\n",
            "SCF not converged.\n",
            "SCF energy = -150.21375790046\n",
            "SCF not converged.\n",
            "SCF energy = -150.290758492221\n",
            "SCF not converged.\n",
            "SCF energy = -150.433888126425\n",
            "SCF not converged.\n",
            "SCF energy = -150.130754132208\n",
            "SCF not converged.\n",
            "SCF energy = -150.114853496425\n",
            "++++++++++++++++++++++++++++++++++++++++++++++++++  DM21 Functionals ++++++++++++++++++++++++++++++++++\n",
            "INFO:tensorflow:Saver not created because there are no variables in the graph to restore\n",
            "SCF not converged.\n",
            "SCF energy = -150.206984340992\n",
            "INFO:tensorflow:Saver not created because there are no variables in the graph to restore\n",
            "SCF not converged.\n",
            "SCF energy = -150.206823867878\n",
            "INFO:tensorflow:Saver not created because there are no variables in the graph to restore\n",
            "SCF not converged.\n",
            "SCF energy = -150.214071707796\n",
            "INFO:tensorflow:Saver not created because there are no variables in the graph to restore\n",
            "SCF not converged.\n",
            "SCF energy = -150.211937898558\n",
            "EXP_2000_OCE1.csv\n",
            "***********************************************************\n",
            "***********************************************************\n",
            "***********************************************************\n",
            ".............................................Molecule details......................................................\n",
            "<pyscf.gto.mole.Mole object at 0x7fbce1a51050>\n",
            "In Bohr\n",
            "[[ 0.          0.          1.14858688]\n",
            " [ 0.          0.         -1.14858688]]\n",
            "In angstrom\n",
            "[[ 0.        0.        0.607806]\n",
            " [ 0.        0.       -0.607806]]\n",
            "\n",
            "      O\t0.0000000\t0.0000000\t0.6078060\n",
            "      O\t0.0000000\t0.0000000\t-0.6078060\n",
            "      \n",
            "[[ 0.          0.          1.14858688]\n",
            " [ 0.          0.         -1.14858688]]\n",
            "{'O': [[0, [116506.46908, 4.0383857939e-05], [17504.349724, 0.00031255139004], [3993.451323, 0.0016341473495], [1133.0063186, 0.0068283224757], [369.99569594, 0.024124410221], [133.62074349, 0.072730206154], [52.035643649, 0.17934429892], [21.461939313, 0.33059588895]], [0, [89.835051252, 0.096468652996], [26.428010844, 0.9411748112]], [0, [9.2822824649, 1.0]], [0, [4.0947728533, 1.0]], [0, [1.3255349078, 1.0]], [0, [0.51877230787, 1.0]], [0, [0.19772676454, 1.0]], [1, [191.1525581, 0.0025115697705], [45.233356739, 0.020039240864], [14.353465922, 0.093609064762], [5.2422371832, 0.30618127124], [2.0792418599, 0.67810501439]], [1, [0.84282371424, 1.0]], [1, [0.33617694891, 1.0]], [1, [0.12863997974, 1.0]], [2, [3.775, 1.0]], [2, [1.3, 1.0]], [2, [0.444, 1.0]], [3, [2.666, 1.0]], [3, [0.859, 1.0]], [4, [1.846, 1.0]]]}\n",
            "8        O    \t  \t \t def2-QZVP\n",
            ".............................................COMPUTING SCF energy......................................................\n",
            "++++++++++++++++++++++++++++++++++++++++++++++++++  CCSD ++++++++++++++++++++++++++++++++++\n",
            "SCF not converged.\n",
            "SCF energy = -149.600832744823\n",
            "E(CCSD) = -150.1521911964295  E_corr = -0.5513584516063075\n",
            "ENERGY Computing using CCSD appoach is = -150.15219119642953\n",
            "++++++++++++++++++++++++++++++++++++++++++++++++++  CCSD(T) ++++++++++++++++++++++++++++++++++\n",
            "SCF not converged.\n",
            "SCF energy = -149.600832790789\n",
            "E(CCSD) = -150.1521911940988  E_corr = -0.5513584033096912\n",
            "CCSD(T) correction = -0.0255629073415088\n",
            "ENERGY Computing using CCSD T appoach is = -150.1777541014403\n",
            "++++++++++++++++++++++++++++++++++++++++++++++++++  DFT Functionals ++++++++++++++++++++++++++++++++++\n",
            "SCF not converged.\n",
            "SCF energy = -150.274481852505\n",
            "SCF not converged.\n",
            "SCF energy = -150.275008885448\n",
            "SCF not converged.\n",
            "SCF energy = -150.27475459259\n",
            "SCF not converged.\n",
            "SCF energy = -150.351932245247\n",
            "SCF not converged.\n",
            "SCF energy = -150.495449713499\n",
            "SCF not converged.\n",
            "SCF energy = -150.194900921132\n",
            "SCF not converged.\n",
            "SCF energy = -150.175514619527\n",
            "++++++++++++++++++++++++++++++++++++++++++++++++++  DM21 Functionals ++++++++++++++++++++++++++++++++++\n",
            "INFO:tensorflow:Saver not created because there are no variables in the graph to restore\n",
            "SCF not converged.\n",
            "SCF energy = -150.271331987116\n",
            "INFO:tensorflow:Saver not created because there are no variables in the graph to restore\n",
            "SCF not converged.\n",
            "SCF energy = -150.274009179206\n",
            "INFO:tensorflow:Saver not created because there are no variables in the graph to restore\n",
            "SCF not converged.\n",
            "SCF energy = -150.280066100989\n",
            "INFO:tensorflow:Saver not created because there are no variables in the graph to restore\n",
            "SCF not converged.\n",
            "SCF energy = -150.27792811879\n",
            "EXP_2000_OCE2.csv\n",
            "***********************************************************\n",
            "***********************************************************\n",
            "***********************************************************\n",
            ".............................................Molecule details......................................................\n",
            "<pyscf.gto.mole.Mole object at 0x7fbd815ab110>\n",
            "In Bohr\n",
            "[[ 0.          0.          1.14858688]\n",
            " [ 0.          0.         -1.14858688]]\n",
            "In angstrom\n",
            "[[ 0.        0.        0.607806]\n",
            " [ 0.        0.       -0.607806]]\n",
            "\n",
            "      O\t0.0000000\t0.0000000\t0.6078060\n",
            "      O\t0.0000000\t0.0000000\t-0.6078060\n",
            "      \n",
            "[[ 0.          0.          1.14858688]\n",
            " [ 0.          0.         -1.14858688]]\n",
            "{'O': [[0, [5484.6717, 0.0018311], [825.23495, 0.0139501], [188.04696, 0.0684451], [52.9645, 0.2327143], [16.89757, 0.470193], [5.7996353, 0.3585209]], [0, [15.539616, -0.1107775], [3.5999336, -0.1480263], [1.0137618, 1.130767]], [0, [0.2700058, 1.0]], [1, [15.539616, 0.0708743], [3.5999336, 0.3397528], [1.0137618, 0.7271586]], [1, [0.2700058, 1.0]]]}\n",
            "8        O    \t  \t \t 6-31g\n",
            ".............................................COMPUTING SCF energy......................................................\n",
            "++++++++++++++++++++++++++++++++++++++++++++++++++  CCSD ++++++++++++++++++++++++++++++++++\n",
            "converged SCF energy = -149.460934953593\n",
            "E(CCSD) = -149.7285356516315  E_corr = -0.2676006980384188\n",
            "ENERGY Computing using CCSD appoach is = -149.72853565163146\n",
            "++++++++++++++++++++++++++++++++++++++++++++++++++  CCSD(T) ++++++++++++++++++++++++++++++++++\n",
            "converged SCF energy = -149.460934953593\n",
            "E(CCSD) = -149.7285356516315  E_corr = -0.2676006980384195\n",
            "CCSD(T) correction = -0.00949471731287924\n",
            "ENERGY Computing using CCSD T appoach is = -149.73803036894435\n",
            "++++++++++++++++++++++++++++++++++++++++++++++++++  DFT Functionals ++++++++++++++++++++++++++++++++++\n",
            "converged SCF energy = -150.145094557678\n",
            "converged SCF energy = -150.139949910717\n",
            "SCF not converged.\n",
            "SCF energy = -150.148145583528\n",
            "converged SCF energy = -150.22178887656\n",
            "converged SCF energy = -150.365710751349\n",
            "SCF not converged.\n",
            "SCF energy = -150.06663183348\n",
            "converged SCF energy = -150.046174738596\n",
            "++++++++++++++++++++++++++++++++++++++++++++++++++  DM21 Functionals ++++++++++++++++++++++++++++++++++\n",
            "INFO:tensorflow:Saver not created because there are no variables in the graph to restore\n",
            "converged SCF energy = -150.144499075632\n",
            "INFO:tensorflow:Saver not created because there are no variables in the graph to restore\n",
            "converged SCF energy = -150.144054037486\n",
            "INFO:tensorflow:Saver not created because there are no variables in the graph to restore\n",
            "converged SCF energy = -150.150942753515\n",
            "INFO:tensorflow:Saver not created because there are no variables in the graph to restore\n",
            "converged SCF energy = -150.14804659346\n",
            "EXP_2000_OCE3.csv\n"
          ]
        }
      ]
    },
    {
      "cell_type": "code",
      "source": [
        " "
      ],
      "metadata": {
        "id": "l1lbFpghL18x"
      },
      "execution_count": 48,
      "outputs": []
    },
    {
      "cell_type": "markdown",
      "source": [
        "#validate the energy against NIST bechmarks ..\n",
        "manually just the ball park number some be matcoed \n",
        "\n",
        "https://cccbdb.nist.gov/bseenergy2x.asp shows  \n",
        "or  http://www.begdb.org/index.php\n",
        "\n",
        "For C, \n",
        "*   CCSD = -75.7656956\t\n",
        "*   CCST(T)/cc-pVQZ is -75.8552316\t\n",
        "\n",
        "\n",
        "\n",
        "\n"
      ],
      "metadata": {
        "id": "GBadUdue8_Eu"
      }
    },
    {
      "cell_type": "markdown",
      "source": [
        "## Step 7: The results are below "
      ],
      "metadata": {
        "id": "UKMo-4eaZIEw"
      }
    },
    {
      "cell_type": "markdown",
      "source": [
        "#### Explanation of Output table \n",
        "\n",
        "#### Input to software  \n",
        "* Weight' - atomic weight \n",
        "* 'Element' - element in periodic table \n",
        "*  'Spin'        - This is hardcoded in this project.  No need to give spin in the next project \n",
        "* 'BasisSet' - the name of basis set \n",
        "\n",
        "\n",
        "#### Generared values based on input \n",
        "\n",
        "*   'Molecule' - the pyscf molecule defined \n",
        "*   'BasisSetURL'  - The url used to downloaded the basis set \n",
        "*    'MolOBJECT' - The pyscf python object instance - internal to code \n",
        "*    'Coord'           \n",
        "*    'BuiltMolecule'  - The molecule coordinates \n",
        "\n",
        "\n",
        "#### Generared values based on input \n",
        "\n",
        "1.   'DFTApproach' - SCF energy from DFT computation \n",
        "2.   'NNApproach'  - SCF energy from Neural network prediction\n",
        "3.    'CCSDApproach'- SCF energy from CCSD \n",
        "\n",
        "\n"
      ],
      "metadata": {
        "id": "nonUL4tbCLGd"
      }
    },
    {
      "cell_type": "code",
      "source": [
        "for i in range (len(df['Molecule'] )):\n",
        "  print( df['BasisSet'] [i]    )\n",
        "  print(  df['Molecule'] [i] )"
      ],
      "metadata": {
        "id": "xjoMqMfB-rcW",
        "colab": {
          "base_uri": "https://localhost:8080/"
        },
        "outputId": "5327f43a-307f-4ca3-a46a-6d99d717fab7"
      },
      "execution_count": 49,
      "outputs": [
        {
          "output_type": "stream",
          "name": "stdout",
          "text": [
            "cc-pVQZ\n",
            "\n",
            "      O\t0.0000000\t0.0000000\t0.6078060\n",
            "      O\t0.0000000\t0.0000000\t-0.6078060\n",
            "      \n",
            "cc-pVDZ\n",
            "\n",
            "      O\t0.0000000\t0.0000000\t0.6078060\n",
            "      O\t0.0000000\t0.0000000\t-0.6078060\n",
            "      \n",
            "def2-QZVP\n",
            "\n",
            "      O\t0.0000000\t0.0000000\t0.6078060\n",
            "      O\t0.0000000\t0.0000000\t-0.6078060\n",
            "      \n",
            "6-31g\n",
            "\n",
            "      O\t0.0000000\t0.0000000\t0.6078060\n",
            "      O\t0.0000000\t0.0000000\t-0.6078060\n",
            "      \n"
          ]
        }
      ]
    },
    {
      "cell_type": "code",
      "source": [
        "del df['BuiltMolecule']"
      ],
      "metadata": {
        "id": "-bbPJEN5agq_"
      },
      "execution_count": 50,
      "outputs": []
    },
    {
      "cell_type": "code",
      "source": [
        "df"
      ],
      "metadata": {
        "id": "MBjyAOLS_h-b",
        "colab": {
          "base_uri": "https://localhost:8080/",
          "height": 395
        },
        "outputId": "bd125f84-3cee-470d-b1d1-9c14a81244f4"
      },
      "execution_count": 51,
      "outputs": [
        {
          "output_type": "execute_result",
          "data": {
            "text/plain": [
              "  Weight Element                                           Molecule  \\\n",
              "0      8       O  \\n      O\\t0.0000000\\t0.0000000\\t0.6078060\\n  ...   \n",
              "1      8       O  \\n      O\\t0.0000000\\t0.0000000\\t0.6078060\\n  ...   \n",
              "2      8       O  \\n      O\\t0.0000000\\t0.0000000\\t0.6078060\\n  ...   \n",
              "3      8       O  \\n      O\\t0.0000000\\t0.0000000\\t0.6078060\\n  ...   \n",
              "\n",
              "    BasisSet Spin        CCSD       CCSDT   DFT-b3lyp  DFT-M06-2X    DFT-SCAN  \\\n",
              "0    cc-pVQZ    0 -150.161426 -150.187153 -150.270957 -150.269394 -150.271567   \n",
              "1    cc-pVDZ    0 -149.926330 -149.940490 -150.210599 -150.215780 -150.213758   \n",
              "2  def2-QZVP    0 -150.152191 -150.177754 -150.274482 -150.275009 -150.274755   \n",
              "3      6-31g    0 -149.728536 -149.738030 -150.145095 -150.139950 -150.148146   \n",
              "\n",
              "   DFT-wB97X-V  DFT-PW6B95     DFT-pbe    DFT-pbe0  NN-Functional.DM21  \\\n",
              "0  -150.348678 -150.491988 -150.190956 -150.172369         -150.268149   \n",
              "1  -150.290758 -150.433888 -150.130754 -150.114853         -150.206984   \n",
              "2  -150.351932 -150.495450 -150.194901 -150.175515         -150.271332   \n",
              "3  -150.221789 -150.365711 -150.066632 -150.046175         -150.144499   \n",
              "\n",
              "   NN-Functional.DM21m  NN-Functional.DM21mc  NN-Functional.DM21mu  \n",
              "0          -150.270034           -150.277448           -150.274175  \n",
              "1          -150.206824           -150.214072           -150.211938  \n",
              "2          -150.274009           -150.280066           -150.277928  \n",
              "3          -150.144054           -150.150943           -150.148047  "
            ],
            "text/html": [
              "\n",
              "  <div id=\"df-3e5bdc89-ab35-46a9-9291-74cb5f451413\">\n",
              "    <div class=\"colab-df-container\">\n",
              "      <div>\n",
              "<style scoped>\n",
              "    .dataframe tbody tr th:only-of-type {\n",
              "        vertical-align: middle;\n",
              "    }\n",
              "\n",
              "    .dataframe tbody tr th {\n",
              "        vertical-align: top;\n",
              "    }\n",
              "\n",
              "    .dataframe thead th {\n",
              "        text-align: right;\n",
              "    }\n",
              "</style>\n",
              "<table border=\"1\" class=\"dataframe\">\n",
              "  <thead>\n",
              "    <tr style=\"text-align: right;\">\n",
              "      <th></th>\n",
              "      <th>Weight</th>\n",
              "      <th>Element</th>\n",
              "      <th>Molecule</th>\n",
              "      <th>BasisSet</th>\n",
              "      <th>Spin</th>\n",
              "      <th>CCSD</th>\n",
              "      <th>CCSDT</th>\n",
              "      <th>DFT-b3lyp</th>\n",
              "      <th>DFT-M06-2X</th>\n",
              "      <th>DFT-SCAN</th>\n",
              "      <th>DFT-wB97X-V</th>\n",
              "      <th>DFT-PW6B95</th>\n",
              "      <th>DFT-pbe</th>\n",
              "      <th>DFT-pbe0</th>\n",
              "      <th>NN-Functional.DM21</th>\n",
              "      <th>NN-Functional.DM21m</th>\n",
              "      <th>NN-Functional.DM21mc</th>\n",
              "      <th>NN-Functional.DM21mu</th>\n",
              "    </tr>\n",
              "  </thead>\n",
              "  <tbody>\n",
              "    <tr>\n",
              "      <th>0</th>\n",
              "      <td>8</td>\n",
              "      <td>O</td>\n",
              "      <td>\\n      O\\t0.0000000\\t0.0000000\\t0.6078060\\n  ...</td>\n",
              "      <td>cc-pVQZ</td>\n",
              "      <td>0</td>\n",
              "      <td>-150.161426</td>\n",
              "      <td>-150.187153</td>\n",
              "      <td>-150.270957</td>\n",
              "      <td>-150.269394</td>\n",
              "      <td>-150.271567</td>\n",
              "      <td>-150.348678</td>\n",
              "      <td>-150.491988</td>\n",
              "      <td>-150.190956</td>\n",
              "      <td>-150.172369</td>\n",
              "      <td>-150.268149</td>\n",
              "      <td>-150.270034</td>\n",
              "      <td>-150.277448</td>\n",
              "      <td>-150.274175</td>\n",
              "    </tr>\n",
              "    <tr>\n",
              "      <th>1</th>\n",
              "      <td>8</td>\n",
              "      <td>O</td>\n",
              "      <td>\\n      O\\t0.0000000\\t0.0000000\\t0.6078060\\n  ...</td>\n",
              "      <td>cc-pVDZ</td>\n",
              "      <td>0</td>\n",
              "      <td>-149.926330</td>\n",
              "      <td>-149.940490</td>\n",
              "      <td>-150.210599</td>\n",
              "      <td>-150.215780</td>\n",
              "      <td>-150.213758</td>\n",
              "      <td>-150.290758</td>\n",
              "      <td>-150.433888</td>\n",
              "      <td>-150.130754</td>\n",
              "      <td>-150.114853</td>\n",
              "      <td>-150.206984</td>\n",
              "      <td>-150.206824</td>\n",
              "      <td>-150.214072</td>\n",
              "      <td>-150.211938</td>\n",
              "    </tr>\n",
              "    <tr>\n",
              "      <th>2</th>\n",
              "      <td>8</td>\n",
              "      <td>O</td>\n",
              "      <td>\\n      O\\t0.0000000\\t0.0000000\\t0.6078060\\n  ...</td>\n",
              "      <td>def2-QZVP</td>\n",
              "      <td>0</td>\n",
              "      <td>-150.152191</td>\n",
              "      <td>-150.177754</td>\n",
              "      <td>-150.274482</td>\n",
              "      <td>-150.275009</td>\n",
              "      <td>-150.274755</td>\n",
              "      <td>-150.351932</td>\n",
              "      <td>-150.495450</td>\n",
              "      <td>-150.194901</td>\n",
              "      <td>-150.175515</td>\n",
              "      <td>-150.271332</td>\n",
              "      <td>-150.274009</td>\n",
              "      <td>-150.280066</td>\n",
              "      <td>-150.277928</td>\n",
              "    </tr>\n",
              "    <tr>\n",
              "      <th>3</th>\n",
              "      <td>8</td>\n",
              "      <td>O</td>\n",
              "      <td>\\n      O\\t0.0000000\\t0.0000000\\t0.6078060\\n  ...</td>\n",
              "      <td>6-31g</td>\n",
              "      <td>0</td>\n",
              "      <td>-149.728536</td>\n",
              "      <td>-149.738030</td>\n",
              "      <td>-150.145095</td>\n",
              "      <td>-150.139950</td>\n",
              "      <td>-150.148146</td>\n",
              "      <td>-150.221789</td>\n",
              "      <td>-150.365711</td>\n",
              "      <td>-150.066632</td>\n",
              "      <td>-150.046175</td>\n",
              "      <td>-150.144499</td>\n",
              "      <td>-150.144054</td>\n",
              "      <td>-150.150943</td>\n",
              "      <td>-150.148047</td>\n",
              "    </tr>\n",
              "  </tbody>\n",
              "</table>\n",
              "</div>\n",
              "      <button class=\"colab-df-convert\" onclick=\"convertToInteractive('df-3e5bdc89-ab35-46a9-9291-74cb5f451413')\"\n",
              "              title=\"Convert this dataframe to an interactive table.\"\n",
              "              style=\"display:none;\">\n",
              "        \n",
              "  <svg xmlns=\"http://www.w3.org/2000/svg\" height=\"24px\"viewBox=\"0 0 24 24\"\n",
              "       width=\"24px\">\n",
              "    <path d=\"M0 0h24v24H0V0z\" fill=\"none\"/>\n",
              "    <path d=\"M18.56 5.44l.94 2.06.94-2.06 2.06-.94-2.06-.94-.94-2.06-.94 2.06-2.06.94zm-11 1L8.5 8.5l.94-2.06 2.06-.94-2.06-.94L8.5 2.5l-.94 2.06-2.06.94zm10 10l.94 2.06.94-2.06 2.06-.94-2.06-.94-.94-2.06-.94 2.06-2.06.94z\"/><path d=\"M17.41 7.96l-1.37-1.37c-.4-.4-.92-.59-1.43-.59-.52 0-1.04.2-1.43.59L10.3 9.45l-7.72 7.72c-.78.78-.78 2.05 0 2.83L4 21.41c.39.39.9.59 1.41.59.51 0 1.02-.2 1.41-.59l7.78-7.78 2.81-2.81c.8-.78.8-2.07 0-2.86zM5.41 20L4 18.59l7.72-7.72 1.47 1.35L5.41 20z\"/>\n",
              "  </svg>\n",
              "      </button>\n",
              "      \n",
              "  <style>\n",
              "    .colab-df-container {\n",
              "      display:flex;\n",
              "      flex-wrap:wrap;\n",
              "      gap: 12px;\n",
              "    }\n",
              "\n",
              "    .colab-df-convert {\n",
              "      background-color: #E8F0FE;\n",
              "      border: none;\n",
              "      border-radius: 50%;\n",
              "      cursor: pointer;\n",
              "      display: none;\n",
              "      fill: #1967D2;\n",
              "      height: 32px;\n",
              "      padding: 0 0 0 0;\n",
              "      width: 32px;\n",
              "    }\n",
              "\n",
              "    .colab-df-convert:hover {\n",
              "      background-color: #E2EBFA;\n",
              "      box-shadow: 0px 1px 2px rgba(60, 64, 67, 0.3), 0px 1px 3px 1px rgba(60, 64, 67, 0.15);\n",
              "      fill: #174EA6;\n",
              "    }\n",
              "\n",
              "    [theme=dark] .colab-df-convert {\n",
              "      background-color: #3B4455;\n",
              "      fill: #D2E3FC;\n",
              "    }\n",
              "\n",
              "    [theme=dark] .colab-df-convert:hover {\n",
              "      background-color: #434B5C;\n",
              "      box-shadow: 0px 1px 3px 1px rgba(0, 0, 0, 0.15);\n",
              "      filter: drop-shadow(0px 1px 2px rgba(0, 0, 0, 0.3));\n",
              "      fill: #FFFFFF;\n",
              "    }\n",
              "  </style>\n",
              "\n",
              "      <script>\n",
              "        const buttonEl =\n",
              "          document.querySelector('#df-3e5bdc89-ab35-46a9-9291-74cb5f451413 button.colab-df-convert');\n",
              "        buttonEl.style.display =\n",
              "          google.colab.kernel.accessAllowed ? 'block' : 'none';\n",
              "\n",
              "        async function convertToInteractive(key) {\n",
              "          const element = document.querySelector('#df-3e5bdc89-ab35-46a9-9291-74cb5f451413');\n",
              "          const dataTable =\n",
              "            await google.colab.kernel.invokeFunction('convertToInteractive',\n",
              "                                                     [key], {});\n",
              "          if (!dataTable) return;\n",
              "\n",
              "          const docLinkHtml = 'Like what you see? Visit the ' +\n",
              "            '<a target=\"_blank\" href=https://colab.research.google.com/notebooks/data_table.ipynb>data table notebook</a>'\n",
              "            + ' to learn more about interactive tables.';\n",
              "          element.innerHTML = '';\n",
              "          dataTable['output_type'] = 'display_data';\n",
              "          await google.colab.output.renderOutput(dataTable, element);\n",
              "          const docLink = document.createElement('div');\n",
              "          docLink.innerHTML = docLinkHtml;\n",
              "          element.appendChild(docLink);\n",
              "        }\n",
              "      </script>\n",
              "    </div>\n",
              "  </div>\n",
              "  "
            ]
          },
          "metadata": {},
          "execution_count": 51
        }
      ]
    },
    {
      "cell_type": "code",
      "source": [
        "df"
      ],
      "metadata": {
        "id": "uMkm7hSsczvX",
        "colab": {
          "base_uri": "https://localhost:8080/",
          "height": 395
        },
        "outputId": "66148bd2-213c-4301-e0c7-b5836761f546"
      },
      "execution_count": 52,
      "outputs": [
        {
          "output_type": "execute_result",
          "data": {
            "text/plain": [
              "  Weight Element                                           Molecule  \\\n",
              "0      8       O  \\n      O\\t0.0000000\\t0.0000000\\t0.6078060\\n  ...   \n",
              "1      8       O  \\n      O\\t0.0000000\\t0.0000000\\t0.6078060\\n  ...   \n",
              "2      8       O  \\n      O\\t0.0000000\\t0.0000000\\t0.6078060\\n  ...   \n",
              "3      8       O  \\n      O\\t0.0000000\\t0.0000000\\t0.6078060\\n  ...   \n",
              "\n",
              "    BasisSet Spin        CCSD       CCSDT   DFT-b3lyp  DFT-M06-2X    DFT-SCAN  \\\n",
              "0    cc-pVQZ    0 -150.161426 -150.187153 -150.270957 -150.269394 -150.271567   \n",
              "1    cc-pVDZ    0 -149.926330 -149.940490 -150.210599 -150.215780 -150.213758   \n",
              "2  def2-QZVP    0 -150.152191 -150.177754 -150.274482 -150.275009 -150.274755   \n",
              "3      6-31g    0 -149.728536 -149.738030 -150.145095 -150.139950 -150.148146   \n",
              "\n",
              "   DFT-wB97X-V  DFT-PW6B95     DFT-pbe    DFT-pbe0  NN-Functional.DM21  \\\n",
              "0  -150.348678 -150.491988 -150.190956 -150.172369         -150.268149   \n",
              "1  -150.290758 -150.433888 -150.130754 -150.114853         -150.206984   \n",
              "2  -150.351932 -150.495450 -150.194901 -150.175515         -150.271332   \n",
              "3  -150.221789 -150.365711 -150.066632 -150.046175         -150.144499   \n",
              "\n",
              "   NN-Functional.DM21m  NN-Functional.DM21mc  NN-Functional.DM21mu  \n",
              "0          -150.270034           -150.277448           -150.274175  \n",
              "1          -150.206824           -150.214072           -150.211938  \n",
              "2          -150.274009           -150.280066           -150.277928  \n",
              "3          -150.144054           -150.150943           -150.148047  "
            ],
            "text/html": [
              "\n",
              "  <div id=\"df-369cc24c-2a87-484a-8c02-5707d5ce260f\">\n",
              "    <div class=\"colab-df-container\">\n",
              "      <div>\n",
              "<style scoped>\n",
              "    .dataframe tbody tr th:only-of-type {\n",
              "        vertical-align: middle;\n",
              "    }\n",
              "\n",
              "    .dataframe tbody tr th {\n",
              "        vertical-align: top;\n",
              "    }\n",
              "\n",
              "    .dataframe thead th {\n",
              "        text-align: right;\n",
              "    }\n",
              "</style>\n",
              "<table border=\"1\" class=\"dataframe\">\n",
              "  <thead>\n",
              "    <tr style=\"text-align: right;\">\n",
              "      <th></th>\n",
              "      <th>Weight</th>\n",
              "      <th>Element</th>\n",
              "      <th>Molecule</th>\n",
              "      <th>BasisSet</th>\n",
              "      <th>Spin</th>\n",
              "      <th>CCSD</th>\n",
              "      <th>CCSDT</th>\n",
              "      <th>DFT-b3lyp</th>\n",
              "      <th>DFT-M06-2X</th>\n",
              "      <th>DFT-SCAN</th>\n",
              "      <th>DFT-wB97X-V</th>\n",
              "      <th>DFT-PW6B95</th>\n",
              "      <th>DFT-pbe</th>\n",
              "      <th>DFT-pbe0</th>\n",
              "      <th>NN-Functional.DM21</th>\n",
              "      <th>NN-Functional.DM21m</th>\n",
              "      <th>NN-Functional.DM21mc</th>\n",
              "      <th>NN-Functional.DM21mu</th>\n",
              "    </tr>\n",
              "  </thead>\n",
              "  <tbody>\n",
              "    <tr>\n",
              "      <th>0</th>\n",
              "      <td>8</td>\n",
              "      <td>O</td>\n",
              "      <td>\\n      O\\t0.0000000\\t0.0000000\\t0.6078060\\n  ...</td>\n",
              "      <td>cc-pVQZ</td>\n",
              "      <td>0</td>\n",
              "      <td>-150.161426</td>\n",
              "      <td>-150.187153</td>\n",
              "      <td>-150.270957</td>\n",
              "      <td>-150.269394</td>\n",
              "      <td>-150.271567</td>\n",
              "      <td>-150.348678</td>\n",
              "      <td>-150.491988</td>\n",
              "      <td>-150.190956</td>\n",
              "      <td>-150.172369</td>\n",
              "      <td>-150.268149</td>\n",
              "      <td>-150.270034</td>\n",
              "      <td>-150.277448</td>\n",
              "      <td>-150.274175</td>\n",
              "    </tr>\n",
              "    <tr>\n",
              "      <th>1</th>\n",
              "      <td>8</td>\n",
              "      <td>O</td>\n",
              "      <td>\\n      O\\t0.0000000\\t0.0000000\\t0.6078060\\n  ...</td>\n",
              "      <td>cc-pVDZ</td>\n",
              "      <td>0</td>\n",
              "      <td>-149.926330</td>\n",
              "      <td>-149.940490</td>\n",
              "      <td>-150.210599</td>\n",
              "      <td>-150.215780</td>\n",
              "      <td>-150.213758</td>\n",
              "      <td>-150.290758</td>\n",
              "      <td>-150.433888</td>\n",
              "      <td>-150.130754</td>\n",
              "      <td>-150.114853</td>\n",
              "      <td>-150.206984</td>\n",
              "      <td>-150.206824</td>\n",
              "      <td>-150.214072</td>\n",
              "      <td>-150.211938</td>\n",
              "    </tr>\n",
              "    <tr>\n",
              "      <th>2</th>\n",
              "      <td>8</td>\n",
              "      <td>O</td>\n",
              "      <td>\\n      O\\t0.0000000\\t0.0000000\\t0.6078060\\n  ...</td>\n",
              "      <td>def2-QZVP</td>\n",
              "      <td>0</td>\n",
              "      <td>-150.152191</td>\n",
              "      <td>-150.177754</td>\n",
              "      <td>-150.274482</td>\n",
              "      <td>-150.275009</td>\n",
              "      <td>-150.274755</td>\n",
              "      <td>-150.351932</td>\n",
              "      <td>-150.495450</td>\n",
              "      <td>-150.194901</td>\n",
              "      <td>-150.175515</td>\n",
              "      <td>-150.271332</td>\n",
              "      <td>-150.274009</td>\n",
              "      <td>-150.280066</td>\n",
              "      <td>-150.277928</td>\n",
              "    </tr>\n",
              "    <tr>\n",
              "      <th>3</th>\n",
              "      <td>8</td>\n",
              "      <td>O</td>\n",
              "      <td>\\n      O\\t0.0000000\\t0.0000000\\t0.6078060\\n  ...</td>\n",
              "      <td>6-31g</td>\n",
              "      <td>0</td>\n",
              "      <td>-149.728536</td>\n",
              "      <td>-149.738030</td>\n",
              "      <td>-150.145095</td>\n",
              "      <td>-150.139950</td>\n",
              "      <td>-150.148146</td>\n",
              "      <td>-150.221789</td>\n",
              "      <td>-150.365711</td>\n",
              "      <td>-150.066632</td>\n",
              "      <td>-150.046175</td>\n",
              "      <td>-150.144499</td>\n",
              "      <td>-150.144054</td>\n",
              "      <td>-150.150943</td>\n",
              "      <td>-150.148047</td>\n",
              "    </tr>\n",
              "  </tbody>\n",
              "</table>\n",
              "</div>\n",
              "      <button class=\"colab-df-convert\" onclick=\"convertToInteractive('df-369cc24c-2a87-484a-8c02-5707d5ce260f')\"\n",
              "              title=\"Convert this dataframe to an interactive table.\"\n",
              "              style=\"display:none;\">\n",
              "        \n",
              "  <svg xmlns=\"http://www.w3.org/2000/svg\" height=\"24px\"viewBox=\"0 0 24 24\"\n",
              "       width=\"24px\">\n",
              "    <path d=\"M0 0h24v24H0V0z\" fill=\"none\"/>\n",
              "    <path d=\"M18.56 5.44l.94 2.06.94-2.06 2.06-.94-2.06-.94-.94-2.06-.94 2.06-2.06.94zm-11 1L8.5 8.5l.94-2.06 2.06-.94-2.06-.94L8.5 2.5l-.94 2.06-2.06.94zm10 10l.94 2.06.94-2.06 2.06-.94-2.06-.94-.94-2.06-.94 2.06-2.06.94z\"/><path d=\"M17.41 7.96l-1.37-1.37c-.4-.4-.92-.59-1.43-.59-.52 0-1.04.2-1.43.59L10.3 9.45l-7.72 7.72c-.78.78-.78 2.05 0 2.83L4 21.41c.39.39.9.59 1.41.59.51 0 1.02-.2 1.41-.59l7.78-7.78 2.81-2.81c.8-.78.8-2.07 0-2.86zM5.41 20L4 18.59l7.72-7.72 1.47 1.35L5.41 20z\"/>\n",
              "  </svg>\n",
              "      </button>\n",
              "      \n",
              "  <style>\n",
              "    .colab-df-container {\n",
              "      display:flex;\n",
              "      flex-wrap:wrap;\n",
              "      gap: 12px;\n",
              "    }\n",
              "\n",
              "    .colab-df-convert {\n",
              "      background-color: #E8F0FE;\n",
              "      border: none;\n",
              "      border-radius: 50%;\n",
              "      cursor: pointer;\n",
              "      display: none;\n",
              "      fill: #1967D2;\n",
              "      height: 32px;\n",
              "      padding: 0 0 0 0;\n",
              "      width: 32px;\n",
              "    }\n",
              "\n",
              "    .colab-df-convert:hover {\n",
              "      background-color: #E2EBFA;\n",
              "      box-shadow: 0px 1px 2px rgba(60, 64, 67, 0.3), 0px 1px 3px 1px rgba(60, 64, 67, 0.15);\n",
              "      fill: #174EA6;\n",
              "    }\n",
              "\n",
              "    [theme=dark] .colab-df-convert {\n",
              "      background-color: #3B4455;\n",
              "      fill: #D2E3FC;\n",
              "    }\n",
              "\n",
              "    [theme=dark] .colab-df-convert:hover {\n",
              "      background-color: #434B5C;\n",
              "      box-shadow: 0px 1px 3px 1px rgba(0, 0, 0, 0.15);\n",
              "      filter: drop-shadow(0px 1px 2px rgba(0, 0, 0, 0.3));\n",
              "      fill: #FFFFFF;\n",
              "    }\n",
              "  </style>\n",
              "\n",
              "      <script>\n",
              "        const buttonEl =\n",
              "          document.querySelector('#df-369cc24c-2a87-484a-8c02-5707d5ce260f button.colab-df-convert');\n",
              "        buttonEl.style.display =\n",
              "          google.colab.kernel.accessAllowed ? 'block' : 'none';\n",
              "\n",
              "        async function convertToInteractive(key) {\n",
              "          const element = document.querySelector('#df-369cc24c-2a87-484a-8c02-5707d5ce260f');\n",
              "          const dataTable =\n",
              "            await google.colab.kernel.invokeFunction('convertToInteractive',\n",
              "                                                     [key], {});\n",
              "          if (!dataTable) return;\n",
              "\n",
              "          const docLinkHtml = 'Like what you see? Visit the ' +\n",
              "            '<a target=\"_blank\" href=https://colab.research.google.com/notebooks/data_table.ipynb>data table notebook</a>'\n",
              "            + ' to learn more about interactive tables.';\n",
              "          element.innerHTML = '';\n",
              "          dataTable['output_type'] = 'display_data';\n",
              "          await google.colab.output.renderOutput(dataTable, element);\n",
              "          const docLink = document.createElement('div');\n",
              "          docLink.innerHTML = docLinkHtml;\n",
              "          element.appendChild(docLink);\n",
              "        }\n",
              "      </script>\n",
              "    </div>\n",
              "  </div>\n",
              "  "
            ]
          },
          "metadata": {},
          "execution_count": 52
        }
      ]
    },
    {
      "cell_type": "code",
      "source": [
        "df"
      ],
      "metadata": {
        "id": "JvzYKTfBL4i8",
        "colab": {
          "base_uri": "https://localhost:8080/",
          "height": 395
        },
        "outputId": "b67195f1-9005-45f9-e04a-0eb970e9730b"
      },
      "execution_count": 53,
      "outputs": [
        {
          "output_type": "execute_result",
          "data": {
            "text/plain": [
              "  Weight Element                                           Molecule  \\\n",
              "0      8       O  \\n      O\\t0.0000000\\t0.0000000\\t0.6078060\\n  ...   \n",
              "1      8       O  \\n      O\\t0.0000000\\t0.0000000\\t0.6078060\\n  ...   \n",
              "2      8       O  \\n      O\\t0.0000000\\t0.0000000\\t0.6078060\\n  ...   \n",
              "3      8       O  \\n      O\\t0.0000000\\t0.0000000\\t0.6078060\\n  ...   \n",
              "\n",
              "    BasisSet Spin        CCSD       CCSDT   DFT-b3lyp  DFT-M06-2X    DFT-SCAN  \\\n",
              "0    cc-pVQZ    0 -150.161426 -150.187153 -150.270957 -150.269394 -150.271567   \n",
              "1    cc-pVDZ    0 -149.926330 -149.940490 -150.210599 -150.215780 -150.213758   \n",
              "2  def2-QZVP    0 -150.152191 -150.177754 -150.274482 -150.275009 -150.274755   \n",
              "3      6-31g    0 -149.728536 -149.738030 -150.145095 -150.139950 -150.148146   \n",
              "\n",
              "   DFT-wB97X-V  DFT-PW6B95     DFT-pbe    DFT-pbe0  NN-Functional.DM21  \\\n",
              "0  -150.348678 -150.491988 -150.190956 -150.172369         -150.268149   \n",
              "1  -150.290758 -150.433888 -150.130754 -150.114853         -150.206984   \n",
              "2  -150.351932 -150.495450 -150.194901 -150.175515         -150.271332   \n",
              "3  -150.221789 -150.365711 -150.066632 -150.046175         -150.144499   \n",
              "\n",
              "   NN-Functional.DM21m  NN-Functional.DM21mc  NN-Functional.DM21mu  \n",
              "0          -150.270034           -150.277448           -150.274175  \n",
              "1          -150.206824           -150.214072           -150.211938  \n",
              "2          -150.274009           -150.280066           -150.277928  \n",
              "3          -150.144054           -150.150943           -150.148047  "
            ],
            "text/html": [
              "\n",
              "  <div id=\"df-e9e31157-5c96-48e2-b98b-638b2c9a29e7\">\n",
              "    <div class=\"colab-df-container\">\n",
              "      <div>\n",
              "<style scoped>\n",
              "    .dataframe tbody tr th:only-of-type {\n",
              "        vertical-align: middle;\n",
              "    }\n",
              "\n",
              "    .dataframe tbody tr th {\n",
              "        vertical-align: top;\n",
              "    }\n",
              "\n",
              "    .dataframe thead th {\n",
              "        text-align: right;\n",
              "    }\n",
              "</style>\n",
              "<table border=\"1\" class=\"dataframe\">\n",
              "  <thead>\n",
              "    <tr style=\"text-align: right;\">\n",
              "      <th></th>\n",
              "      <th>Weight</th>\n",
              "      <th>Element</th>\n",
              "      <th>Molecule</th>\n",
              "      <th>BasisSet</th>\n",
              "      <th>Spin</th>\n",
              "      <th>CCSD</th>\n",
              "      <th>CCSDT</th>\n",
              "      <th>DFT-b3lyp</th>\n",
              "      <th>DFT-M06-2X</th>\n",
              "      <th>DFT-SCAN</th>\n",
              "      <th>DFT-wB97X-V</th>\n",
              "      <th>DFT-PW6B95</th>\n",
              "      <th>DFT-pbe</th>\n",
              "      <th>DFT-pbe0</th>\n",
              "      <th>NN-Functional.DM21</th>\n",
              "      <th>NN-Functional.DM21m</th>\n",
              "      <th>NN-Functional.DM21mc</th>\n",
              "      <th>NN-Functional.DM21mu</th>\n",
              "    </tr>\n",
              "  </thead>\n",
              "  <tbody>\n",
              "    <tr>\n",
              "      <th>0</th>\n",
              "      <td>8</td>\n",
              "      <td>O</td>\n",
              "      <td>\\n      O\\t0.0000000\\t0.0000000\\t0.6078060\\n  ...</td>\n",
              "      <td>cc-pVQZ</td>\n",
              "      <td>0</td>\n",
              "      <td>-150.161426</td>\n",
              "      <td>-150.187153</td>\n",
              "      <td>-150.270957</td>\n",
              "      <td>-150.269394</td>\n",
              "      <td>-150.271567</td>\n",
              "      <td>-150.348678</td>\n",
              "      <td>-150.491988</td>\n",
              "      <td>-150.190956</td>\n",
              "      <td>-150.172369</td>\n",
              "      <td>-150.268149</td>\n",
              "      <td>-150.270034</td>\n",
              "      <td>-150.277448</td>\n",
              "      <td>-150.274175</td>\n",
              "    </tr>\n",
              "    <tr>\n",
              "      <th>1</th>\n",
              "      <td>8</td>\n",
              "      <td>O</td>\n",
              "      <td>\\n      O\\t0.0000000\\t0.0000000\\t0.6078060\\n  ...</td>\n",
              "      <td>cc-pVDZ</td>\n",
              "      <td>0</td>\n",
              "      <td>-149.926330</td>\n",
              "      <td>-149.940490</td>\n",
              "      <td>-150.210599</td>\n",
              "      <td>-150.215780</td>\n",
              "      <td>-150.213758</td>\n",
              "      <td>-150.290758</td>\n",
              "      <td>-150.433888</td>\n",
              "      <td>-150.130754</td>\n",
              "      <td>-150.114853</td>\n",
              "      <td>-150.206984</td>\n",
              "      <td>-150.206824</td>\n",
              "      <td>-150.214072</td>\n",
              "      <td>-150.211938</td>\n",
              "    </tr>\n",
              "    <tr>\n",
              "      <th>2</th>\n",
              "      <td>8</td>\n",
              "      <td>O</td>\n",
              "      <td>\\n      O\\t0.0000000\\t0.0000000\\t0.6078060\\n  ...</td>\n",
              "      <td>def2-QZVP</td>\n",
              "      <td>0</td>\n",
              "      <td>-150.152191</td>\n",
              "      <td>-150.177754</td>\n",
              "      <td>-150.274482</td>\n",
              "      <td>-150.275009</td>\n",
              "      <td>-150.274755</td>\n",
              "      <td>-150.351932</td>\n",
              "      <td>-150.495450</td>\n",
              "      <td>-150.194901</td>\n",
              "      <td>-150.175515</td>\n",
              "      <td>-150.271332</td>\n",
              "      <td>-150.274009</td>\n",
              "      <td>-150.280066</td>\n",
              "      <td>-150.277928</td>\n",
              "    </tr>\n",
              "    <tr>\n",
              "      <th>3</th>\n",
              "      <td>8</td>\n",
              "      <td>O</td>\n",
              "      <td>\\n      O\\t0.0000000\\t0.0000000\\t0.6078060\\n  ...</td>\n",
              "      <td>6-31g</td>\n",
              "      <td>0</td>\n",
              "      <td>-149.728536</td>\n",
              "      <td>-149.738030</td>\n",
              "      <td>-150.145095</td>\n",
              "      <td>-150.139950</td>\n",
              "      <td>-150.148146</td>\n",
              "      <td>-150.221789</td>\n",
              "      <td>-150.365711</td>\n",
              "      <td>-150.066632</td>\n",
              "      <td>-150.046175</td>\n",
              "      <td>-150.144499</td>\n",
              "      <td>-150.144054</td>\n",
              "      <td>-150.150943</td>\n",
              "      <td>-150.148047</td>\n",
              "    </tr>\n",
              "  </tbody>\n",
              "</table>\n",
              "</div>\n",
              "      <button class=\"colab-df-convert\" onclick=\"convertToInteractive('df-e9e31157-5c96-48e2-b98b-638b2c9a29e7')\"\n",
              "              title=\"Convert this dataframe to an interactive table.\"\n",
              "              style=\"display:none;\">\n",
              "        \n",
              "  <svg xmlns=\"http://www.w3.org/2000/svg\" height=\"24px\"viewBox=\"0 0 24 24\"\n",
              "       width=\"24px\">\n",
              "    <path d=\"M0 0h24v24H0V0z\" fill=\"none\"/>\n",
              "    <path d=\"M18.56 5.44l.94 2.06.94-2.06 2.06-.94-2.06-.94-.94-2.06-.94 2.06-2.06.94zm-11 1L8.5 8.5l.94-2.06 2.06-.94-2.06-.94L8.5 2.5l-.94 2.06-2.06.94zm10 10l.94 2.06.94-2.06 2.06-.94-2.06-.94-.94-2.06-.94 2.06-2.06.94z\"/><path d=\"M17.41 7.96l-1.37-1.37c-.4-.4-.92-.59-1.43-.59-.52 0-1.04.2-1.43.59L10.3 9.45l-7.72 7.72c-.78.78-.78 2.05 0 2.83L4 21.41c.39.39.9.59 1.41.59.51 0 1.02-.2 1.41-.59l7.78-7.78 2.81-2.81c.8-.78.8-2.07 0-2.86zM5.41 20L4 18.59l7.72-7.72 1.47 1.35L5.41 20z\"/>\n",
              "  </svg>\n",
              "      </button>\n",
              "      \n",
              "  <style>\n",
              "    .colab-df-container {\n",
              "      display:flex;\n",
              "      flex-wrap:wrap;\n",
              "      gap: 12px;\n",
              "    }\n",
              "\n",
              "    .colab-df-convert {\n",
              "      background-color: #E8F0FE;\n",
              "      border: none;\n",
              "      border-radius: 50%;\n",
              "      cursor: pointer;\n",
              "      display: none;\n",
              "      fill: #1967D2;\n",
              "      height: 32px;\n",
              "      padding: 0 0 0 0;\n",
              "      width: 32px;\n",
              "    }\n",
              "\n",
              "    .colab-df-convert:hover {\n",
              "      background-color: #E2EBFA;\n",
              "      box-shadow: 0px 1px 2px rgba(60, 64, 67, 0.3), 0px 1px 3px 1px rgba(60, 64, 67, 0.15);\n",
              "      fill: #174EA6;\n",
              "    }\n",
              "\n",
              "    [theme=dark] .colab-df-convert {\n",
              "      background-color: #3B4455;\n",
              "      fill: #D2E3FC;\n",
              "    }\n",
              "\n",
              "    [theme=dark] .colab-df-convert:hover {\n",
              "      background-color: #434B5C;\n",
              "      box-shadow: 0px 1px 3px 1px rgba(0, 0, 0, 0.15);\n",
              "      filter: drop-shadow(0px 1px 2px rgba(0, 0, 0, 0.3));\n",
              "      fill: #FFFFFF;\n",
              "    }\n",
              "  </style>\n",
              "\n",
              "      <script>\n",
              "        const buttonEl =\n",
              "          document.querySelector('#df-e9e31157-5c96-48e2-b98b-638b2c9a29e7 button.colab-df-convert');\n",
              "        buttonEl.style.display =\n",
              "          google.colab.kernel.accessAllowed ? 'block' : 'none';\n",
              "\n",
              "        async function convertToInteractive(key) {\n",
              "          const element = document.querySelector('#df-e9e31157-5c96-48e2-b98b-638b2c9a29e7');\n",
              "          const dataTable =\n",
              "            await google.colab.kernel.invokeFunction('convertToInteractive',\n",
              "                                                     [key], {});\n",
              "          if (!dataTable) return;\n",
              "\n",
              "          const docLinkHtml = 'Like what you see? Visit the ' +\n",
              "            '<a target=\"_blank\" href=https://colab.research.google.com/notebooks/data_table.ipynb>data table notebook</a>'\n",
              "            + ' to learn more about interactive tables.';\n",
              "          element.innerHTML = '';\n",
              "          dataTable['output_type'] = 'display_data';\n",
              "          await google.colab.output.renderOutput(dataTable, element);\n",
              "          const docLink = document.createElement('div');\n",
              "          docLink.innerHTML = docLinkHtml;\n",
              "          element.appendChild(docLink);\n",
              "        }\n",
              "      </script>\n",
              "    </div>\n",
              "  </div>\n",
              "  "
            ]
          },
          "metadata": {},
          "execution_count": 53
        }
      ]
    },
    {
      "cell_type": "code",
      "source": [
        "GOLDBasisSET= 'cc-pV6Z'\n",
        "GOLDBasisSET= 'cc-pVQZ'"
      ],
      "metadata": {
        "id": "bNVksggI2bfR"
      },
      "execution_count": 54,
      "outputs": []
    },
    {
      "cell_type": "code",
      "source": [
        "import copy \n",
        "dfcopy = df.copy()"
      ],
      "metadata": {
        "id": "MvOnUvepzrfa"
      },
      "execution_count": 55,
      "outputs": []
    },
    {
      "cell_type": "markdown",
      "source": [
        "# Gold CCSD(T) Reference value  "
      ],
      "metadata": {
        "id": "0cStWpN522nB"
      }
    },
    {
      "cell_type": "code",
      "source": [
        "dfspecficrow = dfcopy[dfcopy['BasisSet'] == GOLDBasisSET]\n",
        "\n",
        "\n",
        "\n",
        "dfspecficrow\n"
      ],
      "metadata": {
        "id": "pggxzhX_z915",
        "colab": {
          "base_uri": "https://localhost:8080/",
          "height": 197
        },
        "outputId": "b1cf5522-d565-4665-99d3-472d37c276ef"
      },
      "execution_count": 56,
      "outputs": [
        {
          "output_type": "execute_result",
          "data": {
            "text/plain": [
              "  Weight Element                                           Molecule BasisSet  \\\n",
              "0      8       O  \\n      O\\t0.0000000\\t0.0000000\\t0.6078060\\n  ...  cc-pVQZ   \n",
              "\n",
              "  Spin        CCSD       CCSDT   DFT-b3lyp  DFT-M06-2X    DFT-SCAN  \\\n",
              "0    0 -150.161426 -150.187153 -150.270957 -150.269394 -150.271567   \n",
              "\n",
              "   DFT-wB97X-V  DFT-PW6B95     DFT-pbe    DFT-pbe0  NN-Functional.DM21  \\\n",
              "0  -150.348678 -150.491988 -150.190956 -150.172369         -150.268149   \n",
              "\n",
              "   NN-Functional.DM21m  NN-Functional.DM21mc  NN-Functional.DM21mu  \n",
              "0          -150.270034           -150.277448           -150.274175  "
            ],
            "text/html": [
              "\n",
              "  <div id=\"df-5470ec4f-603b-4af4-b94d-93955723f747\">\n",
              "    <div class=\"colab-df-container\">\n",
              "      <div>\n",
              "<style scoped>\n",
              "    .dataframe tbody tr th:only-of-type {\n",
              "        vertical-align: middle;\n",
              "    }\n",
              "\n",
              "    .dataframe tbody tr th {\n",
              "        vertical-align: top;\n",
              "    }\n",
              "\n",
              "    .dataframe thead th {\n",
              "        text-align: right;\n",
              "    }\n",
              "</style>\n",
              "<table border=\"1\" class=\"dataframe\">\n",
              "  <thead>\n",
              "    <tr style=\"text-align: right;\">\n",
              "      <th></th>\n",
              "      <th>Weight</th>\n",
              "      <th>Element</th>\n",
              "      <th>Molecule</th>\n",
              "      <th>BasisSet</th>\n",
              "      <th>Spin</th>\n",
              "      <th>CCSD</th>\n",
              "      <th>CCSDT</th>\n",
              "      <th>DFT-b3lyp</th>\n",
              "      <th>DFT-M06-2X</th>\n",
              "      <th>DFT-SCAN</th>\n",
              "      <th>DFT-wB97X-V</th>\n",
              "      <th>DFT-PW6B95</th>\n",
              "      <th>DFT-pbe</th>\n",
              "      <th>DFT-pbe0</th>\n",
              "      <th>NN-Functional.DM21</th>\n",
              "      <th>NN-Functional.DM21m</th>\n",
              "      <th>NN-Functional.DM21mc</th>\n",
              "      <th>NN-Functional.DM21mu</th>\n",
              "    </tr>\n",
              "  </thead>\n",
              "  <tbody>\n",
              "    <tr>\n",
              "      <th>0</th>\n",
              "      <td>8</td>\n",
              "      <td>O</td>\n",
              "      <td>\\n      O\\t0.0000000\\t0.0000000\\t0.6078060\\n  ...</td>\n",
              "      <td>cc-pVQZ</td>\n",
              "      <td>0</td>\n",
              "      <td>-150.161426</td>\n",
              "      <td>-150.187153</td>\n",
              "      <td>-150.270957</td>\n",
              "      <td>-150.269394</td>\n",
              "      <td>-150.271567</td>\n",
              "      <td>-150.348678</td>\n",
              "      <td>-150.491988</td>\n",
              "      <td>-150.190956</td>\n",
              "      <td>-150.172369</td>\n",
              "      <td>-150.268149</td>\n",
              "      <td>-150.270034</td>\n",
              "      <td>-150.277448</td>\n",
              "      <td>-150.274175</td>\n",
              "    </tr>\n",
              "  </tbody>\n",
              "</table>\n",
              "</div>\n",
              "      <button class=\"colab-df-convert\" onclick=\"convertToInteractive('df-5470ec4f-603b-4af4-b94d-93955723f747')\"\n",
              "              title=\"Convert this dataframe to an interactive table.\"\n",
              "              style=\"display:none;\">\n",
              "        \n",
              "  <svg xmlns=\"http://www.w3.org/2000/svg\" height=\"24px\"viewBox=\"0 0 24 24\"\n",
              "       width=\"24px\">\n",
              "    <path d=\"M0 0h24v24H0V0z\" fill=\"none\"/>\n",
              "    <path d=\"M18.56 5.44l.94 2.06.94-2.06 2.06-.94-2.06-.94-.94-2.06-.94 2.06-2.06.94zm-11 1L8.5 8.5l.94-2.06 2.06-.94-2.06-.94L8.5 2.5l-.94 2.06-2.06.94zm10 10l.94 2.06.94-2.06 2.06-.94-2.06-.94-.94-2.06-.94 2.06-2.06.94z\"/><path d=\"M17.41 7.96l-1.37-1.37c-.4-.4-.92-.59-1.43-.59-.52 0-1.04.2-1.43.59L10.3 9.45l-7.72 7.72c-.78.78-.78 2.05 0 2.83L4 21.41c.39.39.9.59 1.41.59.51 0 1.02-.2 1.41-.59l7.78-7.78 2.81-2.81c.8-.78.8-2.07 0-2.86zM5.41 20L4 18.59l7.72-7.72 1.47 1.35L5.41 20z\"/>\n",
              "  </svg>\n",
              "      </button>\n",
              "      \n",
              "  <style>\n",
              "    .colab-df-container {\n",
              "      display:flex;\n",
              "      flex-wrap:wrap;\n",
              "      gap: 12px;\n",
              "    }\n",
              "\n",
              "    .colab-df-convert {\n",
              "      background-color: #E8F0FE;\n",
              "      border: none;\n",
              "      border-radius: 50%;\n",
              "      cursor: pointer;\n",
              "      display: none;\n",
              "      fill: #1967D2;\n",
              "      height: 32px;\n",
              "      padding: 0 0 0 0;\n",
              "      width: 32px;\n",
              "    }\n",
              "\n",
              "    .colab-df-convert:hover {\n",
              "      background-color: #E2EBFA;\n",
              "      box-shadow: 0px 1px 2px rgba(60, 64, 67, 0.3), 0px 1px 3px 1px rgba(60, 64, 67, 0.15);\n",
              "      fill: #174EA6;\n",
              "    }\n",
              "\n",
              "    [theme=dark] .colab-df-convert {\n",
              "      background-color: #3B4455;\n",
              "      fill: #D2E3FC;\n",
              "    }\n",
              "\n",
              "    [theme=dark] .colab-df-convert:hover {\n",
              "      background-color: #434B5C;\n",
              "      box-shadow: 0px 1px 3px 1px rgba(0, 0, 0, 0.15);\n",
              "      filter: drop-shadow(0px 1px 2px rgba(0, 0, 0, 0.3));\n",
              "      fill: #FFFFFF;\n",
              "    }\n",
              "  </style>\n",
              "\n",
              "      <script>\n",
              "        const buttonEl =\n",
              "          document.querySelector('#df-5470ec4f-603b-4af4-b94d-93955723f747 button.colab-df-convert');\n",
              "        buttonEl.style.display =\n",
              "          google.colab.kernel.accessAllowed ? 'block' : 'none';\n",
              "\n",
              "        async function convertToInteractive(key) {\n",
              "          const element = document.querySelector('#df-5470ec4f-603b-4af4-b94d-93955723f747');\n",
              "          const dataTable =\n",
              "            await google.colab.kernel.invokeFunction('convertToInteractive',\n",
              "                                                     [key], {});\n",
              "          if (!dataTable) return;\n",
              "\n",
              "          const docLinkHtml = 'Like what you see? Visit the ' +\n",
              "            '<a target=\"_blank\" href=https://colab.research.google.com/notebooks/data_table.ipynb>data table notebook</a>'\n",
              "            + ' to learn more about interactive tables.';\n",
              "          element.innerHTML = '';\n",
              "          dataTable['output_type'] = 'display_data';\n",
              "          await google.colab.output.renderOutput(dataTable, element);\n",
              "          const docLink = document.createElement('div');\n",
              "          docLink.innerHTML = docLinkHtml;\n",
              "          element.appendChild(docLink);\n",
              "        }\n",
              "      </script>\n",
              "    </div>\n",
              "  </div>\n",
              "  "
            ]
          },
          "metadata": {},
          "execution_count": 56
        }
      ]
    },
    {
      "cell_type": "code",
      "source": [
        "ccsdtgoldseries = dfspecficrow['CCSDT']\n"
      ],
      "metadata": {
        "id": "rk7zJTdo1N-q"
      },
      "execution_count": 57,
      "outputs": []
    },
    {
      "cell_type": "code",
      "source": [
        "ccsdtgoldseries"
      ],
      "metadata": {
        "id": "83bOBztqZGm3",
        "colab": {
          "base_uri": "https://localhost:8080/"
        },
        "outputId": "a04e8dca-2508-4a81-d142-ef6ba11f90ec"
      },
      "execution_count": 58,
      "outputs": [
        {
          "output_type": "execute_result",
          "data": {
            "text/plain": [
              "0   -150.187153\n",
              "Name: CCSDT, dtype: float64"
            ]
          },
          "metadata": {},
          "execution_count": 58
        }
      ]
    },
    {
      "cell_type": "code",
      "source": [
        "ccsdtgold = ccsdtgoldseries[0]\n",
        "ccsdtgold"
      ],
      "metadata": {
        "id": "Ud0Zs-ynZD-S",
        "colab": {
          "base_uri": "https://localhost:8080/"
        },
        "outputId": "253b1698-beeb-432a-b2ae-aa67ced92562"
      },
      "execution_count": 59,
      "outputs": [
        {
          "output_type": "execute_result",
          "data": {
            "text/plain": [
              "-150.18715263292188"
            ]
          },
          "metadata": {},
          "execution_count": 59
        }
      ]
    },
    {
      "cell_type": "code",
      "source": [
        "dfcopy['CCSDT_G'] = ccsdtgold"
      ],
      "metadata": {
        "id": "gCc_KWkNz2OG"
      },
      "execution_count": 60,
      "outputs": []
    },
    {
      "cell_type": "code",
      "source": [
        "dfcopy"
      ],
      "metadata": {
        "id": "1ER4sary1wnP",
        "colab": {
          "base_uri": "https://localhost:8080/",
          "height": 395
        },
        "outputId": "e10e79be-7bf0-4424-ba74-b9efa2000edc"
      },
      "execution_count": 61,
      "outputs": [
        {
          "output_type": "execute_result",
          "data": {
            "text/plain": [
              "  Weight Element                                           Molecule  \\\n",
              "0      8       O  \\n      O\\t0.0000000\\t0.0000000\\t0.6078060\\n  ...   \n",
              "1      8       O  \\n      O\\t0.0000000\\t0.0000000\\t0.6078060\\n  ...   \n",
              "2      8       O  \\n      O\\t0.0000000\\t0.0000000\\t0.6078060\\n  ...   \n",
              "3      8       O  \\n      O\\t0.0000000\\t0.0000000\\t0.6078060\\n  ...   \n",
              "\n",
              "    BasisSet Spin        CCSD       CCSDT   DFT-b3lyp  DFT-M06-2X    DFT-SCAN  \\\n",
              "0    cc-pVQZ    0 -150.161426 -150.187153 -150.270957 -150.269394 -150.271567   \n",
              "1    cc-pVDZ    0 -149.926330 -149.940490 -150.210599 -150.215780 -150.213758   \n",
              "2  def2-QZVP    0 -150.152191 -150.177754 -150.274482 -150.275009 -150.274755   \n",
              "3      6-31g    0 -149.728536 -149.738030 -150.145095 -150.139950 -150.148146   \n",
              "\n",
              "   DFT-wB97X-V  DFT-PW6B95     DFT-pbe    DFT-pbe0  NN-Functional.DM21  \\\n",
              "0  -150.348678 -150.491988 -150.190956 -150.172369         -150.268149   \n",
              "1  -150.290758 -150.433888 -150.130754 -150.114853         -150.206984   \n",
              "2  -150.351932 -150.495450 -150.194901 -150.175515         -150.271332   \n",
              "3  -150.221789 -150.365711 -150.066632 -150.046175         -150.144499   \n",
              "\n",
              "   NN-Functional.DM21m  NN-Functional.DM21mc  NN-Functional.DM21mu     CCSDT_G  \n",
              "0          -150.270034           -150.277448           -150.274175 -150.187153  \n",
              "1          -150.206824           -150.214072           -150.211938 -150.187153  \n",
              "2          -150.274009           -150.280066           -150.277928 -150.187153  \n",
              "3          -150.144054           -150.150943           -150.148047 -150.187153  "
            ],
            "text/html": [
              "\n",
              "  <div id=\"df-6f4767a7-a676-4a93-8577-5ab97eee9c6b\">\n",
              "    <div class=\"colab-df-container\">\n",
              "      <div>\n",
              "<style scoped>\n",
              "    .dataframe tbody tr th:only-of-type {\n",
              "        vertical-align: middle;\n",
              "    }\n",
              "\n",
              "    .dataframe tbody tr th {\n",
              "        vertical-align: top;\n",
              "    }\n",
              "\n",
              "    .dataframe thead th {\n",
              "        text-align: right;\n",
              "    }\n",
              "</style>\n",
              "<table border=\"1\" class=\"dataframe\">\n",
              "  <thead>\n",
              "    <tr style=\"text-align: right;\">\n",
              "      <th></th>\n",
              "      <th>Weight</th>\n",
              "      <th>Element</th>\n",
              "      <th>Molecule</th>\n",
              "      <th>BasisSet</th>\n",
              "      <th>Spin</th>\n",
              "      <th>CCSD</th>\n",
              "      <th>CCSDT</th>\n",
              "      <th>DFT-b3lyp</th>\n",
              "      <th>DFT-M06-2X</th>\n",
              "      <th>DFT-SCAN</th>\n",
              "      <th>DFT-wB97X-V</th>\n",
              "      <th>DFT-PW6B95</th>\n",
              "      <th>DFT-pbe</th>\n",
              "      <th>DFT-pbe0</th>\n",
              "      <th>NN-Functional.DM21</th>\n",
              "      <th>NN-Functional.DM21m</th>\n",
              "      <th>NN-Functional.DM21mc</th>\n",
              "      <th>NN-Functional.DM21mu</th>\n",
              "      <th>CCSDT_G</th>\n",
              "    </tr>\n",
              "  </thead>\n",
              "  <tbody>\n",
              "    <tr>\n",
              "      <th>0</th>\n",
              "      <td>8</td>\n",
              "      <td>O</td>\n",
              "      <td>\\n      O\\t0.0000000\\t0.0000000\\t0.6078060\\n  ...</td>\n",
              "      <td>cc-pVQZ</td>\n",
              "      <td>0</td>\n",
              "      <td>-150.161426</td>\n",
              "      <td>-150.187153</td>\n",
              "      <td>-150.270957</td>\n",
              "      <td>-150.269394</td>\n",
              "      <td>-150.271567</td>\n",
              "      <td>-150.348678</td>\n",
              "      <td>-150.491988</td>\n",
              "      <td>-150.190956</td>\n",
              "      <td>-150.172369</td>\n",
              "      <td>-150.268149</td>\n",
              "      <td>-150.270034</td>\n",
              "      <td>-150.277448</td>\n",
              "      <td>-150.274175</td>\n",
              "      <td>-150.187153</td>\n",
              "    </tr>\n",
              "    <tr>\n",
              "      <th>1</th>\n",
              "      <td>8</td>\n",
              "      <td>O</td>\n",
              "      <td>\\n      O\\t0.0000000\\t0.0000000\\t0.6078060\\n  ...</td>\n",
              "      <td>cc-pVDZ</td>\n",
              "      <td>0</td>\n",
              "      <td>-149.926330</td>\n",
              "      <td>-149.940490</td>\n",
              "      <td>-150.210599</td>\n",
              "      <td>-150.215780</td>\n",
              "      <td>-150.213758</td>\n",
              "      <td>-150.290758</td>\n",
              "      <td>-150.433888</td>\n",
              "      <td>-150.130754</td>\n",
              "      <td>-150.114853</td>\n",
              "      <td>-150.206984</td>\n",
              "      <td>-150.206824</td>\n",
              "      <td>-150.214072</td>\n",
              "      <td>-150.211938</td>\n",
              "      <td>-150.187153</td>\n",
              "    </tr>\n",
              "    <tr>\n",
              "      <th>2</th>\n",
              "      <td>8</td>\n",
              "      <td>O</td>\n",
              "      <td>\\n      O\\t0.0000000\\t0.0000000\\t0.6078060\\n  ...</td>\n",
              "      <td>def2-QZVP</td>\n",
              "      <td>0</td>\n",
              "      <td>-150.152191</td>\n",
              "      <td>-150.177754</td>\n",
              "      <td>-150.274482</td>\n",
              "      <td>-150.275009</td>\n",
              "      <td>-150.274755</td>\n",
              "      <td>-150.351932</td>\n",
              "      <td>-150.495450</td>\n",
              "      <td>-150.194901</td>\n",
              "      <td>-150.175515</td>\n",
              "      <td>-150.271332</td>\n",
              "      <td>-150.274009</td>\n",
              "      <td>-150.280066</td>\n",
              "      <td>-150.277928</td>\n",
              "      <td>-150.187153</td>\n",
              "    </tr>\n",
              "    <tr>\n",
              "      <th>3</th>\n",
              "      <td>8</td>\n",
              "      <td>O</td>\n",
              "      <td>\\n      O\\t0.0000000\\t0.0000000\\t0.6078060\\n  ...</td>\n",
              "      <td>6-31g</td>\n",
              "      <td>0</td>\n",
              "      <td>-149.728536</td>\n",
              "      <td>-149.738030</td>\n",
              "      <td>-150.145095</td>\n",
              "      <td>-150.139950</td>\n",
              "      <td>-150.148146</td>\n",
              "      <td>-150.221789</td>\n",
              "      <td>-150.365711</td>\n",
              "      <td>-150.066632</td>\n",
              "      <td>-150.046175</td>\n",
              "      <td>-150.144499</td>\n",
              "      <td>-150.144054</td>\n",
              "      <td>-150.150943</td>\n",
              "      <td>-150.148047</td>\n",
              "      <td>-150.187153</td>\n",
              "    </tr>\n",
              "  </tbody>\n",
              "</table>\n",
              "</div>\n",
              "      <button class=\"colab-df-convert\" onclick=\"convertToInteractive('df-6f4767a7-a676-4a93-8577-5ab97eee9c6b')\"\n",
              "              title=\"Convert this dataframe to an interactive table.\"\n",
              "              style=\"display:none;\">\n",
              "        \n",
              "  <svg xmlns=\"http://www.w3.org/2000/svg\" height=\"24px\"viewBox=\"0 0 24 24\"\n",
              "       width=\"24px\">\n",
              "    <path d=\"M0 0h24v24H0V0z\" fill=\"none\"/>\n",
              "    <path d=\"M18.56 5.44l.94 2.06.94-2.06 2.06-.94-2.06-.94-.94-2.06-.94 2.06-2.06.94zm-11 1L8.5 8.5l.94-2.06 2.06-.94-2.06-.94L8.5 2.5l-.94 2.06-2.06.94zm10 10l.94 2.06.94-2.06 2.06-.94-2.06-.94-.94-2.06-.94 2.06-2.06.94z\"/><path d=\"M17.41 7.96l-1.37-1.37c-.4-.4-.92-.59-1.43-.59-.52 0-1.04.2-1.43.59L10.3 9.45l-7.72 7.72c-.78.78-.78 2.05 0 2.83L4 21.41c.39.39.9.59 1.41.59.51 0 1.02-.2 1.41-.59l7.78-7.78 2.81-2.81c.8-.78.8-2.07 0-2.86zM5.41 20L4 18.59l7.72-7.72 1.47 1.35L5.41 20z\"/>\n",
              "  </svg>\n",
              "      </button>\n",
              "      \n",
              "  <style>\n",
              "    .colab-df-container {\n",
              "      display:flex;\n",
              "      flex-wrap:wrap;\n",
              "      gap: 12px;\n",
              "    }\n",
              "\n",
              "    .colab-df-convert {\n",
              "      background-color: #E8F0FE;\n",
              "      border: none;\n",
              "      border-radius: 50%;\n",
              "      cursor: pointer;\n",
              "      display: none;\n",
              "      fill: #1967D2;\n",
              "      height: 32px;\n",
              "      padding: 0 0 0 0;\n",
              "      width: 32px;\n",
              "    }\n",
              "\n",
              "    .colab-df-convert:hover {\n",
              "      background-color: #E2EBFA;\n",
              "      box-shadow: 0px 1px 2px rgba(60, 64, 67, 0.3), 0px 1px 3px 1px rgba(60, 64, 67, 0.15);\n",
              "      fill: #174EA6;\n",
              "    }\n",
              "\n",
              "    [theme=dark] .colab-df-convert {\n",
              "      background-color: #3B4455;\n",
              "      fill: #D2E3FC;\n",
              "    }\n",
              "\n",
              "    [theme=dark] .colab-df-convert:hover {\n",
              "      background-color: #434B5C;\n",
              "      box-shadow: 0px 1px 3px 1px rgba(0, 0, 0, 0.15);\n",
              "      filter: drop-shadow(0px 1px 2px rgba(0, 0, 0, 0.3));\n",
              "      fill: #FFFFFF;\n",
              "    }\n",
              "  </style>\n",
              "\n",
              "      <script>\n",
              "        const buttonEl =\n",
              "          document.querySelector('#df-6f4767a7-a676-4a93-8577-5ab97eee9c6b button.colab-df-convert');\n",
              "        buttonEl.style.display =\n",
              "          google.colab.kernel.accessAllowed ? 'block' : 'none';\n",
              "\n",
              "        async function convertToInteractive(key) {\n",
              "          const element = document.querySelector('#df-6f4767a7-a676-4a93-8577-5ab97eee9c6b');\n",
              "          const dataTable =\n",
              "            await google.colab.kernel.invokeFunction('convertToInteractive',\n",
              "                                                     [key], {});\n",
              "          if (!dataTable) return;\n",
              "\n",
              "          const docLinkHtml = 'Like what you see? Visit the ' +\n",
              "            '<a target=\"_blank\" href=https://colab.research.google.com/notebooks/data_table.ipynb>data table notebook</a>'\n",
              "            + ' to learn more about interactive tables.';\n",
              "          element.innerHTML = '';\n",
              "          dataTable['output_type'] = 'display_data';\n",
              "          await google.colab.output.renderOutput(dataTable, element);\n",
              "          const docLink = document.createElement('div');\n",
              "          docLink.innerHTML = docLinkHtml;\n",
              "          element.appendChild(docLink);\n",
              "        }\n",
              "      </script>\n",
              "    </div>\n",
              "  </div>\n",
              "  "
            ]
          },
          "metadata": {},
          "execution_count": 61
        }
      ]
    },
    {
      "cell_type": "code",
      "source": [
        ""
      ],
      "metadata": {
        "id": "xW8c0W9iMbJc"
      },
      "execution_count": 61,
      "outputs": []
    },
    {
      "cell_type": "code",
      "source": [
        "for afunctionals in functionalsList:\n",
        "  print(str(afunctionals))\n",
        "  df['E-'+'DFT-'+str(afunctionals)] =  abs(  (df['DFT-'+str(afunctionals) ] - df['CCSDT']  ) * 100  /  df['CCSDT'] )"
      ],
      "metadata": {
        "id": "c7vnBbtYMbTh",
        "colab": {
          "base_uri": "https://localhost:8080/"
        },
        "outputId": "c6094aac-cfeb-4b1b-b178-55e8e9d6b529"
      },
      "execution_count": 62,
      "outputs": [
        {
          "output_type": "stream",
          "name": "stdout",
          "text": [
            "b3lyp\n",
            "M06-2X\n",
            "SCAN\n",
            "wB97X-V\n",
            "PW6B95\n",
            "pbe\n",
            "pbe0\n"
          ]
        }
      ]
    },
    {
      "cell_type": "code",
      "source": [
        "for aDMFunctionalvalue in list(dm21.Functional):\n",
        "  print(str(aDMFunctionalvalue))\n",
        "  df['E-'+'NN-'+str(aDMFunctionalvalue)] = abs( (df['NN-'+str(aDMFunctionalvalue) ] - df['CCSDT']  ) * 100  /  df['CCSDT'] )"
      ],
      "metadata": {
        "id": "wzRY6ESzNjBS",
        "colab": {
          "base_uri": "https://localhost:8080/"
        },
        "outputId": "a9e2b403-1f44-4438-f3c1-3c8444f4f833"
      },
      "execution_count": 63,
      "outputs": [
        {
          "output_type": "stream",
          "name": "stdout",
          "text": [
            "Functional.DM21\n",
            "Functional.DM21m\n",
            "Functional.DM21mc\n",
            "Functional.DM21mu\n"
          ]
        }
      ]
    },
    {
      "cell_type": "code",
      "source": [
        "for afunctionals in functionalsList:\n",
        "  print(str(afunctionals))\n",
        "  df['M-'+'DFT-'+str(afunctionals)] =   abs  (df['DFT-'+str(afunctionals) ] - df['CCSDT']  ) \n"
      ],
      "metadata": {
        "id": "PCpqf5-WhIl3",
        "colab": {
          "base_uri": "https://localhost:8080/"
        },
        "outputId": "c8307c5a-b8d2-4ece-ebf7-27c62c2036a1"
      },
      "execution_count": 64,
      "outputs": [
        {
          "output_type": "stream",
          "name": "stdout",
          "text": [
            "b3lyp\n",
            "M06-2X\n",
            "SCAN\n",
            "wB97X-V\n",
            "PW6B95\n",
            "pbe\n",
            "pbe0\n"
          ]
        }
      ]
    },
    {
      "cell_type": "code",
      "source": [
        "for aDMFunctionalvalue in list(dm21.Functional):\n",
        "  print(str(aDMFunctionalvalue))\n",
        "  df['M-'+'NN-'+str(aDMFunctionalvalue)] = abs  (df['NN-'+str(aDMFunctionalvalue) ] - df['CCSDT']  ) \n"
      ],
      "metadata": {
        "id": "NqSR2AMChbe6",
        "colab": {
          "base_uri": "https://localhost:8080/"
        },
        "outputId": "624e8b26-de6a-44a9-f194-e75d2d8cae8d"
      },
      "execution_count": 65,
      "outputs": [
        {
          "output_type": "stream",
          "name": "stdout",
          "text": [
            "Functional.DM21\n",
            "Functional.DM21m\n",
            "Functional.DM21mc\n",
            "Functional.DM21mu\n"
          ]
        }
      ]
    },
    {
      "cell_type": "code",
      "source": [
        "df"
      ],
      "metadata": {
        "id": "iioWkDZWkMhz",
        "colab": {
          "base_uri": "https://localhost:8080/",
          "height": 424
        },
        "outputId": "4dca2a5b-cff7-4493-f919-8e9605ea47c7"
      },
      "execution_count": 66,
      "outputs": [
        {
          "output_type": "execute_result",
          "data": {
            "text/plain": [
              "  Weight Element                                           Molecule  \\\n",
              "0      8       O  \\n      O\\t0.0000000\\t0.0000000\\t0.6078060\\n  ...   \n",
              "1      8       O  \\n      O\\t0.0000000\\t0.0000000\\t0.6078060\\n  ...   \n",
              "2      8       O  \\n      O\\t0.0000000\\t0.0000000\\t0.6078060\\n  ...   \n",
              "3      8       O  \\n      O\\t0.0000000\\t0.0000000\\t0.6078060\\n  ...   \n",
              "\n",
              "    BasisSet Spin        CCSD       CCSDT   DFT-b3lyp  DFT-M06-2X    DFT-SCAN  \\\n",
              "0    cc-pVQZ    0 -150.161426 -150.187153 -150.270957 -150.269394 -150.271567   \n",
              "1    cc-pVDZ    0 -149.926330 -149.940490 -150.210599 -150.215780 -150.213758   \n",
              "2  def2-QZVP    0 -150.152191 -150.177754 -150.274482 -150.275009 -150.274755   \n",
              "3      6-31g    0 -149.728536 -149.738030 -150.145095 -150.139950 -150.148146   \n",
              "\n",
              "   ...  M-DFT-M06-2X  M-DFT-SCAN  M-DFT-wB97X-V  M-DFT-PW6B95  M-DFT-pbe  \\\n",
              "0  ...      0.082241    0.084414       0.161525      0.304835   0.003803   \n",
              "1  ...      0.275290    0.273267       0.350268      0.493398   0.190264   \n",
              "2  ...      0.097255    0.097000       0.174178      0.317696   0.017147   \n",
              "3  ...      0.401920    0.410115       0.483759      0.627680   0.328601   \n",
              "\n",
              "   M-DFT-pbe0  M-NN-Functional.DM21  M-NN-Functional.DM21m  \\\n",
              "0    0.014784              0.080996               0.082881   \n",
              "1    0.174363              0.266494               0.266333   \n",
              "2    0.002239              0.093578               0.096255   \n",
              "3    0.308144              0.406469               0.406024   \n",
              "\n",
              "   M-NN-Functional.DM21mc  M-NN-Functional.DM21mu  \n",
              "0                0.090295                0.087022  \n",
              "1                0.273581                0.271447  \n",
              "2                0.102312                0.100174  \n",
              "3                0.412912                0.410016  \n",
              "\n",
              "[4 rows x 40 columns]"
            ],
            "text/html": [
              "\n",
              "  <div id=\"df-463268be-82f4-4419-a1fd-78dbfcd14049\">\n",
              "    <div class=\"colab-df-container\">\n",
              "      <div>\n",
              "<style scoped>\n",
              "    .dataframe tbody tr th:only-of-type {\n",
              "        vertical-align: middle;\n",
              "    }\n",
              "\n",
              "    .dataframe tbody tr th {\n",
              "        vertical-align: top;\n",
              "    }\n",
              "\n",
              "    .dataframe thead th {\n",
              "        text-align: right;\n",
              "    }\n",
              "</style>\n",
              "<table border=\"1\" class=\"dataframe\">\n",
              "  <thead>\n",
              "    <tr style=\"text-align: right;\">\n",
              "      <th></th>\n",
              "      <th>Weight</th>\n",
              "      <th>Element</th>\n",
              "      <th>Molecule</th>\n",
              "      <th>BasisSet</th>\n",
              "      <th>Spin</th>\n",
              "      <th>CCSD</th>\n",
              "      <th>CCSDT</th>\n",
              "      <th>DFT-b3lyp</th>\n",
              "      <th>DFT-M06-2X</th>\n",
              "      <th>DFT-SCAN</th>\n",
              "      <th>...</th>\n",
              "      <th>M-DFT-M06-2X</th>\n",
              "      <th>M-DFT-SCAN</th>\n",
              "      <th>M-DFT-wB97X-V</th>\n",
              "      <th>M-DFT-PW6B95</th>\n",
              "      <th>M-DFT-pbe</th>\n",
              "      <th>M-DFT-pbe0</th>\n",
              "      <th>M-NN-Functional.DM21</th>\n",
              "      <th>M-NN-Functional.DM21m</th>\n",
              "      <th>M-NN-Functional.DM21mc</th>\n",
              "      <th>M-NN-Functional.DM21mu</th>\n",
              "    </tr>\n",
              "  </thead>\n",
              "  <tbody>\n",
              "    <tr>\n",
              "      <th>0</th>\n",
              "      <td>8</td>\n",
              "      <td>O</td>\n",
              "      <td>\\n      O\\t0.0000000\\t0.0000000\\t0.6078060\\n  ...</td>\n",
              "      <td>cc-pVQZ</td>\n",
              "      <td>0</td>\n",
              "      <td>-150.161426</td>\n",
              "      <td>-150.187153</td>\n",
              "      <td>-150.270957</td>\n",
              "      <td>-150.269394</td>\n",
              "      <td>-150.271567</td>\n",
              "      <td>...</td>\n",
              "      <td>0.082241</td>\n",
              "      <td>0.084414</td>\n",
              "      <td>0.161525</td>\n",
              "      <td>0.304835</td>\n",
              "      <td>0.003803</td>\n",
              "      <td>0.014784</td>\n",
              "      <td>0.080996</td>\n",
              "      <td>0.082881</td>\n",
              "      <td>0.090295</td>\n",
              "      <td>0.087022</td>\n",
              "    </tr>\n",
              "    <tr>\n",
              "      <th>1</th>\n",
              "      <td>8</td>\n",
              "      <td>O</td>\n",
              "      <td>\\n      O\\t0.0000000\\t0.0000000\\t0.6078060\\n  ...</td>\n",
              "      <td>cc-pVDZ</td>\n",
              "      <td>0</td>\n",
              "      <td>-149.926330</td>\n",
              "      <td>-149.940490</td>\n",
              "      <td>-150.210599</td>\n",
              "      <td>-150.215780</td>\n",
              "      <td>-150.213758</td>\n",
              "      <td>...</td>\n",
              "      <td>0.275290</td>\n",
              "      <td>0.273267</td>\n",
              "      <td>0.350268</td>\n",
              "      <td>0.493398</td>\n",
              "      <td>0.190264</td>\n",
              "      <td>0.174363</td>\n",
              "      <td>0.266494</td>\n",
              "      <td>0.266333</td>\n",
              "      <td>0.273581</td>\n",
              "      <td>0.271447</td>\n",
              "    </tr>\n",
              "    <tr>\n",
              "      <th>2</th>\n",
              "      <td>8</td>\n",
              "      <td>O</td>\n",
              "      <td>\\n      O\\t0.0000000\\t0.0000000\\t0.6078060\\n  ...</td>\n",
              "      <td>def2-QZVP</td>\n",
              "      <td>0</td>\n",
              "      <td>-150.152191</td>\n",
              "      <td>-150.177754</td>\n",
              "      <td>-150.274482</td>\n",
              "      <td>-150.275009</td>\n",
              "      <td>-150.274755</td>\n",
              "      <td>...</td>\n",
              "      <td>0.097255</td>\n",
              "      <td>0.097000</td>\n",
              "      <td>0.174178</td>\n",
              "      <td>0.317696</td>\n",
              "      <td>0.017147</td>\n",
              "      <td>0.002239</td>\n",
              "      <td>0.093578</td>\n",
              "      <td>0.096255</td>\n",
              "      <td>0.102312</td>\n",
              "      <td>0.100174</td>\n",
              "    </tr>\n",
              "    <tr>\n",
              "      <th>3</th>\n",
              "      <td>8</td>\n",
              "      <td>O</td>\n",
              "      <td>\\n      O\\t0.0000000\\t0.0000000\\t0.6078060\\n  ...</td>\n",
              "      <td>6-31g</td>\n",
              "      <td>0</td>\n",
              "      <td>-149.728536</td>\n",
              "      <td>-149.738030</td>\n",
              "      <td>-150.145095</td>\n",
              "      <td>-150.139950</td>\n",
              "      <td>-150.148146</td>\n",
              "      <td>...</td>\n",
              "      <td>0.401920</td>\n",
              "      <td>0.410115</td>\n",
              "      <td>0.483759</td>\n",
              "      <td>0.627680</td>\n",
              "      <td>0.328601</td>\n",
              "      <td>0.308144</td>\n",
              "      <td>0.406469</td>\n",
              "      <td>0.406024</td>\n",
              "      <td>0.412912</td>\n",
              "      <td>0.410016</td>\n",
              "    </tr>\n",
              "  </tbody>\n",
              "</table>\n",
              "<p>4 rows × 40 columns</p>\n",
              "</div>\n",
              "      <button class=\"colab-df-convert\" onclick=\"convertToInteractive('df-463268be-82f4-4419-a1fd-78dbfcd14049')\"\n",
              "              title=\"Convert this dataframe to an interactive table.\"\n",
              "              style=\"display:none;\">\n",
              "        \n",
              "  <svg xmlns=\"http://www.w3.org/2000/svg\" height=\"24px\"viewBox=\"0 0 24 24\"\n",
              "       width=\"24px\">\n",
              "    <path d=\"M0 0h24v24H0V0z\" fill=\"none\"/>\n",
              "    <path d=\"M18.56 5.44l.94 2.06.94-2.06 2.06-.94-2.06-.94-.94-2.06-.94 2.06-2.06.94zm-11 1L8.5 8.5l.94-2.06 2.06-.94-2.06-.94L8.5 2.5l-.94 2.06-2.06.94zm10 10l.94 2.06.94-2.06 2.06-.94-2.06-.94-.94-2.06-.94 2.06-2.06.94z\"/><path d=\"M17.41 7.96l-1.37-1.37c-.4-.4-.92-.59-1.43-.59-.52 0-1.04.2-1.43.59L10.3 9.45l-7.72 7.72c-.78.78-.78 2.05 0 2.83L4 21.41c.39.39.9.59 1.41.59.51 0 1.02-.2 1.41-.59l7.78-7.78 2.81-2.81c.8-.78.8-2.07 0-2.86zM5.41 20L4 18.59l7.72-7.72 1.47 1.35L5.41 20z\"/>\n",
              "  </svg>\n",
              "      </button>\n",
              "      \n",
              "  <style>\n",
              "    .colab-df-container {\n",
              "      display:flex;\n",
              "      flex-wrap:wrap;\n",
              "      gap: 12px;\n",
              "    }\n",
              "\n",
              "    .colab-df-convert {\n",
              "      background-color: #E8F0FE;\n",
              "      border: none;\n",
              "      border-radius: 50%;\n",
              "      cursor: pointer;\n",
              "      display: none;\n",
              "      fill: #1967D2;\n",
              "      height: 32px;\n",
              "      padding: 0 0 0 0;\n",
              "      width: 32px;\n",
              "    }\n",
              "\n",
              "    .colab-df-convert:hover {\n",
              "      background-color: #E2EBFA;\n",
              "      box-shadow: 0px 1px 2px rgba(60, 64, 67, 0.3), 0px 1px 3px 1px rgba(60, 64, 67, 0.15);\n",
              "      fill: #174EA6;\n",
              "    }\n",
              "\n",
              "    [theme=dark] .colab-df-convert {\n",
              "      background-color: #3B4455;\n",
              "      fill: #D2E3FC;\n",
              "    }\n",
              "\n",
              "    [theme=dark] .colab-df-convert:hover {\n",
              "      background-color: #434B5C;\n",
              "      box-shadow: 0px 1px 3px 1px rgba(0, 0, 0, 0.15);\n",
              "      filter: drop-shadow(0px 1px 2px rgba(0, 0, 0, 0.3));\n",
              "      fill: #FFFFFF;\n",
              "    }\n",
              "  </style>\n",
              "\n",
              "      <script>\n",
              "        const buttonEl =\n",
              "          document.querySelector('#df-463268be-82f4-4419-a1fd-78dbfcd14049 button.colab-df-convert');\n",
              "        buttonEl.style.display =\n",
              "          google.colab.kernel.accessAllowed ? 'block' : 'none';\n",
              "\n",
              "        async function convertToInteractive(key) {\n",
              "          const element = document.querySelector('#df-463268be-82f4-4419-a1fd-78dbfcd14049');\n",
              "          const dataTable =\n",
              "            await google.colab.kernel.invokeFunction('convertToInteractive',\n",
              "                                                     [key], {});\n",
              "          if (!dataTable) return;\n",
              "\n",
              "          const docLinkHtml = 'Like what you see? Visit the ' +\n",
              "            '<a target=\"_blank\" href=https://colab.research.google.com/notebooks/data_table.ipynb>data table notebook</a>'\n",
              "            + ' to learn more about interactive tables.';\n",
              "          element.innerHTML = '';\n",
              "          dataTable['output_type'] = 'display_data';\n",
              "          await google.colab.output.renderOutput(dataTable, element);\n",
              "          const docLink = document.createElement('div');\n",
              "          docLink.innerHTML = docLinkHtml;\n",
              "          element.appendChild(docLink);\n",
              "        }\n",
              "      </script>\n",
              "    </div>\n",
              "  </div>\n",
              "  "
            ]
          },
          "metadata": {},
          "execution_count": 66
        }
      ]
    },
    {
      "cell_type": "code",
      "source": [
        "df.to_csv('/content/drive/My Drive/DeepMind' + EXPNO+ 'CE-Final-.csv' )\n"
      ],
      "metadata": {
        "id": "wbLP9OLHksHO"
      },
      "execution_count": 67,
      "outputs": []
    },
    {
      "cell_type": "code",
      "source": [
        "dfcopy\n",
        "\n",
        "\n",
        "for afunctionals in functionalsList:\n",
        "  print(str(afunctionals))\n",
        "  dfcopy['M-'+'DFT-'+str(afunctionals)] =   abs  (dfcopy['DFT-'+str(afunctionals) ] - dfcopy['CCSDT_G']  ) \n",
        "  "
      ],
      "metadata": {
        "id": "LaFj1DcW160O",
        "colab": {
          "base_uri": "https://localhost:8080/"
        },
        "outputId": "765c2ef1-6ef8-438d-8135-281900dcc74f"
      },
      "execution_count": 68,
      "outputs": [
        {
          "output_type": "stream",
          "name": "stdout",
          "text": [
            "b3lyp\n",
            "M06-2X\n",
            "SCAN\n",
            "wB97X-V\n",
            "PW6B95\n",
            "pbe\n",
            "pbe0\n"
          ]
        }
      ]
    },
    {
      "cell_type": "code",
      "source": [
        "for aDMFunctionalvalue in list(dm21.Functional):\n",
        "  print(str(aDMFunctionalvalue))\n",
        "  dfcopy['M-'+'NN-'+str(aDMFunctionalvalue)] = abs  (dfcopy['NN-'+str(aDMFunctionalvalue) ] - dfcopy['CCSDT_G']  ) \n"
      ],
      "metadata": {
        "id": "STIRU5OL2HMp",
        "colab": {
          "base_uri": "https://localhost:8080/"
        },
        "outputId": "09f16019-80a3-4bb6-a109-63fd6d46f1fb"
      },
      "execution_count": 69,
      "outputs": [
        {
          "output_type": "stream",
          "name": "stdout",
          "text": [
            "Functional.DM21\n",
            "Functional.DM21m\n",
            "Functional.DM21mc\n",
            "Functional.DM21mu\n"
          ]
        }
      ]
    },
    {
      "cell_type": "code",
      "source": [
        "dfcopy"
      ],
      "metadata": {
        "id": "b6icB_GN3_8M",
        "colab": {
          "base_uri": "https://localhost:8080/",
          "height": 424
        },
        "outputId": "8d9b3228-a66a-45dc-ed91-b4b925580de4"
      },
      "execution_count": 70,
      "outputs": [
        {
          "output_type": "execute_result",
          "data": {
            "text/plain": [
              "  Weight Element                                           Molecule  \\\n",
              "0      8       O  \\n      O\\t0.0000000\\t0.0000000\\t0.6078060\\n  ...   \n",
              "1      8       O  \\n      O\\t0.0000000\\t0.0000000\\t0.6078060\\n  ...   \n",
              "2      8       O  \\n      O\\t0.0000000\\t0.0000000\\t0.6078060\\n  ...   \n",
              "3      8       O  \\n      O\\t0.0000000\\t0.0000000\\t0.6078060\\n  ...   \n",
              "\n",
              "    BasisSet Spin        CCSD       CCSDT   DFT-b3lyp  DFT-M06-2X    DFT-SCAN  \\\n",
              "0    cc-pVQZ    0 -150.161426 -150.187153 -150.270957 -150.269394 -150.271567   \n",
              "1    cc-pVDZ    0 -149.926330 -149.940490 -150.210599 -150.215780 -150.213758   \n",
              "2  def2-QZVP    0 -150.152191 -150.177754 -150.274482 -150.275009 -150.274755   \n",
              "3      6-31g    0 -149.728536 -149.738030 -150.145095 -150.139950 -150.148146   \n",
              "\n",
              "   ...  M-DFT-M06-2X  M-DFT-SCAN  M-DFT-wB97X-V  M-DFT-PW6B95  M-DFT-pbe  \\\n",
              "0  ...      0.082241    0.084414       0.161525      0.304835   0.003803   \n",
              "1  ...      0.028627    0.026605       0.103606      0.246735   0.056399   \n",
              "2  ...      0.087856    0.087602       0.164780      0.308297   0.007748   \n",
              "3  ...      0.047203    0.039007       0.034636      0.178558   0.120521   \n",
              "\n",
              "   M-DFT-pbe0  M-NN-Functional.DM21  M-NN-Functional.DM21m  \\\n",
              "0    0.014784              0.080996               0.082881   \n",
              "1    0.072299              0.019832               0.019671   \n",
              "2    0.011638              0.084179               0.086857   \n",
              "3    0.140978              0.042654               0.043099   \n",
              "\n",
              "   M-NN-Functional.DM21mc  M-NN-Functional.DM21mu  \n",
              "0                0.090295                0.087022  \n",
              "1                0.026919                0.024785  \n",
              "2                0.092913                0.090775  \n",
              "3                0.036210                0.039106  \n",
              "\n",
              "[4 rows x 30 columns]"
            ],
            "text/html": [
              "\n",
              "  <div id=\"df-4d5385f3-66e8-49b6-a262-6ff8f000bc26\">\n",
              "    <div class=\"colab-df-container\">\n",
              "      <div>\n",
              "<style scoped>\n",
              "    .dataframe tbody tr th:only-of-type {\n",
              "        vertical-align: middle;\n",
              "    }\n",
              "\n",
              "    .dataframe tbody tr th {\n",
              "        vertical-align: top;\n",
              "    }\n",
              "\n",
              "    .dataframe thead th {\n",
              "        text-align: right;\n",
              "    }\n",
              "</style>\n",
              "<table border=\"1\" class=\"dataframe\">\n",
              "  <thead>\n",
              "    <tr style=\"text-align: right;\">\n",
              "      <th></th>\n",
              "      <th>Weight</th>\n",
              "      <th>Element</th>\n",
              "      <th>Molecule</th>\n",
              "      <th>BasisSet</th>\n",
              "      <th>Spin</th>\n",
              "      <th>CCSD</th>\n",
              "      <th>CCSDT</th>\n",
              "      <th>DFT-b3lyp</th>\n",
              "      <th>DFT-M06-2X</th>\n",
              "      <th>DFT-SCAN</th>\n",
              "      <th>...</th>\n",
              "      <th>M-DFT-M06-2X</th>\n",
              "      <th>M-DFT-SCAN</th>\n",
              "      <th>M-DFT-wB97X-V</th>\n",
              "      <th>M-DFT-PW6B95</th>\n",
              "      <th>M-DFT-pbe</th>\n",
              "      <th>M-DFT-pbe0</th>\n",
              "      <th>M-NN-Functional.DM21</th>\n",
              "      <th>M-NN-Functional.DM21m</th>\n",
              "      <th>M-NN-Functional.DM21mc</th>\n",
              "      <th>M-NN-Functional.DM21mu</th>\n",
              "    </tr>\n",
              "  </thead>\n",
              "  <tbody>\n",
              "    <tr>\n",
              "      <th>0</th>\n",
              "      <td>8</td>\n",
              "      <td>O</td>\n",
              "      <td>\\n      O\\t0.0000000\\t0.0000000\\t0.6078060\\n  ...</td>\n",
              "      <td>cc-pVQZ</td>\n",
              "      <td>0</td>\n",
              "      <td>-150.161426</td>\n",
              "      <td>-150.187153</td>\n",
              "      <td>-150.270957</td>\n",
              "      <td>-150.269394</td>\n",
              "      <td>-150.271567</td>\n",
              "      <td>...</td>\n",
              "      <td>0.082241</td>\n",
              "      <td>0.084414</td>\n",
              "      <td>0.161525</td>\n",
              "      <td>0.304835</td>\n",
              "      <td>0.003803</td>\n",
              "      <td>0.014784</td>\n",
              "      <td>0.080996</td>\n",
              "      <td>0.082881</td>\n",
              "      <td>0.090295</td>\n",
              "      <td>0.087022</td>\n",
              "    </tr>\n",
              "    <tr>\n",
              "      <th>1</th>\n",
              "      <td>8</td>\n",
              "      <td>O</td>\n",
              "      <td>\\n      O\\t0.0000000\\t0.0000000\\t0.6078060\\n  ...</td>\n",
              "      <td>cc-pVDZ</td>\n",
              "      <td>0</td>\n",
              "      <td>-149.926330</td>\n",
              "      <td>-149.940490</td>\n",
              "      <td>-150.210599</td>\n",
              "      <td>-150.215780</td>\n",
              "      <td>-150.213758</td>\n",
              "      <td>...</td>\n",
              "      <td>0.028627</td>\n",
              "      <td>0.026605</td>\n",
              "      <td>0.103606</td>\n",
              "      <td>0.246735</td>\n",
              "      <td>0.056399</td>\n",
              "      <td>0.072299</td>\n",
              "      <td>0.019832</td>\n",
              "      <td>0.019671</td>\n",
              "      <td>0.026919</td>\n",
              "      <td>0.024785</td>\n",
              "    </tr>\n",
              "    <tr>\n",
              "      <th>2</th>\n",
              "      <td>8</td>\n",
              "      <td>O</td>\n",
              "      <td>\\n      O\\t0.0000000\\t0.0000000\\t0.6078060\\n  ...</td>\n",
              "      <td>def2-QZVP</td>\n",
              "      <td>0</td>\n",
              "      <td>-150.152191</td>\n",
              "      <td>-150.177754</td>\n",
              "      <td>-150.274482</td>\n",
              "      <td>-150.275009</td>\n",
              "      <td>-150.274755</td>\n",
              "      <td>...</td>\n",
              "      <td>0.087856</td>\n",
              "      <td>0.087602</td>\n",
              "      <td>0.164780</td>\n",
              "      <td>0.308297</td>\n",
              "      <td>0.007748</td>\n",
              "      <td>0.011638</td>\n",
              "      <td>0.084179</td>\n",
              "      <td>0.086857</td>\n",
              "      <td>0.092913</td>\n",
              "      <td>0.090775</td>\n",
              "    </tr>\n",
              "    <tr>\n",
              "      <th>3</th>\n",
              "      <td>8</td>\n",
              "      <td>O</td>\n",
              "      <td>\\n      O\\t0.0000000\\t0.0000000\\t0.6078060\\n  ...</td>\n",
              "      <td>6-31g</td>\n",
              "      <td>0</td>\n",
              "      <td>-149.728536</td>\n",
              "      <td>-149.738030</td>\n",
              "      <td>-150.145095</td>\n",
              "      <td>-150.139950</td>\n",
              "      <td>-150.148146</td>\n",
              "      <td>...</td>\n",
              "      <td>0.047203</td>\n",
              "      <td>0.039007</td>\n",
              "      <td>0.034636</td>\n",
              "      <td>0.178558</td>\n",
              "      <td>0.120521</td>\n",
              "      <td>0.140978</td>\n",
              "      <td>0.042654</td>\n",
              "      <td>0.043099</td>\n",
              "      <td>0.036210</td>\n",
              "      <td>0.039106</td>\n",
              "    </tr>\n",
              "  </tbody>\n",
              "</table>\n",
              "<p>4 rows × 30 columns</p>\n",
              "</div>\n",
              "      <button class=\"colab-df-convert\" onclick=\"convertToInteractive('df-4d5385f3-66e8-49b6-a262-6ff8f000bc26')\"\n",
              "              title=\"Convert this dataframe to an interactive table.\"\n",
              "              style=\"display:none;\">\n",
              "        \n",
              "  <svg xmlns=\"http://www.w3.org/2000/svg\" height=\"24px\"viewBox=\"0 0 24 24\"\n",
              "       width=\"24px\">\n",
              "    <path d=\"M0 0h24v24H0V0z\" fill=\"none\"/>\n",
              "    <path d=\"M18.56 5.44l.94 2.06.94-2.06 2.06-.94-2.06-.94-.94-2.06-.94 2.06-2.06.94zm-11 1L8.5 8.5l.94-2.06 2.06-.94-2.06-.94L8.5 2.5l-.94 2.06-2.06.94zm10 10l.94 2.06.94-2.06 2.06-.94-2.06-.94-.94-2.06-.94 2.06-2.06.94z\"/><path d=\"M17.41 7.96l-1.37-1.37c-.4-.4-.92-.59-1.43-.59-.52 0-1.04.2-1.43.59L10.3 9.45l-7.72 7.72c-.78.78-.78 2.05 0 2.83L4 21.41c.39.39.9.59 1.41.59.51 0 1.02-.2 1.41-.59l7.78-7.78 2.81-2.81c.8-.78.8-2.07 0-2.86zM5.41 20L4 18.59l7.72-7.72 1.47 1.35L5.41 20z\"/>\n",
              "  </svg>\n",
              "      </button>\n",
              "      \n",
              "  <style>\n",
              "    .colab-df-container {\n",
              "      display:flex;\n",
              "      flex-wrap:wrap;\n",
              "      gap: 12px;\n",
              "    }\n",
              "\n",
              "    .colab-df-convert {\n",
              "      background-color: #E8F0FE;\n",
              "      border: none;\n",
              "      border-radius: 50%;\n",
              "      cursor: pointer;\n",
              "      display: none;\n",
              "      fill: #1967D2;\n",
              "      height: 32px;\n",
              "      padding: 0 0 0 0;\n",
              "      width: 32px;\n",
              "    }\n",
              "\n",
              "    .colab-df-convert:hover {\n",
              "      background-color: #E2EBFA;\n",
              "      box-shadow: 0px 1px 2px rgba(60, 64, 67, 0.3), 0px 1px 3px 1px rgba(60, 64, 67, 0.15);\n",
              "      fill: #174EA6;\n",
              "    }\n",
              "\n",
              "    [theme=dark] .colab-df-convert {\n",
              "      background-color: #3B4455;\n",
              "      fill: #D2E3FC;\n",
              "    }\n",
              "\n",
              "    [theme=dark] .colab-df-convert:hover {\n",
              "      background-color: #434B5C;\n",
              "      box-shadow: 0px 1px 3px 1px rgba(0, 0, 0, 0.15);\n",
              "      filter: drop-shadow(0px 1px 2px rgba(0, 0, 0, 0.3));\n",
              "      fill: #FFFFFF;\n",
              "    }\n",
              "  </style>\n",
              "\n",
              "      <script>\n",
              "        const buttonEl =\n",
              "          document.querySelector('#df-4d5385f3-66e8-49b6-a262-6ff8f000bc26 button.colab-df-convert');\n",
              "        buttonEl.style.display =\n",
              "          google.colab.kernel.accessAllowed ? 'block' : 'none';\n",
              "\n",
              "        async function convertToInteractive(key) {\n",
              "          const element = document.querySelector('#df-4d5385f3-66e8-49b6-a262-6ff8f000bc26');\n",
              "          const dataTable =\n",
              "            await google.colab.kernel.invokeFunction('convertToInteractive',\n",
              "                                                     [key], {});\n",
              "          if (!dataTable) return;\n",
              "\n",
              "          const docLinkHtml = 'Like what you see? Visit the ' +\n",
              "            '<a target=\"_blank\" href=https://colab.research.google.com/notebooks/data_table.ipynb>data table notebook</a>'\n",
              "            + ' to learn more about interactive tables.';\n",
              "          element.innerHTML = '';\n",
              "          dataTable['output_type'] = 'display_data';\n",
              "          await google.colab.output.renderOutput(dataTable, element);\n",
              "          const docLink = document.createElement('div');\n",
              "          docLink.innerHTML = docLinkHtml;\n",
              "          element.appendChild(docLink);\n",
              "        }\n",
              "      </script>\n",
              "    </div>\n",
              "  </div>\n",
              "  "
            ]
          },
          "metadata": {},
          "execution_count": 70
        }
      ]
    },
    {
      "cell_type": "code",
      "source": [
        "dfcopy.to_csv('/content/drive/My Drive/DeepMind_' + EXPNO+ '_Gold_Final-.csv' )\n"
      ],
      "metadata": {
        "id": "h5iwEdT72Rvv"
      },
      "execution_count": 71,
      "outputs": []
    },
    {
      "cell_type": "code",
      "source": [
        ""
      ],
      "metadata": {
        "id": "Kxt-D0Drdsl5"
      },
      "execution_count": 71,
      "outputs": []
    },
    {
      "cell_type": "markdown",
      "source": [
        "\n",
        "\n",
        "\n",
        "Bechnmark dataset , Use this to generate multiple papers (already the water dataset is published with DM21, but there is scope for other datasets .. THen you can take new molecules)\n",
        "http://www.begdb.org/index.php\n",
        "\n",
        "https://cccbdb.nist.gov/coreenergy3x.asp?casno=1333740&charge=0&method=63&basis=25\n",
        "\n",
        "pyscf tutorial \n",
        "https://github.com/nmardirossian/PySCF_Tutorial/blob/master/dev_guide.ipynb\n",
        "\n",
        "visuvalize cube geen\n",
        "\n",
        "https://programtalk.com/vs2/?source=python/12572/pyscf/tools/cubegen.py\n",
        "https://www.youtube.com/watch?v=QGyfGCZT110\n",
        "https://github.com/topics/molecule-viewer\n",
        "\n",
        "\n",
        "geomtery optimization\n",
        "https://colab.research.google.com/drive/1apQANgcMv9_waE4av47NJkxxlglklZy3?usp=sharing \n",
        "\n",
        "https://www.nature.com/articles/s41598-017-12600-3\n",
        "https://aip.scitation.org/doi/full/10.1063/5.0004863\n",
        "https://www.researchgate.net/figure/Outline-of-the-FLO-SIC-method-in-the-so-called-self-consistent-mode-The-SIC-is_fig5_340950498\n",
        "\n",
        "\n",
        "Quantam ML\n",
        "https://pennylane.ai/qml/demos_qml.html"
      ],
      "metadata": {
        "id": "7Xl7kKbOduHJ"
      }
    },
    {
      "cell_type": "code",
      "source": [
        ""
      ],
      "metadata": {
        "id": "51lFNJYxeic2"
      },
      "execution_count": 71,
      "outputs": []
    },
    {
      "cell_type": "code",
      "source": [
        " "
      ],
      "metadata": {
        "id": "DL6yJhRxeiZQ"
      },
      "execution_count": 71,
      "outputs": []
    },
    {
      "cell_type": "markdown",
      "source": [
        "#### The table will be automatically downloaded into your laptop as CSV file (excel sheet)"
      ],
      "metadata": {
        "id": "gvdwtTzYEh7n"
      }
    },
    {
      "cell_type": "code",
      "source": [
        "import seaborn as sns\n",
        " \n",
        " "
      ],
      "metadata": {
        "id": "tnnjwLprRonP"
      },
      "execution_count": 72,
      "outputs": []
    },
    {
      "cell_type": "code",
      "source": [
        "listofcolumstoplot = ['BasisSet']\n",
        "for aDMFunctionalvalue in list(dm21.Functional):\n",
        "  colname = 'M-'+'NN-'+ str(aDMFunctionalvalue)\n",
        "  listofcolumstoplot.append(colname)\n",
        "\n",
        "\n",
        "for afunctionals in functionalsList:\n",
        "  colname = 'M-'+'DFT-'+str(afunctionals)\n",
        "  listofcolumstoplot.append(colname)\n",
        "\n",
        "\n",
        "listofcolumstoplot"
      ],
      "metadata": {
        "id": "DBhtS_0_SZTS",
        "colab": {
          "base_uri": "https://localhost:8080/"
        },
        "outputId": "348b23dc-b8ab-4b90-c11c-94c81216073f"
      },
      "execution_count": 73,
      "outputs": [
        {
          "output_type": "execute_result",
          "data": {
            "text/plain": [
              "['BasisSet',\n",
              " 'M-NN-Functional.DM21',\n",
              " 'M-NN-Functional.DM21m',\n",
              " 'M-NN-Functional.DM21mc',\n",
              " 'M-NN-Functional.DM21mu',\n",
              " 'M-DFT-b3lyp',\n",
              " 'M-DFT-M06-2X',\n",
              " 'M-DFT-SCAN',\n",
              " 'M-DFT-wB97X-V',\n",
              " 'M-DFT-PW6B95',\n",
              " 'M-DFT-pbe',\n",
              " 'M-DFT-pbe0']"
            ]
          },
          "metadata": {},
          "execution_count": 73
        }
      ]
    },
    {
      "cell_type": "code",
      "source": [
        ""
      ],
      "metadata": {
        "id": "u79HMlUinEec"
      },
      "execution_count": 73,
      "outputs": []
    },
    {
      "cell_type": "code",
      "source": [
        "dfplot = dfcopy[listofcolumstoplot]\n",
        "\n",
        "dfplot"
      ],
      "metadata": {
        "id": "pjSC36dnRxxB",
        "colab": {
          "base_uri": "https://localhost:8080/",
          "height": 175
        },
        "outputId": "683ee886-9865-4b2b-9f8a-1423e181e731"
      },
      "execution_count": 74,
      "outputs": [
        {
          "output_type": "execute_result",
          "data": {
            "text/plain": [
              "    BasisSet  M-NN-Functional.DM21  M-NN-Functional.DM21m  \\\n",
              "0    cc-pVQZ              0.080996               0.082881   \n",
              "1    cc-pVDZ              0.019832               0.019671   \n",
              "2  def2-QZVP              0.084179               0.086857   \n",
              "3      6-31g              0.042654               0.043099   \n",
              "\n",
              "   M-NN-Functional.DM21mc  M-NN-Functional.DM21mu  M-DFT-b3lyp  M-DFT-M06-2X  \\\n",
              "0                0.090295                0.087022     0.083804      0.082241   \n",
              "1                0.026919                0.024785     0.023447      0.028627   \n",
              "2                0.092913                0.090775     0.087329      0.087856   \n",
              "3                0.036210                0.039106     0.042058      0.047203   \n",
              "\n",
              "   M-DFT-SCAN  M-DFT-wB97X-V  M-DFT-PW6B95  M-DFT-pbe  M-DFT-pbe0  \n",
              "0    0.084414       0.161525      0.304835   0.003803    0.014784  \n",
              "1    0.026605       0.103606      0.246735   0.056399    0.072299  \n",
              "2    0.087602       0.164780      0.308297   0.007748    0.011638  \n",
              "3    0.039007       0.034636      0.178558   0.120521    0.140978  "
            ],
            "text/html": [
              "\n",
              "  <div id=\"df-6b26dead-d5a5-4e77-8ed4-a72960c89ce1\">\n",
              "    <div class=\"colab-df-container\">\n",
              "      <div>\n",
              "<style scoped>\n",
              "    .dataframe tbody tr th:only-of-type {\n",
              "        vertical-align: middle;\n",
              "    }\n",
              "\n",
              "    .dataframe tbody tr th {\n",
              "        vertical-align: top;\n",
              "    }\n",
              "\n",
              "    .dataframe thead th {\n",
              "        text-align: right;\n",
              "    }\n",
              "</style>\n",
              "<table border=\"1\" class=\"dataframe\">\n",
              "  <thead>\n",
              "    <tr style=\"text-align: right;\">\n",
              "      <th></th>\n",
              "      <th>BasisSet</th>\n",
              "      <th>M-NN-Functional.DM21</th>\n",
              "      <th>M-NN-Functional.DM21m</th>\n",
              "      <th>M-NN-Functional.DM21mc</th>\n",
              "      <th>M-NN-Functional.DM21mu</th>\n",
              "      <th>M-DFT-b3lyp</th>\n",
              "      <th>M-DFT-M06-2X</th>\n",
              "      <th>M-DFT-SCAN</th>\n",
              "      <th>M-DFT-wB97X-V</th>\n",
              "      <th>M-DFT-PW6B95</th>\n",
              "      <th>M-DFT-pbe</th>\n",
              "      <th>M-DFT-pbe0</th>\n",
              "    </tr>\n",
              "  </thead>\n",
              "  <tbody>\n",
              "    <tr>\n",
              "      <th>0</th>\n",
              "      <td>cc-pVQZ</td>\n",
              "      <td>0.080996</td>\n",
              "      <td>0.082881</td>\n",
              "      <td>0.090295</td>\n",
              "      <td>0.087022</td>\n",
              "      <td>0.083804</td>\n",
              "      <td>0.082241</td>\n",
              "      <td>0.084414</td>\n",
              "      <td>0.161525</td>\n",
              "      <td>0.304835</td>\n",
              "      <td>0.003803</td>\n",
              "      <td>0.014784</td>\n",
              "    </tr>\n",
              "    <tr>\n",
              "      <th>1</th>\n",
              "      <td>cc-pVDZ</td>\n",
              "      <td>0.019832</td>\n",
              "      <td>0.019671</td>\n",
              "      <td>0.026919</td>\n",
              "      <td>0.024785</td>\n",
              "      <td>0.023447</td>\n",
              "      <td>0.028627</td>\n",
              "      <td>0.026605</td>\n",
              "      <td>0.103606</td>\n",
              "      <td>0.246735</td>\n",
              "      <td>0.056399</td>\n",
              "      <td>0.072299</td>\n",
              "    </tr>\n",
              "    <tr>\n",
              "      <th>2</th>\n",
              "      <td>def2-QZVP</td>\n",
              "      <td>0.084179</td>\n",
              "      <td>0.086857</td>\n",
              "      <td>0.092913</td>\n",
              "      <td>0.090775</td>\n",
              "      <td>0.087329</td>\n",
              "      <td>0.087856</td>\n",
              "      <td>0.087602</td>\n",
              "      <td>0.164780</td>\n",
              "      <td>0.308297</td>\n",
              "      <td>0.007748</td>\n",
              "      <td>0.011638</td>\n",
              "    </tr>\n",
              "    <tr>\n",
              "      <th>3</th>\n",
              "      <td>6-31g</td>\n",
              "      <td>0.042654</td>\n",
              "      <td>0.043099</td>\n",
              "      <td>0.036210</td>\n",
              "      <td>0.039106</td>\n",
              "      <td>0.042058</td>\n",
              "      <td>0.047203</td>\n",
              "      <td>0.039007</td>\n",
              "      <td>0.034636</td>\n",
              "      <td>0.178558</td>\n",
              "      <td>0.120521</td>\n",
              "      <td>0.140978</td>\n",
              "    </tr>\n",
              "  </tbody>\n",
              "</table>\n",
              "</div>\n",
              "      <button class=\"colab-df-convert\" onclick=\"convertToInteractive('df-6b26dead-d5a5-4e77-8ed4-a72960c89ce1')\"\n",
              "              title=\"Convert this dataframe to an interactive table.\"\n",
              "              style=\"display:none;\">\n",
              "        \n",
              "  <svg xmlns=\"http://www.w3.org/2000/svg\" height=\"24px\"viewBox=\"0 0 24 24\"\n",
              "       width=\"24px\">\n",
              "    <path d=\"M0 0h24v24H0V0z\" fill=\"none\"/>\n",
              "    <path d=\"M18.56 5.44l.94 2.06.94-2.06 2.06-.94-2.06-.94-.94-2.06-.94 2.06-2.06.94zm-11 1L8.5 8.5l.94-2.06 2.06-.94-2.06-.94L8.5 2.5l-.94 2.06-2.06.94zm10 10l.94 2.06.94-2.06 2.06-.94-2.06-.94-.94-2.06-.94 2.06-2.06.94z\"/><path d=\"M17.41 7.96l-1.37-1.37c-.4-.4-.92-.59-1.43-.59-.52 0-1.04.2-1.43.59L10.3 9.45l-7.72 7.72c-.78.78-.78 2.05 0 2.83L4 21.41c.39.39.9.59 1.41.59.51 0 1.02-.2 1.41-.59l7.78-7.78 2.81-2.81c.8-.78.8-2.07 0-2.86zM5.41 20L4 18.59l7.72-7.72 1.47 1.35L5.41 20z\"/>\n",
              "  </svg>\n",
              "      </button>\n",
              "      \n",
              "  <style>\n",
              "    .colab-df-container {\n",
              "      display:flex;\n",
              "      flex-wrap:wrap;\n",
              "      gap: 12px;\n",
              "    }\n",
              "\n",
              "    .colab-df-convert {\n",
              "      background-color: #E8F0FE;\n",
              "      border: none;\n",
              "      border-radius: 50%;\n",
              "      cursor: pointer;\n",
              "      display: none;\n",
              "      fill: #1967D2;\n",
              "      height: 32px;\n",
              "      padding: 0 0 0 0;\n",
              "      width: 32px;\n",
              "    }\n",
              "\n",
              "    .colab-df-convert:hover {\n",
              "      background-color: #E2EBFA;\n",
              "      box-shadow: 0px 1px 2px rgba(60, 64, 67, 0.3), 0px 1px 3px 1px rgba(60, 64, 67, 0.15);\n",
              "      fill: #174EA6;\n",
              "    }\n",
              "\n",
              "    [theme=dark] .colab-df-convert {\n",
              "      background-color: #3B4455;\n",
              "      fill: #D2E3FC;\n",
              "    }\n",
              "\n",
              "    [theme=dark] .colab-df-convert:hover {\n",
              "      background-color: #434B5C;\n",
              "      box-shadow: 0px 1px 3px 1px rgba(0, 0, 0, 0.15);\n",
              "      filter: drop-shadow(0px 1px 2px rgba(0, 0, 0, 0.3));\n",
              "      fill: #FFFFFF;\n",
              "    }\n",
              "  </style>\n",
              "\n",
              "      <script>\n",
              "        const buttonEl =\n",
              "          document.querySelector('#df-6b26dead-d5a5-4e77-8ed4-a72960c89ce1 button.colab-df-convert');\n",
              "        buttonEl.style.display =\n",
              "          google.colab.kernel.accessAllowed ? 'block' : 'none';\n",
              "\n",
              "        async function convertToInteractive(key) {\n",
              "          const element = document.querySelector('#df-6b26dead-d5a5-4e77-8ed4-a72960c89ce1');\n",
              "          const dataTable =\n",
              "            await google.colab.kernel.invokeFunction('convertToInteractive',\n",
              "                                                     [key], {});\n",
              "          if (!dataTable) return;\n",
              "\n",
              "          const docLinkHtml = 'Like what you see? Visit the ' +\n",
              "            '<a target=\"_blank\" href=https://colab.research.google.com/notebooks/data_table.ipynb>data table notebook</a>'\n",
              "            + ' to learn more about interactive tables.';\n",
              "          element.innerHTML = '';\n",
              "          dataTable['output_type'] = 'display_data';\n",
              "          await google.colab.output.renderOutput(dataTable, element);\n",
              "          const docLink = document.createElement('div');\n",
              "          docLink.innerHTML = docLinkHtml;\n",
              "          element.appendChild(docLink);\n",
              "        }\n",
              "      </script>\n",
              "    </div>\n",
              "  </div>\n",
              "  "
            ]
          },
          "metadata": {},
          "execution_count": 74
        }
      ]
    },
    {
      "cell_type": "code",
      "source": [
        "len(dfplot)"
      ],
      "metadata": {
        "id": "swktginEowpg",
        "colab": {
          "base_uri": "https://localhost:8080/"
        },
        "outputId": "934a18da-e492-4440-8e64-777412b1f8a0"
      },
      "execution_count": 75,
      "outputs": [
        {
          "output_type": "execute_result",
          "data": {
            "text/plain": [
              "4"
            ]
          },
          "metadata": {},
          "execution_count": 75
        }
      ]
    },
    {
      "cell_type": "code",
      "source": [
        "from matplotlib import pyplot\n",
        "import seaborn\n",
        "\n",
        "def aplot(dfplot):\n",
        "  sns.set_style(\"white\")\n",
        "  sns.set_style(\"whitegrid\")\n",
        "\n",
        "\n",
        "\n",
        "  #sns.color_palette(\"hls\", 4)\n",
        "  sns.color_palette(\"Paired\")\n",
        "\n",
        "\n",
        "  chartsize = (18.7, 8.27)\n",
        "\n",
        "  fig, ax = pyplot.subplots(figsize=chartsize)\n",
        "  sns.color_palette(\"Paired\")\n",
        "\n",
        "  sns.set(font_scale=2)\n",
        "  sns.axes_style()\n",
        "\n",
        "  sns.set_style(\"darkgrid\", {\"axes.facecolor\": \".3\"})\n",
        "\n",
        "  sns.barplot( orient='h' ,    data=dfplot)\n",
        "\n",
        "\n"
      ],
      "metadata": {
        "id": "KWvCA_bRV5vf"
      },
      "execution_count": 76,
      "outputs": []
    },
    {
      "cell_type": "code",
      "source": [
        "from matplotlib import pyplot\n",
        "import seaborn\n",
        "\n",
        "sns.set_style(\"white\")\n",
        "sns.set_style(\"whitegrid\")\n",
        "\n",
        "\n",
        "\n",
        "#sns.color_palette(\"hls\", 4)\n",
        "sns.color_palette(\"viridis\", as_cmap=True)\n",
        "sns.color_palette(\"Paired\")\n",
        "\n",
        "\n",
        "chartsize = (18.7, 8.27)\n",
        "\n",
        "fig, ax = pyplot.subplots(figsize=chartsize)\n",
        "sns.set(font_scale=2)\n",
        "sns.axes_style()\n",
        "\n",
        "sns.set_style(\"darkgrid\", {\"axes.facecolor\": \".3\"})\n",
        "\n",
        "#sns.barplot( orient='h' ,    data=dfplot)\n"
      ],
      "metadata": {
        "id": "bn1kymgctSlR",
        "colab": {
          "base_uri": "https://localhost:8080/",
          "height": 501
        },
        "outputId": "ad78975e-9a83-410d-edeb-c256ce3c0971"
      },
      "execution_count": 77,
      "outputs": [
        {
          "output_type": "display_data",
          "data": {
            "text/plain": [
              "<Figure size 1346.4x595.44 with 1 Axes>"
            ],
            "image/png": "[encoded data removed]"
          },
          "metadata": {}
        }
      ]
    },
    {
      "cell_type": "code",
      "source": [
        "aplot(dfplot[0:1])"
      ],
      "metadata": {
        "id": "YbVM7m2XqEMM",
        "colab": {
          "base_uri": "https://localhost:8080/",
          "height": 510
        },
        "outputId": "eff7e7dc-8132-450e-b64e-500844cc55fd"
      },
      "execution_count": 78,
      "outputs": [
        {
          "output_type": "display_data",
          "data": {
            "text/plain": [
              "<Figure size 1346.4x595.44 with 1 Axes>"
            ],
            "image/png": "[encoded data removed]"
          },
          "metadata": {}
        }
      ]
    },
    {
      "cell_type": "code",
      "source": [
        "aplot(dfplot[1:2])"
      ],
      "metadata": {
        "id": "vO4GShFCqGe8",
        "colab": {
          "base_uri": "https://localhost:8080/",
          "height": 510
        },
        "outputId": "7b5a11e5-1124-47e1-9bb5-2e407b741549"
      },
      "execution_count": 79,
      "outputs": [
        {
          "output_type": "display_data",
          "data": {
            "text/plain": [
              "<Figure size 1346.4x595.44 with 1 Axes>"
            ],
            "image/png": "[encoded data removed]"
          },
          "metadata": {}
        }
      ]
    },
    {
      "cell_type": "code",
      "source": [
        "listofcolumstoplot2 = ['BasisSet' , 'CCSD',\t'CCSDT'\t, 'CCSDT_G']\n",
        "for aDMFunctionalvalue in list(dm21.Functional):\n",
        "  colname = 'NN-'+ str(aDMFunctionalvalue)\n",
        "  listofcolumstoplot2.append(colname)\n",
        "\n",
        "\n",
        "for afunctionals in functionalsList:\n",
        "  colname = 'DFT-'+str(afunctionals)\n",
        "  listofcolumstoplot2.append(colname)\n",
        "\n",
        "\n",
        "listofcolumstoplot2"
      ],
      "metadata": {
        "id": "LshCgZ1FaTik",
        "colab": {
          "base_uri": "https://localhost:8080/"
        },
        "outputId": "be8113ee-fcb2-483d-a73d-feba770809d6"
      },
      "execution_count": 80,
      "outputs": [
        {
          "output_type": "execute_result",
          "data": {
            "text/plain": [
              "['BasisSet',\n",
              " 'CCSD',\n",
              " 'CCSDT',\n",
              " 'CCSDT_G',\n",
              " 'NN-Functional.DM21',\n",
              " 'NN-Functional.DM21m',\n",
              " 'NN-Functional.DM21mc',\n",
              " 'NN-Functional.DM21mu',\n",
              " 'DFT-b3lyp',\n",
              " 'DFT-M06-2X',\n",
              " 'DFT-SCAN',\n",
              " 'DFT-wB97X-V',\n",
              " 'DFT-PW6B95',\n",
              " 'DFT-pbe',\n",
              " 'DFT-pbe0']"
            ]
          },
          "metadata": {},
          "execution_count": 80
        }
      ]
    },
    {
      "cell_type": "code",
      "source": [
        "dfplot2 = dfcopy[listofcolumstoplot2]\n",
        "dfplot2"
      ],
      "metadata": {
        "id": "HfRHWIz_acMf",
        "colab": {
          "base_uri": "https://localhost:8080/",
          "height": 253
        },
        "outputId": "6666a672-6bf1-4fa1-fbef-569e4224a1e7"
      },
      "execution_count": 81,
      "outputs": [
        {
          "output_type": "execute_result",
          "data": {
            "text/plain": [
              "    BasisSet        CCSD       CCSDT     CCSDT_G  NN-Functional.DM21  \\\n",
              "0    cc-pVQZ -150.161426 -150.187153 -150.187153         -150.268149   \n",
              "1    cc-pVDZ -149.926330 -149.940490 -150.187153         -150.206984   \n",
              "2  def2-QZVP -150.152191 -150.177754 -150.187153         -150.271332   \n",
              "3      6-31g -149.728536 -149.738030 -150.187153         -150.144499   \n",
              "\n",
              "   NN-Functional.DM21m  NN-Functional.DM21mc  NN-Functional.DM21mu  \\\n",
              "0          -150.270034           -150.277448           -150.274175   \n",
              "1          -150.206824           -150.214072           -150.211938   \n",
              "2          -150.274009           -150.280066           -150.277928   \n",
              "3          -150.144054           -150.150943           -150.148047   \n",
              "\n",
              "    DFT-b3lyp  DFT-M06-2X    DFT-SCAN  DFT-wB97X-V  DFT-PW6B95     DFT-pbe  \\\n",
              "0 -150.270957 -150.269394 -150.271567  -150.348678 -150.491988 -150.190956   \n",
              "1 -150.210599 -150.215780 -150.213758  -150.290758 -150.433888 -150.130754   \n",
              "2 -150.274482 -150.275009 -150.274755  -150.351932 -150.495450 -150.194901   \n",
              "3 -150.145095 -150.139950 -150.148146  -150.221789 -150.365711 -150.066632   \n",
              "\n",
              "     DFT-pbe0  \n",
              "0 -150.172369  \n",
              "1 -150.114853  \n",
              "2 -150.175515  \n",
              "3 -150.046175  "
            ],
            "text/html": [
              "\n",
              "  <div id=\"df-e462d8a8-8e9d-456d-90d8-d0af9e2660f0\">\n",
              "    <div class=\"colab-df-container\">\n",
              "      <div>\n",
              "<style scoped>\n",
              "    .dataframe tbody tr th:only-of-type {\n",
              "        vertical-align: middle;\n",
              "    }\n",
              "\n",
              "    .dataframe tbody tr th {\n",
              "        vertical-align: top;\n",
              "    }\n",
              "\n",
              "    .dataframe thead th {\n",
              "        text-align: right;\n",
              "    }\n",
              "</style>\n",
              "<table border=\"1\" class=\"dataframe\">\n",
              "  <thead>\n",
              "    <tr style=\"text-align: right;\">\n",
              "      <th></th>\n",
              "      <th>BasisSet</th>\n",
              "      <th>CCSD</th>\n",
              "      <th>CCSDT</th>\n",
              "      <th>CCSDT_G</th>\n",
              "      <th>NN-Functional.DM21</th>\n",
              "      <th>NN-Functional.DM21m</th>\n",
              "      <th>NN-Functional.DM21mc</th>\n",
              "      <th>NN-Functional.DM21mu</th>\n",
              "      <th>DFT-b3lyp</th>\n",
              "      <th>DFT-M06-2X</th>\n",
              "      <th>DFT-SCAN</th>\n",
              "      <th>DFT-wB97X-V</th>\n",
              "      <th>DFT-PW6B95</th>\n",
              "      <th>DFT-pbe</th>\n",
              "      <th>DFT-pbe0</th>\n",
              "    </tr>\n",
              "  </thead>\n",
              "  <tbody>\n",
              "    <tr>\n",
              "      <th>0</th>\n",
              "      <td>cc-pVQZ</td>\n",
              "      <td>-150.161426</td>\n",
              "      <td>-150.187153</td>\n",
              "      <td>-150.187153</td>\n",
              "      <td>-150.268149</td>\n",
              "      <td>-150.270034</td>\n",
              "      <td>-150.277448</td>\n",
              "      <td>-150.274175</td>\n",
              "      <td>-150.270957</td>\n",
              "      <td>-150.269394</td>\n",
              "      <td>-150.271567</td>\n",
              "      <td>-150.348678</td>\n",
              "      <td>-150.491988</td>\n",
              "      <td>-150.190956</td>\n",
              "      <td>-150.172369</td>\n",
              "    </tr>\n",
              "    <tr>\n",
              "      <th>1</th>\n",
              "      <td>cc-pVDZ</td>\n",
              "      <td>-149.926330</td>\n",
              "      <td>-149.940490</td>\n",
              "      <td>-150.187153</td>\n",
              "      <td>-150.206984</td>\n",
              "      <td>-150.206824</td>\n",
              "      <td>-150.214072</td>\n",
              "      <td>-150.211938</td>\n",
              "      <td>-150.210599</td>\n",
              "      <td>-150.215780</td>\n",
              "      <td>-150.213758</td>\n",
              "      <td>-150.290758</td>\n",
              "      <td>-150.433888</td>\n",
              "      <td>-150.130754</td>\n",
              "      <td>-150.114853</td>\n",
              "    </tr>\n",
              "    <tr>\n",
              "      <th>2</th>\n",
              "      <td>def2-QZVP</td>\n",
              "      <td>-150.152191</td>\n",
              "      <td>-150.177754</td>\n",
              "      <td>-150.187153</td>\n",
              "      <td>-150.271332</td>\n",
              "      <td>-150.274009</td>\n",
              "      <td>-150.280066</td>\n",
              "      <td>-150.277928</td>\n",
              "      <td>-150.274482</td>\n",
              "      <td>-150.275009</td>\n",
              "      <td>-150.274755</td>\n",
              "      <td>-150.351932</td>\n",
              "      <td>-150.495450</td>\n",
              "      <td>-150.194901</td>\n",
              "      <td>-150.175515</td>\n",
              "    </tr>\n",
              "    <tr>\n",
              "      <th>3</th>\n",
              "      <td>6-31g</td>\n",
              "      <td>-149.728536</td>\n",
              "      <td>-149.738030</td>\n",
              "      <td>-150.187153</td>\n",
              "      <td>-150.144499</td>\n",
              "      <td>-150.144054</td>\n",
              "      <td>-150.150943</td>\n",
              "      <td>-150.148047</td>\n",
              "      <td>-150.145095</td>\n",
              "      <td>-150.139950</td>\n",
              "      <td>-150.148146</td>\n",
              "      <td>-150.221789</td>\n",
              "      <td>-150.365711</td>\n",
              "      <td>-150.066632</td>\n",
              "      <td>-150.046175</td>\n",
              "    </tr>\n",
              "  </tbody>\n",
              "</table>\n",
              "</div>\n",
              "      <button class=\"colab-df-convert\" onclick=\"convertToInteractive('df-e462d8a8-8e9d-456d-90d8-d0af9e2660f0')\"\n",
              "              title=\"Convert this dataframe to an interactive table.\"\n",
              "              style=\"display:none;\">\n",
              "        \n",
              "  <svg xmlns=\"http://www.w3.org/2000/svg\" height=\"24px\"viewBox=\"0 0 24 24\"\n",
              "       width=\"24px\">\n",
              "    <path d=\"M0 0h24v24H0V0z\" fill=\"none\"/>\n",
              "    <path d=\"M18.56 5.44l.94 2.06.94-2.06 2.06-.94-2.06-.94-.94-2.06-.94 2.06-2.06.94zm-11 1L8.5 8.5l.94-2.06 2.06-.94-2.06-.94L8.5 2.5l-.94 2.06-2.06.94zm10 10l.94 2.06.94-2.06 2.06-.94-2.06-.94-.94-2.06-.94 2.06-2.06.94z\"/><path d=\"M17.41 7.96l-1.37-1.37c-.4-.4-.92-.59-1.43-.59-.52 0-1.04.2-1.43.59L10.3 9.45l-7.72 7.72c-.78.78-.78 2.05 0 2.83L4 21.41c.39.39.9.59 1.41.59.51 0 1.02-.2 1.41-.59l7.78-7.78 2.81-2.81c.8-.78.8-2.07 0-2.86zM5.41 20L4 18.59l7.72-7.72 1.47 1.35L5.41 20z\"/>\n",
              "  </svg>\n",
              "      </button>\n",
              "      \n",
              "  <style>\n",
              "    .colab-df-container {\n",
              "      display:flex;\n",
              "      flex-wrap:wrap;\n",
              "      gap: 12px;\n",
              "    }\n",
              "\n",
              "    .colab-df-convert {\n",
              "      background-color: #E8F0FE;\n",
              "      border: none;\n",
              "      border-radius: 50%;\n",
              "      cursor: pointer;\n",
              "      display: none;\n",
              "      fill: #1967D2;\n",
              "      height: 32px;\n",
              "      padding: 0 0 0 0;\n",
              "      width: 32px;\n",
              "    }\n",
              "\n",
              "    .colab-df-convert:hover {\n",
              "      background-color: #E2EBFA;\n",
              "      box-shadow: 0px 1px 2px rgba(60, 64, 67, 0.3), 0px 1px 3px 1px rgba(60, 64, 67, 0.15);\n",
              "      fill: #174EA6;\n",
              "    }\n",
              "\n",
              "    [theme=dark] .colab-df-convert {\n",
              "      background-color: #3B4455;\n",
              "      fill: #D2E3FC;\n",
              "    }\n",
              "\n",
              "    [theme=dark] .colab-df-convert:hover {\n",
              "      background-color: #434B5C;\n",
              "      box-shadow: 0px 1px 3px 1px rgba(0, 0, 0, 0.15);\n",
              "      filter: drop-shadow(0px 1px 2px rgba(0, 0, 0, 0.3));\n",
              "      fill: #FFFFFF;\n",
              "    }\n",
              "  </style>\n",
              "\n",
              "      <script>\n",
              "        const buttonEl =\n",
              "          document.querySelector('#df-e462d8a8-8e9d-456d-90d8-d0af9e2660f0 button.colab-df-convert');\n",
              "        buttonEl.style.display =\n",
              "          google.colab.kernel.accessAllowed ? 'block' : 'none';\n",
              "\n",
              "        async function convertToInteractive(key) {\n",
              "          const element = document.querySelector('#df-e462d8a8-8e9d-456d-90d8-d0af9e2660f0');\n",
              "          const dataTable =\n",
              "            await google.colab.kernel.invokeFunction('convertToInteractive',\n",
              "                                                     [key], {});\n",
              "          if (!dataTable) return;\n",
              "\n",
              "          const docLinkHtml = 'Like what you see? Visit the ' +\n",
              "            '<a target=\"_blank\" href=https://colab.research.google.com/notebooks/data_table.ipynb>data table notebook</a>'\n",
              "            + ' to learn more about interactive tables.';\n",
              "          element.innerHTML = '';\n",
              "          dataTable['output_type'] = 'display_data';\n",
              "          await google.colab.output.renderOutput(dataTable, element);\n",
              "          const docLink = document.createElement('div');\n",
              "          docLink.innerHTML = docLinkHtml;\n",
              "          element.appendChild(docLink);\n",
              "        }\n",
              "      </script>\n",
              "    </div>\n",
              "  </div>\n",
              "  "
            ]
          },
          "metadata": {},
          "execution_count": 81
        }
      ]
    },
    {
      "cell_type": "code",
      "source": [
        "dfplot2.min(axis =1, numeric_only=True).min()"
      ],
      "metadata": {
        "id": "R4rN8VVjepT4",
        "colab": {
          "base_uri": "https://localhost:8080/"
        },
        "outputId": "b79343ef-c20d-4912-a78b-30513e0421c5"
      },
      "execution_count": 82,
      "outputs": [
        {
          "output_type": "execute_result",
          "data": {
            "text/plain": [
              "-150.49544971349872"
            ]
          },
          "metadata": {},
          "execution_count": 82
        }
      ]
    },
    {
      "cell_type": "code",
      "source": [
        "dfplot2.max(axis =1, numeric_only=True).max()"
      ],
      "metadata": {
        "id": "vQnzioiglZq-",
        "colab": {
          "base_uri": "https://localhost:8080/"
        },
        "outputId": "9f41310c-9920-4009-8a93-ee48015e8f49"
      },
      "execution_count": 83,
      "outputs": [
        {
          "output_type": "execute_result",
          "data": {
            "text/plain": [
              "-149.72853565163146"
            ]
          },
          "metadata": {},
          "execution_count": 83
        }
      ]
    },
    {
      "cell_type": "code",
      "source": [
        " from matplotlib import pyplot\n",
        "import seaborn\n",
        "\n",
        " \n",
        "\n",
        "chartsize = (18.7, 16.27)\n",
        "\n",
        "sns.set_style(\"whitegrid\")\n",
        "sns.set(font_scale=1.5)\n",
        "\n",
        "#fig, ax = pyplot.subplots(figsize=chartsize)\n",
        "#ax.set_xlim(dfplot2.min(axis =1, numeric_only=True).min(), dfplot2.max(axis =1, numeric_only=True).max() )\n",
        "sns.catplot( orient='h' ,    data=dfplot ,  col=\"BasisSet\")\n"
      ],
      "metadata": {
        "id": "GfJr-vARt8Fw",
        "colab": {
          "base_uri": "https://localhost:8080/",
          "height": 370
        },
        "outputId": "64452e36-0141-4692-a61d-886b85bd6e6a"
      },
      "execution_count": 84,
      "outputs": [
        {
          "output_type": "execute_result",
          "data": {
            "text/plain": [
              "<seaborn.axisgrid.FacetGrid at 0x7fbce1b45f50>"
            ]
          },
          "metadata": {},
          "execution_count": 84
        },
        {
          "output_type": "display_data",
          "data": {
            "text/plain": [
              "<Figure size 1440x360 with 4 Axes>"
            ],
            "image/png": "[encoded data removed]"
          },
          "metadata": {}
        }
      ]
    },
    {
      "cell_type": "code",
      "source": [
        "chartsize = (18.7, 16.27)\n",
        "\n",
        "sns.set_style(\"whitegrid\")\n",
        "sns.set(font_scale=1.5)\n",
        "\n",
        "#ax.set_xlim(dfplot2.min(axis =1, numeric_only=True).min(), dfplot2.max(axis =1, numeric_only=True).max() )\n",
        "sns.catplot( orient='h' ,    data=dfplot  )"
      ],
      "metadata": {
        "id": "jAH-QpfNvJPU",
        "colab": {
          "base_uri": "https://localhost:8080/",
          "height": 370
        },
        "outputId": "c4ff7720-9a65-41ee-835d-171eeebf05a2"
      },
      "execution_count": 85,
      "outputs": [
        {
          "output_type": "execute_result",
          "data": {
            "text/plain": [
              "<seaborn.axisgrid.FacetGrid at 0x7fbcf64e46d0>"
            ]
          },
          "metadata": {},
          "execution_count": 85
        },
        {
          "output_type": "display_data",
          "data": {
            "text/plain": [
              "<Figure size 360x360 with 1 Axes>"
            ],
            "image/png": "[encoded data removed]"
          },
          "metadata": {}
        }
      ]
    },
    {
      "cell_type": "code",
      "source": [
        "from matplotlib import pyplot\n",
        "import seaborn\n",
        "\n",
        " \n",
        "\n",
        "chartsize = (18.7, 16.27)\n",
        "\n",
        "sns.set_style(\"whitegrid\")\n",
        "sns.set(font_scale=1.5)\n",
        "\n",
        "#fig, ax = pyplot.subplots(figsize=chartsize)\n",
        "#ax.set_xlim(dfplot2.min(axis =1, numeric_only=True).min(), dfplot2.max(axis =1, numeric_only=True).max() )\n",
        "sns.catplot( orient='h' ,    data=dfplot2 ,  col=\"BasisSet\")\n"
      ],
      "metadata": {
        "id": "k_PzVqrrajoc",
        "colab": {
          "base_uri": "https://localhost:8080/",
          "height": 370
        },
        "outputId": "dae6a7ee-9d7d-4c35-cf67-412baaebd7de"
      },
      "execution_count": 86,
      "outputs": [
        {
          "output_type": "execute_result",
          "data": {
            "text/plain": [
              "<seaborn.axisgrid.FacetGrid at 0x7fbce124add0>"
            ]
          },
          "metadata": {},
          "execution_count": 86
        },
        {
          "output_type": "display_data",
          "data": {
            "text/plain": [
              "<Figure size 1440x360 with 4 Axes>"
            ],
            "image/png": "[encoded data removed]"
          },
          "metadata": {}
        }
      ]
    },
    {
      "cell_type": "code",
      "source": [
        "from matplotlib import pyplot\n",
        "import seaborn\n",
        "\n",
        "sns.set_style(\"white\")\n",
        "sns.set_style(\"whitegrid\")\n",
        "\n",
        "\n",
        "\n",
        "#sns.color_palette(\"hls\", 4)\n",
        "sns.color_palette(\"viridis\", as_cmap=True)\n",
        "sns.color_palette(\"Paired\")\n",
        "\n",
        "\n",
        "chartsize = (18.7, 8.27)\n",
        "\n",
        "fig, ax = pyplot.subplots(figsize=chartsize)\n",
        "sns.set(font_scale=2)\n",
        "sns.axes_style()\n",
        "\n",
        "sns.set_style(\"darkgrid\", {\"axes.facecolor\": \".3\"})\n",
        "\n",
        "#sns.barplot( orient='h' ,    data=dfplot2)\n"
      ],
      "metadata": {
        "id": "9SB5DjnLteQC",
        "colab": {
          "base_uri": "https://localhost:8080/",
          "height": 515
        },
        "outputId": "df1f501c-ff37-4a63-8b1c-f0532f46dd45"
      },
      "execution_count": 87,
      "outputs": [
        {
          "output_type": "display_data",
          "data": {
            "text/plain": [
              "<Figure size 1346.4x595.44 with 1 Axes>"
            ],
            "image/png": "[encoded data removed]"
          },
          "metadata": {}
        }
      ]
    },
    {
      "cell_type": "code",
      "source": [
        "dfplotMain1 = df[listofcolumstoplot]"
      ],
      "metadata": {
        "id": "vILPzITRnKiI"
      },
      "execution_count": 88,
      "outputs": []
    },
    {
      "cell_type": "code",
      "source": [
        "listofcolumstoplot2"
      ],
      "metadata": {
        "colab": {
          "base_uri": "https://localhost:8080/"
        },
        "id": "TfopnW5gn-sv",
        "outputId": "daf010d0-e35b-4907-d6fd-ebda87943c7d"
      },
      "execution_count": 89,
      "outputs": [
        {
          "output_type": "execute_result",
          "data": {
            "text/plain": [
              "['BasisSet',\n",
              " 'CCSD',\n",
              " 'CCSDT',\n",
              " 'CCSDT_G',\n",
              " 'NN-Functional.DM21',\n",
              " 'NN-Functional.DM21m',\n",
              " 'NN-Functional.DM21mc',\n",
              " 'NN-Functional.DM21mu',\n",
              " 'DFT-b3lyp',\n",
              " 'DFT-M06-2X',\n",
              " 'DFT-SCAN',\n",
              " 'DFT-wB97X-V',\n",
              " 'DFT-PW6B95',\n",
              " 'DFT-pbe',\n",
              " 'DFT-pbe0']"
            ]
          },
          "metadata": {},
          "execution_count": 89
        }
      ]
    },
    {
      "cell_type": "code",
      "source": [
        "listofcolumstoplot2.remove('CCSDT_G')\n"
      ],
      "metadata": {
        "id": "kEw9m5_ToFgV"
      },
      "execution_count": 90,
      "outputs": []
    },
    {
      "cell_type": "code",
      "source": [
        " \n",
        "dfplotMain2 = df[listofcolumstoplot2 ]\n",
        "dfplotMain2"
      ],
      "metadata": {
        "colab": {
          "base_uri": "https://localhost:8080/",
          "height": 219
        },
        "id": "PzvA6XwunrOT",
        "outputId": "0384e576-d037-415f-d683-58282949c5f3"
      },
      "execution_count": 91,
      "outputs": [
        {
          "output_type": "execute_result",
          "data": {
            "text/plain": [
              "    BasisSet        CCSD       CCSDT  NN-Functional.DM21  NN-Functional.DM21m  \\\n",
              "0    cc-pVQZ -150.161426 -150.187153         -150.268149          -150.270034   \n",
              "1    cc-pVDZ -149.926330 -149.940490         -150.206984          -150.206824   \n",
              "2  def2-QZVP -150.152191 -150.177754         -150.271332          -150.274009   \n",
              "3      6-31g -149.728536 -149.738030         -150.144499          -150.144054   \n",
              "\n",
              "   NN-Functional.DM21mc  NN-Functional.DM21mu   DFT-b3lyp  DFT-M06-2X  \\\n",
              "0           -150.277448           -150.274175 -150.270957 -150.269394   \n",
              "1           -150.214072           -150.211938 -150.210599 -150.215780   \n",
              "2           -150.280066           -150.277928 -150.274482 -150.275009   \n",
              "3           -150.150943           -150.148047 -150.145095 -150.139950   \n",
              "\n",
              "     DFT-SCAN  DFT-wB97X-V  DFT-PW6B95     DFT-pbe    DFT-pbe0  \n",
              "0 -150.271567  -150.348678 -150.491988 -150.190956 -150.172369  \n",
              "1 -150.213758  -150.290758 -150.433888 -150.130754 -150.114853  \n",
              "2 -150.274755  -150.351932 -150.495450 -150.194901 -150.175515  \n",
              "3 -150.148146  -150.221789 -150.365711 -150.066632 -150.046175  "
            ],
            "text/html": [
              "\n",
              "  <div id=\"df-154a7728-16c5-4535-bb5c-625669d8d4a7\">\n",
              "    <div class=\"colab-df-container\">\n",
              "      <div>\n",
              "<style scoped>\n",
              "    .dataframe tbody tr th:only-of-type {\n",
              "        vertical-align: middle;\n",
              "    }\n",
              "\n",
              "    .dataframe tbody tr th {\n",
              "        vertical-align: top;\n",
              "    }\n",
              "\n",
              "    .dataframe thead th {\n",
              "        text-align: right;\n",
              "    }\n",
              "</style>\n",
              "<table border=\"1\" class=\"dataframe\">\n",
              "  <thead>\n",
              "    <tr style=\"text-align: right;\">\n",
              "      <th></th>\n",
              "      <th>BasisSet</th>\n",
              "      <th>CCSD</th>\n",
              "      <th>CCSDT</th>\n",
              "      <th>NN-Functional.DM21</th>\n",
              "      <th>NN-Functional.DM21m</th>\n",
              "      <th>NN-Functional.DM21mc</th>\n",
              "      <th>NN-Functional.DM21mu</th>\n",
              "      <th>DFT-b3lyp</th>\n",
              "      <th>DFT-M06-2X</th>\n",
              "      <th>DFT-SCAN</th>\n",
              "      <th>DFT-wB97X-V</th>\n",
              "      <th>DFT-PW6B95</th>\n",
              "      <th>DFT-pbe</th>\n",
              "      <th>DFT-pbe0</th>\n",
              "    </tr>\n",
              "  </thead>\n",
              "  <tbody>\n",
              "    <tr>\n",
              "      <th>0</th>\n",
              "      <td>cc-pVQZ</td>\n",
              "      <td>-150.161426</td>\n",
              "      <td>-150.187153</td>\n",
              "      <td>-150.268149</td>\n",
              "      <td>-150.270034</td>\n",
              "      <td>-150.277448</td>\n",
              "      <td>-150.274175</td>\n",
              "      <td>-150.270957</td>\n",
              "      <td>-150.269394</td>\n",
              "      <td>-150.271567</td>\n",
              "      <td>-150.348678</td>\n",
              "      <td>-150.491988</td>\n",
              "      <td>-150.190956</td>\n",
              "      <td>-150.172369</td>\n",
              "    </tr>\n",
              "    <tr>\n",
              "      <th>1</th>\n",
              "      <td>cc-pVDZ</td>\n",
              "      <td>-149.926330</td>\n",
              "      <td>-149.940490</td>\n",
              "      <td>-150.206984</td>\n",
              "      <td>-150.206824</td>\n",
              "      <td>-150.214072</td>\n",
              "      <td>-150.211938</td>\n",
              "      <td>-150.210599</td>\n",
              "      <td>-150.215780</td>\n",
              "      <td>-150.213758</td>\n",
              "      <td>-150.290758</td>\n",
              "      <td>-150.433888</td>\n",
              "      <td>-150.130754</td>\n",
              "      <td>-150.114853</td>\n",
              "    </tr>\n",
              "    <tr>\n",
              "      <th>2</th>\n",
              "      <td>def2-QZVP</td>\n",
              "      <td>-150.152191</td>\n",
              "      <td>-150.177754</td>\n",
              "      <td>-150.271332</td>\n",
              "      <td>-150.274009</td>\n",
              "      <td>-150.280066</td>\n",
              "      <td>-150.277928</td>\n",
              "      <td>-150.274482</td>\n",
              "      <td>-150.275009</td>\n",
              "      <td>-150.274755</td>\n",
              "      <td>-150.351932</td>\n",
              "      <td>-150.495450</td>\n",
              "      <td>-150.194901</td>\n",
              "      <td>-150.175515</td>\n",
              "    </tr>\n",
              "    <tr>\n",
              "      <th>3</th>\n",
              "      <td>6-31g</td>\n",
              "      <td>-149.728536</td>\n",
              "      <td>-149.738030</td>\n",
              "      <td>-150.144499</td>\n",
              "      <td>-150.144054</td>\n",
              "      <td>-150.150943</td>\n",
              "      <td>-150.148047</td>\n",
              "      <td>-150.145095</td>\n",
              "      <td>-150.139950</td>\n",
              "      <td>-150.148146</td>\n",
              "      <td>-150.221789</td>\n",
              "      <td>-150.365711</td>\n",
              "      <td>-150.066632</td>\n",
              "      <td>-150.046175</td>\n",
              "    </tr>\n",
              "  </tbody>\n",
              "</table>\n",
              "</div>\n",
              "      <button class=\"colab-df-convert\" onclick=\"convertToInteractive('df-154a7728-16c5-4535-bb5c-625669d8d4a7')\"\n",
              "              title=\"Convert this dataframe to an interactive table.\"\n",
              "              style=\"display:none;\">\n",
              "        \n",
              "  <svg xmlns=\"http://www.w3.org/2000/svg\" height=\"24px\"viewBox=\"0 0 24 24\"\n",
              "       width=\"24px\">\n",
              "    <path d=\"M0 0h24v24H0V0z\" fill=\"none\"/>\n",
              "    <path d=\"M18.56 5.44l.94 2.06.94-2.06 2.06-.94-2.06-.94-.94-2.06-.94 2.06-2.06.94zm-11 1L8.5 8.5l.94-2.06 2.06-.94-2.06-.94L8.5 2.5l-.94 2.06-2.06.94zm10 10l.94 2.06.94-2.06 2.06-.94-2.06-.94-.94-2.06-.94 2.06-2.06.94z\"/><path d=\"M17.41 7.96l-1.37-1.37c-.4-.4-.92-.59-1.43-.59-.52 0-1.04.2-1.43.59L10.3 9.45l-7.72 7.72c-.78.78-.78 2.05 0 2.83L4 21.41c.39.39.9.59 1.41.59.51 0 1.02-.2 1.41-.59l7.78-7.78 2.81-2.81c.8-.78.8-2.07 0-2.86zM5.41 20L4 18.59l7.72-7.72 1.47 1.35L5.41 20z\"/>\n",
              "  </svg>\n",
              "      </button>\n",
              "      \n",
              "  <style>\n",
              "    .colab-df-container {\n",
              "      display:flex;\n",
              "      flex-wrap:wrap;\n",
              "      gap: 12px;\n",
              "    }\n",
              "\n",
              "    .colab-df-convert {\n",
              "      background-color: #E8F0FE;\n",
              "      border: none;\n",
              "      border-radius: 50%;\n",
              "      cursor: pointer;\n",
              "      display: none;\n",
              "      fill: #1967D2;\n",
              "      height: 32px;\n",
              "      padding: 0 0 0 0;\n",
              "      width: 32px;\n",
              "    }\n",
              "\n",
              "    .colab-df-convert:hover {\n",
              "      background-color: #E2EBFA;\n",
              "      box-shadow: 0px 1px 2px rgba(60, 64, 67, 0.3), 0px 1px 3px 1px rgba(60, 64, 67, 0.15);\n",
              "      fill: #174EA6;\n",
              "    }\n",
              "\n",
              "    [theme=dark] .colab-df-convert {\n",
              "      background-color: #3B4455;\n",
              "      fill: #D2E3FC;\n",
              "    }\n",
              "\n",
              "    [theme=dark] .colab-df-convert:hover {\n",
              "      background-color: #434B5C;\n",
              "      box-shadow: 0px 1px 3px 1px rgba(0, 0, 0, 0.15);\n",
              "      filter: drop-shadow(0px 1px 2px rgba(0, 0, 0, 0.3));\n",
              "      fill: #FFFFFF;\n",
              "    }\n",
              "  </style>\n",
              "\n",
              "      <script>\n",
              "        const buttonEl =\n",
              "          document.querySelector('#df-154a7728-16c5-4535-bb5c-625669d8d4a7 button.colab-df-convert');\n",
              "        buttonEl.style.display =\n",
              "          google.colab.kernel.accessAllowed ? 'block' : 'none';\n",
              "\n",
              "        async function convertToInteractive(key) {\n",
              "          const element = document.querySelector('#df-154a7728-16c5-4535-bb5c-625669d8d4a7');\n",
              "          const dataTable =\n",
              "            await google.colab.kernel.invokeFunction('convertToInteractive',\n",
              "                                                     [key], {});\n",
              "          if (!dataTable) return;\n",
              "\n",
              "          const docLinkHtml = 'Like what you see? Visit the ' +\n",
              "            '<a target=\"_blank\" href=https://colab.research.google.com/notebooks/data_table.ipynb>data table notebook</a>'\n",
              "            + ' to learn more about interactive tables.';\n",
              "          element.innerHTML = '';\n",
              "          dataTable['output_type'] = 'display_data';\n",
              "          await google.colab.output.renderOutput(dataTable, element);\n",
              "          const docLink = document.createElement('div');\n",
              "          docLink.innerHTML = docLinkHtml;\n",
              "          element.appendChild(docLink);\n",
              "        }\n",
              "      </script>\n",
              "    </div>\n",
              "  </div>\n",
              "  "
            ]
          },
          "metadata": {},
          "execution_count": 91
        }
      ]
    },
    {
      "cell_type": "code",
      "source": [
        "dfplotMain1"
      ],
      "metadata": {
        "colab": {
          "base_uri": "https://localhost:8080/",
          "height": 175
        },
        "id": "kArw80GQnMg-",
        "outputId": "e16e1ae9-da75-4de0-afef-b6c53496a104"
      },
      "execution_count": 92,
      "outputs": [
        {
          "output_type": "execute_result",
          "data": {
            "text/plain": [
              "    BasisSet  M-NN-Functional.DM21  M-NN-Functional.DM21m  \\\n",
              "0    cc-pVQZ              0.080996               0.082881   \n",
              "1    cc-pVDZ              0.266494               0.266333   \n",
              "2  def2-QZVP              0.093578               0.096255   \n",
              "3      6-31g              0.406469               0.406024   \n",
              "\n",
              "   M-NN-Functional.DM21mc  M-NN-Functional.DM21mu  M-DFT-b3lyp  M-DFT-M06-2X  \\\n",
              "0                0.090295                0.087022     0.083804      0.082241   \n",
              "1                0.273581                0.271447     0.270109      0.275290   \n",
              "2                0.102312                0.100174     0.096728      0.097255   \n",
              "3                0.412912                0.410016     0.407064      0.401920   \n",
              "\n",
              "   M-DFT-SCAN  M-DFT-wB97X-V  M-DFT-PW6B95  M-DFT-pbe  M-DFT-pbe0  \n",
              "0    0.084414       0.161525      0.304835   0.003803    0.014784  \n",
              "1    0.273267       0.350268      0.493398   0.190264    0.174363  \n",
              "2    0.097000       0.174178      0.317696   0.017147    0.002239  \n",
              "3    0.410115       0.483759      0.627680   0.328601    0.308144  "
            ],
            "text/html": [
              "\n",
              "  <div id=\"df-79f3c787-7106-438a-b2eb-bd0527e2e46b\">\n",
              "    <div class=\"colab-df-container\">\n",
              "      <div>\n",
              "<style scoped>\n",
              "    .dataframe tbody tr th:only-of-type {\n",
              "        vertical-align: middle;\n",
              "    }\n",
              "\n",
              "    .dataframe tbody tr th {\n",
              "        vertical-align: top;\n",
              "    }\n",
              "\n",
              "    .dataframe thead th {\n",
              "        text-align: right;\n",
              "    }\n",
              "</style>\n",
              "<table border=\"1\" class=\"dataframe\">\n",
              "  <thead>\n",
              "    <tr style=\"text-align: right;\">\n",
              "      <th></th>\n",
              "      <th>BasisSet</th>\n",
              "      <th>M-NN-Functional.DM21</th>\n",
              "      <th>M-NN-Functional.DM21m</th>\n",
              "      <th>M-NN-Functional.DM21mc</th>\n",
              "      <th>M-NN-Functional.DM21mu</th>\n",
              "      <th>M-DFT-b3lyp</th>\n",
              "      <th>M-DFT-M06-2X</th>\n",
              "      <th>M-DFT-SCAN</th>\n",
              "      <th>M-DFT-wB97X-V</th>\n",
              "      <th>M-DFT-PW6B95</th>\n",
              "      <th>M-DFT-pbe</th>\n",
              "      <th>M-DFT-pbe0</th>\n",
              "    </tr>\n",
              "  </thead>\n",
              "  <tbody>\n",
              "    <tr>\n",
              "      <th>0</th>\n",
              "      <td>cc-pVQZ</td>\n",
              "      <td>0.080996</td>\n",
              "      <td>0.082881</td>\n",
              "      <td>0.090295</td>\n",
              "      <td>0.087022</td>\n",
              "      <td>0.083804</td>\n",
              "      <td>0.082241</td>\n",
              "      <td>0.084414</td>\n",
              "      <td>0.161525</td>\n",
              "      <td>0.304835</td>\n",
              "      <td>0.003803</td>\n",
              "      <td>0.014784</td>\n",
              "    </tr>\n",
              "    <tr>\n",
              "      <th>1</th>\n",
              "      <td>cc-pVDZ</td>\n",
              "      <td>0.266494</td>\n",
              "      <td>0.266333</td>\n",
              "      <td>0.273581</td>\n",
              "      <td>0.271447</td>\n",
              "      <td>0.270109</td>\n",
              "      <td>0.275290</td>\n",
              "      <td>0.273267</td>\n",
              "      <td>0.350268</td>\n",
              "      <td>0.493398</td>\n",
              "      <td>0.190264</td>\n",
              "      <td>0.174363</td>\n",
              "    </tr>\n",
              "    <tr>\n",
              "      <th>2</th>\n",
              "      <td>def2-QZVP</td>\n",
              "      <td>0.093578</td>\n",
              "      <td>0.096255</td>\n",
              "      <td>0.102312</td>\n",
              "      <td>0.100174</td>\n",
              "      <td>0.096728</td>\n",
              "      <td>0.097255</td>\n",
              "      <td>0.097000</td>\n",
              "      <td>0.174178</td>\n",
              "      <td>0.317696</td>\n",
              "      <td>0.017147</td>\n",
              "      <td>0.002239</td>\n",
              "    </tr>\n",
              "    <tr>\n",
              "      <th>3</th>\n",
              "      <td>6-31g</td>\n",
              "      <td>0.406469</td>\n",
              "      <td>0.406024</td>\n",
              "      <td>0.412912</td>\n",
              "      <td>0.410016</td>\n",
              "      <td>0.407064</td>\n",
              "      <td>0.401920</td>\n",
              "      <td>0.410115</td>\n",
              "      <td>0.483759</td>\n",
              "      <td>0.627680</td>\n",
              "      <td>0.328601</td>\n",
              "      <td>0.308144</td>\n",
              "    </tr>\n",
              "  </tbody>\n",
              "</table>\n",
              "</div>\n",
              "      <button class=\"colab-df-convert\" onclick=\"convertToInteractive('df-79f3c787-7106-438a-b2eb-bd0527e2e46b')\"\n",
              "              title=\"Convert this dataframe to an interactive table.\"\n",
              "              style=\"display:none;\">\n",
              "        \n",
              "  <svg xmlns=\"http://www.w3.org/2000/svg\" height=\"24px\"viewBox=\"0 0 24 24\"\n",
              "       width=\"24px\">\n",
              "    <path d=\"M0 0h24v24H0V0z\" fill=\"none\"/>\n",
              "    <path d=\"M18.56 5.44l.94 2.06.94-2.06 2.06-.94-2.06-.94-.94-2.06-.94 2.06-2.06.94zm-11 1L8.5 8.5l.94-2.06 2.06-.94-2.06-.94L8.5 2.5l-.94 2.06-2.06.94zm10 10l.94 2.06.94-2.06 2.06-.94-2.06-.94-.94-2.06-.94 2.06-2.06.94z\"/><path d=\"M17.41 7.96l-1.37-1.37c-.4-.4-.92-.59-1.43-.59-.52 0-1.04.2-1.43.59L10.3 9.45l-7.72 7.72c-.78.78-.78 2.05 0 2.83L4 21.41c.39.39.9.59 1.41.59.51 0 1.02-.2 1.41-.59l7.78-7.78 2.81-2.81c.8-.78.8-2.07 0-2.86zM5.41 20L4 18.59l7.72-7.72 1.47 1.35L5.41 20z\"/>\n",
              "  </svg>\n",
              "      </button>\n",
              "      \n",
              "  <style>\n",
              "    .colab-df-container {\n",
              "      display:flex;\n",
              "      flex-wrap:wrap;\n",
              "      gap: 12px;\n",
              "    }\n",
              "\n",
              "    .colab-df-convert {\n",
              "      background-color: #E8F0FE;\n",
              "      border: none;\n",
              "      border-radius: 50%;\n",
              "      cursor: pointer;\n",
              "      display: none;\n",
              "      fill: #1967D2;\n",
              "      height: 32px;\n",
              "      padding: 0 0 0 0;\n",
              "      width: 32px;\n",
              "    }\n",
              "\n",
              "    .colab-df-convert:hover {\n",
              "      background-color: #E2EBFA;\n",
              "      box-shadow: 0px 1px 2px rgba(60, 64, 67, 0.3), 0px 1px 3px 1px rgba(60, 64, 67, 0.15);\n",
              "      fill: #174EA6;\n",
              "    }\n",
              "\n",
              "    [theme=dark] .colab-df-convert {\n",
              "      background-color: #3B4455;\n",
              "      fill: #D2E3FC;\n",
              "    }\n",
              "\n",
              "    [theme=dark] .colab-df-convert:hover {\n",
              "      background-color: #434B5C;\n",
              "      box-shadow: 0px 1px 3px 1px rgba(0, 0, 0, 0.15);\n",
              "      filter: drop-shadow(0px 1px 2px rgba(0, 0, 0, 0.3));\n",
              "      fill: #FFFFFF;\n",
              "    }\n",
              "  </style>\n",
              "\n",
              "      <script>\n",
              "        const buttonEl =\n",
              "          document.querySelector('#df-79f3c787-7106-438a-b2eb-bd0527e2e46b button.colab-df-convert');\n",
              "        buttonEl.style.display =\n",
              "          google.colab.kernel.accessAllowed ? 'block' : 'none';\n",
              "\n",
              "        async function convertToInteractive(key) {\n",
              "          const element = document.querySelector('#df-79f3c787-7106-438a-b2eb-bd0527e2e46b');\n",
              "          const dataTable =\n",
              "            await google.colab.kernel.invokeFunction('convertToInteractive',\n",
              "                                                     [key], {});\n",
              "          if (!dataTable) return;\n",
              "\n",
              "          const docLinkHtml = 'Like what you see? Visit the ' +\n",
              "            '<a target=\"_blank\" href=https://colab.research.google.com/notebooks/data_table.ipynb>data table notebook</a>'\n",
              "            + ' to learn more about interactive tables.';\n",
              "          element.innerHTML = '';\n",
              "          dataTable['output_type'] = 'display_data';\n",
              "          await google.colab.output.renderOutput(dataTable, element);\n",
              "          const docLink = document.createElement('div');\n",
              "          docLink.innerHTML = docLinkHtml;\n",
              "          element.appendChild(docLink);\n",
              "        }\n",
              "      </script>\n",
              "    </div>\n",
              "  </div>\n",
              "  "
            ]
          },
          "metadata": {},
          "execution_count": 92
        }
      ]
    },
    {
      "cell_type": "code",
      "source": [
        "from matplotlib import pyplot\n",
        "import seaborn\n",
        "\n",
        " \n",
        "\n",
        "chartsize = (18.7, 16.27)\n",
        "\n",
        "sns.set_style(\"whitegrid\")\n",
        "sns.set(font_scale=1.5)\n",
        "\n",
        "#fig, ax = pyplot.subplots(figsize=chartsize)\n",
        "#ax.set_xlim(dfplot2.min(axis =1, numeric_only=True).min(), dfplot2.max(axis =1, numeric_only=True).max() )\n",
        "sns.catplot( orient='h' ,    data=dfplotMain1 ,  col=\"BasisSet\")\n"
      ],
      "metadata": {
        "colab": {
          "base_uri": "https://localhost:8080/",
          "height": 370
        },
        "id": "ea6RvVkgnQ6v",
        "outputId": "ac89c37c-ecc5-4a7b-9283-a61785ccaa5d"
      },
      "execution_count": 93,
      "outputs": [
        {
          "output_type": "execute_result",
          "data": {
            "text/plain": [
              "<seaborn.axisgrid.FacetGrid at 0x7fbd815ab310>"
            ]
          },
          "metadata": {},
          "execution_count": 93
        },
        {
          "output_type": "display_data",
          "data": {
            "text/plain": [
              "<Figure size 1440x360 with 4 Axes>"
            ],
            "image/png": "[encoded data removed]"
          },
          "metadata": {}
        }
      ]
    },
    {
      "cell_type": "code",
      "source": [
        " "
      ],
      "metadata": {
        "id": "NNUQjUojw9RU"
      },
      "execution_count": 93,
      "outputs": []
    },
    {
      "cell_type": "code",
      "source": [
        "from matplotlib import pyplot\n",
        "import seaborn\n",
        "\n",
        " \n",
        "\n",
        "chartsize = (28.7, 26.27)\n",
        "\n",
        "sns.set_style(\"whitegrid\")\n",
        "sns.set(font_scale=1.5)\n",
        "\n",
        "#fig, ax = pyplot.subplots(figsize=chartsize)\n",
        "#ax.set_xlim(dfplot2.min(axis =1, numeric_only=True).min(), dfplot2.max(axis =1, numeric_only=True).max() )\n",
        "sns.catplot( orient='h' ,    data=dfplotMain2 ,  col=\"BasisSet\")\n"
      ],
      "metadata": {
        "colab": {
          "base_uri": "https://localhost:8080/",
          "height": 370
        },
        "id": "G1xQ05xYoRC4",
        "outputId": "66945424-2774-4458-cb3f-92b8d2b1cc37"
      },
      "execution_count": 94,
      "outputs": [
        {
          "output_type": "execute_result",
          "data": {
            "text/plain": [
              "<seaborn.axisgrid.FacetGrid at 0x7fbd72e036d0>"
            ]
          },
          "metadata": {},
          "execution_count": 94
        },
        {
          "output_type": "display_data",
          "data": {
            "text/plain": [
              "<Figure size 1440x360 with 4 Axes>"
            ],
            "image/png": "[encoded data removed]"
          },
          "metadata": {}
        }
      ]
    },
    {
      "cell_type": "code",
      "source": [
        "from matplotlib import pyplot\n",
        "import seaborn\n",
        "\n",
        " \n",
        "\n",
        "chartsize = (28.7, 26.27)\n",
        "\n",
        "sns.set_style(\"whitegrid\")\n",
        "sns.set(font_scale=1.5)\n",
        "\n",
        "#fig, ax = pyplot.subplots(figsize=chartsize)\n",
        "#ax.set_xlim(dfplot2.min(axis =1, numeric_only=True).min(), dfplot2.max(axis =1, numeric_only=True).max() )\n",
        "sns.catplot( orient='h' ,    data=dfplotMain2 )\n"
      ],
      "metadata": {
        "colab": {
          "base_uri": "https://localhost:8080/",
          "height": 370
        },
        "id": "q8mBuBU0owz1",
        "outputId": "52eb9c7b-5a58-457e-b379-77114ba61502"
      },
      "execution_count": 95,
      "outputs": [
        {
          "output_type": "execute_result",
          "data": {
            "text/plain": [
              "<seaborn.axisgrid.FacetGrid at 0x7fbd72a8dd90>"
            ]
          },
          "metadata": {},
          "execution_count": 95
        },
        {
          "output_type": "display_data",
          "data": {
            "text/plain": [
              "<Figure size 360x360 with 1 Axes>"
            ],
            "image/png": "[encoded data removed]"
          },
          "metadata": {}
        }
      ]
    },
    {
      "cell_type": "code",
      "source": [
        "from matplotlib import pyplot\n",
        "import seaborn\n",
        "\n",
        " \n",
        "\n",
        "chartsize = (28.7, 26.27)\n",
        "\n",
        "sns.set_style(\"whitegrid\")\n",
        "sns.set(font_scale=1.5)\n",
        "\n",
        "#fig, ax = pyplot.subplots(figsize=chartsize)\n",
        "#ax.set_xlim(dfplot2.min(axis =1, numeric_only=True).min(), dfplot2.max(axis =1, numeric_only=True).max() )\n",
        "sns.scatterplot(    data=dfplotMain2 , sizes=(40, 40) )\n"
      ],
      "metadata": {
        "colab": {
          "base_uri": "https://localhost:8080/",
          "height": 431
        },
        "id": "V-vI78O9o3VQ",
        "outputId": "eecbb29e-ae84-46ac-a949-c7166e4243dc"
      },
      "execution_count": 96,
      "outputs": [
        {
          "output_type": "execute_result",
          "data": {
            "text/plain": [
              "<matplotlib.axes._subplots.AxesSubplot at 0x7fbd72a79ad0>"
            ]
          },
          "metadata": {},
          "execution_count": 96
        },
        {
          "output_type": "display_data",
          "data": {
            "text/plain": [
              "<Figure size 432x288 with 1 Axes>"
            ],
            "image/png": "[encoded data removed]"
          },
          "metadata": {}
        }
      ]
    },
    {
      "cell_type": "code",
      "source": [
        "sns.relplot(\n",
        "    data=dfplotMain2,  \n",
        "    kind=\"scatter\"\n",
        ")"
      ],
      "metadata": {
        "colab": {
          "base_uri": "https://localhost:8080/",
          "height": 395
        },
        "id": "-QPPES3apweM",
        "outputId": "86e2c941-f615-4d37-9f86-dcb805ba0f3a"
      },
      "execution_count": 97,
      "outputs": [
        {
          "output_type": "execute_result",
          "data": {
            "text/plain": [
              "<seaborn.axisgrid.FacetGrid at 0x7fbd729db910>"
            ]
          },
          "metadata": {},
          "execution_count": 97
        },
        {
          "output_type": "display_data",
          "data": {
            "text/plain": [
              "<Figure size 614.4x360 with 1 Axes>"
            ],
            "image/png": "[encoded data removed]"
          },
          "metadata": {}
        }
      ]
    },
    {
      "cell_type": "code",
      "source": [
        "sns.relplot(\n",
        "    data=dfplotMain1,  \n",
        "    kind=\"scatter\"\n",
        ")"
      ],
      "metadata": {
        "colab": {
          "base_uri": "https://localhost:8080/",
          "height": 370
        },
        "id": "e_MVpzdQp91p",
        "outputId": "dc0c3211-5792-4ac7-a4fc-6f82c6576f30"
      },
      "execution_count": 98,
      "outputs": [
        {
          "output_type": "execute_result",
          "data": {
            "text/plain": [
              "<seaborn.axisgrid.FacetGrid at 0x7fbce12846d0>"
            ]
          },
          "metadata": {},
          "execution_count": 98
        },
        {
          "output_type": "display_data",
          "data": {
            "text/plain": [
              "<Figure size 634.525x360 with 1 Axes>"
            ],
            "image/png": "[encoded data removed]"
          },
          "metadata": {}
        }
      ]
    }
  ]
}