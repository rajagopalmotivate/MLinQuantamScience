{
  "nbformat": 4,
  "nbformat_minor": 0,
  "metadata": {
    "colab": {
      "name": "Copy of Nandri Nandri DM21   DistributeCompute ver J102 11 Jun 2022 WORKS Well by Gods Grace H",
      "provenance": [],
      "collapsed_sections": [],
      "include_colab_link": true
    },
    "kernelspec": {
      "name": "python3",
      "display_name": "Python 3"
    },
    "language_info": {
      "name": "python"
    },
    "accelerator": "GPU"
  },
  "cells": [
    {
      "cell_type": "markdown",
      "metadata": {
        "id": "view-in-github",
        "colab_type": "text"
      },
      "source": [
        "<a href=\"https://colab.research.google.com/github/rajagopalmotivate/MLinQuantamScience/blob/main/Copy_of_Nandri_Nandri_DM21_DistributeCompute_ver_J102_11_Jun_2022_WORKS_Well_by_Gods_Grace_H.ipynb\" target=\"_parent\"><img src=\"https://colab.research.google.com/assets/colab-badge.svg\" alt=\"Open In Colab\"/></a>"
      ]
    },
    {
      "cell_type": "markdown",
      "source": [
        "#Simple comparision of DFT vs NN \n",
        "## Hypothesis: NN performs as good as DFT for simple atoms\n",
        "## Experiment: Compare for 10 elements with 10 basis set"
      ],
      "metadata": {
        "id": "cjz0UJCXln1O"
      }
    },
    {
      "cell_type": "code",
      "source": [
        "EXPNO ='EXP_1102_H'"
      ],
      "metadata": {
        "id": "I3Zqx3aO52s-"
      },
      "execution_count": 1,
      "outputs": []
    },
    {
      "cell_type": "code",
      "source": [
        "firstTimeorRestart = True"
      ],
      "metadata": {
        "id": "zVPfjAeVrzR_"
      },
      "execution_count": 2,
      "outputs": []
    },
    {
      "cell_type": "code",
      "source": [
        "listBasisSet = ['6-21g' , 'cc-pvqz' , 'def2-qzvp'  ]\n",
        "\n",
        "listBasisSet = ['def2-QZVP' , 'cc-pCVTZ' ,  'aug-pc-3' , 'aug-cc-pV(Q+d)Z', 'aug-cc-pCV5Z', 'aug-ccpwCV5Z', '6-21g']\n",
        "\n",
        "listBasisSet = ['cc-pCVDZ' , 'def2-QZVP' , 'cc-pCVTZ' ,  'aug-pc-3' , 'aug-cc-pV(Q+d)Z', 'aug-cc-pCV5Z', 'aug-ccpwCV5Z', '6-31g', 'STO-3G' , 'def2-QZVPPD' ]\n",
        "\n",
        "listBasisSet = ['def2-QZVP' , 'cc-pCVTZ', 'cc-pVQZ' , 'cc-pVXZ', 'aug-cc-pV(Q+d)Z' , '6-31g' ]\n",
        "\n",
        "listBasisSet = [   'cc-pVQZ' , 'def2-QZVP' , 'cc-pCVTZ',  'cc-pVXZ' , '6-31g' ]\n",
        "\n",
        "listBasisSet = [   'cc-pVQZ' , 'def2-QZVP' , 'cc-pCVQZ'  ]\n",
        "\n",
        "listBasisSet = [   'cc-pVQZ' , 'cc-pVTZ', 'cc-pVDZ',  'cc-pCVQZ', 'cc-pCV5Z',  'def2-QZVP', 'def2-TCVPPD', '6-31g' ,'STO-3G'   ]\n",
        "\n",
        "listBasisSet = [   'cc-pVQZ', 'def2-QZVP']\n",
        "\n",
        "listBasisSet = [  'cc-pV7Z', 'cc-pV6Z',  'cc-pVQZ' , 'cc-pVDZ' , 'cc-pCVQZ',    'def2-QZVP', 'def2-7CVPPD', '6-31g' ,'STO-3G'   ]\n",
        "\n",
        " "
      ],
      "metadata": {
        "id": "Zk4fl4t1waWn"
      },
      "execution_count": 3,
      "outputs": []
    },
    {
      "cell_type": "code",
      "source": [
        "dictPeriodicTable = {'H': 1, 'He': 2, 'Li': 3, 'Be': 4, 'B': 5, 'C': 6, 'N': 7, 'O': 8, 'F': 9, 'Ne': 10 }\n",
        "\n",
        "dictPeriodicTable = {'H': 1, 'He': 2, 'Li': 3, 'Be': 4, 'B': 5, 'C': 6, 'N': 7, 'O': 8, 'F': 9, 'Ne': 10 , 'Na':11, 'Mg':12 , 'Al':13, 'Si':14, 'P':15, 'S':16 , 'Cl':17, 'Ar':18}\n",
        "\n",
        "\n",
        "dictPeriodicTable = {'H': 1}\n",
        "  \n",
        "dictPeriodicTableSpinValues = {'H': 1,  'He': 0, 'Li': 1, 'Be': 0, 'B': 1, 'C': 0, 'N': 1, 'O': 0, 'F': 1, 'Ne': 0 }\n",
        "\n",
        "\n",
        "\n",
        "print(str( 'Weight'  + ' ' +   ' \\t Element     \\t  SPIN'    ))\n",
        " \n",
        " \n",
        "  \n"
      ],
      "metadata": {
        "id": "XG1_wImSudEF",
        "colab": {
          "base_uri": "https://localhost:8080/"
        },
        "outputId": "a50b4e6e-0ff6-49d3-c7c1-04e92ae14eb8"
      },
      "execution_count": 4,
      "outputs": [
        {
          "output_type": "stream",
          "name": "stdout",
          "text": [
            "Weight  \t Element     \t  SPIN\n"
          ]
        }
      ]
    },
    {
      "cell_type": "code",
      "source": [
        "from google.colab import drive\n",
        "drive.mount('/content/drive')"
      ],
      "metadata": {
        "colab": {
          "base_uri": "https://localhost:8080/"
        },
        "id": "FWO3uFau6Gs-",
        "outputId": "03d6f037-0150-4a8f-9cc1-8df2a007e4cd"
      },
      "execution_count": 5,
      "outputs": [
        {
          "output_type": "stream",
          "name": "stdout",
          "text": [
            "Mounted at /content/drive\n"
          ]
        }
      ]
    },
    {
      "cell_type": "markdown",
      "source": [
        "## Step 1: Install"
      ],
      "metadata": {
        "id": "f2n-glKykc7G"
      }
    },
    {
      "cell_type": "code",
      "source": [
        "#!pip install git+git://github.com/deepmind/deepmind-research.git#subdirectory=density_functional_approximation_dm21"
      ],
      "metadata": {
        "id": "iUe5ykKxr0Xu"
      },
      "execution_count": 6,
      "outputs": []
    },
    {
      "cell_type": "code",
      "source": [
        "!git clone https://github.com/deepmind/deepmind-research.git\n"
      ],
      "metadata": {
        "colab": {
          "base_uri": "https://localhost:8080/"
        },
        "id": "s_s-VRZZaUO4",
        "outputId": "dd033125-2156-47db-c659-caa884d4cb8a"
      },
      "execution_count": 7,
      "outputs": [
        {
          "output_type": "stream",
          "name": "stdout",
          "text": [
            "Cloning into 'deepmind-research'...\n",
            "remote: Enumerating objects: 2581, done.\u001b[K\n",
            "remote: Counting objects: 100% (209/209), done.\u001b[K\n",
            "remote: Compressing objects: 100% (155/155), done.\u001b[K\n",
            "remote: Total 2581 (delta 55), reused 201 (delta 54), pack-reused 2372\u001b[K\n",
            "Receiving objects: 100% (2581/2581), 92.05 MiB | 35.41 MiB/s, done.\n",
            "Resolving deltas: 100% (1204/1204), done.\n"
          ]
        }
      ]
    },
    {
      "cell_type": "code",
      "source": [
        "cd deepmind-research/density_functional_approximation_dm21\n"
      ],
      "metadata": {
        "colab": {
          "base_uri": "https://localhost:8080/"
        },
        "id": "RciiP-MOaV-L",
        "outputId": "df8f41a6-fad0-4a2e-e655-68f9bdfa5bbb"
      },
      "execution_count": 8,
      "outputs": [
        {
          "output_type": "stream",
          "name": "stdout",
          "text": [
            "/content/deepmind-research/density_functional_approximation_dm21\n"
          ]
        }
      ]
    },
    {
      "cell_type": "code",
      "source": [
        "pwd"
      ],
      "metadata": {
        "colab": {
          "base_uri": "https://localhost:8080/",
          "height": 36
        },
        "id": "qgN8ePgcaXzx",
        "outputId": "c8333bf6-284b-496b-92c2-38d5c37bae38"
      },
      "execution_count": 9,
      "outputs": [
        {
          "output_type": "execute_result",
          "data": {
            "text/plain": [
              "'/content/deepmind-research/density_functional_approximation_dm21'"
            ],
            "application/vnd.google.colaboratory.intrinsic+json": {
              "type": "string"
            }
          },
          "metadata": {},
          "execution_count": 9
        }
      ]
    },
    {
      "cell_type": "code",
      "source": [
        "!pip install .\n"
      ],
      "metadata": {
        "colab": {
          "base_uri": "https://localhost:8080/"
        },
        "id": "pfmCosvDaYcx",
        "outputId": "12e479c3-d394-496a-badc-d2eb1485b652"
      },
      "execution_count": 10,
      "outputs": [
        {
          "output_type": "stream",
          "name": "stdout",
          "text": [
            "Looking in indexes: https://pypi.org/simple, https://us-python.pkg.dev/colab-wheels/public/simple/\n",
            "Processing /content/deepmind-research/density_functional_approximation_dm21\n",
            "\u001b[33m  DEPRECATION: A future pip version will change local packages to be built in-place without first copying to a temporary directory. We recommend you use --use-feature=in-tree-build to test your packages with this new behavior before it becomes the default.\n",
            "   pip 21.3 will remove support for this functionality. You can find discussion regarding this at https://github.com/pypa/pip/issues/7555.\u001b[0m\n",
            "Requirement already satisfied: absl-py in /usr/local/lib/python3.7/dist-packages (from density-functional-approximation-dm21==0.1) (1.0.0)\n",
            "Requirement already satisfied: attrs in /usr/local/lib/python3.7/dist-packages (from density-functional-approximation-dm21==0.1) (21.4.0)\n",
            "Requirement already satisfied: h5py<3.3.0 in /usr/local/lib/python3.7/dist-packages (from density-functional-approximation-dm21==0.1) (3.1.0)\n",
            "Requirement already satisfied: numpy in /usr/local/lib/python3.7/dist-packages (from density-functional-approximation-dm21==0.1) (1.21.6)\n",
            "Collecting pyscf\n",
            "  Downloading pyscf-2.0.1-cp37-cp37m-manylinux1_x86_64.whl (37.5 MB)\n",
            "\u001b[K     |████████████████████████████████| 37.5 MB 1.2 MB/s \n",
            "\u001b[?25hRequirement already satisfied: tensorflow in /usr/local/lib/python3.7/dist-packages (from density-functional-approximation-dm21==0.1) (2.8.2+zzzcolab20220527125636)\n",
            "Requirement already satisfied: tensorflow_hub in /usr/local/lib/python3.7/dist-packages (from density-functional-approximation-dm21==0.1) (0.12.0)\n",
            "Requirement already satisfied: cached-property in /usr/local/lib/python3.7/dist-packages (from h5py<3.3.0->density-functional-approximation-dm21==0.1) (1.5.2)\n",
            "Requirement already satisfied: six in /usr/local/lib/python3.7/dist-packages (from absl-py->density-functional-approximation-dm21==0.1) (1.15.0)\n",
            "Requirement already satisfied: scipy!=1.5.0,!=1.5.1 in /usr/local/lib/python3.7/dist-packages (from pyscf->density-functional-approximation-dm21==0.1) (1.4.1)\n",
            "Requirement already satisfied: setuptools in /usr/local/lib/python3.7/dist-packages (from tensorflow->density-functional-approximation-dm21==0.1) (57.4.0)\n",
            "Requirement already satisfied: grpcio<2.0,>=1.24.3 in /usr/local/lib/python3.7/dist-packages (from tensorflow->density-functional-approximation-dm21==0.1) (1.46.3)\n",
            "Requirement already satisfied: termcolor>=1.1.0 in /usr/local/lib/python3.7/dist-packages (from tensorflow->density-functional-approximation-dm21==0.1) (1.1.0)\n",
            "Requirement already satisfied: tensorboard<2.9,>=2.8 in /usr/local/lib/python3.7/dist-packages (from tensorflow->density-functional-approximation-dm21==0.1) (2.8.0)\n",
            "Requirement already satisfied: typing-extensions>=3.6.6 in /usr/local/lib/python3.7/dist-packages (from tensorflow->density-functional-approximation-dm21==0.1) (4.2.0)\n",
            "Requirement already satisfied: keras-preprocessing>=1.1.1 in /usr/local/lib/python3.7/dist-packages (from tensorflow->density-functional-approximation-dm21==0.1) (1.1.2)\n",
            "Requirement already satisfied: tensorflow-io-gcs-filesystem>=0.23.1 in /usr/local/lib/python3.7/dist-packages (from tensorflow->density-functional-approximation-dm21==0.1) (0.26.0)\n",
            "Requirement already satisfied: wrapt>=1.11.0 in /usr/local/lib/python3.7/dist-packages (from tensorflow->density-functional-approximation-dm21==0.1) (1.14.1)\n",
            "Requirement already satisfied: protobuf<3.20,>=3.9.2 in /usr/local/lib/python3.7/dist-packages (from tensorflow->density-functional-approximation-dm21==0.1) (3.17.3)\n",
            "Requirement already satisfied: gast>=0.2.1 in /usr/local/lib/python3.7/dist-packages (from tensorflow->density-functional-approximation-dm21==0.1) (0.5.3)\n",
            "Requirement already satisfied: keras<2.9,>=2.8.0rc0 in /usr/local/lib/python3.7/dist-packages (from tensorflow->density-functional-approximation-dm21==0.1) (2.8.0)\n",
            "Requirement already satisfied: libclang>=9.0.1 in /usr/local/lib/python3.7/dist-packages (from tensorflow->density-functional-approximation-dm21==0.1) (14.0.1)\n",
            "Requirement already satisfied: astunparse>=1.6.0 in /usr/local/lib/python3.7/dist-packages (from tensorflow->density-functional-approximation-dm21==0.1) (1.6.3)\n",
            "Requirement already satisfied: flatbuffers>=1.12 in /usr/local/lib/python3.7/dist-packages (from tensorflow->density-functional-approximation-dm21==0.1) (2.0)\n",
            "Requirement already satisfied: google-pasta>=0.1.1 in /usr/local/lib/python3.7/dist-packages (from tensorflow->density-functional-approximation-dm21==0.1) (0.2.0)\n",
            "Requirement already satisfied: opt-einsum>=2.3.2 in /usr/local/lib/python3.7/dist-packages (from tensorflow->density-functional-approximation-dm21==0.1) (3.3.0)\n",
            "Requirement already satisfied: tensorflow-estimator<2.9,>=2.8 in /usr/local/lib/python3.7/dist-packages (from tensorflow->density-functional-approximation-dm21==0.1) (2.8.0)\n",
            "Requirement already satisfied: wheel<1.0,>=0.23.0 in /usr/local/lib/python3.7/dist-packages (from astunparse>=1.6.0->tensorflow->density-functional-approximation-dm21==0.1) (0.37.1)\n",
            "Requirement already satisfied: markdown>=2.6.8 in /usr/local/lib/python3.7/dist-packages (from tensorboard<2.9,>=2.8->tensorflow->density-functional-approximation-dm21==0.1) (3.3.7)\n",
            "Requirement already satisfied: tensorboard-data-server<0.7.0,>=0.6.0 in /usr/local/lib/python3.7/dist-packages (from tensorboard<2.9,>=2.8->tensorflow->density-functional-approximation-dm21==0.1) (0.6.1)\n",
            "Requirement already satisfied: tensorboard-plugin-wit>=1.6.0 in /usr/local/lib/python3.7/dist-packages (from tensorboard<2.9,>=2.8->tensorflow->density-functional-approximation-dm21==0.1) (1.8.1)\n",
            "Requirement already satisfied: google-auth<3,>=1.6.3 in /usr/local/lib/python3.7/dist-packages (from tensorboard<2.9,>=2.8->tensorflow->density-functional-approximation-dm21==0.1) (1.35.0)\n",
            "Requirement already satisfied: werkzeug>=0.11.15 in /usr/local/lib/python3.7/dist-packages (from tensorboard<2.9,>=2.8->tensorflow->density-functional-approximation-dm21==0.1) (1.0.1)\n",
            "Requirement already satisfied: google-auth-oauthlib<0.5,>=0.4.1 in /usr/local/lib/python3.7/dist-packages (from tensorboard<2.9,>=2.8->tensorflow->density-functional-approximation-dm21==0.1) (0.4.6)\n",
            "Requirement already satisfied: requests<3,>=2.21.0 in /usr/local/lib/python3.7/dist-packages (from tensorboard<2.9,>=2.8->tensorflow->density-functional-approximation-dm21==0.1) (2.23.0)\n",
            "Requirement already satisfied: pyasn1-modules>=0.2.1 in /usr/local/lib/python3.7/dist-packages (from google-auth<3,>=1.6.3->tensorboard<2.9,>=2.8->tensorflow->density-functional-approximation-dm21==0.1) (0.2.8)\n",
            "Requirement already satisfied: cachetools<5.0,>=2.0.0 in /usr/local/lib/python3.7/dist-packages (from google-auth<3,>=1.6.3->tensorboard<2.9,>=2.8->tensorflow->density-functional-approximation-dm21==0.1) (4.2.4)\n",
            "Requirement already satisfied: rsa<5,>=3.1.4 in /usr/local/lib/python3.7/dist-packages (from google-auth<3,>=1.6.3->tensorboard<2.9,>=2.8->tensorflow->density-functional-approximation-dm21==0.1) (4.8)\n",
            "Requirement already satisfied: requests-oauthlib>=0.7.0 in /usr/local/lib/python3.7/dist-packages (from google-auth-oauthlib<0.5,>=0.4.1->tensorboard<2.9,>=2.8->tensorflow->density-functional-approximation-dm21==0.1) (1.3.1)\n",
            "Requirement already satisfied: importlib-metadata>=4.4 in /usr/local/lib/python3.7/dist-packages (from markdown>=2.6.8->tensorboard<2.9,>=2.8->tensorflow->density-functional-approximation-dm21==0.1) (4.11.4)\n",
            "Requirement already satisfied: zipp>=0.5 in /usr/local/lib/python3.7/dist-packages (from importlib-metadata>=4.4->markdown>=2.6.8->tensorboard<2.9,>=2.8->tensorflow->density-functional-approximation-dm21==0.1) (3.8.0)\n",
            "Requirement already satisfied: pyasn1<0.5.0,>=0.4.6 in /usr/local/lib/python3.7/dist-packages (from pyasn1-modules>=0.2.1->google-auth<3,>=1.6.3->tensorboard<2.9,>=2.8->tensorflow->density-functional-approximation-dm21==0.1) (0.4.8)\n",
            "Requirement already satisfied: chardet<4,>=3.0.2 in /usr/local/lib/python3.7/dist-packages (from requests<3,>=2.21.0->tensorboard<2.9,>=2.8->tensorflow->density-functional-approximation-dm21==0.1) (3.0.4)\n",
            "Requirement already satisfied: urllib3!=1.25.0,!=1.25.1,<1.26,>=1.21.1 in /usr/local/lib/python3.7/dist-packages (from requests<3,>=2.21.0->tensorboard<2.9,>=2.8->tensorflow->density-functional-approximation-dm21==0.1) (1.24.3)\n",
            "Requirement already satisfied: certifi>=2017.4.17 in /usr/local/lib/python3.7/dist-packages (from requests<3,>=2.21.0->tensorboard<2.9,>=2.8->tensorflow->density-functional-approximation-dm21==0.1) (2022.5.18.1)\n",
            "Requirement already satisfied: idna<3,>=2.5 in /usr/local/lib/python3.7/dist-packages (from requests<3,>=2.21.0->tensorboard<2.9,>=2.8->tensorflow->density-functional-approximation-dm21==0.1) (2.10)\n",
            "Requirement already satisfied: oauthlib>=3.0.0 in /usr/local/lib/python3.7/dist-packages (from requests-oauthlib>=0.7.0->google-auth-oauthlib<0.5,>=0.4.1->tensorboard<2.9,>=2.8->tensorflow->density-functional-approximation-dm21==0.1) (3.2.0)\n",
            "Building wheels for collected packages: density-functional-approximation-dm21\n",
            "  Building wheel for density-functional-approximation-dm21 (setup.py) ... \u001b[?25l\u001b[?25hdone\n",
            "  Created wheel for density-functional-approximation-dm21: filename=density_functional_approximation_dm21-0.1-py3-none-any.whl size=6085418 sha256=b93978bb6fc8282c7283ccbf43def957010f99acee4bceacf3018b8319b8b5be\n",
            "  Stored in directory: /tmp/pip-ephem-wheel-cache-mpbzmv_k/wheels/3b/c5/70/0200d858561857222265157381fd4ad73ce078117b4821cd36\n",
            "Successfully built density-functional-approximation-dm21\n",
            "Installing collected packages: pyscf, density-functional-approximation-dm21\n",
            "Successfully installed density-functional-approximation-dm21-0.1 pyscf-2.0.1\n"
          ]
        }
      ]
    },
    {
      "cell_type": "code",
      "source": [
        ""
      ],
      "metadata": {
        "id": "5277iYdkaajo"
      },
      "execution_count": 10,
      "outputs": []
    },
    {
      "cell_type": "markdown",
      "source": [
        "## Step 2: Test run a sample DFT calculation"
      ],
      "metadata": {
        "id": "Eq-LQv17kkhc"
      }
    },
    {
      "cell_type": "code",
      "source": [
        "from pyscf import gto\n",
        "from pyscf import dft\n",
        "\n",
        "from pyscf import __config__\n",
        "MAX_MEMORY = getattr(__config__, 'MAX_MEMORY')\n",
        "MAX_MEMORY"
      ],
      "metadata": {
        "id": "Y_W-hLjur8Pr",
        "colab": {
          "base_uri": "https://localhost:8080/"
        },
        "outputId": "4dfb9101-2e9b-4aa0-f428-f776d4b39911"
      },
      "execution_count": 11,
      "outputs": [
        {
          "output_type": "execute_result",
          "data": {
            "text/plain": [
              "4000"
            ]
          },
          "metadata": {},
          "execution_count": 11
        }
      ]
    },
    {
      "cell_type": "code",
      "source": [
        "import psutil\n",
        "systemresources = psutil.virtual_memory()\n",
        "\n",
        "MAX_MEMORY = round( systemresources.available  * 0.9)\n",
        "PYSCF_MAX_MEMORY  = MAX_MEMORY\n",
        "\n",
        "print('Configured to use max RAM resources of  ' + str(MAX_MEMORY))"
      ],
      "metadata": {
        "colab": {
          "base_uri": "https://localhost:8080/"
        },
        "id": "HYnC_d1zGtkp",
        "outputId": "fbb4587d-d4ce-4891-bb90-64763498820d"
      },
      "execution_count": 12,
      "outputs": [
        {
          "output_type": "stream",
          "name": "stdout",
          "text": [
            "Configured to use max RAM resources of  11111152435\n"
          ]
        }
      ]
    },
    {
      "cell_type": "code",
      "source": [
        "setattr(__config__, 'MAX_MEMORY', PYSCF_MAX_MEMORY)\n",
        "\n",
        "setattr(__config__, 'PYSCF_MAX_MEMORY', PYSCF_MAX_MEMORY)\n",
        "\n"
      ],
      "metadata": {
        "id": "XGAMq215KZ2t"
      },
      "execution_count": 13,
      "outputs": []
    },
    {
      "cell_type": "code",
      "source": [
        "MAX_MEMORY = getattr(__config__, 'MAX_MEMORY')\n",
        "MAX_MEMORY"
      ],
      "metadata": {
        "colab": {
          "base_uri": "https://localhost:8080/"
        },
        "id": "h_mNg2CxI4Ql",
        "outputId": "f075cec9-2972-4127-abbe-4b525c81e55d"
      },
      "execution_count": 14,
      "outputs": [
        {
          "output_type": "execute_result",
          "data": {
            "text/plain": [
              "11111152435"
            ]
          },
          "metadata": {},
          "execution_count": 14
        }
      ]
    },
    {
      "cell_type": "markdown",
      "source": [
        "## Step 3: Attention NIRMALA:  Try it out!\n",
        "\n",
        "### 3.1 Define the periodic table (Define atomic weight and periodic weight for each element)\n",
        "\n",
        "### 3.2 Define the spin value for each element \n",
        "\n",
        "### 3.3 You can load any new basis function.  Just visit the Basics Exchange and get a new Basis Function URL .  \n",
        "#### here we download a basis set full defintion file from an URL and then use it to construct a molecule  \n",
        "\n",
        "#### To get a web URL, just visit https://www.basissetexchange.org/"
      ],
      "metadata": {
        "id": "BF8o9PZnoXzL"
      }
    },
    {
      "cell_type": "markdown",
      "source": [
        "\n",
        "http://vergil.chemistry.gatech.edu/courses/chem6485/pdf/basis-sets.pdf \n",
        "\n",
        "https://youtu.be/irQ_c_fW5f8?t=971\n",
        "\n",
        "\n",
        "1.   cc-pCVXZ or aug-cc-pCVXZ basis sets;  you should use basis sets like this if you do not freeze core\n",
        "2.   cc-pVQZ is great for CCSD(T)\n",
        "\n"
      ],
      "metadata": {
        "id": "oLOgjrRQhdQk"
      }
    },
    {
      "cell_type": "code",
      "source": [
        "def trydownloadingBasisSet(ElementsinMolecule, BasisSet, versionno):  \n",
        "    target_url = 'https://www.basissetexchange.org/api/basis/' + str(BasisSet) +  '/format/nwchem/?version='+ str( versionno)+'&elements=' + str(ElementsinMolecule) \n",
        "    #print(target_url)\n",
        "    try:\n",
        "      textfile = urllib.request.urlopen(target_url)    \n",
        "      mydownloadedfile = \"\"\n",
        "      for line in textfile:\n",
        "          #print(line.decode('utf-8')) #utf-8 or iso8859-1 or whatever the page encoding scheme is\n",
        "          mydownloadedfile += line.decode('utf-8') \n",
        "      return True    \n",
        "    except:\n",
        "      return False"
      ],
      "metadata": {
        "id": "a289v8vDEE_E"
      },
      "execution_count": 15,
      "outputs": []
    },
    {
      "cell_type": "code",
      "source": [
        "import urllib   # the lib that handles the url stuff\n",
        "import urllib.request  # the lib that handles the url stuff\n",
        "\n",
        "\n",
        "def getValidBasisSet(MoleculeList):\n",
        "  ValidatedBasisSet = []\n",
        "  ValBSSetVersionNumberDict = {}\n",
        "  errorproneBasisSet = []\n",
        "  for BasisSet in listBasisSet:\n",
        "    didnotworkatallforanyversion = True\n",
        "    for versionno in range(0,4):\n",
        "      isworking = trydownloadingBasisSet(MoleculeList, BasisSet, versionno)\n",
        "      if isworking == True:\n",
        "        didnotworkatallforanyversion = False\n",
        "        ValBSSetVersionNumberDict[BasisSet] = versionno\n",
        "        ValidatedBasisSet.append(BasisSet)\n",
        "        break\n",
        "    if didnotworkatallforanyversion == True:\n",
        "      errorproneBasisSet.append(BasisSet)\n",
        "  return ValidatedBasisSet "
      ],
      "metadata": {
        "id": "dkRcJrVtfmFO"
      },
      "execution_count": 16,
      "outputs": []
    },
    {
      "cell_type": "code",
      "source": [
        "def downloadBasisSetAutoVersion(ElementsinMolecule, BasisSet):  \n",
        "    for versionumber in range (0,4):\n",
        "      target_url = 'https://www.basissetexchange.org/api/basis/' + str(BasisSet) +  '/format/nwchem/?version='+ str( versionumber)+'&elements=' + str(ElementsinMolecule) \n",
        "      try:\n",
        "        textfile = urllib.request.urlopen(target_url)    \n",
        "        mydownloadedfile = \"\"\n",
        "        for line in textfile:\n",
        "            #print(line.decode('utf-8')) #utf-8 or iso8859-1 or whatever the page encoding scheme is\n",
        "            mydownloadedfile += line.decode('utf-8') \n",
        "        return mydownloadedfile    \n",
        "      except:\n",
        "        return None"
      ],
      "metadata": {
        "id": "BwAkua2vp_t5"
      },
      "execution_count": 17,
      "outputs": []
    },
    {
      "cell_type": "code",
      "source": [
        "elementname ='H' \n",
        "\n",
        "PerdiocTableNumber = dictPeriodicTable [elementname]\n",
        "ValidatedBasisSet = getValidBasisSet(PerdiocTableNumber)\n",
        "len(ValidatedBasisSet)\n",
        "ValidatedBasisSet"
      ],
      "metadata": {
        "colab": {
          "base_uri": "https://localhost:8080/"
        },
        "id": "_BV2z_OX5rH1",
        "outputId": "90f1f3db-b3e0-4acf-c874-46e4ae0fb29a"
      },
      "execution_count": 18,
      "outputs": [
        {
          "output_type": "execute_result",
          "data": {
            "text/plain": [
              "['cc-pV6Z', 'cc-pVQZ', 'cc-pVDZ', 'def2-QZVP', '6-31g', 'STO-3G']"
            ]
          },
          "metadata": {},
          "execution_count": 18
        }
      ]
    },
    {
      "cell_type": "code",
      "source": [
        "basisSethandpicked =[  ]"
      ],
      "metadata": {
        "id": "40fAp-c8DYDn"
      },
      "execution_count": 19,
      "outputs": []
    },
    {
      "cell_type": "code",
      "source": [
        "#listBasisSet = basisSet652"
      ],
      "metadata": {
        "id": "iGlC_ofGtzHL"
      },
      "execution_count": 20,
      "outputs": []
    },
    {
      "cell_type": "code",
      "source": [
        "try:\n",
        "  print(\"Hello\")\n",
        "except:\n",
        "  print(\"Something went wrong\")\n",
        "else:\n",
        "  print(\"Nothing went wrong\")"
      ],
      "metadata": {
        "colab": {
          "base_uri": "https://localhost:8080/"
        },
        "id": "3oCykicz1IYu",
        "outputId": "48027c25-3e35-454a-932b-624ce1239950"
      },
      "execution_count": 21,
      "outputs": [
        {
          "output_type": "stream",
          "name": "stdout",
          "text": [
            "Hello\n",
            "Nothing went wrong\n"
          ]
        }
      ]
    },
    {
      "cell_type": "code",
      "source": [
        ""
      ],
      "metadata": {
        "id": "Nh0tMh-zzHmP"
      },
      "execution_count": 21,
      "outputs": []
    },
    {
      "cell_type": "code",
      "source": [
        "#downloadBasisSetAutoVersion(1,'3-21G')"
      ],
      "metadata": {
        "id": "LrJBO50Sgt4v"
      },
      "execution_count": 22,
      "outputs": []
    },
    {
      "cell_type": "markdown",
      "source": [
        "geomtery optimization"
      ],
      "metadata": {
        "id": "3RoPT7c8350_"
      }
    },
    {
      "cell_type": "code",
      "source": [
        "!\tpip install -U pyberny\n"
      ],
      "metadata": {
        "colab": {
          "base_uri": "https://localhost:8080/"
        },
        "id": "IZFEtXrH6RwP",
        "outputId": "11f351da-c428-41f8-de24-70e2558ce30a"
      },
      "execution_count": 23,
      "outputs": [
        {
          "output_type": "stream",
          "name": "stdout",
          "text": [
            "Looking in indexes: https://pypi.org/simple, https://us-python.pkg.dev/colab-wheels/public/simple/\n",
            "Collecting pyberny\n",
            "  Downloading pyberny-0.6.3-py3-none-any.whl (27 kB)\n",
            "Requirement already satisfied: numpy<2.0,>=1.15 in /usr/local/lib/python3.7/dist-packages (from pyberny) (1.21.6)\n",
            "Installing collected packages: pyberny\n",
            "Successfully installed pyberny-0.6.3\n"
          ]
        }
      ]
    },
    {
      "cell_type": "code",
      "source": [
        "from pyscf import gto\n",
        "from pyscf import scf\n",
        "from pyscf import cc\n",
        "from pyscf.cc import ccsd_t_lambda_slow as ccsd_t_lambda\n",
        "from pyscf.grad import ccsd_t as ccsd_t_grad\n",
        "from pyscf.geomopt import berny_solver\n",
        "\n",
        "def f_usefforberny_solver(mol):\n",
        "    # Compute CCSD(T) energy\n",
        "    mf = scf.RHF(mol).run()\n",
        "    mycc = cc.CCSD(mf).run()\n",
        "    et_correction = mycc.ccsd_t()\n",
        "    e_tot = mycc.e_tot + et_correction\n",
        "\n",
        "    # Compute CCSD(T) gradients\n",
        "    g = ccsd_t_grad.Gradients(mycc).kernel()\n",
        "    print('CCSD(T) nuclear gradients:')\n",
        "    print(g)\n",
        "    return e_tot, g\n"
      ],
      "metadata": {
        "id": "hdNEpI8D38FG"
      },
      "execution_count": 24,
      "outputs": []
    },
    {
      "cell_type": "code",
      "source": [
        " hashLookUpMolecules = dict()\n",
        " "
      ],
      "metadata": {
        "id": "sKAn5K4QVc2Y"
      },
      "execution_count": 25,
      "outputs": []
    },
    {
      "cell_type": "code",
      "source": [
        "def GetoptimizedMolecule(randomMol):\n",
        "  global hashLookUpMolecules\n",
        "  print('****************************************************************GEOMENTRY OPTIMIZATION Starts***********************************************')  \n",
        "  print('MOLECULE KEY is')\n",
        "  print([randomMol.basis])\n",
        "  if randomMol in hashLookUpMolecules:\n",
        "    saved_mol = hashLookUpMolecules[randomMol]\n",
        "    print('****************************************************************GEOMENTRY looked up from Hashtable***********************************************')  \n",
        "    return saved_mol\n",
        "  fake_method = berny_solver.as_pyscf_method(randomMol, f_usefforberny_solver)\n",
        "  new_mol = berny_solver.optimize(fake_method , maxsteps=400)\n",
        "  print('Old geometry (Bohr)')\n",
        "  print(randomMol.atom_coords())  \n",
        "  print('New geometry (Bohr)')\n",
        "  print(new_mol.atom_coords())  \n",
        "  hashLookUpMolecules[randomMol] = new_mol\n",
        "  print('****************************************************************GEOMENTRY OPTIMIZATION Ends***********************************************')  \n",
        "  return new_mol\n"
      ],
      "metadata": {
        "id": "SlipAJZo3-Tw"
      },
      "execution_count": 26,
      "outputs": []
    },
    {
      "cell_type": "markdown",
      "source": [
        "DM21"
      ],
      "metadata": {
        "id": "WnVMCEhX5ZzV"
      }
    },
    {
      "cell_type": "code",
      "source": [
        "import density_functional_approximation_dm21 as dm21\n",
        "from pyscf import gto\n",
        "from pyscf import dft"
      ],
      "metadata": {
        "id": "SZOfTZ7269qj",
        "colab": {
          "base_uri": "https://localhost:8080/"
        },
        "outputId": "ad5a45de-aab6-4e7f-b4ce-ed0a2ed5cd03"
      },
      "execution_count": 27,
      "outputs": [
        {
          "output_type": "stream",
          "name": "stdout",
          "text": [
            "WARNING:tensorflow:From /usr/local/lib/python3.7/dist-packages/tensorflow/python/compat/v2_compat.py:107: disable_resource_variables (from tensorflow.python.ops.variable_scope) is deprecated and will be removed in a future version.\n",
            "Instructions for updating:\n",
            "non-resource variables are not supported in the long term\n"
          ]
        }
      ]
    },
    {
      "cell_type": "code",
      "source": [
        "import pandas as pd\n",
        "import numpy as np"
      ],
      "metadata": {
        "id": "duaw3FC-E2G3"
      },
      "execution_count": 28,
      "outputs": []
    },
    {
      "cell_type": "code",
      "source": [
        "def buildaMoleculeSpin(elementname, elementname2, mydownloadedfile, mydownloadedfile2, trythisspin ):\n",
        "      mol = gto.Mole()\n",
        "      mol.atom = '''\n",
        "      H\t0.0000000\t0.0000000\t0.3709280\n",
        "      H\t0.0000000\t0.0000000\t-0.3709280\n",
        "      '''\n",
        "      #mol.atom = [[elementname, ( 0, 0, 0)], [elementname2, (0, 0, 1)] ]\n",
        "      mol.spin =  trythisspin\n",
        "      mol.symmetry = True\n",
        "      mol.basis = { elementname: gto.parse(mydownloadedfile)  ,     elementname2: gto.parse(mydownloadedfile2)        }\n",
        "      mol.max_memory = PYSCF_MAX_MEMORY\n",
        "      mol.build()\n",
        "      return mol"
      ],
      "metadata": {
        "id": "6RxxMmahCe77"
      },
      "execution_count": 29,
      "outputs": []
    },
    {
      "cell_type": "markdown",
      "source": [
        ""
      ],
      "metadata": {
        "id": "aZpw-FlVBGOR"
      }
    },
    {
      "cell_type": "markdown",
      "source": [
        "Geometry for H2 (Hydrogen diatomic) 1Σg D*H\n",
        "1910171554\n",
        " HF/cc-pCVQZ\n"
      ],
      "metadata": {
        "id": "MxednMvHAoaT"
      }
    },
    {
      "cell_type": "code",
      "source": [
        "def buildaMoleculeTryMOLECULEELEMENTCOUNT2(elementname, elementname2, mydownloadedfile , mydownloadedfile2 ):\n",
        "  molecule = None \n",
        "  for spinvaluecheckthis in range(5):\n",
        "    try:\n",
        "      molecule = buildaMoleculeSpin(elementname,elementname2, mydownloadedfile, mydownloadedfile2, spinvaluecheckthis )      \n",
        "      return molecule, spinvaluecheckthis\n",
        "      break\n",
        "    except:\n",
        "      tempexcept = True\n",
        "      #print('SPIN is not correct. Auto matically trying another spin value...')\n",
        "    else:\n",
        "      tempelse = True\n",
        "      #print('TRYING SPIN')\n",
        "  return molecule, spinvaluecheckthis\n",
        " \n"
      ],
      "metadata": {
        "id": "BYolIH7Lsxqa"
      },
      "execution_count": 30,
      "outputs": []
    },
    {
      "cell_type": "code",
      "source": [
        "def buildaMoleculeSpinMOLECULEELEMENTCOUNT1(elementname, mydownloadedfile,  trythisspin ):\n",
        "      mol = gto.Mole()\n",
        "      #mol.atom = '''H 0 0 0'''\n",
        "      mol.atom = [[elementname, (0, 0, 0)] ]\n",
        "      mol.spin =  trythisspin\n",
        "      mol.basis = { elementname: gto.parse(mydownloadedfile)       }\n",
        "      mol.build()\n",
        "      return mol"
      ],
      "metadata": {
        "id": "AQmy_MGADZfD"
      },
      "execution_count": 31,
      "outputs": []
    },
    {
      "cell_type": "code",
      "source": [
        "def buildaMoleculeTryMOLECULEELEMENTCOUNT1(elementname,  mydownloadedfile ):\n",
        "  molecule = None \n",
        "  for spinvaluecheckthis in range(5):\n",
        "    try:\n",
        "      molecule = buildaMoleculeSpinMOLECULEELEMENTCOUNT1(elementname, mydownloadedfile, spinvaluecheckthis )      \n",
        "      return molecule, spinvaluecheckthis\n",
        "      break\n",
        "    except:\n",
        "      tempexcept = True\n",
        "      #print('SPIN is not correct. Auto matically trying another spin value...')\n",
        "    else:\n",
        "      tempelse = True\n",
        "      #print('TRYING SPIN')\n",
        "  return molecule, spinvaluecheckthis\n",
        " \n"
      ],
      "metadata": {
        "id": "FoNOCHQiChEG"
      },
      "execution_count": 32,
      "outputs": []
    },
    {
      "cell_type": "markdown",
      "source": [
        "## Step 4: Expected format of output table "
      ],
      "metadata": {
        "id": "cxAQxLdTYX-J"
      }
    },
    {
      "cell_type": "markdown",
      "source": [
        "## Step 5. Input values to be considered in this computation  "
      ],
      "metadata": {
        "id": "yxkHxcxOYf9G"
      }
    },
    {
      "cell_type": "code",
      "source": [
        "import urllib   # the lib that handles the url stuff\n",
        "import urllib.request  # the lib that handles the url stuff\n",
        "import numpy\n",
        "\n",
        "print( 'No'  + '        ' + 'Element' + '    \\t  \\t \\t ' +  'Basis Set')\n",
        "\n",
        "for elementname in dictPeriodicTable.keys():\n",
        "  break\n",
        "  PerdiocTableNumber = dictPeriodicTable [elementname]\n",
        "  ValidatedBasisSet = getValidBasisSet(PerdiocTableNumber)\n",
        "  print('***********************************************************'+ 'No of Valid basis set = ' + str(len(ValidatedBasisSet)))\n",
        "\n",
        "  for BasisSet in ValidatedBasisSet:    \n",
        "    print('***********************************************************')\n",
        "    print('***********************************************************')\n",
        "    print('***********************************************************')\n",
        "                       #downloadBasisSetAutoVersion(1,'3-21G')\n",
        "    mydownloadedfile = downloadBasisSetAutoVersion(PerdiocTableNumber,BasisSet)\n",
        "    \n",
        "    molUnoptimized, myspin = buildaMoleculeTryMOLECULEELEMENTCOUNT2(elementname, elementname, mydownloadedfile , mydownloadedfile)\n",
        "\n",
        "    if molUnoptimized == None:\n",
        "      continue\n",
        "\n",
        "    mol = GetoptimizedMolecule(molUnoptimized)\n",
        "\n",
        "    continue\n",
        "\n",
        "    if mol == None:\n",
        "      continue\n",
        "\n",
        "    print(mol.atom)\n",
        "    print(mol.atom_coords(unit='Bohr'))\n",
        "    print(mol.basis)\n",
        "    print(str( PerdiocTableNumber)  + '        ' + str(elementname) + '    \\t  \\t \\t ' + str(BasisSet))\n",
        "\n",
        "    aResultDict = {}\n",
        "    aResultDict['Weight'] = PerdiocTableNumber\n",
        "    aResultDict['Element'] = [elementname]\n",
        "    aResultDict['Molecule'] = [mol.atom]\n",
        "    aResultDict['BasisSet'] = [BasisSet]\n",
        "    aResultDict['MolOBJECT'] = mol\n",
        "    aResultDict['BuiltMolecule'] = [  mol.basis   ]\n",
        "\n",
        "    dfforOneElement = pd.DataFrame(aResultDict )\n",
        "    df = df.append(dfforOneElement, ignore_index = True)\n",
        "\n",
        " \n"
      ],
      "metadata": {
        "id": "WibChtR29hCy",
        "colab": {
          "base_uri": "https://localhost:8080/"
        },
        "outputId": "25904491-23df-43bd-be8a-6296264fabc0"
      },
      "execution_count": 33,
      "outputs": [
        {
          "output_type": "stream",
          "name": "stdout",
          "text": [
            "No        Element    \t  \t \t Basis Set\n"
          ]
        }
      ]
    },
    {
      "cell_type": "markdown",
      "source": [
        "## Step 6. Compute Results\n",
        "## Run the computation for the above input values "
      ],
      "metadata": {
        "id": "8GKgQOHrYp3t"
      }
    },
    {
      "cell_type": "code",
      "source": [
        "functionalsList = ['b3lyp','M06-2X' , 'SCAN'    ,'wB97X-V',  'PW6B95' , 'pbe']\n",
        "\n",
        "functionalsList = ['b3lyp','M06-2X' , 'SCAN'    ,'wB97X-V',  'PW6B95' ,  'pbe' ,  'pbe0']\n",
        "\n",
        "\n",
        "#functionalsList = ['b3lyp']"
      ],
      "metadata": {
        "id": "v3fQHBV8l3hk"
      },
      "execution_count": 34,
      "outputs": []
    },
    {
      "cell_type": "code",
      "source": [
        "from pyscf import dft\n",
        "\n",
        "# DFT computation of SCF energy  \n",
        "def SCFenergyFunctionalsbasedonDFTGOLD(mol , functionals ):\n",
        "  if mol.spin == 0:\n",
        "    mf = dft.RKS(mol)\n",
        "  else:\n",
        "    mf = dft.UKS(mol)\n",
        "  # functional.\n",
        "  #mf.xc = 'B3LYP'\n",
        "  mf.max_memory = PYSCF_MAX_MEMORY\n",
        "  mf.xc = functionals\n",
        "  # Run the DFT calculation.\n",
        "  answerDFT = mf.kernel()\n",
        "  return answerDFT\n",
        "\n"
      ],
      "metadata": {
        "id": "m9dDlyeSik9_"
      },
      "execution_count": 35,
      "outputs": []
    },
    {
      "cell_type": "code",
      "source": [
        "\n",
        "# DFT computation of SCF energy  \n",
        "def SCFenergyFunctionalsbasedonDFT(mol , functionals ):\n",
        "    mf = mol.KS()\n",
        "   # mf.xc = 'b3lyp'\n",
        "   # mf.xc = 'pbe0'\n",
        "   # mf.xc = 'M06-2X'\n",
        "   # mf.xc = 'SCAN'    \n",
        "   # mf.xc = 'wB97X-V'\n",
        "   # mf.xc = 'PW6B95'\n",
        "    mf.xc = functionals\n",
        "    # Run the DFT calculation.\n",
        "    answerDFT = mf.kernel()\n",
        "    return answerDFT"
      ],
      "metadata": {
        "id": "V_S4At-sh8D1"
      },
      "execution_count": 36,
      "outputs": []
    },
    {
      "cell_type": "code",
      "source": [
        "def SCFenergyFunctionalsbasedonNNGOLD(mol,  NNfunctionals ):\n",
        "    if mol.spin == 0:\n",
        "      mf = dft.RKS(mol)\n",
        "    else:\n",
        "      mf = dft.UKS(mol)\n",
        "    #mf._numint = dm21.NeuralNumInt(dm21.Functional.DM21m )\n",
        "    mf._numint = dm21.NeuralNumInt(NNfunctionals)\n",
        "    mf.max_memory = PYSCF_MAX_MEMORY\n",
        "    mf.conv_tol = 1E-10\n",
        "    mf.conv_tol_grad = 1E-7    \n",
        "    # Run the DFT calculation.\n",
        "    answerNN = mf.kernel()\n",
        "    return answerNN"
      ],
      "metadata": {
        "id": "zhrEkD-vTqOJ"
      },
      "execution_count": 37,
      "outputs": []
    },
    {
      "cell_type": "code",
      "source": [
        "def SCFenergyFunctionalsbasedonNN(mol,  NNfunctionals, functionals='b3lyp'):\n",
        "    mf = mol.KS()\n",
        "    mf.xc = functionals\n",
        "    #mf._numint = dm21.NeuralNumInt(dm21.Functional.DM21m )\n",
        "    mf._numint = dm21.NeuralNumInt(NNfunctionals)\n",
        "    # Run the DFT calculation.\n",
        "    answerNN = mf.kernel()\n",
        "    return answerNN"
      ],
      "metadata": {
        "id": "q252BnqMmfWD"
      },
      "execution_count": 38,
      "outputs": []
    },
    {
      "cell_type": "code",
      "source": [
        " "
      ],
      "metadata": {
        "id": "jPXfm5TaqFXY"
      },
      "execution_count": 38,
      "outputs": []
    },
    {
      "cell_type": "code",
      "source": [
        " "
      ],
      "metadata": {
        "id": "cMOO55jPka49"
      },
      "execution_count": 38,
      "outputs": []
    },
    {
      "cell_type": "code",
      "source": [
        "# DFT computation of SCF energy  \n",
        "def SCFenergybasedonDFT(mol):\n",
        "    mf = dft.RKS(mol)\n",
        "    # Run the DFT calculation.\n",
        "    answerDFT = mf.kernel()\n",
        "    return answerDFT"
      ],
      "metadata": {
        "id": "W9GjaEhKAaCt"
      },
      "execution_count": 39,
      "outputs": []
    },
    {
      "cell_type": "code",
      "source": [
        "# Neural network based prediction of SCF energy   \n",
        "def SCFenergybasedonNN(mol):\n",
        "    mf = dft.RKS(mol)\n",
        "    mf._numint = dm21.NeuralNumInt(dm21.Functional.DM21)\n",
        "    # Run the DFT calculation.\n",
        "    answerNN = mf.kernel()\n",
        "    return answerNN"
      ],
      "metadata": {
        "id": "LzfM6gMZBABO"
      },
      "execution_count": 40,
      "outputs": []
    },
    {
      "cell_type": "code",
      "source": [
        "# CCSD computation \n",
        "def SCFenergybasedonCCSD(mol):\n",
        "  ccsdanswer = mol.apply('CCSD').run().e_tot\n",
        "  return ccsdanswer"
      ],
      "metadata": {
        "id": "jN6A1KpWBvD_"
      },
      "execution_count": 41,
      "outputs": []
    },
    {
      "cell_type": "code",
      "source": [
        "from pyscf import  scf, cc\n",
        "\n",
        "# CCSD-T computation \n",
        "def SCFenergybasedonCCSDTGOLD(mol):\n",
        "  try:\n",
        "    mf = scf.HF(mol).run()\n",
        "    mf.max_memory = PYSCF_MAX_MEMORY\n",
        "    mycc = cc.CCSD(mf).run()\n",
        "    #print('CCSD  energy', mycc.e_tot)\n",
        "    et = mycc.ccsd_t()\n",
        "    CCSDTotal = mycc.e_tot + et\n",
        "  except ZeroDivisionError:\n",
        "    print('000000000000000000000000000000000000000-------CCSDT Error------------00000000000000000000000. Using CCSD')\n",
        "    return SCFenergybasedonCCSD(mol)\n",
        "  #print('CCSD(T) total energy', mycc.e_tot + et)\n",
        "  return CCSDTotal\n",
        "\n",
        "  "
      ],
      "metadata": {
        "id": "t6DBX0xPJQUB"
      },
      "execution_count": 42,
      "outputs": []
    },
    {
      "cell_type": "code",
      "source": [
        ""
      ],
      "metadata": {
        "id": "7HNMoUa60U9w"
      },
      "execution_count": 42,
      "outputs": []
    },
    {
      "cell_type": "code",
      "source": [
        " "
      ],
      "metadata": {
        "id": "Rz8tJdhwR0C1"
      },
      "execution_count": 42,
      "outputs": []
    },
    {
      "cell_type": "code",
      "source": [
        "import urllib   # the lib that handles the url stuff\n",
        "import urllib.request  # the lib that handles the url stuff\n",
        "import numpy\n",
        "from google.colab import files\n",
        "\n",
        "\n",
        "print( 'No'  + '        ' + 'Element' + '    \\t  \\t \\t ' +  'Basis Set')\n",
        "\n"
      ],
      "metadata": {
        "id": "ZapSFREjSiAI",
        "colab": {
          "base_uri": "https://localhost:8080/"
        },
        "outputId": "1508da7d-bd90-490b-cea0-b178aa31d1dc"
      },
      "execution_count": 43,
      "outputs": [
        {
          "output_type": "stream",
          "name": "stdout",
          "text": [
            "No        Element    \t  \t \t Basis Set\n"
          ]
        }
      ]
    },
    {
      "cell_type": "code",
      "source": [
        "ValidatedBasisSetSOURCE = getValidBasisSet(PerdiocTableNumber)\n"
      ],
      "metadata": {
        "id": "RTtSH0rhUlLD"
      },
      "execution_count": 44,
      "outputs": []
    },
    {
      "cell_type": "code",
      "source": [
        "\n",
        "\n",
        "def compute1Mol1BasisSet(elementname, ValidatedBasisSetStart , df):\n",
        "  if True:\n",
        "    PerdiocTableNumber = dictPeriodicTable [elementname]\n",
        "    ValidatedBasisSet = ValidatedBasisSetSOURCE[ValidatedBasisSetStart:ValidatedBasisSetStart+1]\n",
        "    for BasisSet in ValidatedBasisSet:    \n",
        "      print('***********************************************************')\n",
        "      print('***********************************************************')\n",
        "      print('***********************************************************')\n",
        "\n",
        "      mydownloadedfile = downloadBasisSetAutoVersion(PerdiocTableNumber,BasisSet)      \n",
        "      molUnoptimized, myspin = buildaMoleculeTryMOLECULEELEMENTCOUNT2(elementname, elementname, mydownloadedfile , mydownloadedfile )\n",
        "      if molUnoptimized == None:\n",
        "        return df\n",
        "\n",
        "     # mol = GetoptimizedMolecule(molUnoptimized)\n",
        "      mol = molUnoptimized\n",
        "        \n",
        "      print(mol.atom)\n",
        "      print(mol.atom_coords(unit='Bohr'))\n",
        "      print(mol.basis)\n",
        "      print(str( PerdiocTableNumber)  + '        ' + str(elementname) + '    \\t  \\t \\t ' + str(BasisSet))     \n",
        "      print('.............................................COMPUTING.........COMPUTING.............................................')\n",
        "\n",
        "      aResultDict = computePart(mol )\n",
        "\n",
        "\n",
        "      aResultDict['BasisSet'] = [BasisSet]\n",
        "\n",
        "      dfforOneElement = pd.DataFrame(aResultDict )\n",
        "      df = df.append(dfforOneElement, ignore_index = True)\n",
        "      df.to_csv('ComputedEnergy'+str(ValidatedBasisSetStart)+'.csv')\n",
        "      df.to_csv('/content/drive/My Drive/DeepMind' + EXPNO+ 'CE'+str(ValidatedBasisSetStart)+'.csv' )\n",
        "      print(EXPNO+ 'CE'+str(ValidatedBasisSetStart)+'.csv')\n",
        "      return df\n",
        "\n",
        "\n",
        "    #  files.download('ComputedEnergy'+str(ValidatedBasisSetStart)+'.csv')\n",
        "\n",
        "\n",
        "      \n"
      ],
      "metadata": {
        "id": "nsFu58KgJbdq"
      },
      "execution_count": 45,
      "outputs": []
    },
    {
      "cell_type": "code",
      "source": [
        ""
      ],
      "metadata": {
        "id": "-IhokgA25r_9"
      },
      "execution_count": 45,
      "outputs": []
    },
    {
      "cell_type": "code",
      "source": [
        "\n",
        "\n",
        "\n",
        "def computePart(mol):\n",
        "  if True:\n",
        "      aResultDict = {}\n",
        "      aResultDict['Weight'] = PerdiocTableNumber\n",
        "      aResultDict['Element'] = [elementname]\n",
        "      aResultDict['Molecule'] = [mol.atom]\n",
        "      aResultDict['Spin'] = [mol.spin]\n",
        "      aResultDict['BuiltMolecule'] = [  mol.basis   ]\n",
        "\n",
        "      print('++++++++++++++++++++++++++++++++++++++++++++++++++  CCSD ++++++++++++++++++++++++++++++++++')\n",
        "      # Run the CCSD calculation.\n",
        "      CCSDenergy = SCFenergybasedonCCSD(mol)\n",
        "      print('ENERGY Computing using CCSD appoach is = ' + str(CCSDenergy ))\n",
        "      print('++++++++++++++++++++++++++++++++++++++++++++++++++  CCSD(T) ++++++++++++++++++++++++++++++++++')\n",
        "      CCSDTenergy = SCFenergybasedonCCSDTGOLD(mol)\n",
        "      print('ENERGY Computing using CCSD T appoach is = ' + str(CCSDTenergy ))\n",
        "\n",
        "\n",
        "      #aResultDict['DFTApproach'] = answerDFT\n",
        "      #aResultDict['NNApproach'] = answerNN\n",
        "      aResultDict['CCSD'] = CCSDenergy\n",
        "      aResultDict['CCSDT'] = CCSDTenergy\n",
        "\n",
        "      print('++++++++++++++++++++++++++++++++++++++++++++++++++  DFT Functionals ++++++++++++++++++++++++++++++++++')\n",
        "      for afunctionals in functionalsList:\n",
        "        ans = SCFenergyFunctionalsbasedonDFTGOLD(mol, afunctionals)\n",
        "        aResultDict['DFT-'+str(afunctionals)] = ans    \n",
        "\n",
        "      print('++++++++++++++++++++++++++++++++++++++++++++++++++  DM21 Functionals ++++++++++++++++++++++++++++++++++')\n",
        "      for aDMFunctionalvalue in dm21.Functional:\n",
        "        ans = SCFenergyFunctionalsbasedonNNGOLD(mol, aDMFunctionalvalue)\n",
        "        aResultDict['NN-'+str(aDMFunctionalvalue)] = ans    \n",
        "\n",
        "      return aResultDict\n",
        "\n",
        "\n",
        "\n",
        "\n",
        "  \n"
      ],
      "metadata": {
        "id": "OTCbozQTSkL1"
      },
      "execution_count": 46,
      "outputs": []
    },
    {
      "cell_type": "code",
      "source": [
        "if firstTimeorRestart == True:\n",
        "  df = pd.DataFrame(columns = ['Weight', 'Element', 'Molecule', 'BasisSet','Spin', 'BuiltMolecule' ])\n"
      ],
      "metadata": {
        "id": "rpSyWt2ibZtb"
      },
      "execution_count": 47,
      "outputs": []
    },
    {
      "cell_type": "code",
      "source": [
        "\n",
        "for i in range(0, len(ValidatedBasisSetSOURCE)):\n",
        "  try:\n",
        "    for elementname in dictPeriodicTable.keys():\n",
        "      df = compute1Mol1BasisSet(elementname, ValidatedBasisSetStart=i , df=df)\n",
        "  except:\n",
        "    print('Exception.. continuing')"
      ],
      "metadata": {
        "colab": {
          "base_uri": "https://localhost:8080/"
        },
        "id": "_uYNebVpoeD0",
        "outputId": "0fd53b5e-b4ec-4d78-a442-13b20c950d40"
      },
      "execution_count": 48,
      "outputs": [
        {
          "output_type": "stream",
          "name": "stdout",
          "text": [
            "***********************************************************\n",
            "***********************************************************\n",
            "***********************************************************\n",
            "\n",
            "      H\t0.0000000\t0.0000000\t0.3709280\n",
            "      H\t0.0000000\t0.0000000\t-0.3709280\n",
            "      \n",
            "[[ 0.          0.          0.70095233]\n",
            " [ 0.          0.         -0.70095233]]\n",
            "{'H': [[0, [1776.77556, 0.0, 0.0, 0.0, 4.4e-05, 0.0, 0.0], [254.017712, 0.0, 0.0, 0.0, 0.000372, 0.0, 0.0], [54.698039, 0.0, 0.0, 0.0, 0.002094, 0.0, 0.0], [15.018344, 0.0, 0.0, 0.0, 0.008863, 0.0, 0.0], [4.915078, 0.0, 0.0, 0.0, 0.03054, 0.0, 0.0], [1.794924, 1.0, 0.0, 0.0, 0.090342, 0.0, 0.0], [0.710716, 0.0, 1.0, 0.0, 0.213239, 0.0, 0.0], [0.304802, 0.0, 0.0, 1.0, 0.35235, 0.0, 0.0], [0.138046, 0.0, 0.0, 0.0, 0.339657, 1.0, 0.0], [0.062157, 0.0, 0.0, 0.0, 0.10733, 0.0, 1.0]], [1, [8.649, 1.0, 0.0, 0.0, 0.0, 0.0], [3.43, 0.0, 1.0, 0.0, 0.0, 0.0], [1.36, 0.0, 0.0, 1.0, 0.0, 0.0], [0.539, 0.0, 0.0, 0.0, 1.0, 0.0], [0.214, 0.0, 0.0, 0.0, 0.0, 1.0]], [2, [4.453, 1.0, 0.0, 0.0, 0.0], [1.958, 0.0, 1.0, 0.0, 0.0], [0.861, 0.0, 0.0, 1.0, 0.0], [0.378, 0.0, 0.0, 0.0, 1.0]], [3, [4.1, 1.0, 0.0, 0.0], [1.78, 0.0, 1.0, 0.0], [0.773, 0.0, 0.0, 1.0]], [4, [3.199, 1.0, 0.0], [1.326, 0.0, 1.0]], [5, [2.653, 1.0]]]}\n",
            "1        H    \t  \t \t cc-pV6Z\n",
            ".............................................COMPUTING.........COMPUTING.............................................\n",
            "++++++++++++++++++++++++++++++++++++++++++++++++++  CCSD ++++++++++++++++++++++++++++++++++\n",
            "converged SCF energy = -1.13361454420581\n",
            "E(CCSD) = -1.174345559414206  E_corr = -0.04073101520839736\n",
            "ENERGY Computing using CCSD appoach is = -1.1743455594142058\n",
            "++++++++++++++++++++++++++++++++++++++++++++++++++  CCSD(T) ++++++++++++++++++++++++++++++++++\n",
            "converged SCF energy = -1.13361454420581\n",
            "E(CCSD) = -1.174345559414205  E_corr = -0.04073101520839637\n",
            "CCSD(T) correction = -2.24752025553445e-20\n",
            "ENERGY Computing using CCSD T appoach is = -1.174345559414205\n",
            "++++++++++++++++++++++++++++++++++++++++++++++++++  DFT Functionals ++++++++++++++++++++++++++++++++++\n",
            "converged SCF energy = -1.17394755291232\n",
            "converged SCF energy = -1.1702535947467\n",
            "converged SCF energy = -1.17191064378077\n",
            "converged SCF energy = -1.18213471579279\n",
            "converged SCF energy = -1.17587059666965\n",
            "converged SCF energy = -1.1667000327928\n",
            "converged SCF energy = -1.16906067545343\n",
            "++++++++++++++++++++++++++++++++++++++++++++++++++  DM21 Functionals ++++++++++++++++++++++++++++++++++\n",
            "INFO:tensorflow:Saver not created because there are no variables in the graph to restore\n",
            "WARNING:tensorflow:From /usr/local/lib/python3.7/dist-packages/tensorflow_hub/saved_model_lib.py:111: build_tensor_info (from tensorflow.python.saved_model.utils_impl) is deprecated and will be removed in a future version.\n",
            "Instructions for updating:\n",
            "This function will only be available through the v1 compatibility library as tf.compat.v1.saved_model.utils.build_tensor_info or tf.compat.v1.saved_model.build_tensor_info.\n",
            "SCF not converged.\n",
            "SCF energy = -1.17701203603204\n",
            "INFO:tensorflow:Saver not created because there are no variables in the graph to restore\n",
            "SCF not converged.\n",
            "SCF energy = -1.17386082580168\n",
            "INFO:tensorflow:Saver not created because there are no variables in the graph to restore\n",
            "SCF not converged.\n",
            "SCF energy = -1.17764002425875\n",
            "INFO:tensorflow:Saver not created because there are no variables in the graph to restore\n",
            "SCF not converged.\n",
            "SCF energy = -1.17541066311452\n",
            "EXP_1102_HCE0.csv\n",
            "***********************************************************\n",
            "***********************************************************\n",
            "***********************************************************\n",
            "\n",
            "      H\t0.0000000\t0.0000000\t0.3709280\n",
            "      H\t0.0000000\t0.0000000\t-0.3709280\n",
            "      \n",
            "[[ 0.          0.          0.70095233]\n",
            " [ 0.          0.         -0.70095233]]\n",
            "{'H': [[0, [82.64, 0.0, 0.0, 0.002006, 0.0], [12.41, 0.0, 0.0, 0.015343, 0.0], [2.824, 0.0, 0.0, 0.075579, 0.0], [0.7977, 1.0, 0.0, 0.256875, 0.0], [0.2581, 0.0, 1.0, 0.497368, 0.0], [0.08989, 0.0, 0.0, 0.296133, 1.0]], [1, [2.292, 1.0, 0.0, 0.0], [0.838, 0.0, 1.0, 0.0], [0.292, 0.0, 0.0, 1.0]], [2, [2.062, 1.0, 0.0], [0.662, 0.0, 1.0]], [3, [1.397, 1.0]]]}\n",
            "1        H    \t  \t \t cc-pVQZ\n",
            ".............................................COMPUTING.........COMPUTING.............................................\n",
            "++++++++++++++++++++++++++++++++++++++++++++++++++  CCSD ++++++++++++++++++++++++++++++++++\n",
            "converged SCF energy = -1.1334483274103\n",
            "E(CCSD) = -1.173796470149371  E_corr = -0.0403481427390717\n",
            "ENERGY Computing using CCSD appoach is = -1.1737964701493706\n",
            "++++++++++++++++++++++++++++++++++++++++++++++++++  CCSD(T) ++++++++++++++++++++++++++++++++++\n",
            "converged SCF energy = -1.1334483274103\n",
            "E(CCSD) = -1.173796470149375  E_corr = -0.04034814273907208\n",
            "CCSD(T) correction = 1.56601436961859e-20\n",
            "ENERGY Computing using CCSD T appoach is = -1.1737964701493755\n",
            "++++++++++++++++++++++++++++++++++++++++++++++++++  DFT Functionals ++++++++++++++++++++++++++++++++++\n",
            "converged SCF energy = -1.17377818964014\n",
            "converged SCF energy = -1.16951146063892\n",
            "converged SCF energy = -1.17175484129108\n",
            "converged SCF energy = -1.18198138203327\n",
            "converged SCF energy = -1.17569625192842\n",
            "converged SCF energy = -1.16654648541998\n",
            "converged SCF energy = -1.16891012095905\n",
            "++++++++++++++++++++++++++++++++++++++++++++++++++  DM21 Functionals ++++++++++++++++++++++++++++++++++\n",
            "INFO:tensorflow:Saver not created because there are no variables in the graph to restore\n",
            "converged SCF energy = -1.17670080528467\n",
            "INFO:tensorflow:Saver not created because there are no variables in the graph to restore\n",
            "converged SCF energy = -1.17360267272199\n",
            "INFO:tensorflow:Saver not created because there are no variables in the graph to restore\n",
            "converged SCF energy = -1.17736442856533\n",
            "INFO:tensorflow:Saver not created because there are no variables in the graph to restore\n",
            "converged SCF energy = -1.17518485582444\n",
            "EXP_1102_HCE1.csv\n",
            "***********************************************************\n",
            "***********************************************************\n",
            "***********************************************************\n",
            "\n",
            "      H\t0.0000000\t0.0000000\t0.3709280\n",
            "      H\t0.0000000\t0.0000000\t-0.3709280\n",
            "      \n",
            "[[ 0.          0.          0.70095233]\n",
            " [ 0.          0.         -0.70095233]]\n",
            "{'H': [[0, [13.01, 0.019685, 0.0], [1.962, 0.137977, 0.0], [0.4446, 0.478148, 0.0], [0.122, 0.50124, 1.0]], [1, [0.727, 1.0]]]}\n",
            "1        H    \t  \t \t cc-pVDZ\n",
            ".............................................COMPUTING.........COMPUTING.............................................\n",
            "++++++++++++++++++++++++++++++++++++++++++++++++++  CCSD ++++++++++++++++++++++++++++++++++\n",
            "converged SCF energy = -1.12871916906216\n",
            "E(CCSD) = -1.163426159574044  E_corr = -0.03470699051187975\n",
            "ENERGY Computing using CCSD appoach is = -1.1634261595740438\n",
            "++++++++++++++++++++++++++++++++++++++++++++++++++  CCSD(T) ++++++++++++++++++++++++++++++++++\n",
            "converged SCF energy = -1.12871916906216\n",
            "E(CCSD) = -1.163426159574043  E_corr = -0.03470699051188025\n",
            "CCSD(T) correction = 3.75588308678752e-19\n",
            "ENERGY Computing using CCSD T appoach is = -1.1634261595740434\n",
            "++++++++++++++++++++++++++++++++++++++++++++++++++  DFT Functionals ++++++++++++++++++++++++++++++++++\n",
            "converged SCF energy = -1.16656366782288\n",
            "converged SCF energy = -1.16324494923282\n",
            "converged SCF energy = -1.16590831417186\n",
            "converged SCF energy = -1.1757790338439\n",
            "converged SCF energy = -1.16845948154514\n",
            "converged SCF energy = -1.15991848569552\n",
            "converged SCF energy = -1.1633502615569\n",
            "++++++++++++++++++++++++++++++++++++++++++++++++++  DM21 Functionals ++++++++++++++++++++++++++++++++++\n",
            "INFO:tensorflow:Saver not created because there are no variables in the graph to restore\n",
            "converged SCF energy = -1.16905776993941\n",
            "INFO:tensorflow:Saver not created because there are no variables in the graph to restore\n",
            "converged SCF energy = -1.16580349625337\n",
            "INFO:tensorflow:Saver not created because there are no variables in the graph to restore\n",
            "converged SCF energy = -1.16975696610346\n",
            "INFO:tensorflow:Saver not created because there are no variables in the graph to restore\n",
            "converged SCF energy = -1.16722124379472\n",
            "EXP_1102_HCE2.csv\n",
            "***********************************************************\n",
            "***********************************************************\n",
            "***********************************************************\n",
            "\n",
            "      H\t0.0000000\t0.0000000\t0.3709280\n",
            "      H\t0.0000000\t0.0000000\t-0.3709280\n",
            "      \n",
            "[[ 0.          0.          0.70095233]\n",
            " [ 0.          0.         -0.70095233]]\n",
            "{'H': [[0, [190.69169, 0.00070815167], [28.605532, 0.0054678827], [6.5095943, 0.027966605], [1.8412455, 0.10764538]], [0, [0.59853725, 1.0]], [0, [0.21397624, 1.0]], [0, [0.080316286, 1.0]], [1, [2.292, 1.0]], [1, [0.838, 1.0]], [1, [0.292, 1.0]], [2, [2.062, 1.0]], [2, [0.662, 1.0]], [3, [1.397, 1.0]]]}\n",
            "1        H    \t  \t \t def2-QZVP\n",
            ".............................................COMPUTING.........COMPUTING.............................................\n",
            "++++++++++++++++++++++++++++++++++++++++++++++++++  CCSD ++++++++++++++++++++++++++++++++++\n",
            "converged SCF energy = -1.1335436742239\n",
            "E(CCSD) = -1.173869637647594  E_corr = -0.0403259634236932\n",
            "ENERGY Computing using CCSD appoach is = -1.1738696376475943\n",
            "++++++++++++++++++++++++++++++++++++++++++++++++++  CCSD(T) ++++++++++++++++++++++++++++++++++\n",
            "converged SCF energy = -1.1335436742239\n",
            "E(CCSD) = -1.173869637647594  E_corr = -0.04032596342369315\n",
            "CCSD(T) correction = -2.80519769170914e-20\n",
            "ENERGY Computing using CCSD T appoach is = -1.1738696376475939\n",
            "++++++++++++++++++++++++++++++++++++++++++++++++++  DFT Functionals ++++++++++++++++++++++++++++++++++\n",
            "converged SCF energy = -1.17387653665572\n",
            "converged SCF energy = -1.16949928424035\n",
            "converged SCF energy = -1.17185140950636\n",
            "converged SCF energy = -1.18207287499788\n",
            "converged SCF energy = -1.17579860720675\n",
            "converged SCF energy = -1.1666418863984\n",
            "converged SCF energy = -1.16900274559473\n",
            "++++++++++++++++++++++++++++++++++++++++++++++++++  DM21 Functionals ++++++++++++++++++++++++++++++++++\n",
            "INFO:tensorflow:Saver not created because there are no variables in the graph to restore\n",
            "converged SCF energy = -1.17690663390463\n",
            "INFO:tensorflow:Saver not created because there are no variables in the graph to restore\n",
            "converged SCF energy = -1.17378663345275\n",
            "INFO:tensorflow:Saver not created because there are no variables in the graph to restore\n",
            "converged SCF energy = -1.17748580230349\n",
            "INFO:tensorflow:Saver not created because there are no variables in the graph to restore\n",
            "converged SCF energy = -1.17534030217687\n",
            "EXP_1102_HCE3.csv\n",
            "***********************************************************\n",
            "***********************************************************\n",
            "***********************************************************\n",
            "\n",
            "      H\t0.0000000\t0.0000000\t0.3709280\n",
            "      H\t0.0000000\t0.0000000\t-0.3709280\n",
            "      \n",
            "[[ 0.          0.          0.70095233]\n",
            " [ 0.          0.         -0.70095233]]\n",
            "{'H': [[0, [18.731137, 0.0334946], [2.8253937, 0.23472695], [0.6401217, 0.81375733]], [0, [0.1612778, 1.0]]]}\n",
            "1        H    \t  \t \t 6-31g\n",
            ".............................................COMPUTING.........COMPUTING.............................................\n",
            "++++++++++++++++++++++++++++++++++++++++++++++++++  CCSD ++++++++++++++++++++++++++++++++++\n",
            "converged SCF energy = -1.12672643437921\n",
            "E(CCSD) = -1.151685617417932  E_corr = -0.02495918303871758\n",
            "ENERGY Computing using CCSD appoach is = -1.1516856174179315\n",
            "++++++++++++++++++++++++++++++++++++++++++++++++++  CCSD(T) ++++++++++++++++++++++++++++++++++\n",
            "converged SCF energy = -1.12672643437921\n",
            "E(CCSD) = -1.151685617417932  E_corr = -0.02495918303871758\n",
            "CCSD(T) correction = 2.79367104819146e-19\n",
            "ENERGY Computing using CCSD T appoach is = -1.1516856174179315\n",
            "++++++++++++++++++++++++++++++++++++++++++++++++++  DFT Functionals ++++++++++++++++++++++++++++++++++\n",
            "converged SCF energy = -1.16871539121655\n",
            "converged SCF energy = -1.16369654473774\n",
            "converged SCF energy = -1.16680164348866\n",
            "converged SCF energy = -1.17678370300704\n",
            "converged SCF energy = -1.17055754450015\n",
            "converged SCF energy = -1.16192796069857\n",
            "converged SCF energy = -1.16388478959708\n",
            "++++++++++++++++++++++++++++++++++++++++++++++++++  DM21 Functionals ++++++++++++++++++++++++++++++++++\n",
            "INFO:tensorflow:Saver not created because there are no variables in the graph to restore\n",
            "converged SCF energy = -1.17133482507998\n",
            "INFO:tensorflow:Saver not created because there are no variables in the graph to restore\n",
            "converged SCF energy = -1.16796380372729\n",
            "INFO:tensorflow:Saver not created because there are no variables in the graph to restore\n",
            "converged SCF energy = -1.17201047108892\n",
            "INFO:tensorflow:Saver not created because there are no variables in the graph to restore\n",
            "converged SCF energy = -1.16954261111545\n",
            "EXP_1102_HCE4.csv\n",
            "***********************************************************\n",
            "***********************************************************\n",
            "***********************************************************\n",
            "\n",
            "      H\t0.0000000\t0.0000000\t0.3709280\n",
            "      H\t0.0000000\t0.0000000\t-0.3709280\n",
            "      \n",
            "[[ 0.          0.          0.70095233]\n",
            " [ 0.          0.         -0.70095233]]\n",
            "{'H': [[0, [3.42525091, 0.15432897], [0.62391373, 0.53532814], [0.1688554, 0.44463454]]]}\n",
            "1        H    \t  \t \t STO-3G\n",
            ".............................................COMPUTING.........COMPUTING.............................................\n",
            "++++++++++++++++++++++++++++++++++++++++++++++++++  CCSD ++++++++++++++++++++++++++++++++++\n",
            "converged SCF energy = -1.11665925713753\n",
            "E(CCSD) = -1.137265199191297  E_corr = -0.02060594205376352\n",
            "ENERGY Computing using CCSD appoach is = -1.1372651991912972\n",
            "++++++++++++++++++++++++++++++++++++++++++++++++++  CCSD(T) ++++++++++++++++++++++++++++++++++\n",
            "converged SCF energy = -1.11665925713753\n",
            "E(CCSD) = -1.137265199191297  E_corr = -0.02060594205376352\n",
            "CCSD(T) correction = -5.19646466196487e-49\n",
            "ENERGY Computing using CCSD T appoach is = -1.1372651991912972\n",
            "++++++++++++++++++++++++++++++++++++++++++++++++++  DFT Functionals ++++++++++++++++++++++++++++++++++\n",
            "converged SCF energy = -1.15857801874841\n",
            "converged SCF energy = -1.15440349180767\n",
            "converged SCF energy = -1.15742136334483\n",
            "converged SCF energy = -1.16699106870752\n",
            "converged SCF energy = -1.16073521449268\n",
            "converged SCF energy = -1.1520528350325\n",
            "converged SCF energy = -1.1542870152867\n",
            "++++++++++++++++++++++++++++++++++++++++++++++++++  DM21 Functionals ++++++++++++++++++++++++++++++++++\n",
            "INFO:tensorflow:Saver not created because there are no variables in the graph to restore\n",
            "converged SCF energy = -1.16164591037923\n",
            "INFO:tensorflow:Saver not created because there are no variables in the graph to restore\n",
            "converged SCF energy = -1.15828440135856\n",
            "INFO:tensorflow:Saver not created because there are no variables in the graph to restore\n",
            "converged SCF energy = -1.16079871522143\n",
            "INFO:tensorflow:Saver not created because there are no variables in the graph to restore\n",
            "converged SCF energy = -1.15968012736489\n",
            "EXP_1102_HCE5.csv\n"
          ]
        }
      ]
    },
    {
      "cell_type": "markdown",
      "source": [
        " energy for H2 (Hydrogen diatomic) CCSD(T)=FULL /\tcc-pVQZ\t -1.1737930\t"
      ],
      "metadata": {
        "id": "wzYWskSqLSg3"
      }
    },
    {
      "cell_type": "code",
      "source": [
        " "
      ],
      "metadata": {
        "id": "l1lbFpghL18x"
      },
      "execution_count": 48,
      "outputs": []
    },
    {
      "cell_type": "markdown",
      "source": [
        "## Step 7: The results are below "
      ],
      "metadata": {
        "id": "UKMo-4eaZIEw"
      }
    },
    {
      "cell_type": "markdown",
      "source": [
        "#### Explanation of Output table \n",
        "\n",
        "#### Input to software  \n",
        "* Weight' - atomic weight \n",
        "* 'Element' - element in periodic table \n",
        "*  'Spin'        - This is hardcoded in this project.  No need to give spin in the next project \n",
        "* 'BasisSet' - the name of basis set \n",
        "\n",
        "\n",
        "#### Generared values based on input \n",
        "\n",
        "*   'Molecule' - the pyscf molecule defined \n",
        "*   'BasisSetURL'  - The url used to downloaded the basis set \n",
        "*    'MolOBJECT' - The pyscf python object instance - internal to code \n",
        "*    'Coord'           \n",
        "*    'BuiltMolecule'  - The molecule coordinates \n",
        "\n",
        "\n",
        "#### Generared values based on input \n",
        "\n",
        "1.   'DFTApproach' - SCF energy from DFT computation \n",
        "2.   'NNApproach'  - SCF energy from Neural network prediction\n",
        "3.    'CCSDApproach'- SCF energy from CCSD \n",
        "\n",
        "\n"
      ],
      "metadata": {
        "id": "nonUL4tbCLGd"
      }
    },
    {
      "cell_type": "code",
      "source": [
        "for i in range (len(df['Molecule'] )):\n",
        "  print( df['BasisSet'] [i]    )\n",
        "  print(  df['Molecule'] [i] )"
      ],
      "metadata": {
        "id": "xjoMqMfB-rcW",
        "colab": {
          "base_uri": "https://localhost:8080/"
        },
        "outputId": "425bb4d5-5d85-47fc-ece6-1e9d5fb46655"
      },
      "execution_count": 49,
      "outputs": [
        {
          "output_type": "stream",
          "name": "stdout",
          "text": [
            "cc-pV6Z\n",
            "\n",
            "      H\t0.0000000\t0.0000000\t0.3709280\n",
            "      H\t0.0000000\t0.0000000\t-0.3709280\n",
            "      \n",
            "cc-pVQZ\n",
            "\n",
            "      H\t0.0000000\t0.0000000\t0.3709280\n",
            "      H\t0.0000000\t0.0000000\t-0.3709280\n",
            "      \n",
            "cc-pVDZ\n",
            "\n",
            "      H\t0.0000000\t0.0000000\t0.3709280\n",
            "      H\t0.0000000\t0.0000000\t-0.3709280\n",
            "      \n",
            "def2-QZVP\n",
            "\n",
            "      H\t0.0000000\t0.0000000\t0.3709280\n",
            "      H\t0.0000000\t0.0000000\t-0.3709280\n",
            "      \n",
            "6-31g\n",
            "\n",
            "      H\t0.0000000\t0.0000000\t0.3709280\n",
            "      H\t0.0000000\t0.0000000\t-0.3709280\n",
            "      \n",
            "STO-3G\n",
            "\n",
            "      H\t0.0000000\t0.0000000\t0.3709280\n",
            "      H\t0.0000000\t0.0000000\t-0.3709280\n",
            "      \n"
          ]
        }
      ]
    },
    {
      "cell_type": "code",
      "source": [
        "del df['BuiltMolecule']"
      ],
      "metadata": {
        "id": "-bbPJEN5agq_"
      },
      "execution_count": 50,
      "outputs": []
    },
    {
      "cell_type": "code",
      "source": [
        "df"
      ],
      "metadata": {
        "id": "MBjyAOLS_h-b",
        "colab": {
          "base_uri": "https://localhost:8080/",
          "height": 527
        },
        "outputId": "375a4301-7687-44b7-f99b-30b5de084428"
      },
      "execution_count": 51,
      "outputs": [
        {
          "output_type": "execute_result",
          "data": {
            "text/plain": [
              "  Weight Element                                           Molecule  \\\n",
              "0      1       H  \\n      H\\t0.0000000\\t0.0000000\\t0.3709280\\n  ...   \n",
              "1      1       H  \\n      H\\t0.0000000\\t0.0000000\\t0.3709280\\n  ...   \n",
              "2      1       H  \\n      H\\t0.0000000\\t0.0000000\\t0.3709280\\n  ...   \n",
              "3      1       H  \\n      H\\t0.0000000\\t0.0000000\\t0.3709280\\n  ...   \n",
              "4      1       H  \\n      H\\t0.0000000\\t0.0000000\\t0.3709280\\n  ...   \n",
              "5      1       H  \\n      H\\t0.0000000\\t0.0000000\\t0.3709280\\n  ...   \n",
              "\n",
              "    BasisSet Spin      CCSD     CCSDT  DFT-b3lyp  DFT-M06-2X  DFT-SCAN  \\\n",
              "0    cc-pV6Z    0 -1.174346 -1.174346  -1.173948   -1.170254 -1.171911   \n",
              "1    cc-pVQZ    0 -1.173796 -1.173796  -1.173778   -1.169511 -1.171755   \n",
              "2    cc-pVDZ    0 -1.163426 -1.163426  -1.166564   -1.163245 -1.165908   \n",
              "3  def2-QZVP    0 -1.173870 -1.173870  -1.173877   -1.169499 -1.171851   \n",
              "4      6-31g    0 -1.151686 -1.151686  -1.168715   -1.163697 -1.166802   \n",
              "5     STO-3G    0 -1.137265 -1.137265  -1.158578   -1.154403 -1.157421   \n",
              "\n",
              "   DFT-wB97X-V  DFT-PW6B95   DFT-pbe  DFT-pbe0  NN-Functional.DM21  \\\n",
              "0    -1.182135   -1.175871 -1.166700 -1.169061           -1.177012   \n",
              "1    -1.181981   -1.175696 -1.166546 -1.168910           -1.176701   \n",
              "2    -1.175779   -1.168459 -1.159918 -1.163350           -1.169058   \n",
              "3    -1.182073   -1.175799 -1.166642 -1.169003           -1.176907   \n",
              "4    -1.176784   -1.170558 -1.161928 -1.163885           -1.171335   \n",
              "5    -1.166991   -1.160735 -1.152053 -1.154287           -1.161646   \n",
              "\n",
              "   NN-Functional.DM21m  NN-Functional.DM21mc  NN-Functional.DM21mu  \n",
              "0            -1.173861             -1.177640             -1.175411  \n",
              "1            -1.173603             -1.177364             -1.175185  \n",
              "2            -1.165803             -1.169757             -1.167221  \n",
              "3            -1.173787             -1.177486             -1.175340  \n",
              "4            -1.167964             -1.172010             -1.169543  \n",
              "5            -1.158284             -1.160799             -1.159680  "
            ],
            "text/html": [
              "\n",
              "  <div id=\"df-67367259-152d-47bd-90aa-e4f4986e197a\">\n",
              "    <div class=\"colab-df-container\">\n",
              "      <div>\n",
              "<style scoped>\n",
              "    .dataframe tbody tr th:only-of-type {\n",
              "        vertical-align: middle;\n",
              "    }\n",
              "\n",
              "    .dataframe tbody tr th {\n",
              "        vertical-align: top;\n",
              "    }\n",
              "\n",
              "    .dataframe thead th {\n",
              "        text-align: right;\n",
              "    }\n",
              "</style>\n",
              "<table border=\"1\" class=\"dataframe\">\n",
              "  <thead>\n",
              "    <tr style=\"text-align: right;\">\n",
              "      <th></th>\n",
              "      <th>Weight</th>\n",
              "      <th>Element</th>\n",
              "      <th>Molecule</th>\n",
              "      <th>BasisSet</th>\n",
              "      <th>Spin</th>\n",
              "      <th>CCSD</th>\n",
              "      <th>CCSDT</th>\n",
              "      <th>DFT-b3lyp</th>\n",
              "      <th>DFT-M06-2X</th>\n",
              "      <th>DFT-SCAN</th>\n",
              "      <th>DFT-wB97X-V</th>\n",
              "      <th>DFT-PW6B95</th>\n",
              "      <th>DFT-pbe</th>\n",
              "      <th>DFT-pbe0</th>\n",
              "      <th>NN-Functional.DM21</th>\n",
              "      <th>NN-Functional.DM21m</th>\n",
              "      <th>NN-Functional.DM21mc</th>\n",
              "      <th>NN-Functional.DM21mu</th>\n",
              "    </tr>\n",
              "  </thead>\n",
              "  <tbody>\n",
              "    <tr>\n",
              "      <th>0</th>\n",
              "      <td>1</td>\n",
              "      <td>H</td>\n",
              "      <td>\\n      H\\t0.0000000\\t0.0000000\\t0.3709280\\n  ...</td>\n",
              "      <td>cc-pV6Z</td>\n",
              "      <td>0</td>\n",
              "      <td>-1.174346</td>\n",
              "      <td>-1.174346</td>\n",
              "      <td>-1.173948</td>\n",
              "      <td>-1.170254</td>\n",
              "      <td>-1.171911</td>\n",
              "      <td>-1.182135</td>\n",
              "      <td>-1.175871</td>\n",
              "      <td>-1.166700</td>\n",
              "      <td>-1.169061</td>\n",
              "      <td>-1.177012</td>\n",
              "      <td>-1.173861</td>\n",
              "      <td>-1.177640</td>\n",
              "      <td>-1.175411</td>\n",
              "    </tr>\n",
              "    <tr>\n",
              "      <th>1</th>\n",
              "      <td>1</td>\n",
              "      <td>H</td>\n",
              "      <td>\\n      H\\t0.0000000\\t0.0000000\\t0.3709280\\n  ...</td>\n",
              "      <td>cc-pVQZ</td>\n",
              "      <td>0</td>\n",
              "      <td>-1.173796</td>\n",
              "      <td>-1.173796</td>\n",
              "      <td>-1.173778</td>\n",
              "      <td>-1.169511</td>\n",
              "      <td>-1.171755</td>\n",
              "      <td>-1.181981</td>\n",
              "      <td>-1.175696</td>\n",
              "      <td>-1.166546</td>\n",
              "      <td>-1.168910</td>\n",
              "      <td>-1.176701</td>\n",
              "      <td>-1.173603</td>\n",
              "      <td>-1.177364</td>\n",
              "      <td>-1.175185</td>\n",
              "    </tr>\n",
              "    <tr>\n",
              "      <th>2</th>\n",
              "      <td>1</td>\n",
              "      <td>H</td>\n",
              "      <td>\\n      H\\t0.0000000\\t0.0000000\\t0.3709280\\n  ...</td>\n",
              "      <td>cc-pVDZ</td>\n",
              "      <td>0</td>\n",
              "      <td>-1.163426</td>\n",
              "      <td>-1.163426</td>\n",
              "      <td>-1.166564</td>\n",
              "      <td>-1.163245</td>\n",
              "      <td>-1.165908</td>\n",
              "      <td>-1.175779</td>\n",
              "      <td>-1.168459</td>\n",
              "      <td>-1.159918</td>\n",
              "      <td>-1.163350</td>\n",
              "      <td>-1.169058</td>\n",
              "      <td>-1.165803</td>\n",
              "      <td>-1.169757</td>\n",
              "      <td>-1.167221</td>\n",
              "    </tr>\n",
              "    <tr>\n",
              "      <th>3</th>\n",
              "      <td>1</td>\n",
              "      <td>H</td>\n",
              "      <td>\\n      H\\t0.0000000\\t0.0000000\\t0.3709280\\n  ...</td>\n",
              "      <td>def2-QZVP</td>\n",
              "      <td>0</td>\n",
              "      <td>-1.173870</td>\n",
              "      <td>-1.173870</td>\n",
              "      <td>-1.173877</td>\n",
              "      <td>-1.169499</td>\n",
              "      <td>-1.171851</td>\n",
              "      <td>-1.182073</td>\n",
              "      <td>-1.175799</td>\n",
              "      <td>-1.166642</td>\n",
              "      <td>-1.169003</td>\n",
              "      <td>-1.176907</td>\n",
              "      <td>-1.173787</td>\n",
              "      <td>-1.177486</td>\n",
              "      <td>-1.175340</td>\n",
              "    </tr>\n",
              "    <tr>\n",
              "      <th>4</th>\n",
              "      <td>1</td>\n",
              "      <td>H</td>\n",
              "      <td>\\n      H\\t0.0000000\\t0.0000000\\t0.3709280\\n  ...</td>\n",
              "      <td>6-31g</td>\n",
              "      <td>0</td>\n",
              "      <td>-1.151686</td>\n",
              "      <td>-1.151686</td>\n",
              "      <td>-1.168715</td>\n",
              "      <td>-1.163697</td>\n",
              "      <td>-1.166802</td>\n",
              "      <td>-1.176784</td>\n",
              "      <td>-1.170558</td>\n",
              "      <td>-1.161928</td>\n",
              "      <td>-1.163885</td>\n",
              "      <td>-1.171335</td>\n",
              "      <td>-1.167964</td>\n",
              "      <td>-1.172010</td>\n",
              "      <td>-1.169543</td>\n",
              "    </tr>\n",
              "    <tr>\n",
              "      <th>5</th>\n",
              "      <td>1</td>\n",
              "      <td>H</td>\n",
              "      <td>\\n      H\\t0.0000000\\t0.0000000\\t0.3709280\\n  ...</td>\n",
              "      <td>STO-3G</td>\n",
              "      <td>0</td>\n",
              "      <td>-1.137265</td>\n",
              "      <td>-1.137265</td>\n",
              "      <td>-1.158578</td>\n",
              "      <td>-1.154403</td>\n",
              "      <td>-1.157421</td>\n",
              "      <td>-1.166991</td>\n",
              "      <td>-1.160735</td>\n",
              "      <td>-1.152053</td>\n",
              "      <td>-1.154287</td>\n",
              "      <td>-1.161646</td>\n",
              "      <td>-1.158284</td>\n",
              "      <td>-1.160799</td>\n",
              "      <td>-1.159680</td>\n",
              "    </tr>\n",
              "  </tbody>\n",
              "</table>\n",
              "</div>\n",
              "      <button class=\"colab-df-convert\" onclick=\"convertToInteractive('df-67367259-152d-47bd-90aa-e4f4986e197a')\"\n",
              "              title=\"Convert this dataframe to an interactive table.\"\n",
              "              style=\"display:none;\">\n",
              "        \n",
              "  <svg xmlns=\"http://www.w3.org/2000/svg\" height=\"24px\"viewBox=\"0 0 24 24\"\n",
              "       width=\"24px\">\n",
              "    <path d=\"M0 0h24v24H0V0z\" fill=\"none\"/>\n",
              "    <path d=\"M18.56 5.44l.94 2.06.94-2.06 2.06-.94-2.06-.94-.94-2.06-.94 2.06-2.06.94zm-11 1L8.5 8.5l.94-2.06 2.06-.94-2.06-.94L8.5 2.5l-.94 2.06-2.06.94zm10 10l.94 2.06.94-2.06 2.06-.94-2.06-.94-.94-2.06-.94 2.06-2.06.94z\"/><path d=\"M17.41 7.96l-1.37-1.37c-.4-.4-.92-.59-1.43-.59-.52 0-1.04.2-1.43.59L10.3 9.45l-7.72 7.72c-.78.78-.78 2.05 0 2.83L4 21.41c.39.39.9.59 1.41.59.51 0 1.02-.2 1.41-.59l7.78-7.78 2.81-2.81c.8-.78.8-2.07 0-2.86zM5.41 20L4 18.59l7.72-7.72 1.47 1.35L5.41 20z\"/>\n",
              "  </svg>\n",
              "      </button>\n",
              "      \n",
              "  <style>\n",
              "    .colab-df-container {\n",
              "      display:flex;\n",
              "      flex-wrap:wrap;\n",
              "      gap: 12px;\n",
              "    }\n",
              "\n",
              "    .colab-df-convert {\n",
              "      background-color: #E8F0FE;\n",
              "      border: none;\n",
              "      border-radius: 50%;\n",
              "      cursor: pointer;\n",
              "      display: none;\n",
              "      fill: #1967D2;\n",
              "      height: 32px;\n",
              "      padding: 0 0 0 0;\n",
              "      width: 32px;\n",
              "    }\n",
              "\n",
              "    .colab-df-convert:hover {\n",
              "      background-color: #E2EBFA;\n",
              "      box-shadow: 0px 1px 2px rgba(60, 64, 67, 0.3), 0px 1px 3px 1px rgba(60, 64, 67, 0.15);\n",
              "      fill: #174EA6;\n",
              "    }\n",
              "\n",
              "    [theme=dark] .colab-df-convert {\n",
              "      background-color: #3B4455;\n",
              "      fill: #D2E3FC;\n",
              "    }\n",
              "\n",
              "    [theme=dark] .colab-df-convert:hover {\n",
              "      background-color: #434B5C;\n",
              "      box-shadow: 0px 1px 3px 1px rgba(0, 0, 0, 0.15);\n",
              "      filter: drop-shadow(0px 1px 2px rgba(0, 0, 0, 0.3));\n",
              "      fill: #FFFFFF;\n",
              "    }\n",
              "  </style>\n",
              "\n",
              "      <script>\n",
              "        const buttonEl =\n",
              "          document.querySelector('#df-67367259-152d-47bd-90aa-e4f4986e197a button.colab-df-convert');\n",
              "        buttonEl.style.display =\n",
              "          google.colab.kernel.accessAllowed ? 'block' : 'none';\n",
              "\n",
              "        async function convertToInteractive(key) {\n",
              "          const element = document.querySelector('#df-67367259-152d-47bd-90aa-e4f4986e197a');\n",
              "          const dataTable =\n",
              "            await google.colab.kernel.invokeFunction('convertToInteractive',\n",
              "                                                     [key], {});\n",
              "          if (!dataTable) return;\n",
              "\n",
              "          const docLinkHtml = 'Like what you see? Visit the ' +\n",
              "            '<a target=\"_blank\" href=https://colab.research.google.com/notebooks/data_table.ipynb>data table notebook</a>'\n",
              "            + ' to learn more about interactive tables.';\n",
              "          element.innerHTML = '';\n",
              "          dataTable['output_type'] = 'display_data';\n",
              "          await google.colab.output.renderOutput(dataTable, element);\n",
              "          const docLink = document.createElement('div');\n",
              "          docLink.innerHTML = docLinkHtml;\n",
              "          element.appendChild(docLink);\n",
              "        }\n",
              "      </script>\n",
              "    </div>\n",
              "  </div>\n",
              "  "
            ]
          },
          "metadata": {},
          "execution_count": 51
        }
      ]
    },
    {
      "cell_type": "markdown",
      "source": [
        "#validate the energy against NIST bechmarks ..\n",
        "manually just the ball park number some be matcoed \n",
        "\n",
        "https://cccbdb.nist.gov/bseenergy2x.asp shows CCST(T)/cc-pVQZ is -1.1737930\t, CCSD = -1.1737965\t\n",
        "or  http://www.begdb.org/index.php\n"
      ],
      "metadata": {
        "id": "GBadUdue8_Eu"
      }
    },
    {
      "cell_type": "code",
      "source": [
        "df"
      ],
      "metadata": {
        "id": "uMkm7hSsczvX",
        "colab": {
          "base_uri": "https://localhost:8080/",
          "height": 527
        },
        "outputId": "a5da5be6-21d2-4712-9f98-ae90d12a2fe6"
      },
      "execution_count": 52,
      "outputs": [
        {
          "output_type": "execute_result",
          "data": {
            "text/plain": [
              "  Weight Element                                           Molecule  \\\n",
              "0      1       H  \\n      H\\t0.0000000\\t0.0000000\\t0.3709280\\n  ...   \n",
              "1      1       H  \\n      H\\t0.0000000\\t0.0000000\\t0.3709280\\n  ...   \n",
              "2      1       H  \\n      H\\t0.0000000\\t0.0000000\\t0.3709280\\n  ...   \n",
              "3      1       H  \\n      H\\t0.0000000\\t0.0000000\\t0.3709280\\n  ...   \n",
              "4      1       H  \\n      H\\t0.0000000\\t0.0000000\\t0.3709280\\n  ...   \n",
              "5      1       H  \\n      H\\t0.0000000\\t0.0000000\\t0.3709280\\n  ...   \n",
              "\n",
              "    BasisSet Spin      CCSD     CCSDT  DFT-b3lyp  DFT-M06-2X  DFT-SCAN  \\\n",
              "0    cc-pV6Z    0 -1.174346 -1.174346  -1.173948   -1.170254 -1.171911   \n",
              "1    cc-pVQZ    0 -1.173796 -1.173796  -1.173778   -1.169511 -1.171755   \n",
              "2    cc-pVDZ    0 -1.163426 -1.163426  -1.166564   -1.163245 -1.165908   \n",
              "3  def2-QZVP    0 -1.173870 -1.173870  -1.173877   -1.169499 -1.171851   \n",
              "4      6-31g    0 -1.151686 -1.151686  -1.168715   -1.163697 -1.166802   \n",
              "5     STO-3G    0 -1.137265 -1.137265  -1.158578   -1.154403 -1.157421   \n",
              "\n",
              "   DFT-wB97X-V  DFT-PW6B95   DFT-pbe  DFT-pbe0  NN-Functional.DM21  \\\n",
              "0    -1.182135   -1.175871 -1.166700 -1.169061           -1.177012   \n",
              "1    -1.181981   -1.175696 -1.166546 -1.168910           -1.176701   \n",
              "2    -1.175779   -1.168459 -1.159918 -1.163350           -1.169058   \n",
              "3    -1.182073   -1.175799 -1.166642 -1.169003           -1.176907   \n",
              "4    -1.176784   -1.170558 -1.161928 -1.163885           -1.171335   \n",
              "5    -1.166991   -1.160735 -1.152053 -1.154287           -1.161646   \n",
              "\n",
              "   NN-Functional.DM21m  NN-Functional.DM21mc  NN-Functional.DM21mu  \n",
              "0            -1.173861             -1.177640             -1.175411  \n",
              "1            -1.173603             -1.177364             -1.175185  \n",
              "2            -1.165803             -1.169757             -1.167221  \n",
              "3            -1.173787             -1.177486             -1.175340  \n",
              "4            -1.167964             -1.172010             -1.169543  \n",
              "5            -1.158284             -1.160799             -1.159680  "
            ],
            "text/html": [
              "\n",
              "  <div id=\"df-8d107ee5-47d4-43c7-8d2b-24b4b52eac06\">\n",
              "    <div class=\"colab-df-container\">\n",
              "      <div>\n",
              "<style scoped>\n",
              "    .dataframe tbody tr th:only-of-type {\n",
              "        vertical-align: middle;\n",
              "    }\n",
              "\n",
              "    .dataframe tbody tr th {\n",
              "        vertical-align: top;\n",
              "    }\n",
              "\n",
              "    .dataframe thead th {\n",
              "        text-align: right;\n",
              "    }\n",
              "</style>\n",
              "<table border=\"1\" class=\"dataframe\">\n",
              "  <thead>\n",
              "    <tr style=\"text-align: right;\">\n",
              "      <th></th>\n",
              "      <th>Weight</th>\n",
              "      <th>Element</th>\n",
              "      <th>Molecule</th>\n",
              "      <th>BasisSet</th>\n",
              "      <th>Spin</th>\n",
              "      <th>CCSD</th>\n",
              "      <th>CCSDT</th>\n",
              "      <th>DFT-b3lyp</th>\n",
              "      <th>DFT-M06-2X</th>\n",
              "      <th>DFT-SCAN</th>\n",
              "      <th>DFT-wB97X-V</th>\n",
              "      <th>DFT-PW6B95</th>\n",
              "      <th>DFT-pbe</th>\n",
              "      <th>DFT-pbe0</th>\n",
              "      <th>NN-Functional.DM21</th>\n",
              "      <th>NN-Functional.DM21m</th>\n",
              "      <th>NN-Functional.DM21mc</th>\n",
              "      <th>NN-Functional.DM21mu</th>\n",
              "    </tr>\n",
              "  </thead>\n",
              "  <tbody>\n",
              "    <tr>\n",
              "      <th>0</th>\n",
              "      <td>1</td>\n",
              "      <td>H</td>\n",
              "      <td>\\n      H\\t0.0000000\\t0.0000000\\t0.3709280\\n  ...</td>\n",
              "      <td>cc-pV6Z</td>\n",
              "      <td>0</td>\n",
              "      <td>-1.174346</td>\n",
              "      <td>-1.174346</td>\n",
              "      <td>-1.173948</td>\n",
              "      <td>-1.170254</td>\n",
              "      <td>-1.171911</td>\n",
              "      <td>-1.182135</td>\n",
              "      <td>-1.175871</td>\n",
              "      <td>-1.166700</td>\n",
              "      <td>-1.169061</td>\n",
              "      <td>-1.177012</td>\n",
              "      <td>-1.173861</td>\n",
              "      <td>-1.177640</td>\n",
              "      <td>-1.175411</td>\n",
              "    </tr>\n",
              "    <tr>\n",
              "      <th>1</th>\n",
              "      <td>1</td>\n",
              "      <td>H</td>\n",
              "      <td>\\n      H\\t0.0000000\\t0.0000000\\t0.3709280\\n  ...</td>\n",
              "      <td>cc-pVQZ</td>\n",
              "      <td>0</td>\n",
              "      <td>-1.173796</td>\n",
              "      <td>-1.173796</td>\n",
              "      <td>-1.173778</td>\n",
              "      <td>-1.169511</td>\n",
              "      <td>-1.171755</td>\n",
              "      <td>-1.181981</td>\n",
              "      <td>-1.175696</td>\n",
              "      <td>-1.166546</td>\n",
              "      <td>-1.168910</td>\n",
              "      <td>-1.176701</td>\n",
              "      <td>-1.173603</td>\n",
              "      <td>-1.177364</td>\n",
              "      <td>-1.175185</td>\n",
              "    </tr>\n",
              "    <tr>\n",
              "      <th>2</th>\n",
              "      <td>1</td>\n",
              "      <td>H</td>\n",
              "      <td>\\n      H\\t0.0000000\\t0.0000000\\t0.3709280\\n  ...</td>\n",
              "      <td>cc-pVDZ</td>\n",
              "      <td>0</td>\n",
              "      <td>-1.163426</td>\n",
              "      <td>-1.163426</td>\n",
              "      <td>-1.166564</td>\n",
              "      <td>-1.163245</td>\n",
              "      <td>-1.165908</td>\n",
              "      <td>-1.175779</td>\n",
              "      <td>-1.168459</td>\n",
              "      <td>-1.159918</td>\n",
              "      <td>-1.163350</td>\n",
              "      <td>-1.169058</td>\n",
              "      <td>-1.165803</td>\n",
              "      <td>-1.169757</td>\n",
              "      <td>-1.167221</td>\n",
              "    </tr>\n",
              "    <tr>\n",
              "      <th>3</th>\n",
              "      <td>1</td>\n",
              "      <td>H</td>\n",
              "      <td>\\n      H\\t0.0000000\\t0.0000000\\t0.3709280\\n  ...</td>\n",
              "      <td>def2-QZVP</td>\n",
              "      <td>0</td>\n",
              "      <td>-1.173870</td>\n",
              "      <td>-1.173870</td>\n",
              "      <td>-1.173877</td>\n",
              "      <td>-1.169499</td>\n",
              "      <td>-1.171851</td>\n",
              "      <td>-1.182073</td>\n",
              "      <td>-1.175799</td>\n",
              "      <td>-1.166642</td>\n",
              "      <td>-1.169003</td>\n",
              "      <td>-1.176907</td>\n",
              "      <td>-1.173787</td>\n",
              "      <td>-1.177486</td>\n",
              "      <td>-1.175340</td>\n",
              "    </tr>\n",
              "    <tr>\n",
              "      <th>4</th>\n",
              "      <td>1</td>\n",
              "      <td>H</td>\n",
              "      <td>\\n      H\\t0.0000000\\t0.0000000\\t0.3709280\\n  ...</td>\n",
              "      <td>6-31g</td>\n",
              "      <td>0</td>\n",
              "      <td>-1.151686</td>\n",
              "      <td>-1.151686</td>\n",
              "      <td>-1.168715</td>\n",
              "      <td>-1.163697</td>\n",
              "      <td>-1.166802</td>\n",
              "      <td>-1.176784</td>\n",
              "      <td>-1.170558</td>\n",
              "      <td>-1.161928</td>\n",
              "      <td>-1.163885</td>\n",
              "      <td>-1.171335</td>\n",
              "      <td>-1.167964</td>\n",
              "      <td>-1.172010</td>\n",
              "      <td>-1.169543</td>\n",
              "    </tr>\n",
              "    <tr>\n",
              "      <th>5</th>\n",
              "      <td>1</td>\n",
              "      <td>H</td>\n",
              "      <td>\\n      H\\t0.0000000\\t0.0000000\\t0.3709280\\n  ...</td>\n",
              "      <td>STO-3G</td>\n",
              "      <td>0</td>\n",
              "      <td>-1.137265</td>\n",
              "      <td>-1.137265</td>\n",
              "      <td>-1.158578</td>\n",
              "      <td>-1.154403</td>\n",
              "      <td>-1.157421</td>\n",
              "      <td>-1.166991</td>\n",
              "      <td>-1.160735</td>\n",
              "      <td>-1.152053</td>\n",
              "      <td>-1.154287</td>\n",
              "      <td>-1.161646</td>\n",
              "      <td>-1.158284</td>\n",
              "      <td>-1.160799</td>\n",
              "      <td>-1.159680</td>\n",
              "    </tr>\n",
              "  </tbody>\n",
              "</table>\n",
              "</div>\n",
              "      <button class=\"colab-df-convert\" onclick=\"convertToInteractive('df-8d107ee5-47d4-43c7-8d2b-24b4b52eac06')\"\n",
              "              title=\"Convert this dataframe to an interactive table.\"\n",
              "              style=\"display:none;\">\n",
              "        \n",
              "  <svg xmlns=\"http://www.w3.org/2000/svg\" height=\"24px\"viewBox=\"0 0 24 24\"\n",
              "       width=\"24px\">\n",
              "    <path d=\"M0 0h24v24H0V0z\" fill=\"none\"/>\n",
              "    <path d=\"M18.56 5.44l.94 2.06.94-2.06 2.06-.94-2.06-.94-.94-2.06-.94 2.06-2.06.94zm-11 1L8.5 8.5l.94-2.06 2.06-.94-2.06-.94L8.5 2.5l-.94 2.06-2.06.94zm10 10l.94 2.06.94-2.06 2.06-.94-2.06-.94-.94-2.06-.94 2.06-2.06.94z\"/><path d=\"M17.41 7.96l-1.37-1.37c-.4-.4-.92-.59-1.43-.59-.52 0-1.04.2-1.43.59L10.3 9.45l-7.72 7.72c-.78.78-.78 2.05 0 2.83L4 21.41c.39.39.9.59 1.41.59.51 0 1.02-.2 1.41-.59l7.78-7.78 2.81-2.81c.8-.78.8-2.07 0-2.86zM5.41 20L4 18.59l7.72-7.72 1.47 1.35L5.41 20z\"/>\n",
              "  </svg>\n",
              "      </button>\n",
              "      \n",
              "  <style>\n",
              "    .colab-df-container {\n",
              "      display:flex;\n",
              "      flex-wrap:wrap;\n",
              "      gap: 12px;\n",
              "    }\n",
              "\n",
              "    .colab-df-convert {\n",
              "      background-color: #E8F0FE;\n",
              "      border: none;\n",
              "      border-radius: 50%;\n",
              "      cursor: pointer;\n",
              "      display: none;\n",
              "      fill: #1967D2;\n",
              "      height: 32px;\n",
              "      padding: 0 0 0 0;\n",
              "      width: 32px;\n",
              "    }\n",
              "\n",
              "    .colab-df-convert:hover {\n",
              "      background-color: #E2EBFA;\n",
              "      box-shadow: 0px 1px 2px rgba(60, 64, 67, 0.3), 0px 1px 3px 1px rgba(60, 64, 67, 0.15);\n",
              "      fill: #174EA6;\n",
              "    }\n",
              "\n",
              "    [theme=dark] .colab-df-convert {\n",
              "      background-color: #3B4455;\n",
              "      fill: #D2E3FC;\n",
              "    }\n",
              "\n",
              "    [theme=dark] .colab-df-convert:hover {\n",
              "      background-color: #434B5C;\n",
              "      box-shadow: 0px 1px 3px 1px rgba(0, 0, 0, 0.15);\n",
              "      filter: drop-shadow(0px 1px 2px rgba(0, 0, 0, 0.3));\n",
              "      fill: #FFFFFF;\n",
              "    }\n",
              "  </style>\n",
              "\n",
              "      <script>\n",
              "        const buttonEl =\n",
              "          document.querySelector('#df-8d107ee5-47d4-43c7-8d2b-24b4b52eac06 button.colab-df-convert');\n",
              "        buttonEl.style.display =\n",
              "          google.colab.kernel.accessAllowed ? 'block' : 'none';\n",
              "\n",
              "        async function convertToInteractive(key) {\n",
              "          const element = document.querySelector('#df-8d107ee5-47d4-43c7-8d2b-24b4b52eac06');\n",
              "          const dataTable =\n",
              "            await google.colab.kernel.invokeFunction('convertToInteractive',\n",
              "                                                     [key], {});\n",
              "          if (!dataTable) return;\n",
              "\n",
              "          const docLinkHtml = 'Like what you see? Visit the ' +\n",
              "            '<a target=\"_blank\" href=https://colab.research.google.com/notebooks/data_table.ipynb>data table notebook</a>'\n",
              "            + ' to learn more about interactive tables.';\n",
              "          element.innerHTML = '';\n",
              "          dataTable['output_type'] = 'display_data';\n",
              "          await google.colab.output.renderOutput(dataTable, element);\n",
              "          const docLink = document.createElement('div');\n",
              "          docLink.innerHTML = docLinkHtml;\n",
              "          element.appendChild(docLink);\n",
              "        }\n",
              "      </script>\n",
              "    </div>\n",
              "  </div>\n",
              "  "
            ]
          },
          "metadata": {},
          "execution_count": 52
        }
      ]
    },
    {
      "cell_type": "code",
      "source": [
        "df"
      ],
      "metadata": {
        "id": "JvzYKTfBL4i8",
        "colab": {
          "base_uri": "https://localhost:8080/",
          "height": 527
        },
        "outputId": "55ed8f9c-d0b3-4d5e-fd71-041138569251"
      },
      "execution_count": 53,
      "outputs": [
        {
          "output_type": "execute_result",
          "data": {
            "text/plain": [
              "  Weight Element                                           Molecule  \\\n",
              "0      1       H  \\n      H\\t0.0000000\\t0.0000000\\t0.3709280\\n  ...   \n",
              "1      1       H  \\n      H\\t0.0000000\\t0.0000000\\t0.3709280\\n  ...   \n",
              "2      1       H  \\n      H\\t0.0000000\\t0.0000000\\t0.3709280\\n  ...   \n",
              "3      1       H  \\n      H\\t0.0000000\\t0.0000000\\t0.3709280\\n  ...   \n",
              "4      1       H  \\n      H\\t0.0000000\\t0.0000000\\t0.3709280\\n  ...   \n",
              "5      1       H  \\n      H\\t0.0000000\\t0.0000000\\t0.3709280\\n  ...   \n",
              "\n",
              "    BasisSet Spin      CCSD     CCSDT  DFT-b3lyp  DFT-M06-2X  DFT-SCAN  \\\n",
              "0    cc-pV6Z    0 -1.174346 -1.174346  -1.173948   -1.170254 -1.171911   \n",
              "1    cc-pVQZ    0 -1.173796 -1.173796  -1.173778   -1.169511 -1.171755   \n",
              "2    cc-pVDZ    0 -1.163426 -1.163426  -1.166564   -1.163245 -1.165908   \n",
              "3  def2-QZVP    0 -1.173870 -1.173870  -1.173877   -1.169499 -1.171851   \n",
              "4      6-31g    0 -1.151686 -1.151686  -1.168715   -1.163697 -1.166802   \n",
              "5     STO-3G    0 -1.137265 -1.137265  -1.158578   -1.154403 -1.157421   \n",
              "\n",
              "   DFT-wB97X-V  DFT-PW6B95   DFT-pbe  DFT-pbe0  NN-Functional.DM21  \\\n",
              "0    -1.182135   -1.175871 -1.166700 -1.169061           -1.177012   \n",
              "1    -1.181981   -1.175696 -1.166546 -1.168910           -1.176701   \n",
              "2    -1.175779   -1.168459 -1.159918 -1.163350           -1.169058   \n",
              "3    -1.182073   -1.175799 -1.166642 -1.169003           -1.176907   \n",
              "4    -1.176784   -1.170558 -1.161928 -1.163885           -1.171335   \n",
              "5    -1.166991   -1.160735 -1.152053 -1.154287           -1.161646   \n",
              "\n",
              "   NN-Functional.DM21m  NN-Functional.DM21mc  NN-Functional.DM21mu  \n",
              "0            -1.173861             -1.177640             -1.175411  \n",
              "1            -1.173603             -1.177364             -1.175185  \n",
              "2            -1.165803             -1.169757             -1.167221  \n",
              "3            -1.173787             -1.177486             -1.175340  \n",
              "4            -1.167964             -1.172010             -1.169543  \n",
              "5            -1.158284             -1.160799             -1.159680  "
            ],
            "text/html": [
              "\n",
              "  <div id=\"df-3b676691-4703-40e6-9563-53d9f13be6b9\">\n",
              "    <div class=\"colab-df-container\">\n",
              "      <div>\n",
              "<style scoped>\n",
              "    .dataframe tbody tr th:only-of-type {\n",
              "        vertical-align: middle;\n",
              "    }\n",
              "\n",
              "    .dataframe tbody tr th {\n",
              "        vertical-align: top;\n",
              "    }\n",
              "\n",
              "    .dataframe thead th {\n",
              "        text-align: right;\n",
              "    }\n",
              "</style>\n",
              "<table border=\"1\" class=\"dataframe\">\n",
              "  <thead>\n",
              "    <tr style=\"text-align: right;\">\n",
              "      <th></th>\n",
              "      <th>Weight</th>\n",
              "      <th>Element</th>\n",
              "      <th>Molecule</th>\n",
              "      <th>BasisSet</th>\n",
              "      <th>Spin</th>\n",
              "      <th>CCSD</th>\n",
              "      <th>CCSDT</th>\n",
              "      <th>DFT-b3lyp</th>\n",
              "      <th>DFT-M06-2X</th>\n",
              "      <th>DFT-SCAN</th>\n",
              "      <th>DFT-wB97X-V</th>\n",
              "      <th>DFT-PW6B95</th>\n",
              "      <th>DFT-pbe</th>\n",
              "      <th>DFT-pbe0</th>\n",
              "      <th>NN-Functional.DM21</th>\n",
              "      <th>NN-Functional.DM21m</th>\n",
              "      <th>NN-Functional.DM21mc</th>\n",
              "      <th>NN-Functional.DM21mu</th>\n",
              "    </tr>\n",
              "  </thead>\n",
              "  <tbody>\n",
              "    <tr>\n",
              "      <th>0</th>\n",
              "      <td>1</td>\n",
              "      <td>H</td>\n",
              "      <td>\\n      H\\t0.0000000\\t0.0000000\\t0.3709280\\n  ...</td>\n",
              "      <td>cc-pV6Z</td>\n",
              "      <td>0</td>\n",
              "      <td>-1.174346</td>\n",
              "      <td>-1.174346</td>\n",
              "      <td>-1.173948</td>\n",
              "      <td>-1.170254</td>\n",
              "      <td>-1.171911</td>\n",
              "      <td>-1.182135</td>\n",
              "      <td>-1.175871</td>\n",
              "      <td>-1.166700</td>\n",
              "      <td>-1.169061</td>\n",
              "      <td>-1.177012</td>\n",
              "      <td>-1.173861</td>\n",
              "      <td>-1.177640</td>\n",
              "      <td>-1.175411</td>\n",
              "    </tr>\n",
              "    <tr>\n",
              "      <th>1</th>\n",
              "      <td>1</td>\n",
              "      <td>H</td>\n",
              "      <td>\\n      H\\t0.0000000\\t0.0000000\\t0.3709280\\n  ...</td>\n",
              "      <td>cc-pVQZ</td>\n",
              "      <td>0</td>\n",
              "      <td>-1.173796</td>\n",
              "      <td>-1.173796</td>\n",
              "      <td>-1.173778</td>\n",
              "      <td>-1.169511</td>\n",
              "      <td>-1.171755</td>\n",
              "      <td>-1.181981</td>\n",
              "      <td>-1.175696</td>\n",
              "      <td>-1.166546</td>\n",
              "      <td>-1.168910</td>\n",
              "      <td>-1.176701</td>\n",
              "      <td>-1.173603</td>\n",
              "      <td>-1.177364</td>\n",
              "      <td>-1.175185</td>\n",
              "    </tr>\n",
              "    <tr>\n",
              "      <th>2</th>\n",
              "      <td>1</td>\n",
              "      <td>H</td>\n",
              "      <td>\\n      H\\t0.0000000\\t0.0000000\\t0.3709280\\n  ...</td>\n",
              "      <td>cc-pVDZ</td>\n",
              "      <td>0</td>\n",
              "      <td>-1.163426</td>\n",
              "      <td>-1.163426</td>\n",
              "      <td>-1.166564</td>\n",
              "      <td>-1.163245</td>\n",
              "      <td>-1.165908</td>\n",
              "      <td>-1.175779</td>\n",
              "      <td>-1.168459</td>\n",
              "      <td>-1.159918</td>\n",
              "      <td>-1.163350</td>\n",
              "      <td>-1.169058</td>\n",
              "      <td>-1.165803</td>\n",
              "      <td>-1.169757</td>\n",
              "      <td>-1.167221</td>\n",
              "    </tr>\n",
              "    <tr>\n",
              "      <th>3</th>\n",
              "      <td>1</td>\n",
              "      <td>H</td>\n",
              "      <td>\\n      H\\t0.0000000\\t0.0000000\\t0.3709280\\n  ...</td>\n",
              "      <td>def2-QZVP</td>\n",
              "      <td>0</td>\n",
              "      <td>-1.173870</td>\n",
              "      <td>-1.173870</td>\n",
              "      <td>-1.173877</td>\n",
              "      <td>-1.169499</td>\n",
              "      <td>-1.171851</td>\n",
              "      <td>-1.182073</td>\n",
              "      <td>-1.175799</td>\n",
              "      <td>-1.166642</td>\n",
              "      <td>-1.169003</td>\n",
              "      <td>-1.176907</td>\n",
              "      <td>-1.173787</td>\n",
              "      <td>-1.177486</td>\n",
              "      <td>-1.175340</td>\n",
              "    </tr>\n",
              "    <tr>\n",
              "      <th>4</th>\n",
              "      <td>1</td>\n",
              "      <td>H</td>\n",
              "      <td>\\n      H\\t0.0000000\\t0.0000000\\t0.3709280\\n  ...</td>\n",
              "      <td>6-31g</td>\n",
              "      <td>0</td>\n",
              "      <td>-1.151686</td>\n",
              "      <td>-1.151686</td>\n",
              "      <td>-1.168715</td>\n",
              "      <td>-1.163697</td>\n",
              "      <td>-1.166802</td>\n",
              "      <td>-1.176784</td>\n",
              "      <td>-1.170558</td>\n",
              "      <td>-1.161928</td>\n",
              "      <td>-1.163885</td>\n",
              "      <td>-1.171335</td>\n",
              "      <td>-1.167964</td>\n",
              "      <td>-1.172010</td>\n",
              "      <td>-1.169543</td>\n",
              "    </tr>\n",
              "    <tr>\n",
              "      <th>5</th>\n",
              "      <td>1</td>\n",
              "      <td>H</td>\n",
              "      <td>\\n      H\\t0.0000000\\t0.0000000\\t0.3709280\\n  ...</td>\n",
              "      <td>STO-3G</td>\n",
              "      <td>0</td>\n",
              "      <td>-1.137265</td>\n",
              "      <td>-1.137265</td>\n",
              "      <td>-1.158578</td>\n",
              "      <td>-1.154403</td>\n",
              "      <td>-1.157421</td>\n",
              "      <td>-1.166991</td>\n",
              "      <td>-1.160735</td>\n",
              "      <td>-1.152053</td>\n",
              "      <td>-1.154287</td>\n",
              "      <td>-1.161646</td>\n",
              "      <td>-1.158284</td>\n",
              "      <td>-1.160799</td>\n",
              "      <td>-1.159680</td>\n",
              "    </tr>\n",
              "  </tbody>\n",
              "</table>\n",
              "</div>\n",
              "      <button class=\"colab-df-convert\" onclick=\"convertToInteractive('df-3b676691-4703-40e6-9563-53d9f13be6b9')\"\n",
              "              title=\"Convert this dataframe to an interactive table.\"\n",
              "              style=\"display:none;\">\n",
              "        \n",
              "  <svg xmlns=\"http://www.w3.org/2000/svg\" height=\"24px\"viewBox=\"0 0 24 24\"\n",
              "       width=\"24px\">\n",
              "    <path d=\"M0 0h24v24H0V0z\" fill=\"none\"/>\n",
              "    <path d=\"M18.56 5.44l.94 2.06.94-2.06 2.06-.94-2.06-.94-.94-2.06-.94 2.06-2.06.94zm-11 1L8.5 8.5l.94-2.06 2.06-.94-2.06-.94L8.5 2.5l-.94 2.06-2.06.94zm10 10l.94 2.06.94-2.06 2.06-.94-2.06-.94-.94-2.06-.94 2.06-2.06.94z\"/><path d=\"M17.41 7.96l-1.37-1.37c-.4-.4-.92-.59-1.43-.59-.52 0-1.04.2-1.43.59L10.3 9.45l-7.72 7.72c-.78.78-.78 2.05 0 2.83L4 21.41c.39.39.9.59 1.41.59.51 0 1.02-.2 1.41-.59l7.78-7.78 2.81-2.81c.8-.78.8-2.07 0-2.86zM5.41 20L4 18.59l7.72-7.72 1.47 1.35L5.41 20z\"/>\n",
              "  </svg>\n",
              "      </button>\n",
              "      \n",
              "  <style>\n",
              "    .colab-df-container {\n",
              "      display:flex;\n",
              "      flex-wrap:wrap;\n",
              "      gap: 12px;\n",
              "    }\n",
              "\n",
              "    .colab-df-convert {\n",
              "      background-color: #E8F0FE;\n",
              "      border: none;\n",
              "      border-radius: 50%;\n",
              "      cursor: pointer;\n",
              "      display: none;\n",
              "      fill: #1967D2;\n",
              "      height: 32px;\n",
              "      padding: 0 0 0 0;\n",
              "      width: 32px;\n",
              "    }\n",
              "\n",
              "    .colab-df-convert:hover {\n",
              "      background-color: #E2EBFA;\n",
              "      box-shadow: 0px 1px 2px rgba(60, 64, 67, 0.3), 0px 1px 3px 1px rgba(60, 64, 67, 0.15);\n",
              "      fill: #174EA6;\n",
              "    }\n",
              "\n",
              "    [theme=dark] .colab-df-convert {\n",
              "      background-color: #3B4455;\n",
              "      fill: #D2E3FC;\n",
              "    }\n",
              "\n",
              "    [theme=dark] .colab-df-convert:hover {\n",
              "      background-color: #434B5C;\n",
              "      box-shadow: 0px 1px 3px 1px rgba(0, 0, 0, 0.15);\n",
              "      filter: drop-shadow(0px 1px 2px rgba(0, 0, 0, 0.3));\n",
              "      fill: #FFFFFF;\n",
              "    }\n",
              "  </style>\n",
              "\n",
              "      <script>\n",
              "        const buttonEl =\n",
              "          document.querySelector('#df-3b676691-4703-40e6-9563-53d9f13be6b9 button.colab-df-convert');\n",
              "        buttonEl.style.display =\n",
              "          google.colab.kernel.accessAllowed ? 'block' : 'none';\n",
              "\n",
              "        async function convertToInteractive(key) {\n",
              "          const element = document.querySelector('#df-3b676691-4703-40e6-9563-53d9f13be6b9');\n",
              "          const dataTable =\n",
              "            await google.colab.kernel.invokeFunction('convertToInteractive',\n",
              "                                                     [key], {});\n",
              "          if (!dataTable) return;\n",
              "\n",
              "          const docLinkHtml = 'Like what you see? Visit the ' +\n",
              "            '<a target=\"_blank\" href=https://colab.research.google.com/notebooks/data_table.ipynb>data table notebook</a>'\n",
              "            + ' to learn more about interactive tables.';\n",
              "          element.innerHTML = '';\n",
              "          dataTable['output_type'] = 'display_data';\n",
              "          await google.colab.output.renderOutput(dataTable, element);\n",
              "          const docLink = document.createElement('div');\n",
              "          docLink.innerHTML = docLinkHtml;\n",
              "          element.appendChild(docLink);\n",
              "        }\n",
              "      </script>\n",
              "    </div>\n",
              "  </div>\n",
              "  "
            ]
          },
          "metadata": {},
          "execution_count": 53
        }
      ]
    },
    {
      "cell_type": "code",
      "source": [
        "GOLDBasisSET= 'cc-pV6Z'"
      ],
      "metadata": {
        "id": "bNVksggI2bfR"
      },
      "execution_count": 67,
      "outputs": []
    },
    {
      "cell_type": "code",
      "source": [
        "import copy \n",
        "dfcopy = df.copy()"
      ],
      "metadata": {
        "id": "MvOnUvepzrfa"
      },
      "execution_count": 68,
      "outputs": []
    },
    {
      "cell_type": "markdown",
      "source": [
        "# Gold CCSD(T) Reference value  "
      ],
      "metadata": {
        "id": "0cStWpN522nB"
      }
    },
    {
      "cell_type": "code",
      "source": [
        "dfspecficrow = dfcopy[dfcopy['BasisSet'] == GOLDBasisSET]\n",
        "\n",
        "\n",
        "\n",
        "dfspecficrow\n"
      ],
      "metadata": {
        "id": "pggxzhX_z915",
        "colab": {
          "base_uri": "https://localhost:8080/",
          "height": 197
        },
        "outputId": "bbf72848-767c-4a00-db39-f5f431d6e423"
      },
      "execution_count": 69,
      "outputs": [
        {
          "output_type": "execute_result",
          "data": {
            "text/plain": [
              "  Weight Element                                           Molecule BasisSet  \\\n",
              "0      1       H  \\n      H\\t0.0000000\\t0.0000000\\t0.3709280\\n  ...  cc-pV6Z   \n",
              "\n",
              "  Spin      CCSD     CCSDT  DFT-b3lyp  DFT-M06-2X  DFT-SCAN  DFT-wB97X-V  \\\n",
              "0    0 -1.174346 -1.174346  -1.173948   -1.170254 -1.171911    -1.182135   \n",
              "\n",
              "   DFT-PW6B95  DFT-pbe  DFT-pbe0  NN-Functional.DM21  NN-Functional.DM21m  \\\n",
              "0   -1.175871  -1.1667 -1.169061           -1.177012            -1.173861   \n",
              "\n",
              "   NN-Functional.DM21mc  NN-Functional.DM21mu  \n",
              "0              -1.17764             -1.175411  "
            ],
            "text/html": [
              "\n",
              "  <div id=\"df-f729fb5c-864a-46b5-a890-e124b6eea8de\">\n",
              "    <div class=\"colab-df-container\">\n",
              "      <div>\n",
              "<style scoped>\n",
              "    .dataframe tbody tr th:only-of-type {\n",
              "        vertical-align: middle;\n",
              "    }\n",
              "\n",
              "    .dataframe tbody tr th {\n",
              "        vertical-align: top;\n",
              "    }\n",
              "\n",
              "    .dataframe thead th {\n",
              "        text-align: right;\n",
              "    }\n",
              "</style>\n",
              "<table border=\"1\" class=\"dataframe\">\n",
              "  <thead>\n",
              "    <tr style=\"text-align: right;\">\n",
              "      <th></th>\n",
              "      <th>Weight</th>\n",
              "      <th>Element</th>\n",
              "      <th>Molecule</th>\n",
              "      <th>BasisSet</th>\n",
              "      <th>Spin</th>\n",
              "      <th>CCSD</th>\n",
              "      <th>CCSDT</th>\n",
              "      <th>DFT-b3lyp</th>\n",
              "      <th>DFT-M06-2X</th>\n",
              "      <th>DFT-SCAN</th>\n",
              "      <th>DFT-wB97X-V</th>\n",
              "      <th>DFT-PW6B95</th>\n",
              "      <th>DFT-pbe</th>\n",
              "      <th>DFT-pbe0</th>\n",
              "      <th>NN-Functional.DM21</th>\n",
              "      <th>NN-Functional.DM21m</th>\n",
              "      <th>NN-Functional.DM21mc</th>\n",
              "      <th>NN-Functional.DM21mu</th>\n",
              "    </tr>\n",
              "  </thead>\n",
              "  <tbody>\n",
              "    <tr>\n",
              "      <th>0</th>\n",
              "      <td>1</td>\n",
              "      <td>H</td>\n",
              "      <td>\\n      H\\t0.0000000\\t0.0000000\\t0.3709280\\n  ...</td>\n",
              "      <td>cc-pV6Z</td>\n",
              "      <td>0</td>\n",
              "      <td>-1.174346</td>\n",
              "      <td>-1.174346</td>\n",
              "      <td>-1.173948</td>\n",
              "      <td>-1.170254</td>\n",
              "      <td>-1.171911</td>\n",
              "      <td>-1.182135</td>\n",
              "      <td>-1.175871</td>\n",
              "      <td>-1.1667</td>\n",
              "      <td>-1.169061</td>\n",
              "      <td>-1.177012</td>\n",
              "      <td>-1.173861</td>\n",
              "      <td>-1.17764</td>\n",
              "      <td>-1.175411</td>\n",
              "    </tr>\n",
              "  </tbody>\n",
              "</table>\n",
              "</div>\n",
              "      <button class=\"colab-df-convert\" onclick=\"convertToInteractive('df-f729fb5c-864a-46b5-a890-e124b6eea8de')\"\n",
              "              title=\"Convert this dataframe to an interactive table.\"\n",
              "              style=\"display:none;\">\n",
              "        \n",
              "  <svg xmlns=\"http://www.w3.org/2000/svg\" height=\"24px\"viewBox=\"0 0 24 24\"\n",
              "       width=\"24px\">\n",
              "    <path d=\"M0 0h24v24H0V0z\" fill=\"none\"/>\n",
              "    <path d=\"M18.56 5.44l.94 2.06.94-2.06 2.06-.94-2.06-.94-.94-2.06-.94 2.06-2.06.94zm-11 1L8.5 8.5l.94-2.06 2.06-.94-2.06-.94L8.5 2.5l-.94 2.06-2.06.94zm10 10l.94 2.06.94-2.06 2.06-.94-2.06-.94-.94-2.06-.94 2.06-2.06.94z\"/><path d=\"M17.41 7.96l-1.37-1.37c-.4-.4-.92-.59-1.43-.59-.52 0-1.04.2-1.43.59L10.3 9.45l-7.72 7.72c-.78.78-.78 2.05 0 2.83L4 21.41c.39.39.9.59 1.41.59.51 0 1.02-.2 1.41-.59l7.78-7.78 2.81-2.81c.8-.78.8-2.07 0-2.86zM5.41 20L4 18.59l7.72-7.72 1.47 1.35L5.41 20z\"/>\n",
              "  </svg>\n",
              "      </button>\n",
              "      \n",
              "  <style>\n",
              "    .colab-df-container {\n",
              "      display:flex;\n",
              "      flex-wrap:wrap;\n",
              "      gap: 12px;\n",
              "    }\n",
              "\n",
              "    .colab-df-convert {\n",
              "      background-color: #E8F0FE;\n",
              "      border: none;\n",
              "      border-radius: 50%;\n",
              "      cursor: pointer;\n",
              "      display: none;\n",
              "      fill: #1967D2;\n",
              "      height: 32px;\n",
              "      padding: 0 0 0 0;\n",
              "      width: 32px;\n",
              "    }\n",
              "\n",
              "    .colab-df-convert:hover {\n",
              "      background-color: #E2EBFA;\n",
              "      box-shadow: 0px 1px 2px rgba(60, 64, 67, 0.3), 0px 1px 3px 1px rgba(60, 64, 67, 0.15);\n",
              "      fill: #174EA6;\n",
              "    }\n",
              "\n",
              "    [theme=dark] .colab-df-convert {\n",
              "      background-color: #3B4455;\n",
              "      fill: #D2E3FC;\n",
              "    }\n",
              "\n",
              "    [theme=dark] .colab-df-convert:hover {\n",
              "      background-color: #434B5C;\n",
              "      box-shadow: 0px 1px 3px 1px rgba(0, 0, 0, 0.15);\n",
              "      filter: drop-shadow(0px 1px 2px rgba(0, 0, 0, 0.3));\n",
              "      fill: #FFFFFF;\n",
              "    }\n",
              "  </style>\n",
              "\n",
              "      <script>\n",
              "        const buttonEl =\n",
              "          document.querySelector('#df-f729fb5c-864a-46b5-a890-e124b6eea8de button.colab-df-convert');\n",
              "        buttonEl.style.display =\n",
              "          google.colab.kernel.accessAllowed ? 'block' : 'none';\n",
              "\n",
              "        async function convertToInteractive(key) {\n",
              "          const element = document.querySelector('#df-f729fb5c-864a-46b5-a890-e124b6eea8de');\n",
              "          const dataTable =\n",
              "            await google.colab.kernel.invokeFunction('convertToInteractive',\n",
              "                                                     [key], {});\n",
              "          if (!dataTable) return;\n",
              "\n",
              "          const docLinkHtml = 'Like what you see? Visit the ' +\n",
              "            '<a target=\"_blank\" href=https://colab.research.google.com/notebooks/data_table.ipynb>data table notebook</a>'\n",
              "            + ' to learn more about interactive tables.';\n",
              "          element.innerHTML = '';\n",
              "          dataTable['output_type'] = 'display_data';\n",
              "          await google.colab.output.renderOutput(dataTable, element);\n",
              "          const docLink = document.createElement('div');\n",
              "          docLink.innerHTML = docLinkHtml;\n",
              "          element.appendChild(docLink);\n",
              "        }\n",
              "      </script>\n",
              "    </div>\n",
              "  </div>\n",
              "  "
            ]
          },
          "metadata": {},
          "execution_count": 69
        }
      ]
    },
    {
      "cell_type": "code",
      "source": [
        "ccsdtgoldseries = dfspecficrow['CCSDT']\n"
      ],
      "metadata": {
        "id": "rk7zJTdo1N-q"
      },
      "execution_count": 70,
      "outputs": []
    },
    {
      "cell_type": "code",
      "source": [
        "ccsdtgoldseries"
      ],
      "metadata": {
        "colab": {
          "base_uri": "https://localhost:8080/"
        },
        "id": "83bOBztqZGm3",
        "outputId": "035d46b1-7016-44b1-db61-233636fbd95c"
      },
      "execution_count": 71,
      "outputs": [
        {
          "output_type": "execute_result",
          "data": {
            "text/plain": [
              "0   -1.174346\n",
              "Name: CCSDT, dtype: float64"
            ]
          },
          "metadata": {},
          "execution_count": 71
        }
      ]
    },
    {
      "cell_type": "code",
      "source": [
        "ccsdtgold = ccsdtgoldseries[0]\n",
        "ccsdtgold"
      ],
      "metadata": {
        "colab": {
          "base_uri": "https://localhost:8080/"
        },
        "id": "Ud0Zs-ynZD-S",
        "outputId": "b677e07d-e57d-47d9-d6b4-6da8175c704d"
      },
      "execution_count": 72,
      "outputs": [
        {
          "output_type": "execute_result",
          "data": {
            "text/plain": [
              "-1.174345559414205"
            ]
          },
          "metadata": {},
          "execution_count": 72
        }
      ]
    },
    {
      "cell_type": "code",
      "source": [
        "dfcopy['CCSDT_G'] = ccsdtgold"
      ],
      "metadata": {
        "id": "gCc_KWkNz2OG"
      },
      "execution_count": 73,
      "outputs": []
    },
    {
      "cell_type": "code",
      "source": [
        "dfcopy"
      ],
      "metadata": {
        "id": "1ER4sary1wnP",
        "colab": {
          "base_uri": "https://localhost:8080/",
          "height": 527
        },
        "outputId": "ba1f56ae-2fb5-44b2-842d-4d1f453420bd"
      },
      "execution_count": 74,
      "outputs": [
        {
          "output_type": "execute_result",
          "data": {
            "text/plain": [
              "  Weight Element                                           Molecule  \\\n",
              "0      1       H  \\n      H\\t0.0000000\\t0.0000000\\t0.3709280\\n  ...   \n",
              "1      1       H  \\n      H\\t0.0000000\\t0.0000000\\t0.3709280\\n  ...   \n",
              "2      1       H  \\n      H\\t0.0000000\\t0.0000000\\t0.3709280\\n  ...   \n",
              "3      1       H  \\n      H\\t0.0000000\\t0.0000000\\t0.3709280\\n  ...   \n",
              "4      1       H  \\n      H\\t0.0000000\\t0.0000000\\t0.3709280\\n  ...   \n",
              "5      1       H  \\n      H\\t0.0000000\\t0.0000000\\t0.3709280\\n  ...   \n",
              "\n",
              "    BasisSet Spin      CCSD     CCSDT  DFT-b3lyp  DFT-M06-2X  DFT-SCAN  \\\n",
              "0    cc-pV6Z    0 -1.174346 -1.174346  -1.173948   -1.170254 -1.171911   \n",
              "1    cc-pVQZ    0 -1.173796 -1.173796  -1.173778   -1.169511 -1.171755   \n",
              "2    cc-pVDZ    0 -1.163426 -1.163426  -1.166564   -1.163245 -1.165908   \n",
              "3  def2-QZVP    0 -1.173870 -1.173870  -1.173877   -1.169499 -1.171851   \n",
              "4      6-31g    0 -1.151686 -1.151686  -1.168715   -1.163697 -1.166802   \n",
              "5     STO-3G    0 -1.137265 -1.137265  -1.158578   -1.154403 -1.157421   \n",
              "\n",
              "   DFT-wB97X-V  DFT-PW6B95   DFT-pbe  DFT-pbe0  NN-Functional.DM21  \\\n",
              "0    -1.182135   -1.175871 -1.166700 -1.169061           -1.177012   \n",
              "1    -1.181981   -1.175696 -1.166546 -1.168910           -1.176701   \n",
              "2    -1.175779   -1.168459 -1.159918 -1.163350           -1.169058   \n",
              "3    -1.182073   -1.175799 -1.166642 -1.169003           -1.176907   \n",
              "4    -1.176784   -1.170558 -1.161928 -1.163885           -1.171335   \n",
              "5    -1.166991   -1.160735 -1.152053 -1.154287           -1.161646   \n",
              "\n",
              "   NN-Functional.DM21m  NN-Functional.DM21mc  NN-Functional.DM21mu   CCSDT_G  \n",
              "0            -1.173861             -1.177640             -1.175411 -1.174346  \n",
              "1            -1.173603             -1.177364             -1.175185 -1.174346  \n",
              "2            -1.165803             -1.169757             -1.167221 -1.174346  \n",
              "3            -1.173787             -1.177486             -1.175340 -1.174346  \n",
              "4            -1.167964             -1.172010             -1.169543 -1.174346  \n",
              "5            -1.158284             -1.160799             -1.159680 -1.174346  "
            ],
            "text/html": [
              "\n",
              "  <div id=\"df-128f8c66-2e77-4925-8ec3-0019557cc418\">\n",
              "    <div class=\"colab-df-container\">\n",
              "      <div>\n",
              "<style scoped>\n",
              "    .dataframe tbody tr th:only-of-type {\n",
              "        vertical-align: middle;\n",
              "    }\n",
              "\n",
              "    .dataframe tbody tr th {\n",
              "        vertical-align: top;\n",
              "    }\n",
              "\n",
              "    .dataframe thead th {\n",
              "        text-align: right;\n",
              "    }\n",
              "</style>\n",
              "<table border=\"1\" class=\"dataframe\">\n",
              "  <thead>\n",
              "    <tr style=\"text-align: right;\">\n",
              "      <th></th>\n",
              "      <th>Weight</th>\n",
              "      <th>Element</th>\n",
              "      <th>Molecule</th>\n",
              "      <th>BasisSet</th>\n",
              "      <th>Spin</th>\n",
              "      <th>CCSD</th>\n",
              "      <th>CCSDT</th>\n",
              "      <th>DFT-b3lyp</th>\n",
              "      <th>DFT-M06-2X</th>\n",
              "      <th>DFT-SCAN</th>\n",
              "      <th>DFT-wB97X-V</th>\n",
              "      <th>DFT-PW6B95</th>\n",
              "      <th>DFT-pbe</th>\n",
              "      <th>DFT-pbe0</th>\n",
              "      <th>NN-Functional.DM21</th>\n",
              "      <th>NN-Functional.DM21m</th>\n",
              "      <th>NN-Functional.DM21mc</th>\n",
              "      <th>NN-Functional.DM21mu</th>\n",
              "      <th>CCSDT_G</th>\n",
              "    </tr>\n",
              "  </thead>\n",
              "  <tbody>\n",
              "    <tr>\n",
              "      <th>0</th>\n",
              "      <td>1</td>\n",
              "      <td>H</td>\n",
              "      <td>\\n      H\\t0.0000000\\t0.0000000\\t0.3709280\\n  ...</td>\n",
              "      <td>cc-pV6Z</td>\n",
              "      <td>0</td>\n",
              "      <td>-1.174346</td>\n",
              "      <td>-1.174346</td>\n",
              "      <td>-1.173948</td>\n",
              "      <td>-1.170254</td>\n",
              "      <td>-1.171911</td>\n",
              "      <td>-1.182135</td>\n",
              "      <td>-1.175871</td>\n",
              "      <td>-1.166700</td>\n",
              "      <td>-1.169061</td>\n",
              "      <td>-1.177012</td>\n",
              "      <td>-1.173861</td>\n",
              "      <td>-1.177640</td>\n",
              "      <td>-1.175411</td>\n",
              "      <td>-1.174346</td>\n",
              "    </tr>\n",
              "    <tr>\n",
              "      <th>1</th>\n",
              "      <td>1</td>\n",
              "      <td>H</td>\n",
              "      <td>\\n      H\\t0.0000000\\t0.0000000\\t0.3709280\\n  ...</td>\n",
              "      <td>cc-pVQZ</td>\n",
              "      <td>0</td>\n",
              "      <td>-1.173796</td>\n",
              "      <td>-1.173796</td>\n",
              "      <td>-1.173778</td>\n",
              "      <td>-1.169511</td>\n",
              "      <td>-1.171755</td>\n",
              "      <td>-1.181981</td>\n",
              "      <td>-1.175696</td>\n",
              "      <td>-1.166546</td>\n",
              "      <td>-1.168910</td>\n",
              "      <td>-1.176701</td>\n",
              "      <td>-1.173603</td>\n",
              "      <td>-1.177364</td>\n",
              "      <td>-1.175185</td>\n",
              "      <td>-1.174346</td>\n",
              "    </tr>\n",
              "    <tr>\n",
              "      <th>2</th>\n",
              "      <td>1</td>\n",
              "      <td>H</td>\n",
              "      <td>\\n      H\\t0.0000000\\t0.0000000\\t0.3709280\\n  ...</td>\n",
              "      <td>cc-pVDZ</td>\n",
              "      <td>0</td>\n",
              "      <td>-1.163426</td>\n",
              "      <td>-1.163426</td>\n",
              "      <td>-1.166564</td>\n",
              "      <td>-1.163245</td>\n",
              "      <td>-1.165908</td>\n",
              "      <td>-1.175779</td>\n",
              "      <td>-1.168459</td>\n",
              "      <td>-1.159918</td>\n",
              "      <td>-1.163350</td>\n",
              "      <td>-1.169058</td>\n",
              "      <td>-1.165803</td>\n",
              "      <td>-1.169757</td>\n",
              "      <td>-1.167221</td>\n",
              "      <td>-1.174346</td>\n",
              "    </tr>\n",
              "    <tr>\n",
              "      <th>3</th>\n",
              "      <td>1</td>\n",
              "      <td>H</td>\n",
              "      <td>\\n      H\\t0.0000000\\t0.0000000\\t0.3709280\\n  ...</td>\n",
              "      <td>def2-QZVP</td>\n",
              "      <td>0</td>\n",
              "      <td>-1.173870</td>\n",
              "      <td>-1.173870</td>\n",
              "      <td>-1.173877</td>\n",
              "      <td>-1.169499</td>\n",
              "      <td>-1.171851</td>\n",
              "      <td>-1.182073</td>\n",
              "      <td>-1.175799</td>\n",
              "      <td>-1.166642</td>\n",
              "      <td>-1.169003</td>\n",
              "      <td>-1.176907</td>\n",
              "      <td>-1.173787</td>\n",
              "      <td>-1.177486</td>\n",
              "      <td>-1.175340</td>\n",
              "      <td>-1.174346</td>\n",
              "    </tr>\n",
              "    <tr>\n",
              "      <th>4</th>\n",
              "      <td>1</td>\n",
              "      <td>H</td>\n",
              "      <td>\\n      H\\t0.0000000\\t0.0000000\\t0.3709280\\n  ...</td>\n",
              "      <td>6-31g</td>\n",
              "      <td>0</td>\n",
              "      <td>-1.151686</td>\n",
              "      <td>-1.151686</td>\n",
              "      <td>-1.168715</td>\n",
              "      <td>-1.163697</td>\n",
              "      <td>-1.166802</td>\n",
              "      <td>-1.176784</td>\n",
              "      <td>-1.170558</td>\n",
              "      <td>-1.161928</td>\n",
              "      <td>-1.163885</td>\n",
              "      <td>-1.171335</td>\n",
              "      <td>-1.167964</td>\n",
              "      <td>-1.172010</td>\n",
              "      <td>-1.169543</td>\n",
              "      <td>-1.174346</td>\n",
              "    </tr>\n",
              "    <tr>\n",
              "      <th>5</th>\n",
              "      <td>1</td>\n",
              "      <td>H</td>\n",
              "      <td>\\n      H\\t0.0000000\\t0.0000000\\t0.3709280\\n  ...</td>\n",
              "      <td>STO-3G</td>\n",
              "      <td>0</td>\n",
              "      <td>-1.137265</td>\n",
              "      <td>-1.137265</td>\n",
              "      <td>-1.158578</td>\n",
              "      <td>-1.154403</td>\n",
              "      <td>-1.157421</td>\n",
              "      <td>-1.166991</td>\n",
              "      <td>-1.160735</td>\n",
              "      <td>-1.152053</td>\n",
              "      <td>-1.154287</td>\n",
              "      <td>-1.161646</td>\n",
              "      <td>-1.158284</td>\n",
              "      <td>-1.160799</td>\n",
              "      <td>-1.159680</td>\n",
              "      <td>-1.174346</td>\n",
              "    </tr>\n",
              "  </tbody>\n",
              "</table>\n",
              "</div>\n",
              "      <button class=\"colab-df-convert\" onclick=\"convertToInteractive('df-128f8c66-2e77-4925-8ec3-0019557cc418')\"\n",
              "              title=\"Convert this dataframe to an interactive table.\"\n",
              "              style=\"display:none;\">\n",
              "        \n",
              "  <svg xmlns=\"http://www.w3.org/2000/svg\" height=\"24px\"viewBox=\"0 0 24 24\"\n",
              "       width=\"24px\">\n",
              "    <path d=\"M0 0h24v24H0V0z\" fill=\"none\"/>\n",
              "    <path d=\"M18.56 5.44l.94 2.06.94-2.06 2.06-.94-2.06-.94-.94-2.06-.94 2.06-2.06.94zm-11 1L8.5 8.5l.94-2.06 2.06-.94-2.06-.94L8.5 2.5l-.94 2.06-2.06.94zm10 10l.94 2.06.94-2.06 2.06-.94-2.06-.94-.94-2.06-.94 2.06-2.06.94z\"/><path d=\"M17.41 7.96l-1.37-1.37c-.4-.4-.92-.59-1.43-.59-.52 0-1.04.2-1.43.59L10.3 9.45l-7.72 7.72c-.78.78-.78 2.05 0 2.83L4 21.41c.39.39.9.59 1.41.59.51 0 1.02-.2 1.41-.59l7.78-7.78 2.81-2.81c.8-.78.8-2.07 0-2.86zM5.41 20L4 18.59l7.72-7.72 1.47 1.35L5.41 20z\"/>\n",
              "  </svg>\n",
              "      </button>\n",
              "      \n",
              "  <style>\n",
              "    .colab-df-container {\n",
              "      display:flex;\n",
              "      flex-wrap:wrap;\n",
              "      gap: 12px;\n",
              "    }\n",
              "\n",
              "    .colab-df-convert {\n",
              "      background-color: #E8F0FE;\n",
              "      border: none;\n",
              "      border-radius: 50%;\n",
              "      cursor: pointer;\n",
              "      display: none;\n",
              "      fill: #1967D2;\n",
              "      height: 32px;\n",
              "      padding: 0 0 0 0;\n",
              "      width: 32px;\n",
              "    }\n",
              "\n",
              "    .colab-df-convert:hover {\n",
              "      background-color: #E2EBFA;\n",
              "      box-shadow: 0px 1px 2px rgba(60, 64, 67, 0.3), 0px 1px 3px 1px rgba(60, 64, 67, 0.15);\n",
              "      fill: #174EA6;\n",
              "    }\n",
              "\n",
              "    [theme=dark] .colab-df-convert {\n",
              "      background-color: #3B4455;\n",
              "      fill: #D2E3FC;\n",
              "    }\n",
              "\n",
              "    [theme=dark] .colab-df-convert:hover {\n",
              "      background-color: #434B5C;\n",
              "      box-shadow: 0px 1px 3px 1px rgba(0, 0, 0, 0.15);\n",
              "      filter: drop-shadow(0px 1px 2px rgba(0, 0, 0, 0.3));\n",
              "      fill: #FFFFFF;\n",
              "    }\n",
              "  </style>\n",
              "\n",
              "      <script>\n",
              "        const buttonEl =\n",
              "          document.querySelector('#df-128f8c66-2e77-4925-8ec3-0019557cc418 button.colab-df-convert');\n",
              "        buttonEl.style.display =\n",
              "          google.colab.kernel.accessAllowed ? 'block' : 'none';\n",
              "\n",
              "        async function convertToInteractive(key) {\n",
              "          const element = document.querySelector('#df-128f8c66-2e77-4925-8ec3-0019557cc418');\n",
              "          const dataTable =\n",
              "            await google.colab.kernel.invokeFunction('convertToInteractive',\n",
              "                                                     [key], {});\n",
              "          if (!dataTable) return;\n",
              "\n",
              "          const docLinkHtml = 'Like what you see? Visit the ' +\n",
              "            '<a target=\"_blank\" href=https://colab.research.google.com/notebooks/data_table.ipynb>data table notebook</a>'\n",
              "            + ' to learn more about interactive tables.';\n",
              "          element.innerHTML = '';\n",
              "          dataTable['output_type'] = 'display_data';\n",
              "          await google.colab.output.renderOutput(dataTable, element);\n",
              "          const docLink = document.createElement('div');\n",
              "          docLink.innerHTML = docLinkHtml;\n",
              "          element.appendChild(docLink);\n",
              "        }\n",
              "      </script>\n",
              "    </div>\n",
              "  </div>\n",
              "  "
            ]
          },
          "metadata": {},
          "execution_count": 74
        }
      ]
    },
    {
      "cell_type": "code",
      "source": [
        ""
      ],
      "metadata": {
        "id": "xW8c0W9iMbJc"
      },
      "execution_count": 74,
      "outputs": []
    },
    {
      "cell_type": "code",
      "source": [
        "for afunctionals in functionalsList:\n",
        "  print(str(afunctionals))\n",
        "  df['E-'+'DFT-'+str(afunctionals)] =  abs(  (df['DFT-'+str(afunctionals) ] - df['CCSDT']  ) * 100  /  df['CCSDT'] )"
      ],
      "metadata": {
        "id": "c7vnBbtYMbTh",
        "colab": {
          "base_uri": "https://localhost:8080/"
        },
        "outputId": "56f1340f-b1e8-4171-b191-c616c0f25b44"
      },
      "execution_count": 75,
      "outputs": [
        {
          "output_type": "stream",
          "name": "stdout",
          "text": [
            "b3lyp\n",
            "M06-2X\n",
            "SCAN\n",
            "wB97X-V\n",
            "PW6B95\n",
            "pbe\n",
            "pbe0\n"
          ]
        }
      ]
    },
    {
      "cell_type": "code",
      "source": [
        "for aDMFunctionalvalue in list(dm21.Functional):\n",
        "  print(str(aDMFunctionalvalue))\n",
        "  df['E-'+'NN-'+str(aDMFunctionalvalue)] = abs( (df['NN-'+str(aDMFunctionalvalue) ] - df['CCSDT']  ) * 100  /  df['CCSDT'] )"
      ],
      "metadata": {
        "id": "wzRY6ESzNjBS",
        "colab": {
          "base_uri": "https://localhost:8080/"
        },
        "outputId": "f6a014bc-0ea8-42ff-bd12-e81a0d115fe1"
      },
      "execution_count": 76,
      "outputs": [
        {
          "output_type": "stream",
          "name": "stdout",
          "text": [
            "Functional.DM21\n",
            "Functional.DM21m\n",
            "Functional.DM21mc\n",
            "Functional.DM21mu\n"
          ]
        }
      ]
    },
    {
      "cell_type": "code",
      "source": [
        "for afunctionals in functionalsList:\n",
        "  print(str(afunctionals))\n",
        "  df['M-'+'DFT-'+str(afunctionals)] =   abs  (df['DFT-'+str(afunctionals) ] - df['CCSDT']  ) \n"
      ],
      "metadata": {
        "id": "PCpqf5-WhIl3",
        "colab": {
          "base_uri": "https://localhost:8080/"
        },
        "outputId": "4b7399ea-4c26-4163-e9ab-bd69b50f2d63"
      },
      "execution_count": 77,
      "outputs": [
        {
          "output_type": "stream",
          "name": "stdout",
          "text": [
            "b3lyp\n",
            "M06-2X\n",
            "SCAN\n",
            "wB97X-V\n",
            "PW6B95\n",
            "pbe\n",
            "pbe0\n"
          ]
        }
      ]
    },
    {
      "cell_type": "code",
      "source": [
        "for aDMFunctionalvalue in list(dm21.Functional):\n",
        "  print(str(aDMFunctionalvalue))\n",
        "  df['M-'+'NN-'+str(aDMFunctionalvalue)] = abs  (df['NN-'+str(aDMFunctionalvalue) ] - df['CCSDT']  ) \n"
      ],
      "metadata": {
        "id": "NqSR2AMChbe6",
        "colab": {
          "base_uri": "https://localhost:8080/"
        },
        "outputId": "61378a7d-6cdb-4400-87f7-22b0aa68a42a"
      },
      "execution_count": 78,
      "outputs": [
        {
          "output_type": "stream",
          "name": "stdout",
          "text": [
            "Functional.DM21\n",
            "Functional.DM21m\n",
            "Functional.DM21mc\n",
            "Functional.DM21mu\n"
          ]
        }
      ]
    },
    {
      "cell_type": "code",
      "source": [
        "df"
      ],
      "metadata": {
        "id": "iioWkDZWkMhz",
        "colab": {
          "base_uri": "https://localhost:8080/",
          "height": 556
        },
        "outputId": "d296b630-3949-4a68-b1bc-867313f81e05"
      },
      "execution_count": 79,
      "outputs": [
        {
          "output_type": "execute_result",
          "data": {
            "text/plain": [
              "  Weight Element                                           Molecule  \\\n",
              "0      1       H  \\n      H\\t0.0000000\\t0.0000000\\t0.3709280\\n  ...   \n",
              "1      1       H  \\n      H\\t0.0000000\\t0.0000000\\t0.3709280\\n  ...   \n",
              "2      1       H  \\n      H\\t0.0000000\\t0.0000000\\t0.3709280\\n  ...   \n",
              "3      1       H  \\n      H\\t0.0000000\\t0.0000000\\t0.3709280\\n  ...   \n",
              "4      1       H  \\n      H\\t0.0000000\\t0.0000000\\t0.3709280\\n  ...   \n",
              "5      1       H  \\n      H\\t0.0000000\\t0.0000000\\t0.3709280\\n  ...   \n",
              "\n",
              "    BasisSet Spin      CCSD     CCSDT  DFT-b3lyp  DFT-M06-2X  DFT-SCAN  ...  \\\n",
              "0    cc-pV6Z    0 -1.174346 -1.174346  -1.173948   -1.170254 -1.171911  ...   \n",
              "1    cc-pVQZ    0 -1.173796 -1.173796  -1.173778   -1.169511 -1.171755  ...   \n",
              "2    cc-pVDZ    0 -1.163426 -1.163426  -1.166564   -1.163245 -1.165908  ...   \n",
              "3  def2-QZVP    0 -1.173870 -1.173870  -1.173877   -1.169499 -1.171851  ...   \n",
              "4      6-31g    0 -1.151686 -1.151686  -1.168715   -1.163697 -1.166802  ...   \n",
              "5     STO-3G    0 -1.137265 -1.137265  -1.158578   -1.154403 -1.157421  ...   \n",
              "\n",
              "   M-DFT-M06-2X  M-DFT-SCAN  M-DFT-wB97X-V  M-DFT-PW6B95  M-DFT-pbe  \\\n",
              "0      0.004092    0.002435       0.007789      0.001525   0.007646   \n",
              "1      0.004285    0.002042       0.008185      0.001900   0.007250   \n",
              "2      0.000181    0.002482       0.012353      0.005033   0.003508   \n",
              "3      0.004370    0.002018       0.008203      0.001929   0.007228   \n",
              "4      0.012011    0.015116       0.025098      0.018872   0.010242   \n",
              "5      0.017138    0.020156       0.029726      0.023470   0.014788   \n",
              "\n",
              "   M-DFT-pbe0  M-NN-Functional.DM21  M-NN-Functional.DM21m  \\\n",
              "0    0.005285              0.002666               0.000485   \n",
              "1    0.004886              0.002904               0.000194   \n",
              "2    0.000076              0.005632               0.002377   \n",
              "3    0.004867              0.003037               0.000083   \n",
              "4    0.012199              0.019649               0.016278   \n",
              "5    0.017022              0.024381               0.021019   \n",
              "\n",
              "   M-NN-Functional.DM21mc  M-NN-Functional.DM21mu  \n",
              "0                0.003294                0.001065  \n",
              "1                0.003568                0.001388  \n",
              "2                0.006331                0.003795  \n",
              "3                0.003616                0.001471  \n",
              "4                0.020325                0.017857  \n",
              "5                0.023534                0.022415  \n",
              "\n",
              "[6 rows x 40 columns]"
            ],
            "text/html": [
              "\n",
              "  <div id=\"df-c7d23567-f7c3-4873-a5b4-6d1dc24a1972\">\n",
              "    <div class=\"colab-df-container\">\n",
              "      <div>\n",
              "<style scoped>\n",
              "    .dataframe tbody tr th:only-of-type {\n",
              "        vertical-align: middle;\n",
              "    }\n",
              "\n",
              "    .dataframe tbody tr th {\n",
              "        vertical-align: top;\n",
              "    }\n",
              "\n",
              "    .dataframe thead th {\n",
              "        text-align: right;\n",
              "    }\n",
              "</style>\n",
              "<table border=\"1\" class=\"dataframe\">\n",
              "  <thead>\n",
              "    <tr style=\"text-align: right;\">\n",
              "      <th></th>\n",
              "      <th>Weight</th>\n",
              "      <th>Element</th>\n",
              "      <th>Molecule</th>\n",
              "      <th>BasisSet</th>\n",
              "      <th>Spin</th>\n",
              "      <th>CCSD</th>\n",
              "      <th>CCSDT</th>\n",
              "      <th>DFT-b3lyp</th>\n",
              "      <th>DFT-M06-2X</th>\n",
              "      <th>DFT-SCAN</th>\n",
              "      <th>...</th>\n",
              "      <th>M-DFT-M06-2X</th>\n",
              "      <th>M-DFT-SCAN</th>\n",
              "      <th>M-DFT-wB97X-V</th>\n",
              "      <th>M-DFT-PW6B95</th>\n",
              "      <th>M-DFT-pbe</th>\n",
              "      <th>M-DFT-pbe0</th>\n",
              "      <th>M-NN-Functional.DM21</th>\n",
              "      <th>M-NN-Functional.DM21m</th>\n",
              "      <th>M-NN-Functional.DM21mc</th>\n",
              "      <th>M-NN-Functional.DM21mu</th>\n",
              "    </tr>\n",
              "  </thead>\n",
              "  <tbody>\n",
              "    <tr>\n",
              "      <th>0</th>\n",
              "      <td>1</td>\n",
              "      <td>H</td>\n",
              "      <td>\\n      H\\t0.0000000\\t0.0000000\\t0.3709280\\n  ...</td>\n",
              "      <td>cc-pV6Z</td>\n",
              "      <td>0</td>\n",
              "      <td>-1.174346</td>\n",
              "      <td>-1.174346</td>\n",
              "      <td>-1.173948</td>\n",
              "      <td>-1.170254</td>\n",
              "      <td>-1.171911</td>\n",
              "      <td>...</td>\n",
              "      <td>0.004092</td>\n",
              "      <td>0.002435</td>\n",
              "      <td>0.007789</td>\n",
              "      <td>0.001525</td>\n",
              "      <td>0.007646</td>\n",
              "      <td>0.005285</td>\n",
              "      <td>0.002666</td>\n",
              "      <td>0.000485</td>\n",
              "      <td>0.003294</td>\n",
              "      <td>0.001065</td>\n",
              "    </tr>\n",
              "    <tr>\n",
              "      <th>1</th>\n",
              "      <td>1</td>\n",
              "      <td>H</td>\n",
              "      <td>\\n      H\\t0.0000000\\t0.0000000\\t0.3709280\\n  ...</td>\n",
              "      <td>cc-pVQZ</td>\n",
              "      <td>0</td>\n",
              "      <td>-1.173796</td>\n",
              "      <td>-1.173796</td>\n",
              "      <td>-1.173778</td>\n",
              "      <td>-1.169511</td>\n",
              "      <td>-1.171755</td>\n",
              "      <td>...</td>\n",
              "      <td>0.004285</td>\n",
              "      <td>0.002042</td>\n",
              "      <td>0.008185</td>\n",
              "      <td>0.001900</td>\n",
              "      <td>0.007250</td>\n",
              "      <td>0.004886</td>\n",
              "      <td>0.002904</td>\n",
              "      <td>0.000194</td>\n",
              "      <td>0.003568</td>\n",
              "      <td>0.001388</td>\n",
              "    </tr>\n",
              "    <tr>\n",
              "      <th>2</th>\n",
              "      <td>1</td>\n",
              "      <td>H</td>\n",
              "      <td>\\n      H\\t0.0000000\\t0.0000000\\t0.3709280\\n  ...</td>\n",
              "      <td>cc-pVDZ</td>\n",
              "      <td>0</td>\n",
              "      <td>-1.163426</td>\n",
              "      <td>-1.163426</td>\n",
              "      <td>-1.166564</td>\n",
              "      <td>-1.163245</td>\n",
              "      <td>-1.165908</td>\n",
              "      <td>...</td>\n",
              "      <td>0.000181</td>\n",
              "      <td>0.002482</td>\n",
              "      <td>0.012353</td>\n",
              "      <td>0.005033</td>\n",
              "      <td>0.003508</td>\n",
              "      <td>0.000076</td>\n",
              "      <td>0.005632</td>\n",
              "      <td>0.002377</td>\n",
              "      <td>0.006331</td>\n",
              "      <td>0.003795</td>\n",
              "    </tr>\n",
              "    <tr>\n",
              "      <th>3</th>\n",
              "      <td>1</td>\n",
              "      <td>H</td>\n",
              "      <td>\\n      H\\t0.0000000\\t0.0000000\\t0.3709280\\n  ...</td>\n",
              "      <td>def2-QZVP</td>\n",
              "      <td>0</td>\n",
              "      <td>-1.173870</td>\n",
              "      <td>-1.173870</td>\n",
              "      <td>-1.173877</td>\n",
              "      <td>-1.169499</td>\n",
              "      <td>-1.171851</td>\n",
              "      <td>...</td>\n",
              "      <td>0.004370</td>\n",
              "      <td>0.002018</td>\n",
              "      <td>0.008203</td>\n",
              "      <td>0.001929</td>\n",
              "      <td>0.007228</td>\n",
              "      <td>0.004867</td>\n",
              "      <td>0.003037</td>\n",
              "      <td>0.000083</td>\n",
              "      <td>0.003616</td>\n",
              "      <td>0.001471</td>\n",
              "    </tr>\n",
              "    <tr>\n",
              "      <th>4</th>\n",
              "      <td>1</td>\n",
              "      <td>H</td>\n",
              "      <td>\\n      H\\t0.0000000\\t0.0000000\\t0.3709280\\n  ...</td>\n",
              "      <td>6-31g</td>\n",
              "      <td>0</td>\n",
              "      <td>-1.151686</td>\n",
              "      <td>-1.151686</td>\n",
              "      <td>-1.168715</td>\n",
              "      <td>-1.163697</td>\n",
              "      <td>-1.166802</td>\n",
              "      <td>...</td>\n",
              "      <td>0.012011</td>\n",
              "      <td>0.015116</td>\n",
              "      <td>0.025098</td>\n",
              "      <td>0.018872</td>\n",
              "      <td>0.010242</td>\n",
              "      <td>0.012199</td>\n",
              "      <td>0.019649</td>\n",
              "      <td>0.016278</td>\n",
              "      <td>0.020325</td>\n",
              "      <td>0.017857</td>\n",
              "    </tr>\n",
              "    <tr>\n",
              "      <th>5</th>\n",
              "      <td>1</td>\n",
              "      <td>H</td>\n",
              "      <td>\\n      H\\t0.0000000\\t0.0000000\\t0.3709280\\n  ...</td>\n",
              "      <td>STO-3G</td>\n",
              "      <td>0</td>\n",
              "      <td>-1.137265</td>\n",
              "      <td>-1.137265</td>\n",
              "      <td>-1.158578</td>\n",
              "      <td>-1.154403</td>\n",
              "      <td>-1.157421</td>\n",
              "      <td>...</td>\n",
              "      <td>0.017138</td>\n",
              "      <td>0.020156</td>\n",
              "      <td>0.029726</td>\n",
              "      <td>0.023470</td>\n",
              "      <td>0.014788</td>\n",
              "      <td>0.017022</td>\n",
              "      <td>0.024381</td>\n",
              "      <td>0.021019</td>\n",
              "      <td>0.023534</td>\n",
              "      <td>0.022415</td>\n",
              "    </tr>\n",
              "  </tbody>\n",
              "</table>\n",
              "<p>6 rows × 40 columns</p>\n",
              "</div>\n",
              "      <button class=\"colab-df-convert\" onclick=\"convertToInteractive('df-c7d23567-f7c3-4873-a5b4-6d1dc24a1972')\"\n",
              "              title=\"Convert this dataframe to an interactive table.\"\n",
              "              style=\"display:none;\">\n",
              "        \n",
              "  <svg xmlns=\"http://www.w3.org/2000/svg\" height=\"24px\"viewBox=\"0 0 24 24\"\n",
              "       width=\"24px\">\n",
              "    <path d=\"M0 0h24v24H0V0z\" fill=\"none\"/>\n",
              "    <path d=\"M18.56 5.44l.94 2.06.94-2.06 2.06-.94-2.06-.94-.94-2.06-.94 2.06-2.06.94zm-11 1L8.5 8.5l.94-2.06 2.06-.94-2.06-.94L8.5 2.5l-.94 2.06-2.06.94zm10 10l.94 2.06.94-2.06 2.06-.94-2.06-.94-.94-2.06-.94 2.06-2.06.94z\"/><path d=\"M17.41 7.96l-1.37-1.37c-.4-.4-.92-.59-1.43-.59-.52 0-1.04.2-1.43.59L10.3 9.45l-7.72 7.72c-.78.78-.78 2.05 0 2.83L4 21.41c.39.39.9.59 1.41.59.51 0 1.02-.2 1.41-.59l7.78-7.78 2.81-2.81c.8-.78.8-2.07 0-2.86zM5.41 20L4 18.59l7.72-7.72 1.47 1.35L5.41 20z\"/>\n",
              "  </svg>\n",
              "      </button>\n",
              "      \n",
              "  <style>\n",
              "    .colab-df-container {\n",
              "      display:flex;\n",
              "      flex-wrap:wrap;\n",
              "      gap: 12px;\n",
              "    }\n",
              "\n",
              "    .colab-df-convert {\n",
              "      background-color: #E8F0FE;\n",
              "      border: none;\n",
              "      border-radius: 50%;\n",
              "      cursor: pointer;\n",
              "      display: none;\n",
              "      fill: #1967D2;\n",
              "      height: 32px;\n",
              "      padding: 0 0 0 0;\n",
              "      width: 32px;\n",
              "    }\n",
              "\n",
              "    .colab-df-convert:hover {\n",
              "      background-color: #E2EBFA;\n",
              "      box-shadow: 0px 1px 2px rgba(60, 64, 67, 0.3), 0px 1px 3px 1px rgba(60, 64, 67, 0.15);\n",
              "      fill: #174EA6;\n",
              "    }\n",
              "\n",
              "    [theme=dark] .colab-df-convert {\n",
              "      background-color: #3B4455;\n",
              "      fill: #D2E3FC;\n",
              "    }\n",
              "\n",
              "    [theme=dark] .colab-df-convert:hover {\n",
              "      background-color: #434B5C;\n",
              "      box-shadow: 0px 1px 3px 1px rgba(0, 0, 0, 0.15);\n",
              "      filter: drop-shadow(0px 1px 2px rgba(0, 0, 0, 0.3));\n",
              "      fill: #FFFFFF;\n",
              "    }\n",
              "  </style>\n",
              "\n",
              "      <script>\n",
              "        const buttonEl =\n",
              "          document.querySelector('#df-c7d23567-f7c3-4873-a5b4-6d1dc24a1972 button.colab-df-convert');\n",
              "        buttonEl.style.display =\n",
              "          google.colab.kernel.accessAllowed ? 'block' : 'none';\n",
              "\n",
              "        async function convertToInteractive(key) {\n",
              "          const element = document.querySelector('#df-c7d23567-f7c3-4873-a5b4-6d1dc24a1972');\n",
              "          const dataTable =\n",
              "            await google.colab.kernel.invokeFunction('convertToInteractive',\n",
              "                                                     [key], {});\n",
              "          if (!dataTable) return;\n",
              "\n",
              "          const docLinkHtml = 'Like what you see? Visit the ' +\n",
              "            '<a target=\"_blank\" href=https://colab.research.google.com/notebooks/data_table.ipynb>data table notebook</a>'\n",
              "            + ' to learn more about interactive tables.';\n",
              "          element.innerHTML = '';\n",
              "          dataTable['output_type'] = 'display_data';\n",
              "          await google.colab.output.renderOutput(dataTable, element);\n",
              "          const docLink = document.createElement('div');\n",
              "          docLink.innerHTML = docLinkHtml;\n",
              "          element.appendChild(docLink);\n",
              "        }\n",
              "      </script>\n",
              "    </div>\n",
              "  </div>\n",
              "  "
            ]
          },
          "metadata": {},
          "execution_count": 79
        }
      ]
    },
    {
      "cell_type": "code",
      "source": [
        "df.to_csv('/content/drive/My Drive/DeepMind' + EXPNO+ 'CE-Final-.csv' )\n"
      ],
      "metadata": {
        "id": "wbLP9OLHksHO"
      },
      "execution_count": 80,
      "outputs": []
    },
    {
      "cell_type": "code",
      "source": [
        "dfcopy\n",
        "\n",
        "\n",
        "for afunctionals in functionalsList:\n",
        "  print(str(afunctionals))\n",
        "  dfcopy['M-'+'DFT-'+str(afunctionals)] =   abs  (dfcopy['DFT-'+str(afunctionals) ] - dfcopy['CCSDT_G']  ) \n",
        "  "
      ],
      "metadata": {
        "id": "LaFj1DcW160O",
        "colab": {
          "base_uri": "https://localhost:8080/"
        },
        "outputId": "d547e1d8-afff-4dd5-f8ba-f80abafbe892"
      },
      "execution_count": 81,
      "outputs": [
        {
          "output_type": "stream",
          "name": "stdout",
          "text": [
            "b3lyp\n",
            "M06-2X\n",
            "SCAN\n",
            "wB97X-V\n",
            "PW6B95\n",
            "pbe\n",
            "pbe0\n"
          ]
        }
      ]
    },
    {
      "cell_type": "code",
      "source": [
        "for aDMFunctionalvalue in list(dm21.Functional):\n",
        "  print(str(aDMFunctionalvalue))\n",
        "  dfcopy['M-'+'NN-'+str(aDMFunctionalvalue)] = abs  (dfcopy['NN-'+str(aDMFunctionalvalue) ] - dfcopy['CCSDT_G']  ) \n"
      ],
      "metadata": {
        "id": "STIRU5OL2HMp",
        "colab": {
          "base_uri": "https://localhost:8080/"
        },
        "outputId": "d4efb3a7-42de-4b53-82b6-8859b56698e5"
      },
      "execution_count": 82,
      "outputs": [
        {
          "output_type": "stream",
          "name": "stdout",
          "text": [
            "Functional.DM21\n",
            "Functional.DM21m\n",
            "Functional.DM21mc\n",
            "Functional.DM21mu\n"
          ]
        }
      ]
    },
    {
      "cell_type": "code",
      "source": [
        "dfcopy"
      ],
      "metadata": {
        "id": "b6icB_GN3_8M",
        "colab": {
          "base_uri": "https://localhost:8080/",
          "height": 556
        },
        "outputId": "a28f3860-3570-4a52-f3e0-0ced7f8cbbd1"
      },
      "execution_count": 83,
      "outputs": [
        {
          "output_type": "execute_result",
          "data": {
            "text/plain": [
              "  Weight Element                                           Molecule  \\\n",
              "0      1       H  \\n      H\\t0.0000000\\t0.0000000\\t0.3709280\\n  ...   \n",
              "1      1       H  \\n      H\\t0.0000000\\t0.0000000\\t0.3709280\\n  ...   \n",
              "2      1       H  \\n      H\\t0.0000000\\t0.0000000\\t0.3709280\\n  ...   \n",
              "3      1       H  \\n      H\\t0.0000000\\t0.0000000\\t0.3709280\\n  ...   \n",
              "4      1       H  \\n      H\\t0.0000000\\t0.0000000\\t0.3709280\\n  ...   \n",
              "5      1       H  \\n      H\\t0.0000000\\t0.0000000\\t0.3709280\\n  ...   \n",
              "\n",
              "    BasisSet Spin      CCSD     CCSDT  DFT-b3lyp  DFT-M06-2X  DFT-SCAN  ...  \\\n",
              "0    cc-pV6Z    0 -1.174346 -1.174346  -1.173948   -1.170254 -1.171911  ...   \n",
              "1    cc-pVQZ    0 -1.173796 -1.173796  -1.173778   -1.169511 -1.171755  ...   \n",
              "2    cc-pVDZ    0 -1.163426 -1.163426  -1.166564   -1.163245 -1.165908  ...   \n",
              "3  def2-QZVP    0 -1.173870 -1.173870  -1.173877   -1.169499 -1.171851  ...   \n",
              "4      6-31g    0 -1.151686 -1.151686  -1.168715   -1.163697 -1.166802  ...   \n",
              "5     STO-3G    0 -1.137265 -1.137265  -1.158578   -1.154403 -1.157421  ...   \n",
              "\n",
              "   M-DFT-M06-2X  M-DFT-SCAN  M-DFT-wB97X-V  M-DFT-PW6B95  M-DFT-pbe  \\\n",
              "0      0.004092    0.002435       0.007789      0.001525   0.007646   \n",
              "1      0.004834    0.002591       0.007636      0.001351   0.007799   \n",
              "2      0.011101    0.008437       0.001433      0.005886   0.014427   \n",
              "3      0.004846    0.002494       0.007727      0.001453   0.007704   \n",
              "4      0.010649    0.007544       0.002438      0.003788   0.012418   \n",
              "5      0.019942    0.016924       0.007354      0.013610   0.022293   \n",
              "\n",
              "   M-DFT-pbe0  M-NN-Functional.DM21  M-NN-Functional.DM21m  \\\n",
              "0    0.005285              0.002666               0.000485   \n",
              "1    0.005435              0.002355               0.000743   \n",
              "2    0.010995              0.005288               0.008542   \n",
              "3    0.005343              0.002561               0.000559   \n",
              "4    0.010461              0.003011               0.006382   \n",
              "5    0.020059              0.012700               0.016061   \n",
              "\n",
              "   M-NN-Functional.DM21mc  M-NN-Functional.DM21mu  \n",
              "0                0.003294                0.001065  \n",
              "1                0.003019                0.000839  \n",
              "2                0.004589                0.007124  \n",
              "3                0.003140                0.000995  \n",
              "4                0.002335                0.004803  \n",
              "5                0.013547                0.014665  \n",
              "\n",
              "[6 rows x 30 columns]"
            ],
            "text/html": [
              "\n",
              "  <div id=\"df-47f730ef-5a01-4b28-91b4-b825da489ffa\">\n",
              "    <div class=\"colab-df-container\">\n",
              "      <div>\n",
              "<style scoped>\n",
              "    .dataframe tbody tr th:only-of-type {\n",
              "        vertical-align: middle;\n",
              "    }\n",
              "\n",
              "    .dataframe tbody tr th {\n",
              "        vertical-align: top;\n",
              "    }\n",
              "\n",
              "    .dataframe thead th {\n",
              "        text-align: right;\n",
              "    }\n",
              "</style>\n",
              "<table border=\"1\" class=\"dataframe\">\n",
              "  <thead>\n",
              "    <tr style=\"text-align: right;\">\n",
              "      <th></th>\n",
              "      <th>Weight</th>\n",
              "      <th>Element</th>\n",
              "      <th>Molecule</th>\n",
              "      <th>BasisSet</th>\n",
              "      <th>Spin</th>\n",
              "      <th>CCSD</th>\n",
              "      <th>CCSDT</th>\n",
              "      <th>DFT-b3lyp</th>\n",
              "      <th>DFT-M06-2X</th>\n",
              "      <th>DFT-SCAN</th>\n",
              "      <th>...</th>\n",
              "      <th>M-DFT-M06-2X</th>\n",
              "      <th>M-DFT-SCAN</th>\n",
              "      <th>M-DFT-wB97X-V</th>\n",
              "      <th>M-DFT-PW6B95</th>\n",
              "      <th>M-DFT-pbe</th>\n",
              "      <th>M-DFT-pbe0</th>\n",
              "      <th>M-NN-Functional.DM21</th>\n",
              "      <th>M-NN-Functional.DM21m</th>\n",
              "      <th>M-NN-Functional.DM21mc</th>\n",
              "      <th>M-NN-Functional.DM21mu</th>\n",
              "    </tr>\n",
              "  </thead>\n",
              "  <tbody>\n",
              "    <tr>\n",
              "      <th>0</th>\n",
              "      <td>1</td>\n",
              "      <td>H</td>\n",
              "      <td>\\n      H\\t0.0000000\\t0.0000000\\t0.3709280\\n  ...</td>\n",
              "      <td>cc-pV6Z</td>\n",
              "      <td>0</td>\n",
              "      <td>-1.174346</td>\n",
              "      <td>-1.174346</td>\n",
              "      <td>-1.173948</td>\n",
              "      <td>-1.170254</td>\n",
              "      <td>-1.171911</td>\n",
              "      <td>...</td>\n",
              "      <td>0.004092</td>\n",
              "      <td>0.002435</td>\n",
              "      <td>0.007789</td>\n",
              "      <td>0.001525</td>\n",
              "      <td>0.007646</td>\n",
              "      <td>0.005285</td>\n",
              "      <td>0.002666</td>\n",
              "      <td>0.000485</td>\n",
              "      <td>0.003294</td>\n",
              "      <td>0.001065</td>\n",
              "    </tr>\n",
              "    <tr>\n",
              "      <th>1</th>\n",
              "      <td>1</td>\n",
              "      <td>H</td>\n",
              "      <td>\\n      H\\t0.0000000\\t0.0000000\\t0.3709280\\n  ...</td>\n",
              "      <td>cc-pVQZ</td>\n",
              "      <td>0</td>\n",
              "      <td>-1.173796</td>\n",
              "      <td>-1.173796</td>\n",
              "      <td>-1.173778</td>\n",
              "      <td>-1.169511</td>\n",
              "      <td>-1.171755</td>\n",
              "      <td>...</td>\n",
              "      <td>0.004834</td>\n",
              "      <td>0.002591</td>\n",
              "      <td>0.007636</td>\n",
              "      <td>0.001351</td>\n",
              "      <td>0.007799</td>\n",
              "      <td>0.005435</td>\n",
              "      <td>0.002355</td>\n",
              "      <td>0.000743</td>\n",
              "      <td>0.003019</td>\n",
              "      <td>0.000839</td>\n",
              "    </tr>\n",
              "    <tr>\n",
              "      <th>2</th>\n",
              "      <td>1</td>\n",
              "      <td>H</td>\n",
              "      <td>\\n      H\\t0.0000000\\t0.0000000\\t0.3709280\\n  ...</td>\n",
              "      <td>cc-pVDZ</td>\n",
              "      <td>0</td>\n",
              "      <td>-1.163426</td>\n",
              "      <td>-1.163426</td>\n",
              "      <td>-1.166564</td>\n",
              "      <td>-1.163245</td>\n",
              "      <td>-1.165908</td>\n",
              "      <td>...</td>\n",
              "      <td>0.011101</td>\n",
              "      <td>0.008437</td>\n",
              "      <td>0.001433</td>\n",
              "      <td>0.005886</td>\n",
              "      <td>0.014427</td>\n",
              "      <td>0.010995</td>\n",
              "      <td>0.005288</td>\n",
              "      <td>0.008542</td>\n",
              "      <td>0.004589</td>\n",
              "      <td>0.007124</td>\n",
              "    </tr>\n",
              "    <tr>\n",
              "      <th>3</th>\n",
              "      <td>1</td>\n",
              "      <td>H</td>\n",
              "      <td>\\n      H\\t0.0000000\\t0.0000000\\t0.3709280\\n  ...</td>\n",
              "      <td>def2-QZVP</td>\n",
              "      <td>0</td>\n",
              "      <td>-1.173870</td>\n",
              "      <td>-1.173870</td>\n",
              "      <td>-1.173877</td>\n",
              "      <td>-1.169499</td>\n",
              "      <td>-1.171851</td>\n",
              "      <td>...</td>\n",
              "      <td>0.004846</td>\n",
              "      <td>0.002494</td>\n",
              "      <td>0.007727</td>\n",
              "      <td>0.001453</td>\n",
              "      <td>0.007704</td>\n",
              "      <td>0.005343</td>\n",
              "      <td>0.002561</td>\n",
              "      <td>0.000559</td>\n",
              "      <td>0.003140</td>\n",
              "      <td>0.000995</td>\n",
              "    </tr>\n",
              "    <tr>\n",
              "      <th>4</th>\n",
              "      <td>1</td>\n",
              "      <td>H</td>\n",
              "      <td>\\n      H\\t0.0000000\\t0.0000000\\t0.3709280\\n  ...</td>\n",
              "      <td>6-31g</td>\n",
              "      <td>0</td>\n",
              "      <td>-1.151686</td>\n",
              "      <td>-1.151686</td>\n",
              "      <td>-1.168715</td>\n",
              "      <td>-1.163697</td>\n",
              "      <td>-1.166802</td>\n",
              "      <td>...</td>\n",
              "      <td>0.010649</td>\n",
              "      <td>0.007544</td>\n",
              "      <td>0.002438</td>\n",
              "      <td>0.003788</td>\n",
              "      <td>0.012418</td>\n",
              "      <td>0.010461</td>\n",
              "      <td>0.003011</td>\n",
              "      <td>0.006382</td>\n",
              "      <td>0.002335</td>\n",
              "      <td>0.004803</td>\n",
              "    </tr>\n",
              "    <tr>\n",
              "      <th>5</th>\n",
              "      <td>1</td>\n",
              "      <td>H</td>\n",
              "      <td>\\n      H\\t0.0000000\\t0.0000000\\t0.3709280\\n  ...</td>\n",
              "      <td>STO-3G</td>\n",
              "      <td>0</td>\n",
              "      <td>-1.137265</td>\n",
              "      <td>-1.137265</td>\n",
              "      <td>-1.158578</td>\n",
              "      <td>-1.154403</td>\n",
              "      <td>-1.157421</td>\n",
              "      <td>...</td>\n",
              "      <td>0.019942</td>\n",
              "      <td>0.016924</td>\n",
              "      <td>0.007354</td>\n",
              "      <td>0.013610</td>\n",
              "      <td>0.022293</td>\n",
              "      <td>0.020059</td>\n",
              "      <td>0.012700</td>\n",
              "      <td>0.016061</td>\n",
              "      <td>0.013547</td>\n",
              "      <td>0.014665</td>\n",
              "    </tr>\n",
              "  </tbody>\n",
              "</table>\n",
              "<p>6 rows × 30 columns</p>\n",
              "</div>\n",
              "      <button class=\"colab-df-convert\" onclick=\"convertToInteractive('df-47f730ef-5a01-4b28-91b4-b825da489ffa')\"\n",
              "              title=\"Convert this dataframe to an interactive table.\"\n",
              "              style=\"display:none;\">\n",
              "        \n",
              "  <svg xmlns=\"http://www.w3.org/2000/svg\" height=\"24px\"viewBox=\"0 0 24 24\"\n",
              "       width=\"24px\">\n",
              "    <path d=\"M0 0h24v24H0V0z\" fill=\"none\"/>\n",
              "    <path d=\"M18.56 5.44l.94 2.06.94-2.06 2.06-.94-2.06-.94-.94-2.06-.94 2.06-2.06.94zm-11 1L8.5 8.5l.94-2.06 2.06-.94-2.06-.94L8.5 2.5l-.94 2.06-2.06.94zm10 10l.94 2.06.94-2.06 2.06-.94-2.06-.94-.94-2.06-.94 2.06-2.06.94z\"/><path d=\"M17.41 7.96l-1.37-1.37c-.4-.4-.92-.59-1.43-.59-.52 0-1.04.2-1.43.59L10.3 9.45l-7.72 7.72c-.78.78-.78 2.05 0 2.83L4 21.41c.39.39.9.59 1.41.59.51 0 1.02-.2 1.41-.59l7.78-7.78 2.81-2.81c.8-.78.8-2.07 0-2.86zM5.41 20L4 18.59l7.72-7.72 1.47 1.35L5.41 20z\"/>\n",
              "  </svg>\n",
              "      </button>\n",
              "      \n",
              "  <style>\n",
              "    .colab-df-container {\n",
              "      display:flex;\n",
              "      flex-wrap:wrap;\n",
              "      gap: 12px;\n",
              "    }\n",
              "\n",
              "    .colab-df-convert {\n",
              "      background-color: #E8F0FE;\n",
              "      border: none;\n",
              "      border-radius: 50%;\n",
              "      cursor: pointer;\n",
              "      display: none;\n",
              "      fill: #1967D2;\n",
              "      height: 32px;\n",
              "      padding: 0 0 0 0;\n",
              "      width: 32px;\n",
              "    }\n",
              "\n",
              "    .colab-df-convert:hover {\n",
              "      background-color: #E2EBFA;\n",
              "      box-shadow: 0px 1px 2px rgba(60, 64, 67, 0.3), 0px 1px 3px 1px rgba(60, 64, 67, 0.15);\n",
              "      fill: #174EA6;\n",
              "    }\n",
              "\n",
              "    [theme=dark] .colab-df-convert {\n",
              "      background-color: #3B4455;\n",
              "      fill: #D2E3FC;\n",
              "    }\n",
              "\n",
              "    [theme=dark] .colab-df-convert:hover {\n",
              "      background-color: #434B5C;\n",
              "      box-shadow: 0px 1px 3px 1px rgba(0, 0, 0, 0.15);\n",
              "      filter: drop-shadow(0px 1px 2px rgba(0, 0, 0, 0.3));\n",
              "      fill: #FFFFFF;\n",
              "    }\n",
              "  </style>\n",
              "\n",
              "      <script>\n",
              "        const buttonEl =\n",
              "          document.querySelector('#df-47f730ef-5a01-4b28-91b4-b825da489ffa button.colab-df-convert');\n",
              "        buttonEl.style.display =\n",
              "          google.colab.kernel.accessAllowed ? 'block' : 'none';\n",
              "\n",
              "        async function convertToInteractive(key) {\n",
              "          const element = document.querySelector('#df-47f730ef-5a01-4b28-91b4-b825da489ffa');\n",
              "          const dataTable =\n",
              "            await google.colab.kernel.invokeFunction('convertToInteractive',\n",
              "                                                     [key], {});\n",
              "          if (!dataTable) return;\n",
              "\n",
              "          const docLinkHtml = 'Like what you see? Visit the ' +\n",
              "            '<a target=\"_blank\" href=https://colab.research.google.com/notebooks/data_table.ipynb>data table notebook</a>'\n",
              "            + ' to learn more about interactive tables.';\n",
              "          element.innerHTML = '';\n",
              "          dataTable['output_type'] = 'display_data';\n",
              "          await google.colab.output.renderOutput(dataTable, element);\n",
              "          const docLink = document.createElement('div');\n",
              "          docLink.innerHTML = docLinkHtml;\n",
              "          element.appendChild(docLink);\n",
              "        }\n",
              "      </script>\n",
              "    </div>\n",
              "  </div>\n",
              "  "
            ]
          },
          "metadata": {},
          "execution_count": 83
        }
      ]
    },
    {
      "cell_type": "code",
      "source": [
        "dfcopy.to_csv('/content/drive/My Drive/DeepMind_' + EXPNO+ '_Gold_Final-.csv' )\n"
      ],
      "metadata": {
        "id": "h5iwEdT72Rvv"
      },
      "execution_count": 84,
      "outputs": []
    },
    {
      "cell_type": "code",
      "source": [
        ""
      ],
      "metadata": {
        "id": "Kxt-D0Drdsl5"
      },
      "execution_count": 84,
      "outputs": []
    },
    {
      "cell_type": "markdown",
      "source": [
        "\n",
        "\n",
        "\n",
        "Bechnmark dataset , Use this to generate multiple papers (already the water dataset is published with DM21, but there is scope for other datasets .. THen you can take new molecules)\n",
        "http://www.begdb.org/index.php\n",
        "\n",
        "https://cccbdb.nist.gov/coreenergy3x.asp?casno=1333740&charge=0&method=63&basis=25\n",
        "\n",
        "pyscf tutorial \n",
        "https://github.com/nmardirossian/PySCF_Tutorial/blob/master/dev_guide.ipynb\n",
        "\n",
        "visuvalize cube geen\n",
        "\n",
        "https://programtalk.com/vs2/?source=python/12572/pyscf/tools/cubegen.py\n",
        "https://www.youtube.com/watch?v=QGyfGCZT110\n",
        "https://github.com/topics/molecule-viewer\n",
        "\n",
        "\n",
        "geomtery optimization\n",
        "https://colab.research.google.com/drive/1apQANgcMv9_waE4av47NJkxxlglklZy3?usp=sharing \n",
        "\n",
        "https://www.nature.com/articles/s41598-017-12600-3\n",
        "https://aip.scitation.org/doi/full/10.1063/5.0004863\n",
        "https://www.researchgate.net/figure/Outline-of-the-FLO-SIC-method-in-the-so-called-self-consistent-mode-The-SIC-is_fig5_340950498\n",
        "\n",
        "\n",
        "Quantam ML\n",
        "https://pennylane.ai/qml/demos_qml.html"
      ],
      "metadata": {
        "id": "7Xl7kKbOduHJ"
      }
    },
    {
      "cell_type": "code",
      "source": [
        ""
      ],
      "metadata": {
        "id": "51lFNJYxeic2"
      },
      "execution_count": 84,
      "outputs": []
    },
    {
      "cell_type": "code",
      "source": [
        " "
      ],
      "metadata": {
        "id": "DL6yJhRxeiZQ"
      },
      "execution_count": 84,
      "outputs": []
    },
    {
      "cell_type": "markdown",
      "source": [
        "#### The table will be automatically downloaded into your laptop as CSV file (excel sheet)"
      ],
      "metadata": {
        "id": "gvdwtTzYEh7n"
      }
    },
    {
      "cell_type": "code",
      "source": [
        "import seaborn as sns\n",
        " \n",
        " "
      ],
      "metadata": {
        "id": "tnnjwLprRonP"
      },
      "execution_count": 85,
      "outputs": []
    },
    {
      "cell_type": "code",
      "source": [
        "listofcolumstoplot = ['BasisSet']\n",
        "for aDMFunctionalvalue in list(dm21.Functional):\n",
        "  colname = 'M-'+'NN-'+ str(aDMFunctionalvalue)\n",
        "  listofcolumstoplot.append(colname)\n",
        "\n",
        "\n",
        "for afunctionals in functionalsList:\n",
        "  colname = 'M-'+'DFT-'+str(afunctionals)\n",
        "  listofcolumstoplot.append(colname)\n",
        "\n",
        "\n",
        "listofcolumstoplot"
      ],
      "metadata": {
        "colab": {
          "base_uri": "https://localhost:8080/"
        },
        "id": "DBhtS_0_SZTS",
        "outputId": "97fa3045-5bec-4f3d-9631-44959c04a299"
      },
      "execution_count": 86,
      "outputs": [
        {
          "output_type": "execute_result",
          "data": {
            "text/plain": [
              "['BasisSet',\n",
              " 'M-NN-Functional.DM21',\n",
              " 'M-NN-Functional.DM21m',\n",
              " 'M-NN-Functional.DM21mc',\n",
              " 'M-NN-Functional.DM21mu',\n",
              " 'M-DFT-b3lyp',\n",
              " 'M-DFT-M06-2X',\n",
              " 'M-DFT-SCAN',\n",
              " 'M-DFT-wB97X-V',\n",
              " 'M-DFT-PW6B95',\n",
              " 'M-DFT-pbe',\n",
              " 'M-DFT-pbe0']"
            ]
          },
          "metadata": {},
          "execution_count": 86
        }
      ]
    },
    {
      "cell_type": "code",
      "source": [
        "dfplot = dfcopy[listofcolumstoplot]\n",
        "\n",
        "dfplot"
      ],
      "metadata": {
        "colab": {
          "base_uri": "https://localhost:8080/",
          "height": 237
        },
        "id": "pjSC36dnRxxB",
        "outputId": "97cb17d2-ab4a-456d-8615-2a6752d77685"
      },
      "execution_count": 87,
      "outputs": [
        {
          "output_type": "execute_result",
          "data": {
            "text/plain": [
              "    BasisSet  M-NN-Functional.DM21  M-NN-Functional.DM21m  \\\n",
              "0    cc-pV6Z              0.002666               0.000485   \n",
              "1    cc-pVQZ              0.002355               0.000743   \n",
              "2    cc-pVDZ              0.005288               0.008542   \n",
              "3  def2-QZVP              0.002561               0.000559   \n",
              "4      6-31g              0.003011               0.006382   \n",
              "5     STO-3G              0.012700               0.016061   \n",
              "\n",
              "   M-NN-Functional.DM21mc  M-NN-Functional.DM21mu  M-DFT-b3lyp  M-DFT-M06-2X  \\\n",
              "0                0.003294                0.001065     0.000398      0.004092   \n",
              "1                0.003019                0.000839     0.000567      0.004834   \n",
              "2                0.004589                0.007124     0.007782      0.011101   \n",
              "3                0.003140                0.000995     0.000469      0.004846   \n",
              "4                0.002335                0.004803     0.005630      0.010649   \n",
              "5                0.013547                0.014665     0.015768      0.019942   \n",
              "\n",
              "   M-DFT-SCAN  M-DFT-wB97X-V  M-DFT-PW6B95  M-DFT-pbe  M-DFT-pbe0  \n",
              "0    0.002435       0.007789      0.001525   0.007646    0.005285  \n",
              "1    0.002591       0.007636      0.001351   0.007799    0.005435  \n",
              "2    0.008437       0.001433      0.005886   0.014427    0.010995  \n",
              "3    0.002494       0.007727      0.001453   0.007704    0.005343  \n",
              "4    0.007544       0.002438      0.003788   0.012418    0.010461  \n",
              "5    0.016924       0.007354      0.013610   0.022293    0.020059  "
            ],
            "text/html": [
              "\n",
              "  <div id=\"df-c3985239-1363-4ef0-bd3b-620ef79d3f56\">\n",
              "    <div class=\"colab-df-container\">\n",
              "      <div>\n",
              "<style scoped>\n",
              "    .dataframe tbody tr th:only-of-type {\n",
              "        vertical-align: middle;\n",
              "    }\n",
              "\n",
              "    .dataframe tbody tr th {\n",
              "        vertical-align: top;\n",
              "    }\n",
              "\n",
              "    .dataframe thead th {\n",
              "        text-align: right;\n",
              "    }\n",
              "</style>\n",
              "<table border=\"1\" class=\"dataframe\">\n",
              "  <thead>\n",
              "    <tr style=\"text-align: right;\">\n",
              "      <th></th>\n",
              "      <th>BasisSet</th>\n",
              "      <th>M-NN-Functional.DM21</th>\n",
              "      <th>M-NN-Functional.DM21m</th>\n",
              "      <th>M-NN-Functional.DM21mc</th>\n",
              "      <th>M-NN-Functional.DM21mu</th>\n",
              "      <th>M-DFT-b3lyp</th>\n",
              "      <th>M-DFT-M06-2X</th>\n",
              "      <th>M-DFT-SCAN</th>\n",
              "      <th>M-DFT-wB97X-V</th>\n",
              "      <th>M-DFT-PW6B95</th>\n",
              "      <th>M-DFT-pbe</th>\n",
              "      <th>M-DFT-pbe0</th>\n",
              "    </tr>\n",
              "  </thead>\n",
              "  <tbody>\n",
              "    <tr>\n",
              "      <th>0</th>\n",
              "      <td>cc-pV6Z</td>\n",
              "      <td>0.002666</td>\n",
              "      <td>0.000485</td>\n",
              "      <td>0.003294</td>\n",
              "      <td>0.001065</td>\n",
              "      <td>0.000398</td>\n",
              "      <td>0.004092</td>\n",
              "      <td>0.002435</td>\n",
              "      <td>0.007789</td>\n",
              "      <td>0.001525</td>\n",
              "      <td>0.007646</td>\n",
              "      <td>0.005285</td>\n",
              "    </tr>\n",
              "    <tr>\n",
              "      <th>1</th>\n",
              "      <td>cc-pVQZ</td>\n",
              "      <td>0.002355</td>\n",
              "      <td>0.000743</td>\n",
              "      <td>0.003019</td>\n",
              "      <td>0.000839</td>\n",
              "      <td>0.000567</td>\n",
              "      <td>0.004834</td>\n",
              "      <td>0.002591</td>\n",
              "      <td>0.007636</td>\n",
              "      <td>0.001351</td>\n",
              "      <td>0.007799</td>\n",
              "      <td>0.005435</td>\n",
              "    </tr>\n",
              "    <tr>\n",
              "      <th>2</th>\n",
              "      <td>cc-pVDZ</td>\n",
              "      <td>0.005288</td>\n",
              "      <td>0.008542</td>\n",
              "      <td>0.004589</td>\n",
              "      <td>0.007124</td>\n",
              "      <td>0.007782</td>\n",
              "      <td>0.011101</td>\n",
              "      <td>0.008437</td>\n",
              "      <td>0.001433</td>\n",
              "      <td>0.005886</td>\n",
              "      <td>0.014427</td>\n",
              "      <td>0.010995</td>\n",
              "    </tr>\n",
              "    <tr>\n",
              "      <th>3</th>\n",
              "      <td>def2-QZVP</td>\n",
              "      <td>0.002561</td>\n",
              "      <td>0.000559</td>\n",
              "      <td>0.003140</td>\n",
              "      <td>0.000995</td>\n",
              "      <td>0.000469</td>\n",
              "      <td>0.004846</td>\n",
              "      <td>0.002494</td>\n",
              "      <td>0.007727</td>\n",
              "      <td>0.001453</td>\n",
              "      <td>0.007704</td>\n",
              "      <td>0.005343</td>\n",
              "    </tr>\n",
              "    <tr>\n",
              "      <th>4</th>\n",
              "      <td>6-31g</td>\n",
              "      <td>0.003011</td>\n",
              "      <td>0.006382</td>\n",
              "      <td>0.002335</td>\n",
              "      <td>0.004803</td>\n",
              "      <td>0.005630</td>\n",
              "      <td>0.010649</td>\n",
              "      <td>0.007544</td>\n",
              "      <td>0.002438</td>\n",
              "      <td>0.003788</td>\n",
              "      <td>0.012418</td>\n",
              "      <td>0.010461</td>\n",
              "    </tr>\n",
              "    <tr>\n",
              "      <th>5</th>\n",
              "      <td>STO-3G</td>\n",
              "      <td>0.012700</td>\n",
              "      <td>0.016061</td>\n",
              "      <td>0.013547</td>\n",
              "      <td>0.014665</td>\n",
              "      <td>0.015768</td>\n",
              "      <td>0.019942</td>\n",
              "      <td>0.016924</td>\n",
              "      <td>0.007354</td>\n",
              "      <td>0.013610</td>\n",
              "      <td>0.022293</td>\n",
              "      <td>0.020059</td>\n",
              "    </tr>\n",
              "  </tbody>\n",
              "</table>\n",
              "</div>\n",
              "      <button class=\"colab-df-convert\" onclick=\"convertToInteractive('df-c3985239-1363-4ef0-bd3b-620ef79d3f56')\"\n",
              "              title=\"Convert this dataframe to an interactive table.\"\n",
              "              style=\"display:none;\">\n",
              "        \n",
              "  <svg xmlns=\"http://www.w3.org/2000/svg\" height=\"24px\"viewBox=\"0 0 24 24\"\n",
              "       width=\"24px\">\n",
              "    <path d=\"M0 0h24v24H0V0z\" fill=\"none\"/>\n",
              "    <path d=\"M18.56 5.44l.94 2.06.94-2.06 2.06-.94-2.06-.94-.94-2.06-.94 2.06-2.06.94zm-11 1L8.5 8.5l.94-2.06 2.06-.94-2.06-.94L8.5 2.5l-.94 2.06-2.06.94zm10 10l.94 2.06.94-2.06 2.06-.94-2.06-.94-.94-2.06-.94 2.06-2.06.94z\"/><path d=\"M17.41 7.96l-1.37-1.37c-.4-.4-.92-.59-1.43-.59-.52 0-1.04.2-1.43.59L10.3 9.45l-7.72 7.72c-.78.78-.78 2.05 0 2.83L4 21.41c.39.39.9.59 1.41.59.51 0 1.02-.2 1.41-.59l7.78-7.78 2.81-2.81c.8-.78.8-2.07 0-2.86zM5.41 20L4 18.59l7.72-7.72 1.47 1.35L5.41 20z\"/>\n",
              "  </svg>\n",
              "      </button>\n",
              "      \n",
              "  <style>\n",
              "    .colab-df-container {\n",
              "      display:flex;\n",
              "      flex-wrap:wrap;\n",
              "      gap: 12px;\n",
              "    }\n",
              "\n",
              "    .colab-df-convert {\n",
              "      background-color: #E8F0FE;\n",
              "      border: none;\n",
              "      border-radius: 50%;\n",
              "      cursor: pointer;\n",
              "      display: none;\n",
              "      fill: #1967D2;\n",
              "      height: 32px;\n",
              "      padding: 0 0 0 0;\n",
              "      width: 32px;\n",
              "    }\n",
              "\n",
              "    .colab-df-convert:hover {\n",
              "      background-color: #E2EBFA;\n",
              "      box-shadow: 0px 1px 2px rgba(60, 64, 67, 0.3), 0px 1px 3px 1px rgba(60, 64, 67, 0.15);\n",
              "      fill: #174EA6;\n",
              "    }\n",
              "\n",
              "    [theme=dark] .colab-df-convert {\n",
              "      background-color: #3B4455;\n",
              "      fill: #D2E3FC;\n",
              "    }\n",
              "\n",
              "    [theme=dark] .colab-df-convert:hover {\n",
              "      background-color: #434B5C;\n",
              "      box-shadow: 0px 1px 3px 1px rgba(0, 0, 0, 0.15);\n",
              "      filter: drop-shadow(0px 1px 2px rgba(0, 0, 0, 0.3));\n",
              "      fill: #FFFFFF;\n",
              "    }\n",
              "  </style>\n",
              "\n",
              "      <script>\n",
              "        const buttonEl =\n",
              "          document.querySelector('#df-c3985239-1363-4ef0-bd3b-620ef79d3f56 button.colab-df-convert');\n",
              "        buttonEl.style.display =\n",
              "          google.colab.kernel.accessAllowed ? 'block' : 'none';\n",
              "\n",
              "        async function convertToInteractive(key) {\n",
              "          const element = document.querySelector('#df-c3985239-1363-4ef0-bd3b-620ef79d3f56');\n",
              "          const dataTable =\n",
              "            await google.colab.kernel.invokeFunction('convertToInteractive',\n",
              "                                                     [key], {});\n",
              "          if (!dataTable) return;\n",
              "\n",
              "          const docLinkHtml = 'Like what you see? Visit the ' +\n",
              "            '<a target=\"_blank\" href=https://colab.research.google.com/notebooks/data_table.ipynb>data table notebook</a>'\n",
              "            + ' to learn more about interactive tables.';\n",
              "          element.innerHTML = '';\n",
              "          dataTable['output_type'] = 'display_data';\n",
              "          await google.colab.output.renderOutput(dataTable, element);\n",
              "          const docLink = document.createElement('div');\n",
              "          docLink.innerHTML = docLinkHtml;\n",
              "          element.appendChild(docLink);\n",
              "        }\n",
              "      </script>\n",
              "    </div>\n",
              "  </div>\n",
              "  "
            ]
          },
          "metadata": {},
          "execution_count": 87
        }
      ]
    },
    {
      "cell_type": "code",
      "source": [
        "len(dfplot)"
      ],
      "metadata": {
        "colab": {
          "base_uri": "https://localhost:8080/"
        },
        "id": "swktginEowpg",
        "outputId": "845b67ee-c71f-43ad-9972-18cbaee310e3"
      },
      "execution_count": 88,
      "outputs": [
        {
          "output_type": "execute_result",
          "data": {
            "text/plain": [
              "6"
            ]
          },
          "metadata": {},
          "execution_count": 88
        }
      ]
    },
    {
      "cell_type": "code",
      "source": [
        "from matplotlib import pyplot\n",
        "import seaborn\n",
        "\n",
        "def aplot(dfplot):\n",
        "  sns.set_style(\"white\")\n",
        "  sns.set_style(\"whitegrid\")\n",
        "\n",
        "\n",
        "\n",
        "  #sns.color_palette(\"hls\", 4)\n",
        "  sns.color_palette(\"Paired\")\n",
        "\n",
        "\n",
        "  chartsize = (18.7, 8.27)\n",
        "\n",
        "  fig, ax = pyplot.subplots(figsize=chartsize)\n",
        "  sns.color_palette(\"Paired\")\n",
        "\n",
        "  sns.set(font_scale=2)\n",
        "  sns.axes_style()\n",
        "\n",
        "  sns.set_style(\"darkgrid\", {\"axes.facecolor\": \".3\"})\n",
        "\n",
        "  sns.barplot( orient='h' ,    data=dfplot)\n",
        "\n",
        "\n"
      ],
      "metadata": {
        "id": "KWvCA_bRV5vf"
      },
      "execution_count": 89,
      "outputs": []
    },
    {
      "cell_type": "code",
      "source": [
        "from matplotlib import pyplot\n",
        "import seaborn\n",
        "\n",
        "sns.set_style(\"white\")\n",
        "sns.set_style(\"whitegrid\")\n",
        "\n",
        "\n",
        "\n",
        "#sns.color_palette(\"hls\", 4)\n",
        "sns.color_palette(\"viridis\", as_cmap=True)\n",
        "sns.color_palette(\"Paired\")\n",
        "\n",
        "\n",
        "chartsize = (18.7, 8.27)\n",
        "\n",
        "fig, ax = pyplot.subplots(figsize=chartsize)\n",
        "sns.set(font_scale=2)\n",
        "sns.axes_style()\n",
        "\n",
        "sns.set_style(\"darkgrid\", {\"axes.facecolor\": \".3\"})\n",
        "\n",
        "#sns.barplot( orient='h' ,    data=dfplot)\n"
      ],
      "metadata": {
        "colab": {
          "base_uri": "https://localhost:8080/",
          "height": 501
        },
        "id": "bn1kymgctSlR",
        "outputId": "ad79f34f-3ca1-4955-cf3e-93b02a16bbe0"
      },
      "execution_count": 90,
      "outputs": [
        {
          "output_type": "display_data",
          "data": {
            "text/plain": [
              "<Figure size 1346.4x595.44 with 1 Axes>"
            ],
            "image/png": "[encoded data removed]"
          },
          "metadata": {}
        }
      ]
    },
    {
      "cell_type": "code",
      "source": [
        "aplot(dfplot[0:1])"
      ],
      "metadata": {
        "colab": {
          "base_uri": "https://localhost:8080/",
          "height": 510
        },
        "id": "YbVM7m2XqEMM",
        "outputId": "01d72975-3fc1-422b-bfa4-9df9bf97ec74"
      },
      "execution_count": 91,
      "outputs": [
        {
          "output_type": "display_data",
          "data": {
            "text/plain": [
              "<Figure size 1346.4x595.44 with 1 Axes>"
            ],
            "image/png": "[encoded data removed]"
          },
          "metadata": {}
        }
      ]
    },
    {
      "cell_type": "code",
      "source": [
        "aplot(dfplot[1:2])"
      ],
      "metadata": {
        "colab": {
          "base_uri": "https://localhost:8080/",
          "height": 510
        },
        "id": "vO4GShFCqGe8",
        "outputId": "8ff3457a-df36-4958-9d5b-6bbab30fe09e"
      },
      "execution_count": 92,
      "outputs": [
        {
          "output_type": "display_data",
          "data": {
            "text/plain": [
              "<Figure size 1346.4x595.44 with 1 Axes>"
            ],
            "image/png": "[encoded data removed]"
          },
          "metadata": {}
        }
      ]
    },
    {
      "cell_type": "code",
      "source": [
        "listofcolumstoplot2 = ['BasisSet' , 'CCSD',\t'CCSDT'\t, 'CCSDT_G']\n",
        "for aDMFunctionalvalue in list(dm21.Functional):\n",
        "  colname = 'NN-'+ str(aDMFunctionalvalue)\n",
        "  listofcolumstoplot2.append(colname)\n",
        "\n",
        "\n",
        "for afunctionals in functionalsList:\n",
        "  colname = 'DFT-'+str(afunctionals)\n",
        "  listofcolumstoplot2.append(colname)\n",
        "\n",
        "\n",
        "listofcolumstoplot2"
      ],
      "metadata": {
        "colab": {
          "base_uri": "https://localhost:8080/"
        },
        "id": "LshCgZ1FaTik",
        "outputId": "34a235a2-01a2-453e-868f-79fa094e7879"
      },
      "execution_count": 93,
      "outputs": [
        {
          "output_type": "execute_result",
          "data": {
            "text/plain": [
              "['BasisSet',\n",
              " 'CCSD',\n",
              " 'CCSDT',\n",
              " 'CCSDT_G',\n",
              " 'NN-Functional.DM21',\n",
              " 'NN-Functional.DM21m',\n",
              " 'NN-Functional.DM21mc',\n",
              " 'NN-Functional.DM21mu',\n",
              " 'DFT-b3lyp',\n",
              " 'DFT-M06-2X',\n",
              " 'DFT-SCAN',\n",
              " 'DFT-wB97X-V',\n",
              " 'DFT-PW6B95',\n",
              " 'DFT-pbe',\n",
              " 'DFT-pbe0']"
            ]
          },
          "metadata": {},
          "execution_count": 93
        }
      ]
    },
    {
      "cell_type": "code",
      "source": [
        "dfplot2 = dfcopy[listofcolumstoplot2]\n",
        "dfplot2"
      ],
      "metadata": {
        "colab": {
          "base_uri": "https://localhost:8080/",
          "height": 237
        },
        "id": "HfRHWIz_acMf",
        "outputId": "f7aa748e-927e-4dda-f922-b2fdcbf3e3e2"
      },
      "execution_count": 94,
      "outputs": [
        {
          "output_type": "execute_result",
          "data": {
            "text/plain": [
              "    BasisSet      CCSD     CCSDT   CCSDT_G  NN-Functional.DM21  \\\n",
              "0    cc-pV6Z -1.174346 -1.174346 -1.174346           -1.177012   \n",
              "1    cc-pVQZ -1.173796 -1.173796 -1.174346           -1.176701   \n",
              "2    cc-pVDZ -1.163426 -1.163426 -1.174346           -1.169058   \n",
              "3  def2-QZVP -1.173870 -1.173870 -1.174346           -1.176907   \n",
              "4      6-31g -1.151686 -1.151686 -1.174346           -1.171335   \n",
              "5     STO-3G -1.137265 -1.137265 -1.174346           -1.161646   \n",
              "\n",
              "   NN-Functional.DM21m  NN-Functional.DM21mc  NN-Functional.DM21mu  DFT-b3lyp  \\\n",
              "0            -1.173861             -1.177640             -1.175411  -1.173948   \n",
              "1            -1.173603             -1.177364             -1.175185  -1.173778   \n",
              "2            -1.165803             -1.169757             -1.167221  -1.166564   \n",
              "3            -1.173787             -1.177486             -1.175340  -1.173877   \n",
              "4            -1.167964             -1.172010             -1.169543  -1.168715   \n",
              "5            -1.158284             -1.160799             -1.159680  -1.158578   \n",
              "\n",
              "   DFT-M06-2X  DFT-SCAN  DFT-wB97X-V  DFT-PW6B95   DFT-pbe  DFT-pbe0  \n",
              "0   -1.170254 -1.171911    -1.182135   -1.175871 -1.166700 -1.169061  \n",
              "1   -1.169511 -1.171755    -1.181981   -1.175696 -1.166546 -1.168910  \n",
              "2   -1.163245 -1.165908    -1.175779   -1.168459 -1.159918 -1.163350  \n",
              "3   -1.169499 -1.171851    -1.182073   -1.175799 -1.166642 -1.169003  \n",
              "4   -1.163697 -1.166802    -1.176784   -1.170558 -1.161928 -1.163885  \n",
              "5   -1.154403 -1.157421    -1.166991   -1.160735 -1.152053 -1.154287  "
            ],
            "text/html": [
              "\n",
              "  <div id=\"df-2b9f521e-76b1-4ae4-a9ae-43d632e0d4aa\">\n",
              "    <div class=\"colab-df-container\">\n",
              "      <div>\n",
              "<style scoped>\n",
              "    .dataframe tbody tr th:only-of-type {\n",
              "        vertical-align: middle;\n",
              "    }\n",
              "\n",
              "    .dataframe tbody tr th {\n",
              "        vertical-align: top;\n",
              "    }\n",
              "\n",
              "    .dataframe thead th {\n",
              "        text-align: right;\n",
              "    }\n",
              "</style>\n",
              "<table border=\"1\" class=\"dataframe\">\n",
              "  <thead>\n",
              "    <tr style=\"text-align: right;\">\n",
              "      <th></th>\n",
              "      <th>BasisSet</th>\n",
              "      <th>CCSD</th>\n",
              "      <th>CCSDT</th>\n",
              "      <th>CCSDT_G</th>\n",
              "      <th>NN-Functional.DM21</th>\n",
              "      <th>NN-Functional.DM21m</th>\n",
              "      <th>NN-Functional.DM21mc</th>\n",
              "      <th>NN-Functional.DM21mu</th>\n",
              "      <th>DFT-b3lyp</th>\n",
              "      <th>DFT-M06-2X</th>\n",
              "      <th>DFT-SCAN</th>\n",
              "      <th>DFT-wB97X-V</th>\n",
              "      <th>DFT-PW6B95</th>\n",
              "      <th>DFT-pbe</th>\n",
              "      <th>DFT-pbe0</th>\n",
              "    </tr>\n",
              "  </thead>\n",
              "  <tbody>\n",
              "    <tr>\n",
              "      <th>0</th>\n",
              "      <td>cc-pV6Z</td>\n",
              "      <td>-1.174346</td>\n",
              "      <td>-1.174346</td>\n",
              "      <td>-1.174346</td>\n",
              "      <td>-1.177012</td>\n",
              "      <td>-1.173861</td>\n",
              "      <td>-1.177640</td>\n",
              "      <td>-1.175411</td>\n",
              "      <td>-1.173948</td>\n",
              "      <td>-1.170254</td>\n",
              "      <td>-1.171911</td>\n",
              "      <td>-1.182135</td>\n",
              "      <td>-1.175871</td>\n",
              "      <td>-1.166700</td>\n",
              "      <td>-1.169061</td>\n",
              "    </tr>\n",
              "    <tr>\n",
              "      <th>1</th>\n",
              "      <td>cc-pVQZ</td>\n",
              "      <td>-1.173796</td>\n",
              "      <td>-1.173796</td>\n",
              "      <td>-1.174346</td>\n",
              "      <td>-1.176701</td>\n",
              "      <td>-1.173603</td>\n",
              "      <td>-1.177364</td>\n",
              "      <td>-1.175185</td>\n",
              "      <td>-1.173778</td>\n",
              "      <td>-1.169511</td>\n",
              "      <td>-1.171755</td>\n",
              "      <td>-1.181981</td>\n",
              "      <td>-1.175696</td>\n",
              "      <td>-1.166546</td>\n",
              "      <td>-1.168910</td>\n",
              "    </tr>\n",
              "    <tr>\n",
              "      <th>2</th>\n",
              "      <td>cc-pVDZ</td>\n",
              "      <td>-1.163426</td>\n",
              "      <td>-1.163426</td>\n",
              "      <td>-1.174346</td>\n",
              "      <td>-1.169058</td>\n",
              "      <td>-1.165803</td>\n",
              "      <td>-1.169757</td>\n",
              "      <td>-1.167221</td>\n",
              "      <td>-1.166564</td>\n",
              "      <td>-1.163245</td>\n",
              "      <td>-1.165908</td>\n",
              "      <td>-1.175779</td>\n",
              "      <td>-1.168459</td>\n",
              "      <td>-1.159918</td>\n",
              "      <td>-1.163350</td>\n",
              "    </tr>\n",
              "    <tr>\n",
              "      <th>3</th>\n",
              "      <td>def2-QZVP</td>\n",
              "      <td>-1.173870</td>\n",
              "      <td>-1.173870</td>\n",
              "      <td>-1.174346</td>\n",
              "      <td>-1.176907</td>\n",
              "      <td>-1.173787</td>\n",
              "      <td>-1.177486</td>\n",
              "      <td>-1.175340</td>\n",
              "      <td>-1.173877</td>\n",
              "      <td>-1.169499</td>\n",
              "      <td>-1.171851</td>\n",
              "      <td>-1.182073</td>\n",
              "      <td>-1.175799</td>\n",
              "      <td>-1.166642</td>\n",
              "      <td>-1.169003</td>\n",
              "    </tr>\n",
              "    <tr>\n",
              "      <th>4</th>\n",
              "      <td>6-31g</td>\n",
              "      <td>-1.151686</td>\n",
              "      <td>-1.151686</td>\n",
              "      <td>-1.174346</td>\n",
              "      <td>-1.171335</td>\n",
              "      <td>-1.167964</td>\n",
              "      <td>-1.172010</td>\n",
              "      <td>-1.169543</td>\n",
              "      <td>-1.168715</td>\n",
              "      <td>-1.163697</td>\n",
              "      <td>-1.166802</td>\n",
              "      <td>-1.176784</td>\n",
              "      <td>-1.170558</td>\n",
              "      <td>-1.161928</td>\n",
              "      <td>-1.163885</td>\n",
              "    </tr>\n",
              "    <tr>\n",
              "      <th>5</th>\n",
              "      <td>STO-3G</td>\n",
              "      <td>-1.137265</td>\n",
              "      <td>-1.137265</td>\n",
              "      <td>-1.174346</td>\n",
              "      <td>-1.161646</td>\n",
              "      <td>-1.158284</td>\n",
              "      <td>-1.160799</td>\n",
              "      <td>-1.159680</td>\n",
              "      <td>-1.158578</td>\n",
              "      <td>-1.154403</td>\n",
              "      <td>-1.157421</td>\n",
              "      <td>-1.166991</td>\n",
              "      <td>-1.160735</td>\n",
              "      <td>-1.152053</td>\n",
              "      <td>-1.154287</td>\n",
              "    </tr>\n",
              "  </tbody>\n",
              "</table>\n",
              "</div>\n",
              "      <button class=\"colab-df-convert\" onclick=\"convertToInteractive('df-2b9f521e-76b1-4ae4-a9ae-43d632e0d4aa')\"\n",
              "              title=\"Convert this dataframe to an interactive table.\"\n",
              "              style=\"display:none;\">\n",
              "        \n",
              "  <svg xmlns=\"http://www.w3.org/2000/svg\" height=\"24px\"viewBox=\"0 0 24 24\"\n",
              "       width=\"24px\">\n",
              "    <path d=\"M0 0h24v24H0V0z\" fill=\"none\"/>\n",
              "    <path d=\"M18.56 5.44l.94 2.06.94-2.06 2.06-.94-2.06-.94-.94-2.06-.94 2.06-2.06.94zm-11 1L8.5 8.5l.94-2.06 2.06-.94-2.06-.94L8.5 2.5l-.94 2.06-2.06.94zm10 10l.94 2.06.94-2.06 2.06-.94-2.06-.94-.94-2.06-.94 2.06-2.06.94z\"/><path d=\"M17.41 7.96l-1.37-1.37c-.4-.4-.92-.59-1.43-.59-.52 0-1.04.2-1.43.59L10.3 9.45l-7.72 7.72c-.78.78-.78 2.05 0 2.83L4 21.41c.39.39.9.59 1.41.59.51 0 1.02-.2 1.41-.59l7.78-7.78 2.81-2.81c.8-.78.8-2.07 0-2.86zM5.41 20L4 18.59l7.72-7.72 1.47 1.35L5.41 20z\"/>\n",
              "  </svg>\n",
              "      </button>\n",
              "      \n",
              "  <style>\n",
              "    .colab-df-container {\n",
              "      display:flex;\n",
              "      flex-wrap:wrap;\n",
              "      gap: 12px;\n",
              "    }\n",
              "\n",
              "    .colab-df-convert {\n",
              "      background-color: #E8F0FE;\n",
              "      border: none;\n",
              "      border-radius: 50%;\n",
              "      cursor: pointer;\n",
              "      display: none;\n",
              "      fill: #1967D2;\n",
              "      height: 32px;\n",
              "      padding: 0 0 0 0;\n",
              "      width: 32px;\n",
              "    }\n",
              "\n",
              "    .colab-df-convert:hover {\n",
              "      background-color: #E2EBFA;\n",
              "      box-shadow: 0px 1px 2px rgba(60, 64, 67, 0.3), 0px 1px 3px 1px rgba(60, 64, 67, 0.15);\n",
              "      fill: #174EA6;\n",
              "    }\n",
              "\n",
              "    [theme=dark] .colab-df-convert {\n",
              "      background-color: #3B4455;\n",
              "      fill: #D2E3FC;\n",
              "    }\n",
              "\n",
              "    [theme=dark] .colab-df-convert:hover {\n",
              "      background-color: #434B5C;\n",
              "      box-shadow: 0px 1px 3px 1px rgba(0, 0, 0, 0.15);\n",
              "      filter: drop-shadow(0px 1px 2px rgba(0, 0, 0, 0.3));\n",
              "      fill: #FFFFFF;\n",
              "    }\n",
              "  </style>\n",
              "\n",
              "      <script>\n",
              "        const buttonEl =\n",
              "          document.querySelector('#df-2b9f521e-76b1-4ae4-a9ae-43d632e0d4aa button.colab-df-convert');\n",
              "        buttonEl.style.display =\n",
              "          google.colab.kernel.accessAllowed ? 'block' : 'none';\n",
              "\n",
              "        async function convertToInteractive(key) {\n",
              "          const element = document.querySelector('#df-2b9f521e-76b1-4ae4-a9ae-43d632e0d4aa');\n",
              "          const dataTable =\n",
              "            await google.colab.kernel.invokeFunction('convertToInteractive',\n",
              "                                                     [key], {});\n",
              "          if (!dataTable) return;\n",
              "\n",
              "          const docLinkHtml = 'Like what you see? Visit the ' +\n",
              "            '<a target=\"_blank\" href=https://colab.research.google.com/notebooks/data_table.ipynb>data table notebook</a>'\n",
              "            + ' to learn more about interactive tables.';\n",
              "          element.innerHTML = '';\n",
              "          dataTable['output_type'] = 'display_data';\n",
              "          await google.colab.output.renderOutput(dataTable, element);\n",
              "          const docLink = document.createElement('div');\n",
              "          docLink.innerHTML = docLinkHtml;\n",
              "          element.appendChild(docLink);\n",
              "        }\n",
              "      </script>\n",
              "    </div>\n",
              "  </div>\n",
              "  "
            ]
          },
          "metadata": {},
          "execution_count": 94
        }
      ]
    },
    {
      "cell_type": "code",
      "source": [
        "dfplot2.min(axis =1, numeric_only=True).min()"
      ],
      "metadata": {
        "colab": {
          "base_uri": "https://localhost:8080/"
        },
        "id": "R4rN8VVjepT4",
        "outputId": "f742d796-05f8-4e2f-9e43-97718a7dba6f"
      },
      "execution_count": 95,
      "outputs": [
        {
          "output_type": "execute_result",
          "data": {
            "text/plain": [
              "-1.182134715792789"
            ]
          },
          "metadata": {},
          "execution_count": 95
        }
      ]
    },
    {
      "cell_type": "code",
      "source": [
        "dfplot2.max(axis =1, numeric_only=True).max()"
      ],
      "metadata": {
        "colab": {
          "base_uri": "https://localhost:8080/"
        },
        "id": "vQnzioiglZq-",
        "outputId": "81de908b-d5a8-4637-92c8-de329062996a"
      },
      "execution_count": 96,
      "outputs": [
        {
          "output_type": "execute_result",
          "data": {
            "text/plain": [
              "-1.1372651991912972"
            ]
          },
          "metadata": {},
          "execution_count": 96
        }
      ]
    },
    {
      "cell_type": "code",
      "source": [
        " from matplotlib import pyplot\n",
        "import seaborn\n",
        "\n",
        " \n",
        "\n",
        "chartsize = (18.7, 16.27)\n",
        "\n",
        "sns.set_style(\"whitegrid\")\n",
        "sns.set(font_scale=1.5)\n",
        "\n",
        "#fig, ax = pyplot.subplots(figsize=chartsize)\n",
        "#ax.set_xlim(dfplot2.min(axis =1, numeric_only=True).min(), dfplot2.max(axis =1, numeric_only=True).max() )\n",
        "sns.catplot( orient='h' ,    data=dfplot ,  col=\"BasisSet\")\n"
      ],
      "metadata": {
        "colab": {
          "base_uri": "https://localhost:8080/",
          "height": 291
        },
        "id": "GfJr-vARt8Fw",
        "outputId": "81387466-4b74-4f21-9117-f8bd61102c3e"
      },
      "execution_count": 97,
      "outputs": [
        {
          "output_type": "execute_result",
          "data": {
            "text/plain": [
              "<seaborn.axisgrid.FacetGrid at 0x7ff8f50c8890>"
            ]
          },
          "metadata": {},
          "execution_count": 97
        },
        {
          "output_type": "display_data",
          "data": {
            "text/plain": [
              "<Figure size 2160x360 with 6 Axes>"
            ],
            "image/png": "[encoded data removed]"
          },
          "metadata": {}
        }
      ]
    },
    {
      "cell_type": "code",
      "source": [
        "chartsize = (18.7, 16.27)\n",
        "\n",
        "sns.set_style(\"whitegrid\")\n",
        "sns.set(font_scale=1.5)\n",
        "\n",
        "#ax.set_xlim(dfplot2.min(axis =1, numeric_only=True).min(), dfplot2.max(axis =1, numeric_only=True).max() )\n",
        "sns.catplot( orient='h' ,    data=dfplot  )"
      ],
      "metadata": {
        "colab": {
          "base_uri": "https://localhost:8080/",
          "height": 370
        },
        "id": "jAH-QpfNvJPU",
        "outputId": "8d3c6463-3fd8-45f4-a9c3-c3736aa1b124"
      },
      "execution_count": 98,
      "outputs": [
        {
          "output_type": "execute_result",
          "data": {
            "text/plain": [
              "<seaborn.axisgrid.FacetGrid at 0x7ff8f4eb2210>"
            ]
          },
          "metadata": {},
          "execution_count": 98
        },
        {
          "output_type": "display_data",
          "data": {
            "text/plain": [
              "<Figure size 360x360 with 1 Axes>"
            ],
            "image/png": "[encoded data removed]"
          },
          "metadata": {}
        }
      ]
    },
    {
      "cell_type": "code",
      "source": [
        "from matplotlib import pyplot\n",
        "import seaborn\n",
        "\n",
        " \n",
        "\n",
        "chartsize = (18.7, 16.27)\n",
        "\n",
        "sns.set_style(\"whitegrid\")\n",
        "sns.set(font_scale=1.5)\n",
        "\n",
        "#fig, ax = pyplot.subplots(figsize=chartsize)\n",
        "#ax.set_xlim(dfplot2.min(axis =1, numeric_only=True).min(), dfplot2.max(axis =1, numeric_only=True).max() )\n",
        "sns.catplot( orient='h' ,    data=dfplot2 ,  col=\"BasisSet\")\n"
      ],
      "metadata": {
        "colab": {
          "base_uri": "https://localhost:8080/",
          "height": 291
        },
        "id": "k_PzVqrrajoc",
        "outputId": "54fe10fc-9aa4-4219-df5e-e4e62e675c35"
      },
      "execution_count": 99,
      "outputs": [
        {
          "output_type": "execute_result",
          "data": {
            "text/plain": [
              "<seaborn.axisgrid.FacetGrid at 0x7ff8f5195310>"
            ]
          },
          "metadata": {},
          "execution_count": 99
        },
        {
          "output_type": "display_data",
          "data": {
            "text/plain": [
              "<Figure size 2160x360 with 6 Axes>"
            ],
            "image/png": "[encoded data removed]"
          },
          "metadata": {}
        }
      ]
    },
    {
      "cell_type": "code",
      "source": [
        "from matplotlib import pyplot\n",
        "import seaborn\n",
        "\n",
        "sns.set_style(\"white\")\n",
        "sns.set_style(\"whitegrid\")\n",
        "\n",
        "\n",
        "\n",
        "#sns.color_palette(\"hls\", 4)\n",
        "sns.color_palette(\"viridis\", as_cmap=True)\n",
        "sns.color_palette(\"Paired\")\n",
        "\n",
        "\n",
        "chartsize = (18.7, 8.27)\n",
        "\n",
        "fig, ax = pyplot.subplots(figsize=chartsize)\n",
        "sns.set(font_scale=2)\n",
        "sns.axes_style()\n",
        "\n",
        "sns.set_style(\"darkgrid\", {\"axes.facecolor\": \".3\"})\n",
        "\n",
        "#sns.barplot( orient='h' ,    data=dfplot2)\n"
      ],
      "metadata": {
        "colab": {
          "base_uri": "https://localhost:8080/",
          "height": 515
        },
        "id": "9SB5DjnLteQC",
        "outputId": "c017198c-90f5-4473-a101-7cbb2d73c0fb"
      },
      "execution_count": 100,
      "outputs": [
        {
          "output_type": "display_data",
          "data": {
            "text/plain": [
              "<Figure size 1346.4x595.44 with 1 Axes>"
            ],
            "image/png": "[encoded data removed]"
          },
          "metadata": {}
        }
      ]
    }
  ]
}