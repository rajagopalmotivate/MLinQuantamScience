{
  "nbformat": 4,
  "nbformat_minor": 0,
  "metadata": {
    "colab": {
      "name": "Copy of Nandri Nandri DM21   DistributeCompute ver J102 11 Jun 2022 WORKS Well by Gods Grace C",
      "provenance": [],
      "collapsed_sections": [],
      "include_colab_link": true
    },
    "kernelspec": {
      "name": "python3",
      "display_name": "Python 3"
    },
    "language_info": {
      "name": "python"
    },
    "accelerator": "GPU"
  },
  "cells": [
    {
      "cell_type": "markdown",
      "metadata": {
        "id": "view-in-github",
        "colab_type": "text"
      },
      "source": [
        "<a href=\"https://colab.research.google.com/github/rajagopalmotivate/MLinQuantamScience/blob/main/Copy_of_Nandri_Nandri_DM21_DistributeCompute_ver_J102_11_Jun_2022_WORKS_Well_by_Gods_Grace_C.ipynb\" target=\"_parent\"><img src=\"https://colab.research.google.com/assets/colab-badge.svg\" alt=\"Open In Colab\"/></a>"
      ]
    },
    {
      "cell_type": "markdown",
      "source": [
        "#Simple comparision of DFT vs NN \n",
        "## Hypothesis: NN performs as good as DFT for simple atoms\n",
        "## Experiment: Compare for 10 elements with 10 basis set"
      ],
      "metadata": {
        "id": "cjz0UJCXln1O"
      }
    },
    {
      "cell_type": "code",
      "source": [
        "EXPNO ='EXP_1200'"
      ],
      "metadata": {
        "id": "I3Zqx3aO52s-"
      },
      "execution_count": 1,
      "outputs": []
    },
    {
      "cell_type": "code",
      "source": [
        "elementname ='C' \n",
        "dictPeriodicTable = {'C': 7}"
      ],
      "metadata": {
        "id": "G7mQtX77z8qb"
      },
      "execution_count": 2,
      "outputs": []
    },
    {
      "cell_type": "code",
      "source": [
        "EXPNO = EXPNO + 'Mol ' +elementname"
      ],
      "metadata": {
        "id": "aAmTcw_I0uJh"
      },
      "execution_count": 3,
      "outputs": []
    },
    {
      "cell_type": "code",
      "source": [
        "firstTimeorRestart = True"
      ],
      "metadata": {
        "id": "zVPfjAeVrzR_"
      },
      "execution_count": 4,
      "outputs": []
    },
    {
      "cell_type": "code",
      "source": [
        "listBasisSet = ['6-21g' , 'cc-pvqz' , 'def2-qzvp'  ]\n",
        "\n",
        "listBasisSet = ['def2-QZVP' , 'cc-pCVTZ' ,  'aug-pc-3' , 'aug-cc-pV(Q+d)Z', 'aug-cc-pCV5Z', 'aug-ccpwCV5Z', '6-21g']\n",
        "\n",
        "listBasisSet = ['cc-pCVDZ' , 'def2-QZVP' , 'cc-pCVTZ' ,  'aug-pc-3' , 'aug-cc-pV(Q+d)Z', 'aug-cc-pCV5Z', 'aug-ccpwCV5Z', '6-31g', 'STO-3G' , 'def2-QZVPPD' ]\n",
        "\n",
        "listBasisSet = ['def2-QZVP' , 'cc-pCVTZ', 'cc-pVQZ' , 'cc-pVXZ', 'aug-cc-pV(Q+d)Z' , '6-31g' ]\n",
        "\n",
        "listBasisSet = [   'cc-pVQZ' , 'def2-QZVP' , 'cc-pCVTZ',  'cc-pVXZ' , '6-31g' ]\n",
        "\n",
        "listBasisSet = [   'cc-pVQZ' , 'def2-QZVP' , 'cc-pCVQZ'  ]\n",
        "\n",
        "listBasisSet = [   'cc-pVQZ' , 'cc-pV7Z', 'cc-pCVQZ', 'cc-pCV5Z', 'cc-pVDZ', 'def2-QZVP', 'def2-7CVPPD', '6-31g' ,'STO-3G'   ]\n",
        "\n",
        "listBasisSet = [  'cc-pV7Z', 'cc-pV6Z',  'cc-pVQZ' , 'cc-pVDZ' , 'cc-pCVQZ',    'def2-QZVP', 'def2-7CVPPD', '6-31g' ,'STO-3G'   ]\n",
        "\n",
        "#listBasisSet = [   'cc-pVQZ', 'def2-QZVP']\n",
        "\n",
        "#nice one\n",
        "listBasisSet = [  'cc-pV7Z', 'cc-pV6Z',  'cc-pVQZ' , 'cc-pVDZ' , 'cc-pCVQZ',    'def2-QZVP', 'def2-7CVPPD', '6-31g' ,'STO-3G'   ]\n",
        "\n",
        "\n",
        "listBasisSet = [  'cc-pVQZ' ]\n",
        "\n",
        " "
      ],
      "metadata": {
        "id": "Zk4fl4t1waWn"
      },
      "execution_count": 5,
      "outputs": []
    },
    {
      "cell_type": "code",
      "source": [
        "#dictPeriodicTable = {'H': 1, 'He': 2, 'Li': 3, 'Be': 4, 'B': 5, 'C': 6, 'N': 7, 'O': 8, 'F': 9, 'Ne': 10 }\n",
        "\n",
        "#dictPeriodicTable = {'H': 1, 'He': 2, 'Li': 3, 'Be': 4, 'B': 5, 'C': 6, 'N': 7, 'O': 8, 'F': 9, 'Ne': 10 , 'Na':11, 'Mg':12 , 'Al':13, 'Si':14, 'P':15, 'S':16 , 'Cl':17, 'Ar':18}\n",
        "\n",
        "\n",
        "#dictPeriodicTable = {'C': 6}\n",
        "  \n",
        "dictPeriodicTableSpinValues = {'H': 1,  'He': 0, 'Li': 1, 'Be': 0, 'B': 1, 'C': 0, 'N': 1, 'O': 0, 'F': 1, 'Ne': 0 }\n",
        "\n",
        "\n",
        "\n",
        "print(str( 'Weight'  + ' ' +   ' \\t Element     \\t  SPIN'    ))\n",
        " \n",
        " \n",
        "  \n"
      ],
      "metadata": {
        "id": "XG1_wImSudEF",
        "colab": {
          "base_uri": "https://localhost:8080/"
        },
        "outputId": "3fd11201-7af1-4473-96b6-3c19f728570f"
      },
      "execution_count": 6,
      "outputs": [
        {
          "output_type": "stream",
          "name": "stdout",
          "text": [
            "Weight  \t Element     \t  SPIN\n"
          ]
        }
      ]
    },
    {
      "cell_type": "code",
      "source": [
        "from google.colab import drive\n",
        "drive.mount('/content/drive')"
      ],
      "metadata": {
        "colab": {
          "base_uri": "https://localhost:8080/"
        },
        "id": "FWO3uFau6Gs-",
        "outputId": "f9340d01-01bd-46f4-db30-02a0040de113"
      },
      "execution_count": 7,
      "outputs": [
        {
          "output_type": "stream",
          "name": "stdout",
          "text": [
            "Drive already mounted at /content/drive; to attempt to forcibly remount, call drive.mount(\"/content/drive\", force_remount=True).\n"
          ]
        }
      ]
    },
    {
      "cell_type": "markdown",
      "source": [
        "## Step 1: Install"
      ],
      "metadata": {
        "id": "f2n-glKykc7G"
      }
    },
    {
      "cell_type": "code",
      "source": [
        "#!pip install git+git://github.com/deepmind/deepmind-research.git#subdirectory=density_functional_approximation_dm21"
      ],
      "metadata": {
        "id": "iUe5ykKxr0Xu"
      },
      "execution_count": 8,
      "outputs": []
    },
    {
      "cell_type": "code",
      "source": [
        "!git clone https://github.com/deepmind/deepmind-research.git\n"
      ],
      "metadata": {
        "colab": {
          "base_uri": "https://localhost:8080/"
        },
        "id": "s_s-VRZZaUO4",
        "outputId": "3af0c684-4207-44a9-cf34-245a1de4e45e"
      },
      "execution_count": 9,
      "outputs": [
        {
          "output_type": "stream",
          "name": "stdout",
          "text": [
            "fatal: destination path 'deepmind-research' already exists and is not an empty directory.\n"
          ]
        }
      ]
    },
    {
      "cell_type": "code",
      "source": [
        "cd deepmind-research/density_functional_approximation_dm21\n"
      ],
      "metadata": {
        "colab": {
          "base_uri": "https://localhost:8080/"
        },
        "id": "RciiP-MOaV-L",
        "outputId": "ffdf2337-a107-43af-ce1b-0e342216a698"
      },
      "execution_count": 10,
      "outputs": [
        {
          "output_type": "stream",
          "name": "stdout",
          "text": [
            "/content/deepmind-research/density_functional_approximation_dm21\n"
          ]
        }
      ]
    },
    {
      "cell_type": "code",
      "source": [
        "pwd"
      ],
      "metadata": {
        "colab": {
          "base_uri": "https://localhost:8080/",
          "height": 36
        },
        "id": "qgN8ePgcaXzx",
        "outputId": "419c7fe6-641e-4cec-87b0-05e8744ff51a"
      },
      "execution_count": 11,
      "outputs": [
        {
          "output_type": "execute_result",
          "data": {
            "text/plain": [
              "'/content/deepmind-research/density_functional_approximation_dm21'"
            ],
            "application/vnd.google.colaboratory.intrinsic+json": {
              "type": "string"
            }
          },
          "metadata": {},
          "execution_count": 11
        }
      ]
    },
    {
      "cell_type": "code",
      "source": [
        "!pip install .\n"
      ],
      "metadata": {
        "colab": {
          "base_uri": "https://localhost:8080/"
        },
        "id": "pfmCosvDaYcx",
        "outputId": "c749c7c1-965d-47ba-aac8-15f1fb040277"
      },
      "execution_count": 12,
      "outputs": [
        {
          "output_type": "stream",
          "name": "stdout",
          "text": [
            "Looking in indexes: https://pypi.org/simple, https://us-python.pkg.dev/colab-wheels/public/simple/\n",
            "Processing /content/deepmind-research/density_functional_approximation_dm21\n",
            "\u001b[33m  DEPRECATION: A future pip version will change local packages to be built in-place without first copying to a temporary directory. We recommend you use --use-feature=in-tree-build to test your packages with this new behavior before it becomes the default.\n",
            "   pip 21.3 will remove support for this functionality. You can find discussion regarding this at https://github.com/pypa/pip/issues/7555.\u001b[0m\n",
            "Requirement already satisfied: absl-py in /usr/local/lib/python3.7/dist-packages (from density-functional-approximation-dm21==0.1) (1.0.0)\n",
            "Requirement already satisfied: attrs in /usr/local/lib/python3.7/dist-packages (from density-functional-approximation-dm21==0.1) (21.4.0)\n",
            "Requirement already satisfied: h5py<3.3.0 in /usr/local/lib/python3.7/dist-packages (from density-functional-approximation-dm21==0.1) (3.1.0)\n",
            "Requirement already satisfied: numpy in /usr/local/lib/python3.7/dist-packages (from density-functional-approximation-dm21==0.1) (1.21.6)\n",
            "Requirement already satisfied: pyscf in /usr/local/lib/python3.7/dist-packages (from density-functional-approximation-dm21==0.1) (2.0.1)\n",
            "Requirement already satisfied: tensorflow in /usr/local/lib/python3.7/dist-packages (from density-functional-approximation-dm21==0.1) (2.8.2+zzzcolab20220527125636)\n",
            "Requirement already satisfied: tensorflow_hub in /usr/local/lib/python3.7/dist-packages (from density-functional-approximation-dm21==0.1) (0.12.0)\n",
            "Requirement already satisfied: cached-property in /usr/local/lib/python3.7/dist-packages (from h5py<3.3.0->density-functional-approximation-dm21==0.1) (1.5.2)\n",
            "Requirement already satisfied: six in /usr/local/lib/python3.7/dist-packages (from absl-py->density-functional-approximation-dm21==0.1) (1.15.0)\n",
            "Requirement already satisfied: scipy!=1.5.0,!=1.5.1 in /usr/local/lib/python3.7/dist-packages (from pyscf->density-functional-approximation-dm21==0.1) (1.4.1)\n",
            "Requirement already satisfied: tensorboard<2.9,>=2.8 in /usr/local/lib/python3.7/dist-packages (from tensorflow->density-functional-approximation-dm21==0.1) (2.8.0)\n",
            "Requirement already satisfied: astunparse>=1.6.0 in /usr/local/lib/python3.7/dist-packages (from tensorflow->density-functional-approximation-dm21==0.1) (1.6.3)\n",
            "Requirement already satisfied: keras<2.9,>=2.8.0rc0 in /usr/local/lib/python3.7/dist-packages (from tensorflow->density-functional-approximation-dm21==0.1) (2.8.0)\n",
            "Requirement already satisfied: keras-preprocessing>=1.1.1 in /usr/local/lib/python3.7/dist-packages (from tensorflow->density-functional-approximation-dm21==0.1) (1.1.2)\n",
            "Requirement already satisfied: tensorflow-io-gcs-filesystem>=0.23.1 in /usr/local/lib/python3.7/dist-packages (from tensorflow->density-functional-approximation-dm21==0.1) (0.26.0)\n",
            "Requirement already satisfied: typing-extensions>=3.6.6 in /usr/local/lib/python3.7/dist-packages (from tensorflow->density-functional-approximation-dm21==0.1) (4.2.0)\n",
            "Requirement already satisfied: flatbuffers>=1.12 in /usr/local/lib/python3.7/dist-packages (from tensorflow->density-functional-approximation-dm21==0.1) (2.0)\n",
            "Requirement already satisfied: google-pasta>=0.1.1 in /usr/local/lib/python3.7/dist-packages (from tensorflow->density-functional-approximation-dm21==0.1) (0.2.0)\n",
            "Requirement already satisfied: termcolor>=1.1.0 in /usr/local/lib/python3.7/dist-packages (from tensorflow->density-functional-approximation-dm21==0.1) (1.1.0)\n",
            "Requirement already satisfied: wrapt>=1.11.0 in /usr/local/lib/python3.7/dist-packages (from tensorflow->density-functional-approximation-dm21==0.1) (1.14.1)\n",
            "Requirement already satisfied: opt-einsum>=2.3.2 in /usr/local/lib/python3.7/dist-packages (from tensorflow->density-functional-approximation-dm21==0.1) (3.3.0)\n",
            "Requirement already satisfied: tensorflow-estimator<2.9,>=2.8 in /usr/local/lib/python3.7/dist-packages (from tensorflow->density-functional-approximation-dm21==0.1) (2.8.0)\n",
            "Requirement already satisfied: libclang>=9.0.1 in /usr/local/lib/python3.7/dist-packages (from tensorflow->density-functional-approximation-dm21==0.1) (14.0.1)\n",
            "Requirement already satisfied: grpcio<2.0,>=1.24.3 in /usr/local/lib/python3.7/dist-packages (from tensorflow->density-functional-approximation-dm21==0.1) (1.46.3)\n",
            "Requirement already satisfied: gast>=0.2.1 in /usr/local/lib/python3.7/dist-packages (from tensorflow->density-functional-approximation-dm21==0.1) (0.5.3)\n",
            "Requirement already satisfied: protobuf<3.20,>=3.9.2 in /usr/local/lib/python3.7/dist-packages (from tensorflow->density-functional-approximation-dm21==0.1) (3.17.3)\n",
            "Requirement already satisfied: setuptools in /usr/local/lib/python3.7/dist-packages (from tensorflow->density-functional-approximation-dm21==0.1) (57.4.0)\n",
            "Requirement already satisfied: wheel<1.0,>=0.23.0 in /usr/local/lib/python3.7/dist-packages (from astunparse>=1.6.0->tensorflow->density-functional-approximation-dm21==0.1) (0.37.1)\n",
            "Requirement already satisfied: tensorboard-data-server<0.7.0,>=0.6.0 in /usr/local/lib/python3.7/dist-packages (from tensorboard<2.9,>=2.8->tensorflow->density-functional-approximation-dm21==0.1) (0.6.1)\n",
            "Requirement already satisfied: google-auth<3,>=1.6.3 in /usr/local/lib/python3.7/dist-packages (from tensorboard<2.9,>=2.8->tensorflow->density-functional-approximation-dm21==0.1) (1.35.0)\n",
            "Requirement already satisfied: requests<3,>=2.21.0 in /usr/local/lib/python3.7/dist-packages (from tensorboard<2.9,>=2.8->tensorflow->density-functional-approximation-dm21==0.1) (2.23.0)\n",
            "Requirement already satisfied: tensorboard-plugin-wit>=1.6.0 in /usr/local/lib/python3.7/dist-packages (from tensorboard<2.9,>=2.8->tensorflow->density-functional-approximation-dm21==0.1) (1.8.1)\n",
            "Requirement already satisfied: werkzeug>=0.11.15 in /usr/local/lib/python3.7/dist-packages (from tensorboard<2.9,>=2.8->tensorflow->density-functional-approximation-dm21==0.1) (1.0.1)\n",
            "Requirement already satisfied: markdown>=2.6.8 in /usr/local/lib/python3.7/dist-packages (from tensorboard<2.9,>=2.8->tensorflow->density-functional-approximation-dm21==0.1) (3.3.7)\n",
            "Requirement already satisfied: google-auth-oauthlib<0.5,>=0.4.1 in /usr/local/lib/python3.7/dist-packages (from tensorboard<2.9,>=2.8->tensorflow->density-functional-approximation-dm21==0.1) (0.4.6)\n",
            "Requirement already satisfied: pyasn1-modules>=0.2.1 in /usr/local/lib/python3.7/dist-packages (from google-auth<3,>=1.6.3->tensorboard<2.9,>=2.8->tensorflow->density-functional-approximation-dm21==0.1) (0.2.8)\n",
            "Requirement already satisfied: rsa<5,>=3.1.4 in /usr/local/lib/python3.7/dist-packages (from google-auth<3,>=1.6.3->tensorboard<2.9,>=2.8->tensorflow->density-functional-approximation-dm21==0.1) (4.8)\n",
            "Requirement already satisfied: cachetools<5.0,>=2.0.0 in /usr/local/lib/python3.7/dist-packages (from google-auth<3,>=1.6.3->tensorboard<2.9,>=2.8->tensorflow->density-functional-approximation-dm21==0.1) (4.2.4)\n",
            "Requirement already satisfied: requests-oauthlib>=0.7.0 in /usr/local/lib/python3.7/dist-packages (from google-auth-oauthlib<0.5,>=0.4.1->tensorboard<2.9,>=2.8->tensorflow->density-functional-approximation-dm21==0.1) (1.3.1)\n",
            "Requirement already satisfied: importlib-metadata>=4.4 in /usr/local/lib/python3.7/dist-packages (from markdown>=2.6.8->tensorboard<2.9,>=2.8->tensorflow->density-functional-approximation-dm21==0.1) (4.11.4)\n",
            "Requirement already satisfied: zipp>=0.5 in /usr/local/lib/python3.7/dist-packages (from importlib-metadata>=4.4->markdown>=2.6.8->tensorboard<2.9,>=2.8->tensorflow->density-functional-approximation-dm21==0.1) (3.8.0)\n",
            "Requirement already satisfied: pyasn1<0.5.0,>=0.4.6 in /usr/local/lib/python3.7/dist-packages (from pyasn1-modules>=0.2.1->google-auth<3,>=1.6.3->tensorboard<2.9,>=2.8->tensorflow->density-functional-approximation-dm21==0.1) (0.4.8)\n",
            "Requirement already satisfied: certifi>=2017.4.17 in /usr/local/lib/python3.7/dist-packages (from requests<3,>=2.21.0->tensorboard<2.9,>=2.8->tensorflow->density-functional-approximation-dm21==0.1) (2022.5.18.1)\n",
            "Requirement already satisfied: idna<3,>=2.5 in /usr/local/lib/python3.7/dist-packages (from requests<3,>=2.21.0->tensorboard<2.9,>=2.8->tensorflow->density-functional-approximation-dm21==0.1) (2.10)\n",
            "Requirement already satisfied: chardet<4,>=3.0.2 in /usr/local/lib/python3.7/dist-packages (from requests<3,>=2.21.0->tensorboard<2.9,>=2.8->tensorflow->density-functional-approximation-dm21==0.1) (3.0.4)\n",
            "Requirement already satisfied: urllib3!=1.25.0,!=1.25.1,<1.26,>=1.21.1 in /usr/local/lib/python3.7/dist-packages (from requests<3,>=2.21.0->tensorboard<2.9,>=2.8->tensorflow->density-functional-approximation-dm21==0.1) (1.24.3)\n",
            "Requirement already satisfied: oauthlib>=3.0.0 in /usr/local/lib/python3.7/dist-packages (from requests-oauthlib>=0.7.0->google-auth-oauthlib<0.5,>=0.4.1->tensorboard<2.9,>=2.8->tensorflow->density-functional-approximation-dm21==0.1) (3.2.0)\n",
            "Building wheels for collected packages: density-functional-approximation-dm21\n",
            "  Building wheel for density-functional-approximation-dm21 (setup.py) ... \u001b[?25l\u001b[?25hdone\n",
            "  Created wheel for density-functional-approximation-dm21: filename=density_functional_approximation_dm21-0.1-py3-none-any.whl size=6085418 sha256=ec7d047d0d59125e1b80e20478bd0d379dfc375f0a92b39366a6299a11fb13ad\n",
            "  Stored in directory: /tmp/pip-ephem-wheel-cache-1e82wuoh/wheels/3b/c5/70/0200d858561857222265157381fd4ad73ce078117b4821cd36\n",
            "Successfully built density-functional-approximation-dm21\n",
            "Installing collected packages: density-functional-approximation-dm21\n",
            "  Attempting uninstall: density-functional-approximation-dm21\n",
            "    Found existing installation: density-functional-approximation-dm21 0.1\n",
            "    Uninstalling density-functional-approximation-dm21-0.1:\n",
            "      Successfully uninstalled density-functional-approximation-dm21-0.1\n",
            "Successfully installed density-functional-approximation-dm21-0.1\n"
          ]
        }
      ]
    },
    {
      "cell_type": "code",
      "source": [
        ""
      ],
      "metadata": {
        "id": "5277iYdkaajo"
      },
      "execution_count": 12,
      "outputs": []
    },
    {
      "cell_type": "markdown",
      "source": [
        "## Step 2: Test run a sample DFT calculation"
      ],
      "metadata": {
        "id": "Eq-LQv17kkhc"
      }
    },
    {
      "cell_type": "code",
      "source": [
        "from pyscf import gto\n",
        "from pyscf import dft\n",
        "\n",
        "from pyscf import __config__\n",
        "MAX_MEMORY = getattr(__config__, 'MAX_MEMORY')\n",
        "MAX_MEMORY"
      ],
      "metadata": {
        "id": "Y_W-hLjur8Pr",
        "colab": {
          "base_uri": "https://localhost:8080/"
        },
        "outputId": "30922cff-b1a7-4cfd-f247-3cc740782c4a"
      },
      "execution_count": 13,
      "outputs": [
        {
          "output_type": "execute_result",
          "data": {
            "text/plain": [
              "4000"
            ]
          },
          "metadata": {},
          "execution_count": 13
        }
      ]
    },
    {
      "cell_type": "code",
      "source": [
        "import psutil\n",
        "systemresources = psutil.virtual_memory()\n",
        "\n",
        "MAX_MEMORY = round( systemresources.available  * 0.001)\n",
        "PYSCF_MAX_MEMORY  = MAX_MEMORY\n",
        "\n",
        "print('Configured to use max RAM resources of  ' + str(MAX_MEMORY))"
      ],
      "metadata": {
        "colab": {
          "base_uri": "https://localhost:8080/"
        },
        "id": "HYnC_d1zGtkp",
        "outputId": "b3a0e4a9-a9cc-4eaf-b985-56c5da879f3b"
      },
      "execution_count": 14,
      "outputs": [
        {
          "output_type": "stream",
          "name": "stdout",
          "text": [
            "Configured to use max RAM resources of  12468175\n"
          ]
        }
      ]
    },
    {
      "cell_type": "code",
      "source": [
        "setattr(__config__, 'MAX_MEMORY', PYSCF_MAX_MEMORY)\n",
        "\n",
        "setattr(__config__, 'PYSCF_MAX_MEMORY', PYSCF_MAX_MEMORY)\n",
        "\n"
      ],
      "metadata": {
        "id": "XGAMq215KZ2t"
      },
      "execution_count": 15,
      "outputs": []
    },
    {
      "cell_type": "code",
      "source": [
        "MAX_MEMORY = getattr(__config__, 'MAX_MEMORY')\n",
        "MAX_MEMORY"
      ],
      "metadata": {
        "colab": {
          "base_uri": "https://localhost:8080/"
        },
        "id": "h_mNg2CxI4Ql",
        "outputId": "9a4daa57-102c-44f5-c8aa-22aa3c983c4e"
      },
      "execution_count": 16,
      "outputs": [
        {
          "output_type": "execute_result",
          "data": {
            "text/plain": [
              "12468175"
            ]
          },
          "metadata": {},
          "execution_count": 16
        }
      ]
    },
    {
      "cell_type": "markdown",
      "source": [
        "## Step 3: Attention NIRMALA:  Try it out!\n",
        "\n",
        "### 3.1 Define the periodic table (Define atomic weight and periodic weight for each element)\n",
        "\n",
        "### 3.2 Define the spin value for each element \n",
        "\n",
        "### 3.3 You can load any new basis function.  Just visit the Basics Exchange and get a new Basis Function URL .  \n",
        "#### here we download a basis set full defintion file from an URL and then use it to construct a molecule  \n",
        "\n",
        "#### To get a web URL, just visit https://www.basissetexchange.org/"
      ],
      "metadata": {
        "id": "BF8o9PZnoXzL"
      }
    },
    {
      "cell_type": "markdown",
      "source": [
        "\n",
        "http://vergil.chemistry.gatech.edu/courses/chem6485/pdf/basis-sets.pdf \n",
        "\n",
        "https://youtu.be/irQ_c_fW5f8?t=971\n",
        "\n",
        "\n",
        "1.   cc-pCVXZ or aug-cc-pCVXZ basis sets;  you should use basis sets like this if you do not freeze core\n",
        "2.   cc-pVQZ is great for CCSD(T)\n",
        "\n"
      ],
      "metadata": {
        "id": "oLOgjrRQhdQk"
      }
    },
    {
      "cell_type": "code",
      "source": [
        "def trydownloadingBasisSet(ElementsinMolecule, BasisSet, versionno):  \n",
        "    target_url = 'https://www.basissetexchange.org/api/basis/' + str(BasisSet) +  '/format/nwchem/?version='+ str( versionno)+'&elements=' + str(ElementsinMolecule) \n",
        "    #print(target_url)\n",
        "    try:\n",
        "      textfile = urllib.request.urlopen(target_url)    \n",
        "      mydownloadedfile = \"\"\n",
        "      for line in textfile:\n",
        "          #print(line.decode('utf-8')) #utf-8 or iso8859-1 or whatever the page encoding scheme is\n",
        "          mydownloadedfile += line.decode('utf-8') \n",
        "      return True    \n",
        "    except:\n",
        "      return False"
      ],
      "metadata": {
        "id": "a289v8vDEE_E"
      },
      "execution_count": 17,
      "outputs": []
    },
    {
      "cell_type": "code",
      "source": [
        "import urllib   # the lib that handles the url stuff\n",
        "import urllib.request  # the lib that handles the url stuff\n",
        "\n",
        "\n",
        "def getValidBasisSet(MoleculeList):\n",
        "  ValidatedBasisSet = []\n",
        "  ValBSSetVersionNumberDict = {}\n",
        "  errorproneBasisSet = []\n",
        "  for BasisSet in listBasisSet:\n",
        "    didnotworkatallforanyversion = True\n",
        "    for versionno in range(0,4):\n",
        "      isworking = trydownloadingBasisSet(MoleculeList, BasisSet, versionno)\n",
        "      if isworking == True:\n",
        "        didnotworkatallforanyversion = False\n",
        "        ValBSSetVersionNumberDict[BasisSet] = versionno\n",
        "        ValidatedBasisSet.append(BasisSet)\n",
        "        break\n",
        "    if didnotworkatallforanyversion == True:\n",
        "      errorproneBasisSet.append(BasisSet)\n",
        "  return ValidatedBasisSet "
      ],
      "metadata": {
        "id": "dkRcJrVtfmFO"
      },
      "execution_count": 18,
      "outputs": []
    },
    {
      "cell_type": "code",
      "source": [
        "def downloadBasisSetAutoVersion(ElementsinMolecule, BasisSet):  \n",
        "    for versionumber in range (0,4):\n",
        "      target_url = 'https://www.basissetexchange.org/api/basis/' + str(BasisSet) +  '/format/nwchem/?version='+ str( versionumber)+'&elements=' + str(ElementsinMolecule) \n",
        "      try:\n",
        "        textfile = urllib.request.urlopen(target_url)    \n",
        "        mydownloadedfile = \"\"\n",
        "        for line in textfile:\n",
        "            #print(line.decode('utf-8')) #utf-8 or iso8859-1 or whatever the page encoding scheme is\n",
        "            mydownloadedfile += line.decode('utf-8') \n",
        "        return mydownloadedfile    \n",
        "      except:\n",
        "        return None"
      ],
      "metadata": {
        "id": "BwAkua2vp_t5"
      },
      "execution_count": 19,
      "outputs": []
    },
    {
      "cell_type": "code",
      "source": [
        ""
      ],
      "metadata": {
        "id": "AI8cGAgu3SS2"
      },
      "execution_count": 19,
      "outputs": []
    },
    {
      "cell_type": "code",
      "source": [
        " \n",
        "\n",
        "PerdiocTableNumber = dictPeriodicTable [elementname]\n",
        "ValidatedBasisSet = getValidBasisSet(PerdiocTableNumber)\n",
        "len(ValidatedBasisSet)\n",
        "ValidatedBasisSet"
      ],
      "metadata": {
        "colab": {
          "base_uri": "https://localhost:8080/"
        },
        "id": "_BV2z_OX5rH1",
        "outputId": "f5a30352-93f7-4571-95a5-3c12569ebae7"
      },
      "execution_count": 20,
      "outputs": [
        {
          "output_type": "execute_result",
          "data": {
            "text/plain": [
              "['cc-pVQZ']"
            ]
          },
          "metadata": {},
          "execution_count": 20
        }
      ]
    },
    {
      "cell_type": "code",
      "source": [
        " "
      ],
      "metadata": {
        "id": "NaxGKXPO3Tum"
      },
      "execution_count": 20,
      "outputs": []
    },
    {
      "cell_type": "code",
      "source": [
        "basisSethandpicked =[  ]"
      ],
      "metadata": {
        "id": "40fAp-c8DYDn"
      },
      "execution_count": 21,
      "outputs": []
    },
    {
      "cell_type": "code",
      "source": [
        "#listBasisSet = basisSet652"
      ],
      "metadata": {
        "id": "iGlC_ofGtzHL"
      },
      "execution_count": 22,
      "outputs": []
    },
    {
      "cell_type": "code",
      "source": [
        "try:\n",
        "  print(\"Hello\")\n",
        "except:\n",
        "  print(\"Something went wrong\")\n",
        "else:\n",
        "  print(\"Nothing went wrong\")"
      ],
      "metadata": {
        "colab": {
          "base_uri": "https://localhost:8080/"
        },
        "id": "3oCykicz1IYu",
        "outputId": "8e9c328f-6772-4fee-b188-416332a94010"
      },
      "execution_count": 23,
      "outputs": [
        {
          "output_type": "stream",
          "name": "stdout",
          "text": [
            "Hello\n",
            "Nothing went wrong\n"
          ]
        }
      ]
    },
    {
      "cell_type": "code",
      "source": [
        ""
      ],
      "metadata": {
        "id": "Nh0tMh-zzHmP"
      },
      "execution_count": 23,
      "outputs": []
    },
    {
      "cell_type": "code",
      "source": [
        "#downloadBasisSetAutoVersion(1,'3-21G')"
      ],
      "metadata": {
        "id": "LrJBO50Sgt4v"
      },
      "execution_count": 24,
      "outputs": []
    },
    {
      "cell_type": "markdown",
      "source": [
        "geomtery optimization"
      ],
      "metadata": {
        "id": "3RoPT7c8350_"
      }
    },
    {
      "cell_type": "code",
      "source": [
        "!\tpip install -U pyberny\n"
      ],
      "metadata": {
        "colab": {
          "base_uri": "https://localhost:8080/"
        },
        "id": "IZFEtXrH6RwP",
        "outputId": "b9df4471-791d-4276-cbca-9d5d76359efe"
      },
      "execution_count": 25,
      "outputs": [
        {
          "output_type": "stream",
          "name": "stdout",
          "text": [
            "Looking in indexes: https://pypi.org/simple, https://us-python.pkg.dev/colab-wheels/public/simple/\n",
            "Requirement already satisfied: pyberny in /usr/local/lib/python3.7/dist-packages (0.6.3)\n",
            "Requirement already satisfied: numpy<2.0,>=1.15 in /usr/local/lib/python3.7/dist-packages (from pyberny) (1.21.6)\n"
          ]
        }
      ]
    },
    {
      "cell_type": "code",
      "source": [
        "from pyscf import gto\n",
        "from pyscf import scf\n",
        "from pyscf import cc\n",
        "from pyscf.cc import ccsd_t_lambda_slow as ccsd_t_lambda\n",
        "from pyscf.grad import ccsd_t as ccsd_t_grad\n",
        "from pyscf.geomopt import berny_solver\n",
        "\n",
        "def f_usefforberny_solver(mol):\n",
        "    # Compute CCSD(T) energy\n",
        "    mf = scf.RHF(mol).run()\n",
        "    mycc = cc.CCSD(mf).run()\n",
        "    et_correction = mycc.ccsd_t()\n",
        "    e_tot = mycc.e_tot + et_correction\n",
        "\n",
        "    # Compute CCSD(T) gradients\n",
        "    g = ccsd_t_grad.Gradients(mycc).kernel()\n",
        "    print('CCSD(T) nuclear gradients:')\n",
        "    print(g)\n",
        "    return e_tot, g\n"
      ],
      "metadata": {
        "id": "hdNEpI8D38FG"
      },
      "execution_count": 26,
      "outputs": []
    },
    {
      "cell_type": "code",
      "source": [
        "def GetoptimizedMolecule(randomMol):\n",
        "  print('****************************************************************GEOMENTRY OPTIMIZATION Starts***********************************************')  \n",
        "  fake_method = berny_solver.as_pyscf_method(randomMol, f_usefforberny_solver)\n",
        "  new_mol = berny_solver.optimize(fake_method , maxsteps=400)\n",
        "  print('Old geometry (Bohr)')\n",
        "  print(randomMol.atom_coords())  \n",
        "  print('New geometry (Bohr)')\n",
        "  print(new_mol.atom_coords())  \n",
        "  print('****************************************************************GEOMENTRY OPTIMIZATION Ends***********************************************')  \n",
        "  return new_mol\n"
      ],
      "metadata": {
        "id": "SlipAJZo3-Tw"
      },
      "execution_count": 27,
      "outputs": []
    },
    {
      "cell_type": "markdown",
      "source": [
        "DM21"
      ],
      "metadata": {
        "id": "WnVMCEhX5ZzV"
      }
    },
    {
      "cell_type": "code",
      "source": [
        "import density_functional_approximation_dm21 as dm21\n",
        "from pyscf import gto\n",
        "from pyscf import dft"
      ],
      "metadata": {
        "id": "SZOfTZ7269qj",
        "colab": {
          "base_uri": "https://localhost:8080/"
        },
        "outputId": "39a71533-d356-4d74-81c6-a6de428dc2c5"
      },
      "execution_count": 28,
      "outputs": [
        {
          "output_type": "stream",
          "name": "stdout",
          "text": [
            "WARNING:tensorflow:From /usr/local/lib/python3.7/dist-packages/tensorflow/python/compat/v2_compat.py:107: disable_resource_variables (from tensorflow.python.ops.variable_scope) is deprecated and will be removed in a future version.\n",
            "Instructions for updating:\n",
            "non-resource variables are not supported in the long term\n"
          ]
        }
      ]
    },
    {
      "cell_type": "code",
      "source": [
        "import pandas as pd\n",
        "import numpy as np"
      ],
      "metadata": {
        "id": "duaw3FC-E2G3"
      },
      "execution_count": 29,
      "outputs": []
    },
    {
      "cell_type": "code",
      "source": [
        " "
      ],
      "metadata": {
        "id": "6RxxMmahCe77"
      },
      "execution_count": 29,
      "outputs": []
    },
    {
      "cell_type": "markdown",
      "source": [
        "https://cccbdb.nist.gov/geom3x.asp?method=63&basis=25\n",
        "Geometry for C2 (Carbon diatomic) 1Σg+ D*H\n",
        " \n",
        " CCSD(T)=FULL/cc-pVQZ\n",
        "\n",
        " \n",
        "```\n",
        "# Point group is D∞h\n",
        "Atom\tInternal\n",
        "x (Å)\ty (Å)\tz (Å)\n",
        "C1\t0.0000\t0.0000\t0.6211\n",
        "C2\t0.0000\t0.0000\t-0.6211\n",
        "```\n",
        "\n"
      ],
      "metadata": {
        "id": "VPVIt6yj_JWw"
      }
    },
    {
      "cell_type": "code",
      "source": [
        "def buildaMoleculeSpin(elementname, elementname2, mydownloadedfile, mydownloadedfile2, trythisspin ):\n",
        "      mol = gto.Mole()\n",
        "      mol.atom = '''\n",
        "      C\t0.0000000\t0.0000000\t0.6210880\n",
        "      C\t0.0000000\t0.0000000\t-0.6210880\n",
        "      '''\n",
        "   #   mol.atom = [[elementname, ( 0, 0, 0)], [elementname2, (0, 0, 1)] ]\n",
        "      mol.spin =  trythisspin\n",
        "      mol.symmetry = True\n",
        "      mol.basis = { elementname: gto.parse(mydownloadedfile)  ,     elementname2: gto.parse(mydownloadedfile2)        }\n",
        "      #mol.max_memory = PYSCF_MAX_MEMORY\n",
        "      mol.build()\n",
        "      return mol"
      ],
      "metadata": {
        "id": "Jp46WvzJ8tCC"
      },
      "execution_count": 30,
      "outputs": []
    },
    {
      "cell_type": "code",
      "source": [
        "def buildaMoleculeTryMOLECULEELEMENTCOUNT2(elementname, elementname2, mydownloadedfile , mydownloadedfile2 ):\n",
        "  molecule = None \n",
        "  for spinvaluecheckthis in range(5):\n",
        "    try:\n",
        "      molecule = buildaMoleculeSpin(elementname,elementname2, mydownloadedfile, mydownloadedfile2, spinvaluecheckthis )      \n",
        "      return molecule, spinvaluecheckthis\n",
        "      break\n",
        "    except:\n",
        "      tempexcept = True\n",
        "      #print('SPIN is not correct. Auto matically trying another spin value...')\n",
        "    else:\n",
        "      tempelse = True\n",
        "      #print('TRYING SPIN')\n",
        "  return molecule, spinvaluecheckthis\n",
        " \n"
      ],
      "metadata": {
        "id": "BYolIH7Lsxqa"
      },
      "execution_count": 31,
      "outputs": []
    },
    {
      "cell_type": "code",
      "source": [
        "def buildaMoleculeSpinMOLECULEELEMENTCOUNT1(elementname, mydownloadedfile,  trythisspin ):\n",
        "      mol = gto.Mole()\n",
        "      #mol.atom = '''H 0 0 0'''\n",
        "      mol.atom = [[elementname, (0, 0, 0)] ]\n",
        "      mol.spin =  trythisspin\n",
        "      mol.basis = { elementname: gto.parse(mydownloadedfile)       }\n",
        "      mol.build()\n",
        "      return mol"
      ],
      "metadata": {
        "id": "AQmy_MGADZfD"
      },
      "execution_count": 32,
      "outputs": []
    },
    {
      "cell_type": "code",
      "source": [
        "def buildaMoleculeTryMOLECULEELEMENTCOUNT1(elementname,  mydownloadedfile ):\n",
        "  molecule = None \n",
        "  for spinvaluecheckthis in range(5):\n",
        "    try:\n",
        "      molecule = buildaMoleculeSpinMOLECULEELEMENTCOUNT1(elementname, mydownloadedfile, spinvaluecheckthis )      \n",
        "      return molecule, spinvaluecheckthis\n",
        "      break\n",
        "    except:\n",
        "      tempexcept = True\n",
        "      #print('SPIN is not correct. Auto matically trying another spin value...')\n",
        "    else:\n",
        "      tempelse = True\n",
        "      #print('TRYING SPIN')\n",
        "  return molecule, spinvaluecheckthis\n",
        " \n"
      ],
      "metadata": {
        "id": "FoNOCHQiChEG"
      },
      "execution_count": 33,
      "outputs": []
    },
    {
      "cell_type": "markdown",
      "source": [
        "## Step 4: Expected format of output table "
      ],
      "metadata": {
        "id": "cxAQxLdTYX-J"
      }
    },
    {
      "cell_type": "markdown",
      "source": [
        "## Step 5. Input values to be considered in this computation  "
      ],
      "metadata": {
        "id": "yxkHxcxOYf9G"
      }
    },
    {
      "cell_type": "code",
      "source": [
        "import urllib   # the lib that handles the url stuff\n",
        "import urllib.request  # the lib that handles the url stuff\n",
        "import numpy\n",
        "\n",
        "print( 'No'  + '        ' + 'Element' + '    \\t  \\t \\t ' +  'Basis Set')\n",
        "\n",
        "for elementname in dictPeriodicTable.keys():\n",
        "  break\n",
        "  PerdiocTableNumber = dictPeriodicTable [elementname]\n",
        "  ValidatedBasisSet = getValidBasisSet(PerdiocTableNumber)\n",
        "  print('***********************************************************'+ 'No of Valid basis set = ' + str(len(ValidatedBasisSet)))\n",
        "\n",
        "  for BasisSet in ValidatedBasisSet:    \n",
        "    print('***********************************************************')\n",
        "    print('***********************************************************')\n",
        "    print('***********************************************************')\n",
        "                       #downloadBasisSetAutoVersion(1,'3-21G')\n",
        "    mydownloadedfile = downloadBasisSetAutoVersion(PerdiocTableNumber,BasisSet)\n",
        "    \n",
        "    molUnoptimized, myspin = buildaMoleculeTryMOLECULEELEMENTCOUNT2(elementname, elementname, mydownloadedfile , mydownloadedfile)\n",
        "\n",
        "    if molUnoptimized == None:\n",
        "      continue\n",
        "\n",
        "    #mol = GetoptimizedMolecule(molUnoptimized)\n",
        "    mol = molUnoptimized\n",
        "\n",
        "    if mol == None:\n",
        "      continue\n",
        "\n",
        "    print(mol.atom)\n",
        "    print(mol.atom_coords(unit='Bohr'))\n",
        "    print(mol.basis)\n",
        "    print(str( PerdiocTableNumber)  + '        ' + str(elementname) + '    \\t  \\t \\t ' + str(BasisSet))\n",
        "\n",
        "    aResultDict = {}\n",
        "    aResultDict['Weight'] = PerdiocTableNumber\n",
        "    aResultDict['Element'] = [elementname]\n",
        "    aResultDict['Molecule'] = [mol.atom]\n",
        "    aResultDict['BasisSet'] = [BasisSet]\n",
        "    aResultDict['MolOBJECT'] = mol\n",
        "    aResultDict['BuiltMolecule'] = [  mol.basis   ]\n",
        "\n",
        "    dfforOneElement = pd.DataFrame(aResultDict )\n",
        "    df = df.append(dfforOneElement, ignore_index = True)\n",
        "\n",
        " \n"
      ],
      "metadata": {
        "id": "WibChtR29hCy",
        "colab": {
          "base_uri": "https://localhost:8080/"
        },
        "outputId": "aa6e03c0-84e6-4961-d4b9-3d15e05d6f86"
      },
      "execution_count": 34,
      "outputs": [
        {
          "output_type": "stream",
          "name": "stdout",
          "text": [
            "No        Element    \t  \t \t Basis Set\n"
          ]
        }
      ]
    },
    {
      "cell_type": "markdown",
      "source": [
        "## Step 6. Compute Results\n",
        "## Run the computation for the above input values "
      ],
      "metadata": {
        "id": "8GKgQOHrYp3t"
      }
    },
    {
      "cell_type": "code",
      "source": [
        "functionalsList = ['b3lyp','M06-2X' , 'SCAN'    ,'wB97X-V',  'PW6B95' , 'pbe']\n",
        "\n",
        "functionalsList = ['b3lyp','M06-2X' , 'SCAN'    ,'wB97X-V',  'PW6B95' ,  'pbe' ,  'pbe0']\n",
        "\n",
        "\n",
        "#functionalsList = ['b3lyp']"
      ],
      "metadata": {
        "id": "v3fQHBV8l3hk"
      },
      "execution_count": 35,
      "outputs": []
    },
    {
      "cell_type": "code",
      "source": [
        "from pyscf import dft\n",
        "\n",
        "# DFT computation of SCF energy  \n",
        "def SCFenergyFunctionalsbasedonDFTGOLD(mol , functionals ):\n",
        "  if mol.spin == 0:\n",
        "    mf = dft.RKS(mol)\n",
        "  else:\n",
        "    mf = dft.UKS(mol)\n",
        "  # functional.\n",
        "  #mf.xc = 'B3LYP'\n",
        "  mf.max_memory = PYSCF_MAX_MEMORY\n",
        "  mf.xc = functionals\n",
        "  # Run the DFT calculation.\n",
        "  answerDFT = mf.kernel()\n",
        "  return answerDFT\n",
        "\n"
      ],
      "metadata": {
        "id": "m9dDlyeSik9_"
      },
      "execution_count": 36,
      "outputs": []
    },
    {
      "cell_type": "code",
      "source": [
        "\n",
        "# DFT computation of SCF energy  \n",
        "def SCFenergyFunctionalsbasedonDFT(mol , functionals ):\n",
        "    mf = mol.KS()\n",
        "   # mf.xc = 'b3lyp'\n",
        "   # mf.xc = 'pbe0'\n",
        "   # mf.xc = 'M06-2X'\n",
        "   # mf.xc = 'SCAN'    \n",
        "   # mf.xc = 'wB97X-V'\n",
        "   # mf.xc = 'PW6B95'\n",
        "    mf.xc = functionals\n",
        "    # Run the DFT calculation.\n",
        "    answerDFT = mf.kernel()\n",
        "    return answerDFT"
      ],
      "metadata": {
        "id": "V_S4At-sh8D1"
      },
      "execution_count": 37,
      "outputs": []
    },
    {
      "cell_type": "code",
      "source": [
        "def SCFenergyFunctionalsbasedonNNGOLD(mol,  NNfunctionals ):\n",
        "    if mol.spin == 0:\n",
        "      mf = dft.RKS(mol)\n",
        "    else:\n",
        "      mf = dft.UKS(mol)\n",
        "    #mf._numint = dm21.NeuralNumInt(dm21.Functional.DM21m )\n",
        "    mf._numint = dm21.NeuralNumInt(NNfunctionals)\n",
        "    mf.max_memory = PYSCF_MAX_MEMORY\n",
        "    mf.conv_tol = 1E-10\n",
        "    mf.conv_tol_grad = 1E-7    \n",
        "    # Run the DFT calculation.\n",
        "    answerNN = mf.kernel()\n",
        "    return answerNN"
      ],
      "metadata": {
        "id": "zhrEkD-vTqOJ"
      },
      "execution_count": 38,
      "outputs": []
    },
    {
      "cell_type": "code",
      "source": [
        "def SCFenergyFunctionalsbasedonNN(mol,  NNfunctionals, functionals='b3lyp'):\n",
        "    mf = mol.KS()\n",
        "    mf.xc = functionals\n",
        "    #mf._numint = dm21.NeuralNumInt(dm21.Functional.DM21m )\n",
        "    mf._numint = dm21.NeuralNumInt(NNfunctionals)\n",
        "    # Run the DFT calculation.\n",
        "    answerNN = mf.kernel()\n",
        "    return answerNN"
      ],
      "metadata": {
        "id": "q252BnqMmfWD"
      },
      "execution_count": 39,
      "outputs": []
    },
    {
      "cell_type": "code",
      "source": [
        " "
      ],
      "metadata": {
        "id": "jPXfm5TaqFXY"
      },
      "execution_count": 39,
      "outputs": []
    },
    {
      "cell_type": "code",
      "source": [
        " "
      ],
      "metadata": {
        "id": "cMOO55jPka49"
      },
      "execution_count": 39,
      "outputs": []
    },
    {
      "cell_type": "code",
      "source": [
        "# DFT computation of SCF energy  \n",
        "def SCFenergybasedonDFT(mol):\n",
        "    mf = dft.RKS(mol)\n",
        "    # Run the DFT calculation.\n",
        "    answerDFT = mf.kernel()\n",
        "    return answerDFT"
      ],
      "metadata": {
        "id": "W9GjaEhKAaCt"
      },
      "execution_count": 40,
      "outputs": []
    },
    {
      "cell_type": "code",
      "source": [
        "# Neural network based prediction of SCF energy   \n",
        "def SCFenergybasedonNN(mol):\n",
        "    mf = dft.RKS(mol)\n",
        "    mf._numint = dm21.NeuralNumInt(dm21.Functional.DM21)\n",
        "    # Run the DFT calculation.\n",
        "    answerNN = mf.kernel()\n",
        "    return answerNN"
      ],
      "metadata": {
        "id": "LzfM6gMZBABO"
      },
      "execution_count": 41,
      "outputs": []
    },
    {
      "cell_type": "code",
      "source": [
        "# CCSD computation \n",
        "def SCFenergybasedonCCSD(mol):\n",
        "  ccsdanswer = mol.apply('CCSD').run().e_tot\n",
        "  return ccsdanswer"
      ],
      "metadata": {
        "id": "jN6A1KpWBvD_"
      },
      "execution_count": 42,
      "outputs": []
    },
    {
      "cell_type": "code",
      "source": [
        "from pyscf import  scf, cc\n",
        "\n",
        "# CCSD-T computation \n",
        "def SCFenergybasedonCCSDTGOLD(mol):\n",
        "  try:\n",
        "    mf = scf.HF(mol).run()\n",
        "    mf.max_memory = PYSCF_MAX_MEMORY\n",
        "    mycc = cc.CCSD(mf).run()\n",
        "    #print('CCSD  energy', mycc.e_tot)\n",
        "    et = mycc.ccsd_t()\n",
        "    CCSDTotal = mycc.e_tot + et\n",
        "  except ZeroDivisionError:\n",
        "    print('000000000000000000000000000000000000000-------CCSDT Error------------00000000000000000000000. Using CCSD')\n",
        "    return SCFenergybasedonCCSD(mol)\n",
        "  #print('CCSD(T) total energy', mycc.e_tot + et)\n",
        "  return CCSDTotal\n",
        "\n",
        "  "
      ],
      "metadata": {
        "id": "t6DBX0xPJQUB"
      },
      "execution_count": 43,
      "outputs": []
    },
    {
      "cell_type": "code",
      "source": [
        ""
      ],
      "metadata": {
        "id": "7HNMoUa60U9w"
      },
      "execution_count": 43,
      "outputs": []
    },
    {
      "cell_type": "code",
      "source": [
        " "
      ],
      "metadata": {
        "id": "Rz8tJdhwR0C1"
      },
      "execution_count": 43,
      "outputs": []
    },
    {
      "cell_type": "code",
      "source": [
        "import urllib   # the lib that handles the url stuff\n",
        "import urllib.request  # the lib that handles the url stuff\n",
        "import numpy\n",
        "from google.colab import files\n",
        "\n",
        "\n",
        "print( 'No'  + '        ' + 'Element' + '    \\t  \\t \\t ' +  'Basis Set')\n",
        "\n"
      ],
      "metadata": {
        "id": "ZapSFREjSiAI",
        "colab": {
          "base_uri": "https://localhost:8080/"
        },
        "outputId": "0557b7ad-b584-4648-cf19-8d485dc1f38c"
      },
      "execution_count": 44,
      "outputs": [
        {
          "output_type": "stream",
          "name": "stdout",
          "text": [
            "No        Element    \t  \t \t Basis Set\n"
          ]
        }
      ]
    },
    {
      "cell_type": "code",
      "source": [
        "ValidatedBasisSetSOURCE = getValidBasisSet(PerdiocTableNumber)\n"
      ],
      "metadata": {
        "id": "RTtSH0rhUlLD"
      },
      "execution_count": 45,
      "outputs": []
    },
    {
      "cell_type": "code",
      "source": [
        "\n",
        "\n",
        "def compute1Mol1BasisSet(elementname, ValidatedBasisSetStart , df):\n",
        "  if True:\n",
        "    PerdiocTableNumber = dictPeriodicTable [elementname]\n",
        "    ValidatedBasisSet = ValidatedBasisSetSOURCE[ValidatedBasisSetStart:ValidatedBasisSetStart+1]\n",
        "    for BasisSet in ValidatedBasisSet:    \n",
        "      print('***********************************************************')\n",
        "      print('***********************************************************')\n",
        "      print('***********************************************************')\n",
        "\n",
        "      mydownloadedfile = downloadBasisSetAutoVersion(PerdiocTableNumber,BasisSet)      \n",
        "      molUnoptimized, myspin = buildaMoleculeTryMOLECULEELEMENTCOUNT2(elementname, elementname, mydownloadedfile , mydownloadedfile )\n",
        "      if molUnoptimized == None:\n",
        "        return df\n",
        "\n",
        "      #mol = GetoptimizedMolecule(molUnoptimized)\n",
        "      mol = molUnoptimized\n",
        "        \n",
        "      print(mol.atom)\n",
        "      print(mol.atom_coords(unit='Bohr'))\n",
        "      print(mol.basis)\n",
        "      print(str( PerdiocTableNumber)  + '        ' + str(elementname) + '    \\t  \\t \\t ' + str(BasisSet))     \n",
        "      print('.............................................COMPUTING.........COMPUTING.............................................')\n",
        "\n",
        "      aResultDict = computePart(mol )\n",
        "\n",
        "\n",
        "      aResultDict['BasisSet'] = [BasisSet]\n",
        "\n",
        "      dfforOneElement = pd.DataFrame(aResultDict )\n",
        "      df = df.append(dfforOneElement, ignore_index = True)\n",
        "      df.to_csv('ComputedEnergy'+str(ValidatedBasisSetStart)+'.csv')\n",
        "      df.to_csv('/content/drive/My Drive/DeepMind' + EXPNO+ 'CE'+str(ValidatedBasisSetStart)+'.csv' )\n",
        "      print(EXPNO+ 'CE'+str(ValidatedBasisSetStart)+'.csv')\n",
        "      return df\n",
        "\n",
        "\n",
        "    #  files.download('ComputedEnergy'+str(ValidatedBasisSetStart)+'.csv')\n",
        "\n",
        "\n",
        "      \n"
      ],
      "metadata": {
        "id": "nsFu58KgJbdq"
      },
      "execution_count": 46,
      "outputs": []
    },
    {
      "cell_type": "code",
      "source": [
        ""
      ],
      "metadata": {
        "id": "-IhokgA25r_9"
      },
      "execution_count": 46,
      "outputs": []
    },
    {
      "cell_type": "code",
      "source": [
        "\n",
        "\n",
        "\n",
        "def computePart(mol):\n",
        "  if True:\n",
        "      aResultDict = {}\n",
        "      aResultDict['Weight'] = PerdiocTableNumber\n",
        "      aResultDict['Element'] = [elementname]\n",
        "      aResultDict['Molecule'] = [mol.atom]\n",
        "      aResultDict['Spin'] = [mol.spin]\n",
        "      aResultDict['BuiltMolecule'] = [  mol.basis   ]\n",
        "\n",
        "      print('++++++++++++++++++++++++++++++++++++++++++++++++++  CCSD ++++++++++++++++++++++++++++++++++')\n",
        "      # Run the CCSD calculation.\n",
        "      CCSDenergy = SCFenergybasedonCCSD(mol)\n",
        "      print('ENERGY Computing using CCSD appoach is = ' + str(CCSDenergy ))\n",
        "      print('++++++++++++++++++++++++++++++++++++++++++++++++++  CCSD(T) ++++++++++++++++++++++++++++++++++')\n",
        "      CCSDTenergy = SCFenergybasedonCCSDTGOLD(mol)\n",
        "      print('ENERGY Computing using CCSD T appoach is = ' + str(CCSDTenergy ))\n",
        "\n",
        "\n",
        "      #aResultDict['DFTApproach'] = answerDFT\n",
        "      #aResultDict['NNApproach'] = answerNN\n",
        "      aResultDict['CCSD'] = CCSDenergy\n",
        "      aResultDict['CCSDT'] = CCSDTenergy\n",
        "\n",
        "      print('++++++++++++++++++++++++++++++++++++++++++++++++++  DFT Functionals ++++++++++++++++++++++++++++++++++')\n",
        "      for afunctionals in functionalsList:\n",
        "        ans = SCFenergyFunctionalsbasedonDFTGOLD(mol, afunctionals)\n",
        "        aResultDict['DFT-'+str(afunctionals)] = ans    \n",
        "\n",
        "      print('++++++++++++++++++++++++++++++++++++++++++++++++++  DM21 Functionals ++++++++++++++++++++++++++++++++++')\n",
        "      for aDMFunctionalvalue in dm21.Functional:\n",
        "        ans = SCFenergyFunctionalsbasedonNNGOLD(mol, aDMFunctionalvalue)\n",
        "        aResultDict['NN-'+str(aDMFunctionalvalue)] = ans    \n",
        "\n",
        "      return aResultDict\n",
        "\n",
        "\n",
        "\n",
        "\n",
        "  \n"
      ],
      "metadata": {
        "id": "OTCbozQTSkL1"
      },
      "execution_count": 47,
      "outputs": []
    },
    {
      "cell_type": "code",
      "source": [
        "if firstTimeorRestart == True:\n",
        "  df = pd.DataFrame(columns = ['Weight', 'Element', 'Molecule', 'BasisSet','Spin', 'BuiltMolecule' ])\n"
      ],
      "metadata": {
        "id": "rpSyWt2ibZtb"
      },
      "execution_count": 48,
      "outputs": []
    },
    {
      "cell_type": "code",
      "source": [
        "\n",
        "for i in range(0, len(ValidatedBasisSetSOURCE)):\n",
        "  try:\n",
        "    for elementname in dictPeriodicTable.keys():\n",
        "      df = compute1Mol1BasisSet(elementname, ValidatedBasisSetStart=i , df=df)\n",
        "  except:\n",
        "    print('Exception.. continuing')"
      ],
      "metadata": {
        "colab": {
          "base_uri": "https://localhost:8080/"
        },
        "id": "_uYNebVpoeD0",
        "outputId": "25bfd335-8880-4157-b61d-f53718baffa0"
      },
      "execution_count": 49,
      "outputs": [
        {
          "output_type": "stream",
          "name": "stdout",
          "text": [
            "***********************************************************\n",
            "***********************************************************\n",
            "***********************************************************\n",
            "\n",
            "      C\t0.0000000\t0.0000000\t0.6210880\n",
            "      C\t0.0000000\t0.0000000\t-0.6210880\n",
            "      \n",
            "[[ 0.          0.          1.17368622]\n",
            " [ 0.          0.         -1.17368622]]\n",
            "{'C': [[0, [33980.0, 9.1e-05, 0.0, 0.0, -1.9e-05, 0.0], [5089.0, 0.000704, 0.0, 0.0, -0.000151, 0.0], [1157.0, 0.003693, 0.0, 0.0, -0.000785, 0.0], [326.6, 0.01536, 0.0, 0.0, -0.003324, 0.0], [106.1, 0.052929, 0.0, 0.0, -0.011512, 0.0], [38.11, 0.147043, 0.0, 0.0, -0.03416, 0.0], [14.75, 0.305631, 0.0, 0.0, -0.077173, 0.0], [6.035, 0.399345, 0.0, 0.0, -0.141493, 0.0], [2.53, 0.217051, 0.0, 0.0, -0.118019, 0.0], [0.7355, 0.015894, 1.0, 0.0, 0.273806, 0.0], [0.2905, -0.003084, 0.0, 1.0, 0.58651, 0.0], [0.1111, 0.000978, 0.0, 0.0, 0.28543, 1.0]], [1, [34.51, 0.0, 0.005378, 0.0, 0.0], [7.915, 0.0, 0.036132, 0.0, 0.0], [2.368, 0.0, 0.142493, 0.0, 0.0], [0.8132, 1.0, 0.34215, 0.0, 0.0], [0.289, 0.0, 0.463864, 1.0, 0.0], [0.1007, 0.0, 0.250028, 0.0, 1.0]], [2, [1.848, 1.0, 0.0, 0.0], [0.649, 0.0, 1.0, 0.0], [0.228, 0.0, 0.0, 1.0]], [3, [1.419, 1.0, 0.0], [0.485, 0.0, 1.0]], [4, [1.011, 1.0]]]}\n",
            "6        C    \t  \t \t cc-pVQZ\n",
            ".............................................COMPUTING.........COMPUTING.............................................\n",
            "++++++++++++++++++++++++++++++++++++++++++++++++++  CCSD ++++++++++++++++++++++++++++++++++\n",
            "converged SCF energy = -75.4057686091437\n",
            "E(CCSD) = -75.81876653469436  E_corr = -0.4129979255507063\n",
            "ENERGY Computing using CCSD appoach is = -75.81876653469436\n",
            "++++++++++++++++++++++++++++++++++++++++++++++++++  CCSD(T) ++++++++++++++++++++++++++++++++++\n",
            "converged SCF energy = -75.4057686091436\n",
            "E(CCSD) = -75.81876653469426  E_corr = -0.4129979255506972\n",
            "CCSD(T) correction = -0.0364655898658801\n",
            "ENERGY Computing using CCSD T appoach is = -75.85523212456015\n",
            "++++++++++++++++++++++++++++++++++++++++++++++++++  DFT Functionals ++++++++++++++++++++++++++++++++++\n",
            "converged SCF energy = -75.8683339239042\n",
            "converged SCF energy = -75.8759621408191\n",
            "converged SCF energy = -75.8709039961935\n",
            "converged SCF energy = -75.921594359669\n",
            "converged SCF energy = -76.0098505217759\n",
            "SCF not converged.\n",
            "SCF energy = -75.7233068082045\n",
            "converged SCF energy = -75.8053526812382\n",
            "++++++++++++++++++++++++++++++++++++++++++++++++++  DM21 Functionals ++++++++++++++++++++++++++++++++++\n",
            "INFO:tensorflow:Saver not created because there are no variables in the graph to restore\n",
            "WARNING:tensorflow:From /usr/local/lib/python3.7/dist-packages/tensorflow_hub/saved_model_lib.py:111: build_tensor_info (from tensorflow.python.saved_model.utils_impl) is deprecated and will be removed in a future version.\n",
            "Instructions for updating:\n",
            "This function will only be available through the v1 compatibility library as tf.compat.v1.saved_model.utils.build_tensor_info or tf.compat.v1.saved_model.build_tensor_info.\n",
            "SCF not converged.\n",
            "SCF energy = -75.9230314512828\n",
            "INFO:tensorflow:Saver not created because there are no variables in the graph to restore\n",
            "SCF not converged.\n",
            "SCF energy = -75.9239458075973\n",
            "INFO:tensorflow:Saver not created because there are no variables in the graph to restore\n",
            "SCF not converged.\n",
            "SCF energy = -75.9295490837563\n",
            "INFO:tensorflow:Saver not created because there are no variables in the graph to restore\n",
            "SCF not converged.\n",
            "SCF energy = -75.9282177529085\n",
            "EXP_1200Mol CCE0.csv\n"
          ]
        }
      ]
    },
    {
      "cell_type": "code",
      "source": [
        " "
      ],
      "metadata": {
        "id": "l1lbFpghL18x"
      },
      "execution_count": 49,
      "outputs": []
    },
    {
      "cell_type": "markdown",
      "source": [
        "## Step 7: The results are below "
      ],
      "metadata": {
        "id": "UKMo-4eaZIEw"
      }
    },
    {
      "cell_type": "markdown",
      "source": [
        "#### Explanation of Output table \n",
        "\n",
        "#### Input to software  \n",
        "* Weight' - atomic weight \n",
        "* 'Element' - element in periodic table \n",
        "*  'Spin'        - This is hardcoded in this project.  No need to give spin in the next project \n",
        "* 'BasisSet' - the name of basis set \n",
        "\n",
        "\n",
        "#### Generared values based on input \n",
        "\n",
        "*   'Molecule' - the pyscf molecule defined \n",
        "*   'BasisSetURL'  - The url used to downloaded the basis set \n",
        "*    'MolOBJECT' - The pyscf python object instance - internal to code \n",
        "*    'Coord'           \n",
        "*    'BuiltMolecule'  - The molecule coordinates \n",
        "\n",
        "\n",
        "#### Generared values based on input \n",
        "\n",
        "1.   'DFTApproach' - SCF energy from DFT computation \n",
        "2.   'NNApproach'  - SCF energy from Neural network prediction\n",
        "3.    'CCSDApproach'- SCF energy from CCSD \n",
        "\n",
        "\n"
      ],
      "metadata": {
        "id": "nonUL4tbCLGd"
      }
    },
    {
      "cell_type": "code",
      "source": [
        "for i in range (len(df['Molecule'] )):\n",
        "  print( df['BasisSet'] [i]    )\n",
        "  print(  df['Molecule'] [i] )"
      ],
      "metadata": {
        "id": "xjoMqMfB-rcW",
        "colab": {
          "base_uri": "https://localhost:8080/"
        },
        "outputId": "91abd99c-78ea-47c1-ed37-f6d8651d807c"
      },
      "execution_count": 50,
      "outputs": [
        {
          "output_type": "stream",
          "name": "stdout",
          "text": [
            "cc-pVQZ\n",
            "\n",
            "      C\t0.0000000\t0.0000000\t0.6210880\n",
            "      C\t0.0000000\t0.0000000\t-0.6210880\n",
            "      \n"
          ]
        }
      ]
    },
    {
      "cell_type": "code",
      "source": [
        "del df['BuiltMolecule']"
      ],
      "metadata": {
        "id": "-bbPJEN5agq_"
      },
      "execution_count": 51,
      "outputs": []
    },
    {
      "cell_type": "code",
      "source": [
        "df"
      ],
      "metadata": {
        "id": "MBjyAOLS_h-b",
        "colab": {
          "base_uri": "https://localhost:8080/",
          "height": 197
        },
        "outputId": "c1134d33-3271-479d-aa5e-37e54498b12d"
      },
      "execution_count": 52,
      "outputs": [
        {
          "output_type": "execute_result",
          "data": {
            "text/plain": [
              "  Weight Element                                           Molecule BasisSet  \\\n",
              "0      6       C  \\n      C\\t0.0000000\\t0.0000000\\t0.6210880\\n  ...  cc-pVQZ   \n",
              "\n",
              "  Spin       CCSD      CCSDT  DFT-b3lyp  DFT-M06-2X   DFT-SCAN  DFT-wB97X-V  \\\n",
              "0    0 -75.818767 -75.855232 -75.868334  -75.875962 -75.870904   -75.921594   \n",
              "\n",
              "   DFT-PW6B95    DFT-pbe   DFT-pbe0  NN-Functional.DM21  NN-Functional.DM21m  \\\n",
              "0  -76.009851 -75.723307 -75.805353          -75.923031           -75.923946   \n",
              "\n",
              "   NN-Functional.DM21mc  NN-Functional.DM21mu  \n",
              "0            -75.929549            -75.928218  "
            ],
            "text/html": [
              "\n",
              "  <div id=\"df-ad5c078c-ac0a-461e-a120-ea1e440831e1\">\n",
              "    <div class=\"colab-df-container\">\n",
              "      <div>\n",
              "<style scoped>\n",
              "    .dataframe tbody tr th:only-of-type {\n",
              "        vertical-align: middle;\n",
              "    }\n",
              "\n",
              "    .dataframe tbody tr th {\n",
              "        vertical-align: top;\n",
              "    }\n",
              "\n",
              "    .dataframe thead th {\n",
              "        text-align: right;\n",
              "    }\n",
              "</style>\n",
              "<table border=\"1\" class=\"dataframe\">\n",
              "  <thead>\n",
              "    <tr style=\"text-align: right;\">\n",
              "      <th></th>\n",
              "      <th>Weight</th>\n",
              "      <th>Element</th>\n",
              "      <th>Molecule</th>\n",
              "      <th>BasisSet</th>\n",
              "      <th>Spin</th>\n",
              "      <th>CCSD</th>\n",
              "      <th>CCSDT</th>\n",
              "      <th>DFT-b3lyp</th>\n",
              "      <th>DFT-M06-2X</th>\n",
              "      <th>DFT-SCAN</th>\n",
              "      <th>DFT-wB97X-V</th>\n",
              "      <th>DFT-PW6B95</th>\n",
              "      <th>DFT-pbe</th>\n",
              "      <th>DFT-pbe0</th>\n",
              "      <th>NN-Functional.DM21</th>\n",
              "      <th>NN-Functional.DM21m</th>\n",
              "      <th>NN-Functional.DM21mc</th>\n",
              "      <th>NN-Functional.DM21mu</th>\n",
              "    </tr>\n",
              "  </thead>\n",
              "  <tbody>\n",
              "    <tr>\n",
              "      <th>0</th>\n",
              "      <td>6</td>\n",
              "      <td>C</td>\n",
              "      <td>\\n      C\\t0.0000000\\t0.0000000\\t0.6210880\\n  ...</td>\n",
              "      <td>cc-pVQZ</td>\n",
              "      <td>0</td>\n",
              "      <td>-75.818767</td>\n",
              "      <td>-75.855232</td>\n",
              "      <td>-75.868334</td>\n",
              "      <td>-75.875962</td>\n",
              "      <td>-75.870904</td>\n",
              "      <td>-75.921594</td>\n",
              "      <td>-76.009851</td>\n",
              "      <td>-75.723307</td>\n",
              "      <td>-75.805353</td>\n",
              "      <td>-75.923031</td>\n",
              "      <td>-75.923946</td>\n",
              "      <td>-75.929549</td>\n",
              "      <td>-75.928218</td>\n",
              "    </tr>\n",
              "  </tbody>\n",
              "</table>\n",
              "</div>\n",
              "      <button class=\"colab-df-convert\" onclick=\"convertToInteractive('df-ad5c078c-ac0a-461e-a120-ea1e440831e1')\"\n",
              "              title=\"Convert this dataframe to an interactive table.\"\n",
              "              style=\"display:none;\">\n",
              "        \n",
              "  <svg xmlns=\"http://www.w3.org/2000/svg\" height=\"24px\"viewBox=\"0 0 24 24\"\n",
              "       width=\"24px\">\n",
              "    <path d=\"M0 0h24v24H0V0z\" fill=\"none\"/>\n",
              "    <path d=\"M18.56 5.44l.94 2.06.94-2.06 2.06-.94-2.06-.94-.94-2.06-.94 2.06-2.06.94zm-11 1L8.5 8.5l.94-2.06 2.06-.94-2.06-.94L8.5 2.5l-.94 2.06-2.06.94zm10 10l.94 2.06.94-2.06 2.06-.94-2.06-.94-.94-2.06-.94 2.06-2.06.94z\"/><path d=\"M17.41 7.96l-1.37-1.37c-.4-.4-.92-.59-1.43-.59-.52 0-1.04.2-1.43.59L10.3 9.45l-7.72 7.72c-.78.78-.78 2.05 0 2.83L4 21.41c.39.39.9.59 1.41.59.51 0 1.02-.2 1.41-.59l7.78-7.78 2.81-2.81c.8-.78.8-2.07 0-2.86zM5.41 20L4 18.59l7.72-7.72 1.47 1.35L5.41 20z\"/>\n",
              "  </svg>\n",
              "      </button>\n",
              "      \n",
              "  <style>\n",
              "    .colab-df-container {\n",
              "      display:flex;\n",
              "      flex-wrap:wrap;\n",
              "      gap: 12px;\n",
              "    }\n",
              "\n",
              "    .colab-df-convert {\n",
              "      background-color: #E8F0FE;\n",
              "      border: none;\n",
              "      border-radius: 50%;\n",
              "      cursor: pointer;\n",
              "      display: none;\n",
              "      fill: #1967D2;\n",
              "      height: 32px;\n",
              "      padding: 0 0 0 0;\n",
              "      width: 32px;\n",
              "    }\n",
              "\n",
              "    .colab-df-convert:hover {\n",
              "      background-color: #E2EBFA;\n",
              "      box-shadow: 0px 1px 2px rgba(60, 64, 67, 0.3), 0px 1px 3px 1px rgba(60, 64, 67, 0.15);\n",
              "      fill: #174EA6;\n",
              "    }\n",
              "\n",
              "    [theme=dark] .colab-df-convert {\n",
              "      background-color: #3B4455;\n",
              "      fill: #D2E3FC;\n",
              "    }\n",
              "\n",
              "    [theme=dark] .colab-df-convert:hover {\n",
              "      background-color: #434B5C;\n",
              "      box-shadow: 0px 1px 3px 1px rgba(0, 0, 0, 0.15);\n",
              "      filter: drop-shadow(0px 1px 2px rgba(0, 0, 0, 0.3));\n",
              "      fill: #FFFFFF;\n",
              "    }\n",
              "  </style>\n",
              "\n",
              "      <script>\n",
              "        const buttonEl =\n",
              "          document.querySelector('#df-ad5c078c-ac0a-461e-a120-ea1e440831e1 button.colab-df-convert');\n",
              "        buttonEl.style.display =\n",
              "          google.colab.kernel.accessAllowed ? 'block' : 'none';\n",
              "\n",
              "        async function convertToInteractive(key) {\n",
              "          const element = document.querySelector('#df-ad5c078c-ac0a-461e-a120-ea1e440831e1');\n",
              "          const dataTable =\n",
              "            await google.colab.kernel.invokeFunction('convertToInteractive',\n",
              "                                                     [key], {});\n",
              "          if (!dataTable) return;\n",
              "\n",
              "          const docLinkHtml = 'Like what you see? Visit the ' +\n",
              "            '<a target=\"_blank\" href=https://colab.research.google.com/notebooks/data_table.ipynb>data table notebook</a>'\n",
              "            + ' to learn more about interactive tables.';\n",
              "          element.innerHTML = '';\n",
              "          dataTable['output_type'] = 'display_data';\n",
              "          await google.colab.output.renderOutput(dataTable, element);\n",
              "          const docLink = document.createElement('div');\n",
              "          docLink.innerHTML = docLinkHtml;\n",
              "          element.appendChild(docLink);\n",
              "        }\n",
              "      </script>\n",
              "    </div>\n",
              "  </div>\n",
              "  "
            ]
          },
          "metadata": {},
          "execution_count": 52
        }
      ]
    },
    {
      "cell_type": "markdown",
      "source": [
        "#validate the energy against NIST bechmarks ..\n",
        "manually just the ball park number some be matcoed \n",
        "\n",
        "https://cccbdb.nist.gov/bseenergy2x.asp shows CCST(T)/cc-pVQZ is -1.1737930\t, CCSD = -1.1737965\t\n",
        "or  http://www.begdb.org/index.php\n"
      ],
      "metadata": {
        "id": "GBadUdue8_Eu"
      }
    },
    {
      "cell_type": "code",
      "source": [
        "df"
      ],
      "metadata": {
        "id": "uMkm7hSsczvX",
        "colab": {
          "base_uri": "https://localhost:8080/",
          "height": 197
        },
        "outputId": "21836726-9575-4df1-b151-d9ef4fd78d7d"
      },
      "execution_count": 53,
      "outputs": [
        {
          "output_type": "execute_result",
          "data": {
            "text/plain": [
              "  Weight Element                                           Molecule BasisSet  \\\n",
              "0      6       C  \\n      C\\t0.0000000\\t0.0000000\\t0.6210880\\n  ...  cc-pVQZ   \n",
              "\n",
              "  Spin       CCSD      CCSDT  DFT-b3lyp  DFT-M06-2X   DFT-SCAN  DFT-wB97X-V  \\\n",
              "0    0 -75.818767 -75.855232 -75.868334  -75.875962 -75.870904   -75.921594   \n",
              "\n",
              "   DFT-PW6B95    DFT-pbe   DFT-pbe0  NN-Functional.DM21  NN-Functional.DM21m  \\\n",
              "0  -76.009851 -75.723307 -75.805353          -75.923031           -75.923946   \n",
              "\n",
              "   NN-Functional.DM21mc  NN-Functional.DM21mu  \n",
              "0            -75.929549            -75.928218  "
            ],
            "text/html": [
              "\n",
              "  <div id=\"df-bb591b26-b673-4c9c-9afa-07853f0642a0\">\n",
              "    <div class=\"colab-df-container\">\n",
              "      <div>\n",
              "<style scoped>\n",
              "    .dataframe tbody tr th:only-of-type {\n",
              "        vertical-align: middle;\n",
              "    }\n",
              "\n",
              "    .dataframe tbody tr th {\n",
              "        vertical-align: top;\n",
              "    }\n",
              "\n",
              "    .dataframe thead th {\n",
              "        text-align: right;\n",
              "    }\n",
              "</style>\n",
              "<table border=\"1\" class=\"dataframe\">\n",
              "  <thead>\n",
              "    <tr style=\"text-align: right;\">\n",
              "      <th></th>\n",
              "      <th>Weight</th>\n",
              "      <th>Element</th>\n",
              "      <th>Molecule</th>\n",
              "      <th>BasisSet</th>\n",
              "      <th>Spin</th>\n",
              "      <th>CCSD</th>\n",
              "      <th>CCSDT</th>\n",
              "      <th>DFT-b3lyp</th>\n",
              "      <th>DFT-M06-2X</th>\n",
              "      <th>DFT-SCAN</th>\n",
              "      <th>DFT-wB97X-V</th>\n",
              "      <th>DFT-PW6B95</th>\n",
              "      <th>DFT-pbe</th>\n",
              "      <th>DFT-pbe0</th>\n",
              "      <th>NN-Functional.DM21</th>\n",
              "      <th>NN-Functional.DM21m</th>\n",
              "      <th>NN-Functional.DM21mc</th>\n",
              "      <th>NN-Functional.DM21mu</th>\n",
              "    </tr>\n",
              "  </thead>\n",
              "  <tbody>\n",
              "    <tr>\n",
              "      <th>0</th>\n",
              "      <td>6</td>\n",
              "      <td>C</td>\n",
              "      <td>\\n      C\\t0.0000000\\t0.0000000\\t0.6210880\\n  ...</td>\n",
              "      <td>cc-pVQZ</td>\n",
              "      <td>0</td>\n",
              "      <td>-75.818767</td>\n",
              "      <td>-75.855232</td>\n",
              "      <td>-75.868334</td>\n",
              "      <td>-75.875962</td>\n",
              "      <td>-75.870904</td>\n",
              "      <td>-75.921594</td>\n",
              "      <td>-76.009851</td>\n",
              "      <td>-75.723307</td>\n",
              "      <td>-75.805353</td>\n",
              "      <td>-75.923031</td>\n",
              "      <td>-75.923946</td>\n",
              "      <td>-75.929549</td>\n",
              "      <td>-75.928218</td>\n",
              "    </tr>\n",
              "  </tbody>\n",
              "</table>\n",
              "</div>\n",
              "      <button class=\"colab-df-convert\" onclick=\"convertToInteractive('df-bb591b26-b673-4c9c-9afa-07853f0642a0')\"\n",
              "              title=\"Convert this dataframe to an interactive table.\"\n",
              "              style=\"display:none;\">\n",
              "        \n",
              "  <svg xmlns=\"http://www.w3.org/2000/svg\" height=\"24px\"viewBox=\"0 0 24 24\"\n",
              "       width=\"24px\">\n",
              "    <path d=\"M0 0h24v24H0V0z\" fill=\"none\"/>\n",
              "    <path d=\"M18.56 5.44l.94 2.06.94-2.06 2.06-.94-2.06-.94-.94-2.06-.94 2.06-2.06.94zm-11 1L8.5 8.5l.94-2.06 2.06-.94-2.06-.94L8.5 2.5l-.94 2.06-2.06.94zm10 10l.94 2.06.94-2.06 2.06-.94-2.06-.94-.94-2.06-.94 2.06-2.06.94z\"/><path d=\"M17.41 7.96l-1.37-1.37c-.4-.4-.92-.59-1.43-.59-.52 0-1.04.2-1.43.59L10.3 9.45l-7.72 7.72c-.78.78-.78 2.05 0 2.83L4 21.41c.39.39.9.59 1.41.59.51 0 1.02-.2 1.41-.59l7.78-7.78 2.81-2.81c.8-.78.8-2.07 0-2.86zM5.41 20L4 18.59l7.72-7.72 1.47 1.35L5.41 20z\"/>\n",
              "  </svg>\n",
              "      </button>\n",
              "      \n",
              "  <style>\n",
              "    .colab-df-container {\n",
              "      display:flex;\n",
              "      flex-wrap:wrap;\n",
              "      gap: 12px;\n",
              "    }\n",
              "\n",
              "    .colab-df-convert {\n",
              "      background-color: #E8F0FE;\n",
              "      border: none;\n",
              "      border-radius: 50%;\n",
              "      cursor: pointer;\n",
              "      display: none;\n",
              "      fill: #1967D2;\n",
              "      height: 32px;\n",
              "      padding: 0 0 0 0;\n",
              "      width: 32px;\n",
              "    }\n",
              "\n",
              "    .colab-df-convert:hover {\n",
              "      background-color: #E2EBFA;\n",
              "      box-shadow: 0px 1px 2px rgba(60, 64, 67, 0.3), 0px 1px 3px 1px rgba(60, 64, 67, 0.15);\n",
              "      fill: #174EA6;\n",
              "    }\n",
              "\n",
              "    [theme=dark] .colab-df-convert {\n",
              "      background-color: #3B4455;\n",
              "      fill: #D2E3FC;\n",
              "    }\n",
              "\n",
              "    [theme=dark] .colab-df-convert:hover {\n",
              "      background-color: #434B5C;\n",
              "      box-shadow: 0px 1px 3px 1px rgba(0, 0, 0, 0.15);\n",
              "      filter: drop-shadow(0px 1px 2px rgba(0, 0, 0, 0.3));\n",
              "      fill: #FFFFFF;\n",
              "    }\n",
              "  </style>\n",
              "\n",
              "      <script>\n",
              "        const buttonEl =\n",
              "          document.querySelector('#df-bb591b26-b673-4c9c-9afa-07853f0642a0 button.colab-df-convert');\n",
              "        buttonEl.style.display =\n",
              "          google.colab.kernel.accessAllowed ? 'block' : 'none';\n",
              "\n",
              "        async function convertToInteractive(key) {\n",
              "          const element = document.querySelector('#df-bb591b26-b673-4c9c-9afa-07853f0642a0');\n",
              "          const dataTable =\n",
              "            await google.colab.kernel.invokeFunction('convertToInteractive',\n",
              "                                                     [key], {});\n",
              "          if (!dataTable) return;\n",
              "\n",
              "          const docLinkHtml = 'Like what you see? Visit the ' +\n",
              "            '<a target=\"_blank\" href=https://colab.research.google.com/notebooks/data_table.ipynb>data table notebook</a>'\n",
              "            + ' to learn more about interactive tables.';\n",
              "          element.innerHTML = '';\n",
              "          dataTable['output_type'] = 'display_data';\n",
              "          await google.colab.output.renderOutput(dataTable, element);\n",
              "          const docLink = document.createElement('div');\n",
              "          docLink.innerHTML = docLinkHtml;\n",
              "          element.appendChild(docLink);\n",
              "        }\n",
              "      </script>\n",
              "    </div>\n",
              "  </div>\n",
              "  "
            ]
          },
          "metadata": {},
          "execution_count": 53
        }
      ]
    },
    {
      "cell_type": "code",
      "source": [
        "df"
      ],
      "metadata": {
        "id": "JvzYKTfBL4i8",
        "colab": {
          "base_uri": "https://localhost:8080/",
          "height": 197
        },
        "outputId": "a5ef4ade-f310-4b2c-a461-c192ccf9b016"
      },
      "execution_count": 54,
      "outputs": [
        {
          "output_type": "execute_result",
          "data": {
            "text/plain": [
              "  Weight Element                                           Molecule BasisSet  \\\n",
              "0      6       C  \\n      C\\t0.0000000\\t0.0000000\\t0.6210880\\n  ...  cc-pVQZ   \n",
              "\n",
              "  Spin       CCSD      CCSDT  DFT-b3lyp  DFT-M06-2X   DFT-SCAN  DFT-wB97X-V  \\\n",
              "0    0 -75.818767 -75.855232 -75.868334  -75.875962 -75.870904   -75.921594   \n",
              "\n",
              "   DFT-PW6B95    DFT-pbe   DFT-pbe0  NN-Functional.DM21  NN-Functional.DM21m  \\\n",
              "0  -76.009851 -75.723307 -75.805353          -75.923031           -75.923946   \n",
              "\n",
              "   NN-Functional.DM21mc  NN-Functional.DM21mu  \n",
              "0            -75.929549            -75.928218  "
            ],
            "text/html": [
              "\n",
              "  <div id=\"df-42f59a32-c864-4b41-aa3a-b3488b989bcf\">\n",
              "    <div class=\"colab-df-container\">\n",
              "      <div>\n",
              "<style scoped>\n",
              "    .dataframe tbody tr th:only-of-type {\n",
              "        vertical-align: middle;\n",
              "    }\n",
              "\n",
              "    .dataframe tbody tr th {\n",
              "        vertical-align: top;\n",
              "    }\n",
              "\n",
              "    .dataframe thead th {\n",
              "        text-align: right;\n",
              "    }\n",
              "</style>\n",
              "<table border=\"1\" class=\"dataframe\">\n",
              "  <thead>\n",
              "    <tr style=\"text-align: right;\">\n",
              "      <th></th>\n",
              "      <th>Weight</th>\n",
              "      <th>Element</th>\n",
              "      <th>Molecule</th>\n",
              "      <th>BasisSet</th>\n",
              "      <th>Spin</th>\n",
              "      <th>CCSD</th>\n",
              "      <th>CCSDT</th>\n",
              "      <th>DFT-b3lyp</th>\n",
              "      <th>DFT-M06-2X</th>\n",
              "      <th>DFT-SCAN</th>\n",
              "      <th>DFT-wB97X-V</th>\n",
              "      <th>DFT-PW6B95</th>\n",
              "      <th>DFT-pbe</th>\n",
              "      <th>DFT-pbe0</th>\n",
              "      <th>NN-Functional.DM21</th>\n",
              "      <th>NN-Functional.DM21m</th>\n",
              "      <th>NN-Functional.DM21mc</th>\n",
              "      <th>NN-Functional.DM21mu</th>\n",
              "    </tr>\n",
              "  </thead>\n",
              "  <tbody>\n",
              "    <tr>\n",
              "      <th>0</th>\n",
              "      <td>6</td>\n",
              "      <td>C</td>\n",
              "      <td>\\n      C\\t0.0000000\\t0.0000000\\t0.6210880\\n  ...</td>\n",
              "      <td>cc-pVQZ</td>\n",
              "      <td>0</td>\n",
              "      <td>-75.818767</td>\n",
              "      <td>-75.855232</td>\n",
              "      <td>-75.868334</td>\n",
              "      <td>-75.875962</td>\n",
              "      <td>-75.870904</td>\n",
              "      <td>-75.921594</td>\n",
              "      <td>-76.009851</td>\n",
              "      <td>-75.723307</td>\n",
              "      <td>-75.805353</td>\n",
              "      <td>-75.923031</td>\n",
              "      <td>-75.923946</td>\n",
              "      <td>-75.929549</td>\n",
              "      <td>-75.928218</td>\n",
              "    </tr>\n",
              "  </tbody>\n",
              "</table>\n",
              "</div>\n",
              "      <button class=\"colab-df-convert\" onclick=\"convertToInteractive('df-42f59a32-c864-4b41-aa3a-b3488b989bcf')\"\n",
              "              title=\"Convert this dataframe to an interactive table.\"\n",
              "              style=\"display:none;\">\n",
              "        \n",
              "  <svg xmlns=\"http://www.w3.org/2000/svg\" height=\"24px\"viewBox=\"0 0 24 24\"\n",
              "       width=\"24px\">\n",
              "    <path d=\"M0 0h24v24H0V0z\" fill=\"none\"/>\n",
              "    <path d=\"M18.56 5.44l.94 2.06.94-2.06 2.06-.94-2.06-.94-.94-2.06-.94 2.06-2.06.94zm-11 1L8.5 8.5l.94-2.06 2.06-.94-2.06-.94L8.5 2.5l-.94 2.06-2.06.94zm10 10l.94 2.06.94-2.06 2.06-.94-2.06-.94-.94-2.06-.94 2.06-2.06.94z\"/><path d=\"M17.41 7.96l-1.37-1.37c-.4-.4-.92-.59-1.43-.59-.52 0-1.04.2-1.43.59L10.3 9.45l-7.72 7.72c-.78.78-.78 2.05 0 2.83L4 21.41c.39.39.9.59 1.41.59.51 0 1.02-.2 1.41-.59l7.78-7.78 2.81-2.81c.8-.78.8-2.07 0-2.86zM5.41 20L4 18.59l7.72-7.72 1.47 1.35L5.41 20z\"/>\n",
              "  </svg>\n",
              "      </button>\n",
              "      \n",
              "  <style>\n",
              "    .colab-df-container {\n",
              "      display:flex;\n",
              "      flex-wrap:wrap;\n",
              "      gap: 12px;\n",
              "    }\n",
              "\n",
              "    .colab-df-convert {\n",
              "      background-color: #E8F0FE;\n",
              "      border: none;\n",
              "      border-radius: 50%;\n",
              "      cursor: pointer;\n",
              "      display: none;\n",
              "      fill: #1967D2;\n",
              "      height: 32px;\n",
              "      padding: 0 0 0 0;\n",
              "      width: 32px;\n",
              "    }\n",
              "\n",
              "    .colab-df-convert:hover {\n",
              "      background-color: #E2EBFA;\n",
              "      box-shadow: 0px 1px 2px rgba(60, 64, 67, 0.3), 0px 1px 3px 1px rgba(60, 64, 67, 0.15);\n",
              "      fill: #174EA6;\n",
              "    }\n",
              "\n",
              "    [theme=dark] .colab-df-convert {\n",
              "      background-color: #3B4455;\n",
              "      fill: #D2E3FC;\n",
              "    }\n",
              "\n",
              "    [theme=dark] .colab-df-convert:hover {\n",
              "      background-color: #434B5C;\n",
              "      box-shadow: 0px 1px 3px 1px rgba(0, 0, 0, 0.15);\n",
              "      filter: drop-shadow(0px 1px 2px rgba(0, 0, 0, 0.3));\n",
              "      fill: #FFFFFF;\n",
              "    }\n",
              "  </style>\n",
              "\n",
              "      <script>\n",
              "        const buttonEl =\n",
              "          document.querySelector('#df-42f59a32-c864-4b41-aa3a-b3488b989bcf button.colab-df-convert');\n",
              "        buttonEl.style.display =\n",
              "          google.colab.kernel.accessAllowed ? 'block' : 'none';\n",
              "\n",
              "        async function convertToInteractive(key) {\n",
              "          const element = document.querySelector('#df-42f59a32-c864-4b41-aa3a-b3488b989bcf');\n",
              "          const dataTable =\n",
              "            await google.colab.kernel.invokeFunction('convertToInteractive',\n",
              "                                                     [key], {});\n",
              "          if (!dataTable) return;\n",
              "\n",
              "          const docLinkHtml = 'Like what you see? Visit the ' +\n",
              "            '<a target=\"_blank\" href=https://colab.research.google.com/notebooks/data_table.ipynb>data table notebook</a>'\n",
              "            + ' to learn more about interactive tables.';\n",
              "          element.innerHTML = '';\n",
              "          dataTable['output_type'] = 'display_data';\n",
              "          await google.colab.output.renderOutput(dataTable, element);\n",
              "          const docLink = document.createElement('div');\n",
              "          docLink.innerHTML = docLinkHtml;\n",
              "          element.appendChild(docLink);\n",
              "        }\n",
              "      </script>\n",
              "    </div>\n",
              "  </div>\n",
              "  "
            ]
          },
          "metadata": {},
          "execution_count": 54
        }
      ]
    },
    {
      "cell_type": "code",
      "source": [
        "GOLDBasisSET= 'cc-pVQZ'"
      ],
      "metadata": {
        "id": "bNVksggI2bfR"
      },
      "execution_count": 55,
      "outputs": []
    },
    {
      "cell_type": "code",
      "source": [
        "import copy \n",
        "dfcopy = df.copy()"
      ],
      "metadata": {
        "id": "MvOnUvepzrfa"
      },
      "execution_count": 56,
      "outputs": []
    },
    {
      "cell_type": "markdown",
      "source": [
        "# Gold CCSD(T) Reference value  "
      ],
      "metadata": {
        "id": "0cStWpN522nB"
      }
    },
    {
      "cell_type": "code",
      "source": [
        "dfspecficrow = dfcopy[dfcopy['BasisSet'] == GOLDBasisSET]\n",
        "\n",
        "\n",
        "\n",
        "dfspecficrow\n"
      ],
      "metadata": {
        "id": "pggxzhX_z915",
        "colab": {
          "base_uri": "https://localhost:8080/",
          "height": 197
        },
        "outputId": "f62948ba-7771-41bc-aa80-226984eac68f"
      },
      "execution_count": 57,
      "outputs": [
        {
          "output_type": "execute_result",
          "data": {
            "text/plain": [
              "  Weight Element                                           Molecule BasisSet  \\\n",
              "0      6       C  \\n      C\\t0.0000000\\t0.0000000\\t0.6210880\\n  ...  cc-pVQZ   \n",
              "\n",
              "  Spin       CCSD      CCSDT  DFT-b3lyp  DFT-M06-2X   DFT-SCAN  DFT-wB97X-V  \\\n",
              "0    0 -75.818767 -75.855232 -75.868334  -75.875962 -75.870904   -75.921594   \n",
              "\n",
              "   DFT-PW6B95    DFT-pbe   DFT-pbe0  NN-Functional.DM21  NN-Functional.DM21m  \\\n",
              "0  -76.009851 -75.723307 -75.805353          -75.923031           -75.923946   \n",
              "\n",
              "   NN-Functional.DM21mc  NN-Functional.DM21mu  \n",
              "0            -75.929549            -75.928218  "
            ],
            "text/html": [
              "\n",
              "  <div id=\"df-9e08ad1a-043d-48b4-81fb-a971fb85d0f9\">\n",
              "    <div class=\"colab-df-container\">\n",
              "      <div>\n",
              "<style scoped>\n",
              "    .dataframe tbody tr th:only-of-type {\n",
              "        vertical-align: middle;\n",
              "    }\n",
              "\n",
              "    .dataframe tbody tr th {\n",
              "        vertical-align: top;\n",
              "    }\n",
              "\n",
              "    .dataframe thead th {\n",
              "        text-align: right;\n",
              "    }\n",
              "</style>\n",
              "<table border=\"1\" class=\"dataframe\">\n",
              "  <thead>\n",
              "    <tr style=\"text-align: right;\">\n",
              "      <th></th>\n",
              "      <th>Weight</th>\n",
              "      <th>Element</th>\n",
              "      <th>Molecule</th>\n",
              "      <th>BasisSet</th>\n",
              "      <th>Spin</th>\n",
              "      <th>CCSD</th>\n",
              "      <th>CCSDT</th>\n",
              "      <th>DFT-b3lyp</th>\n",
              "      <th>DFT-M06-2X</th>\n",
              "      <th>DFT-SCAN</th>\n",
              "      <th>DFT-wB97X-V</th>\n",
              "      <th>DFT-PW6B95</th>\n",
              "      <th>DFT-pbe</th>\n",
              "      <th>DFT-pbe0</th>\n",
              "      <th>NN-Functional.DM21</th>\n",
              "      <th>NN-Functional.DM21m</th>\n",
              "      <th>NN-Functional.DM21mc</th>\n",
              "      <th>NN-Functional.DM21mu</th>\n",
              "    </tr>\n",
              "  </thead>\n",
              "  <tbody>\n",
              "    <tr>\n",
              "      <th>0</th>\n",
              "      <td>6</td>\n",
              "      <td>C</td>\n",
              "      <td>\\n      C\\t0.0000000\\t0.0000000\\t0.6210880\\n  ...</td>\n",
              "      <td>cc-pVQZ</td>\n",
              "      <td>0</td>\n",
              "      <td>-75.818767</td>\n",
              "      <td>-75.855232</td>\n",
              "      <td>-75.868334</td>\n",
              "      <td>-75.875962</td>\n",
              "      <td>-75.870904</td>\n",
              "      <td>-75.921594</td>\n",
              "      <td>-76.009851</td>\n",
              "      <td>-75.723307</td>\n",
              "      <td>-75.805353</td>\n",
              "      <td>-75.923031</td>\n",
              "      <td>-75.923946</td>\n",
              "      <td>-75.929549</td>\n",
              "      <td>-75.928218</td>\n",
              "    </tr>\n",
              "  </tbody>\n",
              "</table>\n",
              "</div>\n",
              "      <button class=\"colab-df-convert\" onclick=\"convertToInteractive('df-9e08ad1a-043d-48b4-81fb-a971fb85d0f9')\"\n",
              "              title=\"Convert this dataframe to an interactive table.\"\n",
              "              style=\"display:none;\">\n",
              "        \n",
              "  <svg xmlns=\"http://www.w3.org/2000/svg\" height=\"24px\"viewBox=\"0 0 24 24\"\n",
              "       width=\"24px\">\n",
              "    <path d=\"M0 0h24v24H0V0z\" fill=\"none\"/>\n",
              "    <path d=\"M18.56 5.44l.94 2.06.94-2.06 2.06-.94-2.06-.94-.94-2.06-.94 2.06-2.06.94zm-11 1L8.5 8.5l.94-2.06 2.06-.94-2.06-.94L8.5 2.5l-.94 2.06-2.06.94zm10 10l.94 2.06.94-2.06 2.06-.94-2.06-.94-.94-2.06-.94 2.06-2.06.94z\"/><path d=\"M17.41 7.96l-1.37-1.37c-.4-.4-.92-.59-1.43-.59-.52 0-1.04.2-1.43.59L10.3 9.45l-7.72 7.72c-.78.78-.78 2.05 0 2.83L4 21.41c.39.39.9.59 1.41.59.51 0 1.02-.2 1.41-.59l7.78-7.78 2.81-2.81c.8-.78.8-2.07 0-2.86zM5.41 20L4 18.59l7.72-7.72 1.47 1.35L5.41 20z\"/>\n",
              "  </svg>\n",
              "      </button>\n",
              "      \n",
              "  <style>\n",
              "    .colab-df-container {\n",
              "      display:flex;\n",
              "      flex-wrap:wrap;\n",
              "      gap: 12px;\n",
              "    }\n",
              "\n",
              "    .colab-df-convert {\n",
              "      background-color: #E8F0FE;\n",
              "      border: none;\n",
              "      border-radius: 50%;\n",
              "      cursor: pointer;\n",
              "      display: none;\n",
              "      fill: #1967D2;\n",
              "      height: 32px;\n",
              "      padding: 0 0 0 0;\n",
              "      width: 32px;\n",
              "    }\n",
              "\n",
              "    .colab-df-convert:hover {\n",
              "      background-color: #E2EBFA;\n",
              "      box-shadow: 0px 1px 2px rgba(60, 64, 67, 0.3), 0px 1px 3px 1px rgba(60, 64, 67, 0.15);\n",
              "      fill: #174EA6;\n",
              "    }\n",
              "\n",
              "    [theme=dark] .colab-df-convert {\n",
              "      background-color: #3B4455;\n",
              "      fill: #D2E3FC;\n",
              "    }\n",
              "\n",
              "    [theme=dark] .colab-df-convert:hover {\n",
              "      background-color: #434B5C;\n",
              "      box-shadow: 0px 1px 3px 1px rgba(0, 0, 0, 0.15);\n",
              "      filter: drop-shadow(0px 1px 2px rgba(0, 0, 0, 0.3));\n",
              "      fill: #FFFFFF;\n",
              "    }\n",
              "  </style>\n",
              "\n",
              "      <script>\n",
              "        const buttonEl =\n",
              "          document.querySelector('#df-9e08ad1a-043d-48b4-81fb-a971fb85d0f9 button.colab-df-convert');\n",
              "        buttonEl.style.display =\n",
              "          google.colab.kernel.accessAllowed ? 'block' : 'none';\n",
              "\n",
              "        async function convertToInteractive(key) {\n",
              "          const element = document.querySelector('#df-9e08ad1a-043d-48b4-81fb-a971fb85d0f9');\n",
              "          const dataTable =\n",
              "            await google.colab.kernel.invokeFunction('convertToInteractive',\n",
              "                                                     [key], {});\n",
              "          if (!dataTable) return;\n",
              "\n",
              "          const docLinkHtml = 'Like what you see? Visit the ' +\n",
              "            '<a target=\"_blank\" href=https://colab.research.google.com/notebooks/data_table.ipynb>data table notebook</a>'\n",
              "            + ' to learn more about interactive tables.';\n",
              "          element.innerHTML = '';\n",
              "          dataTable['output_type'] = 'display_data';\n",
              "          await google.colab.output.renderOutput(dataTable, element);\n",
              "          const docLink = document.createElement('div');\n",
              "          docLink.innerHTML = docLinkHtml;\n",
              "          element.appendChild(docLink);\n",
              "        }\n",
              "      </script>\n",
              "    </div>\n",
              "  </div>\n",
              "  "
            ]
          },
          "metadata": {},
          "execution_count": 57
        }
      ]
    },
    {
      "cell_type": "code",
      "source": [
        "ccsdtgoldseries = dfspecficrow['CCSDT']\n",
        "ccsdtgold = ccsdtgoldseries[0]\n",
        "ccsdtgold"
      ],
      "metadata": {
        "id": "rk7zJTdo1N-q",
        "colab": {
          "base_uri": "https://localhost:8080/"
        },
        "outputId": "17465d0d-5cd7-4bd0-cd00-57616236be55"
      },
      "execution_count": 58,
      "outputs": [
        {
          "output_type": "execute_result",
          "data": {
            "text/plain": [
              "-75.85523212456015"
            ]
          },
          "metadata": {},
          "execution_count": 58
        }
      ]
    },
    {
      "cell_type": "code",
      "source": [
        "dfcopy['CCSDT_G'] = ccsdtgold"
      ],
      "metadata": {
        "id": "gCc_KWkNz2OG"
      },
      "execution_count": 59,
      "outputs": []
    },
    {
      "cell_type": "code",
      "source": [
        "dfcopy"
      ],
      "metadata": {
        "id": "1ER4sary1wnP",
        "colab": {
          "base_uri": "https://localhost:8080/",
          "height": 197
        },
        "outputId": "7d6f2a80-cc51-4988-8f83-53e33f674173"
      },
      "execution_count": 60,
      "outputs": [
        {
          "output_type": "execute_result",
          "data": {
            "text/plain": [
              "  Weight Element                                           Molecule BasisSet  \\\n",
              "0      6       C  \\n      C\\t0.0000000\\t0.0000000\\t0.6210880\\n  ...  cc-pVQZ   \n",
              "\n",
              "  Spin       CCSD      CCSDT  DFT-b3lyp  DFT-M06-2X   DFT-SCAN  DFT-wB97X-V  \\\n",
              "0    0 -75.818767 -75.855232 -75.868334  -75.875962 -75.870904   -75.921594   \n",
              "\n",
              "   DFT-PW6B95    DFT-pbe   DFT-pbe0  NN-Functional.DM21  NN-Functional.DM21m  \\\n",
              "0  -76.009851 -75.723307 -75.805353          -75.923031           -75.923946   \n",
              "\n",
              "   NN-Functional.DM21mc  NN-Functional.DM21mu    CCSDT_G  \n",
              "0            -75.929549            -75.928218 -75.855232  "
            ],
            "text/html": [
              "\n",
              "  <div id=\"df-af8f1428-328a-40a8-8352-d10018a87f4b\">\n",
              "    <div class=\"colab-df-container\">\n",
              "      <div>\n",
              "<style scoped>\n",
              "    .dataframe tbody tr th:only-of-type {\n",
              "        vertical-align: middle;\n",
              "    }\n",
              "\n",
              "    .dataframe tbody tr th {\n",
              "        vertical-align: top;\n",
              "    }\n",
              "\n",
              "    .dataframe thead th {\n",
              "        text-align: right;\n",
              "    }\n",
              "</style>\n",
              "<table border=\"1\" class=\"dataframe\">\n",
              "  <thead>\n",
              "    <tr style=\"text-align: right;\">\n",
              "      <th></th>\n",
              "      <th>Weight</th>\n",
              "      <th>Element</th>\n",
              "      <th>Molecule</th>\n",
              "      <th>BasisSet</th>\n",
              "      <th>Spin</th>\n",
              "      <th>CCSD</th>\n",
              "      <th>CCSDT</th>\n",
              "      <th>DFT-b3lyp</th>\n",
              "      <th>DFT-M06-2X</th>\n",
              "      <th>DFT-SCAN</th>\n",
              "      <th>DFT-wB97X-V</th>\n",
              "      <th>DFT-PW6B95</th>\n",
              "      <th>DFT-pbe</th>\n",
              "      <th>DFT-pbe0</th>\n",
              "      <th>NN-Functional.DM21</th>\n",
              "      <th>NN-Functional.DM21m</th>\n",
              "      <th>NN-Functional.DM21mc</th>\n",
              "      <th>NN-Functional.DM21mu</th>\n",
              "      <th>CCSDT_G</th>\n",
              "    </tr>\n",
              "  </thead>\n",
              "  <tbody>\n",
              "    <tr>\n",
              "      <th>0</th>\n",
              "      <td>6</td>\n",
              "      <td>C</td>\n",
              "      <td>\\n      C\\t0.0000000\\t0.0000000\\t0.6210880\\n  ...</td>\n",
              "      <td>cc-pVQZ</td>\n",
              "      <td>0</td>\n",
              "      <td>-75.818767</td>\n",
              "      <td>-75.855232</td>\n",
              "      <td>-75.868334</td>\n",
              "      <td>-75.875962</td>\n",
              "      <td>-75.870904</td>\n",
              "      <td>-75.921594</td>\n",
              "      <td>-76.009851</td>\n",
              "      <td>-75.723307</td>\n",
              "      <td>-75.805353</td>\n",
              "      <td>-75.923031</td>\n",
              "      <td>-75.923946</td>\n",
              "      <td>-75.929549</td>\n",
              "      <td>-75.928218</td>\n",
              "      <td>-75.855232</td>\n",
              "    </tr>\n",
              "  </tbody>\n",
              "</table>\n",
              "</div>\n",
              "      <button class=\"colab-df-convert\" onclick=\"convertToInteractive('df-af8f1428-328a-40a8-8352-d10018a87f4b')\"\n",
              "              title=\"Convert this dataframe to an interactive table.\"\n",
              "              style=\"display:none;\">\n",
              "        \n",
              "  <svg xmlns=\"http://www.w3.org/2000/svg\" height=\"24px\"viewBox=\"0 0 24 24\"\n",
              "       width=\"24px\">\n",
              "    <path d=\"M0 0h24v24H0V0z\" fill=\"none\"/>\n",
              "    <path d=\"M18.56 5.44l.94 2.06.94-2.06 2.06-.94-2.06-.94-.94-2.06-.94 2.06-2.06.94zm-11 1L8.5 8.5l.94-2.06 2.06-.94-2.06-.94L8.5 2.5l-.94 2.06-2.06.94zm10 10l.94 2.06.94-2.06 2.06-.94-2.06-.94-.94-2.06-.94 2.06-2.06.94z\"/><path d=\"M17.41 7.96l-1.37-1.37c-.4-.4-.92-.59-1.43-.59-.52 0-1.04.2-1.43.59L10.3 9.45l-7.72 7.72c-.78.78-.78 2.05 0 2.83L4 21.41c.39.39.9.59 1.41.59.51 0 1.02-.2 1.41-.59l7.78-7.78 2.81-2.81c.8-.78.8-2.07 0-2.86zM5.41 20L4 18.59l7.72-7.72 1.47 1.35L5.41 20z\"/>\n",
              "  </svg>\n",
              "      </button>\n",
              "      \n",
              "  <style>\n",
              "    .colab-df-container {\n",
              "      display:flex;\n",
              "      flex-wrap:wrap;\n",
              "      gap: 12px;\n",
              "    }\n",
              "\n",
              "    .colab-df-convert {\n",
              "      background-color: #E8F0FE;\n",
              "      border: none;\n",
              "      border-radius: 50%;\n",
              "      cursor: pointer;\n",
              "      display: none;\n",
              "      fill: #1967D2;\n",
              "      height: 32px;\n",
              "      padding: 0 0 0 0;\n",
              "      width: 32px;\n",
              "    }\n",
              "\n",
              "    .colab-df-convert:hover {\n",
              "      background-color: #E2EBFA;\n",
              "      box-shadow: 0px 1px 2px rgba(60, 64, 67, 0.3), 0px 1px 3px 1px rgba(60, 64, 67, 0.15);\n",
              "      fill: #174EA6;\n",
              "    }\n",
              "\n",
              "    [theme=dark] .colab-df-convert {\n",
              "      background-color: #3B4455;\n",
              "      fill: #D2E3FC;\n",
              "    }\n",
              "\n",
              "    [theme=dark] .colab-df-convert:hover {\n",
              "      background-color: #434B5C;\n",
              "      box-shadow: 0px 1px 3px 1px rgba(0, 0, 0, 0.15);\n",
              "      filter: drop-shadow(0px 1px 2px rgba(0, 0, 0, 0.3));\n",
              "      fill: #FFFFFF;\n",
              "    }\n",
              "  </style>\n",
              "\n",
              "      <script>\n",
              "        const buttonEl =\n",
              "          document.querySelector('#df-af8f1428-328a-40a8-8352-d10018a87f4b button.colab-df-convert');\n",
              "        buttonEl.style.display =\n",
              "          google.colab.kernel.accessAllowed ? 'block' : 'none';\n",
              "\n",
              "        async function convertToInteractive(key) {\n",
              "          const element = document.querySelector('#df-af8f1428-328a-40a8-8352-d10018a87f4b');\n",
              "          const dataTable =\n",
              "            await google.colab.kernel.invokeFunction('convertToInteractive',\n",
              "                                                     [key], {});\n",
              "          if (!dataTable) return;\n",
              "\n",
              "          const docLinkHtml = 'Like what you see? Visit the ' +\n",
              "            '<a target=\"_blank\" href=https://colab.research.google.com/notebooks/data_table.ipynb>data table notebook</a>'\n",
              "            + ' to learn more about interactive tables.';\n",
              "          element.innerHTML = '';\n",
              "          dataTable['output_type'] = 'display_data';\n",
              "          await google.colab.output.renderOutput(dataTable, element);\n",
              "          const docLink = document.createElement('div');\n",
              "          docLink.innerHTML = docLinkHtml;\n",
              "          element.appendChild(docLink);\n",
              "        }\n",
              "      </script>\n",
              "    </div>\n",
              "  </div>\n",
              "  "
            ]
          },
          "metadata": {},
          "execution_count": 60
        }
      ]
    },
    {
      "cell_type": "code",
      "source": [
        ""
      ],
      "metadata": {
        "id": "xW8c0W9iMbJc"
      },
      "execution_count": 60,
      "outputs": []
    },
    {
      "cell_type": "code",
      "source": [
        "for afunctionals in functionalsList:\n",
        "  print(str(afunctionals))\n",
        "  df['E-'+'DFT-'+str(afunctionals)] =  abs(  (df['DFT-'+str(afunctionals) ] - df['CCSDT']  ) * 100  /  df['CCSDT'] )"
      ],
      "metadata": {
        "id": "c7vnBbtYMbTh",
        "colab": {
          "base_uri": "https://localhost:8080/"
        },
        "outputId": "a7700c34-4135-46ad-9deb-e5c111707535"
      },
      "execution_count": 61,
      "outputs": [
        {
          "output_type": "stream",
          "name": "stdout",
          "text": [
            "b3lyp\n",
            "M06-2X\n",
            "SCAN\n",
            "wB97X-V\n",
            "PW6B95\n",
            "pbe\n",
            "pbe0\n"
          ]
        }
      ]
    },
    {
      "cell_type": "code",
      "source": [
        "for aDMFunctionalvalue in list(dm21.Functional):\n",
        "  print(str(aDMFunctionalvalue))\n",
        "  df['E-'+'NN-'+str(aDMFunctionalvalue)] = abs( (df['NN-'+str(aDMFunctionalvalue) ] - df['CCSDT']  ) * 100  /  df['CCSDT'] )"
      ],
      "metadata": {
        "id": "wzRY6ESzNjBS",
        "colab": {
          "base_uri": "https://localhost:8080/"
        },
        "outputId": "04ecc897-1dbc-4e0e-aae4-8e5f0143c2c2"
      },
      "execution_count": 62,
      "outputs": [
        {
          "output_type": "stream",
          "name": "stdout",
          "text": [
            "Functional.DM21\n",
            "Functional.DM21m\n",
            "Functional.DM21mc\n",
            "Functional.DM21mu\n"
          ]
        }
      ]
    },
    {
      "cell_type": "code",
      "source": [
        "for afunctionals in functionalsList:\n",
        "  print(str(afunctionals))\n",
        "  df['M-'+'DFT-'+str(afunctionals)] =   abs  (df['DFT-'+str(afunctionals) ] - df['CCSDT']  ) \n"
      ],
      "metadata": {
        "id": "PCpqf5-WhIl3",
        "colab": {
          "base_uri": "https://localhost:8080/"
        },
        "outputId": "60723df2-38c4-4189-f1ba-bd27d5b87e4d"
      },
      "execution_count": 63,
      "outputs": [
        {
          "output_type": "stream",
          "name": "stdout",
          "text": [
            "b3lyp\n",
            "M06-2X\n",
            "SCAN\n",
            "wB97X-V\n",
            "PW6B95\n",
            "pbe\n",
            "pbe0\n"
          ]
        }
      ]
    },
    {
      "cell_type": "code",
      "source": [
        "for aDMFunctionalvalue in list(dm21.Functional):\n",
        "  print(str(aDMFunctionalvalue))\n",
        "  df['M-'+'NN-'+str(aDMFunctionalvalue)] = abs  (df['NN-'+str(aDMFunctionalvalue) ] - df['CCSDT']  ) \n"
      ],
      "metadata": {
        "id": "NqSR2AMChbe6",
        "colab": {
          "base_uri": "https://localhost:8080/"
        },
        "outputId": "79e38b53-56d0-419a-8f62-ebc0e7b8ca30"
      },
      "execution_count": 64,
      "outputs": [
        {
          "output_type": "stream",
          "name": "stdout",
          "text": [
            "Functional.DM21\n",
            "Functional.DM21m\n",
            "Functional.DM21mc\n",
            "Functional.DM21mu\n"
          ]
        }
      ]
    },
    {
      "cell_type": "code",
      "source": [
        "df"
      ],
      "metadata": {
        "id": "iioWkDZWkMhz",
        "colab": {
          "base_uri": "https://localhost:8080/",
          "height": 226
        },
        "outputId": "b7654bbd-85d2-4134-a5cb-0accf5003a8a"
      },
      "execution_count": 65,
      "outputs": [
        {
          "output_type": "execute_result",
          "data": {
            "text/plain": [
              "  Weight Element                                           Molecule BasisSet  \\\n",
              "0      6       C  \\n      C\\t0.0000000\\t0.0000000\\t0.6210880\\n  ...  cc-pVQZ   \n",
              "\n",
              "  Spin       CCSD      CCSDT  DFT-b3lyp  DFT-M06-2X   DFT-SCAN  ...  \\\n",
              "0    0 -75.818767 -75.855232 -75.868334  -75.875962 -75.870904  ...   \n",
              "\n",
              "   M-DFT-M06-2X  M-DFT-SCAN  M-DFT-wB97X-V  M-DFT-PW6B95  M-DFT-pbe  \\\n",
              "0       0.02073    0.015672       0.066362      0.154618   0.131925   \n",
              "\n",
              "   M-DFT-pbe0  M-NN-Functional.DM21  M-NN-Functional.DM21m  \\\n",
              "0    0.049879              0.067799               0.068714   \n",
              "\n",
              "   M-NN-Functional.DM21mc  M-NN-Functional.DM21mu  \n",
              "0                0.074317                0.072986  \n",
              "\n",
              "[1 rows x 40 columns]"
            ],
            "text/html": [
              "\n",
              "  <div id=\"df-b933f32f-1e21-4cbd-b524-a95ebd591917\">\n",
              "    <div class=\"colab-df-container\">\n",
              "      <div>\n",
              "<style scoped>\n",
              "    .dataframe tbody tr th:only-of-type {\n",
              "        vertical-align: middle;\n",
              "    }\n",
              "\n",
              "    .dataframe tbody tr th {\n",
              "        vertical-align: top;\n",
              "    }\n",
              "\n",
              "    .dataframe thead th {\n",
              "        text-align: right;\n",
              "    }\n",
              "</style>\n",
              "<table border=\"1\" class=\"dataframe\">\n",
              "  <thead>\n",
              "    <tr style=\"text-align: right;\">\n",
              "      <th></th>\n",
              "      <th>Weight</th>\n",
              "      <th>Element</th>\n",
              "      <th>Molecule</th>\n",
              "      <th>BasisSet</th>\n",
              "      <th>Spin</th>\n",
              "      <th>CCSD</th>\n",
              "      <th>CCSDT</th>\n",
              "      <th>DFT-b3lyp</th>\n",
              "      <th>DFT-M06-2X</th>\n",
              "      <th>DFT-SCAN</th>\n",
              "      <th>...</th>\n",
              "      <th>M-DFT-M06-2X</th>\n",
              "      <th>M-DFT-SCAN</th>\n",
              "      <th>M-DFT-wB97X-V</th>\n",
              "      <th>M-DFT-PW6B95</th>\n",
              "      <th>M-DFT-pbe</th>\n",
              "      <th>M-DFT-pbe0</th>\n",
              "      <th>M-NN-Functional.DM21</th>\n",
              "      <th>M-NN-Functional.DM21m</th>\n",
              "      <th>M-NN-Functional.DM21mc</th>\n",
              "      <th>M-NN-Functional.DM21mu</th>\n",
              "    </tr>\n",
              "  </thead>\n",
              "  <tbody>\n",
              "    <tr>\n",
              "      <th>0</th>\n",
              "      <td>6</td>\n",
              "      <td>C</td>\n",
              "      <td>\\n      C\\t0.0000000\\t0.0000000\\t0.6210880\\n  ...</td>\n",
              "      <td>cc-pVQZ</td>\n",
              "      <td>0</td>\n",
              "      <td>-75.818767</td>\n",
              "      <td>-75.855232</td>\n",
              "      <td>-75.868334</td>\n",
              "      <td>-75.875962</td>\n",
              "      <td>-75.870904</td>\n",
              "      <td>...</td>\n",
              "      <td>0.02073</td>\n",
              "      <td>0.015672</td>\n",
              "      <td>0.066362</td>\n",
              "      <td>0.154618</td>\n",
              "      <td>0.131925</td>\n",
              "      <td>0.049879</td>\n",
              "      <td>0.067799</td>\n",
              "      <td>0.068714</td>\n",
              "      <td>0.074317</td>\n",
              "      <td>0.072986</td>\n",
              "    </tr>\n",
              "  </tbody>\n",
              "</table>\n",
              "<p>1 rows × 40 columns</p>\n",
              "</div>\n",
              "      <button class=\"colab-df-convert\" onclick=\"convertToInteractive('df-b933f32f-1e21-4cbd-b524-a95ebd591917')\"\n",
              "              title=\"Convert this dataframe to an interactive table.\"\n",
              "              style=\"display:none;\">\n",
              "        \n",
              "  <svg xmlns=\"http://www.w3.org/2000/svg\" height=\"24px\"viewBox=\"0 0 24 24\"\n",
              "       width=\"24px\">\n",
              "    <path d=\"M0 0h24v24H0V0z\" fill=\"none\"/>\n",
              "    <path d=\"M18.56 5.44l.94 2.06.94-2.06 2.06-.94-2.06-.94-.94-2.06-.94 2.06-2.06.94zm-11 1L8.5 8.5l.94-2.06 2.06-.94-2.06-.94L8.5 2.5l-.94 2.06-2.06.94zm10 10l.94 2.06.94-2.06 2.06-.94-2.06-.94-.94-2.06-.94 2.06-2.06.94z\"/><path d=\"M17.41 7.96l-1.37-1.37c-.4-.4-.92-.59-1.43-.59-.52 0-1.04.2-1.43.59L10.3 9.45l-7.72 7.72c-.78.78-.78 2.05 0 2.83L4 21.41c.39.39.9.59 1.41.59.51 0 1.02-.2 1.41-.59l7.78-7.78 2.81-2.81c.8-.78.8-2.07 0-2.86zM5.41 20L4 18.59l7.72-7.72 1.47 1.35L5.41 20z\"/>\n",
              "  </svg>\n",
              "      </button>\n",
              "      \n",
              "  <style>\n",
              "    .colab-df-container {\n",
              "      display:flex;\n",
              "      flex-wrap:wrap;\n",
              "      gap: 12px;\n",
              "    }\n",
              "\n",
              "    .colab-df-convert {\n",
              "      background-color: #E8F0FE;\n",
              "      border: none;\n",
              "      border-radius: 50%;\n",
              "      cursor: pointer;\n",
              "      display: none;\n",
              "      fill: #1967D2;\n",
              "      height: 32px;\n",
              "      padding: 0 0 0 0;\n",
              "      width: 32px;\n",
              "    }\n",
              "\n",
              "    .colab-df-convert:hover {\n",
              "      background-color: #E2EBFA;\n",
              "      box-shadow: 0px 1px 2px rgba(60, 64, 67, 0.3), 0px 1px 3px 1px rgba(60, 64, 67, 0.15);\n",
              "      fill: #174EA6;\n",
              "    }\n",
              "\n",
              "    [theme=dark] .colab-df-convert {\n",
              "      background-color: #3B4455;\n",
              "      fill: #D2E3FC;\n",
              "    }\n",
              "\n",
              "    [theme=dark] .colab-df-convert:hover {\n",
              "      background-color: #434B5C;\n",
              "      box-shadow: 0px 1px 3px 1px rgba(0, 0, 0, 0.15);\n",
              "      filter: drop-shadow(0px 1px 2px rgba(0, 0, 0, 0.3));\n",
              "      fill: #FFFFFF;\n",
              "    }\n",
              "  </style>\n",
              "\n",
              "      <script>\n",
              "        const buttonEl =\n",
              "          document.querySelector('#df-b933f32f-1e21-4cbd-b524-a95ebd591917 button.colab-df-convert');\n",
              "        buttonEl.style.display =\n",
              "          google.colab.kernel.accessAllowed ? 'block' : 'none';\n",
              "\n",
              "        async function convertToInteractive(key) {\n",
              "          const element = document.querySelector('#df-b933f32f-1e21-4cbd-b524-a95ebd591917');\n",
              "          const dataTable =\n",
              "            await google.colab.kernel.invokeFunction('convertToInteractive',\n",
              "                                                     [key], {});\n",
              "          if (!dataTable) return;\n",
              "\n",
              "          const docLinkHtml = 'Like what you see? Visit the ' +\n",
              "            '<a target=\"_blank\" href=https://colab.research.google.com/notebooks/data_table.ipynb>data table notebook</a>'\n",
              "            + ' to learn more about interactive tables.';\n",
              "          element.innerHTML = '';\n",
              "          dataTable['output_type'] = 'display_data';\n",
              "          await google.colab.output.renderOutput(dataTable, element);\n",
              "          const docLink = document.createElement('div');\n",
              "          docLink.innerHTML = docLinkHtml;\n",
              "          element.appendChild(docLink);\n",
              "        }\n",
              "      </script>\n",
              "    </div>\n",
              "  </div>\n",
              "  "
            ]
          },
          "metadata": {},
          "execution_count": 65
        }
      ]
    },
    {
      "cell_type": "code",
      "source": [
        "df.to_csv('/content/drive/My Drive/DeepMind' + EXPNO+ 'CE-Final-.csv' )\n"
      ],
      "metadata": {
        "id": "wbLP9OLHksHO"
      },
      "execution_count": 66,
      "outputs": []
    },
    {
      "cell_type": "code",
      "source": [
        "dfcopy\n",
        "\n",
        "\n",
        "for afunctionals in functionalsList:\n",
        "  print(str(afunctionals))\n",
        "  dfcopy['M-'+'DFT-'+str(afunctionals)] =   abs  (dfcopy['DFT-'+str(afunctionals) ] - dfcopy['CCSDT_G']  ) \n",
        "  "
      ],
      "metadata": {
        "id": "LaFj1DcW160O",
        "colab": {
          "base_uri": "https://localhost:8080/"
        },
        "outputId": "b6af9b86-00a7-44ba-d69b-2c70b1f70c59"
      },
      "execution_count": 67,
      "outputs": [
        {
          "output_type": "stream",
          "name": "stdout",
          "text": [
            "b3lyp\n",
            "M06-2X\n",
            "SCAN\n",
            "wB97X-V\n",
            "PW6B95\n",
            "pbe\n",
            "pbe0\n"
          ]
        }
      ]
    },
    {
      "cell_type": "code",
      "source": [
        "for aDMFunctionalvalue in list(dm21.Functional):\n",
        "  print(str(aDMFunctionalvalue))\n",
        "  dfcopy['M-'+'NN-'+str(aDMFunctionalvalue)] = abs  (dfcopy['NN-'+str(aDMFunctionalvalue) ] - dfcopy['CCSDT_G']  ) \n"
      ],
      "metadata": {
        "id": "STIRU5OL2HMp",
        "colab": {
          "base_uri": "https://localhost:8080/"
        },
        "outputId": "7ffd781a-fe72-408d-d688-0766dcc1a961"
      },
      "execution_count": 68,
      "outputs": [
        {
          "output_type": "stream",
          "name": "stdout",
          "text": [
            "Functional.DM21\n",
            "Functional.DM21m\n",
            "Functional.DM21mc\n",
            "Functional.DM21mu\n"
          ]
        }
      ]
    },
    {
      "cell_type": "code",
      "source": [
        "dfcopy"
      ],
      "metadata": {
        "id": "b6icB_GN3_8M",
        "colab": {
          "base_uri": "https://localhost:8080/",
          "height": 226
        },
        "outputId": "0b027ce9-7094-452e-a2a7-3f09f6c00db4"
      },
      "execution_count": 69,
      "outputs": [
        {
          "output_type": "execute_result",
          "data": {
            "text/plain": [
              "  Weight Element                                           Molecule BasisSet  \\\n",
              "0      6       C  \\n      C\\t0.0000000\\t0.0000000\\t0.6210880\\n  ...  cc-pVQZ   \n",
              "\n",
              "  Spin       CCSD      CCSDT  DFT-b3lyp  DFT-M06-2X   DFT-SCAN  ...  \\\n",
              "0    0 -75.818767 -75.855232 -75.868334  -75.875962 -75.870904  ...   \n",
              "\n",
              "   M-DFT-M06-2X  M-DFT-SCAN  M-DFT-wB97X-V  M-DFT-PW6B95  M-DFT-pbe  \\\n",
              "0       0.02073    0.015672       0.066362      0.154618   0.131925   \n",
              "\n",
              "   M-DFT-pbe0  M-NN-Functional.DM21  M-NN-Functional.DM21m  \\\n",
              "0    0.049879              0.067799               0.068714   \n",
              "\n",
              "   M-NN-Functional.DM21mc  M-NN-Functional.DM21mu  \n",
              "0                0.074317                0.072986  \n",
              "\n",
              "[1 rows x 30 columns]"
            ],
            "text/html": [
              "\n",
              "  <div id=\"df-7241d1cd-71bb-4737-a359-f0ccf80fa20e\">\n",
              "    <div class=\"colab-df-container\">\n",
              "      <div>\n",
              "<style scoped>\n",
              "    .dataframe tbody tr th:only-of-type {\n",
              "        vertical-align: middle;\n",
              "    }\n",
              "\n",
              "    .dataframe tbody tr th {\n",
              "        vertical-align: top;\n",
              "    }\n",
              "\n",
              "    .dataframe thead th {\n",
              "        text-align: right;\n",
              "    }\n",
              "</style>\n",
              "<table border=\"1\" class=\"dataframe\">\n",
              "  <thead>\n",
              "    <tr style=\"text-align: right;\">\n",
              "      <th></th>\n",
              "      <th>Weight</th>\n",
              "      <th>Element</th>\n",
              "      <th>Molecule</th>\n",
              "      <th>BasisSet</th>\n",
              "      <th>Spin</th>\n",
              "      <th>CCSD</th>\n",
              "      <th>CCSDT</th>\n",
              "      <th>DFT-b3lyp</th>\n",
              "      <th>DFT-M06-2X</th>\n",
              "      <th>DFT-SCAN</th>\n",
              "      <th>...</th>\n",
              "      <th>M-DFT-M06-2X</th>\n",
              "      <th>M-DFT-SCAN</th>\n",
              "      <th>M-DFT-wB97X-V</th>\n",
              "      <th>M-DFT-PW6B95</th>\n",
              "      <th>M-DFT-pbe</th>\n",
              "      <th>M-DFT-pbe0</th>\n",
              "      <th>M-NN-Functional.DM21</th>\n",
              "      <th>M-NN-Functional.DM21m</th>\n",
              "      <th>M-NN-Functional.DM21mc</th>\n",
              "      <th>M-NN-Functional.DM21mu</th>\n",
              "    </tr>\n",
              "  </thead>\n",
              "  <tbody>\n",
              "    <tr>\n",
              "      <th>0</th>\n",
              "      <td>6</td>\n",
              "      <td>C</td>\n",
              "      <td>\\n      C\\t0.0000000\\t0.0000000\\t0.6210880\\n  ...</td>\n",
              "      <td>cc-pVQZ</td>\n",
              "      <td>0</td>\n",
              "      <td>-75.818767</td>\n",
              "      <td>-75.855232</td>\n",
              "      <td>-75.868334</td>\n",
              "      <td>-75.875962</td>\n",
              "      <td>-75.870904</td>\n",
              "      <td>...</td>\n",
              "      <td>0.02073</td>\n",
              "      <td>0.015672</td>\n",
              "      <td>0.066362</td>\n",
              "      <td>0.154618</td>\n",
              "      <td>0.131925</td>\n",
              "      <td>0.049879</td>\n",
              "      <td>0.067799</td>\n",
              "      <td>0.068714</td>\n",
              "      <td>0.074317</td>\n",
              "      <td>0.072986</td>\n",
              "    </tr>\n",
              "  </tbody>\n",
              "</table>\n",
              "<p>1 rows × 30 columns</p>\n",
              "</div>\n",
              "      <button class=\"colab-df-convert\" onclick=\"convertToInteractive('df-7241d1cd-71bb-4737-a359-f0ccf80fa20e')\"\n",
              "              title=\"Convert this dataframe to an interactive table.\"\n",
              "              style=\"display:none;\">\n",
              "        \n",
              "  <svg xmlns=\"http://www.w3.org/2000/svg\" height=\"24px\"viewBox=\"0 0 24 24\"\n",
              "       width=\"24px\">\n",
              "    <path d=\"M0 0h24v24H0V0z\" fill=\"none\"/>\n",
              "    <path d=\"M18.56 5.44l.94 2.06.94-2.06 2.06-.94-2.06-.94-.94-2.06-.94 2.06-2.06.94zm-11 1L8.5 8.5l.94-2.06 2.06-.94-2.06-.94L8.5 2.5l-.94 2.06-2.06.94zm10 10l.94 2.06.94-2.06 2.06-.94-2.06-.94-.94-2.06-.94 2.06-2.06.94z\"/><path d=\"M17.41 7.96l-1.37-1.37c-.4-.4-.92-.59-1.43-.59-.52 0-1.04.2-1.43.59L10.3 9.45l-7.72 7.72c-.78.78-.78 2.05 0 2.83L4 21.41c.39.39.9.59 1.41.59.51 0 1.02-.2 1.41-.59l7.78-7.78 2.81-2.81c.8-.78.8-2.07 0-2.86zM5.41 20L4 18.59l7.72-7.72 1.47 1.35L5.41 20z\"/>\n",
              "  </svg>\n",
              "      </button>\n",
              "      \n",
              "  <style>\n",
              "    .colab-df-container {\n",
              "      display:flex;\n",
              "      flex-wrap:wrap;\n",
              "      gap: 12px;\n",
              "    }\n",
              "\n",
              "    .colab-df-convert {\n",
              "      background-color: #E8F0FE;\n",
              "      border: none;\n",
              "      border-radius: 50%;\n",
              "      cursor: pointer;\n",
              "      display: none;\n",
              "      fill: #1967D2;\n",
              "      height: 32px;\n",
              "      padding: 0 0 0 0;\n",
              "      width: 32px;\n",
              "    }\n",
              "\n",
              "    .colab-df-convert:hover {\n",
              "      background-color: #E2EBFA;\n",
              "      box-shadow: 0px 1px 2px rgba(60, 64, 67, 0.3), 0px 1px 3px 1px rgba(60, 64, 67, 0.15);\n",
              "      fill: #174EA6;\n",
              "    }\n",
              "\n",
              "    [theme=dark] .colab-df-convert {\n",
              "      background-color: #3B4455;\n",
              "      fill: #D2E3FC;\n",
              "    }\n",
              "\n",
              "    [theme=dark] .colab-df-convert:hover {\n",
              "      background-color: #434B5C;\n",
              "      box-shadow: 0px 1px 3px 1px rgba(0, 0, 0, 0.15);\n",
              "      filter: drop-shadow(0px 1px 2px rgba(0, 0, 0, 0.3));\n",
              "      fill: #FFFFFF;\n",
              "    }\n",
              "  </style>\n",
              "\n",
              "      <script>\n",
              "        const buttonEl =\n",
              "          document.querySelector('#df-7241d1cd-71bb-4737-a359-f0ccf80fa20e button.colab-df-convert');\n",
              "        buttonEl.style.display =\n",
              "          google.colab.kernel.accessAllowed ? 'block' : 'none';\n",
              "\n",
              "        async function convertToInteractive(key) {\n",
              "          const element = document.querySelector('#df-7241d1cd-71bb-4737-a359-f0ccf80fa20e');\n",
              "          const dataTable =\n",
              "            await google.colab.kernel.invokeFunction('convertToInteractive',\n",
              "                                                     [key], {});\n",
              "          if (!dataTable) return;\n",
              "\n",
              "          const docLinkHtml = 'Like what you see? Visit the ' +\n",
              "            '<a target=\"_blank\" href=https://colab.research.google.com/notebooks/data_table.ipynb>data table notebook</a>'\n",
              "            + ' to learn more about interactive tables.';\n",
              "          element.innerHTML = '';\n",
              "          dataTable['output_type'] = 'display_data';\n",
              "          await google.colab.output.renderOutput(dataTable, element);\n",
              "          const docLink = document.createElement('div');\n",
              "          docLink.innerHTML = docLinkHtml;\n",
              "          element.appendChild(docLink);\n",
              "        }\n",
              "      </script>\n",
              "    </div>\n",
              "  </div>\n",
              "  "
            ]
          },
          "metadata": {},
          "execution_count": 69
        }
      ]
    },
    {
      "cell_type": "code",
      "source": [
        "dfcopy.to_csv('/content/drive/My Drive/DeepMind_' + EXPNO+ '_Gold_Final-.csv' )\n"
      ],
      "metadata": {
        "id": "h5iwEdT72Rvv"
      },
      "execution_count": 70,
      "outputs": []
    },
    {
      "cell_type": "code",
      "source": [
        ""
      ],
      "metadata": {
        "id": "Kxt-D0Drdsl5"
      },
      "execution_count": 70,
      "outputs": []
    },
    {
      "cell_type": "markdown",
      "source": [
        "\n",
        "\n",
        "\n",
        "Bechnmark dataset , Use this to generate multiple papers (already the water dataset is published with DM21, but there is scope for other datasets .. THen you can take new molecules)\n",
        "http://www.begdb.org/index.php\n",
        "\n",
        "https://cccbdb.nist.gov/coreenergy3x.asp?casno=1333740&charge=0&method=63&basis=25\n",
        "\n",
        "pyscf tutorial \n",
        "https://github.com/nmardirossian/PySCF_Tutorial/blob/master/dev_guide.ipynb\n",
        "\n",
        "visuvalize cube geen\n",
        "\n",
        "https://programtalk.com/vs2/?source=python/12572/pyscf/tools/cubegen.py\n",
        "https://www.youtube.com/watch?v=QGyfGCZT110\n",
        "https://github.com/topics/molecule-viewer\n",
        "\n",
        "\n",
        "geomtery optimization\n",
        "https://colab.research.google.com/drive/1apQANgcMv9_waE4av47NJkxxlglklZy3?usp=sharing \n",
        "\n",
        "https://www.nature.com/articles/s41598-017-12600-3\n",
        "https://aip.scitation.org/doi/full/10.1063/5.0004863\n",
        "https://www.researchgate.net/figure/Outline-of-the-FLO-SIC-method-in-the-so-called-self-consistent-mode-The-SIC-is_fig5_340950498\n",
        "\n",
        "\n",
        "Quantam ML\n",
        "https://pennylane.ai/qml/demos_qml.html"
      ],
      "metadata": {
        "id": "7Xl7kKbOduHJ"
      }
    },
    {
      "cell_type": "code",
      "source": [
        ""
      ],
      "metadata": {
        "id": "51lFNJYxeic2"
      },
      "execution_count": 70,
      "outputs": []
    },
    {
      "cell_type": "code",
      "source": [
        " "
      ],
      "metadata": {
        "id": "DL6yJhRxeiZQ"
      },
      "execution_count": 70,
      "outputs": []
    },
    {
      "cell_type": "markdown",
      "source": [
        "#### The table will be automatically downloaded into your laptop as CSV file (excel sheet)"
      ],
      "metadata": {
        "id": "gvdwtTzYEh7n"
      }
    },
    {
      "cell_type": "code",
      "source": [
        "import seaborn as sns\n",
        " \n",
        " "
      ],
      "metadata": {
        "id": "tnnjwLprRonP"
      },
      "execution_count": 71,
      "outputs": []
    },
    {
      "cell_type": "code",
      "source": [
        "listofcolumstoplot = ['BasisSet']\n",
        "for aDMFunctionalvalue in list(dm21.Functional):\n",
        "  colname = 'M-'+'NN-'+ str(aDMFunctionalvalue)\n",
        "  listofcolumstoplot.append(colname)\n",
        "\n",
        "\n",
        "for afunctionals in functionalsList:\n",
        "  colname = 'M-'+'DFT-'+str(afunctionals)\n",
        "  listofcolumstoplot.append(colname)\n",
        "\n",
        "\n",
        "listofcolumstoplot"
      ],
      "metadata": {
        "colab": {
          "base_uri": "https://localhost:8080/"
        },
        "id": "DBhtS_0_SZTS",
        "outputId": "7bb08267-be4f-4597-f955-82e8af232fdb"
      },
      "execution_count": 72,
      "outputs": [
        {
          "output_type": "execute_result",
          "data": {
            "text/plain": [
              "['BasisSet',\n",
              " 'M-NN-Functional.DM21',\n",
              " 'M-NN-Functional.DM21m',\n",
              " 'M-NN-Functional.DM21mc',\n",
              " 'M-NN-Functional.DM21mu',\n",
              " 'M-DFT-b3lyp',\n",
              " 'M-DFT-M06-2X',\n",
              " 'M-DFT-SCAN',\n",
              " 'M-DFT-wB97X-V',\n",
              " 'M-DFT-PW6B95',\n",
              " 'M-DFT-pbe',\n",
              " 'M-DFT-pbe0']"
            ]
          },
          "metadata": {},
          "execution_count": 72
        }
      ]
    },
    {
      "cell_type": "code",
      "source": [
        "dfplot = dfcopy[listofcolumstoplot]\n",
        "\n",
        "dfplot"
      ],
      "metadata": {
        "colab": {
          "base_uri": "https://localhost:8080/",
          "height": 81
        },
        "id": "pjSC36dnRxxB",
        "outputId": "73ee9abf-52e0-49d4-e89b-ec997bc4d9ff"
      },
      "execution_count": 73,
      "outputs": [
        {
          "output_type": "execute_result",
          "data": {
            "text/plain": [
              "  BasisSet  M-NN-Functional.DM21  M-NN-Functional.DM21m  \\\n",
              "0  cc-pVQZ              0.067799               0.068714   \n",
              "\n",
              "   M-NN-Functional.DM21mc  M-NN-Functional.DM21mu  M-DFT-b3lyp  M-DFT-M06-2X  \\\n",
              "0                0.074317                0.072986     0.013102       0.02073   \n",
              "\n",
              "   M-DFT-SCAN  M-DFT-wB97X-V  M-DFT-PW6B95  M-DFT-pbe  M-DFT-pbe0  \n",
              "0    0.015672       0.066362      0.154618   0.131925    0.049879  "
            ],
            "text/html": [
              "\n",
              "  <div id=\"df-8455fef1-12ff-4cc8-afb6-6c59d05b0f33\">\n",
              "    <div class=\"colab-df-container\">\n",
              "      <div>\n",
              "<style scoped>\n",
              "    .dataframe tbody tr th:only-of-type {\n",
              "        vertical-align: middle;\n",
              "    }\n",
              "\n",
              "    .dataframe tbody tr th {\n",
              "        vertical-align: top;\n",
              "    }\n",
              "\n",
              "    .dataframe thead th {\n",
              "        text-align: right;\n",
              "    }\n",
              "</style>\n",
              "<table border=\"1\" class=\"dataframe\">\n",
              "  <thead>\n",
              "    <tr style=\"text-align: right;\">\n",
              "      <th></th>\n",
              "      <th>BasisSet</th>\n",
              "      <th>M-NN-Functional.DM21</th>\n",
              "      <th>M-NN-Functional.DM21m</th>\n",
              "      <th>M-NN-Functional.DM21mc</th>\n",
              "      <th>M-NN-Functional.DM21mu</th>\n",
              "      <th>M-DFT-b3lyp</th>\n",
              "      <th>M-DFT-M06-2X</th>\n",
              "      <th>M-DFT-SCAN</th>\n",
              "      <th>M-DFT-wB97X-V</th>\n",
              "      <th>M-DFT-PW6B95</th>\n",
              "      <th>M-DFT-pbe</th>\n",
              "      <th>M-DFT-pbe0</th>\n",
              "    </tr>\n",
              "  </thead>\n",
              "  <tbody>\n",
              "    <tr>\n",
              "      <th>0</th>\n",
              "      <td>cc-pVQZ</td>\n",
              "      <td>0.067799</td>\n",
              "      <td>0.068714</td>\n",
              "      <td>0.074317</td>\n",
              "      <td>0.072986</td>\n",
              "      <td>0.013102</td>\n",
              "      <td>0.02073</td>\n",
              "      <td>0.015672</td>\n",
              "      <td>0.066362</td>\n",
              "      <td>0.154618</td>\n",
              "      <td>0.131925</td>\n",
              "      <td>0.049879</td>\n",
              "    </tr>\n",
              "  </tbody>\n",
              "</table>\n",
              "</div>\n",
              "      <button class=\"colab-df-convert\" onclick=\"convertToInteractive('df-8455fef1-12ff-4cc8-afb6-6c59d05b0f33')\"\n",
              "              title=\"Convert this dataframe to an interactive table.\"\n",
              "              style=\"display:none;\">\n",
              "        \n",
              "  <svg xmlns=\"http://www.w3.org/2000/svg\" height=\"24px\"viewBox=\"0 0 24 24\"\n",
              "       width=\"24px\">\n",
              "    <path d=\"M0 0h24v24H0V0z\" fill=\"none\"/>\n",
              "    <path d=\"M18.56 5.44l.94 2.06.94-2.06 2.06-.94-2.06-.94-.94-2.06-.94 2.06-2.06.94zm-11 1L8.5 8.5l.94-2.06 2.06-.94-2.06-.94L8.5 2.5l-.94 2.06-2.06.94zm10 10l.94 2.06.94-2.06 2.06-.94-2.06-.94-.94-2.06-.94 2.06-2.06.94z\"/><path d=\"M17.41 7.96l-1.37-1.37c-.4-.4-.92-.59-1.43-.59-.52 0-1.04.2-1.43.59L10.3 9.45l-7.72 7.72c-.78.78-.78 2.05 0 2.83L4 21.41c.39.39.9.59 1.41.59.51 0 1.02-.2 1.41-.59l7.78-7.78 2.81-2.81c.8-.78.8-2.07 0-2.86zM5.41 20L4 18.59l7.72-7.72 1.47 1.35L5.41 20z\"/>\n",
              "  </svg>\n",
              "      </button>\n",
              "      \n",
              "  <style>\n",
              "    .colab-df-container {\n",
              "      display:flex;\n",
              "      flex-wrap:wrap;\n",
              "      gap: 12px;\n",
              "    }\n",
              "\n",
              "    .colab-df-convert {\n",
              "      background-color: #E8F0FE;\n",
              "      border: none;\n",
              "      border-radius: 50%;\n",
              "      cursor: pointer;\n",
              "      display: none;\n",
              "      fill: #1967D2;\n",
              "      height: 32px;\n",
              "      padding: 0 0 0 0;\n",
              "      width: 32px;\n",
              "    }\n",
              "\n",
              "    .colab-df-convert:hover {\n",
              "      background-color: #E2EBFA;\n",
              "      box-shadow: 0px 1px 2px rgba(60, 64, 67, 0.3), 0px 1px 3px 1px rgba(60, 64, 67, 0.15);\n",
              "      fill: #174EA6;\n",
              "    }\n",
              "\n",
              "    [theme=dark] .colab-df-convert {\n",
              "      background-color: #3B4455;\n",
              "      fill: #D2E3FC;\n",
              "    }\n",
              "\n",
              "    [theme=dark] .colab-df-convert:hover {\n",
              "      background-color: #434B5C;\n",
              "      box-shadow: 0px 1px 3px 1px rgba(0, 0, 0, 0.15);\n",
              "      filter: drop-shadow(0px 1px 2px rgba(0, 0, 0, 0.3));\n",
              "      fill: #FFFFFF;\n",
              "    }\n",
              "  </style>\n",
              "\n",
              "      <script>\n",
              "        const buttonEl =\n",
              "          document.querySelector('#df-8455fef1-12ff-4cc8-afb6-6c59d05b0f33 button.colab-df-convert');\n",
              "        buttonEl.style.display =\n",
              "          google.colab.kernel.accessAllowed ? 'block' : 'none';\n",
              "\n",
              "        async function convertToInteractive(key) {\n",
              "          const element = document.querySelector('#df-8455fef1-12ff-4cc8-afb6-6c59d05b0f33');\n",
              "          const dataTable =\n",
              "            await google.colab.kernel.invokeFunction('convertToInteractive',\n",
              "                                                     [key], {});\n",
              "          if (!dataTable) return;\n",
              "\n",
              "          const docLinkHtml = 'Like what you see? Visit the ' +\n",
              "            '<a target=\"_blank\" href=https://colab.research.google.com/notebooks/data_table.ipynb>data table notebook</a>'\n",
              "            + ' to learn more about interactive tables.';\n",
              "          element.innerHTML = '';\n",
              "          dataTable['output_type'] = 'display_data';\n",
              "          await google.colab.output.renderOutput(dataTable, element);\n",
              "          const docLink = document.createElement('div');\n",
              "          docLink.innerHTML = docLinkHtml;\n",
              "          element.appendChild(docLink);\n",
              "        }\n",
              "      </script>\n",
              "    </div>\n",
              "  </div>\n",
              "  "
            ]
          },
          "metadata": {},
          "execution_count": 73
        }
      ]
    },
    {
      "cell_type": "code",
      "source": [
        "len(dfplot)"
      ],
      "metadata": {
        "colab": {
          "base_uri": "https://localhost:8080/"
        },
        "id": "swktginEowpg",
        "outputId": "1b159a30-7896-49a7-d617-4630cff40c9d"
      },
      "execution_count": 74,
      "outputs": [
        {
          "output_type": "execute_result",
          "data": {
            "text/plain": [
              "1"
            ]
          },
          "metadata": {},
          "execution_count": 74
        }
      ]
    },
    {
      "cell_type": "code",
      "source": [
        "from matplotlib import pyplot\n",
        "import seaborn\n",
        "\n",
        "def aplot(dfplot):\n",
        "  sns.set_style(\"white\")\n",
        "  sns.set_style(\"whitegrid\")\n",
        "\n",
        "\n",
        "\n",
        "  #sns.color_palette(\"hls\", 4)\n",
        "  sns.color_palette(\"Paired\")\n",
        "\n",
        "\n",
        "  chartsize = (18.7, 8.27)\n",
        "\n",
        "  fig, ax = pyplot.subplots(figsize=chartsize)\n",
        "  sns.color_palette(\"Paired\")\n",
        "\n",
        "  sns.set(font_scale=2)\n",
        "  sns.axes_style()\n",
        "\n",
        "  sns.set_style(\"darkgrid\", {\"axes.facecolor\": \".3\"})\n",
        "\n",
        "  sns.barplot( orient='h' ,    data=dfplot)\n",
        "\n",
        "\n"
      ],
      "metadata": {
        "id": "KWvCA_bRV5vf"
      },
      "execution_count": 75,
      "outputs": []
    },
    {
      "cell_type": "code",
      "source": [
        "from matplotlib import pyplot\n",
        "import seaborn\n",
        "\n",
        "sns.set_style(\"white\")\n",
        "sns.set_style(\"whitegrid\")\n",
        "\n",
        "\n",
        "\n",
        "#sns.color_palette(\"hls\", 4)\n",
        "sns.color_palette(\"viridis\", as_cmap=True)\n",
        "sns.color_palette(\"Paired\")\n",
        "\n",
        "\n",
        "chartsize = (18.7, 8.27)\n",
        "\n",
        "fig, ax = pyplot.subplots(figsize=chartsize)\n",
        "sns.set(font_scale=2)\n",
        "sns.axes_style()\n",
        "\n",
        "sns.set_style(\"darkgrid\", {\"axes.facecolor\": \".3\"})\n",
        "\n",
        "#sns.barplot( orient='h' ,    data=dfplot)\n"
      ],
      "metadata": {
        "colab": {
          "base_uri": "https://localhost:8080/",
          "height": 501
        },
        "id": "bn1kymgctSlR",
        "outputId": "6df9c8f1-0610-4581-aa89-b4a578a5d075"
      },
      "execution_count": 76,
      "outputs": [
        {
          "output_type": "display_data",
          "data": {
            "text/plain": [
              "<Figure size 1346.4x595.44 with 1 Axes>"
            ],
            "image/png": "[encoded data removed]"
          },
          "metadata": {}
        }
      ]
    },
    {
      "cell_type": "code",
      "source": [
        "aplot(dfplot[0:1])"
      ],
      "metadata": {
        "colab": {
          "base_uri": "https://localhost:8080/",
          "height": 510
        },
        "id": "YbVM7m2XqEMM",
        "outputId": "2446a17c-8b98-49bd-fbe4-29519bf29ce2"
      },
      "execution_count": 77,
      "outputs": [
        {
          "output_type": "display_data",
          "data": {
            "text/plain": [
              "<Figure size 1346.4x595.44 with 1 Axes>"
            ],
            "image/png": "[encoded data removed]"
          },
          "metadata": {}
        }
      ]
    },
    {
      "cell_type": "code",
      "source": [
        "aplot(dfplot[1:2])"
      ],
      "metadata": {
        "colab": {
          "base_uri": "https://localhost:8080/",
          "height": 510
        },
        "id": "vO4GShFCqGe8",
        "outputId": "ded44a58-464c-4663-a93d-7859b427db5e"
      },
      "execution_count": 78,
      "outputs": [
        {
          "output_type": "display_data",
          "data": {
            "text/plain": [
              "<Figure size 1346.4x595.44 with 1 Axes>"
            ],
            "image/png": "[encoded data removed]"
          },
          "metadata": {}
        }
      ]
    },
    {
      "cell_type": "code",
      "source": [
        "listofcolumstoplot2 = ['BasisSet' , 'CCSD',\t'CCSDT'\t, 'CCSDT_G']\n",
        "for aDMFunctionalvalue in list(dm21.Functional):\n",
        "  colname = 'NN-'+ str(aDMFunctionalvalue)\n",
        "  listofcolumstoplot2.append(colname)\n",
        "\n",
        "\n",
        "for afunctionals in functionalsList:\n",
        "  colname = 'DFT-'+str(afunctionals)\n",
        "  listofcolumstoplot2.append(colname)\n",
        "\n",
        "\n",
        "listofcolumstoplot2"
      ],
      "metadata": {
        "colab": {
          "base_uri": "https://localhost:8080/"
        },
        "id": "LshCgZ1FaTik",
        "outputId": "a84b40cf-44e8-4643-fa7a-22153d11f13a"
      },
      "execution_count": 79,
      "outputs": [
        {
          "output_type": "execute_result",
          "data": {
            "text/plain": [
              "['BasisSet',\n",
              " 'CCSD',\n",
              " 'CCSDT',\n",
              " 'CCSDT_G',\n",
              " 'NN-Functional.DM21',\n",
              " 'NN-Functional.DM21m',\n",
              " 'NN-Functional.DM21mc',\n",
              " 'NN-Functional.DM21mu',\n",
              " 'DFT-b3lyp',\n",
              " 'DFT-M06-2X',\n",
              " 'DFT-SCAN',\n",
              " 'DFT-wB97X-V',\n",
              " 'DFT-PW6B95',\n",
              " 'DFT-pbe',\n",
              " 'DFT-pbe0']"
            ]
          },
          "metadata": {},
          "execution_count": 79
        }
      ]
    },
    {
      "cell_type": "code",
      "source": [
        "dfplot2 = dfcopy[listofcolumstoplot2]\n",
        "dfplot2"
      ],
      "metadata": {
        "colab": {
          "base_uri": "https://localhost:8080/",
          "height": 125
        },
        "id": "HfRHWIz_acMf",
        "outputId": "77dd05f4-a055-440b-8f58-320c00ffa982"
      },
      "execution_count": 80,
      "outputs": [
        {
          "output_type": "execute_result",
          "data": {
            "text/plain": [
              "  BasisSet       CCSD      CCSDT    CCSDT_G  NN-Functional.DM21  \\\n",
              "0  cc-pVQZ -75.818767 -75.855232 -75.855232          -75.923031   \n",
              "\n",
              "   NN-Functional.DM21m  NN-Functional.DM21mc  NN-Functional.DM21mu  DFT-b3lyp  \\\n",
              "0           -75.923946            -75.929549            -75.928218 -75.868334   \n",
              "\n",
              "   DFT-M06-2X   DFT-SCAN  DFT-wB97X-V  DFT-PW6B95    DFT-pbe   DFT-pbe0  \n",
              "0  -75.875962 -75.870904   -75.921594  -76.009851 -75.723307 -75.805353  "
            ],
            "text/html": [
              "\n",
              "  <div id=\"df-9c9c22e7-6e89-45b4-8d5d-93cea5b7f9d0\">\n",
              "    <div class=\"colab-df-container\">\n",
              "      <div>\n",
              "<style scoped>\n",
              "    .dataframe tbody tr th:only-of-type {\n",
              "        vertical-align: middle;\n",
              "    }\n",
              "\n",
              "    .dataframe tbody tr th {\n",
              "        vertical-align: top;\n",
              "    }\n",
              "\n",
              "    .dataframe thead th {\n",
              "        text-align: right;\n",
              "    }\n",
              "</style>\n",
              "<table border=\"1\" class=\"dataframe\">\n",
              "  <thead>\n",
              "    <tr style=\"text-align: right;\">\n",
              "      <th></th>\n",
              "      <th>BasisSet</th>\n",
              "      <th>CCSD</th>\n",
              "      <th>CCSDT</th>\n",
              "      <th>CCSDT_G</th>\n",
              "      <th>NN-Functional.DM21</th>\n",
              "      <th>NN-Functional.DM21m</th>\n",
              "      <th>NN-Functional.DM21mc</th>\n",
              "      <th>NN-Functional.DM21mu</th>\n",
              "      <th>DFT-b3lyp</th>\n",
              "      <th>DFT-M06-2X</th>\n",
              "      <th>DFT-SCAN</th>\n",
              "      <th>DFT-wB97X-V</th>\n",
              "      <th>DFT-PW6B95</th>\n",
              "      <th>DFT-pbe</th>\n",
              "      <th>DFT-pbe0</th>\n",
              "    </tr>\n",
              "  </thead>\n",
              "  <tbody>\n",
              "    <tr>\n",
              "      <th>0</th>\n",
              "      <td>cc-pVQZ</td>\n",
              "      <td>-75.818767</td>\n",
              "      <td>-75.855232</td>\n",
              "      <td>-75.855232</td>\n",
              "      <td>-75.923031</td>\n",
              "      <td>-75.923946</td>\n",
              "      <td>-75.929549</td>\n",
              "      <td>-75.928218</td>\n",
              "      <td>-75.868334</td>\n",
              "      <td>-75.875962</td>\n",
              "      <td>-75.870904</td>\n",
              "      <td>-75.921594</td>\n",
              "      <td>-76.009851</td>\n",
              "      <td>-75.723307</td>\n",
              "      <td>-75.805353</td>\n",
              "    </tr>\n",
              "  </tbody>\n",
              "</table>\n",
              "</div>\n",
              "      <button class=\"colab-df-convert\" onclick=\"convertToInteractive('df-9c9c22e7-6e89-45b4-8d5d-93cea5b7f9d0')\"\n",
              "              title=\"Convert this dataframe to an interactive table.\"\n",
              "              style=\"display:none;\">\n",
              "        \n",
              "  <svg xmlns=\"http://www.w3.org/2000/svg\" height=\"24px\"viewBox=\"0 0 24 24\"\n",
              "       width=\"24px\">\n",
              "    <path d=\"M0 0h24v24H0V0z\" fill=\"none\"/>\n",
              "    <path d=\"M18.56 5.44l.94 2.06.94-2.06 2.06-.94-2.06-.94-.94-2.06-.94 2.06-2.06.94zm-11 1L8.5 8.5l.94-2.06 2.06-.94-2.06-.94L8.5 2.5l-.94 2.06-2.06.94zm10 10l.94 2.06.94-2.06 2.06-.94-2.06-.94-.94-2.06-.94 2.06-2.06.94z\"/><path d=\"M17.41 7.96l-1.37-1.37c-.4-.4-.92-.59-1.43-.59-.52 0-1.04.2-1.43.59L10.3 9.45l-7.72 7.72c-.78.78-.78 2.05 0 2.83L4 21.41c.39.39.9.59 1.41.59.51 0 1.02-.2 1.41-.59l7.78-7.78 2.81-2.81c.8-.78.8-2.07 0-2.86zM5.41 20L4 18.59l7.72-7.72 1.47 1.35L5.41 20z\"/>\n",
              "  </svg>\n",
              "      </button>\n",
              "      \n",
              "  <style>\n",
              "    .colab-df-container {\n",
              "      display:flex;\n",
              "      flex-wrap:wrap;\n",
              "      gap: 12px;\n",
              "    }\n",
              "\n",
              "    .colab-df-convert {\n",
              "      background-color: #E8F0FE;\n",
              "      border: none;\n",
              "      border-radius: 50%;\n",
              "      cursor: pointer;\n",
              "      display: none;\n",
              "      fill: #1967D2;\n",
              "      height: 32px;\n",
              "      padding: 0 0 0 0;\n",
              "      width: 32px;\n",
              "    }\n",
              "\n",
              "    .colab-df-convert:hover {\n",
              "      background-color: #E2EBFA;\n",
              "      box-shadow: 0px 1px 2px rgba(60, 64, 67, 0.3), 0px 1px 3px 1px rgba(60, 64, 67, 0.15);\n",
              "      fill: #174EA6;\n",
              "    }\n",
              "\n",
              "    [theme=dark] .colab-df-convert {\n",
              "      background-color: #3B4455;\n",
              "      fill: #D2E3FC;\n",
              "    }\n",
              "\n",
              "    [theme=dark] .colab-df-convert:hover {\n",
              "      background-color: #434B5C;\n",
              "      box-shadow: 0px 1px 3px 1px rgba(0, 0, 0, 0.15);\n",
              "      filter: drop-shadow(0px 1px 2px rgba(0, 0, 0, 0.3));\n",
              "      fill: #FFFFFF;\n",
              "    }\n",
              "  </style>\n",
              "\n",
              "      <script>\n",
              "        const buttonEl =\n",
              "          document.querySelector('#df-9c9c22e7-6e89-45b4-8d5d-93cea5b7f9d0 button.colab-df-convert');\n",
              "        buttonEl.style.display =\n",
              "          google.colab.kernel.accessAllowed ? 'block' : 'none';\n",
              "\n",
              "        async function convertToInteractive(key) {\n",
              "          const element = document.querySelector('#df-9c9c22e7-6e89-45b4-8d5d-93cea5b7f9d0');\n",
              "          const dataTable =\n",
              "            await google.colab.kernel.invokeFunction('convertToInteractive',\n",
              "                                                     [key], {});\n",
              "          if (!dataTable) return;\n",
              "\n",
              "          const docLinkHtml = 'Like what you see? Visit the ' +\n",
              "            '<a target=\"_blank\" href=https://colab.research.google.com/notebooks/data_table.ipynb>data table notebook</a>'\n",
              "            + ' to learn more about interactive tables.';\n",
              "          element.innerHTML = '';\n",
              "          dataTable['output_type'] = 'display_data';\n",
              "          await google.colab.output.renderOutput(dataTable, element);\n",
              "          const docLink = document.createElement('div');\n",
              "          docLink.innerHTML = docLinkHtml;\n",
              "          element.appendChild(docLink);\n",
              "        }\n",
              "      </script>\n",
              "    </div>\n",
              "  </div>\n",
              "  "
            ]
          },
          "metadata": {},
          "execution_count": 80
        }
      ]
    },
    {
      "cell_type": "code",
      "source": [
        ""
      ],
      "metadata": {
        "id": "bKZ6jA-mc1HK"
      },
      "execution_count": null,
      "outputs": []
    },
    {
      "cell_type": "code",
      "source": [
        "dfplot2"
      ],
      "metadata": {
        "colab": {
          "base_uri": "https://localhost:8080/",
          "height": 125
        },
        "id": "XvAsGCb_c1OZ",
        "outputId": "7b8642d0-28ea-4983-c182-7b5c78451eac"
      },
      "execution_count": 87,
      "outputs": [
        {
          "output_type": "execute_result",
          "data": {
            "text/plain": [
              "  BasisSet       CCSD      CCSDT    CCSDT_G  NN-Functional.DM21  \\\n",
              "0  cc-pVQZ -75.818767 -75.855232 -75.855232          -75.923031   \n",
              "\n",
              "   NN-Functional.DM21m  NN-Functional.DM21mc  NN-Functional.DM21mu  DFT-b3lyp  \\\n",
              "0           -75.923946            -75.929549            -75.928218 -75.868334   \n",
              "\n",
              "   DFT-M06-2X   DFT-SCAN  DFT-wB97X-V  DFT-PW6B95    DFT-pbe   DFT-pbe0  \n",
              "0  -75.875962 -75.870904   -75.921594  -76.009851 -75.723307 -75.805353  "
            ],
            "text/html": [
              "\n",
              "  <div id=\"df-3ae4234c-1040-40aa-a8f2-a6e9e97ab8e9\">\n",
              "    <div class=\"colab-df-container\">\n",
              "      <div>\n",
              "<style scoped>\n",
              "    .dataframe tbody tr th:only-of-type {\n",
              "        vertical-align: middle;\n",
              "    }\n",
              "\n",
              "    .dataframe tbody tr th {\n",
              "        vertical-align: top;\n",
              "    }\n",
              "\n",
              "    .dataframe thead th {\n",
              "        text-align: right;\n",
              "    }\n",
              "</style>\n",
              "<table border=\"1\" class=\"dataframe\">\n",
              "  <thead>\n",
              "    <tr style=\"text-align: right;\">\n",
              "      <th></th>\n",
              "      <th>BasisSet</th>\n",
              "      <th>CCSD</th>\n",
              "      <th>CCSDT</th>\n",
              "      <th>CCSDT_G</th>\n",
              "      <th>NN-Functional.DM21</th>\n",
              "      <th>NN-Functional.DM21m</th>\n",
              "      <th>NN-Functional.DM21mc</th>\n",
              "      <th>NN-Functional.DM21mu</th>\n",
              "      <th>DFT-b3lyp</th>\n",
              "      <th>DFT-M06-2X</th>\n",
              "      <th>DFT-SCAN</th>\n",
              "      <th>DFT-wB97X-V</th>\n",
              "      <th>DFT-PW6B95</th>\n",
              "      <th>DFT-pbe</th>\n",
              "      <th>DFT-pbe0</th>\n",
              "    </tr>\n",
              "  </thead>\n",
              "  <tbody>\n",
              "    <tr>\n",
              "      <th>0</th>\n",
              "      <td>cc-pVQZ</td>\n",
              "      <td>-75.818767</td>\n",
              "      <td>-75.855232</td>\n",
              "      <td>-75.855232</td>\n",
              "      <td>-75.923031</td>\n",
              "      <td>-75.923946</td>\n",
              "      <td>-75.929549</td>\n",
              "      <td>-75.928218</td>\n",
              "      <td>-75.868334</td>\n",
              "      <td>-75.875962</td>\n",
              "      <td>-75.870904</td>\n",
              "      <td>-75.921594</td>\n",
              "      <td>-76.009851</td>\n",
              "      <td>-75.723307</td>\n",
              "      <td>-75.805353</td>\n",
              "    </tr>\n",
              "  </tbody>\n",
              "</table>\n",
              "</div>\n",
              "      <button class=\"colab-df-convert\" onclick=\"convertToInteractive('df-3ae4234c-1040-40aa-a8f2-a6e9e97ab8e9')\"\n",
              "              title=\"Convert this dataframe to an interactive table.\"\n",
              "              style=\"display:none;\">\n",
              "        \n",
              "  <svg xmlns=\"http://www.w3.org/2000/svg\" height=\"24px\"viewBox=\"0 0 24 24\"\n",
              "       width=\"24px\">\n",
              "    <path d=\"M0 0h24v24H0V0z\" fill=\"none\"/>\n",
              "    <path d=\"M18.56 5.44l.94 2.06.94-2.06 2.06-.94-2.06-.94-.94-2.06-.94 2.06-2.06.94zm-11 1L8.5 8.5l.94-2.06 2.06-.94-2.06-.94L8.5 2.5l-.94 2.06-2.06.94zm10 10l.94 2.06.94-2.06 2.06-.94-2.06-.94-.94-2.06-.94 2.06-2.06.94z\"/><path d=\"M17.41 7.96l-1.37-1.37c-.4-.4-.92-.59-1.43-.59-.52 0-1.04.2-1.43.59L10.3 9.45l-7.72 7.72c-.78.78-.78 2.05 0 2.83L4 21.41c.39.39.9.59 1.41.59.51 0 1.02-.2 1.41-.59l7.78-7.78 2.81-2.81c.8-.78.8-2.07 0-2.86zM5.41 20L4 18.59l7.72-7.72 1.47 1.35L5.41 20z\"/>\n",
              "  </svg>\n",
              "      </button>\n",
              "      \n",
              "  <style>\n",
              "    .colab-df-container {\n",
              "      display:flex;\n",
              "      flex-wrap:wrap;\n",
              "      gap: 12px;\n",
              "    }\n",
              "\n",
              "    .colab-df-convert {\n",
              "      background-color: #E8F0FE;\n",
              "      border: none;\n",
              "      border-radius: 50%;\n",
              "      cursor: pointer;\n",
              "      display: none;\n",
              "      fill: #1967D2;\n",
              "      height: 32px;\n",
              "      padding: 0 0 0 0;\n",
              "      width: 32px;\n",
              "    }\n",
              "\n",
              "    .colab-df-convert:hover {\n",
              "      background-color: #E2EBFA;\n",
              "      box-shadow: 0px 1px 2px rgba(60, 64, 67, 0.3), 0px 1px 3px 1px rgba(60, 64, 67, 0.15);\n",
              "      fill: #174EA6;\n",
              "    }\n",
              "\n",
              "    [theme=dark] .colab-df-convert {\n",
              "      background-color: #3B4455;\n",
              "      fill: #D2E3FC;\n",
              "    }\n",
              "\n",
              "    [theme=dark] .colab-df-convert:hover {\n",
              "      background-color: #434B5C;\n",
              "      box-shadow: 0px 1px 3px 1px rgba(0, 0, 0, 0.15);\n",
              "      filter: drop-shadow(0px 1px 2px rgba(0, 0, 0, 0.3));\n",
              "      fill: #FFFFFF;\n",
              "    }\n",
              "  </style>\n",
              "\n",
              "      <script>\n",
              "        const buttonEl =\n",
              "          document.querySelector('#df-3ae4234c-1040-40aa-a8f2-a6e9e97ab8e9 button.colab-df-convert');\n",
              "        buttonEl.style.display =\n",
              "          google.colab.kernel.accessAllowed ? 'block' : 'none';\n",
              "\n",
              "        async function convertToInteractive(key) {\n",
              "          const element = document.querySelector('#df-3ae4234c-1040-40aa-a8f2-a6e9e97ab8e9');\n",
              "          const dataTable =\n",
              "            await google.colab.kernel.invokeFunction('convertToInteractive',\n",
              "                                                     [key], {});\n",
              "          if (!dataTable) return;\n",
              "\n",
              "          const docLinkHtml = 'Like what you see? Visit the ' +\n",
              "            '<a target=\"_blank\" href=https://colab.research.google.com/notebooks/data_table.ipynb>data table notebook</a>'\n",
              "            + ' to learn more about interactive tables.';\n",
              "          element.innerHTML = '';\n",
              "          dataTable['output_type'] = 'display_data';\n",
              "          await google.colab.output.renderOutput(dataTable, element);\n",
              "          const docLink = document.createElement('div');\n",
              "          docLink.innerHTML = docLinkHtml;\n",
              "          element.appendChild(docLink);\n",
              "        }\n",
              "      </script>\n",
              "    </div>\n",
              "  </div>\n",
              "  "
            ]
          },
          "metadata": {},
          "execution_count": 87
        }
      ]
    },
    {
      "cell_type": "code",
      "source": [
        "dfplot2.min(axis =1, numeric_only=True).min()"
      ],
      "metadata": {
        "colab": {
          "base_uri": "https://localhost:8080/"
        },
        "id": "R4rN8VVjepT4",
        "outputId": "3d25acd4-01bd-4e3a-d479-93f9239802ba"
      },
      "execution_count": 81,
      "outputs": [
        {
          "output_type": "execute_result",
          "data": {
            "text/plain": [
              "-76.00985052177592"
            ]
          },
          "metadata": {},
          "execution_count": 81
        }
      ]
    },
    {
      "cell_type": "code",
      "source": [
        "dfplot2.max(axis =1, numeric_only=True).max()"
      ],
      "metadata": {
        "colab": {
          "base_uri": "https://localhost:8080/"
        },
        "id": "vQnzioiglZq-",
        "outputId": "f59d2e21-dec7-4bda-924d-dc03ee8a4f03"
      },
      "execution_count": 82,
      "outputs": [
        {
          "output_type": "execute_result",
          "data": {
            "text/plain": [
              "-75.7233068082045"
            ]
          },
          "metadata": {},
          "execution_count": 82
        }
      ]
    },
    {
      "cell_type": "code",
      "source": [
        " from matplotlib import pyplot\n",
        "import seaborn\n",
        "\n",
        " \n",
        "\n",
        "chartsize = (18.7, 16.27)\n",
        "\n",
        "sns.set_style(\"whitegrid\")\n",
        "sns.set(font_scale=1.5)\n",
        "\n",
        "#fig, ax = pyplot.subplots(figsize=chartsize)\n",
        "#ax.set_xlim(dfplot2.min(axis =1, numeric_only=True).min(), dfplot2.max(axis =1, numeric_only=True).max() )\n",
        "sns.catplot( orient='h' ,    data=dfplot ,  col=\"BasisSet\")\n"
      ],
      "metadata": {
        "colab": {
          "base_uri": "https://localhost:8080/",
          "height": 370
        },
        "id": "GfJr-vARt8Fw",
        "outputId": "8a71ec18-346e-4292-b2d4-2876bff5fc30"
      },
      "execution_count": 83,
      "outputs": [
        {
          "output_type": "execute_result",
          "data": {
            "text/plain": [
              "<seaborn.axisgrid.FacetGrid at 0x7f94bc08d410>"
            ]
          },
          "metadata": {},
          "execution_count": 83
        },
        {
          "output_type": "display_data",
          "data": {
            "text/plain": [
              "<Figure size 360x360 with 1 Axes>"
            ],
            "image/png": "[encoded data removed]"
          },
          "metadata": {}
        }
      ]
    },
    {
      "cell_type": "code",
      "source": [
        "chartsize = (18.7, 16.27)\n",
        "\n",
        "sns.set_style(\"whitegrid\")\n",
        "sns.set(font_scale=1.5)\n",
        "\n",
        "#ax.set_xlim(dfplot2.min(axis =1, numeric_only=True).min(), dfplot2.max(axis =1, numeric_only=True).max() )\n",
        "sns.catplot( orient='h' ,    data=dfplot  )"
      ],
      "metadata": {
        "colab": {
          "base_uri": "https://localhost:8080/",
          "height": 370
        },
        "id": "jAH-QpfNvJPU",
        "outputId": "83944234-3fe9-42ad-9b82-782bcd9267ea"
      },
      "execution_count": 84,
      "outputs": [
        {
          "output_type": "execute_result",
          "data": {
            "text/plain": [
              "<seaborn.axisgrid.FacetGrid at 0x7f94bc05d210>"
            ]
          },
          "metadata": {},
          "execution_count": 84
        },
        {
          "output_type": "display_data",
          "data": {
            "text/plain": [
              "<Figure size 360x360 with 1 Axes>"
            ],
            "image/png": "[encoded data removed]"
          },
          "metadata": {}
        }
      ]
    },
    {
      "cell_type": "code",
      "source": [
        "from matplotlib import pyplot\n",
        "import seaborn\n",
        "\n",
        " \n",
        "\n",
        "chartsize = (18.7, 16.27)\n",
        "\n",
        "sns.set_style(\"whitegrid\")\n",
        "sns.set(font_scale=1.5)\n",
        "\n",
        "#fig, ax = pyplot.subplots(figsize=chartsize)\n",
        "#ax.set_xlim(dfplot2.min(axis =1, numeric_only=True).min(), dfplot2.max(axis =1, numeric_only=True).max() )\n",
        "sns.catplot( orient='h' ,    data=dfplot2 ,  col=\"BasisSet\")\n"
      ],
      "metadata": {
        "colab": {
          "base_uri": "https://localhost:8080/",
          "height": 370
        },
        "id": "k_PzVqrrajoc",
        "outputId": "1e7c28a2-9baa-42c6-935d-dcee84fbf0da"
      },
      "execution_count": 85,
      "outputs": [
        {
          "output_type": "execute_result",
          "data": {
            "text/plain": [
              "<seaborn.axisgrid.FacetGrid at 0x7f94bc0a02d0>"
            ]
          },
          "metadata": {},
          "execution_count": 85
        },
        {
          "output_type": "display_data",
          "data": {
            "text/plain": [
              "<Figure size 360x360 with 1 Axes>"
            ],
            "image/png": "[encoded data removed]"
          },
          "metadata": {}
        }
      ]
    },
    {
      "cell_type": "code",
      "source": [
        "from matplotlib import pyplot\n",
        "import seaborn\n",
        "\n",
        "sns.set_style(\"white\")\n",
        "sns.set_style(\"whitegrid\")\n",
        "\n",
        "\n",
        "\n",
        "#sns.color_palette(\"hls\", 4)\n",
        "sns.color_palette(\"viridis\", as_cmap=True)\n",
        "sns.color_palette(\"Paired\")\n",
        "\n",
        "\n",
        "chartsize = (18.7, 8.27)\n",
        "\n",
        "fig, ax = pyplot.subplots(figsize=chartsize)\n",
        "sns.set(font_scale=2)\n",
        "sns.axes_style()\n",
        "\n",
        "sns.set_style(\"darkgrid\", {\"axes.facecolor\": \".3\"})\n",
        "\n",
        "#sns.barplot( orient='h' ,    data=dfplot2)\n"
      ],
      "metadata": {
        "colab": {
          "base_uri": "https://localhost:8080/",
          "height": 515
        },
        "id": "9SB5DjnLteQC",
        "outputId": "20af2c4d-22ee-4052-9373-b2f0a10a09be"
      },
      "execution_count": 86,
      "outputs": [
        {
          "output_type": "display_data",
          "data": {
            "text/plain": [
              "<Figure size 1346.4x595.44 with 1 Axes>"
            ],
            "image/png": "[encoded data removed]"
          },
          "metadata": {}
        }
      ]
    }
  ]
}